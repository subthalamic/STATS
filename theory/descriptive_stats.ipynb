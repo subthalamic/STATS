{
  "nbformat": 4,
  "nbformat_minor": 0,
  "metadata": {
    "colab": {
      "provenance": [],
      "authorship_tag": "ABX9TyP5oCs3kufXb/vm2s4/w6HK",
      "include_colab_link": true
    },
    "kernelspec": {
      "name": "python3",
      "display_name": "Python 3"
    },
    "language_info": {
      "name": "python"
    }
  },
  "cells": [
    {
      "cell_type": "markdown",
      "metadata": {
        "id": "view-in-github",
        "colab_type": "text"
      },
      "source": [
        "<a href=\"https://colab.research.google.com/github/subthalamic/STATS/blob/main/theory/descriptive_stats.ipynb\" target=\"_parent\"><img src=\"https://colab.research.google.com/assets/colab-badge.svg\" alt=\"Open In Colab\"/></a>"
      ]
    },
    {
      "cell_type": "code",
      "execution_count": 23,
      "metadata": {
        "id": "p-8Oo6old-pX"
      },
      "outputs": [],
      "source": [
        "import numpy as np\n",
        "from sympy import *\n",
        "import matplotlib.pyplot as plt\n",
        "import statsmodels.api as sm\n",
        "import scipy.stats as stats\n",
        "import seaborn as sns\n",
        "from random import sample\n",
        "init_printing(use_latex=True)"
      ]
    },
    {
      "cell_type": "code",
      "source": [
        "np.random.seed(15)\n",
        "p = np.random.normal(100, 15, 10**6)"
      ],
      "metadata": {
        "id": "p4yjV8MpmgJ2"
      },
      "execution_count": 24,
      "outputs": []
    },
    {
      "cell_type": "code",
      "source": [
        "np.mean(p)"
      ],
      "metadata": {
        "colab": {
          "base_uri": "https://localhost:8080/",
          "height": 37
        },
        "id": "9hI7JtPasgeR",
        "outputId": "5c2235fe-a42c-4539-9328-b55893b63719"
      },
      "execution_count": 25,
      "outputs": [
        {
          "output_type": "execute_result",
          "data": {
            "text/plain": [
              "100.00286655103558"
            ],
            "text/latex": "$\\displaystyle 100.002866551036$"
          },
          "metadata": {},
          "execution_count": 25
        }
      ]
    },
    {
      "cell_type": "code",
      "source": [
        "np.std(p)"
      ],
      "metadata": {
        "colab": {
          "base_uri": "https://localhost:8080/",
          "height": 37
        },
        "id": "1d6oK2Vwso7Q",
        "outputId": "6f3533be-47ef-4372-dcaa-07a7f04ee1ca"
      },
      "execution_count": 26,
      "outputs": [
        {
          "output_type": "execute_result",
          "data": {
            "text/plain": [
              "15.01008767195834"
            ],
            "text/latex": "$\\displaystyle 15.0100876719583$"
          },
          "metadata": {},
          "execution_count": 26
        }
      ]
    },
    {
      "cell_type": "code",
      "source": [
        "plt.figure(figsize = (14,5))\n",
        "count, bins, ignored = plt.hist(p, 100, density=True)\n",
        "plt.plot(bins, 1/(np.std(p) * np.sqrt(2 * np.pi)) *\n",
        "               np.exp( - (bins - np.mean(p))**2 / (2 * np.std(p)**2)),\n",
        "         linewidth=0.5, color='r')\n",
        "plt.show()"
      ],
      "metadata": {
        "colab": {
          "base_uri": "https://localhost:8080/",
          "height": 445
        },
        "id": "F-zos7eTssVG",
        "outputId": "9777422e-eea3-4d9f-e40b-41541d430ba5"
      },
      "execution_count": 27,
      "outputs": [
        {
          "output_type": "display_data",
          "data": {
            "text/plain": [
              "<Figure size 1400x500 with 1 Axes>"
            ],
            "image/png": "[encoded data removed]"
          },
          "metadata": {}
        }
      ]
    },
    {
      "cell_type": "code",
      "source": [
        "stats.zscore(p)[39]"
      ],
      "metadata": {
        "colab": {
          "base_uri": "https://localhost:8080/",
          "height": 37
        },
        "id": "KOlHaKzEuzud",
        "outputId": "26720b78-0103-4c9c-d603-1b53803ad381"
      },
      "execution_count": 37,
      "outputs": [
        {
          "output_type": "execute_result",
          "data": {
            "text/plain": [
              "2.047330806501569"
            ],
            "text/latex": "$\\displaystyle 2.04733080650157$"
          },
          "metadata": {},
          "execution_count": 37
        }
      ]
    },
    {
      "cell_type": "code",
      "source": [
        "((p-np.mean(p))/np.std(p))[39]"
      ],
      "metadata": {
        "colab": {
          "base_uri": "https://localhost:8080/",
          "height": 37
        },
        "id": "2n63_0zpzK8E",
        "outputId": "15a9b964-1702-4935-bf0a-b2562ab5e73f"
      },
      "execution_count": 38,
      "outputs": [
        {
          "output_type": "execute_result",
          "data": {
            "text/plain": [
              "2.047330806501569"
            ],
            "text/latex": "$\\displaystyle 2.04733080650157$"
          },
          "metadata": {},
          "execution_count": 38
        }
      ]
    },
    {
      "cell_type": "code",
      "source": [
        "p[39]"
      ],
      "metadata": {
        "colab": {
          "base_uri": "https://localhost:8080/",
          "height": 37
        },
        "id": "VpeQlTtBzZ93",
        "outputId": "f75a9c33-fad0-4002-a793-408f9876c154"
      },
      "execution_count": 36,
      "outputs": [
        {
          "output_type": "execute_result",
          "data": {
            "text/plain": [
              "130.7334814501253"
            ],
            "text/latex": "$\\displaystyle 130.733481450125$"
          },
          "metadata": {},
          "execution_count": 36
        }
      ]
    },
    {
      "cell_type": "code",
      "source": [
        "stats.norm.cdf(stats.zscore(p)[39])"
      ],
      "metadata": {
        "colab": {
          "base_uri": "https://localhost:8080/",
          "height": 37
        },
        "id": "H-768kJJzhLQ",
        "outputId": "e710c5a7-5782-4b2d-e9bd-f26e763a5dc4"
      },
      "execution_count": 40,
      "outputs": [
        {
          "output_type": "execute_result",
          "data": {
            "text/plain": [
              "0.9796871924461195"
            ],
            "text/latex": "$\\displaystyle 0.979687192446119$"
          },
          "metadata": {},
          "execution_count": 40
        }
      ]
    },
    {
      "cell_type": "code",
      "source": [
        "stats.norm.ppf(0.05)"
      ],
      "metadata": {
        "colab": {
          "base_uri": "https://localhost:8080/",
          "height": 37
        },
        "id": "smJ7sUUT0a9q",
        "outputId": "b6a230c3-37ef-49ee-a038-cc0a0253cf71"
      },
      "execution_count": 41,
      "outputs": [
        {
          "output_type": "execute_result",
          "data": {
            "text/plain": [
              "-1.6448536269514729"
            ],
            "text/latex": "$\\displaystyle -1.64485362695147$"
          },
          "metadata": {},
          "execution_count": 41
        }
      ]
    },
    {
      "cell_type": "code",
      "source": [
        "stats.norm.ppf(0.95)"
      ],
      "metadata": {
        "colab": {
          "base_uri": "https://localhost:8080/",
          "height": 37
        },
        "id": "CdA9pgFd0lkQ",
        "outputId": "91aef62b-8266-4581-a25f-a552faa95f3d"
      },
      "execution_count": 42,
      "outputs": [
        {
          "output_type": "execute_result",
          "data": {
            "text/plain": [
              "1.6448536269514722"
            ],
            "text/latex": "$\\displaystyle 1.64485362695147$"
          },
          "metadata": {},
          "execution_count": 42
        }
      ]
    },
    {
      "cell_type": "code",
      "source": [
        "stats.norm.ppf(0.5)"
      ],
      "metadata": {
        "colab": {
          "base_uri": "https://localhost:8080/",
          "height": 37
        },
        "id": "xUK7LWuk0nw1",
        "outputId": "93064b56-bd78-4b36-8556-521bbdf10afe"
      },
      "execution_count": 43,
      "outputs": [
        {
          "output_type": "execute_result",
          "data": {
            "text/plain": [
              "0.0"
            ],
            "text/latex": "$\\displaystyle 0.0$"
          },
          "metadata": {},
          "execution_count": 43
        }
      ]
    },
    {
      "cell_type": "code",
      "source": [
        "stats.norm.ppf(0.99)"
      ],
      "metadata": {
        "colab": {
          "base_uri": "https://localhost:8080/",
          "height": 37
        },
        "id": "pRYhINoW0ueb",
        "outputId": "f9d43dad-e774-44c3-bcca-575b91ffbef2"
      },
      "execution_count": 45,
      "outputs": [
        {
          "output_type": "execute_result",
          "data": {
            "text/plain": [
              "2.3263478740408408"
            ],
            "text/latex": "$\\displaystyle 2.32634787404084$"
          },
          "metadata": {},
          "execution_count": 45
        }
      ]
    },
    {
      "cell_type": "code",
      "source": [
        "stats.norm.cdf(-1)"
      ],
      "metadata": {
        "colab": {
          "base_uri": "https://localhost:8080/",
          "height": 37
        },
        "id": "fguDEYQt1Ipk",
        "outputId": "83eae85b-400c-486b-b64c-3f85af24f6fc"
      },
      "execution_count": 46,
      "outputs": [
        {
          "output_type": "execute_result",
          "data": {
            "text/plain": [
              "0.15865525393145707"
            ],
            "text/latex": "$\\displaystyle 0.158655253931457$"
          },
          "metadata": {},
          "execution_count": 46
        }
      ]
    },
    {
      "cell_type": "code",
      "source": [
        "stats.norm.cdf(1)"
      ],
      "metadata": {
        "colab": {
          "base_uri": "https://localhost:8080/",
          "height": 37
        },
        "id": "NWYFETRn1TkF",
        "outputId": "2c77c8e9-da63-442d-d3b9-b16a40c954f6"
      },
      "execution_count": 47,
      "outputs": [
        {
          "output_type": "execute_result",
          "data": {
            "text/plain": [
              "0.8413447460685429"
            ],
            "text/latex": "$\\displaystyle 0.841344746068543$"
          },
          "metadata": {},
          "execution_count": 47
        }
      ]
    },
    {
      "cell_type": "code",
      "source": [
        "stats.norm.cdf(1)-stats.norm.cdf(-1)"
      ],
      "metadata": {
        "colab": {
          "base_uri": "https://localhost:8080/",
          "height": 37
        },
        "id": "JarfOmG91Vdc",
        "outputId": "e8535e1b-db66-4f04-ae4a-57a64372bb7e"
      },
      "execution_count": 48,
      "outputs": [
        {
          "output_type": "execute_result",
          "data": {
            "text/plain": [
              "0.6826894921370859"
            ],
            "text/latex": "$\\displaystyle 0.682689492137086$"
          },
          "metadata": {},
          "execution_count": 48
        }
      ]
    },
    {
      "cell_type": "code",
      "source": [
        "stats.norm.cdf(2)-stats.norm.cdf(-2)"
      ],
      "metadata": {
        "colab": {
          "base_uri": "https://localhost:8080/",
          "height": 37
        },
        "id": "fZe49wUq1aRw",
        "outputId": "3425e920-d083-4f9f-89a0-5a5c44961b56"
      },
      "execution_count": 49,
      "outputs": [
        {
          "output_type": "execute_result",
          "data": {
            "text/plain": [
              "0.9544997361036416"
            ],
            "text/latex": "$\\displaystyle 0.954499736103642$"
          },
          "metadata": {},
          "execution_count": 49
        }
      ]
    },
    {
      "cell_type": "code",
      "source": [
        "stats.norm.cdf(3)-stats.norm.cdf(-3)"
      ],
      "metadata": {
        "colab": {
          "base_uri": "https://localhost:8080/",
          "height": 37
        },
        "id": "mcntMb8g1gun",
        "outputId": "afe4abf0-1e3c-4fff-df78-b8d4e504a8aa"
      },
      "execution_count": 50,
      "outputs": [
        {
          "output_type": "execute_result",
          "data": {
            "text/plain": [
              "0.9973002039367398"
            ],
            "text/latex": "$\\displaystyle 0.99730020393674$"
          },
          "metadata": {},
          "execution_count": 50
        }
      ]
    },
    {
      "cell_type": "code",
      "source": [
        "sample(list(p), 5)"
      ],
      "metadata": {
        "colab": {
          "base_uri": "https://localhost:8080/",
          "height": 37
        },
        "id": "t-Pqi2Mh1ld_",
        "outputId": "7e55292c-1762-4772-c894-473e268d0f89"
      },
      "execution_count": 58,
      "outputs": [
        {
          "output_type": "execute_result",
          "data": {
            "text/plain": [
              "[115.91028272947301, 72.46621513030635, 95.77271806163677, 102.2940496629773, \n",
              "89.50458494873561]"
            ],
            "text/latex": "$\\displaystyle \\left[ 115.910282729473, \\  72.4662151303064, \\  95.7727180616368, \\  102.294049662977, \\  89.5045849487356\\right]$"
          },
          "metadata": {},
          "execution_count": 58
        }
      ]
    },
    {
      "cell_type": "code",
      "source": [
        "sample(list(p), 5)"
      ],
      "metadata": {
        "colab": {
          "base_uri": "https://localhost:8080/",
          "height": 37
        },
        "id": "FPGP5ei_3do_",
        "outputId": "717da117-2989-4d37-b523-c4424e6f9d39"
      },
      "execution_count": 59,
      "outputs": [
        {
          "output_type": "execute_result",
          "data": {
            "text/plain": [
              "[86.04061630063454, 123.30479742830323, 72.09923934647821, 98.46439266694674, \n",
              "101.21913672466751]"
            ],
            "text/latex": "$\\displaystyle \\left[ 86.0406163006345, \\  123.304797428303, \\  72.0992393464782, \\  98.4643926669467, \\  101.219136724668\\right]$"
          },
          "metadata": {},
          "execution_count": 59
        }
      ]
    },
    {
      "cell_type": "code",
      "source": [
        "sns.violinplot(x=p) #, inner=\"quart\")"
      ],
      "metadata": {
        "colab": {
          "base_uri": "https://localhost:8080/",
          "height": 447
        },
        "id": "0Nd4rbFa4GaI",
        "outputId": "0d87ca91-5acd-4166-cfec-f4c13e8232fa"
      },
      "execution_count": 67,
      "outputs": [
        {
          "output_type": "execute_result",
          "data": {
            "text/plain": [
              "<Axes: >"
            ]
          },
          "metadata": {},
          "execution_count": 67
        },
        {
          "output_type": "display_data",
          "data": {
            "text/plain": [
              "<Figure size 640x480 with 1 Axes>"
            ],
            "image/png": "[encoded data removed]"
          },
          "metadata": {}
        }
      ]
    },
    {
      "cell_type": "code",
      "source": [
        "stats.norm.ppf(0.25)*15 + 100"
      ],
      "metadata": {
        "colab": {
          "base_uri": "https://localhost:8080/",
          "height": 37
        },
        "id": "G0ctiyq-5tzg",
        "outputId": "9bd83ac5-f8bb-4c89-ecf4-2189b8f43cc7"
      },
      "execution_count": 64,
      "outputs": [
        {
          "output_type": "execute_result",
          "data": {
            "text/plain": [
              "89.88265374705878"
            ],
            "text/latex": "$\\displaystyle 89.8826537470588$"
          },
          "metadata": {},
          "execution_count": 64
        }
      ]
    },
    {
      "cell_type": "code",
      "source": [
        "np.quantile(p, [0,0.25,0.5,0.75,1])"
      ],
      "metadata": {
        "colab": {
          "base_uri": "https://localhost:8080/"
        },
        "id": "M0q98pku7O3L",
        "outputId": "f36a963e-2055-4087-ab4b-12d3108d01ad"
      },
      "execution_count": 65,
      "outputs": [
        {
          "output_type": "execute_result",
          "data": {
            "text/plain": [
              "array([ 24.91242224,  89.86863552, 100.00692242, 110.13783939,\n",
              "       167.25795446])"
            ]
          },
          "metadata": {},
          "execution_count": 65
        }
      ]
    },
    {
      "cell_type": "code",
      "source": [],
      "metadata": {
        "id": "zvNQgDzb78LK"
      },
      "execution_count": null,
      "outputs": []
    }
  ]
}