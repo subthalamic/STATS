{
 "cells": [
  {
   "cell_type": "code",
   "execution_count": 3,
   "metadata": {},
   "outputs": [],
   "source": [
    "import pandas as pd\n",
    "import numpy as np\n",
    "import matplotlib.pyplot as plt\n",
    "from scipy.stats import norm"
   ]
  },
  {
   "cell_type": "code",
   "execution_count": 4,
   "metadata": {},
   "outputs": [],
   "source": [
    "aer=pd.read_csv(\"aeroscan.csv\")"
   ]
  },
  {
   "cell_type": "code",
   "execution_count": 5,
   "metadata": {},
   "outputs": [
    {
     "data": {
      "text/plain": [
       "Index(['Name', 'RF1a', 'RF1b', 'RF2a', 'RF2b', 'RF3a', 'RF3b', 'HF1a', 'HF1b',\n",
       "       'HF2a', 'HF2b', 'HF3a', 'HF3b', 'RER1a', 'RER1b', 'RER2a', 'RER2b',\n",
       "       'RER3a', 'RER3b', 'Fat1a', 'Fat1b', 'Fat2a', 'Fat2b', 'Fat3a', 'Fat3b',\n",
       "       'Carb1a', 'Carb1b', 'Carb2a', 'Carb2b', 'Carb3a', 'Carb3b', 'Energy1a',\n",
       "       'Energy1b', 'Energy2a', 'Energy2b', 'Energy3a', 'Energy3b'],\n",
       "      dtype='object')"
      ]
     },
     "execution_count": 5,
     "metadata": {},
     "output_type": "execute_result"
    }
   ],
   "source": [
    "aer.columns"
   ]
  },
  {
   "cell_type": "code",
   "execution_count": 1,
   "metadata": {},
   "outputs": [
    {
     "ename": "NameError",
     "evalue": "name 'plt' is not defined",
     "output_type": "error",
     "traceback": [
      "\u001b[1;31m---------------------------------------------------------------------------\u001b[0m",
      "\u001b[1;31mNameError\u001b[0m                                 Traceback (most recent call last)",
      "Cell \u001b[1;32mIn[1], line 1\u001b[0m\n\u001b[1;32m----> 1\u001b[0m fig, ax \u001b[38;5;241m=\u001b[39m \u001b[43mplt\u001b[49m\u001b[38;5;241m.\u001b[39msubplots(nrows\u001b[38;5;241m=\u001b[39m\u001b[38;5;241m6\u001b[39m, figsize\u001b[38;5;241m=\u001b[39m(\u001b[38;5;241m14\u001b[39m,\u001b[38;5;241m1\u001b[39m))\n\u001b[0;32m      2\u001b[0m \u001b[38;5;28;01mfor\u001b[39;00m i \u001b[38;5;129;01min\u001b[39;00m \u001b[38;5;28mrange\u001b[39m(\u001b[38;5;241m6\u001b[39m):\n\u001b[0;32m      3\u001b[0m     ax[i]\u001b[38;5;241m.\u001b[39mviolinplot(aer\u001b[38;5;241m.\u001b[39miloc[:,i\u001b[38;5;241m*\u001b[39m\u001b[38;5;241m6\u001b[39m\u001b[38;5;241m+\u001b[39m\u001b[38;5;241m1\u001b[39m:(i\u001b[38;5;241m+\u001b[39m\u001b[38;5;241m1\u001b[39m)\u001b[38;5;241m*\u001b[39m\u001b[38;5;241m6\u001b[39m\u001b[38;5;241m+\u001b[39m\u001b[38;5;241m1\u001b[39m], showmeans\u001b[38;5;241m=\u001b[39m\u001b[38;5;28;01mTrue\u001b[39;00m)\n",
      "\u001b[1;31mNameError\u001b[0m: name 'plt' is not defined"
     ]
    }
   ],
   "source": [
    "fig, ax = plt.subplots(nrows=6, figsize=(14,14))\n",
    "for i in range(6):\n",
    "    ax[i].violinplot(aer.iloc[:,i*6+1:(i+1)*6+1], showmeans=True)\n",
    "    #ax[i].set_title('                            '.join(aer.columns[i*6+1:(i+1)*6+1]))\n",
    "#plt.tight_layout()\n",
    "#plt.savefig('aeroscan.png')\n",
    "plt.show()"
   ]
  },
  {
   "cell_type": "markdown",
   "metadata": {},
   "source": [
    "- [] List is a collection which is ordered and changeable. Allows duplicate members.\n",
    "- () Tuple is a collection which is ordered and unchangeable. Allows duplicate members.\n",
    "- {} Set is a collection which is unordered, unchangeable, and unindexed. No duplicate members.\n",
    "- {:} Dictionary is a collection which is ordered (Python 3.6+) and changeable. No duplicate members."
   ]
  },
  {
   "cell_type": "markdown",
   "metadata": {},
   "source": [
    "# Accessors"
   ]
  },
  {
   "cell_type": "code",
   "execution_count": 7,
   "metadata": {},
   "outputs": [
    {
     "data": {
      "text/html": [
       "<div>\n",
       "<style scoped>\n",
       "    .dataframe tbody tr th:only-of-type {\n",
       "        vertical-align: middle;\n",
       "    }\n",
       "\n",
       "    .dataframe tbody tr th {\n",
       "        vertical-align: top;\n",
       "    }\n",
       "\n",
       "    .dataframe thead th {\n",
       "        text-align: right;\n",
       "    }\n",
       "</style>\n",
       "<table border=\"1\" class=\"dataframe\">\n",
       "  <thead>\n",
       "    <tr style=\"text-align: right;\">\n",
       "      <th></th>\n",
       "      <th>Name</th>\n",
       "      <th>RF1a</th>\n",
       "      <th>RF1b</th>\n",
       "      <th>RF2a</th>\n",
       "      <th>RF2b</th>\n",
       "      <th>RF3a</th>\n",
       "      <th>RF3b</th>\n",
       "      <th>HF1a</th>\n",
       "      <th>HF1b</th>\n",
       "      <th>HF2a</th>\n",
       "      <th>...</th>\n",
       "      <th>Carb2a</th>\n",
       "      <th>Carb2b</th>\n",
       "      <th>Carb3a</th>\n",
       "      <th>Carb3b</th>\n",
       "      <th>Energy1a</th>\n",
       "      <th>Energy1b</th>\n",
       "      <th>Energy2a</th>\n",
       "      <th>Energy2b</th>\n",
       "      <th>Energy3a</th>\n",
       "      <th>Energy3b</th>\n",
       "    </tr>\n",
       "  </thead>\n",
       "  <tbody>\n",
       "    <tr>\n",
       "      <th>0</th>\n",
       "      <td>a1</td>\n",
       "      <td>43.26</td>\n",
       "      <td>34.79</td>\n",
       "      <td>38.75</td>\n",
       "      <td>36.63</td>\n",
       "      <td>42.77</td>\n",
       "      <td>36.52</td>\n",
       "      <td>130.47</td>\n",
       "      <td>139.3</td>\n",
       "      <td>132.91</td>\n",
       "      <td>...</td>\n",
       "      <td>153.75</td>\n",
       "      <td>131.87</td>\n",
       "      <td>293.6</td>\n",
       "      <td>221.07</td>\n",
       "      <td>303.82</td>\n",
       "      <td>250.43</td>\n",
       "      <td>292.23</td>\n",
       "      <td>257.61</td>\n",
       "      <td>354.84</td>\n",
       "      <td>259.75</td>\n",
       "    </tr>\n",
       "  </tbody>\n",
       "</table>\n",
       "<p>1 rows × 37 columns</p>\n",
       "</div>"
      ],
      "text/plain": [
       "  Name   RF1a   RF1b   RF2a   RF2b   RF3a   RF3b    HF1a   HF1b    HF2a  ...  \\\n",
       "0   a1  43.26  34.79  38.75  36.63  42.77  36.52  130.47  139.3  132.91  ...   \n",
       "\n",
       "   Carb2a  Carb2b  Carb3a  Carb3b  Energy1a  Energy1b  Energy2a  Energy2b  \\\n",
       "0  153.75  131.87   293.6  221.07    303.82    250.43    292.23    257.61   \n",
       "\n",
       "   Energy3a  Energy3b  \n",
       "0    354.84    259.75  \n",
       "\n",
       "[1 rows x 37 columns]"
      ]
     },
     "execution_count": 7,
     "metadata": {},
     "output_type": "execute_result"
    }
   ],
   "source": [
    "aer.head(1)"
   ]
  },
  {
   "cell_type": "markdown",
   "metadata": {},
   "source": [
    "# Native object/array accessors are column-first"
   ]
  },
  {
   "cell_type": "code",
   "execution_count": 8,
   "metadata": {},
   "outputs": [
    {
     "data": {
      "text/plain": [
       "pandas.core.series.Series"
      ]
     },
     "execution_count": 8,
     "metadata": {},
     "output_type": "execute_result"
    }
   ],
   "source": [
    "type(aer.RF1a)"
   ]
  },
  {
   "cell_type": "code",
   "execution_count": 9,
   "metadata": {},
   "outputs": [
    {
     "data": {
      "text/plain": [
       "pandas.core.series.Series"
      ]
     },
     "execution_count": 9,
     "metadata": {},
     "output_type": "execute_result"
    }
   ],
   "source": [
    "type(aer['RF1a'])"
   ]
  },
  {
   "cell_type": "code",
   "execution_count": 10,
   "metadata": {},
   "outputs": [
    {
     "data": {
      "text/plain": [
       "37.23"
      ]
     },
     "execution_count": 10,
     "metadata": {},
     "output_type": "execute_result"
    }
   ],
   "source": [
    "aer['RF1a'][1] #column, row"
   ]
  },
  {
   "cell_type": "code",
   "execution_count": 11,
   "metadata": {},
   "outputs": [
    {
     "data": {
      "text/plain": [
       "37.23"
      ]
     },
     "execution_count": 11,
     "metadata": {},
     "output_type": "execute_result"
    }
   ],
   "source": [
    "aer.RF1a[1] #column, row"
   ]
  },
  {
   "cell_type": "markdown",
   "metadata": {},
   "source": [
    "> aer[1], \n",
    "> aer[1][1]\n",
    "- invalid index error"
   ]
  },
  {
   "cell_type": "markdown",
   "metadata": {},
   "source": [
    "## *Except for slices which are row-first"
   ]
  },
  {
   "cell_type": "code",
   "execution_count": 12,
   "metadata": {},
   "outputs": [
    {
     "data": {
      "text/html": [
       "<div>\n",
       "<style scoped>\n",
       "    .dataframe tbody tr th:only-of-type {\n",
       "        vertical-align: middle;\n",
       "    }\n",
       "\n",
       "    .dataframe tbody tr th {\n",
       "        vertical-align: top;\n",
       "    }\n",
       "\n",
       "    .dataframe thead th {\n",
       "        text-align: right;\n",
       "    }\n",
       "</style>\n",
       "<table border=\"1\" class=\"dataframe\">\n",
       "  <thead>\n",
       "    <tr style=\"text-align: right;\">\n",
       "      <th></th>\n",
       "      <th>Name</th>\n",
       "      <th>RF1a</th>\n",
       "      <th>RF1b</th>\n",
       "      <th>RF2a</th>\n",
       "      <th>RF2b</th>\n",
       "      <th>RF3a</th>\n",
       "      <th>RF3b</th>\n",
       "      <th>HF1a</th>\n",
       "      <th>HF1b</th>\n",
       "      <th>HF2a</th>\n",
       "      <th>...</th>\n",
       "      <th>Carb2a</th>\n",
       "      <th>Carb2b</th>\n",
       "      <th>Carb3a</th>\n",
       "      <th>Carb3b</th>\n",
       "      <th>Energy1a</th>\n",
       "      <th>Energy1b</th>\n",
       "      <th>Energy2a</th>\n",
       "      <th>Energy2b</th>\n",
       "      <th>Energy3a</th>\n",
       "      <th>Energy3b</th>\n",
       "    </tr>\n",
       "  </thead>\n",
       "  <tbody>\n",
       "    <tr>\n",
       "      <th>0</th>\n",
       "      <td>a1</td>\n",
       "      <td>43.26</td>\n",
       "      <td>34.79</td>\n",
       "      <td>38.75</td>\n",
       "      <td>36.63</td>\n",
       "      <td>42.77</td>\n",
       "      <td>36.52</td>\n",
       "      <td>130.47</td>\n",
       "      <td>139.30</td>\n",
       "      <td>132.91</td>\n",
       "      <td>...</td>\n",
       "      <td>153.75</td>\n",
       "      <td>131.87</td>\n",
       "      <td>293.60</td>\n",
       "      <td>221.07</td>\n",
       "      <td>303.82</td>\n",
       "      <td>250.43</td>\n",
       "      <td>292.23</td>\n",
       "      <td>257.61</td>\n",
       "      <td>354.84</td>\n",
       "      <td>259.75</td>\n",
       "    </tr>\n",
       "    <tr>\n",
       "      <th>1</th>\n",
       "      <td>a2</td>\n",
       "      <td>37.23</td>\n",
       "      <td>38.48</td>\n",
       "      <td>37.74</td>\n",
       "      <td>35.58</td>\n",
       "      <td>32.24</td>\n",
       "      <td>30.16</td>\n",
       "      <td>156.08</td>\n",
       "      <td>138.00</td>\n",
       "      <td>150.80</td>\n",
       "      <td>...</td>\n",
       "      <td>377.49</td>\n",
       "      <td>246.75</td>\n",
       "      <td>421.60</td>\n",
       "      <td>193.17</td>\n",
       "      <td>409.17</td>\n",
       "      <td>312.02</td>\n",
       "      <td>377.49</td>\n",
       "      <td>246.75</td>\n",
       "      <td>421.60</td>\n",
       "      <td>295.56</td>\n",
       "    </tr>\n",
       "    <tr>\n",
       "      <th>2</th>\n",
       "      <td>a3</td>\n",
       "      <td>32.18</td>\n",
       "      <td>20.69</td>\n",
       "      <td>33.83</td>\n",
       "      <td>19.58</td>\n",
       "      <td>37.64</td>\n",
       "      <td>20.25</td>\n",
       "      <td>160.77</td>\n",
       "      <td>142.38</td>\n",
       "      <td>167.83</td>\n",
       "      <td>...</td>\n",
       "      <td>272.76</td>\n",
       "      <td>310.30</td>\n",
       "      <td>304.53</td>\n",
       "      <td>325.40</td>\n",
       "      <td>295.49</td>\n",
       "      <td>312.11</td>\n",
       "      <td>272.76</td>\n",
       "      <td>310.30</td>\n",
       "      <td>304.53</td>\n",
       "      <td>325.40</td>\n",
       "    </tr>\n",
       "  </tbody>\n",
       "</table>\n",
       "<p>3 rows × 37 columns</p>\n",
       "</div>"
      ],
      "text/plain": [
       "  Name   RF1a   RF1b   RF2a   RF2b   RF3a   RF3b    HF1a    HF1b    HF2a  ...  \\\n",
       "0   a1  43.26  34.79  38.75  36.63  42.77  36.52  130.47  139.30  132.91  ...   \n",
       "1   a2  37.23  38.48  37.74  35.58  32.24  30.16  156.08  138.00  150.80  ...   \n",
       "2   a3  32.18  20.69  33.83  19.58  37.64  20.25  160.77  142.38  167.83  ...   \n",
       "\n",
       "   Carb2a  Carb2b  Carb3a  Carb3b  Energy1a  Energy1b  Energy2a  Energy2b  \\\n",
       "0  153.75  131.87  293.60  221.07    303.82    250.43    292.23    257.61   \n",
       "1  377.49  246.75  421.60  193.17    409.17    312.02    377.49    246.75   \n",
       "2  272.76  310.30  304.53  325.40    295.49    312.11    272.76    310.30   \n",
       "\n",
       "   Energy3a  Energy3b  \n",
       "0    354.84    259.75  \n",
       "1    421.60    295.56  \n",
       "2    304.53    325.40  \n",
       "\n",
       "[3 rows x 37 columns]"
      ]
     },
     "execution_count": 12,
     "metadata": {},
     "output_type": "execute_result"
    }
   ],
   "source": [
    "aer[:3]    #first 3 rows, not columns"
   ]
  },
  {
   "cell_type": "code",
   "execution_count": 13,
   "metadata": {},
   "outputs": [
    {
     "data": {
      "text/plain": [
       "0    a1\n",
       "1    a2\n",
       "2    a3\n",
       "Name: Name, dtype: object"
      ]
     },
     "execution_count": 13,
     "metadata": {},
     "output_type": "execute_result"
    }
   ],
   "source": [
    "aer[:3]['Name']   #first 3 rows, ID column, the slice changes the native accessor's order into .loc order"
   ]
  },
  {
   "cell_type": "code",
   "execution_count": 15,
   "metadata": {},
   "outputs": [
    {
     "data": {
      "text/plain": [
       "0    a1\n",
       "1    a2\n",
       "2    a3\n",
       "Name: Name, dtype: object"
      ]
     },
     "execution_count": 15,
     "metadata": {},
     "output_type": "execute_result"
    }
   ],
   "source": [
    "aer['Name'][:3]   #this is the same in the array specific column-first call"
   ]
  },
  {
   "cell_type": "markdown",
   "metadata": {},
   "source": [
    "# .loc accessor is row-first"
   ]
  },
  {
   "cell_type": "code",
   "execution_count": 11,
   "metadata": {},
   "outputs": [
    {
     "data": {
      "text/plain": [
       "pandas.core.series.Series"
      ]
     },
     "execution_count": 11,
     "metadata": {},
     "output_type": "execute_result"
    }
   ],
   "source": [
    "type(aer.loc[1])"
   ]
  },
  {
   "cell_type": "code",
   "execution_count": 10,
   "metadata": {},
   "outputs": [
    {
     "data": {
      "text/plain": [
       "37.23"
      ]
     },
     "execution_count": 10,
     "metadata": {},
     "output_type": "execute_result"
    }
   ],
   "source": [
    "aer.loc[1, 'RF1a'] #row, column"
   ]
  },
  {
   "cell_type": "markdown",
   "metadata": {},
   "source": [
    "> aer.loc['RF1a'], aer.loc[1, 1]\n",
    "- invalid index error"
   ]
  },
  {
   "cell_type": "markdown",
   "metadata": {},
   "source": [
    "1) .loc[0:10,:] will select entries 0,...,10\n",
    "2) .iloc[0:10,:] will select entries 0,...,9"
   ]
  },
  {
   "cell_type": "markdown",
   "metadata": {},
   "source": [
    "Additional selectors: .at, .iat (faster for single values), .get['col'].get['row']"
   ]
  },
  {
   "cell_type": "code",
   "execution_count": 34,
   "metadata": {},
   "outputs": [
    {
     "data": {
      "text/html": [
       "<div>\n",
       "<style scoped>\n",
       "    .dataframe tbody tr th:only-of-type {\n",
       "        vertical-align: middle;\n",
       "    }\n",
       "\n",
       "    .dataframe tbody tr th {\n",
       "        vertical-align: top;\n",
       "    }\n",
       "\n",
       "    .dataframe thead th {\n",
       "        text-align: right;\n",
       "    }\n",
       "</style>\n",
       "<table border=\"1\" class=\"dataframe\">\n",
       "  <thead>\n",
       "    <tr style=\"text-align: right;\">\n",
       "      <th></th>\n",
       "      <th>RF1a</th>\n",
       "      <th>RF1b</th>\n",
       "      <th>RF2a</th>\n",
       "      <th>RF2b</th>\n",
       "      <th>RF3a</th>\n",
       "      <th>RF3b</th>\n",
       "      <th>HF1a</th>\n",
       "      <th>HF1b</th>\n",
       "      <th>HF2a</th>\n",
       "      <th>HF2b</th>\n",
       "      <th>...</th>\n",
       "      <th>Carb2a</th>\n",
       "      <th>Carb2b</th>\n",
       "      <th>Carb3a</th>\n",
       "      <th>Carb3b</th>\n",
       "      <th>Energy1a</th>\n",
       "      <th>Energy1b</th>\n",
       "      <th>Energy2a</th>\n",
       "      <th>Energy2b</th>\n",
       "      <th>Energy3a</th>\n",
       "      <th>Energy3b</th>\n",
       "    </tr>\n",
       "    <tr>\n",
       "      <th>Name</th>\n",
       "      <th></th>\n",
       "      <th></th>\n",
       "      <th></th>\n",
       "      <th></th>\n",
       "      <th></th>\n",
       "      <th></th>\n",
       "      <th></th>\n",
       "      <th></th>\n",
       "      <th></th>\n",
       "      <th></th>\n",
       "      <th></th>\n",
       "      <th></th>\n",
       "      <th></th>\n",
       "      <th></th>\n",
       "      <th></th>\n",
       "      <th></th>\n",
       "      <th></th>\n",
       "      <th></th>\n",
       "      <th></th>\n",
       "      <th></th>\n",
       "      <th></th>\n",
       "    </tr>\n",
       "  </thead>\n",
       "  <tbody>\n",
       "    <tr>\n",
       "      <th>a1</th>\n",
       "      <td>43.26</td>\n",
       "      <td>34.79</td>\n",
       "      <td>38.75</td>\n",
       "      <td>36.63</td>\n",
       "      <td>42.77</td>\n",
       "      <td>36.52</td>\n",
       "      <td>130.47</td>\n",
       "      <td>139.3</td>\n",
       "      <td>132.91</td>\n",
       "      <td>142.35</td>\n",
       "      <td>...</td>\n",
       "      <td>153.75</td>\n",
       "      <td>131.87</td>\n",
       "      <td>293.6</td>\n",
       "      <td>221.07</td>\n",
       "      <td>303.82</td>\n",
       "      <td>250.43</td>\n",
       "      <td>292.23</td>\n",
       "      <td>257.61</td>\n",
       "      <td>354.84</td>\n",
       "      <td>259.75</td>\n",
       "    </tr>\n",
       "  </tbody>\n",
       "</table>\n",
       "<p>1 rows × 36 columns</p>\n",
       "</div>"
      ],
      "text/plain": [
       "       RF1a   RF1b   RF2a   RF2b   RF3a   RF3b    HF1a   HF1b    HF2a    HF2b  \\\n",
       "Name                                                                            \n",
       "a1    43.26  34.79  38.75  36.63  42.77  36.52  130.47  139.3  132.91  142.35   \n",
       "\n",
       "      ...  Carb2a  Carb2b  Carb3a  Carb3b  Energy1a  Energy1b  Energy2a  \\\n",
       "Name  ...                                                                 \n",
       "a1    ...  153.75  131.87   293.6  221.07    303.82    250.43    292.23   \n",
       "\n",
       "      Energy2b  Energy3a  Energy3b  \n",
       "Name                                \n",
       "a1      257.61    354.84    259.75  \n",
       "\n",
       "[1 rows x 36 columns]"
      ]
     },
     "execution_count": 34,
     "metadata": {},
     "output_type": "execute_result"
    }
   ],
   "source": [
    "aer = aer.set_index('Name')  # using drop=False you can keep the column used as index\n",
    "aer.head(1)"
   ]
  },
  {
   "cell_type": "markdown",
   "metadata": {},
   "source": [
    "# All label calling combinations"
   ]
  },
  {
   "cell_type": "code",
   "execution_count": 14,
   "metadata": {},
   "outputs": [
    {
     "data": {
      "text/plain": [
       "43.26"
      ]
     },
     "execution_count": 14,
     "metadata": {},
     "output_type": "execute_result"
    }
   ],
   "source": [
    "aer.RF1a.a1"
   ]
  },
  {
   "cell_type": "code",
   "execution_count": 18,
   "metadata": {},
   "outputs": [
    {
     "data": {
      "text/plain": [
       "43.26"
      ]
     },
     "execution_count": 18,
     "metadata": {},
     "output_type": "execute_result"
    }
   ],
   "source": [
    "aer['RF1a']['a1']"
   ]
  },
  {
   "cell_type": "code",
   "execution_count": 19,
   "metadata": {},
   "outputs": [
    {
     "data": {
      "text/plain": [
       "43.26"
      ]
     },
     "execution_count": 19,
     "metadata": {},
     "output_type": "execute_result"
    }
   ],
   "source": [
    "aer.RF1a['a1']"
   ]
  },
  {
   "cell_type": "code",
   "execution_count": 17,
   "metadata": {},
   "outputs": [
    {
     "data": {
      "text/plain": [
       "43.26"
      ]
     },
     "execution_count": 17,
     "metadata": {},
     "output_type": "execute_result"
    }
   ],
   "source": [
    "aer['RF1a'].a1"
   ]
  },
  {
   "cell_type": "markdown",
   "metadata": {},
   "source": [
    "# Indices still work, but only for rows, and only for native accessors"
   ]
  },
  {
   "cell_type": "code",
   "execution_count": 20,
   "metadata": {},
   "outputs": [
    {
     "data": {
      "text/plain": [
       "43.26"
      ]
     },
     "execution_count": 20,
     "metadata": {},
     "output_type": "execute_result"
    }
   ],
   "source": [
    "aer.RF1a[0]"
   ]
  },
  {
   "cell_type": "code",
   "execution_count": 21,
   "metadata": {},
   "outputs": [
    {
     "data": {
      "text/plain": [
       "43.26"
      ]
     },
     "execution_count": 21,
     "metadata": {},
     "output_type": "execute_result"
    }
   ],
   "source": [
    "aer['RF1a'][0]"
   ]
  },
  {
   "cell_type": "markdown",
   "metadata": {},
   "source": [
    "> aer['a1'], aer.a1, aer[1]\n",
    "- directly calling rows does not work\n",
    "\n",
    "> aer[1][\"a1\"], aer[1].a1\n",
    "- columns are exclusively called by labels, rows are not, even if they have labels"
   ]
  },
  {
   "cell_type": "code",
   "execution_count": 37,
   "metadata": {},
   "outputs": [
    {
     "data": {
      "text/plain": [
       "43.26"
      ]
     },
     "execution_count": 37,
     "metadata": {},
     "output_type": "execute_result"
    }
   ],
   "source": [
    "aer.loc['a1','RF1a']"
   ]
  },
  {
   "cell_type": "markdown",
   "metadata": {},
   "source": [
    "> aer.loc[1,'RF1a']\n",
    "- calling rows by index does not work anymore since indices have labels"
   ]
  },
  {
   "cell_type": "code",
   "execution_count": null,
   "metadata": {},
   "outputs": [],
   "source": []
  }
 ],
 "metadata": {
  "kernelspec": {
   "display_name": "venvstats",
   "language": "python",
   "name": "venvstats"
  },
  "language_info": {
   "codemirror_mode": {
    "name": "ipython",
    "version": 3
   },
   "file_extension": ".py",
   "mimetype": "text/x-python",
   "name": "python",
   "nbconvert_exporter": "python",
   "pygments_lexer": "ipython3",
   "version": "3.9.13"
  }
 },
 "nbformat": 4,
 "nbformat_minor": 4
}
