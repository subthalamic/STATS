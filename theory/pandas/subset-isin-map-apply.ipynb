{
 "cells": [
  {
   "cell_type": "code",
   "execution_count": 1,
   "metadata": {},
   "outputs": [],
   "source": [
    "import pandas as pd\n",
    "import numpy as np\n",
    "import matplotlib.pyplot as plt\n",
    "from scipy.stats import norm"
   ]
  },
  {
   "cell_type": "code",
   "execution_count": 6,
   "metadata": {},
   "outputs": [],
   "source": [
    "m=pd.read_csv(\"measurements.csv\")"
   ]
  },
  {
   "cell_type": "code",
   "execution_count": 7,
   "metadata": {},
   "outputs": [
    {
     "data": {
      "text/html": [
       "<div>\n",
       "<style scoped>\n",
       "    .dataframe tbody tr th:only-of-type {\n",
       "        vertical-align: middle;\n",
       "    }\n",
       "\n",
       "    .dataframe tbody tr th {\n",
       "        vertical-align: top;\n",
       "    }\n",
       "\n",
       "    .dataframe thead th {\n",
       "        text-align: right;\n",
       "    }\n",
       "</style>\n",
       "<table border=\"1\" class=\"dataframe\">\n",
       "  <thead>\n",
       "    <tr style=\"text-align: right;\">\n",
       "      <th></th>\n",
       "      <th>ID</th>\n",
       "      <th>group</th>\n",
       "      <th>sex</th>\n",
       "      <th>birth_year</th>\n",
       "      <th>chol_init</th>\n",
       "      <th>chol_final</th>\n",
       "      <th>trig_init</th>\n",
       "      <th>trig_final</th>\n",
       "      <th>weight_init</th>\n",
       "      <th>weight_final</th>\n",
       "      <th>...</th>\n",
       "      <th>hip_perimeter_diff</th>\n",
       "      <th>BMI_init</th>\n",
       "      <th>BMI_final</th>\n",
       "      <th>BMI_diff</th>\n",
       "      <th>tricipital_fold_final</th>\n",
       "      <th>tricipital_fold_init</th>\n",
       "      <th>abdominal_fold_final</th>\n",
       "      <th>abdominal_fold_init</th>\n",
       "      <th>subscapular_fold_final</th>\n",
       "      <th>subscapular_fold_init</th>\n",
       "    </tr>\n",
       "  </thead>\n",
       "  <tbody>\n",
       "    <tr>\n",
       "      <th>0</th>\n",
       "      <td>t1</td>\n",
       "      <td>Test</td>\n",
       "      <td>f</td>\n",
       "      <td>2010.0</td>\n",
       "      <td>183.0</td>\n",
       "      <td>177.0</td>\n",
       "      <td>74.0</td>\n",
       "      <td>68.0</td>\n",
       "      <td>69.5</td>\n",
       "      <td>69.0</td>\n",
       "      <td>...</td>\n",
       "      <td>-1</td>\n",
       "      <td>27.840090</td>\n",
       "      <td>25.039919</td>\n",
       "      <td>-2.800171</td>\n",
       "      <td>23.0</td>\n",
       "      <td>19.0</td>\n",
       "      <td>19.0</td>\n",
       "      <td>19.0</td>\n",
       "      <td>10.0</td>\n",
       "      <td>10.0</td>\n",
       "    </tr>\n",
       "    <tr>\n",
       "      <th>1</th>\n",
       "      <td>t2</td>\n",
       "      <td>Test</td>\n",
       "      <td>m</td>\n",
       "      <td>2010.0</td>\n",
       "      <td>185.0</td>\n",
       "      <td>179.0</td>\n",
       "      <td>88.0</td>\n",
       "      <td>81.0</td>\n",
       "      <td>70.0</td>\n",
       "      <td>71.9</td>\n",
       "      <td>...</td>\n",
       "      <td>-2</td>\n",
       "      <td>28.398718</td>\n",
       "      <td>25.780774</td>\n",
       "      <td>-2.617944</td>\n",
       "      <td>23.0</td>\n",
       "      <td>23.0</td>\n",
       "      <td>40.0</td>\n",
       "      <td>42.0</td>\n",
       "      <td>20.0</td>\n",
       "      <td>17.0</td>\n",
       "    </tr>\n",
       "    <tr>\n",
       "      <th>2</th>\n",
       "      <td>t3</td>\n",
       "      <td>Test</td>\n",
       "      <td>f</td>\n",
       "      <td>2010.0</td>\n",
       "      <td>185.0</td>\n",
       "      <td>180.0</td>\n",
       "      <td>85.0</td>\n",
       "      <td>74.0</td>\n",
       "      <td>66.8</td>\n",
       "      <td>74.5</td>\n",
       "      <td>...</td>\n",
       "      <td>3</td>\n",
       "      <td>27.449047</td>\n",
       "      <td>26.084521</td>\n",
       "      <td>-1.364526</td>\n",
       "      <td>11.0</td>\n",
       "      <td>20.0</td>\n",
       "      <td>26.0</td>\n",
       "      <td>20.0</td>\n",
       "      <td>22.0</td>\n",
       "      <td>20.0</td>\n",
       "    </tr>\n",
       "  </tbody>\n",
       "</table>\n",
       "<p>3 rows × 38 columns</p>\n",
       "</div>"
      ],
      "text/plain": [
       "   ID group sex  birth_year  chol_init  chol_final  trig_init  trig_final  \\\n",
       "0  t1  Test   f      2010.0      183.0       177.0       74.0        68.0   \n",
       "1  t2  Test   m      2010.0      185.0       179.0       88.0        81.0   \n",
       "2  t3  Test   f      2010.0      185.0       180.0       85.0        74.0   \n",
       "\n",
       "   weight_init  weight_final  ...  hip_perimeter_diff   BMI_init  BMI_final  \\\n",
       "0         69.5          69.0  ...                  -1  27.840090  25.039919   \n",
       "1         70.0          71.9  ...                  -2  28.398718  25.780774   \n",
       "2         66.8          74.5  ...                   3  27.449047  26.084521   \n",
       "\n",
       "   BMI_diff  tricipital_fold_final  tricipital_fold_init  \\\n",
       "0 -2.800171                   23.0                  19.0   \n",
       "1 -2.617944                   23.0                  23.0   \n",
       "2 -1.364526                   11.0                  20.0   \n",
       "\n",
       "   abdominal_fold_final  abdominal_fold_init  subscapular_fold_final  \\\n",
       "0                  19.0                 19.0                    10.0   \n",
       "1                  40.0                 42.0                    20.0   \n",
       "2                  26.0                 20.0                    22.0   \n",
       "\n",
       "   subscapular_fold_init  \n",
       "0                   10.0  \n",
       "1                   17.0  \n",
       "2                   20.0  \n",
       "\n",
       "[3 rows x 38 columns]"
      ]
     },
     "execution_count": 7,
     "metadata": {},
     "output_type": "execute_result"
    }
   ],
   "source": [
    "m.head(3)"
   ]
  },
  {
   "cell_type": "code",
   "execution_count": 11,
   "metadata": {},
   "outputs": [
    {
     "data": {
      "text/plain": [
       "pandas.core.series.Series"
      ]
     },
     "execution_count": 11,
     "metadata": {},
     "output_type": "execute_result"
    }
   ],
   "source": [
    "type(m.sex=='f')"
   ]
  },
  {
   "cell_type": "code",
   "execution_count": 10,
   "metadata": {},
   "outputs": [
    {
     "data": {
      "text/plain": [
       "list"
      ]
     },
     "execution_count": 10,
     "metadata": {},
     "output_type": "execute_result"
    }
   ],
   "source": [
    "type([m.sex=='f'])"
   ]
  },
  {
   "cell_type": "code",
   "execution_count": 32,
   "metadata": {},
   "outputs": [
    {
     "data": {
      "text/plain": [
       "t1    50\n",
       "t2    30\n",
       "Name: ID, dtype: int64"
      ]
     },
     "execution_count": 32,
     "metadata": {},
     "output_type": "execute_result"
    }
   ],
   "source": [
    "m.loc[(m.sex=='f').astype('int'),'ID'].value_counts()   #literraly selects indices 0 or 1, only boolean filters"
   ]
  },
  {
   "cell_type": "code",
   "execution_count": 31,
   "metadata": {},
   "outputs": [
    {
     "data": {
      "text/plain": [
       "(30,)"
      ]
     },
     "execution_count": 31,
     "metadata": {},
     "output_type": "execute_result"
    }
   ],
   "source": [
    "m.loc[m.sex=='f', 'ID'].shape"
   ]
  },
  {
   "cell_type": "code",
   "execution_count": 40,
   "metadata": {},
   "outputs": [
    {
     "data": {
      "text/plain": [
       "array(['t1', 't3', 't4', 't8', 't10', 't11', 't12', 't14', 't16', 't17',\n",
       "       't21', 't22', 't29', 't30', 't35', 't40', 'c5', 'c8', 'c11', 'c12',\n",
       "       'c16', 'c18', 'c19', 'c22', 'c24', 'c26', 'c32', 'c33', 'c34',\n",
       "       'c37'], dtype=object)"
      ]
     },
     "execution_count": 40,
     "metadata": {},
     "output_type": "execute_result"
    }
   ],
   "source": [
    "m.ID[m.sex=='f'].values"
   ]
  },
  {
   "cell_type": "code",
   "execution_count": 155,
   "metadata": {},
   "outputs": [
    {
     "data": {
      "text/plain": [
       "Int64Index([ 0,  2,  3,  7,  9, 10, 11, 13, 15, 16, 20, 21, 28, 29, 34, 39, 44,\n",
       "            47, 50, 51, 55, 57, 58, 61, 63, 65, 71, 72, 73, 76],\n",
       "           dtype='int64')"
      ]
     },
     "execution_count": 155,
     "metadata": {},
     "output_type": "execute_result"
    }
   ],
   "source": [
    "m.ID[m.sex=='f'].index"
   ]
  },
  {
   "cell_type": "code",
   "execution_count": 157,
   "metadata": {},
   "outputs": [
    {
     "data": {
      "text/plain": [
       "17"
      ]
     },
     "execution_count": 157,
     "metadata": {},
     "output_type": "execute_result"
    }
   ],
   "source": [
    "m.ID[m.ID=='t18'].index[0]"
   ]
  },
  {
   "cell_type": "code",
   "execution_count": 80,
   "metadata": {},
   "outputs": [
    {
     "data": {
      "text/html": [
       "<div>\n",
       "<style scoped>\n",
       "    .dataframe tbody tr th:only-of-type {\n",
       "        vertical-align: middle;\n",
       "    }\n",
       "\n",
       "    .dataframe tbody tr th {\n",
       "        vertical-align: top;\n",
       "    }\n",
       "\n",
       "    .dataframe thead th {\n",
       "        text-align: right;\n",
       "    }\n",
       "</style>\n",
       "<table border=\"1\" class=\"dataframe\">\n",
       "  <thead>\n",
       "    <tr style=\"text-align: right;\">\n",
       "      <th></th>\n",
       "      <th>count</th>\n",
       "      <th>mean</th>\n",
       "      <th>std</th>\n",
       "      <th>min</th>\n",
       "      <th>25%</th>\n",
       "      <th>50%</th>\n",
       "      <th>75%</th>\n",
       "      <th>max</th>\n",
       "    </tr>\n",
       "    <tr>\n",
       "      <th>sex</th>\n",
       "      <th></th>\n",
       "      <th></th>\n",
       "      <th></th>\n",
       "      <th></th>\n",
       "      <th></th>\n",
       "      <th></th>\n",
       "      <th></th>\n",
       "      <th></th>\n",
       "    </tr>\n",
       "  </thead>\n",
       "  <tbody>\n",
       "    <tr>\n",
       "      <th>f</th>\n",
       "      <td>30.0</td>\n",
       "      <td>27.857184</td>\n",
       "      <td>3.084453</td>\n",
       "      <td>21.490184</td>\n",
       "      <td>26.395669</td>\n",
       "      <td>27.622604</td>\n",
       "      <td>29.085762</td>\n",
       "      <td>34.866892</td>\n",
       "    </tr>\n",
       "    <tr>\n",
       "      <th>m</th>\n",
       "      <td>50.0</td>\n",
       "      <td>27.773745</td>\n",
       "      <td>2.822594</td>\n",
       "      <td>21.980992</td>\n",
       "      <td>25.603939</td>\n",
       "      <td>27.815259</td>\n",
       "      <td>29.658089</td>\n",
       "      <td>35.911111</td>\n",
       "    </tr>\n",
       "  </tbody>\n",
       "</table>\n",
       "</div>"
      ],
      "text/plain": [
       "     count       mean       std        min        25%        50%        75%  \\\n",
       "sex                                                                           \n",
       "f     30.0  27.857184  3.084453  21.490184  26.395669  27.622604  29.085762   \n",
       "m     50.0  27.773745  2.822594  21.980992  25.603939  27.815259  29.658089   \n",
       "\n",
       "           max  \n",
       "sex             \n",
       "f    34.866892  \n",
       "m    35.911111  "
      ]
     },
     "execution_count": 80,
     "metadata": {},
     "output_type": "execute_result"
    }
   ],
   "source": [
    "m.groupby('sex').BMI_init.describe()"
   ]
  },
  {
   "cell_type": "code",
   "execution_count": 98,
   "metadata": {},
   "outputs": [
    {
     "data": {
      "text/html": [
       "<div>\n",
       "<style scoped>\n",
       "    .dataframe tbody tr th:only-of-type {\n",
       "        vertical-align: middle;\n",
       "    }\n",
       "\n",
       "    .dataframe tbody tr th {\n",
       "        vertical-align: top;\n",
       "    }\n",
       "\n",
       "    .dataframe thead tr th {\n",
       "        text-align: left;\n",
       "    }\n",
       "\n",
       "    .dataframe thead tr:last-of-type th {\n",
       "        text-align: right;\n",
       "    }\n",
       "</style>\n",
       "<table border=\"1\" class=\"dataframe\">\n",
       "  <thead>\n",
       "    <tr>\n",
       "      <th></th>\n",
       "      <th colspan=\"8\" halign=\"left\">chol_init</th>\n",
       "      <th colspan=\"2\" halign=\"left\">chol_final</th>\n",
       "      <th>...</th>\n",
       "      <th colspan=\"2\" halign=\"left\">subscapular_fold_final</th>\n",
       "      <th colspan=\"8\" halign=\"left\">subscapular_fold_init</th>\n",
       "    </tr>\n",
       "    <tr>\n",
       "      <th></th>\n",
       "      <th>count</th>\n",
       "      <th>mean</th>\n",
       "      <th>std</th>\n",
       "      <th>min</th>\n",
       "      <th>25%</th>\n",
       "      <th>50%</th>\n",
       "      <th>75%</th>\n",
       "      <th>max</th>\n",
       "      <th>count</th>\n",
       "      <th>mean</th>\n",
       "      <th>...</th>\n",
       "      <th>75%</th>\n",
       "      <th>max</th>\n",
       "      <th>count</th>\n",
       "      <th>mean</th>\n",
       "      <th>std</th>\n",
       "      <th>min</th>\n",
       "      <th>25%</th>\n",
       "      <th>50%</th>\n",
       "      <th>75%</th>\n",
       "      <th>max</th>\n",
       "    </tr>\n",
       "    <tr>\n",
       "      <th>birth_year</th>\n",
       "      <th></th>\n",
       "      <th></th>\n",
       "      <th></th>\n",
       "      <th></th>\n",
       "      <th></th>\n",
       "      <th></th>\n",
       "      <th></th>\n",
       "      <th></th>\n",
       "      <th></th>\n",
       "      <th></th>\n",
       "      <th></th>\n",
       "      <th></th>\n",
       "      <th></th>\n",
       "      <th></th>\n",
       "      <th></th>\n",
       "      <th></th>\n",
       "      <th></th>\n",
       "      <th></th>\n",
       "      <th></th>\n",
       "      <th></th>\n",
       "      <th></th>\n",
       "    </tr>\n",
       "  </thead>\n",
       "  <tbody>\n",
       "    <tr>\n",
       "      <th>2009.0</th>\n",
       "      <td>4.0</td>\n",
       "      <td>180.500000</td>\n",
       "      <td>7.047458</td>\n",
       "      <td>174.0</td>\n",
       "      <td>174.75</td>\n",
       "      <td>180.0</td>\n",
       "      <td>185.75</td>\n",
       "      <td>188.0</td>\n",
       "      <td>4.0</td>\n",
       "      <td>174.750000</td>\n",
       "      <td>...</td>\n",
       "      <td>7.60</td>\n",
       "      <td>28.0</td>\n",
       "      <td>4.0</td>\n",
       "      <td>15.750000</td>\n",
       "      <td>10.996211</td>\n",
       "      <td>3.0</td>\n",
       "      <td>9.0</td>\n",
       "      <td>16.0</td>\n",
       "      <td>22.75</td>\n",
       "      <td>28.0</td>\n",
       "    </tr>\n",
       "    <tr>\n",
       "      <th>2010.0</th>\n",
       "      <td>18.0</td>\n",
       "      <td>177.111111</td>\n",
       "      <td>8.115989</td>\n",
       "      <td>163.0</td>\n",
       "      <td>174.00</td>\n",
       "      <td>178.5</td>\n",
       "      <td>183.00</td>\n",
       "      <td>188.0</td>\n",
       "      <td>18.0</td>\n",
       "      <td>171.666667</td>\n",
       "      <td>...</td>\n",
       "      <td>29.75</td>\n",
       "      <td>48.0</td>\n",
       "      <td>18.0</td>\n",
       "      <td>26.388889</td>\n",
       "      <td>12.219266</td>\n",
       "      <td>7.0</td>\n",
       "      <td>20.0</td>\n",
       "      <td>25.5</td>\n",
       "      <td>30.00</td>\n",
       "      <td>60.0</td>\n",
       "    </tr>\n",
       "    <tr>\n",
       "      <th>2011.0</th>\n",
       "      <td>18.0</td>\n",
       "      <td>180.388889</td>\n",
       "      <td>7.013759</td>\n",
       "      <td>163.0</td>\n",
       "      <td>176.50</td>\n",
       "      <td>181.5</td>\n",
       "      <td>186.00</td>\n",
       "      <td>188.0</td>\n",
       "      <td>18.0</td>\n",
       "      <td>174.166667</td>\n",
       "      <td>...</td>\n",
       "      <td>30.00</td>\n",
       "      <td>40.0</td>\n",
       "      <td>18.0</td>\n",
       "      <td>20.222222</td>\n",
       "      <td>11.295786</td>\n",
       "      <td>1.0</td>\n",
       "      <td>10.5</td>\n",
       "      <td>21.0</td>\n",
       "      <td>30.00</td>\n",
       "      <td>40.0</td>\n",
       "    </tr>\n",
       "  </tbody>\n",
       "</table>\n",
       "<p>3 rows × 272 columns</p>\n",
       "</div>"
      ],
      "text/plain": [
       "           chol_init                                                      \\\n",
       "               count        mean       std    min     25%    50%     75%   \n",
       "birth_year                                                                 \n",
       "2009.0           4.0  180.500000  7.047458  174.0  174.75  180.0  185.75   \n",
       "2010.0          18.0  177.111111  8.115989  163.0  174.00  178.5  183.00   \n",
       "2011.0          18.0  180.388889  7.013759  163.0  176.50  181.5  186.00   \n",
       "\n",
       "                  chol_final              ... subscapular_fold_final        \\\n",
       "              max      count        mean  ...                    75%   max   \n",
       "birth_year                                ...                                \n",
       "2009.0      188.0        4.0  174.750000  ...                   7.60  28.0   \n",
       "2010.0      188.0       18.0  171.666667  ...                  29.75  48.0   \n",
       "2011.0      188.0       18.0  174.166667  ...                  30.00  40.0   \n",
       "\n",
       "           subscapular_fold_init                                         \\\n",
       "                           count       mean        std  min   25%   50%   \n",
       "birth_year                                                                \n",
       "2009.0                       4.0  15.750000  10.996211  3.0   9.0  16.0   \n",
       "2010.0                      18.0  26.388889  12.219266  7.0  20.0  25.5   \n",
       "2011.0                      18.0  20.222222  11.295786  1.0  10.5  21.0   \n",
       "\n",
       "                         \n",
       "              75%   max  \n",
       "birth_year               \n",
       "2009.0      22.75  28.0  \n",
       "2010.0      30.00  60.0  \n",
       "2011.0      30.00  40.0  \n",
       "\n",
       "[3 rows x 272 columns]"
      ]
     },
     "execution_count": 98,
     "metadata": {},
     "output_type": "execute_result"
    }
   ],
   "source": [
    "m.groupby('birth_year').describe()    #describes all columns"
   ]
  },
  {
   "cell_type": "code",
   "execution_count": 97,
   "metadata": {},
   "outputs": [
    {
     "data": {
      "text/html": [
       "<div>\n",
       "<style scoped>\n",
       "    .dataframe tbody tr th:only-of-type {\n",
       "        vertical-align: middle;\n",
       "    }\n",
       "\n",
       "    .dataframe tbody tr th {\n",
       "        vertical-align: top;\n",
       "    }\n",
       "\n",
       "    .dataframe thead th {\n",
       "        text-align: right;\n",
       "    }\n",
       "</style>\n",
       "<table border=\"1\" class=\"dataframe\">\n",
       "  <thead>\n",
       "    <tr style=\"text-align: right;\">\n",
       "      <th></th>\n",
       "      <th>count</th>\n",
       "      <th>mean</th>\n",
       "      <th>std</th>\n",
       "      <th>min</th>\n",
       "      <th>25%</th>\n",
       "      <th>50%</th>\n",
       "      <th>75%</th>\n",
       "      <th>max</th>\n",
       "    </tr>\n",
       "    <tr>\n",
       "      <th>birth_year</th>\n",
       "      <th></th>\n",
       "      <th></th>\n",
       "      <th></th>\n",
       "      <th></th>\n",
       "      <th></th>\n",
       "      <th></th>\n",
       "      <th></th>\n",
       "      <th></th>\n",
       "    </tr>\n",
       "  </thead>\n",
       "  <tbody>\n",
       "    <tr>\n",
       "      <th>2009.0</th>\n",
       "      <td>4.0</td>\n",
       "      <td>27.991367</td>\n",
       "      <td>1.583821</td>\n",
       "      <td>26.755552</td>\n",
       "      <td>27.184756</td>\n",
       "      <td>27.449404</td>\n",
       "      <td>28.256015</td>\n",
       "      <td>30.311111</td>\n",
       "    </tr>\n",
       "    <tr>\n",
       "      <th>2010.0</th>\n",
       "      <td>18.0</td>\n",
       "      <td>29.362518</td>\n",
       "      <td>2.592610</td>\n",
       "      <td>24.351962</td>\n",
       "      <td>27.726689</td>\n",
       "      <td>29.311575</td>\n",
       "      <td>30.468261</td>\n",
       "      <td>35.911111</td>\n",
       "    </tr>\n",
       "    <tr>\n",
       "      <th>2011.0</th>\n",
       "      <td>18.0</td>\n",
       "      <td>29.359802</td>\n",
       "      <td>2.751648</td>\n",
       "      <td>25.947040</td>\n",
       "      <td>26.921175</td>\n",
       "      <td>29.080914</td>\n",
       "      <td>31.320143</td>\n",
       "      <td>34.866892</td>\n",
       "    </tr>\n",
       "  </tbody>\n",
       "</table>\n",
       "</div>"
      ],
      "text/plain": [
       "            count       mean       std        min        25%        50%  \\\n",
       "birth_year                                                                \n",
       "2009.0        4.0  27.991367  1.583821  26.755552  27.184756  27.449404   \n",
       "2010.0       18.0  29.362518  2.592610  24.351962  27.726689  29.311575   \n",
       "2011.0       18.0  29.359802  2.751648  25.947040  26.921175  29.080914   \n",
       "\n",
       "                  75%        max  \n",
       "birth_year                        \n",
       "2009.0      28.256015  30.311111  \n",
       "2010.0      30.468261  35.911111  \n",
       "2011.0      31.320143  34.866892  "
      ]
     },
     "execution_count": 97,
     "metadata": {},
     "output_type": "execute_result"
    }
   ],
   "source": [
    "m.groupby('birth_year').BMI_init.describe()"
   ]
  },
  {
   "cell_type": "code",
   "execution_count": 101,
   "metadata": {},
   "outputs": [
    {
     "data": {
      "text/plain": [
       "pandas.core.frame.DataFrame"
      ]
     },
     "execution_count": 101,
     "metadata": {},
     "output_type": "execute_result"
    }
   ],
   "source": [
    "type(m.groupby('birth_year').BMI_init.describe())"
   ]
  },
  {
   "cell_type": "code",
   "execution_count": 100,
   "metadata": {},
   "outputs": [],
   "source": [
    "# m.BMI_init.groupby('birth_year').describe() error"
   ]
  },
  {
   "cell_type": "code",
   "execution_count": 88,
   "metadata": {},
   "outputs": [
    {
     "data": {
      "text/plain": [
       "array([ True,  True,  True,  True,  True, False,  True,  True,  True,\n",
       "        True,  True,  True,  True,  True,  True,  True,  True,  True,\n",
       "        True,  True, False,  True,  True,  True,  True,  True,  True,\n",
       "        True,  True,  True,  True,  True, False,  True,  True,  True,\n",
       "        True, False,  True,  True, False, False, False, False, False,\n",
       "       False, False, False, False, False, False, False, False, False,\n",
       "       False, False, False, False, False, False, False, False, False,\n",
       "       False, False, False, False, False, False, False, False, False,\n",
       "       False, False, False, False, False, False, False, False])"
      ]
     },
     "execution_count": 88,
     "metadata": {},
     "output_type": "execute_result"
    }
   ],
   "source": [
    "m.birth_year.isin([2010,2011]).values    #only accepts lists, not ints, simillar to cond formatting, but more scalable"
   ]
  },
  {
   "cell_type": "code",
   "execution_count": 95,
   "metadata": {},
   "outputs": [
    {
     "data": {
      "text/html": [
       "<div>\n",
       "<style scoped>\n",
       "    .dataframe tbody tr th:only-of-type {\n",
       "        vertical-align: middle;\n",
       "    }\n",
       "\n",
       "    .dataframe tbody tr th {\n",
       "        vertical-align: top;\n",
       "    }\n",
       "\n",
       "    .dataframe thead th {\n",
       "        text-align: right;\n",
       "    }\n",
       "</style>\n",
       "<table border=\"1\" class=\"dataframe\">\n",
       "  <thead>\n",
       "    <tr style=\"text-align: right;\">\n",
       "      <th></th>\n",
       "      <th>ID</th>\n",
       "      <th>group</th>\n",
       "      <th>sex</th>\n",
       "      <th>birth_year</th>\n",
       "    </tr>\n",
       "  </thead>\n",
       "  <tbody>\n",
       "    <tr>\n",
       "      <th>0</th>\n",
       "      <td>t1</td>\n",
       "      <td>Test</td>\n",
       "      <td>f</td>\n",
       "      <td>2010.0</td>\n",
       "    </tr>\n",
       "    <tr>\n",
       "      <th>1</th>\n",
       "      <td>t2</td>\n",
       "      <td>Test</td>\n",
       "      <td>m</td>\n",
       "      <td>2010.0</td>\n",
       "    </tr>\n",
       "  </tbody>\n",
       "</table>\n",
       "</div>"
      ],
      "text/plain": [
       "   ID group sex  birth_year\n",
       "0  t1  Test   f      2010.0\n",
       "1  t2  Test   m      2010.0"
      ]
     },
     "execution_count": 95,
     "metadata": {},
     "output_type": "execute_result"
    }
   ],
   "source": [
    "m.loc[m.birth_year.isin([2010,2011]), 'ID':'birth_year'].head(2)     #label slices do not need[]"
   ]
  },
  {
   "cell_type": "code",
   "execution_count": 103,
   "metadata": {},
   "outputs": [
    {
     "data": {
      "text/plain": [
       "count          40\n",
       "unique          1\n",
       "top       Control\n",
       "freq           40\n",
       "Name: group, dtype: object"
      ]
     },
     "execution_count": 103,
     "metadata": {},
     "output_type": "execute_result"
    }
   ],
   "source": [
    "m.loc[m.chol_init.isnull(),'group'].describe()"
   ]
  },
  {
   "cell_type": "code",
   "execution_count": 105,
   "metadata": {},
   "outputs": [
    {
     "data": {
      "text/plain": [
       "count       40\n",
       "unique       1\n",
       "top       Test\n",
       "freq        40\n",
       "Name: group, dtype: object"
      ]
     },
     "execution_count": 105,
     "metadata": {},
     "output_type": "execute_result"
    }
   ],
   "source": [
    "m.loc[m.chol_init.notnull(),'group'].describe()"
   ]
  },
  {
   "cell_type": "code",
   "execution_count": 116,
   "metadata": {},
   "outputs": [
    {
     "data": {
      "text/plain": [
       "nan"
      ]
     },
     "execution_count": 116,
     "metadata": {},
     "output_type": "execute_result"
    }
   ],
   "source": [
    "nn=m.chol_init[79]\n",
    "nn"
   ]
  },
  {
   "cell_type": "code",
   "execution_count": 127,
   "metadata": {},
   "outputs": [
    {
     "data": {
      "text/html": [
       "<div>\n",
       "<style scoped>\n",
       "    .dataframe tbody tr th:only-of-type {\n",
       "        vertical-align: middle;\n",
       "    }\n",
       "\n",
       "    .dataframe tbody tr th {\n",
       "        vertical-align: top;\n",
       "    }\n",
       "\n",
       "    .dataframe thead th {\n",
       "        text-align: right;\n",
       "    }\n",
       "</style>\n",
       "<table border=\"1\" class=\"dataframe\">\n",
       "  <thead>\n",
       "    <tr style=\"text-align: right;\">\n",
       "      <th></th>\n",
       "      <th>ID</th>\n",
       "      <th>group</th>\n",
       "      <th>sex</th>\n",
       "      <th>birth_year</th>\n",
       "      <th>chol_init</th>\n",
       "      <th>chol_final</th>\n",
       "      <th>trig_init</th>\n",
       "      <th>trig_final</th>\n",
       "      <th>weight_init</th>\n",
       "      <th>weight_final</th>\n",
       "      <th>...</th>\n",
       "      <th>hip_perimeter_diff</th>\n",
       "      <th>BMI_init</th>\n",
       "      <th>BMI_final</th>\n",
       "      <th>BMI_diff</th>\n",
       "      <th>tricipital_fold_final</th>\n",
       "      <th>tricipital_fold_init</th>\n",
       "      <th>abdominal_fold_final</th>\n",
       "      <th>abdominal_fold_init</th>\n",
       "      <th>subscapular_fold_final</th>\n",
       "      <th>subscapular_fold_init</th>\n",
       "    </tr>\n",
       "  </thead>\n",
       "  <tbody>\n",
       "    <tr>\n",
       "      <th>77</th>\n",
       "      <td>False</td>\n",
       "      <td>False</td>\n",
       "      <td>False</td>\n",
       "      <td>False</td>\n",
       "      <td>False</td>\n",
       "      <td>False</td>\n",
       "      <td>False</td>\n",
       "      <td>False</td>\n",
       "      <td>False</td>\n",
       "      <td>False</td>\n",
       "      <td>...</td>\n",
       "      <td>False</td>\n",
       "      <td>False</td>\n",
       "      <td>False</td>\n",
       "      <td>False</td>\n",
       "      <td>False</td>\n",
       "      <td>False</td>\n",
       "      <td>False</td>\n",
       "      <td>False</td>\n",
       "      <td>False</td>\n",
       "      <td>False</td>\n",
       "    </tr>\n",
       "    <tr>\n",
       "      <th>78</th>\n",
       "      <td>False</td>\n",
       "      <td>False</td>\n",
       "      <td>False</td>\n",
       "      <td>False</td>\n",
       "      <td>False</td>\n",
       "      <td>False</td>\n",
       "      <td>False</td>\n",
       "      <td>False</td>\n",
       "      <td>False</td>\n",
       "      <td>False</td>\n",
       "      <td>...</td>\n",
       "      <td>False</td>\n",
       "      <td>False</td>\n",
       "      <td>False</td>\n",
       "      <td>False</td>\n",
       "      <td>False</td>\n",
       "      <td>False</td>\n",
       "      <td>False</td>\n",
       "      <td>False</td>\n",
       "      <td>False</td>\n",
       "      <td>False</td>\n",
       "    </tr>\n",
       "    <tr>\n",
       "      <th>79</th>\n",
       "      <td>False</td>\n",
       "      <td>False</td>\n",
       "      <td>False</td>\n",
       "      <td>False</td>\n",
       "      <td>False</td>\n",
       "      <td>False</td>\n",
       "      <td>False</td>\n",
       "      <td>False</td>\n",
       "      <td>False</td>\n",
       "      <td>False</td>\n",
       "      <td>...</td>\n",
       "      <td>False</td>\n",
       "      <td>False</td>\n",
       "      <td>False</td>\n",
       "      <td>False</td>\n",
       "      <td>False</td>\n",
       "      <td>False</td>\n",
       "      <td>False</td>\n",
       "      <td>False</td>\n",
       "      <td>False</td>\n",
       "      <td>False</td>\n",
       "    </tr>\n",
       "  </tbody>\n",
       "</table>\n",
       "<p>3 rows × 38 columns</p>\n",
       "</div>"
      ],
      "text/plain": [
       "       ID  group    sex  birth_year  chol_init  chol_final  trig_init  \\\n",
       "77  False  False  False       False      False       False      False   \n",
       "78  False  False  False       False      False       False      False   \n",
       "79  False  False  False       False      False       False      False   \n",
       "\n",
       "    trig_final  weight_init  weight_final  ...  hip_perimeter_diff  BMI_init  \\\n",
       "77       False        False         False  ...               False     False   \n",
       "78       False        False         False  ...               False     False   \n",
       "79       False        False         False  ...               False     False   \n",
       "\n",
       "    BMI_final  BMI_diff  tricipital_fold_final  tricipital_fold_init  \\\n",
       "77      False     False                  False                 False   \n",
       "78      False     False                  False                 False   \n",
       "79      False     False                  False                 False   \n",
       "\n",
       "    abdominal_fold_final  abdominal_fold_init  subscapular_fold_final  \\\n",
       "77                 False                False                   False   \n",
       "78                 False                False                   False   \n",
       "79                 False                False                   False   \n",
       "\n",
       "    subscapular_fold_init  \n",
       "77                  False  \n",
       "78                  False  \n",
       "79                  False  \n",
       "\n",
       "[3 rows x 38 columns]"
      ]
     },
     "execution_count": 127,
     "metadata": {},
     "output_type": "execute_result"
    }
   ],
   "source": [
    "m.isin([nn]).tail(3)  #isin on the entire df returns a boolean df. Can it be used for anything?"
   ]
  },
  {
   "cell_type": "code",
   "execution_count": 121,
   "metadata": {},
   "outputs": [
    {
     "data": {
      "text/plain": [
       "False"
      ]
     },
     "execution_count": 121,
     "metadata": {},
     "output_type": "execute_result"
    }
   ],
   "source": [
    "nn == m.chol_init[79]     #however, nan cannot be used in comparisons"
   ]
  },
  {
   "cell_type": "code",
   "execution_count": 122,
   "metadata": {},
   "outputs": [
    {
     "data": {
      "text/plain": [
       "False"
      ]
     },
     "execution_count": 122,
     "metadata": {},
     "output_type": "execute_result"
    }
   ],
   "source": [
    "m.chol_init[79] == m.chol_init[79]  #strangely, nan != nan"
   ]
  },
  {
   "cell_type": "code",
   "execution_count": 131,
   "metadata": {},
   "outputs": [
    {
     "data": {
      "text/html": [
       "<div>\n",
       "<style scoped>\n",
       "    .dataframe tbody tr th:only-of-type {\n",
       "        vertical-align: middle;\n",
       "    }\n",
       "\n",
       "    .dataframe tbody tr th {\n",
       "        vertical-align: top;\n",
       "    }\n",
       "\n",
       "    .dataframe thead th {\n",
       "        text-align: right;\n",
       "    }\n",
       "</style>\n",
       "<table border=\"1\" class=\"dataframe\">\n",
       "  <thead>\n",
       "    <tr style=\"text-align: right;\">\n",
       "      <th></th>\n",
       "      <th>ID</th>\n",
       "      <th>group</th>\n",
       "      <th>sex</th>\n",
       "      <th>birth_year</th>\n",
       "      <th>chol_init</th>\n",
       "      <th>chol_final</th>\n",
       "      <th>trig_init</th>\n",
       "      <th>trig_final</th>\n",
       "      <th>weight_init</th>\n",
       "      <th>weight_final</th>\n",
       "      <th>...</th>\n",
       "      <th>hip_perimeter_diff</th>\n",
       "      <th>BMI_init</th>\n",
       "      <th>BMI_final</th>\n",
       "      <th>BMI_diff</th>\n",
       "      <th>tricipital_fold_final</th>\n",
       "      <th>tricipital_fold_init</th>\n",
       "      <th>abdominal_fold_final</th>\n",
       "      <th>abdominal_fold_init</th>\n",
       "      <th>subscapular_fold_final</th>\n",
       "      <th>subscapular_fold_init</th>\n",
       "    </tr>\n",
       "  </thead>\n",
       "  <tbody>\n",
       "    <tr>\n",
       "      <th>0</th>\n",
       "      <td>True</td>\n",
       "      <td>False</td>\n",
       "      <td>False</td>\n",
       "      <td>False</td>\n",
       "      <td>False</td>\n",
       "      <td>False</td>\n",
       "      <td>False</td>\n",
       "      <td>False</td>\n",
       "      <td>False</td>\n",
       "      <td>False</td>\n",
       "      <td>...</td>\n",
       "      <td>False</td>\n",
       "      <td>False</td>\n",
       "      <td>False</td>\n",
       "      <td>False</td>\n",
       "      <td>False</td>\n",
       "      <td>False</td>\n",
       "      <td>False</td>\n",
       "      <td>False</td>\n",
       "      <td>False</td>\n",
       "      <td>False</td>\n",
       "    </tr>\n",
       "    <tr>\n",
       "      <th>1</th>\n",
       "      <td>False</td>\n",
       "      <td>False</td>\n",
       "      <td>False</td>\n",
       "      <td>False</td>\n",
       "      <td>False</td>\n",
       "      <td>False</td>\n",
       "      <td>False</td>\n",
       "      <td>False</td>\n",
       "      <td>False</td>\n",
       "      <td>False</td>\n",
       "      <td>...</td>\n",
       "      <td>False</td>\n",
       "      <td>False</td>\n",
       "      <td>False</td>\n",
       "      <td>False</td>\n",
       "      <td>False</td>\n",
       "      <td>False</td>\n",
       "      <td>False</td>\n",
       "      <td>False</td>\n",
       "      <td>False</td>\n",
       "      <td>False</td>\n",
       "    </tr>\n",
       "  </tbody>\n",
       "</table>\n",
       "<p>2 rows × 38 columns</p>\n",
       "</div>"
      ],
      "text/plain": [
       "      ID  group    sex  birth_year  chol_init  chol_final  trig_init  \\\n",
       "0   True  False  False       False      False       False      False   \n",
       "1  False  False  False       False      False       False      False   \n",
       "\n",
       "   trig_final  weight_init  weight_final  ...  hip_perimeter_diff  BMI_init  \\\n",
       "0       False        False         False  ...               False     False   \n",
       "1       False        False         False  ...               False     False   \n",
       "\n",
       "   BMI_final  BMI_diff  tricipital_fold_final  tricipital_fold_init  \\\n",
       "0      False     False                  False                 False   \n",
       "1      False     False                  False                 False   \n",
       "\n",
       "   abdominal_fold_final  abdominal_fold_init  subscapular_fold_final  \\\n",
       "0                 False                False                   False   \n",
       "1                 False                False                   False   \n",
       "\n",
       "   subscapular_fold_init  \n",
       "0                  False  \n",
       "1                  False  \n",
       "\n",
       "[2 rows x 38 columns]"
      ]
     },
     "execution_count": 131,
     "metadata": {},
     "output_type": "execute_result"
    }
   ],
   "source": [
    "m.isin(['t1']).head(2)"
   ]
  },
  {
   "cell_type": "code",
   "execution_count": 140,
   "metadata": {},
   "outputs": [
    {
     "data": {
      "text/plain": [
       "ID                      <class 'str'>\n",
       "group                   <class 'str'>\n",
       "sex                     <class 'str'>\n",
       "birth_year    <class 'numpy.float64'>\n",
       "chol_init     <class 'numpy.float64'>\n",
       "Name: 1, dtype: object"
      ]
     },
     "execution_count": 140,
     "metadata": {},
     "output_type": "execute_result"
    }
   ],
   "source": [
    "m.loc[1,:].map(type).head(5)\n",
    "#map only processes series, not dataframes\n",
    "#does not necessarily need lambda functions\n",
    "#functions are written without ()"
   ]
  },
  {
   "cell_type": "code",
   "execution_count": 141,
   "metadata": {},
   "outputs": [
    {
     "data": {
      "text/plain": [
       "Index([<class 'str'>, <class 'str'>, <class 'str'>, <class 'str'>,\n",
       "       <class 'str'>, <class 'str'>, <class 'str'>, <class 'str'>,\n",
       "       <class 'str'>, <class 'str'>, <class 'str'>, <class 'str'>,\n",
       "       <class 'str'>, <class 'str'>, <class 'str'>, <class 'str'>,\n",
       "       <class 'str'>, <class 'str'>, <class 'str'>, <class 'str'>,\n",
       "       <class 'str'>, <class 'str'>, <class 'str'>, <class 'str'>,\n",
       "       <class 'str'>, <class 'str'>, <class 'str'>, <class 'str'>,\n",
       "       <class 'str'>, <class 'str'>, <class 'str'>, <class 'str'>,\n",
       "       <class 'str'>, <class 'str'>, <class 'str'>, <class 'str'>,\n",
       "       <class 'str'>, <class 'str'>],\n",
       "      dtype='object')"
      ]
     },
     "execution_count": 141,
     "metadata": {},
     "output_type": "execute_result"
    }
   ],
   "source": [
    "m.columns.map(type)"
   ]
  },
  {
   "cell_type": "code",
   "execution_count": 142,
   "metadata": {},
   "outputs": [
    {
     "data": {
      "text/plain": [
       "(80, 38)"
      ]
     },
     "execution_count": 142,
     "metadata": {},
     "output_type": "execute_result"
    }
   ],
   "source": [
    "m.shape"
   ]
  },
  {
   "cell_type": "code",
   "execution_count": 148,
   "metadata": {},
   "outputs": [
    {
     "data": {
      "text/plain": [
       "(80,)"
      ]
     },
     "execution_count": 148,
     "metadata": {},
     "output_type": "execute_result"
    }
   ],
   "source": [
    "ns = pd.Series(data=2, index=range(80))\n",
    "ns.shape"
   ]
  },
  {
   "cell_type": "code",
   "execution_count": 150,
   "metadata": {},
   "outputs": [
    {
     "data": {
      "text/plain": [
       "array([3, 3, 3, 3, 3, 3, 3, 3, 3, 3, 3, 3, 3, 3, 3, 3, 3, 3, 3, 3, 3, 3,\n",
       "       3, 3, 3, 3, 3, 3, 3, 3, 3, 3, 3, 3, 3, 3, 3, 3, 3, 3, 3, 3, 3, 3,\n",
       "       3, 3, 3, 3, 3, 3, 3, 3, 3, 3, 3, 3, 3, 3, 3, 3, 3, 3, 3, 3, 3, 3,\n",
       "       3, 3, 3, 3, 3, 3, 3, 3, 3, 3, 3, 3, 3, 3], dtype=int64)"
      ]
     },
     "execution_count": 150,
     "metadata": {},
     "output_type": "execute_result"
    }
   ],
   "source": [
    "ns = ns.map(lambda x: x+1)\n",
    "ns.values"
   ]
  },
  {
   "cell_type": "markdown",
   "metadata": {},
   "source": [
    "### how .map works\n",
    "a = b.map(function)\n",
    "a = b.map(lambda x: x+1)\n",
    " - b (must be a series) -> each element of b mapped -> function input (x) -> function output (x+1) -> map output (needs assignment) -> a"
   ]
  },
  {
   "cell_type": "markdown",
   "metadata": {},
   "source": [
    "therefore ns must be an output"
   ]
  },
  {
   "cell_type": "code",
   "execution_count": 161,
   "metadata": {},
   "outputs": [
    {
     "name": "stdout",
     "output_type": "stream",
     "text": [
      "[27.84008973 28.398718   27.44904668 27.67422481 27.16269469 26.75555155\n",
      " 25.82682056 27.68888889 30.11998685 26.83864765 30.4296875  34.453125\n",
      " 30.58420792 27.88162695 29.8216759  26.84066824 30.68256124 30.3934038\n",
      " 27.67877033 32.36851717 27.57098338 32.58034894 29.67657562 25.94704033\n",
      " 28.56999145 28.67845994 24.35196195 35.91111111 34.8668918  26.71111111\n",
      " 29.60262778 30.48111925 30.31111111 29.59183673 31.79160394 31.56545425\n",
      " 31.39120095 27.32782369 28.80147412 26.34958383 25.39657106 24.97704316\n",
      " 27.70083102 23.82877527 27.18089991 28.36121989 21.98099185 25.34435262\n",
      " 25.15315023 23.06666667 31.39818019 26.1328125  23.15211027 25.52964487\n",
      " 32.79298037 27.70083102 28.90725436 26.53392395 24.50340075 31.44608986\n",
      " 24.54120499 27.86044677 28.68514468 21.49018441 28.30599506 23.828125\n",
      " 25.52964487 27.9296875  26.0261749  25.91068435 26.0261749  22.67573696\n",
      " 29.47584262 27.91551882 25.96952909 27.18089991 26.0261749  24.67702134\n",
      " 25.52964487 28.76397107]\n"
     ]
    }
   ],
   "source": [
    "print(m.BMI_init.map(lambda x: x).values)"
   ]
  },
  {
   "cell_type": "code",
   "execution_count": 166,
   "metadata": {},
   "outputs": [
    {
     "name": "stdout",
     "output_type": "stream",
     "text": [
      "[27.84008973 28.398718   27.44904668 27.67422481 27.16269469 26.75555155\n",
      " 25.82682056 27.68888889 30.11998685 26.83864765 30.4296875  34.453125\n",
      " 30.58420792 27.88162695 29.8216759  26.84066824 30.68256124 30.3934038\n",
      " 27.67877033 32.36851717 27.57098338 32.58034894 29.67657562 25.94704033\n",
      " 28.56999145 28.67845994 24.35196195 35.91111111 34.8668918  26.71111111\n",
      " 29.60262778 30.48111925 30.31111111 29.59183673 31.79160394 31.56545425\n",
      " 31.39120095 27.32782369 28.80147412 26.34958383 25.39657106 24.97704316\n",
      " 27.70083102 23.82877527 27.18089991 28.36121989 21.98099185 25.34435262\n",
      " 25.15315023 23.06666667 31.39818019 26.1328125  23.15211027 25.52964487\n",
      " 32.79298037 27.70083102 28.90725436 26.53392395 24.50340075 31.44608986\n",
      " 24.54120499 27.86044677 28.68514468 21.49018441 28.30599506 23.828125\n",
      " 25.52964487 27.9296875  26.0261749  25.91068435 26.0261749  22.67573696\n",
      " 29.47584262 27.91551882 25.96952909 27.18089991 26.0261749  24.67702134\n",
      " 25.52964487 28.76397107]\n"
     ]
    }
   ],
   "source": [
    "print(m.BMI_init.map(lambda x: m.BMI_init[m.BMI_init==x].values[0]).values)"
   ]
  },
  {
   "cell_type": "code",
   "execution_count": 169,
   "metadata": {},
   "outputs": [
    {
     "name": "stdout",
     "output_type": "stream",
     "text": [
      "[(1,) (1,) (1,) (1,) (1,) (1,) (1,) (1,) (1,) (1,) (1,) (1,) (1,) (1,)\n",
      " (1,) (1,) (1,) (1,) (1,) (1,) (1,) (1,) (1,) (1,) (1,) (1,) (1,) (1,)\n",
      " (1,) (1,) (1,) (1,) (1,) (1,) (1,) (1,) (1,) (1,) (1,) (1,) (1,) (1,)\n",
      " (2,) (1,) (2,) (1,) (1,) (1,) (1,) (1,) (1,) (1,) (1,) (3,) (1,) (2,)\n",
      " (1,) (1,) (1,) (1,) (1,) (1,) (1,) (1,) (1,) (1,) (3,) (1,) (3,) (1,)\n",
      " (3,) (1,) (1,) (1,) (1,) (2,) (3,) (1,) (3,) (1,)]\n"
     ]
    }
   ],
   "source": [
    "print(m.BMI_init.map(lambda x: m.BMI_init[m.BMI_init==x].shape).values)"
   ]
  },
  {
   "cell_type": "code",
   "execution_count": 159,
   "metadata": {},
   "outputs": [
    {
     "name": "stdout",
     "output_type": "stream",
     "text": [
      "[ 0  1  2  3  4  5  6  7  8  9 10 11 12 13 14 15 16 17 18 19 20 21 22 23\n",
      " 24 25 26 27 28 29 30 31 32 33 34 35 36 37 38 39 40 41 42 43 44 45 46 47\n",
      " 48 49 50 51 52 53 54 42 56 57 58 59 60 61 62 63 64 65 53 67 68 69 68 71\n",
      " 72 73 74 44 68 77 53 79]\n"
     ]
    }
   ],
   "source": [
    "print(m.BMI_init.map(lambda x: m.BMI_init[m.BMI_init==x].index[0]).values)"
   ]
  },
  {
   "cell_type": "code",
   "execution_count": 170,
   "metadata": {},
   "outputs": [
    {
     "name": "stdout",
     "output_type": "stream",
     "text": [
      "[25.03991871 25.78077378 26.08452085 27.421875   26.648676   22.94213045\n",
      " 21.1328125  22.20633069 27.96801606 24.1671624  27.17685235 36.21499516\n",
      " 25.5588462  30.55747922 27.40484429 22.68244576 27.47623981 25.4393424\n",
      " 26.2345679  27.96959994 26.04539125 28.07701515 27.84879474 24.3682717\n",
      " 25.84752909 26.33217993 23.36708104 29.0174472  31.7578125  23.046875\n",
      " 28.81551766 26.34929208 28.77975387 25.15315023 32.18620868 29.40759637\n",
      " 28.4392876  26.12769741 27.01685989 23.81474497 25.74839302 26.71475088\n",
      " 28.47988608 24.19484057 27.70083102 29.61741188 21.51925078 25.25951557\n",
      " 25.40281608 25.5994158  27.10924824 26.55647383 21.71326591 25.8298618\n",
      " 32.64050718 28.47988608 29.61937716 26.87870534 24.453125   28.48765432\n",
      " 24.7265625  26.74285714 29.06879615 23.28961601 28.37370242 21.3577956\n",
      " 25.8298618  25.34402222 25.79096809 26.95984034 25.79096809 21.5450908\n",
      " 26.44628099 25.85463947 24.6097337  27.70083102 25.79096809 24.49985955\n",
      " 25.8298618  27.21730295]\n"
     ]
    }
   ],
   "source": [
    "print(m.BMI_init.map(lambda x: m.BMI_final[m.BMI_init[m.BMI_init==x].index[0]]).values)"
   ]
  },
  {
   "cell_type": "code",
   "execution_count": 171,
   "metadata": {},
   "outputs": [
    {
     "name": "stdout",
     "output_type": "stream",
     "text": [
      "[ 2.80017102  2.61794422  1.36452583  0.25234981  0.51401869  3.8134211\n",
      "  4.69400806  5.4825582   2.15197079  2.67148525  3.25283515 -1.76187016\n",
      "  5.02536172 -2.67585227  2.41683161  4.15822248  3.20632143  4.9540614\n",
      "  1.44420243  4.39891723  1.52559213  4.50333379  1.82778088  1.57876863\n",
      "  2.72246236  2.34628001  0.98488091  6.89366391  3.1090793   3.66423611\n",
      "  0.78711012  4.13182717  1.53135724  4.4386865  -0.39460474  2.15785788\n",
      "  2.95191335  1.20012628  1.78461423  2.53483886 -0.35182196 -1.73770772\n",
      " -0.77905506 -0.3660653  -0.51993111 -1.25619199  0.46174107  0.08483705\n",
      " -0.24966585 -2.53274913  4.28893195 -0.42366133  1.43884436 -0.30021693\n",
      "  0.15247319 -0.77905506 -0.7121228  -0.34478139  0.05027575  2.95843554\n",
      " -0.18535751  1.11758963 -0.38365147 -1.7994316  -0.06770736  2.4703294\n",
      " -0.30021693  2.58566528  0.23520681 -1.04915599  0.23520681  1.13064616\n",
      "  3.02956163  2.06087935  1.35979539 -0.51993111  0.23520681  0.17716179\n",
      " -0.30021693  1.54666812]\n"
     ]
    }
   ],
   "source": [
    "print(m.BMI_init.map(lambda x: x-m.BMI_final[m.BMI_init[m.BMI_init==x].index[0]]).values)"
   ]
  },
  {
   "cell_type": "code",
   "execution_count": 172,
   "metadata": {},
   "outputs": [
    {
     "data": {
      "text/plain": [
       "array([-2.80017102, -2.61794422, -1.36452583, -0.25234981, -0.51401869,\n",
       "       -3.8134211 , -4.69400806, -5.4825582 , -2.15197079, -2.67148525,\n",
       "       -3.25283515,  1.76187016, -5.02536172,  2.67585227, -2.41683161,\n",
       "       -4.15822248, -3.20632143, -4.95406139, -1.44420243, -4.39891723,\n",
       "       -1.52559213, -4.50333379, -1.82778088, -1.57876863, -2.72246235,\n",
       "       -2.34628001, -0.98488091, -6.89366391, -3.1090793 , -3.66423611,\n",
       "       -0.78711012, -4.13182717, -1.53135724, -4.4386865 ,  0.39460474,\n",
       "       -2.15785788, -2.95191335, -1.20012628, -1.78461423, -2.53483886,\n",
       "        0.35182196,  1.73770772,  0.77905506,  0.3660653 ,  0.51993112,\n",
       "        1.25619199, -0.46174107, -0.08483705,  0.24966585,  2.53274913,\n",
       "       -4.28893194,  0.42366133, -1.43884435,  0.30021693, -0.15247319,\n",
       "        1.59604397,  0.7121228 ,  0.34478138, -0.05027575, -2.95843554,\n",
       "        0.18535751, -1.11758963,  0.38365147,  1.79943159,  0.06770736,\n",
       "       -2.47032941,  0.62545717, -2.58566528, -0.2352068 ,  1.049156  ,\n",
       "       -0.0746178 , -1.13064616, -3.02956163, -2.06087935, -1.35979538,\n",
       "       -2.50539964, -0.74606504, -0.17716178, -1.16403447, -1.54666813])"
      ]
     },
     "execution_count": 172,
     "metadata": {},
     "output_type": "execute_result"
    }
   ],
   "source": [
    "m.BMI_diff.values     #excel difference"
   ]
  },
  {
   "cell_type": "code",
   "execution_count": 181,
   "metadata": {},
   "outputs": [
    {
     "data": {
      "text/plain": [
       "pandas.core.series.Series"
      ]
     },
     "execution_count": 181,
     "metadata": {},
     "output_type": "execute_result"
    }
   ],
   "source": [
    "type((m.BMI_init-m.BMI_init.mean())) #not tuple?"
   ]
  },
  {
   "cell_type": "code",
   "execution_count": 182,
   "metadata": {},
   "outputs": [
    {
     "data": {
      "text/plain": [
       "array([ 0.03505521,  0.59368348, -0.35598784, -0.13080971, -0.64233983,\n",
       "       -1.04948297, -1.97821396, -0.11614563,  2.31495233, -0.96638687,\n",
       "        2.62465298,  6.64809048,  2.7791734 ,  0.07659243,  2.01664138,\n",
       "       -0.96436628,  2.87752672,  2.58836928, -0.12626419,  4.56348265,\n",
       "       -0.23405114,  4.77531442,  1.8715411 , -1.85799419,  0.76495693,\n",
       "        0.87342542, -3.45307257,  8.10607659,  7.06185728, -1.09392341,\n",
       "        1.79759326,  2.67608473,  2.50607659,  1.78680221,  3.98656942,\n",
       "        3.76041973,  3.58616643, -0.47721083,  0.9964396 , -1.45545069,\n",
       "       -2.40846346, -2.82799136, -0.1042035 , -3.97625925, -0.62413461,\n",
       "        0.55618537, -5.82404267, -2.4606819 , -2.65188429, -4.73836785,\n",
       "        3.59314567, -1.67222202, -4.65292425, -2.27538965,  4.98794585,\n",
       "       -0.1042035 ,  1.10221984, -1.27111057, -3.30163377,  3.64105534,\n",
       "       -3.26382953,  0.05541225,  0.88011016, -6.31485011,  0.50096054,\n",
       "       -3.97690952, -2.27538965,  0.12465298, -1.77885962, -1.89435017,\n",
       "       -1.77885962, -5.12929756,  1.6708081 ,  0.1104843 , -1.83550543,\n",
       "       -0.62413461, -1.77885962, -3.12801318, -2.27538965,  0.95893655])"
      ]
     },
     "execution_count": 182,
     "metadata": {},
     "output_type": "execute_result"
    }
   ],
   "source": [
    "(m.BMI_init-m.BMI_init.mean()).values"
   ]
  },
  {
   "cell_type": "markdown",
   "metadata": {},
   "source": [
    "## Apply\n",
    "### Axis\n",
    "- axis = 0 or 'index' (default) - apply function to each column\n",
    "- axis = 1 or 'columns' - apply functions to each row\n",
    "### raw\n",
    "- bool\n",
    "- False (default) - returns Series\n",
    "- True - returns ndarray\n",
    "### result_type (only when axis=1)\n",
    "- expand - column arrangement\n",
    "- reduce - series arrangement\n",
    "- broadcast -  df arrangement"
   ]
  },
  {
   "cell_type": "code",
   "execution_count": 196,
   "metadata": {},
   "outputs": [
    {
     "name": "stdout",
     "output_type": "stream",
     "text": [
      "   BMI_init  BMI_final\n",
      "0  5.276371   5.003990\n",
      "1  5.329045   5.077477\n",
      "2  5.239184   5.107301\n",
      "3  5.260630   5.236590\n",
      "4  5.211784   5.162236\n"
     ]
    }
   ],
   "source": [
    "print(m[[\"BMI_init\",\"BMI_final\"]].apply(np.sqrt).head(5))"
   ]
  },
  {
   "cell_type": "code",
   "execution_count": 199,
   "metadata": {},
   "outputs": [
    {
     "name": "stdout",
     "output_type": "stream",
     "text": [
      "   BMI_init  BMI_final  chol_init  chol_final\n",
      "0  5.276371   5.003990  13.527749   13.304135\n",
      "1  5.329045   5.077477  13.601471   13.379088\n",
      "2  5.239184   5.107301  13.601471   13.416408\n",
      "3  5.260630   5.236590  13.711309   13.341664\n",
      "4  5.211784   5.162236  13.711309   13.527749\n"
     ]
    }
   ],
   "source": [
    "print(m[[\"BMI_init\",\"BMI_final\",\"chol_init\",\"chol_final\"]].apply(np.sqrt).head(5))"
   ]
  },
  {
   "cell_type": "code",
   "execution_count": 209,
   "metadata": {},
   "outputs": [
    {
     "name": "stdout",
     "output_type": "stream",
     "text": [
      "BMI_init       27.805035\n",
      "BMI_final      26.362289\n",
      "chol_init     178.925000\n",
      "chol_final    173.100000\n",
      "dtype: float64\n"
     ]
    }
   ],
   "source": [
    "print(m[[\"BMI_init\",\"BMI_final\",\"chol_init\",\"chol_final\"]].apply(lambda x: x.mean()))"
   ]
  },
  {
   "cell_type": "code",
   "execution_count": 213,
   "metadata": {},
   "outputs": [
    {
     "name": "stdout",
     "output_type": "stream",
     "text": [
      "75    25.928200\n",
      "76    25.653142\n",
      "77    24.588440\n",
      "78    24.947628\n",
      "79    27.990637\n",
      "dtype: float64\n"
     ]
    }
   ],
   "source": [
    "print(m[[\"BMI_init\",\"BMI_final\",\"chol_init\",\"chol_final\"]].apply(lambda x: x.mean(), axis=1).tail(5))"
   ]
  },
  {
   "cell_type": "code",
   "execution_count": 214,
   "metadata": {},
   "outputs": [
    {
     "name": "stdout",
     "output_type": "stream",
     "text": [
      "0     103.220002\n",
      "1     104.544873\n",
      "2     104.633392\n",
      "3     105.274025\n",
      "4     106.202843\n",
      "         ...    \n",
      "75     25.928200\n",
      "76     25.653142\n",
      "77     24.588440\n",
      "78     24.947628\n",
      "79     27.990637\n",
      "Length: 80, dtype: float64\n"
     ]
    }
   ],
   "source": [
    "print(m[[\"BMI_init\",\"BMI_final\",\"chol_init\",\"chol_final\"]].apply(lambda x: x.mean(), axis=1, result_type='expand'))"
   ]
  },
  {
   "cell_type": "code",
   "execution_count": 216,
   "metadata": {},
   "outputs": [
    {
     "name": "stdout",
     "output_type": "stream",
     "text": [
      "      BMI_init   BMI_final   chol_init  chol_final\n",
      "0   103.220002  103.220002  103.220002  103.220002\n",
      "1   104.544873  104.544873  104.544873  104.544873\n",
      "2   104.633392  104.633392  104.633392  104.633392\n",
      "3   105.274025  105.274025  105.274025  105.274025\n",
      "4   106.202843  106.202843  106.202843  106.202843\n",
      "..         ...         ...         ...         ...\n",
      "75   25.928200   25.928200   25.928200   25.928200\n",
      "76   25.653142   25.653142   25.653142   25.653142\n",
      "77   24.588440   24.588440   24.588440   24.588440\n",
      "78   24.947628   24.947628   24.947628   24.947628\n",
      "79   27.990637   27.990637   27.990637   27.990637\n",
      "\n",
      "[80 rows x 4 columns]\n"
     ]
    }
   ],
   "source": [
    "print(m[[\"BMI_init\",\"BMI_final\",\"chol_init\",\"chol_final\"]].apply(lambda x: x.mean(), axis=1, result_type='broadcast'))"
   ]
  },
  {
   "cell_type": "code",
   "execution_count": null,
   "metadata": {},
   "outputs": [],
   "source": []
  }
 ],
 "metadata": {
  "kernelspec": {
   "display_name": "venvstats",
   "language": "python",
   "name": "venvstats"
  },
  "language_info": {
   "codemirror_mode": {
    "name": "ipython",
    "version": 3
   },
   "file_extension": ".py",
   "mimetype": "text/x-python",
   "name": "python",
   "nbconvert_exporter": "python",
   "pygments_lexer": "ipython3",
   "version": "3.9.13"
  }
 },
 "nbformat": 4,
 "nbformat_minor": 4
}
