{
  "metadata": {
    "kernelspec": {
      "name": "python",
      "display_name": "Python (Pyodide)",
      "language": "python"
    },
    "language_info": {
      "codemirror_mode": {
        "name": "python",
        "version": 3
      },
      "file_extension": ".py",
      "mimetype": "text/x-python",
      "name": "python",
      "nbconvert_exporter": "python",
      "pygments_lexer": "ipython3",
      "version": "3.8"
    }
  },
  "nbformat_minor": 4,
  "nbformat": 4,
  "cells": [
    {
      "cell_type": "code",
      "source": "import pandas as pd\nimport numpy as np\nimport matplotlib.pyplot as plt\nfrom scipy.stats import norm",
      "metadata": {
        "trusted": true
      },
      "outputs": [],
      "execution_count": 104
    },
    {
      "cell_type": "code",
      "source": "chest = pd.read_csv(\"chestionar.csv\")",
      "metadata": {
        "trusted": true
      },
      "outputs": [],
      "execution_count": 105
    },
    {
      "cell_type": "code",
      "source": "'''\nfig, ax = plt.subplots(nrows = 7, ncols = 1, figsize=(14,14))\ndata_columns = chest.columns[1:]\n\nfor col in data_columns:\n    ax[data_columns.get_loc(col)].hist(chest[col], bins=8, density=True, color='red', alpha=0.9)\n    mu, sigma = chest[col].mean(), chest[col].std()\n    xmin, xmax = plt.xlim()\n    x = np.linspace(xmin, xmax, 100)\n    p = norm.pdf(x, mu, sigma)\n    ax[data_columns.get_loc(col)].plot(x, p, 'k', linewidth=2)\n    ax[data_columns.get_loc(col)].set_title(f'Histogram of {col}')\n    ax[data_columns.get_loc(col)].set_xlabel('values')\n    ax[data_columns.get_loc(col)].set_ylabel('Density')\nplt.show()\n'''\nchest.head(1)",
      "metadata": {
        "trusted": true
      },
      "outputs": [
        {
          "execution_count": 106,
          "output_type": "execute_result",
          "data": {
            "text/plain": "  Unnamed: 0  a_zile  b_minute  c_zile  d_minute  e_zile  f_zile  g_minute\n0         c1       0       0.0       1      20.0     1.0    30.0     480.0",
            "text/html": "<div>\n<style scoped>\n    .dataframe tbody tr th:only-of-type {\n        vertical-align: middle;\n    }\n\n    .dataframe tbody tr th {\n        vertical-align: top;\n    }\n\n    .dataframe thead th {\n        text-align: right;\n    }\n</style>\n<table border=\"1\" class=\"dataframe\">\n  <thead>\n    <tr style=\"text-align: right;\">\n      <th></th>\n      <th>Unnamed: 0</th>\n      <th>a_zile</th>\n      <th>b_minute</th>\n      <th>c_zile</th>\n      <th>d_minute</th>\n      <th>e_zile</th>\n      <th>f_zile</th>\n      <th>g_minute</th>\n    </tr>\n  </thead>\n  <tbody>\n    <tr>\n      <th>0</th>\n      <td>c1</td>\n      <td>0</td>\n      <td>0.0</td>\n      <td>1</td>\n      <td>20.0</td>\n      <td>1.0</td>\n      <td>30.0</td>\n      <td>480.0</td>\n    </tr>\n  </tbody>\n</table>\n</div>"
          },
          "metadata": {}
        }
      ],
      "execution_count": 106
    },
    {
      "cell_type": "code",
      "source": "data_columns = chest.columns[1:]",
      "metadata": {
        "trusted": true
      },
      "outputs": [],
      "execution_count": 107
    },
    {
      "cell_type": "code",
      "source": "chest.columns.values[0] = \"name\"",
      "metadata": {
        "trusted": true
      },
      "outputs": [],
      "execution_count": 108
    },
    {
      "cell_type": "code",
      "source": "all_columns = chest.columns\nall_columns",
      "metadata": {
        "trusted": true
      },
      "outputs": [
        {
          "execution_count": 109,
          "output_type": "execute_result",
          "data": {
            "text/plain": "Index(['name', 'a_zile', 'b_minute', 'c_zile', 'd_minute', 'e_zile', 'f_zile',\n       'g_minute'],\n      dtype='object')"
          },
          "metadata": {}
        }
      ],
      "execution_count": 109
    },
    {
      "cell_type": "code",
      "source": "chest.rename(columns = {'name':'Name', 'a_zile':'azile'}, inplace = True)\n#inplace = True or chest.rename = chest.rename(..)\n#index= ... insetead of columns= ... for index renaming",
      "metadata": {
        "trusted": true
      },
      "outputs": [],
      "execution_count": 110
    },
    {
      "cell_type": "code",
      "source": "chest.head(1)",
      "metadata": {
        "trusted": true
      },
      "outputs": [
        {
          "execution_count": 111,
          "output_type": "execute_result",
          "data": {
            "text/plain": "  Name  azile  b_minute  c_zile  d_minute  e_zile  f_zile  g_minute\n0   c1      0       0.0       1      20.0     1.0    30.0     480.0",
            "text/html": "<div>\n<style scoped>\n    .dataframe tbody tr th:only-of-type {\n        vertical-align: middle;\n    }\n\n    .dataframe tbody tr th {\n        vertical-align: top;\n    }\n\n    .dataframe thead th {\n        text-align: right;\n    }\n</style>\n<table border=\"1\" class=\"dataframe\">\n  <thead>\n    <tr style=\"text-align: right;\">\n      <th></th>\n      <th>Name</th>\n      <th>azile</th>\n      <th>b_minute</th>\n      <th>c_zile</th>\n      <th>d_minute</th>\n      <th>e_zile</th>\n      <th>f_zile</th>\n      <th>g_minute</th>\n    </tr>\n  </thead>\n  <tbody>\n    <tr>\n      <th>0</th>\n      <td>c1</td>\n      <td>0</td>\n      <td>0.0</td>\n      <td>1</td>\n      <td>20.0</td>\n      <td>1.0</td>\n      <td>30.0</td>\n      <td>480.0</td>\n    </tr>\n  </tbody>\n</table>\n</div>"
          },
          "metadata": {}
        }
      ],
      "execution_count": 111
    },
    {
      "cell_type": "code",
      "source": "chest.columns = all_columns\nchest.head(1)",
      "metadata": {
        "trusted": true
      },
      "outputs": [
        {
          "execution_count": 112,
          "output_type": "execute_result",
          "data": {
            "text/plain": "  name  a_zile  b_minute  c_zile  d_minute  e_zile  f_zile  g_minute\n0   c1       0       0.0       1      20.0     1.0    30.0     480.0",
            "text/html": "<div>\n<style scoped>\n    .dataframe tbody tr th:only-of-type {\n        vertical-align: middle;\n    }\n\n    .dataframe tbody tr th {\n        vertical-align: top;\n    }\n\n    .dataframe thead th {\n        text-align: right;\n    }\n</style>\n<table border=\"1\" class=\"dataframe\">\n  <thead>\n    <tr style=\"text-align: right;\">\n      <th></th>\n      <th>name</th>\n      <th>a_zile</th>\n      <th>b_minute</th>\n      <th>c_zile</th>\n      <th>d_minute</th>\n      <th>e_zile</th>\n      <th>f_zile</th>\n      <th>g_minute</th>\n    </tr>\n  </thead>\n  <tbody>\n    <tr>\n      <th>0</th>\n      <td>c1</td>\n      <td>0</td>\n      <td>0.0</td>\n      <td>1</td>\n      <td>20.0</td>\n      <td>1.0</td>\n      <td>30.0</td>\n      <td>480.0</td>\n    </tr>\n  </tbody>\n</table>\n</div>"
          },
          "metadata": {}
        }
      ],
      "execution_count": 112
    },
    {
      "cell_type": "code",
      "source": "#chest.rename(columns = ['a', 'b', 'c', 'd', 'e', 'f', 'g', 'h'], inplace=True) error: list object is not callable\n#however, dictionaries are callable\n#chest.head(1)",
      "metadata": {
        "trusted": true
      },
      "outputs": [],
      "execution_count": 113
    },
    {
      "cell_type": "code",
      "source": "newdf = pd.DataFrame('#', columns = list('abcdefgh'), index = range(3))   #list object is callable here\nnewdf",
      "metadata": {
        "trusted": true
      },
      "outputs": [
        {
          "execution_count": 114,
          "output_type": "execute_result",
          "data": {
            "text/plain": "   a  b  c  d  e  f  g  h\n0  #  #  #  #  #  #  #  #\n1  #  #  #  #  #  #  #  #\n2  #  #  #  #  #  #  #  #",
            "text/html": "<div>\n<style scoped>\n    .dataframe tbody tr th:only-of-type {\n        vertical-align: middle;\n    }\n\n    .dataframe tbody tr th {\n        vertical-align: top;\n    }\n\n    .dataframe thead th {\n        text-align: right;\n    }\n</style>\n<table border=\"1\" class=\"dataframe\">\n  <thead>\n    <tr style=\"text-align: right;\">\n      <th></th>\n      <th>a</th>\n      <th>b</th>\n      <th>c</th>\n      <th>d</th>\n      <th>e</th>\n      <th>f</th>\n      <th>g</th>\n      <th>h</th>\n    </tr>\n  </thead>\n  <tbody>\n    <tr>\n      <th>0</th>\n      <td>#</td>\n      <td>#</td>\n      <td>#</td>\n      <td>#</td>\n      <td>#</td>\n      <td>#</td>\n      <td>#</td>\n      <td>#</td>\n    </tr>\n    <tr>\n      <th>1</th>\n      <td>#</td>\n      <td>#</td>\n      <td>#</td>\n      <td>#</td>\n      <td>#</td>\n      <td>#</td>\n      <td>#</td>\n      <td>#</td>\n    </tr>\n    <tr>\n      <th>2</th>\n      <td>#</td>\n      <td>#</td>\n      <td>#</td>\n      <td>#</td>\n      <td>#</td>\n      <td>#</td>\n      <td>#</td>\n      <td>#</td>\n    </tr>\n  </tbody>\n</table>\n</div>"
          },
          "metadata": {}
        }
      ],
      "execution_count": 114
    },
    {
      "cell_type": "code",
      "source": "newdf.columns = [col + '_new' for col in newdf.columns]\nnewdf",
      "metadata": {
        "trusted": true
      },
      "outputs": [
        {
          "execution_count": 115,
          "output_type": "execute_result",
          "data": {
            "text/plain": "  a_new b_new c_new d_new e_new f_new g_new h_new\n0     #     #     #     #     #     #     #     #\n1     #     #     #     #     #     #     #     #\n2     #     #     #     #     #     #     #     #",
            "text/html": "<div>\n<style scoped>\n    .dataframe tbody tr th:only-of-type {\n        vertical-align: middle;\n    }\n\n    .dataframe tbody tr th {\n        vertical-align: top;\n    }\n\n    .dataframe thead th {\n        text-align: right;\n    }\n</style>\n<table border=\"1\" class=\"dataframe\">\n  <thead>\n    <tr style=\"text-align: right;\">\n      <th></th>\n      <th>a_new</th>\n      <th>b_new</th>\n      <th>c_new</th>\n      <th>d_new</th>\n      <th>e_new</th>\n      <th>f_new</th>\n      <th>g_new</th>\n      <th>h_new</th>\n    </tr>\n  </thead>\n  <tbody>\n    <tr>\n      <th>0</th>\n      <td>#</td>\n      <td>#</td>\n      <td>#</td>\n      <td>#</td>\n      <td>#</td>\n      <td>#</td>\n      <td>#</td>\n      <td>#</td>\n    </tr>\n    <tr>\n      <th>1</th>\n      <td>#</td>\n      <td>#</td>\n      <td>#</td>\n      <td>#</td>\n      <td>#</td>\n      <td>#</td>\n      <td>#</td>\n      <td>#</td>\n    </tr>\n    <tr>\n      <th>2</th>\n      <td>#</td>\n      <td>#</td>\n      <td>#</td>\n      <td>#</td>\n      <td>#</td>\n      <td>#</td>\n      <td>#</td>\n      <td>#</td>\n    </tr>\n  </tbody>\n</table>\n</div>"
          },
          "metadata": {}
        }
      ],
      "execution_count": 115
    },
    {
      "cell_type": "code",
      "source": "newdf.columns = newdf.columns.str.upper()\nnewdf",
      "metadata": {
        "trusted": true
      },
      "outputs": [
        {
          "execution_count": 116,
          "output_type": "execute_result",
          "data": {
            "text/plain": "  A_NEW B_NEW C_NEW D_NEW E_NEW F_NEW G_NEW H_NEW\n0     #     #     #     #     #     #     #     #\n1     #     #     #     #     #     #     #     #\n2     #     #     #     #     #     #     #     #",
            "text/html": "<div>\n<style scoped>\n    .dataframe tbody tr th:only-of-type {\n        vertical-align: middle;\n    }\n\n    .dataframe tbody tr th {\n        vertical-align: top;\n    }\n\n    .dataframe thead th {\n        text-align: right;\n    }\n</style>\n<table border=\"1\" class=\"dataframe\">\n  <thead>\n    <tr style=\"text-align: right;\">\n      <th></th>\n      <th>A_NEW</th>\n      <th>B_NEW</th>\n      <th>C_NEW</th>\n      <th>D_NEW</th>\n      <th>E_NEW</th>\n      <th>F_NEW</th>\n      <th>G_NEW</th>\n      <th>H_NEW</th>\n    </tr>\n  </thead>\n  <tbody>\n    <tr>\n      <th>0</th>\n      <td>#</td>\n      <td>#</td>\n      <td>#</td>\n      <td>#</td>\n      <td>#</td>\n      <td>#</td>\n      <td>#</td>\n      <td>#</td>\n    </tr>\n    <tr>\n      <th>1</th>\n      <td>#</td>\n      <td>#</td>\n      <td>#</td>\n      <td>#</td>\n      <td>#</td>\n      <td>#</td>\n      <td>#</td>\n      <td>#</td>\n    </tr>\n    <tr>\n      <th>2</th>\n      <td>#</td>\n      <td>#</td>\n      <td>#</td>\n      <td>#</td>\n      <td>#</td>\n      <td>#</td>\n      <td>#</td>\n      <td>#</td>\n    </tr>\n  </tbody>\n</table>\n</div>"
          },
          "metadata": {}
        }
      ],
      "execution_count": 116
    },
    {
      "cell_type": "code",
      "source": "newdf.columns = [col[0] for col in newdf.columns]\nnewdf",
      "metadata": {
        "trusted": true
      },
      "outputs": [
        {
          "execution_count": 117,
          "output_type": "execute_result",
          "data": {
            "text/plain": "   A  B  C  D  E  F  G  H\n0  #  #  #  #  #  #  #  #\n1  #  #  #  #  #  #  #  #\n2  #  #  #  #  #  #  #  #",
            "text/html": "<div>\n<style scoped>\n    .dataframe tbody tr th:only-of-type {\n        vertical-align: middle;\n    }\n\n    .dataframe tbody tr th {\n        vertical-align: top;\n    }\n\n    .dataframe thead th {\n        text-align: right;\n    }\n</style>\n<table border=\"1\" class=\"dataframe\">\n  <thead>\n    <tr style=\"text-align: right;\">\n      <th></th>\n      <th>A</th>\n      <th>B</th>\n      <th>C</th>\n      <th>D</th>\n      <th>E</th>\n      <th>F</th>\n      <th>G</th>\n      <th>H</th>\n    </tr>\n  </thead>\n  <tbody>\n    <tr>\n      <th>0</th>\n      <td>#</td>\n      <td>#</td>\n      <td>#</td>\n      <td>#</td>\n      <td>#</td>\n      <td>#</td>\n      <td>#</td>\n      <td>#</td>\n    </tr>\n    <tr>\n      <th>1</th>\n      <td>#</td>\n      <td>#</td>\n      <td>#</td>\n      <td>#</td>\n      <td>#</td>\n      <td>#</td>\n      <td>#</td>\n      <td>#</td>\n    </tr>\n    <tr>\n      <th>2</th>\n      <td>#</td>\n      <td>#</td>\n      <td>#</td>\n      <td>#</td>\n      <td>#</td>\n      <td>#</td>\n      <td>#</td>\n      <td>#</td>\n    </tr>\n  </tbody>\n</table>\n</div>"
          },
          "metadata": {}
        }
      ],
      "execution_count": 117
    },
    {
      "cell_type": "code",
      "source": "newdf.columns = list('abcdefgh')\nnewdf",
      "metadata": {
        "trusted": true
      },
      "outputs": [
        {
          "execution_count": 118,
          "output_type": "execute_result",
          "data": {
            "text/plain": "   a  b  c  d  e  f  g  h\n0  #  #  #  #  #  #  #  #\n1  #  #  #  #  #  #  #  #\n2  #  #  #  #  #  #  #  #",
            "text/html": "<div>\n<style scoped>\n    .dataframe tbody tr th:only-of-type {\n        vertical-align: middle;\n    }\n\n    .dataframe tbody tr th {\n        vertical-align: top;\n    }\n\n    .dataframe thead th {\n        text-align: right;\n    }\n</style>\n<table border=\"1\" class=\"dataframe\">\n  <thead>\n    <tr style=\"text-align: right;\">\n      <th></th>\n      <th>a</th>\n      <th>b</th>\n      <th>c</th>\n      <th>d</th>\n      <th>e</th>\n      <th>f</th>\n      <th>g</th>\n      <th>h</th>\n    </tr>\n  </thead>\n  <tbody>\n    <tr>\n      <th>0</th>\n      <td>#</td>\n      <td>#</td>\n      <td>#</td>\n      <td>#</td>\n      <td>#</td>\n      <td>#</td>\n      <td>#</td>\n      <td>#</td>\n    </tr>\n    <tr>\n      <th>1</th>\n      <td>#</td>\n      <td>#</td>\n      <td>#</td>\n      <td>#</td>\n      <td>#</td>\n      <td>#</td>\n      <td>#</td>\n      <td>#</td>\n    </tr>\n    <tr>\n      <th>2</th>\n      <td>#</td>\n      <td>#</td>\n      <td>#</td>\n      <td>#</td>\n      <td>#</td>\n      <td>#</td>\n      <td>#</td>\n      <td>#</td>\n    </tr>\n  </tbody>\n</table>\n</div>"
          },
          "metadata": {}
        }
      ],
      "execution_count": 118
    },
    {
      "cell_type": "code",
      "source": "newdf.columns = list('ABCDEFGHIJ')[:-2]",
      "metadata": {
        "trusted": true
      },
      "outputs": [],
      "execution_count": 119
    },
    {
      "cell_type": "code",
      "source": "newdf",
      "metadata": {
        "trusted": true
      },
      "outputs": [
        {
          "execution_count": 120,
          "output_type": "execute_result",
          "data": {
            "text/plain": "   A  B  C  D  E  F  G  H\n0  #  #  #  #  #  #  #  #\n1  #  #  #  #  #  #  #  #\n2  #  #  #  #  #  #  #  #",
            "text/html": "<div>\n<style scoped>\n    .dataframe tbody tr th:only-of-type {\n        vertical-align: middle;\n    }\n\n    .dataframe tbody tr th {\n        vertical-align: top;\n    }\n\n    .dataframe thead th {\n        text-align: right;\n    }\n</style>\n<table border=\"1\" class=\"dataframe\">\n  <thead>\n    <tr style=\"text-align: right;\">\n      <th></th>\n      <th>A</th>\n      <th>B</th>\n      <th>C</th>\n      <th>D</th>\n      <th>E</th>\n      <th>F</th>\n      <th>G</th>\n      <th>H</th>\n    </tr>\n  </thead>\n  <tbody>\n    <tr>\n      <th>0</th>\n      <td>#</td>\n      <td>#</td>\n      <td>#</td>\n      <td>#</td>\n      <td>#</td>\n      <td>#</td>\n      <td>#</td>\n      <td>#</td>\n    </tr>\n    <tr>\n      <th>1</th>\n      <td>#</td>\n      <td>#</td>\n      <td>#</td>\n      <td>#</td>\n      <td>#</td>\n      <td>#</td>\n      <td>#</td>\n      <td>#</td>\n    </tr>\n    <tr>\n      <th>2</th>\n      <td>#</td>\n      <td>#</td>\n      <td>#</td>\n      <td>#</td>\n      <td>#</td>\n      <td>#</td>\n      <td>#</td>\n      <td>#</td>\n    </tr>\n  </tbody>\n</table>\n</div>"
          },
          "metadata": {}
        }
      ],
      "execution_count": 120
    },
    {
      "cell_type": "code",
      "source": "newdf = newdf.add_prefix('xxxx')    #also add_suffix\nnewdf",
      "metadata": {
        "trusted": true,
        "tags": [],
        "editable": true,
        "slideshow": {
          "slide_type": ""
        }
      },
      "outputs": [
        {
          "execution_count": 121,
          "output_type": "execute_result",
          "data": {
            "text/plain": "  xxxxA xxxxB xxxxC xxxxD xxxxE xxxxF xxxxG xxxxH\n0     #     #     #     #     #     #     #     #\n1     #     #     #     #     #     #     #     #\n2     #     #     #     #     #     #     #     #",
            "text/html": "<div>\n<style scoped>\n    .dataframe tbody tr th:only-of-type {\n        vertical-align: middle;\n    }\n\n    .dataframe tbody tr th {\n        vertical-align: top;\n    }\n\n    .dataframe thead th {\n        text-align: right;\n    }\n</style>\n<table border=\"1\" class=\"dataframe\">\n  <thead>\n    <tr style=\"text-align: right;\">\n      <th></th>\n      <th>xxxxA</th>\n      <th>xxxxB</th>\n      <th>xxxxC</th>\n      <th>xxxxD</th>\n      <th>xxxxE</th>\n      <th>xxxxF</th>\n      <th>xxxxG</th>\n      <th>xxxxH</th>\n    </tr>\n  </thead>\n  <tbody>\n    <tr>\n      <th>0</th>\n      <td>#</td>\n      <td>#</td>\n      <td>#</td>\n      <td>#</td>\n      <td>#</td>\n      <td>#</td>\n      <td>#</td>\n      <td>#</td>\n    </tr>\n    <tr>\n      <th>1</th>\n      <td>#</td>\n      <td>#</td>\n      <td>#</td>\n      <td>#</td>\n      <td>#</td>\n      <td>#</td>\n      <td>#</td>\n      <td>#</td>\n    </tr>\n    <tr>\n      <th>2</th>\n      <td>#</td>\n      <td>#</td>\n      <td>#</td>\n      <td>#</td>\n      <td>#</td>\n      <td>#</td>\n      <td>#</td>\n      <td>#</td>\n    </tr>\n  </tbody>\n</table>\n</div>"
          },
          "metadata": {}
        }
      ],
      "execution_count": 121
    },
    {
      "cell_type": "code",
      "source": "newdf.columns=newdf.columns.str.replace('xxxx', 'XXXX')\nnewdf",
      "metadata": {
        "trusted": true
      },
      "outputs": [
        {
          "execution_count": 122,
          "output_type": "execute_result",
          "data": {
            "text/plain": "  XXXXA XXXXB XXXXC XXXXD XXXXE XXXXF XXXXG XXXXH\n0     #     #     #     #     #     #     #     #\n1     #     #     #     #     #     #     #     #\n2     #     #     #     #     #     #     #     #",
            "text/html": "<div>\n<style scoped>\n    .dataframe tbody tr th:only-of-type {\n        vertical-align: middle;\n    }\n\n    .dataframe tbody tr th {\n        vertical-align: top;\n    }\n\n    .dataframe thead th {\n        text-align: right;\n    }\n</style>\n<table border=\"1\" class=\"dataframe\">\n  <thead>\n    <tr style=\"text-align: right;\">\n      <th></th>\n      <th>XXXXA</th>\n      <th>XXXXB</th>\n      <th>XXXXC</th>\n      <th>XXXXD</th>\n      <th>XXXXE</th>\n      <th>XXXXF</th>\n      <th>XXXXG</th>\n      <th>XXXXH</th>\n    </tr>\n  </thead>\n  <tbody>\n    <tr>\n      <th>0</th>\n      <td>#</td>\n      <td>#</td>\n      <td>#</td>\n      <td>#</td>\n      <td>#</td>\n      <td>#</td>\n      <td>#</td>\n      <td>#</td>\n    </tr>\n    <tr>\n      <th>1</th>\n      <td>#</td>\n      <td>#</td>\n      <td>#</td>\n      <td>#</td>\n      <td>#</td>\n      <td>#</td>\n      <td>#</td>\n      <td>#</td>\n    </tr>\n    <tr>\n      <th>2</th>\n      <td>#</td>\n      <td>#</td>\n      <td>#</td>\n      <td>#</td>\n      <td>#</td>\n      <td>#</td>\n      <td>#</td>\n      <td>#</td>\n    </tr>\n  </tbody>\n</table>\n</div>"
          },
          "metadata": {}
        }
      ],
      "execution_count": 122
    },
    {
      "cell_type": "code",
      "source": "newdf.rename(columns=lambda x: x[4:], inplace=True)\nnewdf",
      "metadata": {
        "trusted": true
      },
      "outputs": [
        {
          "execution_count": 123,
          "output_type": "execute_result",
          "data": {
            "text/plain": "   A  B  C  D  E  F  G  H\n0  #  #  #  #  #  #  #  #\n1  #  #  #  #  #  #  #  #\n2  #  #  #  #  #  #  #  #",
            "text/html": "<div>\n<style scoped>\n    .dataframe tbody tr th:only-of-type {\n        vertical-align: middle;\n    }\n\n    .dataframe tbody tr th {\n        vertical-align: top;\n    }\n\n    .dataframe thead th {\n        text-align: right;\n    }\n</style>\n<table border=\"1\" class=\"dataframe\">\n  <thead>\n    <tr style=\"text-align: right;\">\n      <th></th>\n      <th>A</th>\n      <th>B</th>\n      <th>C</th>\n      <th>D</th>\n      <th>E</th>\n      <th>F</th>\n      <th>G</th>\n      <th>H</th>\n    </tr>\n  </thead>\n  <tbody>\n    <tr>\n      <th>0</th>\n      <td>#</td>\n      <td>#</td>\n      <td>#</td>\n      <td>#</td>\n      <td>#</td>\n      <td>#</td>\n      <td>#</td>\n      <td>#</td>\n    </tr>\n    <tr>\n      <th>1</th>\n      <td>#</td>\n      <td>#</td>\n      <td>#</td>\n      <td>#</td>\n      <td>#</td>\n      <td>#</td>\n      <td>#</td>\n      <td>#</td>\n    </tr>\n    <tr>\n      <th>2</th>\n      <td>#</td>\n      <td>#</td>\n      <td>#</td>\n      <td>#</td>\n      <td>#</td>\n      <td>#</td>\n      <td>#</td>\n      <td>#</td>\n    </tr>\n  </tbody>\n</table>\n</div>"
          },
          "metadata": {}
        }
      ],
      "execution_count": 123
    },
    {
      "cell_type": "code",
      "source": "newdf = newdf.add_prefix('xxxx')\nnewdf",
      "metadata": {
        "trusted": true
      },
      "outputs": [
        {
          "execution_count": 124,
          "output_type": "execute_result",
          "data": {
            "text/plain": "  xxxxA xxxxB xxxxC xxxxD xxxxE xxxxF xxxxG xxxxH\n0     #     #     #     #     #     #     #     #\n1     #     #     #     #     #     #     #     #\n2     #     #     #     #     #     #     #     #",
            "text/html": "<div>\n<style scoped>\n    .dataframe tbody tr th:only-of-type {\n        vertical-align: middle;\n    }\n\n    .dataframe tbody tr th {\n        vertical-align: top;\n    }\n\n    .dataframe thead th {\n        text-align: right;\n    }\n</style>\n<table border=\"1\" class=\"dataframe\">\n  <thead>\n    <tr style=\"text-align: right;\">\n      <th></th>\n      <th>xxxxA</th>\n      <th>xxxxB</th>\n      <th>xxxxC</th>\n      <th>xxxxD</th>\n      <th>xxxxE</th>\n      <th>xxxxF</th>\n      <th>xxxxG</th>\n      <th>xxxxH</th>\n    </tr>\n  </thead>\n  <tbody>\n    <tr>\n      <th>0</th>\n      <td>#</td>\n      <td>#</td>\n      <td>#</td>\n      <td>#</td>\n      <td>#</td>\n      <td>#</td>\n      <td>#</td>\n      <td>#</td>\n    </tr>\n    <tr>\n      <th>1</th>\n      <td>#</td>\n      <td>#</td>\n      <td>#</td>\n      <td>#</td>\n      <td>#</td>\n      <td>#</td>\n      <td>#</td>\n      <td>#</td>\n    </tr>\n    <tr>\n      <th>2</th>\n      <td>#</td>\n      <td>#</td>\n      <td>#</td>\n      <td>#</td>\n      <td>#</td>\n      <td>#</td>\n      <td>#</td>\n      <td>#</td>\n    </tr>\n  </tbody>\n</table>\n</div>"
          },
          "metadata": {}
        }
      ],
      "execution_count": 124
    },
    {
      "cell_type": "code",
      "source": "newdf.rename(columns=lambda x: x.replace('xxx', 'e'), inplace=True)\nnewdf",
      "metadata": {
        "trusted": true
      },
      "outputs": [
        {
          "execution_count": 125,
          "output_type": "execute_result",
          "data": {
            "text/plain": "  exA exB exC exD exE exF exG exH\n0   #   #   #   #   #   #   #   #\n1   #   #   #   #   #   #   #   #\n2   #   #   #   #   #   #   #   #",
            "text/html": "<div>\n<style scoped>\n    .dataframe tbody tr th:only-of-type {\n        vertical-align: middle;\n    }\n\n    .dataframe tbody tr th {\n        vertical-align: top;\n    }\n\n    .dataframe thead th {\n        text-align: right;\n    }\n</style>\n<table border=\"1\" class=\"dataframe\">\n  <thead>\n    <tr style=\"text-align: right;\">\n      <th></th>\n      <th>exA</th>\n      <th>exB</th>\n      <th>exC</th>\n      <th>exD</th>\n      <th>exE</th>\n      <th>exF</th>\n      <th>exG</th>\n      <th>exH</th>\n    </tr>\n  </thead>\n  <tbody>\n    <tr>\n      <th>0</th>\n      <td>#</td>\n      <td>#</td>\n      <td>#</td>\n      <td>#</td>\n      <td>#</td>\n      <td>#</td>\n      <td>#</td>\n      <td>#</td>\n    </tr>\n    <tr>\n      <th>1</th>\n      <td>#</td>\n      <td>#</td>\n      <td>#</td>\n      <td>#</td>\n      <td>#</td>\n      <td>#</td>\n      <td>#</td>\n      <td>#</td>\n    </tr>\n    <tr>\n      <th>2</th>\n      <td>#</td>\n      <td>#</td>\n      <td>#</td>\n      <td>#</td>\n      <td>#</td>\n      <td>#</td>\n      <td>#</td>\n      <td>#</td>\n    </tr>\n  </tbody>\n</table>\n</div>"
          },
          "metadata": {}
        }
      ],
      "execution_count": 125
    },
    {
      "cell_type": "code",
      "source": "print(newdf.iloc[:,1].name)",
      "metadata": {
        "trusted": true
      },
      "outputs": [
        {
          "name": "stdout",
          "text": "exB\n",
          "output_type": "stream"
        }
      ],
      "execution_count": 130
    },
    {
      "cell_type": "code",
      "source": "print(newdf.index.name)",
      "metadata": {
        "trusted": true
      },
      "outputs": [
        {
          "name": "stdout",
          "text": "None\n",
          "output_type": "stream"
        }
      ],
      "execution_count": 131
    },
    {
      "cell_type": "code",
      "source": "print(newdf.columns.name)",
      "metadata": {
        "trusted": true,
        "tags": [],
        "editable": true,
        "slideshow": {
          "slide_type": ""
        }
      },
      "outputs": [
        {
          "name": "stdout",
          "text": "None\n",
          "output_type": "stream"
        }
      ],
      "execution_count": 132
    }
  ]
}