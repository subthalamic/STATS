{
 "cells": [
  {
   "cell_type": "code",
   "execution_count": 95,
   "metadata": {
    "executionInfo": {
     "elapsed": 245,
     "status": "ok",
     "timestamp": 1712305472230,
     "user": {
      "displayName": "Theodor Trausan-Matu",
      "userId": "17891038521471135148"
     },
     "user_tz": -180
    },
    "id": "ZYOKZNwtyjia"
   },
   "outputs": [],
   "source": [
    "import pandas as pd\n",
    "import matplotlib.pyplot as plt\n",
    "from sympy import *"
   ]
  },
  {
   "cell_type": "code",
   "execution_count": 96,
   "metadata": {
    "executionInfo": {
     "elapsed": 7,
     "status": "ok",
     "timestamp": 1712305472504,
     "user": {
      "displayName": "Theodor Trausan-Matu",
      "userId": "17891038521471135148"
     },
     "user_tz": -180
    },
    "id": "3g-KADHF4OkG"
   },
   "outputs": [],
   "source": [
    "init_printing()"
   ]
  },
  {
   "cell_type": "code",
   "execution_count": 97,
   "metadata": {
    "executionInfo": {
     "elapsed": 7,
     "status": "ok",
     "timestamp": 1712305472504,
     "user": {
      "displayName": "Theodor Trausan-Matu",
      "userId": "17891038521471135148"
     },
     "user_tz": -180
    },
    "id": "BX4f0xU-8Qi-"
   },
   "outputs": [],
   "source": [
    "a, b = symbols('a b')"
   ]
  },
  {
   "cell_type": "code",
   "execution_count": 98,
   "metadata": {
    "executionInfo": {
     "elapsed": 7,
     "status": "ok",
     "timestamp": 1712305472504,
     "user": {
      "displayName": "Theodor Trausan-Matu",
      "userId": "17891038521471135148"
     },
     "user_tz": -180
    },
    "id": "2V8SrcQm8bI_"
   },
   "outputs": [],
   "source": [
    "ab = Matrix([a, b])"
   ]
  },
  {
   "cell_type": "code",
   "execution_count": 99,
   "metadata": {
    "colab": {
     "base_uri": "https://localhost:8080/",
     "height": 58
    },
    "executionInfo": {
     "elapsed": 7,
     "status": "ok",
     "timestamp": 1712305472504,
     "user": {
      "displayName": "Theodor Trausan-Matu",
      "userId": "17891038521471135148"
     },
     "user_tz": -180
    },
    "id": "9O2XsV1B8grF",
    "outputId": "fbc1841c-3fed-4ee8-83af-73df325052ca"
   },
   "outputs": [
    {
     "data": {
      "text/latex": [
       "$\\displaystyle \\left[\\begin{matrix}a\\\\b\\end{matrix}\\right]$"
      ],
      "text/plain": [
       "⎡a⎤\n",
       "⎢ ⎥\n",
       "⎣b⎦"
      ]
     },
     "execution_count": 99,
     "metadata": {},
     "output_type": "execute_result"
    }
   ],
   "source": [
    "ab"
   ]
  },
  {
   "cell_type": "code",
   "execution_count": 100,
   "metadata": {
    "executionInfo": {
     "elapsed": 6,
     "status": "ok",
     "timestamp": 1712305472505,
     "user": {
      "displayName": "Theodor Trausan-Matu",
      "userId": "17891038521471135148"
     },
     "user_tz": -180
    },
    "id": "9_WzcUcB8qg8"
   },
   "outputs": [],
   "source": [
    "x = Matrix([symbols('x1:{}'.format(4))]).T"
   ]
  },
  {
   "cell_type": "code",
   "execution_count": 101,
   "metadata": {
    "colab": {
     "base_uri": "https://localhost:8080/",
     "height": 78
    },
    "executionInfo": {
     "elapsed": 6,
     "status": "ok",
     "timestamp": 1712305472505,
     "user": {
      "displayName": "Theodor Trausan-Matu",
      "userId": "17891038521471135148"
     },
     "user_tz": -180
    },
    "id": "8RLolqGBCk5v",
    "outputId": "ad98fddd-7138-4b4e-8f04-b314c5af5f6f"
   },
   "outputs": [
    {
     "data": {
      "text/latex": [
       "$\\displaystyle \\left[\\begin{matrix}x_{1}\\\\x_{2}\\\\x_{3}\\end{matrix}\\right]$"
      ],
      "text/plain": [
       "⎡x₁⎤\n",
       "⎢  ⎥\n",
       "⎢x₂⎥\n",
       "⎢  ⎥\n",
       "⎣x₃⎦"
      ]
     },
     "execution_count": 101,
     "metadata": {},
     "output_type": "execute_result"
    }
   ],
   "source": [
    "x"
   ]
  },
  {
   "cell_type": "code",
   "execution_count": 102,
   "metadata": {
    "executionInfo": {
     "elapsed": 5,
     "status": "ok",
     "timestamp": 1712305472505,
     "user": {
      "displayName": "Theodor Trausan-Matu",
      "userId": "17891038521471135148"
     },
     "user_tz": -180
    },
    "id": "PdgyufUZClhh"
   },
   "outputs": [],
   "source": [
    "X = ones(3,1).row_join(x)"
   ]
  },
  {
   "cell_type": "code",
   "execution_count": 103,
   "metadata": {
    "colab": {
     "base_uri": "https://localhost:8080/",
     "height": 78
    },
    "executionInfo": {
     "elapsed": 16,
     "status": "ok",
     "timestamp": 1712305472921,
     "user": {
      "displayName": "Theodor Trausan-Matu",
      "userId": "17891038521471135148"
     },
     "user_tz": -180
    },
    "id": "lm4hdTEcDw8Q",
    "outputId": "aa3ddc1e-8b46-4b91-a95a-24a265f12670"
   },
   "outputs": [
    {
     "data": {
      "text/latex": [
       "$\\displaystyle \\left[\\begin{matrix}1 & x_{1}\\\\1 & x_{2}\\\\1 & x_{3}\\end{matrix}\\right]$"
      ],
      "text/plain": [
       "⎡1  x₁⎤\n",
       "⎢     ⎥\n",
       "⎢1  x₂⎥\n",
       "⎢     ⎥\n",
       "⎣1  x₃⎦"
      ]
     },
     "execution_count": 103,
     "metadata": {},
     "output_type": "execute_result"
    }
   ],
   "source": [
    "X"
   ]
  },
  {
   "cell_type": "code",
   "execution_count": 104,
   "metadata": {
    "colab": {
     "base_uri": "https://localhost:8080/",
     "height": 78
    },
    "executionInfo": {
     "elapsed": 15,
     "status": "ok",
     "timestamp": 1712305472921,
     "user": {
      "displayName": "Theodor Trausan-Matu",
      "userId": "17891038521471135148"
     },
     "user_tz": -180
    },
    "id": "lXW_6sLsD7ln",
    "outputId": "90020a83-2dac-4c73-81ab-5b81b0159f3e"
   },
   "outputs": [
    {
     "data": {
      "text/latex": [
       "$\\displaystyle \\left[\\begin{matrix}a + b x_{1}\\\\a + b x_{2}\\\\a + b x_{3}\\end{matrix}\\right]$"
      ],
      "text/plain": [
       "⎡a + b⋅x₁⎤\n",
       "⎢        ⎥\n",
       "⎢a + b⋅x₂⎥\n",
       "⎢        ⎥\n",
       "⎣a + b⋅x₃⎦"
      ]
     },
     "execution_count": 104,
     "metadata": {},
     "output_type": "execute_result"
    }
   ],
   "source": [
    "X*ab"
   ]
  },
  {
   "cell_type": "code",
   "execution_count": 105,
   "metadata": {
    "executionInfo": {
     "elapsed": 14,
     "status": "ok",
     "timestamp": 1712305472921,
     "user": {
      "displayName": "Theodor Trausan-Matu",
      "userId": "17891038521471135148"
     },
     "user_tz": -180
    },
    "id": "FlHs2BM2D-J9"
   },
   "outputs": [],
   "source": [
    "y = Matrix([symbols('y1:{}'.format(4))]).T"
   ]
  },
  {
   "cell_type": "code",
   "execution_count": 106,
   "metadata": {
    "colab": {
     "base_uri": "https://localhost:8080/",
     "height": 78
    },
    "executionInfo": {
     "elapsed": 15,
     "status": "ok",
     "timestamp": 1712305472922,
     "user": {
      "displayName": "Theodor Trausan-Matu",
      "userId": "17891038521471135148"
     },
     "user_tz": -180
    },
    "id": "bTiJahZ5FX95",
    "outputId": "db63cd0f-13a3-4e23-cf15-dcbe1e0275f0"
   },
   "outputs": [
    {
     "data": {
      "text/latex": [
       "$\\displaystyle \\left[\\begin{matrix}y_{1}\\\\y_{2}\\\\y_{3}\\end{matrix}\\right]$"
      ],
      "text/plain": [
       "⎡y₁⎤\n",
       "⎢  ⎥\n",
       "⎢y₂⎥\n",
       "⎢  ⎥\n",
       "⎣y₃⎦"
      ]
     },
     "execution_count": 106,
     "metadata": {},
     "output_type": "execute_result"
    }
   ],
   "source": [
    "y"
   ]
  },
  {
   "cell_type": "code",
   "execution_count": 107,
   "metadata": {
    "executionInfo": {
     "elapsed": 15,
     "status": "ok",
     "timestamp": 1712305472922,
     "user": {
      "displayName": "Theodor Trausan-Matu",
      "userId": "17891038521471135148"
     },
     "user_tz": -180
    },
    "id": "YQykUtfvFYeH"
   },
   "outputs": [],
   "source": [
    "r = Matrix([symbols('r1:{}'.format(4))]).T"
   ]
  },
  {
   "cell_type": "code",
   "execution_count": 108,
   "metadata": {
    "colab": {
     "base_uri": "https://localhost:8080/",
     "height": 78
    },
    "executionInfo": {
     "elapsed": 14,
     "status": "ok",
     "timestamp": 1712305472922,
     "user": {
      "displayName": "Theodor Trausan-Matu",
      "userId": "17891038521471135148"
     },
     "user_tz": -180
    },
    "id": "t2zDx7isFbZk",
    "outputId": "b574d69b-768a-4015-c6c8-061ebfebdbf9"
   },
   "outputs": [
    {
     "data": {
      "text/latex": [
       "$\\displaystyle \\left[\\begin{matrix}r_{1}\\\\r_{2}\\\\r_{3}\\end{matrix}\\right]$"
      ],
      "text/plain": [
       "⎡r₁⎤\n",
       "⎢  ⎥\n",
       "⎢r₂⎥\n",
       "⎢  ⎥\n",
       "⎣r₃⎦"
      ]
     },
     "execution_count": 108,
     "metadata": {},
     "output_type": "execute_result"
    }
   ],
   "source": [
    "r"
   ]
  },
  {
   "cell_type": "code",
   "execution_count": 109,
   "metadata": {
    "colab": {
     "base_uri": "https://localhost:8080/",
     "height": 78
    },
    "executionInfo": {
     "elapsed": 14,
     "status": "ok",
     "timestamp": 1712305472922,
     "user": {
      "displayName": "Theodor Trausan-Matu",
      "userId": "17891038521471135148"
     },
     "user_tz": -180
    },
    "id": "nkg3AZHlFcL1",
    "outputId": "d651d373-b6cc-4292-a335-1eda65f5463d"
   },
   "outputs": [
    {
     "data": {
      "text/latex": [
       "$\\displaystyle \\left[\\begin{matrix}a + b x_{1} - y_{1}\\\\a + b x_{2} - y_{2}\\\\a + b x_{3} - y_{3}\\end{matrix}\\right]$"
      ],
      "text/plain": [
       "⎡a + b⋅x₁ - y₁⎤\n",
       "⎢             ⎥\n",
       "⎢a + b⋅x₂ - y₂⎥\n",
       "⎢             ⎥\n",
       "⎣a + b⋅x₃ - y₃⎦"
      ]
     },
     "execution_count": 109,
     "metadata": {},
     "output_type": "execute_result"
    }
   ],
   "source": [
    "X*ab-y"
   ]
  },
  {
   "cell_type": "code",
   "execution_count": 110,
   "metadata": {
    "colab": {
     "base_uri": "https://localhost:8080/",
     "height": 38
    },
    "executionInfo": {
     "elapsed": 13,
     "status": "ok",
     "timestamp": 1712305472922,
     "user": {
      "displayName": "Theodor Trausan-Matu",
      "userId": "17891038521471135148"
     },
     "user_tz": -180
    },
    "id": "NDf9sXFIGr-f",
    "outputId": "c99ce1f8-2cf2-4f0f-e046-05bf2a96f986"
   },
   "outputs": [
    {
     "data": {
      "text/latex": [
       "$\\displaystyle \\left[\\begin{matrix}a + b x_{1} - y_{1} & a + b x_{2} - y_{2} & a + b x_{3} - y_{3}\\end{matrix}\\right]$"
      ],
      "text/plain": [
       "[a + b⋅x₁ - y₁  a + b⋅x₂ - y₂  a + b⋅x₃ - y₃]"
      ]
     },
     "execution_count": 110,
     "metadata": {},
     "output_type": "execute_result"
    }
   ],
   "source": [
    "(X*ab-y).T"
   ]
  },
  {
   "cell_type": "code",
   "execution_count": 111,
   "metadata": {
    "colab": {
     "base_uri": "https://localhost:8080/",
     "height": 39
    },
    "executionInfo": {
     "elapsed": 13,
     "status": "ok",
     "timestamp": 1712305472922,
     "user": {
      "displayName": "Theodor Trausan-Matu",
      "userId": "17891038521471135148"
     },
     "user_tz": -180
    },
    "id": "mEXH9DDUIXPo",
    "outputId": "a542aed7-30a9-484e-bfcf-a04c5b4760cd"
   },
   "outputs": [
    {
     "data": {
      "text/latex": [
       "$\\displaystyle \\left[\\begin{matrix}\\left(a + b x_{1} - y_{1}\\right)^{2} + \\left(a + b x_{2} - y_{2}\\right)^{2} + \\left(a + b x_{3} - y_{3}\\right)^{2}\\end{matrix}\\right]$"
      ],
      "text/plain": [
       "⎡               2                  2                  2⎤\n",
       "⎣(a + b⋅x₁ - y₁)  + (a + b⋅x₂ - y₂)  + (a + b⋅x₃ - y₃) ⎦"
      ]
     },
     "execution_count": 111,
     "metadata": {},
     "output_type": "execute_result"
    }
   ],
   "source": [
    "(X*ab-y).T*(X*ab-y)"
   ]
  },
  {
   "cell_type": "code",
   "execution_count": 112,
   "metadata": {
    "colab": {
     "base_uri": "https://localhost:8080/",
     "height": 38
    },
    "executionInfo": {
     "elapsed": 12,
     "status": "ok",
     "timestamp": 1712305472922,
     "user": {
      "displayName": "Theodor Trausan-Matu",
      "userId": "17891038521471135148"
     },
     "user_tz": -180
    },
    "id": "NzFLuW9iIlyl",
    "outputId": "a75f8a1b-0f16-40ad-d9bf-30ef66e47885"
   },
   "outputs": [
    {
     "data": {
      "text/latex": [
       "$\\displaystyle \\left[\\begin{matrix}3 a^{2} + 2 a b x_{1} + 2 a b x_{2} + 2 a b x_{3} - 2 a y_{1} - 2 a y_{2} - 2 a y_{3} + b^{2} x_{1}^{2} + b^{2} x_{2}^{2} + b^{2} x_{3}^{2} - 2 b x_{1} y_{1} - 2 b x_{2} y_{2} - 2 b x_{3} y_{3} + y_{1}^{2} + y_{2}^{2} + y_{3}^{2}\\end{matrix}\\right]$"
      ],
      "text/plain": [
       "⎡   2                                                                2   2    \n",
       "⎣3⋅a  + 2⋅a⋅b⋅x₁ + 2⋅a⋅b⋅x₂ + 2⋅a⋅b⋅x₃ - 2⋅a⋅y₁ - 2⋅a⋅y₂ - 2⋅a⋅y₃ + b ⋅x₁  + b\n",
       "\n",
       "2   2    2   2                                         2     2     2⎤\n",
       " ⋅x₂  + b ⋅x₃  - 2⋅b⋅x₁⋅y₁ - 2⋅b⋅x₂⋅y₂ - 2⋅b⋅x₃⋅y₃ + y₁  + y₂  + y₃ ⎦"
      ]
     },
     "execution_count": 112,
     "metadata": {},
     "output_type": "execute_result"
    }
   ],
   "source": [
    "expand((X*ab-y).T*(X*ab-y))"
   ]
  },
  {
   "cell_type": "code",
   "execution_count": 113,
   "metadata": {
    "colab": {
     "base_uri": "https://localhost:8080/",
     "height": 38
    },
    "executionInfo": {
     "elapsed": 11,
     "status": "ok",
     "timestamp": 1712305472922,
     "user": {
      "displayName": "Theodor Trausan-Matu",
      "userId": "17891038521471135148"
     },
     "user_tz": -180
    },
    "id": "am-Rnd1iItDZ",
    "outputId": "9a83bbdb-4c33-422f-cfcf-12e52ad97b95"
   },
   "outputs": [
    {
     "data": {
      "text/latex": [
       "$\\displaystyle \\left[\\begin{matrix}6 a + 2 b x_{1} + 2 b x_{2} + 2 b x_{3} - 2 y_{1} - 2 y_{2} - 2 y_{3}\\end{matrix}\\right]$"
      ],
      "text/plain": [
       "[6⋅a + 2⋅b⋅x₁ + 2⋅b⋅x₂ + 2⋅b⋅x₃ - 2⋅y₁ - 2⋅y₂ - 2⋅y₃]"
      ]
     },
     "execution_count": 113,
     "metadata": {},
     "output_type": "execute_result"
    }
   ],
   "source": [
    "diff((X*ab-y).T*(X*ab-y), a)"
   ]
  },
  {
   "cell_type": "code",
   "execution_count": 114,
   "metadata": {
    "colab": {
     "base_uri": "https://localhost:8080/",
     "height": 38
    },
    "executionInfo": {
     "elapsed": 11,
     "status": "ok",
     "timestamp": 1712305472922,
     "user": {
      "displayName": "Theodor Trausan-Matu",
      "userId": "17891038521471135148"
     },
     "user_tz": -180
    },
    "id": "d9IILljxJfzA",
    "outputId": "6015b5e9-92b7-40d4-be22-6361a7bbc6d7"
   },
   "outputs": [
    {
     "data": {
      "text/latex": [
       "$\\displaystyle \\left[\\begin{matrix}2 x_{1} \\left(a + b x_{1} - y_{1}\\right) + 2 x_{2} \\left(a + b x_{2} - y_{2}\\right) + 2 x_{3} \\left(a + b x_{3} - y_{3}\\right)\\end{matrix}\\right]$"
      ],
      "text/plain": [
       "[2⋅x₁⋅(a + b⋅x₁ - y₁) + 2⋅x₂⋅(a + b⋅x₂ - y₂) + 2⋅x₃⋅(a + b⋅x₃ - y₃)]"
      ]
     },
     "execution_count": 114,
     "metadata": {},
     "output_type": "execute_result"
    }
   ],
   "source": [
    "diff((X*ab-y).T*(X*ab-y), b)"
   ]
  },
  {
   "cell_type": "code",
   "execution_count": 115,
   "metadata": {
    "colab": {
     "base_uri": "https://localhost:8080/",
     "height": 58
    },
    "executionInfo": {
     "elapsed": 534,
     "status": "ok",
     "timestamp": 1712305473446,
     "user": {
      "displayName": "Theodor Trausan-Matu",
      "userId": "17891038521471135148"
     },
     "user_tz": -180
    },
    "id": "MnkIIDpqKpvV",
    "outputId": "243a5759-57b3-4253-8ea5-1827c98eb168"
   },
   "outputs": [
    {
     "data": {
      "text/latex": [
       "$\\displaystyle \\left[\\begin{matrix}6 a + 2 b x_{1} + 2 b x_{2} + 2 b x_{3} - 2 y_{1} - 2 y_{2} - 2 y_{3}\\\\2 a x_{1} + 2 a x_{2} + 2 a x_{3} + 2 b x_{1}^{2} + 2 b x_{2}^{2} + 2 b x_{3}^{2} - 2 x_{1} y_{1} - 2 x_{2} y_{2} - 2 x_{3} y_{3}\\end{matrix}\\right]$"
      ],
      "text/plain": [
       "⎡                6⋅a + 2⋅b⋅x₁ + 2⋅b⋅x₂ + 2⋅b⋅x₃ - 2⋅y₁ - 2⋅y₂ - 2⋅y₃          \n",
       "⎢                                                                             \n",
       "⎢                                 2         2         2                       \n",
       "⎣2⋅a⋅x₁ + 2⋅a⋅x₂ + 2⋅a⋅x₃ + 2⋅b⋅x₁  + 2⋅b⋅x₂  + 2⋅b⋅x₃  - 2⋅x₁⋅y₁ - 2⋅x₂⋅y₂ - \n",
       "\n",
       "       ⎤\n",
       "       ⎥\n",
       "       ⎥\n",
       "2⋅x₃⋅y₃⎦"
      ]
     },
     "execution_count": 115,
     "metadata": {},
     "output_type": "execute_result"
    }
   ],
   "source": [
    "Matrix([diff((X*ab-y).T*(X*ab-y), a),expand(diff((X*ab-y).T*(X*ab-y), b))])"
   ]
  },
  {
   "cell_type": "code",
   "execution_count": 116,
   "metadata": {
    "colab": {
     "base_uri": "https://localhost:8080/",
     "height": 58
    },
    "executionInfo": {
     "elapsed": 6703,
     "status": "ok",
     "timestamp": 1712305480147,
     "user": {
      "displayName": "Theodor Trausan-Matu",
      "userId": "17891038521471135148"
     },
     "user_tz": -180
    },
    "id": "aiVEgNTjLE4L",
    "outputId": "013ae5c9-0237-4a3a-b382-67a5a9bc3d9e"
   },
   "outputs": [
    {
     "data": {
      "text/latex": [
       "$\\displaystyle \\left[ \\left\\{ a : \\frac{x_{1}^{2} y_{2} + x_{1}^{2} y_{3} - x_{1} x_{2} y_{1} - x_{1} x_{2} y_{2} - x_{1} x_{3} y_{1} - x_{1} x_{3} y_{3} + x_{2}^{2} y_{1} + x_{2}^{2} y_{3} - x_{2} x_{3} y_{2} - x_{2} x_{3} y_{3} + x_{3}^{2} y_{1} + x_{3}^{2} y_{2}}{2 \\left(x_{1}^{2} - x_{1} x_{2} - x_{1} x_{3} + x_{2}^{2} - x_{2} x_{3} + x_{3}^{2}\\right)}, \\  b : \\frac{2 x_{1} y_{1} - x_{1} y_{2} - x_{1} y_{3} - x_{2} y_{1} + 2 x_{2} y_{2} - x_{2} y_{3} - x_{3} y_{1} - x_{3} y_{2} + 2 x_{3} y_{3}}{2 \\left(x_{1}^{2} - x_{1} x_{2} - x_{1} x_{3} + x_{2}^{2} - x_{2} x_{3} + x_{3}^{2}\\right)}\\right\\}\\right]$"
      ],
      "text/plain": [
       "⎡⎧     2        2                                                    2        \n",
       "⎢⎪   x₁ ⋅y₂ + x₁ ⋅y₃ - x₁⋅x₂⋅y₁ - x₁⋅x₂⋅y₂ - x₁⋅x₃⋅y₁ - x₁⋅x₃⋅y₃ + x₂ ⋅y₁ + x₂\n",
       "⎢⎨a: ─────────────────────────────────────────────────────────────────────────\n",
       "⎢⎪                                          ⎛  2                     2        \n",
       "⎣⎩                                        2⋅⎝x₁  - x₁⋅x₂ - x₁⋅x₃ + x₂  - x₂⋅x₃\n",
       "\n",
       "2                              2        2                                     \n",
       " ⋅y₃ - x₂⋅x₃⋅y₂ - x₂⋅x₃⋅y₃ + x₃ ⋅y₁ + x₃ ⋅y₂     2⋅x₁⋅y₁ - x₁⋅y₂ - x₁⋅y₃ - x₂⋅\n",
       "────────────────────────────────────────────, b: ─────────────────────────────\n",
       "     2⎞                                                            ⎛  2       \n",
       " + x₃ ⎠                                                          2⋅⎝x₁  - x₁⋅x\n",
       "\n",
       "                                              ⎫⎤\n",
       "y₁ + 2⋅x₂⋅y₂ - x₂⋅y₃ - x₃⋅y₁ - x₃⋅y₂ + 2⋅x₃⋅y₃⎪⎥\n",
       "──────────────────────────────────────────────⎬⎥\n",
       "              2             2⎞                ⎪⎥\n",
       "₂ - x₁⋅x₃ + x₂  - x₂⋅x₃ + x₃ ⎠                ⎭⎦"
      ]
     },
     "execution_count": 116,
     "metadata": {},
     "output_type": "execute_result"
    }
   ],
   "source": [
    "solve(Matrix([diff((X*ab-y).T*(X*ab-y), a),expand(diff((X*ab-y).T*(X*ab-y), b))]))"
   ]
  },
  {
   "cell_type": "code",
   "execution_count": 118,
   "metadata": {
    "colab": {
     "base_uri": "https://localhost:8080/",
     "height": 98
    },
    "executionInfo": {
     "elapsed": 785,
     "status": "ok",
     "timestamp": 1712305676874,
     "user": {
      "displayName": "Theodor Trausan-Matu",
      "userId": "17891038521471135148"
     },
     "user_tz": -180
    },
    "id": "nazmUN3XP8sB",
    "outputId": "3fb2f5b1-3eaf-43db-b08a-27bcfc5a2bd4"
   },
   "outputs": [
    {
     "data": {
      "text/latex": [
       "$\\displaystyle \\left[\\begin{matrix}y_{1} \\left(\\frac{x_{1} \\left(- x_{1} - x_{2} - x_{3}\\right)}{2 x_{1}^{2} - 2 x_{1} x_{2} - 2 x_{1} x_{3} + 2 x_{2}^{2} - 2 x_{2} x_{3} + 2 x_{3}^{2}} + \\frac{x_{1}^{2} + x_{2}^{2} + x_{3}^{2}}{2 x_{1}^{2} - 2 x_{1} x_{2} - 2 x_{1} x_{3} + 2 x_{2}^{2} - 2 x_{2} x_{3} + 2 x_{3}^{2}}\\right) + y_{2} \\left(\\frac{x_{2} \\left(- x_{1} - x_{2} - x_{3}\\right)}{2 x_{1}^{2} - 2 x_{1} x_{2} - 2 x_{1} x_{3} + 2 x_{2}^{2} - 2 x_{2} x_{3} + 2 x_{3}^{2}} + \\frac{x_{1}^{2} + x_{2}^{2} + x_{3}^{2}}{2 x_{1}^{2} - 2 x_{1} x_{2} - 2 x_{1} x_{3} + 2 x_{2}^{2} - 2 x_{2} x_{3} + 2 x_{3}^{2}}\\right) + y_{3} \\left(\\frac{x_{3} \\left(- x_{1} - x_{2} - x_{3}\\right)}{2 x_{1}^{2} - 2 x_{1} x_{2} - 2 x_{1} x_{3} + 2 x_{2}^{2} - 2 x_{2} x_{3} + 2 x_{3}^{2}} + \\frac{x_{1}^{2} + x_{2}^{2} + x_{3}^{2}}{2 x_{1}^{2} - 2 x_{1} x_{2} - 2 x_{1} x_{3} + 2 x_{2}^{2} - 2 x_{2} x_{3} + 2 x_{3}^{2}}\\right)\\\\y_{1} \\cdot \\left(\\frac{3 x_{1}}{2 x_{1}^{2} - 2 x_{1} x_{2} - 2 x_{1} x_{3} + 2 x_{2}^{2} - 2 x_{2} x_{3} + 2 x_{3}^{2}} + \\frac{- x_{1} - x_{2} - x_{3}}{2 x_{1}^{2} - 2 x_{1} x_{2} - 2 x_{1} x_{3} + 2 x_{2}^{2} - 2 x_{2} x_{3} + 2 x_{3}^{2}}\\right) + y_{2} \\cdot \\left(\\frac{3 x_{2}}{2 x_{1}^{2} - 2 x_{1} x_{2} - 2 x_{1} x_{3} + 2 x_{2}^{2} - 2 x_{2} x_{3} + 2 x_{3}^{2}} + \\frac{- x_{1} - x_{2} - x_{3}}{2 x_{1}^{2} - 2 x_{1} x_{2} - 2 x_{1} x_{3} + 2 x_{2}^{2} - 2 x_{2} x_{3} + 2 x_{3}^{2}}\\right) + y_{3} \\cdot \\left(\\frac{3 x_{3}}{2 x_{1}^{2} - 2 x_{1} x_{2} - 2 x_{1} x_{3} + 2 x_{2}^{2} - 2 x_{2} x_{3} + 2 x_{3}^{2}} + \\frac{- x_{1} - x_{2} - x_{3}}{2 x_{1}^{2} - 2 x_{1} x_{2} - 2 x_{1} x_{3} + 2 x_{2}^{2} - 2 x_{2} x_{3} + 2 x_{3}^{2}}\\right)\\end{matrix}\\right]$"
      ],
      "text/plain": [
       "⎡   ⎛                                                                         \n",
       "⎢   ⎜                 x₁⋅(-x₁ - x₂ - x₃)                                     x\n",
       "⎢y₁⋅⎜─────────────────────────────────────────────────── + ───────────────────\n",
       "⎢   ⎜    2                           2                 2       2              \n",
       "⎢   ⎝2⋅x₁  - 2⋅x₁⋅x₂ - 2⋅x₁⋅x₃ + 2⋅x₂  - 2⋅x₂⋅x₃ + 2⋅x₃    2⋅x₁  - 2⋅x₁⋅x₂ - 2\n",
       "⎢                                                                             \n",
       "⎢   ⎛                        3⋅x₁                                             \n",
       "⎢y₁⋅⎜─────────────────────────────────────────────────── + ───────────────────\n",
       "⎢   ⎜    2                           2                 2       2              \n",
       "⎣   ⎝2⋅x₁  - 2⋅x₁⋅x₂ - 2⋅x₁⋅x₃ + 2⋅x₂  - 2⋅x₂⋅x₃ + 2⋅x₃    2⋅x₁  - 2⋅x₁⋅x₂ - 2\n",
       "\n",
       " 2     2     2                  ⎞      ⎛                                      \n",
       "₁  + x₂  + x₃                   ⎟      ⎜                 x₂⋅(-x₁ - x₂ - x₃)   \n",
       "────────────────────────────────⎟ + y₂⋅⎜──────────────────────────────────────\n",
       "             2                 2⎟      ⎜    2                           2     \n",
       "⋅x₁⋅x₃ + 2⋅x₂  - 2⋅x₂⋅x₃ + 2⋅x₃ ⎠      ⎝2⋅x₁  - 2⋅x₁⋅x₂ - 2⋅x₁⋅x₃ + 2⋅x₂  - 2⋅\n",
       "                                                                              \n",
       "-x₁ - x₂ - x₃                   ⎞      ⎛                        3⋅x₂          \n",
       "────────────────────────────────⎟ + y₂⋅⎜──────────────────────────────────────\n",
       "             2                 2⎟      ⎜    2                           2     \n",
       "⋅x₁⋅x₃ + 2⋅x₂  - 2⋅x₂⋅x₃ + 2⋅x₃ ⎠      ⎝2⋅x₁  - 2⋅x₁⋅x₂ - 2⋅x₁⋅x₃ + 2⋅x₂  - 2⋅\n",
       "\n",
       "                                    2     2     2                  ⎞      ⎛   \n",
       "                                  x₁  + x₂  + x₃                   ⎟      ⎜   \n",
       "───────────── + ───────────────────────────────────────────────────⎟ + y₃⋅⎜───\n",
       "            2       2                           2                 2⎟      ⎜   \n",
       "x₂⋅x₃ + 2⋅x₃    2⋅x₁  - 2⋅x₁⋅x₂ - 2⋅x₁⋅x₃ + 2⋅x₂  - 2⋅x₂⋅x₃ + 2⋅x₃ ⎠      ⎝2⋅x\n",
       "                                                                              \n",
       "                                   -x₁ - x₂ - x₃                   ⎞      ⎛   \n",
       "───────────── + ───────────────────────────────────────────────────⎟ + y₃⋅⎜───\n",
       "            2       2                           2                 2⎟      ⎜   \n",
       "x₂⋅x₃ + 2⋅x₃    2⋅x₁  - 2⋅x₁⋅x₂ - 2⋅x₁⋅x₃ + 2⋅x₂  - 2⋅x₂⋅x₃ + 2⋅x₃ ⎠      ⎝2⋅x\n",
       "\n",
       "                                                                       2     2\n",
       "              x₃⋅(-x₁ - x₂ - x₃)                                     x₁  + x₂ \n",
       "──────────────────────────────────────────────── + ───────────────────────────\n",
       " 2                           2                 2       2                      \n",
       "₁  - 2⋅x₁⋅x₂ - 2⋅x₁⋅x₃ + 2⋅x₂  - 2⋅x₂⋅x₃ + 2⋅x₃    2⋅x₁  - 2⋅x₁⋅x₂ - 2⋅x₁⋅x₃ +\n",
       "                                                                              \n",
       "                     3⋅x₃                                             -x₁ - x₂\n",
       "──────────────────────────────────────────────── + ───────────────────────────\n",
       " 2                           2                 2       2                      \n",
       "₁  - 2⋅x₁⋅x₂ - 2⋅x₁⋅x₃ + 2⋅x₂  - 2⋅x₂⋅x₃ + 2⋅x₃    2⋅x₁  - 2⋅x₁⋅x₂ - 2⋅x₁⋅x₃ +\n",
       "\n",
       "     2                  ⎞⎤\n",
       " + x₃                   ⎟⎥\n",
       "────────────────────────⎟⎥\n",
       "     2                 2⎟⎥\n",
       " 2⋅x₂  - 2⋅x₂⋅x₃ + 2⋅x₃ ⎠⎥\n",
       "                         ⎥\n",
       " - x₃                   ⎞⎥\n",
       "────────────────────────⎟⎥\n",
       "     2                 2⎟⎥\n",
       " 2⋅x₂  - 2⋅x₂⋅x₃ + 2⋅x₃ ⎠⎦"
      ]
     },
     "execution_count": 118,
     "metadata": {},
     "output_type": "execute_result"
    }
   ],
   "source": [
    "(X.T*X).inv()*X.T*y"
   ]
  },
  {
   "cell_type": "code",
   "execution_count": 119,
   "metadata": {
    "colab": {
     "base_uri": "https://localhost:8080/",
     "height": 58
    },
    "executionInfo": {
     "elapsed": 11,
     "status": "ok",
     "timestamp": 1712307895436,
     "user": {
      "displayName": "Theodor Trausan-Matu",
      "userId": "17891038521471135148"
     },
     "user_tz": -180
    },
    "id": "akMtF6ZWXxzo",
    "outputId": "7bfcd936-33ca-4b62-e406-7f4d7050f3c1"
   },
   "outputs": [
    {
     "data": {
      "text/latex": [
       "$\\displaystyle \\left[\\begin{matrix}3 & x_{1} + x_{2} + x_{3}\\\\x_{1} + x_{2} + x_{3} & x_{1}^{2} + x_{2}^{2} + x_{3}^{2}\\end{matrix}\\right]$"
      ],
      "text/plain": [
       "⎡     3         x₁ + x₂ + x₃  ⎤\n",
       "⎢                             ⎥\n",
       "⎢                2     2     2⎥\n",
       "⎣x₁ + x₂ + x₃  x₁  + x₂  + x₃ ⎦"
      ]
     },
     "execution_count": 119,
     "metadata": {},
     "output_type": "execute_result"
    }
   ],
   "source": [
    "X.T*X"
   ]
  },
  {
   "cell_type": "code",
   "execution_count": null,
   "metadata": {
    "id": "kB0qmEscgPnD"
   },
   "outputs": [],
   "source": []
  }
 ],
 "metadata": {
  "colab": {
   "authorship_tag": "ABX9TyN+QndkFrp7CFbTByAJXBaX",
   "provenance": []
  },
  "kernelspec": {
   "display_name": "Python 3 (ipykernel)",
   "language": "python",
   "name": "python3"
  },
  "language_info": {
   "codemirror_mode": {
    "name": "ipython",
    "version": 3
   },
   "file_extension": ".py",
   "mimetype": "text/x-python",
   "name": "python",
   "nbconvert_exporter": "python",
   "pygments_lexer": "ipython3",
   "version": "3.12.1"
  }
 },
 "nbformat": 4,
 "nbformat_minor": 4
}
