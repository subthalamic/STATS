{
 "cells": [
  {
   "cell_type": "code",
   "execution_count": 1,
   "metadata": {
    "executionInfo": {
     "elapsed": 1800,
     "status": "ok",
     "timestamp": 1712312342822,
     "user": {
      "displayName": "Theodor Trausan-Matu",
      "userId": "17891038521471135148"
     },
     "user_tz": -180
    },
    "id": "VVEkymb3ZcjL"
   },
   "outputs": [],
   "source": [
    "import numpy as np\n",
    "import matplotlib.pyplot as plt\n",
    "from sympy import *\n",
    "#from sklearn.linear_model import LinearRegression\n",
    "import statsmodels.api as sm"
   ]
  },
  {
   "cell_type": "code",
   "execution_count": 2,
   "metadata": {
    "executionInfo": {
     "elapsed": 5,
     "status": "ok",
     "timestamp": 1712312342822,
     "user": {
      "displayName": "Theodor Trausan-Matu",
      "userId": "17891038521471135148"
     },
     "user_tz": -180
    },
    "id": "UaIMaMoAZeez"
   },
   "outputs": [],
   "source": [
    "init_printing()"
   ]
  },
  {
   "cell_type": "code",
   "execution_count": 3,
   "metadata": {
    "executionInfo": {
     "elapsed": 6,
     "status": "ok",
     "timestamp": 1712312342823,
     "user": {
      "displayName": "Theodor Trausan-Matu",
      "userId": "17891038521471135148"
     },
     "user_tz": -180
    },
    "id": "fK0siR0-Zidc"
   },
   "outputs": [],
   "source": [
    "x = np.linspace(1, 100, 100)"
   ]
  },
  {
   "cell_type": "code",
   "execution_count": 4,
   "metadata": {
    "colab": {
     "base_uri": "https://localhost:8080/"
    },
    "executionInfo": {
     "elapsed": 6,
     "status": "ok",
     "timestamp": 1712312342823,
     "user": {
      "displayName": "Theodor Trausan-Matu",
      "userId": "17891038521471135148"
     },
     "user_tz": -180
    },
    "id": "WMxBus9paM93",
    "outputId": "d0d6e915-fb1a-43fe-bf80-fd1033ca25d8"
   },
   "outputs": [
    {
     "data": {
      "text/plain": [
       "array([  1.,   2.,   3.,   4.,   5.,   6.,   7.,   8.,   9.,  10.,  11.,\n",
       "        12.,  13.,  14.,  15.,  16.,  17.,  18.,  19.,  20.,  21.,  22.,\n",
       "        23.,  24.,  25.,  26.,  27.,  28.,  29.,  30.,  31.,  32.,  33.,\n",
       "        34.,  35.,  36.,  37.,  38.,  39.,  40.,  41.,  42.,  43.,  44.,\n",
       "        45.,  46.,  47.,  48.,  49.,  50.,  51.,  52.,  53.,  54.,  55.,\n",
       "        56.,  57.,  58.,  59.,  60.,  61.,  62.,  63.,  64.,  65.,  66.,\n",
       "        67.,  68.,  69.,  70.,  71.,  72.,  73.,  74.,  75.,  76.,  77.,\n",
       "        78.,  79.,  80.,  81.,  82.,  83.,  84.,  85.,  86.,  87.,  88.,\n",
       "        89.,  90.,  91.,  92.,  93.,  94.,  95.,  96.,  97.,  98.,  99.,\n",
       "       100.])"
      ]
     },
     "execution_count": 4,
     "metadata": {},
     "output_type": "execute_result"
    }
   ],
   "source": [
    "x"
   ]
  },
  {
   "cell_type": "code",
   "execution_count": 5,
   "metadata": {
    "colab": {
     "base_uri": "https://localhost:8080/"
    },
    "executionInfo": {
     "elapsed": 5,
     "status": "ok",
     "timestamp": 1712312342823,
     "user": {
      "displayName": "Theodor Trausan-Matu",
      "userId": "17891038521471135148"
     },
     "user_tz": -180
    },
    "id": "D-FQ202_aZgy",
    "outputId": "d320468b-c849-4375-c4b6-4c1a6e9f3a8c"
   },
   "outputs": [
    {
     "data": {
      "text/plain": [
       "array([107., 110., 113., 116., 119., 122., 125., 128., 131., 134., 137.,\n",
       "       140., 143., 146., 149., 152., 155., 158., 161., 164., 167., 170.,\n",
       "       173., 176., 179., 182., 185., 188., 191., 194., 197., 200., 203.,\n",
       "       206., 209., 212., 215., 218., 221., 224., 227., 230., 233., 236.,\n",
       "       239., 242., 245., 248., 251., 254., 257., 260., 263., 266., 269.,\n",
       "       272., 275., 278., 281., 284., 287., 290., 293., 296., 299., 302.,\n",
       "       305., 308., 311., 314., 317., 320., 323., 326., 329., 332., 335.,\n",
       "       338., 341., 344., 347., 350., 353., 356., 359., 362., 365., 368.,\n",
       "       371., 374., 377., 380., 383., 386., 389., 392., 395., 398., 401.,\n",
       "       404.])"
      ]
     },
     "execution_count": 5,
     "metadata": {},
     "output_type": "execute_result"
    }
   ],
   "source": [
    "y = np.linspace(107, 404, 100)\n",
    "y"
   ]
  },
  {
   "cell_type": "code",
   "execution_count": 6,
   "metadata": {
    "executionInfo": {
     "elapsed": 4,
     "status": "ok",
     "timestamp": 1712312342823,
     "user": {
      "displayName": "Theodor Trausan-Matu",
      "userId": "17891038521471135148"
     },
     "user_tz": -180
    },
    "id": "bFk4ndnoa0m6"
   },
   "outputs": [],
   "source": [
    "y = y + 101*np.sin(y*4*np.sin(y*3)/10)"
   ]
  },
  {
   "cell_type": "code",
   "execution_count": 7,
   "metadata": {
    "colab": {
     "base_uri": "https://localhost:8080/",
     "height": 447
    },
    "executionInfo": {
     "elapsed": 500,
     "status": "ok",
     "timestamp": 1712312343320,
     "user": {
      "displayName": "Theodor Trausan-Matu",
      "userId": "17891038521471135148"
     },
     "user_tz": -180
    },
    "id": "PKxcrI4oatZb",
    "outputId": "a67f39be-fe09-4c6c-d675-cf03ca789b14"
   },
   "outputs": [
    {
     "data": {
      "text/plain": [
       "<matplotlib.collections.PathCollection at 0x245cc3aeaf0>"
      ]
     },
     "execution_count": 7,
     "metadata": {},
     "output_type": "execute_result"
    },
    {
     "data": {
      "image/png": "[encoded data removed]",
      "text/plain": [
       "<Figure size 640x480 with 1 Axes>"
      ]
     },
     "metadata": {},
     "output_type": "display_data"
    }
   ],
   "source": [
    "plt.scatter(x,y, s=1)"
   ]
  },
  {
   "cell_type": "code",
   "execution_count": 8,
   "metadata": {
    "colab": {
     "base_uri": "https://localhost:8080/"
    },
    "executionInfo": {
     "elapsed": 18,
     "status": "ok",
     "timestamp": 1712312343320,
     "user": {
      "displayName": "Theodor Trausan-Matu",
      "userId": "17891038521471135148"
     },
     "user_tz": -180
    },
    "id": "OVybOhmPdXV9",
    "outputId": "998453af-8da3-4f96-8933-210742b44e70"
   },
   "outputs": [],
   "source": [
    "X = np.vstack((np.ones(100),x))"
   ]
  },
  {
   "cell_type": "code",
   "execution_count": 9,
   "metadata": {
    "executionInfo": {
     "elapsed": 17,
     "status": "ok",
     "timestamp": 1712312343320,
     "user": {
      "displayName": "Theodor Trausan-Matu",
      "userId": "17891038521471135148"
     },
     "user_tz": -180
    },
    "id": "v4ZeDKAefHsm"
   },
   "outputs": [],
   "source": [
    "X = X.astype(int).T"
   ]
  },
  {
   "cell_type": "code",
   "execution_count": 10,
   "metadata": {},
   "outputs": [
    {
     "data": {
      "image/png": "[encoded data removed]",
      "text/latex": [
       "$\\displaystyle \\left( 100, \\  2\\right)$"
      ],
      "text/plain": [
       "(100, 2)"
      ]
     },
     "execution_count": 10,
     "metadata": {},
     "output_type": "execute_result"
    }
   ],
   "source": [
    "X.shape"
   ]
  },
  {
   "cell_type": "code",
   "execution_count": 11,
   "metadata": {},
   "outputs": [
    {
     "data": {
      "image/png": "[encoded data removed]",
      "text/latex": [
       "$\\displaystyle \\left( 100,\\right)$"
      ],
      "text/plain": [
       "(100,)"
      ]
     },
     "execution_count": 11,
     "metadata": {},
     "output_type": "execute_result"
    }
   ],
   "source": [
    "y.shape"
   ]
  },
  {
   "cell_type": "code",
   "execution_count": 12,
   "metadata": {
    "executionInfo": {
     "elapsed": 16,
     "status": "ok",
     "timestamp": 1712312343320,
     "user": {
      "displayName": "Theodor Trausan-Matu",
      "userId": "17891038521471135148"
     },
     "user_tz": -180
    },
    "id": "n-ja4ZBkfi2v"
   },
   "outputs": [],
   "source": [
    "Y=y.reshape((-1, 1))"
   ]
  },
  {
   "cell_type": "code",
   "execution_count": 13,
   "metadata": {},
   "outputs": [
    {
     "data": {
      "image/png": "[encoded data removed]",
      "text/latex": [
       "$\\displaystyle \\left( 100, \\  1\\right)$"
      ],
      "text/plain": [
       "(100, 1)"
      ]
     },
     "execution_count": 13,
     "metadata": {},
     "output_type": "execute_result"
    }
   ],
   "source": [
    "Y.shape"
   ]
  },
  {
   "cell_type": "code",
   "execution_count": 14,
   "metadata": {
    "colab": {
     "base_uri": "https://localhost:8080/"
    },
    "executionInfo": {
     "elapsed": 16,
     "status": "ok",
     "timestamp": 1712312343320,
     "user": {
      "displayName": "Theodor Trausan-Matu",
      "userId": "17891038521471135148"
     },
     "user_tz": -180
    },
    "id": "LzsUiXqHflRA",
    "outputId": "e6d19442-c33a-478d-f6b3-6edfbb4b260a"
   },
   "outputs": [
    {
     "data": {
      "text/plain": [
       "array([[   100,   5050],\n",
       "       [  5050, 338350]])"
      ]
     },
     "execution_count": 14,
     "metadata": {},
     "output_type": "execute_result"
    }
   ],
   "source": [
    "X.T @ X"
   ]
  },
  {
   "cell_type": "code",
   "execution_count": 15,
   "metadata": {
    "colab": {
     "base_uri": "https://localhost:8080/"
    },
    "executionInfo": {
     "elapsed": 15,
     "status": "ok",
     "timestamp": 1712312343321,
     "user": {
      "displayName": "Theodor Trausan-Matu",
      "userId": "17891038521471135148"
     },
     "user_tz": -180
    },
    "id": "SLHwGuYOfy9D",
    "outputId": "4453ae36-7529-449c-ad91-d9bca7b2c407"
   },
   "outputs": [
    {
     "data": {
      "text/plain": [
       "array([[ 4.06060606e-02, -6.06060606e-04],\n",
       "       [-6.06060606e-04,  1.20012001e-05]])"
      ]
     },
     "execution_count": 15,
     "metadata": {},
     "output_type": "execute_result"
    }
   ],
   "source": [
    "np.linalg.inv(X.T @ X)"
   ]
  },
  {
   "cell_type": "code",
   "execution_count": 16,
   "metadata": {
    "executionInfo": {
     "elapsed": 15,
     "status": "ok",
     "timestamp": 1712312343321,
     "user": {
      "displayName": "Theodor Trausan-Matu",
      "userId": "17891038521471135148"
     },
     "user_tz": -180
    },
    "id": "giV3NPR9gpik"
   },
   "outputs": [],
   "source": [
    "sol = np.linalg.inv(X.T @ X) @ X.T @ Y"
   ]
  },
  {
   "cell_type": "code",
   "execution_count": 17,
   "metadata": {
    "colab": {
     "base_uri": "https://localhost:8080/"
    },
    "executionInfo": {
     "elapsed": 15,
     "status": "ok",
     "timestamp": 1712312343321,
     "user": {
      "displayName": "Theodor Trausan-Matu",
      "userId": "17891038521471135148"
     },
     "user_tz": -180
    },
    "id": "3QYlcF6Fg91n",
    "outputId": "d338d132-d505-4538-da07-86c4a314c21e"
   },
   "outputs": [
    {
     "data": {
      "text/plain": [
       "array([[95.90945222],\n",
       "       [ 3.13973425]])"
      ]
     },
     "execution_count": 17,
     "metadata": {},
     "output_type": "execute_result"
    }
   ],
   "source": [
    "sol"
   ]
  },
  {
   "cell_type": "code",
   "execution_count": 18,
   "metadata": {
    "colab": {
     "base_uri": "https://localhost:8080/"
    },
    "executionInfo": {
     "elapsed": 14,
     "status": "ok",
     "timestamp": 1712312343321,
     "user": {
      "displayName": "Theodor Trausan-Matu",
      "userId": "17891038521471135148"
     },
     "user_tz": -180
    },
    "id": "G5_WkDX7hbfr",
    "outputId": "112c986c-6b6c-4a06-d075-292240940ab5"
   },
   "outputs": [
    {
     "data": {
      "text/plain": [
       "array([[ 99.04918647, 102.18892071, 105.32865496, 108.46838921,\n",
       "        111.60812345, 114.7478577 , 117.88759195, 121.02732619,\n",
       "        124.16706044, 127.30679469, 130.44652893, 133.58626318,\n",
       "        136.72599743, 139.86573167, 143.00546592, 146.14520017,\n",
       "        149.28493441, 152.42466866, 155.56440291, 158.70413715,\n",
       "        161.8438714 , 164.98360565, 168.12333989, 171.26307414,\n",
       "        174.40280839, 177.54254263, 180.68227688, 183.82201113,\n",
       "        186.96174537, 190.10147962, 193.24121387, 196.38094811,\n",
       "        199.52068236, 202.66041661, 205.80015085, 208.9398851 ,\n",
       "        212.07961934, 215.21935359, 218.35908784, 221.49882208,\n",
       "        224.63855633, 227.77829058, 230.91802482, 234.05775907,\n",
       "        237.19749332, 240.33722756, 243.47696181, 246.61669606,\n",
       "        249.7564303 , 252.89616455, 256.0358988 , 259.17563304,\n",
       "        262.31536729, 265.45510154, 268.59483578, 271.73457003,\n",
       "        274.87430428, 278.01403852, 281.15377277, 284.29350702,\n",
       "        287.43324126, 290.57297551, 293.71270976, 296.852444  ,\n",
       "        299.99217825, 303.1319125 , 306.27164674, 309.41138099,\n",
       "        312.55111524, 315.69084948, 318.83058373, 321.97031798,\n",
       "        325.11005222, 328.24978647, 331.38952072, 334.52925496,\n",
       "        337.66898921, 340.80872346, 343.9484577 , 347.08819195,\n",
       "        350.2279262 , 353.36766044, 356.50739469, 359.64712894,\n",
       "        362.78686318, 365.92659743, 369.06633168, 372.20606592,\n",
       "        375.34580017, 378.48553442, 381.62526866, 384.76500291,\n",
       "        387.90473716, 391.0444714 , 394.18420565, 397.3239399 ,\n",
       "        400.46367414, 403.60340839, 406.74314264, 409.88287688]])"
      ]
     },
     "execution_count": 18,
     "metadata": {},
     "output_type": "execute_result"
    }
   ],
   "source": [
    "(X @ sol).T        #predicted y (y-hat)"
   ]
  },
  {
   "cell_type": "code",
   "execution_count": 19,
   "metadata": {
    "colab": {
     "base_uri": "https://localhost:8080/"
    },
    "executionInfo": {
     "elapsed": 13,
     "status": "ok",
     "timestamp": 1712312343321,
     "user": {
      "displayName": "Theodor Trausan-Matu",
      "userId": "17891038521471135148"
     },
     "user_tz": -180
    },
    "id": "sb4uFo0vmkCi",
    "outputId": "b150ca68-7617-49c1-a651-4d092c778115"
   },
   "outputs": [],
   "source": [
    "r = X @ sol - Y        #residuals, prediction minus Y data"
   ]
  },
  {
   "cell_type": "code",
   "execution_count": 20,
   "metadata": {
    "executionInfo": {
     "elapsed": 12,
     "status": "ok",
     "timestamp": 1712312343321,
     "user": {
      "displayName": "Theodor Trausan-Matu",
      "userId": "17891038521471135148"
     },
     "user_tz": -180
    },
    "id": "xR1nkE6om2Bl"
   },
   "outputs": [
    {
     "data": {
      "text/plain": [
       "array([[  53.54905119,  -52.50440101,   35.85544064,   73.60092457,\n",
       "         -72.48387445,   93.19341079,   93.43423815,  -62.18021871,\n",
       "          10.92512587,   26.86810488,   23.80037511,   67.59943419,\n",
       "          13.65277862,   -5.70441   ,  -68.44352902,   65.85754576,\n",
       "         -44.73720463,   95.00700019,   58.88630869,   79.88674714,\n",
       "         -61.42108828,  -35.25418311,  -37.63561773,  -81.59623143,\n",
       "         -63.12947064,  -67.54990878, -102.8775475 ,  -49.3894709 ,\n",
       "         -28.73115258,  -60.33411996,   81.05034572,   35.06035204,\n",
       "         -88.41244058, -102.74809671,  -70.35761428,  -99.86941086,\n",
       "          89.12167111, -103.53779335, -103.41819681,   97.30241139,\n",
       "          51.59617256,   72.60191587,   85.4607365 ,  -87.84850468,\n",
       "           0.17587165,   37.64094517,   37.64484978,  -82.17436568,\n",
       "          96.50013304,   27.83541513,  -95.54869675,   93.04590968,\n",
       "          38.41901012,   59.05640412,   -0.49741191,  -54.66487687,\n",
       "          31.94912003,  -69.95200238,   28.62162101,  -72.5529169 ,\n",
       "          95.36654476,  -30.59992845,  100.76508205,   23.7738888 ,\n",
       "         -11.03945506,  -38.23553564,  -66.97715547,  -68.95593881,\n",
       "         -29.18081818,   96.01310856,   86.95835909,  -98.14015603,\n",
       "         -97.71228019,   37.603845  ,  102.8276325 ,   46.69798431,\n",
       "           3.43888507,  -45.6377828 ,  -58.58474473,   63.57008261,\n",
       "           6.85247509,   -2.31276999,  102.57711704,   98.94551243,\n",
       "         -96.95224018,  103.12337085,   30.29316642,  -44.4426935 ,\n",
       "         -76.02505314,   70.39918196,   82.20888031,  -64.82501656,\n",
       "         -66.26996328,  -90.62717149,  -71.25483887,   51.99127305,\n",
       "         -55.01603084,   62.70211034,   97.24557265,  -80.20911394]])"
      ]
     },
     "execution_count": 20,
     "metadata": {},
     "output_type": "execute_result"
    }
   ],
   "source": [
    "r.T"
   ]
  },
  {
   "cell_type": "code",
   "execution_count": 21,
   "metadata": {
    "colab": {
     "base_uri": "https://localhost:8080/"
    },
    "executionInfo": {
     "elapsed": 11,
     "status": "ok",
     "timestamp": 1712312343321,
     "user": {
      "displayName": "Theodor Trausan-Matu",
      "userId": "17891038521471135148"
     },
     "user_tz": -180
    },
    "id": "Jwg-CEzGnie5",
    "outputId": "33133f85-45d3-42a5-acb6-cb80a7ff11c8"
   },
   "outputs": [
    {
     "data": {
      "text/plain": [
       "array([[2.86750088e+03, 2.75671213e+03, 1.28561262e+03, 5.41709610e+03,\n",
       "        5.25391205e+03, 8.68501181e+03, 8.72995686e+03, 3.86637960e+03,\n",
       "        1.19358375e+02, 7.21895060e+02, 5.66457855e+02, 4.56968350e+03,\n",
       "        1.86398364e+02, 3.25402934e+01, 4.68451666e+03, 4.33721633e+03,\n",
       "        2.00141748e+03, 9.02633008e+03, 3.46759735e+03, 6.38189237e+03,\n",
       "        3.77255009e+03, 1.24285743e+03, 1.41643972e+03, 6.65794498e+03,\n",
       "        3.98533006e+03, 4.56299018e+03, 1.05837898e+04, 2.43931984e+03,\n",
       "        8.25479129e+02, 3.64020603e+03, 6.56915854e+03, 1.22922829e+03,\n",
       "        7.81675965e+03, 1.05571714e+04, 4.95019389e+03, 9.97389923e+03,\n",
       "        7.94267226e+03, 1.07200747e+04, 1.06953234e+04, 9.46775926e+03,\n",
       "        2.66216502e+03, 5.27103819e+03, 7.30353748e+03, 7.71735978e+03,\n",
       "        3.09308382e-02, 1.41684075e+03, 1.41713472e+03, 6.75262637e+03,\n",
       "        9.31227568e+03, 7.74810335e+02, 9.12955345e+03, 8.65754131e+03,\n",
       "        1.47602034e+03, 3.48765887e+03, 2.47418604e-01, 2.98824876e+03,\n",
       "        1.02074627e+03, 4.89328264e+03, 8.19197190e+02, 5.26392575e+03,\n",
       "        9.09477786e+03, 9.36355621e+02, 1.01536018e+04, 5.65197789e+02,\n",
       "        1.21869568e+02, 1.46195619e+03, 4.48593936e+03, 4.75492150e+03,\n",
       "        8.51520149e+02, 9.21851701e+03, 7.56175622e+03, 9.63149023e+03,\n",
       "        9.54768970e+03, 1.41404916e+03, 1.05735220e+04, 2.18070174e+03,\n",
       "        1.18259305e+01, 2.08280722e+03, 3.43217232e+03, 4.04115540e+03,\n",
       "        4.69564149e+01, 5.34890503e+00, 1.05220649e+04, 9.79021443e+03,\n",
       "        9.39973688e+03, 1.06344296e+04, 9.17675932e+02, 1.97515301e+03,\n",
       "        5.77980870e+03, 4.95604482e+03, 6.75830000e+03, 4.20228277e+03,\n",
       "        4.39170803e+03, 8.21328421e+03, 5.07725206e+03, 2.70309247e+03,\n",
       "        3.02676365e+03, 3.93155464e+03, 9.45670140e+03, 6.43350196e+03]])"
      ]
     },
     "execution_count": 21,
     "metadata": {},
     "output_type": "execute_result"
    }
   ],
   "source": [
    "(r**2).T"
   ]
  },
  {
   "cell_type": "code",
   "execution_count": 22,
   "metadata": {
    "colab": {
     "base_uri": "https://localhost:8080/",
     "height": 37
    },
    "executionInfo": {
     "elapsed": 10,
     "status": "ok",
     "timestamp": 1712312343321,
     "user": {
      "displayName": "Theodor Trausan-Matu",
      "userId": "17891038521471135148"
     },
     "user_tz": -180
    },
    "id": "iSkN0ZgnoGr5",
    "outputId": "7c4565a2-f5a2-4d8c-b606-b86f1ae6f33e"
   },
   "outputs": [
    {
     "data": {
      "image/png": "[encoded data removed]",
      "text/latex": [
       "$\\displaystyle 474714.576402803$"
      ],
      "text/plain": [
       "474714.57640280295"
      ]
     },
     "execution_count": 22,
     "metadata": {},
     "output_type": "execute_result"
    }
   ],
   "source": [
    "np.sum(r**2)"
   ]
  },
  {
   "cell_type": "code",
   "execution_count": 23,
   "metadata": {
    "colab": {
     "base_uri": "https://localhost:8080/"
    },
    "executionInfo": {
     "elapsed": 209,
     "status": "ok",
     "timestamp": 1712312384383,
     "user": {
      "displayName": "Theodor Trausan-Matu",
      "userId": "17891038521471135148"
     },
     "user_tz": -180
    },
    "id": "plx3hNnCogvF",
    "outputId": "4a68745b-eaee-47f9-95a7-083e84cdae58"
   },
   "outputs": [
    {
     "name": "stdout",
     "output_type": "stream",
     "text": [
      "                            OLS Regression Results                            \n",
      "==============================================================================\n",
      "Dep. Variable:                      y   R-squared:                       0.634\n",
      "Model:                            OLS   Adj. R-squared:                  0.630\n",
      "Method:                 Least Squares   F-statistic:                     169.6\n",
      "Date:                Sun, 07 Apr 2024   Prob (F-statistic):           4.24e-23\n",
      "Time:                        22:01:30   Log-Likelihood:                -565.16\n",
      "No. Observations:                 100   AIC:                             1134.\n",
      "Df Residuals:                      98   BIC:                             1140.\n",
      "Df Model:                           1                                         \n",
      "Covariance Type:            nonrobust                                         \n",
      "==============================================================================\n",
      "                 coef    std err          t      P>|t|      [0.025      0.975]\n",
      "------------------------------------------------------------------------------\n",
      "const         95.9095     14.025      6.839      0.000      68.078     123.741\n",
      "x1             3.1397      0.241     13.022      0.000       2.661       3.618\n",
      "==============================================================================\n",
      "Omnibus:                      172.667   Durbin-Watson:                   1.940\n",
      "Prob(Omnibus):                  0.000   Jarque-Bera (JB):                9.098\n",
      "Skew:                          -0.036   Prob(JB):                       0.0106\n",
      "Kurtosis:                       1.524   Cond. No.                         117.\n",
      "==============================================================================\n",
      "\n",
      "Notes:\n",
      "[1] Standard Errors assume that the covariance matrix of the errors is correctly specified.\n"
     ]
    }
   ],
   "source": [
    "mod = sm.OLS(y,X, hasconst = True)\n",
    "res = mod.fit()\n",
    "print(res.summary())"
   ]
  },
  {
   "cell_type": "code",
   "execution_count": 24,
   "metadata": {},
   "outputs": [
    {
     "data": {
      "text/plain": [
       "array([6.90881944e-10, 4.23894214e-23])"
      ]
     },
     "execution_count": 24,
     "metadata": {},
     "output_type": "execute_result"
    }
   ],
   "source": [
    "res.pvalues"
   ]
  },
  {
   "cell_type": "code",
   "execution_count": 25,
   "metadata": {
    "colab": {
     "base_uri": "https://localhost:8080/",
     "height": 37
    },
    "executionInfo": {
     "elapsed": 300,
     "status": "ok",
     "timestamp": 1712312720696,
     "user": {
      "displayName": "Theodor Trausan-Matu",
      "userId": "17891038521471135148"
     },
     "user_tz": -180
    },
    "id": "dHCWpBTivYPh",
    "outputId": "96ffb09c-c568-414d-ae0b-57ce8745f2fa"
   },
   "outputs": [
    {
     "data": {
      "image/png": "[encoded data removed]",
      "text/latex": [
       "$\\displaystyle 254.466031674433$"
      ],
      "text/plain": [
       "254.46603167443288"
      ]
     },
     "execution_count": 25,
     "metadata": {},
     "output_type": "execute_result"
    }
   ],
   "source": [
    "np.mean(Y)"
   ]
  },
  {
   "cell_type": "code",
   "execution_count": 26,
   "metadata": {
    "colab": {
     "base_uri": "https://localhost:8080/",
     "height": 37
    },
    "executionInfo": {
     "elapsed": 205,
     "status": "ok",
     "timestamp": 1712312803392,
     "user": {
      "displayName": "Theodor Trausan-Matu",
      "userId": "17891038521471135148"
     },
     "user_tz": -180
    },
    "id": "p0U3prTiypl_",
    "outputId": "f5b1a103-a0a4-4e62-8560-18a431fabe9f"
   },
   "outputs": [
    {
     "data": {
      "text/plain": [
       "array([1296126.68859908])"
      ]
     },
     "execution_count": 26,
     "metadata": {},
     "output_type": "execute_result"
    }
   ],
   "source": [
    "sum((Y-np.mean(Y))**2)     #total sum of squares SST"
   ]
  },
  {
   "cell_type": "code",
   "execution_count": 27,
   "metadata": {
    "colab": {
     "base_uri": "https://localhost:8080/",
     "height": 37
    },
    "executionInfo": {
     "elapsed": 221,
     "status": "ok",
     "timestamp": 1712312812879,
     "user": {
      "displayName": "Theodor Trausan-Matu",
      "userId": "17891038521471135148"
     },
     "user_tz": -180
    },
    "id": "mudcphQFyuEg",
    "outputId": "b1dc41ed-ec1d-46c1-c438-0ea91c099fa3"
   },
   "outputs": [
    {
     "data": {
      "text/plain": [
       "array([474714.5764028])"
      ]
     },
     "execution_count": 27,
     "metadata": {},
     "output_type": "execute_result"
    }
   ],
   "source": [
    "sum(r**2)                  #residual sum of squares, SSR"
   ]
  },
  {
   "cell_type": "code",
   "execution_count": 37,
   "metadata": {},
   "outputs": [
    {
     "data": {
      "text/plain": [
       "array([0.63374369])"
      ]
     },
     "execution_count": 37,
     "metadata": {},
     "output_type": "execute_result"
    }
   ],
   "source": [
    "1 - (sum(r**2) / sum((Y-np.mean(Y))**2))     #coeff of determination R^2"
   ]
  },
  {
   "cell_type": "code",
   "execution_count": null,
   "metadata": {},
   "outputs": [],
   "source": []
  }
 ],
 "metadata": {
  "colab": {
   "authorship_tag": "ABX9TyOcBs1NE1fHw82xTyXMRnKv",
   "provenance": []
  },
  "kernelspec": {
   "display_name": "venvstats",
   "language": "python",
   "name": "venvstats"
  },
  "language_info": {
   "codemirror_mode": {
    "name": "ipython",
    "version": 3
   },
   "file_extension": ".py",
   "mimetype": "text/x-python",
   "name": "python",
   "nbconvert_exporter": "python",
   "pygments_lexer": "ipython3",
   "version": "3.9.13"
  }
 },
 "nbformat": 4,
 "nbformat_minor": 4
}
