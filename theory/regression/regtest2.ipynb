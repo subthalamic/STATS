{
 "cells": [
  {
   "cell_type": "code",
   "execution_count": 1,
   "metadata": {
    "executionInfo": {
     "elapsed": 1800,
     "status": "ok",
     "timestamp": 1712312342822,
     "user": {
      "displayName": "Theodor Trausan-Matu",
      "userId": "17891038521471135148"
     },
     "user_tz": -180
    },
    "id": "VVEkymb3ZcjL"
   },
   "outputs": [],
   "source": [
    "import numpy as np\n",
    "import matplotlib.pyplot as plt\n",
    "from sympy import *\n",
    "#from sklearn.linear_model import LinearRegression\n",
    "import statsmodels.api as sm"
   ]
  },
  {
   "cell_type": "code",
   "execution_count": 2,
   "metadata": {
    "executionInfo": {
     "elapsed": 5,
     "status": "ok",
     "timestamp": 1712312342822,
     "user": {
      "displayName": "Theodor Trausan-Matu",
      "userId": "17891038521471135148"
     },
     "user_tz": -180
    },
    "id": "UaIMaMoAZeez"
   },
   "outputs": [],
   "source": [
    "init_printing()"
   ]
  },
  {
   "cell_type": "code",
   "execution_count": 3,
   "metadata": {
    "executionInfo": {
     "elapsed": 6,
     "status": "ok",
     "timestamp": 1712312342823,
     "user": {
      "displayName": "Theodor Trausan-Matu",
      "userId": "17891038521471135148"
     },
     "user_tz": -180
    },
    "id": "fK0siR0-Zidc"
   },
   "outputs": [],
   "source": [
    "x = np.linspace(1, 100, 100)"
   ]
  },
  {
   "cell_type": "code",
   "execution_count": 4,
   "metadata": {
    "colab": {
     "base_uri": "https://localhost:8080/"
    },
    "executionInfo": {
     "elapsed": 6,
     "status": "ok",
     "timestamp": 1712312342823,
     "user": {
      "displayName": "Theodor Trausan-Matu",
      "userId": "17891038521471135148"
     },
     "user_tz": -180
    },
    "id": "WMxBus9paM93",
    "outputId": "d0d6e915-fb1a-43fe-bf80-fd1033ca25d8"
   },
   "outputs": [
    {
     "data": {
      "text/plain": [
       "array([  1.,   2.,   3.,   4.,   5.,   6.,   7.,   8.,   9.,  10.,  11.,\n",
       "        12.,  13.,  14.,  15.,  16.,  17.,  18.,  19.,  20.,  21.,  22.,\n",
       "        23.,  24.,  25.,  26.,  27.,  28.,  29.,  30.,  31.,  32.,  33.,\n",
       "        34.,  35.,  36.,  37.,  38.,  39.,  40.,  41.,  42.,  43.,  44.,\n",
       "        45.,  46.,  47.,  48.,  49.,  50.,  51.,  52.,  53.,  54.,  55.,\n",
       "        56.,  57.,  58.,  59.,  60.,  61.,  62.,  63.,  64.,  65.,  66.,\n",
       "        67.,  68.,  69.,  70.,  71.,  72.,  73.,  74.,  75.,  76.,  77.,\n",
       "        78.,  79.,  80.,  81.,  82.,  83.,  84.,  85.,  86.,  87.,  88.,\n",
       "        89.,  90.,  91.,  92.,  93.,  94.,  95.,  96.,  97.,  98.,  99.,\n",
       "       100.])"
      ]
     },
     "execution_count": 4,
     "metadata": {},
     "output_type": "execute_result"
    }
   ],
   "source": [
    "x"
   ]
  },
  {
   "cell_type": "code",
   "execution_count": 5,
   "metadata": {
    "colab": {
     "base_uri": "https://localhost:8080/"
    },
    "executionInfo": {
     "elapsed": 5,
     "status": "ok",
     "timestamp": 1712312342823,
     "user": {
      "displayName": "Theodor Trausan-Matu",
      "userId": "17891038521471135148"
     },
     "user_tz": -180
    },
    "id": "D-FQ202_aZgy",
    "outputId": "d320468b-c849-4375-c4b6-4c1a6e9f3a8c"
   },
   "outputs": [
    {
     "data": {
      "text/plain": [
       "array([107., 110., 113., 116., 119., 122., 125., 128., 131., 134., 137.,\n",
       "       140., 143., 146., 149., 152., 155., 158., 161., 164., 167., 170.,\n",
       "       173., 176., 179., 182., 185., 188., 191., 194., 197., 200., 203.,\n",
       "       206., 209., 212., 215., 218., 221., 224., 227., 230., 233., 236.,\n",
       "       239., 242., 245., 248., 251., 254., 257., 260., 263., 266., 269.,\n",
       "       272., 275., 278., 281., 284., 287., 290., 293., 296., 299., 302.,\n",
       "       305., 308., 311., 314., 317., 320., 323., 326., 329., 332., 335.,\n",
       "       338., 341., 344., 347., 350., 353., 356., 359., 362., 365., 368.,\n",
       "       371., 374., 377., 380., 383., 386., 389., 392., 395., 398., 401.,\n",
       "       404.])"
      ]
     },
     "execution_count": 5,
     "metadata": {},
     "output_type": "execute_result"
    }
   ],
   "source": [
    "y = np.linspace(107, 404, 100)\n",
    "y"
   ]
  },
  {
   "cell_type": "code",
   "execution_count": 6,
   "metadata": {
    "executionInfo": {
     "elapsed": 4,
     "status": "ok",
     "timestamp": 1712312342823,
     "user": {
      "displayName": "Theodor Trausan-Matu",
      "userId": "17891038521471135148"
     },
     "user_tz": -180
    },
    "id": "bFk4ndnoa0m6"
   },
   "outputs": [],
   "source": [
    "y = y + 7*np.sin(y/5)"
   ]
  },
  {
   "cell_type": "code",
   "execution_count": 7,
   "metadata": {
    "colab": {
     "base_uri": "https://localhost:8080/",
     "height": 447
    },
    "executionInfo": {
     "elapsed": 500,
     "status": "ok",
     "timestamp": 1712312343320,
     "user": {
      "displayName": "Theodor Trausan-Matu",
      "userId": "17891038521471135148"
     },
     "user_tz": -180
    },
    "id": "PKxcrI4oatZb",
    "outputId": "a67f39be-fe09-4c6c-d675-cf03ca789b14"
   },
   "outputs": [
    {
     "data": {
      "text/plain": [
       "<matplotlib.collections.PathCollection at 0x1aae086bb80>"
      ]
     },
     "execution_count": 7,
     "metadata": {},
     "output_type": "execute_result"
    },
    {
     "data": {
      "image/png": "[encoded data removed]",
      "text/plain": [
       "<Figure size 640x480 with 1 Axes>"
      ]
     },
     "metadata": {},
     "output_type": "display_data"
    }
   ],
   "source": [
    "plt.scatter(x,y, s=1)"
   ]
  },
  {
   "cell_type": "code",
   "execution_count": 8,
   "metadata": {
    "colab": {
     "base_uri": "https://localhost:8080/"
    },
    "executionInfo": {
     "elapsed": 18,
     "status": "ok",
     "timestamp": 1712312343320,
     "user": {
      "displayName": "Theodor Trausan-Matu",
      "userId": "17891038521471135148"
     },
     "user_tz": -180
    },
    "id": "OVybOhmPdXV9",
    "outputId": "998453af-8da3-4f96-8933-210742b44e70"
   },
   "outputs": [],
   "source": [
    "X = np.vstack((np.ones(100),x))"
   ]
  },
  {
   "cell_type": "code",
   "execution_count": 9,
   "metadata": {
    "executionInfo": {
     "elapsed": 17,
     "status": "ok",
     "timestamp": 1712312343320,
     "user": {
      "displayName": "Theodor Trausan-Matu",
      "userId": "17891038521471135148"
     },
     "user_tz": -180
    },
    "id": "v4ZeDKAefHsm"
   },
   "outputs": [],
   "source": [
    "X = X.astype(int).T"
   ]
  },
  {
   "cell_type": "code",
   "execution_count": 10,
   "metadata": {},
   "outputs": [
    {
     "data": {
      "image/png": "[encoded data removed]",
      "text/latex": [
       "$\\displaystyle \\left( 100, \\  2\\right)$"
      ],
      "text/plain": [
       "(100, 2)"
      ]
     },
     "execution_count": 10,
     "metadata": {},
     "output_type": "execute_result"
    }
   ],
   "source": [
    "X.shape"
   ]
  },
  {
   "cell_type": "code",
   "execution_count": 11,
   "metadata": {},
   "outputs": [
    {
     "data": {
      "image/png": "[encoded data removed]",
      "text/latex": [
       "$\\displaystyle \\left( 100,\\right)$"
      ],
      "text/plain": [
       "(100,)"
      ]
     },
     "execution_count": 11,
     "metadata": {},
     "output_type": "execute_result"
    }
   ],
   "source": [
    "y.shape"
   ]
  },
  {
   "cell_type": "code",
   "execution_count": 12,
   "metadata": {
    "executionInfo": {
     "elapsed": 16,
     "status": "ok",
     "timestamp": 1712312343320,
     "user": {
      "displayName": "Theodor Trausan-Matu",
      "userId": "17891038521471135148"
     },
     "user_tz": -180
    },
    "id": "n-ja4ZBkfi2v"
   },
   "outputs": [],
   "source": [
    "Y=y.reshape((-1, 1))"
   ]
  },
  {
   "cell_type": "code",
   "execution_count": 13,
   "metadata": {},
   "outputs": [
    {
     "data": {
      "image/png": "[encoded data removed]",
      "text/latex": [
       "$\\displaystyle \\left( 100, \\  1\\right)$"
      ],
      "text/plain": [
       "(100, 1)"
      ]
     },
     "execution_count": 13,
     "metadata": {},
     "output_type": "execute_result"
    }
   ],
   "source": [
    "Y.shape"
   ]
  },
  {
   "cell_type": "code",
   "execution_count": 14,
   "metadata": {
    "colab": {
     "base_uri": "https://localhost:8080/"
    },
    "executionInfo": {
     "elapsed": 16,
     "status": "ok",
     "timestamp": 1712312343320,
     "user": {
      "displayName": "Theodor Trausan-Matu",
      "userId": "17891038521471135148"
     },
     "user_tz": -180
    },
    "id": "LzsUiXqHflRA",
    "outputId": "e6d19442-c33a-478d-f6b3-6edfbb4b260a"
   },
   "outputs": [
    {
     "data": {
      "text/plain": [
       "array([[   100,   5050],\n",
       "       [  5050, 338350]])"
      ]
     },
     "execution_count": 14,
     "metadata": {},
     "output_type": "execute_result"
    }
   ],
   "source": [
    "X.T @ X"
   ]
  },
  {
   "cell_type": "code",
   "execution_count": 15,
   "metadata": {
    "colab": {
     "base_uri": "https://localhost:8080/"
    },
    "executionInfo": {
     "elapsed": 15,
     "status": "ok",
     "timestamp": 1712312343321,
     "user": {
      "displayName": "Theodor Trausan-Matu",
      "userId": "17891038521471135148"
     },
     "user_tz": -180
    },
    "id": "SLHwGuYOfy9D",
    "outputId": "4453ae36-7529-449c-ad91-d9bca7b2c407"
   },
   "outputs": [
    {
     "data": {
      "text/plain": [
       "array([[ 4.06060606e-02, -6.06060606e-04],\n",
       "       [-6.06060606e-04,  1.20012001e-05]])"
      ]
     },
     "execution_count": 15,
     "metadata": {},
     "output_type": "execute_result"
    }
   ],
   "source": [
    "np.linalg.inv(X.T @ X)"
   ]
  },
  {
   "cell_type": "code",
   "execution_count": 16,
   "metadata": {
    "executionInfo": {
     "elapsed": 15,
     "status": "ok",
     "timestamp": 1712312343321,
     "user": {
      "displayName": "Theodor Trausan-Matu",
      "userId": "17891038521471135148"
     },
     "user_tz": -180
    },
    "id": "giV3NPR9gpik"
   },
   "outputs": [],
   "source": [
    "sol = np.linalg.inv(X.T @ X) @ X.T @ Y"
   ]
  },
  {
   "cell_type": "code",
   "execution_count": 17,
   "metadata": {
    "colab": {
     "base_uri": "https://localhost:8080/"
    },
    "executionInfo": {
     "elapsed": 15,
     "status": "ok",
     "timestamp": 1712312343321,
     "user": {
      "displayName": "Theodor Trausan-Matu",
      "userId": "17891038521471135148"
     },
     "user_tz": -180
    },
    "id": "3QYlcF6Fg91n",
    "outputId": "d338d132-d505-4538-da07-86c4a314c21e"
   },
   "outputs": [
    {
     "data": {
      "text/plain": [
       "array([[103.91633444],\n",
       "       [  2.99822281]])"
      ]
     },
     "execution_count": 17,
     "metadata": {},
     "output_type": "execute_result"
    }
   ],
   "source": [
    "sol"
   ]
  },
  {
   "cell_type": "code",
   "execution_count": 18,
   "metadata": {
    "colab": {
     "base_uri": "https://localhost:8080/"
    },
    "executionInfo": {
     "elapsed": 14,
     "status": "ok",
     "timestamp": 1712312343321,
     "user": {
      "displayName": "Theodor Trausan-Matu",
      "userId": "17891038521471135148"
     },
     "user_tz": -180
    },
    "id": "G5_WkDX7hbfr",
    "outputId": "112c986c-6b6c-4a06-d075-292240940ab5"
   },
   "outputs": [
    {
     "data": {
      "text/plain": [
       "array([[106.91455725, 109.91278005, 112.91100286, 115.90922566,\n",
       "        118.90744847, 121.90567127, 124.90389408, 127.90211689,\n",
       "        130.90033969, 133.8985625 , 136.8967853 , 139.89500811,\n",
       "        142.89323091, 145.89145372, 148.88967652, 151.88789933,\n",
       "        154.88612214, 157.88434494, 160.88256775, 163.88079055,\n",
       "        166.87901336, 169.87723616, 172.87545897, 175.87368177,\n",
       "        178.87190458, 181.87012738, 184.86835019, 187.866573  ,\n",
       "        190.8647958 , 193.86301861, 196.86124141, 199.85946422,\n",
       "        202.85768702, 205.85590983, 208.85413263, 211.85235544,\n",
       "        214.85057824, 217.84880105, 220.84702386, 223.84524666,\n",
       "        226.84346947, 229.84169227, 232.83991508, 235.83813788,\n",
       "        238.83636069, 241.83458349, 244.8328063 , 247.8310291 ,\n",
       "        250.82925191, 253.82747472, 256.82569752, 259.82392033,\n",
       "        262.82214313, 265.82036594, 268.81858874, 271.81681155,\n",
       "        274.81503435, 277.81325716, 280.81147997, 283.80970277,\n",
       "        286.80792558, 289.80614838, 292.80437119, 295.80259399,\n",
       "        298.8008168 , 301.7990396 , 304.79726241, 307.79548521,\n",
       "        310.79370802, 313.79193083, 316.79015363, 319.78837644,\n",
       "        322.78659924, 325.78482205, 328.78304485, 331.78126766,\n",
       "        334.77949046, 337.77771327, 340.77593607, 343.77415888,\n",
       "        346.77238169, 349.77060449, 352.7688273 , 355.7670501 ,\n",
       "        358.76527291, 361.76349571, 364.76171852, 367.75994132,\n",
       "        370.75816413, 373.75638694, 376.75460974, 379.75283255,\n",
       "        382.75105535, 385.74927816, 388.74750096, 391.74572377,\n",
       "        394.74394657, 397.74216938, 400.74039218, 403.73861499]])"
      ]
     },
     "execution_count": 18,
     "metadata": {},
     "output_type": "execute_result"
    }
   ],
   "source": [
    "(X @ sol).T        #predicted y (y-hat)"
   ]
  },
  {
   "cell_type": "code",
   "execution_count": 19,
   "metadata": {
    "colab": {
     "base_uri": "https://localhost:8080/"
    },
    "executionInfo": {
     "elapsed": 13,
     "status": "ok",
     "timestamp": 1712312343321,
     "user": {
      "displayName": "Theodor Trausan-Matu",
      "userId": "17891038521471135148"
     },
     "user_tz": -180
    },
    "id": "sb4uFo0vmkCi",
    "outputId": "b150ca68-7617-49c1-a651-4d092c778115"
   },
   "outputs": [],
   "source": [
    "r = X @ sol - Y        #residuals, prediction minus Y data"
   ]
  },
  {
   "cell_type": "code",
   "execution_count": 20,
   "metadata": {
    "executionInfo": {
     "elapsed": 12,
     "status": "ok",
     "timestamp": 1712312343321,
     "user": {
      "displayName": "Theodor Trausan-Matu",
      "userId": "17891038521471135148"
     },
     "user_tz": -180
    },
    "id": "xR1nkE6om2Bl"
   },
   "outputs": [
    {
     "data": {
      "text/plain": [
       "array([[-3.98664813, -0.02526078,  3.91448244,  6.45569507,  6.71003759,\n",
       "         4.58804002,  0.83035633, -3.25096727, -6.23082787, -7.06889524,\n",
       "        -5.47302917, -2.00133241,  2.13281065,  5.48460407,  6.88254916,\n",
       "         5.83768265,  2.71438565, -1.39690516, -5.06061845, -6.99753459,\n",
       "        -6.53165386, -3.82634264,  0.17273521,  4.06796592,  6.4980125 ,\n",
       "         6.61336896,  4.37311712,  0.5592206 , -3.49663766, -6.3782505 ,\n",
       "        -7.07960848, -5.35632791, -1.81102108,  2.3172135 ,  5.58564389,\n",
       "         6.8518925 ,  5.67300144,  2.46017045, -1.66488701, -5.2617905 ,\n",
       "        -7.07465898, -6.47082616, -3.66184904,  0.37039504,  4.21670637,\n",
       "         6.53283694,  6.50907487,  4.15310011,  0.2873016 , -3.73850684,\n",
       "        -6.51861533, -7.08247282, -5.23372848, -1.61882272,  2.49883303,\n",
       "         5.68020235,  6.81332057,  5.50173607,  2.20300223, -1.93115914,\n",
       "        -5.45718736, -7.14396015, -6.40286008, -3.49339554,  0.56745297,\n",
       "         4.36049341,  6.5600868 ,  6.39723106,  3.92819557,  0.01486462,\n",
       "        -3.97634351, -6.65180583, -7.0775272 , -5.10541172, -1.42499689,\n",
       "         2.67742167,  5.76813032,  6.76683477,  5.324038  ,  1.94312961,\n",
       "        -2.19546266, -5.64663028, -7.20540194, -6.32787468, -3.32121484,\n",
       "         0.76364397,  4.49912222,  6.57968906,  6.27792181,  3.69861563,\n",
       "        -0.25782445, -4.20992091, -6.77771358, -7.06481943, -4.97156495,\n",
       "        -1.22980497,  2.85273525,  5.84928616,  6.71244547,  5.14006598]])"
      ]
     },
     "execution_count": 20,
     "metadata": {},
     "output_type": "execute_result"
    }
   ],
   "source": [
    "r.T"
   ]
  },
  {
   "cell_type": "code",
   "execution_count": 21,
   "metadata": {
    "colab": {
     "base_uri": "https://localhost:8080/"
    },
    "executionInfo": {
     "elapsed": 11,
     "status": "ok",
     "timestamp": 1712312343321,
     "user": {
      "displayName": "Theodor Trausan-Matu",
      "userId": "17891038521471135148"
     },
     "user_tz": -180
    },
    "id": "Jwg-CEzGnie5",
    "outputId": "33133f85-45d3-42a5-acb6-cb80a7ff11c8"
   },
   "outputs": [
    {
     "data": {
      "text/plain": [
       "array([[1.58933633e+01, 6.38107110e-04, 1.53231728e+01, 4.16759988e+01,\n",
       "        4.50246045e+01, 2.10501112e+01, 6.89491636e-01, 1.05687882e+01,\n",
       "        3.88232159e+01, 4.99692799e+01, 2.99540483e+01, 4.00533142e+00,\n",
       "        4.54888125e+00, 3.00808818e+01, 4.73694829e+01, 3.40785387e+01,\n",
       "        7.36788947e+00, 1.95134403e+00, 2.56098591e+01, 4.89654903e+01,\n",
       "        4.26625022e+01, 1.46408980e+01, 2.98374531e-02, 1.65483467e+01,\n",
       "        4.22241665e+01, 4.37366489e+01, 1.91241534e+01, 3.12727677e-01,\n",
       "        1.22264749e+01, 4.06820795e+01, 5.01208563e+01, 2.86902486e+01,\n",
       "        3.27979735e+00, 5.36947839e+00, 3.11994177e+01, 4.69484309e+01,\n",
       "        3.21829454e+01, 6.05243863e+00, 2.77184875e+00, 2.76864393e+01,\n",
       "        5.00507997e+01, 4.18715912e+01, 1.34091384e+01, 1.37192482e-01,\n",
       "        1.77806126e+01, 4.26779585e+01, 4.23680556e+01, 1.72482405e+01,\n",
       "        8.25422091e-02, 1.39764334e+01, 4.24923459e+01, 5.01614212e+01,\n",
       "        2.73919138e+01, 2.62058701e+00, 6.24416652e+00, 3.22646987e+01,\n",
       "        4.64213372e+01, 3.02690998e+01, 4.85321883e+00, 3.72937563e+00,\n",
       "        2.97808939e+01, 5.10361667e+01, 4.09966172e+01, 1.22038124e+01,\n",
       "        3.22002871e-01, 1.90139028e+01, 4.30347388e+01, 4.09245653e+01,\n",
       "        1.54307204e+01, 2.20957072e-04, 1.58113077e+01, 4.42465208e+01,\n",
       "        5.00913913e+01, 2.60652288e+01, 2.03061615e+00, 7.16858680e+00,\n",
       "        3.32713274e+01, 4.57900528e+01, 2.83453806e+01, 3.77575269e+00,\n",
       "        4.82005627e+00, 3.18844335e+01, 5.19178172e+01, 4.00419980e+01,\n",
       "        1.10304680e+01, 5.83152107e-01, 2.02421007e+01, 4.32923081e+01,\n",
       "        3.94123023e+01, 1.36797576e+01, 6.64734469e-02, 1.77234341e+01,\n",
       "        4.59374014e+01, 4.99116736e+01, 2.47164580e+01, 1.51242028e+00,\n",
       "        8.13809843e+00, 3.42141485e+01, 4.50569241e+01, 2.64202782e+01]])"
      ]
     },
     "execution_count": 21,
     "metadata": {},
     "output_type": "execute_result"
    }
   ],
   "source": [
    "(r**2).T"
   ]
  },
  {
   "cell_type": "code",
   "execution_count": 22,
   "metadata": {
    "colab": {
     "base_uri": "https://localhost:8080/",
     "height": 37
    },
    "executionInfo": {
     "elapsed": 10,
     "status": "ok",
     "timestamp": 1712312343321,
     "user": {
      "displayName": "Theodor Trausan-Matu",
      "userId": "17891038521471135148"
     },
     "user_tz": -180
    },
    "id": "iSkN0ZgnoGr5",
    "outputId": "7c4565a2-f5a2-4d8c-b606-b86f1ae6f33e"
   },
   "outputs": [
    {
     "data": {
      "image/png": "[encoded data removed]",
      "text/latex": [
       "$\\displaystyle 2445.43238784358$"
      ],
      "text/plain": [
       "2445.432387843579"
      ]
     },
     "execution_count": 22,
     "metadata": {},
     "output_type": "execute_result"
    }
   ],
   "source": [
    "np.sum(r**2)"
   ]
  },
  {
   "cell_type": "code",
   "execution_count": 23,
   "metadata": {
    "colab": {
     "base_uri": "https://localhost:8080/"
    },
    "executionInfo": {
     "elapsed": 209,
     "status": "ok",
     "timestamp": 1712312384383,
     "user": {
      "displayName": "Theodor Trausan-Matu",
      "userId": "17891038521471135148"
     },
     "user_tz": -180
    },
    "id": "plx3hNnCogvF",
    "outputId": "4a68745b-eaee-47f9-95a7-083e84cdae58"
   },
   "outputs": [
    {
     "name": "stdout",
     "output_type": "stream",
     "text": [
      "                            OLS Regression Results                            \n",
      "==============================================================================\n",
      "Dep. Variable:                      y   R-squared:                       0.997\n",
      "Model:                            OLS   Adj. R-squared:                  0.997\n",
      "Method:                 Least Squares   F-statistic:                 3.002e+04\n",
      "Date:                Fri, 05 Apr 2024   Prob (F-statistic):          1.04e-123\n",
      "Time:                        19:09:12   Log-Likelihood:                -301.73\n",
      "No. Observations:                 100   AIC:                             607.5\n",
      "Df Residuals:                      98   BIC:                             612.7\n",
      "Df Model:                           1                                         \n",
      "Covariance Type:            nonrobust                                         \n",
      "==============================================================================\n",
      "                 coef    std err          t      P>|t|      [0.025      0.975]\n",
      "------------------------------------------------------------------------------\n",
      "const        103.9163      1.007    103.234      0.000     101.919     105.914\n",
      "x1             2.9982      0.017    173.255      0.000       2.964       3.033\n",
      "==============================================================================\n",
      "Omnibus:                      213.573   Durbin-Watson:                   0.346\n",
      "Prob(Omnibus):                  0.000   Jarque-Bera (JB):                9.400\n",
      "Skew:                           0.049   Prob(JB):                      0.00910\n",
      "Kurtosis:                       1.501   Cond. No.                         117.\n",
      "==============================================================================\n",
      "\n",
      "Notes:\n",
      "[1] Standard Errors assume that the covariance matrix of the errors is correctly specified.\n"
     ]
    }
   ],
   "source": [
    "mod = sm.OLS(y,X, hasconst = True)\n",
    "res = mod.fit()\n",
    "print(res.summary())"
   ]
  },
  {
   "cell_type": "code",
   "execution_count": 33,
   "metadata": {},
   "outputs": [
    {
     "data": {
      "text/plain": [
       "array([8.46721308e-102, 1.03591528e-123])"
      ]
     },
     "execution_count": 33,
     "metadata": {},
     "output_type": "execute_result"
    }
   ],
   "source": [
    "res.pvalues"
   ]
  },
  {
   "cell_type": "code",
   "execution_count": 24,
   "metadata": {
    "colab": {
     "base_uri": "https://localhost:8080/",
     "height": 37
    },
    "executionInfo": {
     "elapsed": 300,
     "status": "ok",
     "timestamp": 1712312720696,
     "user": {
      "displayName": "Theodor Trausan-Matu",
      "userId": "17891038521471135148"
     },
     "user_tz": -180
    },
    "id": "dHCWpBTivYPh",
    "outputId": "96ffb09c-c568-414d-ae0b-57ce8745f2fa"
   },
   "outputs": [
    {
     "data": {
      "image/png": "[encoded data removed]",
      "text/latex": [
       "$\\displaystyle 255.326586118685$"
      ],
      "text/plain": [
       "255.32658611868513"
      ]
     },
     "execution_count": 24,
     "metadata": {},
     "output_type": "execute_result"
    }
   ],
   "source": [
    "np.mean(Y)"
   ]
  },
  {
   "cell_type": "code",
   "execution_count": 25,
   "metadata": {
    "colab": {
     "base_uri": "https://localhost:8080/",
     "height": 37
    },
    "executionInfo": {
     "elapsed": 205,
     "status": "ok",
     "timestamp": 1712312803392,
     "user": {
      "displayName": "Theodor Trausan-Matu",
      "userId": "17891038521471135148"
     },
     "user_tz": -180
    },
    "id": "p0U3prTiypl_",
    "outputId": "f5b1a103-a0a4-4e62-8560-18a431fabe9f"
   },
   "outputs": [
    {
     "data": {
      "text/plain": [
       "array([751482.18716286])"
      ]
     },
     "execution_count": 25,
     "metadata": {},
     "output_type": "execute_result"
    }
   ],
   "source": [
    "sum((Y-np.mean(Y))**2)     #total sum of squares SST"
   ]
  },
  {
   "cell_type": "code",
   "execution_count": 26,
   "metadata": {
    "colab": {
     "base_uri": "https://localhost:8080/",
     "height": 37
    },
    "executionInfo": {
     "elapsed": 221,
     "status": "ok",
     "timestamp": 1712312812879,
     "user": {
      "displayName": "Theodor Trausan-Matu",
      "userId": "17891038521471135148"
     },
     "user_tz": -180
    },
    "id": "mudcphQFyuEg",
    "outputId": "b1dc41ed-ec1d-46c1-c438-0ea91c099fa3"
   },
   "outputs": [
    {
     "data": {
      "text/plain": [
       "array([2445.43238784])"
      ]
     },
     "execution_count": 26,
     "metadata": {},
     "output_type": "execute_result"
    }
   ],
   "source": [
    "sum(r**2)                  #residual sum of squares, SSR"
   ]
  },
  {
   "cell_type": "code",
   "execution_count": 27,
   "metadata": {
    "colab": {
     "base_uri": "https://localhost:8080/",
     "height": 37
    },
    "executionInfo": {
     "elapsed": 206,
     "status": "ok",
     "timestamp": 1712313084617,
     "user": {
      "displayName": "Theodor Trausan-Matu",
      "userId": "17891038521471135148"
     },
     "user_tz": -180
    },
    "id": "V9_S_lCyzAIm",
    "outputId": "ad8c9515-24d6-4790-8d18-775a8e2aff4a"
   },
   "outputs": [
    {
     "data": {
      "text/plain": [
       "array([-306.30033302])"
      ]
     },
     "execution_count": 27,
     "metadata": {},
     "output_type": "execute_result"
    }
   ],
   "source": [
    "1 - (sum((Y-np.mean(Y))**2) / sum(r**2))     #coeff of determination R^2"
   ]
  },
  {
   "cell_type": "code",
   "execution_count": null,
   "metadata": {
    "id": "ucWTp6JHzHNg"
   },
   "outputs": [],
   "source": []
  }
 ],
 "metadata": {
  "colab": {
   "authorship_tag": "ABX9TyOcBs1NE1fHw82xTyXMRnKv",
   "provenance": []
  },
  "kernelspec": {
   "display_name": "venvstats",
   "language": "python",
   "name": "venvstats"
  },
  "language_info": {
   "codemirror_mode": {
    "name": "ipython",
    "version": 3
   },
   "file_extension": ".py",
   "mimetype": "text/x-python",
   "name": "python",
   "nbconvert_exporter": "python",
   "pygments_lexer": "ipython3",
   "version": "3.9.13"
  }
 },
 "nbformat": 4,
 "nbformat_minor": 4
}
