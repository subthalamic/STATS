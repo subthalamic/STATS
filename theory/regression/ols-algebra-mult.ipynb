{
 "cells": [
  {
   "cell_type": "code",
   "execution_count": 1,
   "id": "e26a01fd-9677-40a7-983b-f983bf88e819",
   "metadata": {},
   "outputs": [],
   "source": [
    "import pandas as pd\n",
    "import matplotlib.pyplot as plt\n",
    "from sympy import *\n",
    "init_printing(use_latex=True)"
   ]
  },
  {
   "cell_type": "code",
   "execution_count": 2,
   "id": "f728bf21-18ec-41ba-8083-2b91179c9476",
   "metadata": {},
   "outputs": [],
   "source": [
    "beta = Matrix([symbols('beta1:{}'.format(4))]).T"
   ]
  },
  {
   "cell_type": "code",
   "execution_count": 3,
   "id": "f9cefff7-08a0-4582-812a-1e1b8a13c301",
   "metadata": {},
   "outputs": [
    {
     "data": {
      "image/png": "[encoded data removed]",
      "text/latex": [
       "$\\displaystyle \\left[\\begin{matrix}\\beta_{1}\\\\\\beta_{2}\\\\\\beta_{3}\\end{matrix}\\right]$"
      ],
      "text/plain": [
       "⎡β₁⎤\n",
       "⎢  ⎥\n",
       "⎢β₂⎥\n",
       "⎢  ⎥\n",
       "⎣β₃⎦"
      ]
     },
     "execution_count": 3,
     "metadata": {},
     "output_type": "execute_result"
    }
   ],
   "source": [
    "beta"
   ]
  },
  {
   "cell_type": "code",
   "execution_count": 14,
   "id": "b6a93e91-a872-4135-83c3-c9f7f99ac480",
   "metadata": {},
   "outputs": [],
   "source": [
    "x = Matrix([symbols('x1:{}1:{}'.format(3,3))]) #.reshape(3,3)"
   ]
  },
  {
   "cell_type": "code",
   "execution_count": 15,
   "id": "f2618e3b-5521-4229-86e6-00b8a1795e3c",
   "metadata": {},
   "outputs": [
    {
     "data": {
      "image/png": "[encoded data removed]",
      "text/latex": [
       "$\\displaystyle \\left[\\begin{array}{cccccccccccccccccccccccccccccccccccccccccccccccccccccccccccccccccccccccccccccccccccccccccc}x_{10} & x_{11} & x_{12} & x_{20} & x_{21} & x_{22} & x_{30} & x_{31} & x_{32} & x_{40} & x_{41} & x_{42} & x_{50} & x_{51} & x_{52} & x_{60} & x_{61} & x_{62} & x_{70} & x_{71} & x_{72} & x_{80} & x_{81} & x_{82} & x_{90} & x_{91} & x_{92} & x_{100} & x_{101} & x_{102} & x_{110} & x_{111} & x_{112} & x_{120} & x_{121} & x_{122} & x_{130} & x_{131} & x_{132} & x_{140} & x_{141} & x_{142} & x_{150} & x_{151} & x_{152} & x_{160} & x_{161} & x_{162} & x_{170} & x_{171} & x_{172} & x_{180} & x_{181} & x_{182} & x_{190} & x_{191} & x_{192} & x_{200} & x_{201} & x_{202} & x_{210} & x_{211} & x_{212} & x_{220} & x_{221} & x_{222} & x_{230} & x_{231} & x_{232} & x_{240} & x_{241} & x_{242} & x_{250} & x_{251} & x_{252} & x_{260} & x_{261} & x_{262} & x_{270} & x_{271} & x_{272} & x_{280} & x_{281} & x_{282} & x_{290} & x_{291} & x_{292} & x_{300} & x_{301} & x_{302}\\end{array}\\right]$"
      ],
      "text/plain": [
       "[x₁₀  x₁₁  x₁₂  x₂₀  x₂₁  x₂₂  x₃₀  x₃₁  x₃₂  x₄₀  x₄₁  x₄₂  x₅₀  x₅₁  x₅₂  x₆\n",
       "₀  x₆₁  x₆₂  x₇₀  x₇₁  x₇₂  x₈₀  x₈₁  x₈₂  x₉₀  x₉₁  x₉₂  x₁₀₀  x₁₀₁  x₁₀₂  x₁\n",
       "₁₀  x₁₁₁  x₁₁₂  x₁₂₀  x₁₂₁  x₁₂₂  x₁₃₀  x₁₃₁  x₁₃₂  x₁₄₀  x₁₄₁  x₁₄₂  x₁₅₀  x₁\n",
       "₅₁  x₁₅₂  x₁₆₀  x₁₆₁  x₁₆₂  x₁₇₀  x₁₇₁  x₁₇₂  x₁₈₀  x₁₈₁  x₁₈₂  x₁₉₀  x₁₉₁  x₁\n",
       "₉₂  x₂₀₀  x₂₀₁  x₂₀₂  x₂₁₀  x₂₁₁  x₂₁₂  x₂₂₀  x₂₂₁  x₂₂₂  x₂₃₀  x₂₃₁  x₂₃₂  x₂\n",
       "₄₀  x₂₄₁  x₂₄₂  x₂₅₀  x₂₅₁  x₂₅₂  x₂₆₀  x₂₆₁  x₂₆₂  x₂₇₀  x₂₇₁  x₂₇₂  x₂₈₀  x₂\n",
       "₈₁  x₂₈₂  x₂₉₀  x₂₉₁  x₂₉₂  x₃₀₀  x₃₀₁  x₃₀₂]"
      ]
     },
     "execution_count": 15,
     "metadata": {},
     "output_type": "execute_result"
    }
   ],
   "source": [
    "x"
   ]
  },
  {
   "cell_type": "code",
   "execution_count": null,
   "id": "e87e6d8f-3b21-423d-a932-b406444b8dcd",
   "metadata": {},
   "outputs": [],
   "source": []
  }
 ],
 "metadata": {
  "kernelspec": {
   "display_name": "venvstats",
   "language": "python",
   "name": "venvstats"
  },
  "language_info": {
   "codemirror_mode": {
    "name": "ipython",
    "version": 3
   },
   "file_extension": ".py",
   "mimetype": "text/x-python",
   "name": "python",
   "nbconvert_exporter": "python",
   "pygments_lexer": "ipython3",
   "version": "3.9.13"
  }
 },
 "nbformat": 4,
 "nbformat_minor": 5
}
