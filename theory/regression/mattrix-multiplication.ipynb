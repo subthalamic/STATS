{
 "cells": [
  {
   "cell_type": "code",
   "execution_count": 1,
   "metadata": {
    "executionInfo": {
     "elapsed": 320,
     "status": "ok",
     "timestamp": 1712305759269,
     "user": {
      "displayName": "Theodor Trausan-Matu",
      "userId": "17891038521471135148"
     },
     "user_tz": -180
    },
    "id": "70kM3dpKSA1Q"
   },
   "outputs": [],
   "source": [
    "import numpy as np\n",
    "import matplotlib.pyplot as plt\n",
    "from sympy import *"
   ]
  },
  {
   "cell_type": "code",
   "execution_count": 2,
   "metadata": {
    "executionInfo": {
     "elapsed": 11,
     "status": "ok",
     "timestamp": 1712305759678,
     "user": {
      "displayName": "Theodor Trausan-Matu",
      "userId": "17891038521471135148"
     },
     "user_tz": -180
    },
    "id": "ZkdwVZleSRZQ"
   },
   "outputs": [],
   "source": [
    "init_printing()"
   ]
  },
  {
   "cell_type": "code",
   "execution_count": 3,
   "metadata": {
    "executionInfo": {
     "elapsed": 10,
     "status": "ok",
     "timestamp": 1712305759678,
     "user": {
      "displayName": "Theodor Trausan-Matu",
      "userId": "17891038521471135148"
     },
     "user_tz": -180
    },
    "id": "Q3Nr59kHSTv_"
   },
   "outputs": [],
   "source": [
    "A = Matrix([symbols('a1:{}'.format(5))]).reshape(2,2)"
   ]
  },
  {
   "cell_type": "code",
   "execution_count": 4,
   "metadata": {
    "executionInfo": {
     "elapsed": 10,
     "status": "ok",
     "timestamp": 1712305759678,
     "user": {
      "displayName": "Theodor Trausan-Matu",
      "userId": "17891038521471135148"
     },
     "user_tz": -180
    },
    "id": "brga44XETfki"
   },
   "outputs": [],
   "source": [
    "B = Matrix([symbols('b1:{}'.format(5))]).reshape(2,2)"
   ]
  },
  {
   "cell_type": "code",
   "execution_count": 5,
   "metadata": {
    "colab": {
     "base_uri": "https://localhost:8080/",
     "height": 58
    },
    "executionInfo": {
     "elapsed": 11,
     "status": "ok",
     "timestamp": 1712305759679,
     "user": {
      "displayName": "Theodor Trausan-Matu",
      "userId": "17891038521471135148"
     },
     "user_tz": -180
    },
    "id": "rJ8qp0edUGF7",
    "outputId": "55d42561-39a2-40f9-bd2a-146b31f71e48"
   },
   "outputs": [
    {
     "data": {
      "image/png": "[encoded data removed]",
      "text/latex": [
       "$\\displaystyle \\left[\\begin{matrix}a_{1} + b_{1} & a_{2} + b_{2}\\\\a_{3} + b_{3} & a_{4} + b_{4}\\end{matrix}\\right]$"
      ],
      "text/plain": [
       "⎡a₁ + b₁  a₂ + b₂⎤\n",
       "⎢                ⎥\n",
       "⎣a₃ + b₃  a₄ + b₄⎦"
      ]
     },
     "execution_count": 5,
     "metadata": {},
     "output_type": "execute_result"
    }
   ],
   "source": [
    "A+B"
   ]
  },
  {
   "cell_type": "code",
   "execution_count": 6,
   "metadata": {
    "colab": {
     "base_uri": "https://localhost:8080/",
     "height": 58
    },
    "executionInfo": {
     "elapsed": 10,
     "status": "ok",
     "timestamp": 1712305759679,
     "user": {
      "displayName": "Theodor Trausan-Matu",
      "userId": "17891038521471135148"
     },
     "user_tz": -180
    },
    "id": "6V9pW-1bUaH5",
    "outputId": "1e6ed52d-932f-4897-b378-49e7979e551e"
   },
   "outputs": [
    {
     "data": {
      "image/png": "[encoded data removed]",
      "text/latex": [
       "$\\displaystyle \\left[\\begin{matrix}a_{1} & a_{2}\\\\a_{3} & a_{4}\\end{matrix}\\right]$"
      ],
      "text/plain": [
       "⎡a₁  a₂⎤\n",
       "⎢      ⎥\n",
       "⎣a₃  a₄⎦"
      ]
     },
     "execution_count": 6,
     "metadata": {},
     "output_type": "execute_result"
    }
   ],
   "source": [
    "A"
   ]
  },
  {
   "cell_type": "code",
   "execution_count": 7,
   "metadata": {
    "colab": {
     "base_uri": "https://localhost:8080/",
     "height": 58
    },
    "executionInfo": {
     "elapsed": 9,
     "status": "ok",
     "timestamp": 1712305759679,
     "user": {
      "displayName": "Theodor Trausan-Matu",
      "userId": "17891038521471135148"
     },
     "user_tz": -180
    },
    "id": "imAigb08UpmD",
    "outputId": "98794d43-528b-4975-da67-dad14810fa57"
   },
   "outputs": [
    {
     "data": {
      "image/png": "[encoded data removed]",
      "text/latex": [
       "$\\displaystyle \\left[\\begin{matrix}b_{1} & b_{2}\\\\b_{3} & b_{4}\\end{matrix}\\right]$"
      ],
      "text/plain": [
       "⎡b₁  b₂⎤\n",
       "⎢      ⎥\n",
       "⎣b₃  b₄⎦"
      ]
     },
     "execution_count": 7,
     "metadata": {},
     "output_type": "execute_result"
    }
   ],
   "source": [
    "B"
   ]
  },
  {
   "cell_type": "code",
   "execution_count": 8,
   "metadata": {
    "colab": {
     "base_uri": "https://localhost:8080/",
     "height": 58
    },
    "executionInfo": {
     "elapsed": 9,
     "status": "ok",
     "timestamp": 1712305759679,
     "user": {
      "displayName": "Theodor Trausan-Matu",
      "userId": "17891038521471135148"
     },
     "user_tz": -180
    },
    "id": "QjRl38OEUr85",
    "outputId": "4fd1b218-056e-4ee9-81bc-84f83e431e6b"
   },
   "outputs": [
    {
     "data": {
      "image/png": "[encoded data removed]",
      "text/latex": [
       "$\\displaystyle \\left[\\begin{matrix}a_{1} b_{1} + a_{2} b_{3} & a_{1} b_{2} + a_{2} b_{4}\\\\a_{3} b_{1} + a_{4} b_{3} & a_{3} b_{2} + a_{4} b_{4}\\end{matrix}\\right]$"
      ],
      "text/plain": [
       "⎡a₁⋅b₁ + a₂⋅b₃  a₁⋅b₂ + a₂⋅b₄⎤\n",
       "⎢                            ⎥\n",
       "⎣a₃⋅b₁ + a₄⋅b₃  a₃⋅b₂ + a₄⋅b₄⎦"
      ]
     },
     "execution_count": 8,
     "metadata": {},
     "output_type": "execute_result"
    }
   ],
   "source": [
    "A*B"
   ]
  },
  {
   "cell_type": "code",
   "execution_count": 9,
   "metadata": {
    "colab": {
     "base_uri": "https://localhost:8080/",
     "height": 58
    },
    "executionInfo": {
     "elapsed": 8,
     "status": "ok",
     "timestamp": 1712305759679,
     "user": {
      "displayName": "Theodor Trausan-Matu",
      "userId": "17891038521471135148"
     },
     "user_tz": -180
    },
    "id": "ug7ys5R4Utgu",
    "outputId": "6bbf24b1-9de3-44d4-e360-2ac871ea2162"
   },
   "outputs": [
    {
     "data": {
      "image/png": "[encoded data removed]",
      "text/latex": [
       "$\\displaystyle \\left[\\begin{matrix}b_{1} & b_{3}\\\\b_{2} & b_{4}\\end{matrix}\\right]$"
      ],
      "text/plain": [
       "⎡b₁  b₃⎤\n",
       "⎢      ⎥\n",
       "⎣b₂  b₄⎦"
      ]
     },
     "execution_count": 9,
     "metadata": {},
     "output_type": "execute_result"
    }
   ],
   "source": [
    "B.T"
   ]
  },
  {
   "cell_type": "code",
   "execution_count": 10,
   "metadata": {
    "executionInfo": {
     "elapsed": 8,
     "status": "ok",
     "timestamp": 1712305759679,
     "user": {
      "displayName": "Theodor Trausan-Matu",
      "userId": "17891038521471135148"
     },
     "user_tz": -180
    },
    "id": "upC1LVqFU8WX"
   },
   "outputs": [
    {
     "data": {
      "image/png": "[encoded data removed]",
      "text/latex": [
       "$\\displaystyle \\left[\\begin{matrix}a_{1} & a_{2}\\\\a_{3} & a_{4}\\end{matrix}\\right]$"
      ],
      "text/plain": [
       "⎡a₁  a₂⎤\n",
       "⎢      ⎥\n",
       "⎣a₃  a₄⎦"
      ]
     },
     "execution_count": 10,
     "metadata": {},
     "output_type": "execute_result"
    }
   ],
   "source": [
    "A"
   ]
  },
  {
   "cell_type": "code",
   "execution_count": 16,
   "metadata": {},
   "outputs": [
    {
     "data": {
      "image/png": "[encoded data removed]",
      "text/latex": [
       "$\\displaystyle \\left[\\begin{matrix}\\frac{a_{4}}{a_{1} a_{4} - a_{2} a_{3}} & - \\frac{a_{2}}{a_{1} a_{4} - a_{2} a_{3}}\\\\- \\frac{a_{3}}{a_{1} a_{4} - a_{2} a_{3}} & \\frac{a_{1}}{a_{1} a_{4} - a_{2} a_{3}}\\end{matrix}\\right]$"
      ],
      "text/plain": [
       "⎡      a₄            -a₂     ⎤\n",
       "⎢─────────────  ─────────────⎥\n",
       "⎢a₁⋅a₄ - a₂⋅a₃  a₁⋅a₄ - a₂⋅a₃⎥\n",
       "⎢                            ⎥\n",
       "⎢     -a₃             a₁     ⎥\n",
       "⎢─────────────  ─────────────⎥\n",
       "⎣a₁⋅a₄ - a₂⋅a₃  a₁⋅a₄ - a₂⋅a₃⎦"
      ]
     },
     "execution_count": 16,
     "metadata": {},
     "output_type": "execute_result"
    }
   ],
   "source": [
    "A.inv()"
   ]
  },
  {
   "cell_type": "code",
   "execution_count": 12,
   "metadata": {},
   "outputs": [
    {
     "data": {
      "image/png": "[encoded data removed]",
      "text/latex": [
       "$\\displaystyle \\left[\\begin{matrix}a_{1}^{2} + a_{3}^{2} & a_{1} a_{2} + a_{3} a_{4}\\\\a_{1} a_{2} + a_{3} a_{4} & a_{2}^{2} + a_{4}^{2}\\end{matrix}\\right]$"
      ],
      "text/plain": [
       "⎡    2     2                 ⎤\n",
       "⎢  a₁  + a₃     a₁⋅a₂ + a₃⋅a₄⎥\n",
       "⎢                            ⎥\n",
       "⎢                   2     2  ⎥\n",
       "⎣a₁⋅a₂ + a₃⋅a₄    a₂  + a₄   ⎦"
      ]
     },
     "execution_count": 12,
     "metadata": {},
     "output_type": "execute_result"
    }
   ],
   "source": [
    "A.T*A"
   ]
  },
  {
   "cell_type": "code",
   "execution_count": 17,
   "metadata": {},
   "outputs": [
    {
     "data": {
      "image/png": "[encoded data removed]",
      "text/latex": [
       "$\\displaystyle \\left[\\begin{matrix}a_{1}^{2} + a_{2} a_{3} & a_{1} a_{2} + a_{2} a_{4}\\\\a_{1} a_{3} + a_{3} a_{4} & a_{2} a_{3} + a_{4}^{2}\\end{matrix}\\right]$"
      ],
      "text/plain": [
       "⎡   2                        ⎤\n",
       "⎢ a₁  + a₂⋅a₃   a₁⋅a₂ + a₂⋅a₄⎥\n",
       "⎢                            ⎥\n",
       "⎢                          2 ⎥\n",
       "⎣a₁⋅a₃ + a₃⋅a₄   a₂⋅a₃ + a₄  ⎦"
      ]
     },
     "execution_count": 17,
     "metadata": {},
     "output_type": "execute_result"
    }
   ],
   "source": [
    "A*A"
   ]
  },
  {
   "cell_type": "code",
   "execution_count": 18,
   "metadata": {},
   "outputs": [
    {
     "data": {
      "image/png": "[encoded data removed]",
      "text/latex": [
       "$\\displaystyle \\left[\\begin{matrix}\\frac{a_{1} a_{4}}{a_{1} a_{4} - a_{2} a_{3}} - \\frac{a_{2} a_{3}}{a_{1} a_{4} - a_{2} a_{3}} & 0\\\\0 & \\frac{a_{1} a_{4}}{a_{1} a_{4} - a_{2} a_{3}} - \\frac{a_{2} a_{3}}{a_{1} a_{4} - a_{2} a_{3}}\\end{matrix}\\right]$"
      ],
      "text/plain": [
       "⎡    a₁⋅a₄           a₂⋅a₃                                   ⎤\n",
       "⎢───────────── - ─────────────                0              ⎥\n",
       "⎢a₁⋅a₄ - a₂⋅a₃   a₁⋅a₄ - a₂⋅a₃                               ⎥\n",
       "⎢                                                            ⎥\n",
       "⎢                                   a₁⋅a₄           a₂⋅a₃    ⎥\n",
       "⎢              0                ───────────── - ─────────────⎥\n",
       "⎣                               a₁⋅a₄ - a₂⋅a₃   a₁⋅a₄ - a₂⋅a₃⎦"
      ]
     },
     "execution_count": 18,
     "metadata": {},
     "output_type": "execute_result"
    }
   ],
   "source": [
    "A.inv()*A"
   ]
  },
  {
   "cell_type": "code",
   "execution_count": 19,
   "metadata": {},
   "outputs": [
    {
     "data": {
      "image/png": "[encoded data removed]",
      "text/latex": [
       "$\\displaystyle \\left[\\begin{matrix}\\frac{a_{1} a_{4}}{a_{1} a_{4} - a_{2} a_{3}} - \\frac{a_{2} a_{3}}{a_{1} a_{4} - a_{2} a_{3}} & 0\\\\0 & \\frac{a_{1} a_{4}}{a_{1} a_{4} - a_{2} a_{3}} - \\frac{a_{2} a_{3}}{a_{1} a_{4} - a_{2} a_{3}}\\end{matrix}\\right]$"
      ],
      "text/plain": [
       "⎡    a₁⋅a₄           a₂⋅a₃                                   ⎤\n",
       "⎢───────────── - ─────────────                0              ⎥\n",
       "⎢a₁⋅a₄ - a₂⋅a₃   a₁⋅a₄ - a₂⋅a₃                               ⎥\n",
       "⎢                                                            ⎥\n",
       "⎢                                   a₁⋅a₄           a₂⋅a₃    ⎥\n",
       "⎢              0                ───────────── - ─────────────⎥\n",
       "⎣                               a₁⋅a₄ - a₂⋅a₃   a₁⋅a₄ - a₂⋅a₃⎦"
      ]
     },
     "execution_count": 19,
     "metadata": {},
     "output_type": "execute_result"
    }
   ],
   "source": [
    "A*A.inv()"
   ]
  },
  {
   "cell_type": "code",
   "execution_count": 20,
   "metadata": {},
   "outputs": [
    {
     "data": {
      "image/png": "[encoded data removed]",
      "text/latex": [
       "$\\displaystyle a_{1} a_{4} - a_{2} a_{3}$"
      ],
      "text/plain": [
       "a₁⋅a₄ - a₂⋅a₃"
      ]
     },
     "execution_count": 20,
     "metadata": {},
     "output_type": "execute_result"
    }
   ],
   "source": [
    "det(A)"
   ]
  },
  {
   "cell_type": "code",
   "execution_count": 21,
   "metadata": {},
   "outputs": [
    {
     "data": {
      "image/png": "[encoded data removed]",
      "text/latex": [
       "$\\displaystyle \\left[\\begin{matrix}\\frac{a_{2}^{2} + a_{4}^{2}}{a_{1}^{2} a_{4}^{2} - 2 a_{1} a_{2} a_{3} a_{4} + a_{2}^{2} a_{3}^{2}} & \\frac{- a_{1} a_{2} - a_{3} a_{4}}{a_{1}^{2} a_{4}^{2} - 2 a_{1} a_{2} a_{3} a_{4} + a_{2}^{2} a_{3}^{2}}\\\\\\frac{- a_{1} a_{2} - a_{3} a_{4}}{a_{1}^{2} a_{4}^{2} - 2 a_{1} a_{2} a_{3} a_{4} + a_{2}^{2} a_{3}^{2}} & \\frac{a_{1}^{2} + a_{3}^{2}}{a_{1}^{2} a_{4}^{2} - 2 a_{1} a_{2} a_{3} a_{4} + a_{2}^{2} a_{3}^{2}}\\end{matrix}\\right]$"
      ],
      "text/plain": [
       "⎡              2     2                                               ⎤\n",
       "⎢            a₂  + a₄                         -a₁⋅a₂ - a₃⋅a₄         ⎥\n",
       "⎢─────────────────────────────────  ─────────────────────────────────⎥\n",
       "⎢  2   2                     2   2    2   2                     2   2⎥\n",
       "⎢a₁ ⋅a₄  - 2⋅a₁⋅a₂⋅a₃⋅a₄ + a₂ ⋅a₃   a₁ ⋅a₄  - 2⋅a₁⋅a₂⋅a₃⋅a₄ + a₂ ⋅a₃ ⎥\n",
       "⎢                                                                    ⎥\n",
       "⎢                                                 2     2            ⎥\n",
       "⎢          -a₁⋅a₂ - a₃⋅a₄                       a₁  + a₃             ⎥\n",
       "⎢─────────────────────────────────  ─────────────────────────────────⎥\n",
       "⎢  2   2                     2   2    2   2                     2   2⎥\n",
       "⎣a₁ ⋅a₄  - 2⋅a₁⋅a₂⋅a₃⋅a₄ + a₂ ⋅a₃   a₁ ⋅a₄  - 2⋅a₁⋅a₂⋅a₃⋅a₄ + a₂ ⋅a₃ ⎦"
      ]
     },
     "execution_count": 21,
     "metadata": {},
     "output_type": "execute_result"
    }
   ],
   "source": [
    "(A.T*A).inv()"
   ]
  },
  {
   "cell_type": "code",
   "execution_count": 22,
   "metadata": {},
   "outputs": [
    {
     "data": {
      "image/png": "[encoded data removed]",
      "text/latex": [
       "$\\displaystyle \\left[\\begin{matrix}\\frac{a_{1} \\left(a_{2}^{2} + a_{4}^{2}\\right)}{a_{1}^{2} a_{4}^{2} - 2 a_{1} a_{2} a_{3} a_{4} + a_{2}^{2} a_{3}^{2}} + \\frac{a_{2} \\left(- a_{1} a_{2} - a_{3} a_{4}\\right)}{a_{1}^{2} a_{4}^{2} - 2 a_{1} a_{2} a_{3} a_{4} + a_{2}^{2} a_{3}^{2}} & \\frac{a_{3} \\left(a_{2}^{2} + a_{4}^{2}\\right)}{a_{1}^{2} a_{4}^{2} - 2 a_{1} a_{2} a_{3} a_{4} + a_{2}^{2} a_{3}^{2}} + \\frac{a_{4} \\left(- a_{1} a_{2} - a_{3} a_{4}\\right)}{a_{1}^{2} a_{4}^{2} - 2 a_{1} a_{2} a_{3} a_{4} + a_{2}^{2} a_{3}^{2}}\\\\\\frac{a_{1} \\left(- a_{1} a_{2} - a_{3} a_{4}\\right)}{a_{1}^{2} a_{4}^{2} - 2 a_{1} a_{2} a_{3} a_{4} + a_{2}^{2} a_{3}^{2}} + \\frac{a_{2} \\left(a_{1}^{2} + a_{3}^{2}\\right)}{a_{1}^{2} a_{4}^{2} - 2 a_{1} a_{2} a_{3} a_{4} + a_{2}^{2} a_{3}^{2}} & \\frac{a_{3} \\left(- a_{1} a_{2} - a_{3} a_{4}\\right)}{a_{1}^{2} a_{4}^{2} - 2 a_{1} a_{2} a_{3} a_{4} + a_{2}^{2} a_{3}^{2}} + \\frac{a_{4} \\left(a_{1}^{2} + a_{3}^{2}\\right)}{a_{1}^{2} a_{4}^{2} - 2 a_{1} a_{2} a_{3} a_{4} + a_{2}^{2} a_{3}^{2}}\\end{matrix}\\right]$"
      ],
      "text/plain": [
       "⎡             ⎛  2     2⎞                                                     \n",
       "⎢          a₁⋅⎝a₂  + a₄ ⎠                   a₂⋅(-a₁⋅a₂ - a₃⋅a₄)               \n",
       "⎢───────────────────────────────── + ─────────────────────────────────  ──────\n",
       "⎢  2   2                     2   2     2   2                     2   2    2   \n",
       "⎢a₁ ⋅a₄  - 2⋅a₁⋅a₂⋅a₃⋅a₄ + a₂ ⋅a₃    a₁ ⋅a₄  - 2⋅a₁⋅a₂⋅a₃⋅a₄ + a₂ ⋅a₃   a₁ ⋅a₄\n",
       "⎢                                                                             \n",
       "⎢                                                 ⎛  2     2⎞                 \n",
       "⎢       a₁⋅(-a₁⋅a₂ - a₃⋅a₄)                    a₂⋅⎝a₁  + a₃ ⎠                 \n",
       "⎢───────────────────────────────── + ─────────────────────────────────  ──────\n",
       "⎢  2   2                     2   2     2   2                     2   2    2   \n",
       "⎣a₁ ⋅a₄  - 2⋅a₁⋅a₂⋅a₃⋅a₄ + a₂ ⋅a₃    a₁ ⋅a₄  - 2⋅a₁⋅a₂⋅a₃⋅a₄ + a₂ ⋅a₃   a₁ ⋅a₄\n",
       "\n",
       "       ⎛  2     2⎞                                             ⎤\n",
       "    a₃⋅⎝a₂  + a₄ ⎠                   a₄⋅(-a₁⋅a₂ - a₃⋅a₄)       ⎥\n",
       "─────────────────────────── + ─────────────────────────────────⎥\n",
       "2                     2   2     2   2                     2   2⎥\n",
       "  - 2⋅a₁⋅a₂⋅a₃⋅a₄ + a₂ ⋅a₃    a₁ ⋅a₄  - 2⋅a₁⋅a₂⋅a₃⋅a₄ + a₂ ⋅a₃ ⎥\n",
       "                                                               ⎥\n",
       "                                           ⎛  2     2⎞         ⎥\n",
       " a₃⋅(-a₁⋅a₂ - a₃⋅a₄)                    a₄⋅⎝a₁  + a₃ ⎠         ⎥\n",
       "─────────────────────────── + ─────────────────────────────────⎥\n",
       "2                     2   2     2   2                     2   2⎥\n",
       "  - 2⋅a₁⋅a₂⋅a₃⋅a₄ + a₂ ⋅a₃    a₁ ⋅a₄  - 2⋅a₁⋅a₂⋅a₃⋅a₄ + a₂ ⋅a₃ ⎦"
      ]
     },
     "execution_count": 22,
     "metadata": {},
     "output_type": "execute_result"
    }
   ],
   "source": [
    "(A.T*A).inv()*A.T"
   ]
  },
  {
   "cell_type": "code",
   "execution_count": null,
   "metadata": {},
   "outputs": [],
   "source": []
  }
 ],
 "metadata": {
  "colab": {
   "authorship_tag": "ABX9TyOoPqcZeG32tl8ENuoWdFhF",
   "provenance": []
  },
  "kernelspec": {
   "display_name": "venvstats",
   "language": "python",
   "name": "venvstats"
  },
  "language_info": {
   "codemirror_mode": {
    "name": "ipython",
    "version": 3
   },
   "file_extension": ".py",
   "mimetype": "text/x-python",
   "name": "python",
   "nbconvert_exporter": "python",
   "pygments_lexer": "ipython3",
   "version": "3.9.13"
  }
 },
 "nbformat": 4,
 "nbformat_minor": 4
}
