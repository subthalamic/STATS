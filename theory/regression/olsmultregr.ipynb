{
  "nbformat": 4,
  "nbformat_minor": 0,
  "metadata": {
    "colab": {
      "provenance": [],
      "authorship_tag": "ABX9TyNQhwIVOCV1D9BjyVy5Pbq6",
      "include_colab_link": true
    },
    "kernelspec": {
      "name": "python3",
      "display_name": "Python 3"
    },
    "language_info": {
      "name": "python"
    }
  },
  "cells": [
    {
      "cell_type": "markdown",
      "metadata": {
        "id": "view-in-github",
        "colab_type": "text"
      },
      "source": [
        "<a href=\"https://colab.research.google.com/github/subthalamic/STATS/blob/main/theory/regression/olsmultregr.ipynb\" target=\"_parent\"><img src=\"https://colab.research.google.com/assets/colab-badge.svg\" alt=\"Open In Colab\"/></a>"
      ]
    },
    {
      "cell_type": "code",
      "execution_count": 3,
      "metadata": {
        "id": "G_M_aCpSgYw9"
      },
      "outputs": [],
      "source": [
        "from sympy import *\n",
        "import numpy as np\n",
        "import pandas as pd\n",
        "import matplotlib.pyplot as plt\n",
        "import statsmodels.formula.api as smf\n",
        "init_printing(use_latex=True)"
      ]
    },
    {
      "cell_type": "code",
      "source": [
        "beta = Matrix([symbols('beta_a:{}'.format('c'))]).T\n",
        "beta"
      ],
      "metadata": {
        "colab": {
          "base_uri": "https://localhost:8080/",
          "height": 78
        },
        "id": "E_OJhE8shMQM",
        "outputId": "cfbcfcd3-3c10-4cbb-d383-bd7b3b03b0f5"
      },
      "execution_count": 85,
      "outputs": [
        {
          "output_type": "execute_result",
          "data": {
            "text/plain": [
              "⎡βₐ ⎤\n",
              "⎢   ⎥\n",
              "⎢β_b⎥\n",
              "⎢   ⎥\n",
              "⎣β_c⎦"
            ],
            "text/latex": "$\\displaystyle \\left[\\begin{matrix}\\beta_{a}\\\\\\beta_{b}\\\\\\beta_{c}\\end{matrix}\\right]$"
          },
          "metadata": {},
          "execution_count": 85
        }
      ]
    },
    {
      "cell_type": "code",
      "source": [
        "Matrix([symbols('x_b_1:{}'.format(6))]).T"
      ],
      "metadata": {
        "colab": {
          "base_uri": "https://localhost:8080/",
          "height": 119
        },
        "id": "y5Wtd97Mhx1c",
        "outputId": "56199b21-b7fa-4944-c09c-5307f3e393ed"
      },
      "execution_count": 86,
      "outputs": [
        {
          "output_type": "execute_result",
          "data": {
            "text/plain": [
              "⎡x_b_1⎤\n",
              "⎢     ⎥\n",
              "⎢x_b_2⎥\n",
              "⎢     ⎥\n",
              "⎢x_b_3⎥\n",
              "⎢     ⎥\n",
              "⎢x_b_4⎥\n",
              "⎢     ⎥\n",
              "⎣x_b_5⎦"
            ],
            "text/latex": "$\\displaystyle \\left[\\begin{matrix}x_{b 1}\\\\x_{b 2}\\\\x_{b 3}\\\\x_{b 4}\\\\x_{b 5}\\end{matrix}\\right]$"
          },
          "metadata": {},
          "execution_count": 86
        }
      ]
    },
    {
      "cell_type": "code",
      "source": [
        "X = Matrix([1,1,1,1,1]).row_join(Matrix([symbols('x_b_1:{}'.format(6))]).T).row_join(Matrix([symbols('x_c_1:{}'.format(6))]).T)\n",
        "X"
      ],
      "metadata": {
        "colab": {
          "base_uri": "https://localhost:8080/",
          "height": 119
        },
        "id": "r-i6fbXOkSzt",
        "outputId": "e94056ef-afec-493c-a6d8-3f57dca9e16a"
      },
      "execution_count": 87,
      "outputs": [
        {
          "output_type": "execute_result",
          "data": {
            "text/plain": [
              "⎡1  x_b_1  x_c_1⎤\n",
              "⎢               ⎥\n",
              "⎢1  x_b_2  x_c_2⎥\n",
              "⎢               ⎥\n",
              "⎢1  x_b_3  x_c_3⎥\n",
              "⎢               ⎥\n",
              "⎢1  x_b_4  x_c_4⎥\n",
              "⎢               ⎥\n",
              "⎣1  x_b_5  x_c_5⎦"
            ],
            "text/latex": "$\\displaystyle \\left[\\begin{matrix}1 & x_{b 1} & x_{c 1}\\\\1 & x_{b 2} & x_{c 2}\\\\1 & x_{b 3} & x_{c 3}\\\\1 & x_{b 4} & x_{c 4}\\\\1 & x_{b 5} & x_{c 5}\\end{matrix}\\right]$"
          },
          "metadata": {},
          "execution_count": 87
        }
      ]
    },
    {
      "cell_type": "code",
      "source": [
        "y = Matrix([symbols('y_1:{}'.format(6))]).T\n",
        "y"
      ],
      "metadata": {
        "colab": {
          "base_uri": "https://localhost:8080/",
          "height": 119
        },
        "id": "ZC8S1ZPamu_y",
        "outputId": "dc4f11ff-45e1-4bca-b4ca-fe5313e869ed"
      },
      "execution_count": 88,
      "outputs": [
        {
          "output_type": "execute_result",
          "data": {
            "text/plain": [
              "⎡y₁⎤\n",
              "⎢  ⎥\n",
              "⎢y₂⎥\n",
              "⎢  ⎥\n",
              "⎢y₃⎥\n",
              "⎢  ⎥\n",
              "⎢y₄⎥\n",
              "⎢  ⎥\n",
              "⎣y₅⎦"
            ],
            "text/latex": "$\\displaystyle \\left[\\begin{matrix}y_{1}\\\\y_{2}\\\\y_{3}\\\\y_{4}\\\\y_{5}\\end{matrix}\\right]$"
          },
          "metadata": {},
          "execution_count": 88
        }
      ]
    },
    {
      "cell_type": "code",
      "source": [
        "r = X * beta - y\n",
        "r"
      ],
      "metadata": {
        "colab": {
          "base_uri": "https://localhost:8080/",
          "height": 119
        },
        "id": "QwAwbPg3nG5L",
        "outputId": "91238588-5ed0-4541-9ae2-4a481bedfc5b"
      },
      "execution_count": 89,
      "outputs": [
        {
          "output_type": "execute_result",
          "data": {
            "text/plain": [
              "⎡βₐ + β_b⋅x_b_1 + β_c⋅x_c_1 - y₁⎤\n",
              "⎢                               ⎥\n",
              "⎢βₐ + β_b⋅x_b_2 + β_c⋅x_c_2 - y₂⎥\n",
              "⎢                               ⎥\n",
              "⎢βₐ + β_b⋅x_b_3 + β_c⋅x_c_3 - y₃⎥\n",
              "⎢                               ⎥\n",
              "⎢βₐ + β_b⋅x_b_4 + β_c⋅x_c_4 - y₄⎥\n",
              "⎢                               ⎥\n",
              "⎣βₐ + β_b⋅x_b_5 + β_c⋅x_c_5 - y₅⎦"
            ],
            "text/latex": "$\\displaystyle \\left[\\begin{matrix}\\beta_{a} + \\beta_{b} x_{b 1} + \\beta_{c} x_{c 1} - y_{1}\\\\\\beta_{a} + \\beta_{b} x_{b 2} + \\beta_{c} x_{c 2} - y_{2}\\\\\\beta_{a} + \\beta_{b} x_{b 3} + \\beta_{c} x_{c 3} - y_{3}\\\\\\beta_{a} + \\beta_{b} x_{b 4} + \\beta_{c} x_{c 4} - y_{4}\\\\\\beta_{a} + \\beta_{b} x_{b 5} + \\beta_{c} x_{c 5} - y_{5}\\end{matrix}\\right]$"
          },
          "metadata": {},
          "execution_count": 89
        }
      ]
    },
    {
      "cell_type": "code",
      "source": [
        "r.T * r"
      ],
      "metadata": {
        "colab": {
          "base_uri": "https://localhost:8080/",
          "height": 39
        },
        "id": "-0gbQvq5nNkz",
        "outputId": "5ac7619a-a3ed-4c48-b6ff-099e92d091f1"
      },
      "execution_count": 90,
      "outputs": [
        {
          "output_type": "execute_result",
          "data": {
            "text/plain": [
              "⎡                                 2                                    2      \n",
              "⎣(βₐ + β_b⋅x_b_1 + β_c⋅x_c_1 - y₁)  + (βₐ + β_b⋅x_b_2 + β_c⋅x_c_2 - y₂)  + (βₐ\n",
              "\n",
              "                              2                                    2          \n",
              " + β_b⋅x_b_3 + β_c⋅x_c_3 - y₃)  + (βₐ + β_b⋅x_b_4 + β_c⋅x_c_4 - y₄)  + (βₐ + β\n",
              "\n",
              "                          2⎤\n",
              "_b⋅x_b_5 + β_c⋅x_c_5 - y₅) ⎦"
            ],
            "text/latex": "$\\displaystyle \\left[\\begin{matrix}\\left(\\beta_{a} + \\beta_{b} x_{b 1} + \\beta_{c} x_{c 1} - y_{1}\\right)^{2} + \\left(\\beta_{a} + \\beta_{b} x_{b 2} + \\beta_{c} x_{c 2} - y_{2}\\right)^{2} + \\left(\\beta_{a} + \\beta_{b} x_{b 3} + \\beta_{c} x_{c 3} - y_{3}\\right)^{2} + \\left(\\beta_{a} + \\beta_{b} x_{b 4} + \\beta_{c} x_{c 4} - y_{4}\\right)^{2} + \\left(\\beta_{a} + \\beta_{b} x_{b 5} + \\beta_{c} x_{c 5} - y_{5}\\right)^{2}\\end{matrix}\\right]$"
          },
          "metadata": {},
          "execution_count": 90
        }
      ]
    },
    {
      "cell_type": "code",
      "source": [
        "diff(r.T, beta)"
      ],
      "metadata": {
        "colab": {
          "base_uri": "https://localhost:8080/",
          "height": 78
        },
        "id": "DtpvdXGlnXqH",
        "outputId": "90591d11-8ea4-4cff-e9c5-2eb255ddbe5c"
      },
      "execution_count": 91,
      "outputs": [
        {
          "output_type": "execute_result",
          "data": {
            "text/plain": [
              "⎡          [[1  1  1  1  1]]          ⎤\n",
              "⎢                                     ⎥\n",
              "⎢[[x_b_1  x_b_2  x_b_3  x_b_4  x_b_5]]⎥\n",
              "⎢                                     ⎥\n",
              "⎣[[x_c_1  x_c_2  x_c_3  x_c_4  x_c_5]]⎦"
            ],
            "text/latex": "$\\displaystyle \\left[\\begin{matrix}\\left[\\left[\\begin{matrix}1 & 1 & 1 & 1 & 1\\end{matrix}\\right]\\right]\\\\\\left[\\left[\\begin{matrix}x_{b 1} & x_{b 2} & x_{b 3} & x_{b 4} & x_{b 5}\\end{matrix}\\right]\\right]\\\\\\left[\\left[\\begin{matrix}x_{c 1} & x_{c 2} & x_{c 3} & x_{c 4} & x_{c 5}\\end{matrix}\\right]\\right]\\end{matrix}\\right]$"
          },
          "metadata": {},
          "execution_count": 91
        }
      ]
    },
    {
      "cell_type": "code",
      "source": [
        "X.T"
      ],
      "metadata": {
        "colab": {
          "base_uri": "https://localhost:8080/",
          "height": 78
        },
        "id": "X-MT4-89ofRM",
        "outputId": "8429d16a-a821-4753-ebad-04d2f6c3cc09"
      },
      "execution_count": 92,
      "outputs": [
        {
          "output_type": "execute_result",
          "data": {
            "text/plain": [
              "⎡  1      1      1      1      1  ⎤\n",
              "⎢                                 ⎥\n",
              "⎢x_b_1  x_b_2  x_b_3  x_b_4  x_b_5⎥\n",
              "⎢                                 ⎥\n",
              "⎣x_c_1  x_c_2  x_c_3  x_c_4  x_c_5⎦"
            ],
            "text/latex": "$\\displaystyle \\left[\\begin{matrix}1 & 1 & 1 & 1 & 1\\\\x_{b 1} & x_{b 2} & x_{b 3} & x_{b 4} & x_{b 5}\\\\x_{c 1} & x_{c 2} & x_{c 3} & x_{c 4} & x_{c 5}\\end{matrix}\\right]$"
          },
          "metadata": {},
          "execution_count": 92
        }
      ]
    },
    {
      "cell_type": "code",
      "source": [
        "X.T * r"
      ],
      "metadata": {
        "colab": {
          "base_uri": "https://localhost:8080/",
          "height": 78
        },
        "id": "gAS4VXYDojv8",
        "outputId": "1beeb97c-3e22-4c64-db27-b09cb1f88cf2"
      },
      "execution_count": 93,
      "outputs": [
        {
          "output_type": "execute_result",
          "data": {
            "text/plain": [
              "⎡                             5⋅βₐ + β_b⋅x_b_1 + β_b⋅x_b_2 + β_b⋅x_b_3 + β_b⋅x\n",
              "⎢                                                                             \n",
              "⎢x_b_1⋅(βₐ + β_b⋅x_b_1 + β_c⋅x_c_1 - y₁) + x_b_2⋅(βₐ + β_b⋅x_b_2 + β_c⋅x_c_2 -\n",
              "⎢                                                                             \n",
              "⎣x_c_1⋅(βₐ + β_b⋅x_b_1 + β_c⋅x_c_1 - y₁) + x_c_2⋅(βₐ + β_b⋅x_b_2 + β_c⋅x_c_2 -\n",
              "\n",
              "_b_4 + β_b⋅x_b_5 + β_c⋅x_c_1 + β_c⋅x_c_2 + β_c⋅x_c_3 + β_c⋅x_c_4 + β_c⋅x_c_5 -\n",
              "                                                                              \n",
              " y₂) + x_b_3⋅(βₐ + β_b⋅x_b_3 + β_c⋅x_c_3 - y₃) + x_b_4⋅(βₐ + β_b⋅x_b_4 + β_c⋅x\n",
              "                                                                              \n",
              " y₂) + x_c_3⋅(βₐ + β_b⋅x_b_3 + β_c⋅x_c_3 - y₃) + x_c_4⋅(βₐ + β_b⋅x_b_4 + β_c⋅x\n",
              "\n",
              " y₁ - y₂ - y₃ - y₄ - y₅                             ⎤\n",
              "                                                    ⎥\n",
              "_c_4 - y₄) + x_b_5⋅(βₐ + β_b⋅x_b_5 + β_c⋅x_c_5 - y₅)⎥\n",
              "                                                    ⎥\n",
              "_c_4 - y₄) + x_c_5⋅(βₐ + β_b⋅x_b_5 + β_c⋅x_c_5 - y₅)⎦"
            ],
            "text/latex": "$\\displaystyle \\left[\\begin{matrix}5 \\beta_{a} + \\beta_{b} x_{b 1} + \\beta_{b} x_{b 2} + \\beta_{b} x_{b 3} + \\beta_{b} x_{b 4} + \\beta_{b} x_{b 5} + \\beta_{c} x_{c 1} + \\beta_{c} x_{c 2} + \\beta_{c} x_{c 3} + \\beta_{c} x_{c 4} + \\beta_{c} x_{c 5} - y_{1} - y_{2} - y_{3} - y_{4} - y_{5}\\\\x_{b 1} \\left(\\beta_{a} + \\beta_{b} x_{b 1} + \\beta_{c} x_{c 1} - y_{1}\\right) + x_{b 2} \\left(\\beta_{a} + \\beta_{b} x_{b 2} + \\beta_{c} x_{c 2} - y_{2}\\right) + x_{b 3} \\left(\\beta_{a} + \\beta_{b} x_{b 3} + \\beta_{c} x_{c 3} - y_{3}\\right) + x_{b 4} \\left(\\beta_{a} + \\beta_{b} x_{b 4} + \\beta_{c} x_{c 4} - y_{4}\\right) + x_{b 5} \\left(\\beta_{a} + \\beta_{b} x_{b 5} + \\beta_{c} x_{c 5} - y_{5}\\right)\\\\x_{c 1} \\left(\\beta_{a} + \\beta_{b} x_{b 1} + \\beta_{c} x_{c 1} - y_{1}\\right) + x_{c 2} \\left(\\beta_{a} + \\beta_{b} x_{b 2} + \\beta_{c} x_{c 2} - y_{2}\\right) + x_{c 3} \\left(\\beta_{a} + \\beta_{b} x_{b 3} + \\beta_{c} x_{c 3} - y_{3}\\right) + x_{c 4} \\left(\\beta_{a} + \\beta_{b} x_{b 4} + \\beta_{c} x_{c 4} - y_{4}\\right) + x_{c 5} \\left(\\beta_{a} + \\beta_{b} x_{b 5} + \\beta_{c} x_{c 5} - y_{5}\\right)\\end{matrix}\\right]$"
          },
          "metadata": {},
          "execution_count": 93
        }
      ]
    },
    {
      "cell_type": "code",
      "source": [
        "(r.T * X).T"
      ],
      "metadata": {
        "colab": {
          "base_uri": "https://localhost:8080/",
          "height": 78
        },
        "id": "SkyDkAYE7Vo-",
        "outputId": "ea2b1864-be41-4d67-efbe-ef1e9944d0ce"
      },
      "execution_count": 110,
      "outputs": [
        {
          "output_type": "execute_result",
          "data": {
            "text/plain": [
              "⎡                             5⋅βₐ + β_b⋅x_b_1 + β_b⋅x_b_2 + β_b⋅x_b_3 + β_b⋅x\n",
              "⎢                                                                             \n",
              "⎢x_b_1⋅(βₐ + β_b⋅x_b_1 + β_c⋅x_c_1 - y₁) + x_b_2⋅(βₐ + β_b⋅x_b_2 + β_c⋅x_c_2 -\n",
              "⎢                                                                             \n",
              "⎣x_c_1⋅(βₐ + β_b⋅x_b_1 + β_c⋅x_c_1 - y₁) + x_c_2⋅(βₐ + β_b⋅x_b_2 + β_c⋅x_c_2 -\n",
              "\n",
              "_b_4 + β_b⋅x_b_5 + β_c⋅x_c_1 + β_c⋅x_c_2 + β_c⋅x_c_3 + β_c⋅x_c_4 + β_c⋅x_c_5 -\n",
              "                                                                              \n",
              " y₂) + x_b_3⋅(βₐ + β_b⋅x_b_3 + β_c⋅x_c_3 - y₃) + x_b_4⋅(βₐ + β_b⋅x_b_4 + β_c⋅x\n",
              "                                                                              \n",
              " y₂) + x_c_3⋅(βₐ + β_b⋅x_b_3 + β_c⋅x_c_3 - y₃) + x_c_4⋅(βₐ + β_b⋅x_b_4 + β_c⋅x\n",
              "\n",
              " y₁ - y₂ - y₃ - y₄ - y₅                             ⎤\n",
              "                                                    ⎥\n",
              "_c_4 - y₄) + x_b_5⋅(βₐ + β_b⋅x_b_5 + β_c⋅x_c_5 - y₅)⎥\n",
              "                                                    ⎥\n",
              "_c_4 - y₄) + x_c_5⋅(βₐ + β_b⋅x_b_5 + β_c⋅x_c_5 - y₅)⎦"
            ],
            "text/latex": "$\\displaystyle \\left[\\begin{matrix}5 \\beta_{a} + \\beta_{b} x_{b 1} + \\beta_{b} x_{b 2} + \\beta_{b} x_{b 3} + \\beta_{b} x_{b 4} + \\beta_{b} x_{b 5} + \\beta_{c} x_{c 1} + \\beta_{c} x_{c 2} + \\beta_{c} x_{c 3} + \\beta_{c} x_{c 4} + \\beta_{c} x_{c 5} - y_{1} - y_{2} - y_{3} - y_{4} - y_{5}\\\\x_{b 1} \\left(\\beta_{a} + \\beta_{b} x_{b 1} + \\beta_{c} x_{c 1} - y_{1}\\right) + x_{b 2} \\left(\\beta_{a} + \\beta_{b} x_{b 2} + \\beta_{c} x_{c 2} - y_{2}\\right) + x_{b 3} \\left(\\beta_{a} + \\beta_{b} x_{b 3} + \\beta_{c} x_{c 3} - y_{3}\\right) + x_{b 4} \\left(\\beta_{a} + \\beta_{b} x_{b 4} + \\beta_{c} x_{c 4} - y_{4}\\right) + x_{b 5} \\left(\\beta_{a} + \\beta_{b} x_{b 5} + \\beta_{c} x_{c 5} - y_{5}\\right)\\\\x_{c 1} \\left(\\beta_{a} + \\beta_{b} x_{b 1} + \\beta_{c} x_{c 1} - y_{1}\\right) + x_{c 2} \\left(\\beta_{a} + \\beta_{b} x_{b 2} + \\beta_{c} x_{c 2} - y_{2}\\right) + x_{c 3} \\left(\\beta_{a} + \\beta_{b} x_{b 3} + \\beta_{c} x_{c 3} - y_{3}\\right) + x_{c 4} \\left(\\beta_{a} + \\beta_{b} x_{b 4} + \\beta_{c} x_{c 4} - y_{4}\\right) + x_{c 5} \\left(\\beta_{a} + \\beta_{b} x_{b 5} + \\beta_{c} x_{c 5} - y_{5}\\right)\\end{matrix}\\right]$"
          },
          "metadata": {},
          "execution_count": 110
        }
      ]
    },
    {
      "cell_type": "code",
      "source": [
        "X.T * (X * beta - y)"
      ],
      "metadata": {
        "colab": {
          "base_uri": "https://localhost:8080/",
          "height": 78
        },
        "id": "gt1Idybromg2",
        "outputId": "33d80a4d-5543-49d1-aa0b-f5c60b47a27b"
      },
      "execution_count": 94,
      "outputs": [
        {
          "output_type": "execute_result",
          "data": {
            "text/plain": [
              "⎡                             5⋅βₐ + β_b⋅x_b_1 + β_b⋅x_b_2 + β_b⋅x_b_3 + β_b⋅x\n",
              "⎢                                                                             \n",
              "⎢x_b_1⋅(βₐ + β_b⋅x_b_1 + β_c⋅x_c_1 - y₁) + x_b_2⋅(βₐ + β_b⋅x_b_2 + β_c⋅x_c_2 -\n",
              "⎢                                                                             \n",
              "⎣x_c_1⋅(βₐ + β_b⋅x_b_1 + β_c⋅x_c_1 - y₁) + x_c_2⋅(βₐ + β_b⋅x_b_2 + β_c⋅x_c_2 -\n",
              "\n",
              "_b_4 + β_b⋅x_b_5 + β_c⋅x_c_1 + β_c⋅x_c_2 + β_c⋅x_c_3 + β_c⋅x_c_4 + β_c⋅x_c_5 -\n",
              "                                                                              \n",
              " y₂) + x_b_3⋅(βₐ + β_b⋅x_b_3 + β_c⋅x_c_3 - y₃) + x_b_4⋅(βₐ + β_b⋅x_b_4 + β_c⋅x\n",
              "                                                                              \n",
              " y₂) + x_c_3⋅(βₐ + β_b⋅x_b_3 + β_c⋅x_c_3 - y₃) + x_c_4⋅(βₐ + β_b⋅x_b_4 + β_c⋅x\n",
              "\n",
              " y₁ - y₂ - y₃ - y₄ - y₅                             ⎤\n",
              "                                                    ⎥\n",
              "_c_4 - y₄) + x_b_5⋅(βₐ + β_b⋅x_b_5 + β_c⋅x_c_5 - y₅)⎥\n",
              "                                                    ⎥\n",
              "_c_4 - y₄) + x_c_5⋅(βₐ + β_b⋅x_b_5 + β_c⋅x_c_5 - y₅)⎦"
            ],
            "text/latex": "$\\displaystyle \\left[\\begin{matrix}5 \\beta_{a} + \\beta_{b} x_{b 1} + \\beta_{b} x_{b 2} + \\beta_{b} x_{b 3} + \\beta_{b} x_{b 4} + \\beta_{b} x_{b 5} + \\beta_{c} x_{c 1} + \\beta_{c} x_{c 2} + \\beta_{c} x_{c 3} + \\beta_{c} x_{c 4} + \\beta_{c} x_{c 5} - y_{1} - y_{2} - y_{3} - y_{4} - y_{5}\\\\x_{b 1} \\left(\\beta_{a} + \\beta_{b} x_{b 1} + \\beta_{c} x_{c 1} - y_{1}\\right) + x_{b 2} \\left(\\beta_{a} + \\beta_{b} x_{b 2} + \\beta_{c} x_{c 2} - y_{2}\\right) + x_{b 3} \\left(\\beta_{a} + \\beta_{b} x_{b 3} + \\beta_{c} x_{c 3} - y_{3}\\right) + x_{b 4} \\left(\\beta_{a} + \\beta_{b} x_{b 4} + \\beta_{c} x_{c 4} - y_{4}\\right) + x_{b 5} \\left(\\beta_{a} + \\beta_{b} x_{b 5} + \\beta_{c} x_{c 5} - y_{5}\\right)\\\\x_{c 1} \\left(\\beta_{a} + \\beta_{b} x_{b 1} + \\beta_{c} x_{c 1} - y_{1}\\right) + x_{c 2} \\left(\\beta_{a} + \\beta_{b} x_{b 2} + \\beta_{c} x_{c 2} - y_{2}\\right) + x_{c 3} \\left(\\beta_{a} + \\beta_{b} x_{b 3} + \\beta_{c} x_{c 3} - y_{3}\\right) + x_{c 4} \\left(\\beta_{a} + \\beta_{b} x_{b 4} + \\beta_{c} x_{c 4} - y_{4}\\right) + x_{c 5} \\left(\\beta_{a} + \\beta_{b} x_{b 5} + \\beta_{c} x_{c 5} - y_{5}\\right)\\end{matrix}\\right]$"
          },
          "metadata": {},
          "execution_count": 94
        }
      ]
    },
    {
      "cell_type": "code",
      "source": [
        "X.T * X * beta - X.T * y"
      ],
      "metadata": {
        "colab": {
          "base_uri": "https://localhost:8080/",
          "height": 78
        },
        "id": "NZzrlC5wpEia",
        "outputId": "aacd930b-67c8-4ae0-e7b5-1397ce00f669"
      },
      "execution_count": 95,
      "outputs": [
        {
          "output_type": "execute_result",
          "data": {
            "text/plain": [
              "⎡                                                   5⋅βₐ + β_b⋅(x_b_1 + x_b_2 \n",
              "⎢                                                                             \n",
              "⎢                                                 ⎛     2        2        2   \n",
              "⎢βₐ⋅(x_b_1 + x_b_2 + x_b_3 + x_b_4 + x_b_5) + β_b⋅⎝x_b_1  + x_b_2  + x_b_3  + \n",
              "⎢                                                                             \n",
              "⎢                                                                             \n",
              "⎣βₐ⋅(x_c_1 + x_c_2 + x_c_3 + x_c_4 + x_c_5) + β_b⋅(x_b_1⋅x_c_1 + x_b_2⋅x_c_2 +\n",
              "\n",
              "+ x_b_3 + x_b_4 + x_b_5) + β_c⋅(x_c_1 + x_c_2 + x_c_3 + x_c_4 + x_c_5) - y₁ - \n",
              "                                                                              \n",
              "     2        2⎞                                                              \n",
              "x_b_4  + x_b_5 ⎠ + β_c⋅(x_b_1⋅x_c_1 + x_b_2⋅x_c_2 + x_b_3⋅x_c_3 + x_b_4⋅x_c_4 \n",
              "                                                                              \n",
              "                                                ⎛     2        2        2     \n",
              " x_b_3⋅x_c_3 + x_b_4⋅x_c_4 + x_b_5⋅x_c_5) + β_c⋅⎝x_c_1  + x_c_2  + x_c_3  + x_\n",
              "\n",
              "y₂ - y₃ - y₄ - y₅                                                    ⎤\n",
              "                                                                     ⎥\n",
              "                                                                     ⎥\n",
              "+ x_b_5⋅x_c_5) - x_b_1⋅y₁ - x_b_2⋅y₂ - x_b_3⋅y₃ - x_b_4⋅y₄ - x_b_5⋅y₅⎥\n",
              "                                                                     ⎥\n",
              "   2        2⎞                                                       ⎥\n",
              "c_4  + x_c_5 ⎠ - x_c_1⋅y₁ - x_c_2⋅y₂ - x_c_3⋅y₃ - x_c_4⋅y₄ - x_c_5⋅y₅⎦"
            ],
            "text/latex": "$\\displaystyle \\left[\\begin{matrix}5 \\beta_{a} + \\beta_{b} \\left(x_{b 1} + x_{b 2} + x_{b 3} + x_{b 4} + x_{b 5}\\right) + \\beta_{c} \\left(x_{c 1} + x_{c 2} + x_{c 3} + x_{c 4} + x_{c 5}\\right) - y_{1} - y_{2} - y_{3} - y_{4} - y_{5}\\\\\\beta_{a} \\left(x_{b 1} + x_{b 2} + x_{b 3} + x_{b 4} + x_{b 5}\\right) + \\beta_{b} \\left(x_{b 1}^{2} + x_{b 2}^{2} + x_{b 3}^{2} + x_{b 4}^{2} + x_{b 5}^{2}\\right) + \\beta_{c} \\left(x_{b 1} x_{c 1} + x_{b 2} x_{c 2} + x_{b 3} x_{c 3} + x_{b 4} x_{c 4} + x_{b 5} x_{c 5}\\right) - x_{b 1} y_{1} - x_{b 2} y_{2} - x_{b 3} y_{3} - x_{b 4} y_{4} - x_{b 5} y_{5}\\\\\\beta_{a} \\left(x_{c 1} + x_{c 2} + x_{c 3} + x_{c 4} + x_{c 5}\\right) + \\beta_{b} \\left(x_{b 1} x_{c 1} + x_{b 2} x_{c 2} + x_{b 3} x_{c 3} + x_{b 4} x_{c 4} + x_{b 5} x_{c 5}\\right) + \\beta_{c} \\left(x_{c 1}^{2} + x_{c 2}^{2} + x_{c 3}^{2} + x_{c 4}^{2} + x_{c 5}^{2}\\right) - x_{c 1} y_{1} - x_{c 2} y_{2} - x_{c 3} y_{3} - x_{c 4} y_{4} - x_{c 5} y_{5}\\end{matrix}\\right]$"
          },
          "metadata": {},
          "execution_count": 95
        }
      ]
    },
    {
      "cell_type": "markdown",
      "source": [
        "## X.T * X * beta = X.T * y\n",
        "## beta = (X.T * X).inv() * X.T * y\n",
        "## X.pinv()*y"
      ],
      "metadata": {
        "id": "NKmKpl7MqOn3"
      }
    },
    {
      "cell_type": "code",
      "source": [
        "X.T * X * beta"
      ],
      "metadata": {
        "colab": {
          "base_uri": "https://localhost:8080/",
          "height": 78
        },
        "id": "wOeFG2Y0tcH_",
        "outputId": "3a5cc42c-b224-43c0-db85-c330cd18307c"
      },
      "execution_count": 83,
      "outputs": [
        {
          "output_type": "execute_result",
          "data": {
            "text/plain": [
              "⎡              2⋅βₐ + β_b⋅(x_b_1 + x_b_2) + β_c⋅(x_c_1 + x_c_2)              ⎤\n",
              "⎢                                                                            ⎥\n",
              "⎢                         ⎛     2        2⎞                                  ⎥\n",
              "⎢βₐ⋅(x_b_1 + x_b_2) + β_b⋅⎝x_b_1  + x_b_2 ⎠ + β_c⋅(x_b_1⋅x_c_1 + x_b_2⋅x_c_2)⎥\n",
              "⎢                                                                            ⎥\n",
              "⎢                                                           ⎛     2        2⎞⎥\n",
              "⎣βₐ⋅(x_c_1 + x_c_2) + β_b⋅(x_b_1⋅x_c_1 + x_b_2⋅x_c_2) + β_c⋅⎝x_c_1  + x_c_2 ⎠⎦"
            ],
            "text/latex": "$\\displaystyle \\left[\\begin{matrix}2 \\beta_{a} + \\beta_{b} \\left(x_{b 1} + x_{b 2}\\right) + \\beta_{c} \\left(x_{c 1} + x_{c 2}\\right)\\\\\\beta_{a} \\left(x_{b 1} + x_{b 2}\\right) + \\beta_{b} \\left(x_{b 1}^{2} + x_{b 2}^{2}\\right) + \\beta_{c} \\left(x_{b 1} x_{c 1} + x_{b 2} x_{c 2}\\right)\\\\\\beta_{a} \\left(x_{c 1} + x_{c 2}\\right) + \\beta_{b} \\left(x_{b 1} x_{c 1} + x_{b 2} x_{c 2}\\right) + \\beta_{c} \\left(x_{c 1}^{2} + x_{c 2}^{2}\\right)\\end{matrix}\\right]$"
          },
          "metadata": {},
          "execution_count": 83
        }
      ]
    },
    {
      "cell_type": "code",
      "source": [
        "X.T * y"
      ],
      "metadata": {
        "colab": {
          "base_uri": "https://localhost:8080/",
          "height": 78
        },
        "id": "3rtZVPQqwOId",
        "outputId": "10cce9b2-5f23-4605-b95f-422e649500d6"
      },
      "execution_count": 84,
      "outputs": [
        {
          "output_type": "execute_result",
          "data": {
            "text/plain": [
              "⎡      y₁ + y₂      ⎤\n",
              "⎢                   ⎥\n",
              "⎢x_b_1⋅y₁ + x_b_2⋅y₂⎥\n",
              "⎢                   ⎥\n",
              "⎣x_c_1⋅y₁ + x_c_2⋅y₂⎦"
            ],
            "text/latex": "$\\displaystyle \\left[\\begin{matrix}y_{1} + y_{2}\\\\x_{b 1} y_{1} + x_{b 2} y_{2}\\\\x_{c 1} y_{1} + x_{c 2} y_{2}\\end{matrix}\\right]$"
          },
          "metadata": {},
          "execution_count": 84
        }
      ]
    },
    {
      "cell_type": "code",
      "source": [
        "X.T * X"
      ],
      "metadata": {
        "colab": {
          "base_uri": "https://localhost:8080/",
          "height": 78
        },
        "id": "n4xHDHhmwYxk",
        "outputId": "67079c08-5586-4dee-bd0a-28fbfd1da3bc"
      },
      "execution_count": 96,
      "outputs": [
        {
          "output_type": "execute_result",
          "data": {
            "text/plain": [
              "⎡                  5                                   x_b_1 + x_b_2 + x_b_3 +\n",
              "⎢                                                                             \n",
              "⎢                                                        2        2        2  \n",
              "⎢x_b_1 + x_b_2 + x_b_3 + x_b_4 + x_b_5              x_b_1  + x_b_2  + x_b_3  +\n",
              "⎢                                                                             \n",
              "⎢                                                                             \n",
              "⎣x_c_1 + x_c_2 + x_c_3 + x_c_4 + x_c_5  x_b_1⋅x_c_1 + x_b_2⋅x_c_2 + x_b_3⋅x_c_\n",
              "\n",
              " x_b_4 + x_b_5                                x_c_1 + x_c_2 + x_c_3 + x_c_4 + \n",
              "                                                                              \n",
              "      2        2                                                              \n",
              " x_b_4  + x_b_5                x_b_1⋅x_c_1 + x_b_2⋅x_c_2 + x_b_3⋅x_c_3 + x_b_4\n",
              "                                                                              \n",
              "                                                2        2        2        2  \n",
              "3 + x_b_4⋅x_c_4 + x_b_5⋅x_c_5              x_c_1  + x_c_2  + x_c_3  + x_c_4  +\n",
              "\n",
              "x_c_5               ⎤\n",
              "                    ⎥\n",
              "                    ⎥\n",
              "⋅x_c_4 + x_b_5⋅x_c_5⎥\n",
              "                    ⎥\n",
              "      2             ⎥\n",
              " x_c_5              ⎦"
            ],
            "text/latex": "$\\displaystyle \\left[\\begin{matrix}5 & x_{b 1} + x_{b 2} + x_{b 3} + x_{b 4} + x_{b 5} & x_{c 1} + x_{c 2} + x_{c 3} + x_{c 4} + x_{c 5}\\\\x_{b 1} + x_{b 2} + x_{b 3} + x_{b 4} + x_{b 5} & x_{b 1}^{2} + x_{b 2}^{2} + x_{b 3}^{2} + x_{b 4}^{2} + x_{b 5}^{2} & x_{b 1} x_{c 1} + x_{b 2} x_{c 2} + x_{b 3} x_{c 3} + x_{b 4} x_{c 4} + x_{b 5} x_{c 5}\\\\x_{c 1} + x_{c 2} + x_{c 3} + x_{c 4} + x_{c 5} & x_{b 1} x_{c 1} + x_{b 2} x_{c 2} + x_{b 3} x_{c 3} + x_{b 4} x_{c 4} + x_{b 5} x_{c 5} & x_{c 1}^{2} + x_{c 2}^{2} + x_{c 3}^{2} + x_{c 4}^{2} + x_{c 5}^{2}\\end{matrix}\\right]$"
          },
          "metadata": {},
          "execution_count": 96
        }
      ]
    },
    {
      "cell_type": "code",
      "source": [
        "XTX = Matrix([symbols('XTX1:{}'.format(10))]).reshape(3,3)\n",
        "XTX"
      ],
      "metadata": {
        "colab": {
          "base_uri": "https://localhost:8080/",
          "height": 78
        },
        "id": "WGw63xb0xPy9",
        "outputId": "7c9eb95a-3068-40f3-e915-94bbc606de5c"
      },
      "execution_count": 103,
      "outputs": [
        {
          "output_type": "execute_result",
          "data": {
            "text/plain": [
              "⎡XTX₁  XTX₂  XTX₃⎤\n",
              "⎢                ⎥\n",
              "⎢XTX₄  XTX₅  XTX₆⎥\n",
              "⎢                ⎥\n",
              "⎣XTX₇  XTX₈  XTX₉⎦"
            ],
            "text/latex": "$\\displaystyle \\left[\\begin{matrix}XTX_{1} & XTX_{2} & XTX_{3}\\\\XTX_{4} & XTX_{5} & XTX_{6}\\\\XTX_{7} & XTX_{8} & XTX_{9}\\end{matrix}\\right]$"
          },
          "metadata": {},
          "execution_count": 103
        }
      ]
    },
    {
      "cell_type": "code",
      "source": [
        "together(XTX.inv())"
      ],
      "metadata": {
        "colab": {
          "base_uri": "https://localhost:8080/",
          "height": 108
        },
        "id": "fZgv-EXgyJ-h",
        "outputId": "f59780ee-ee48-49e1-c7e5-7ab00d748642"
      },
      "execution_count": 104,
      "outputs": [
        {
          "output_type": "execute_result",
          "data": {
            "text/plain": [
              "⎡                                       XTX₅⋅XTX₉ - XTX₆⋅XTX₈                 \n",
              "⎢─────────────────────────────────────────────────────────────────────────────\n",
              "⎢XTX₁⋅XTX₅⋅XTX₉ - XTX₁⋅XTX₆⋅XTX₈ - XTX₂⋅XTX₄⋅XTX₉ + XTX₂⋅XTX₆⋅XTX₇ + XTX₃⋅XTX₄\n",
              "⎢                                                                             \n",
              "⎢                                       -XTX₄⋅XTX₉ + XTX₆⋅XTX₇                \n",
              "⎢─────────────────────────────────────────────────────────────────────────────\n",
              "⎢XTX₁⋅XTX₅⋅XTX₉ - XTX₁⋅XTX₆⋅XTX₈ - XTX₂⋅XTX₄⋅XTX₉ + XTX₂⋅XTX₆⋅XTX₇ + XTX₃⋅XTX₄\n",
              "⎢                                                                             \n",
              "⎢                                       XTX₄⋅XTX₈ - XTX₅⋅XTX₇                 \n",
              "⎢─────────────────────────────────────────────────────────────────────────────\n",
              "⎣XTX₁⋅XTX₅⋅XTX₉ - XTX₁⋅XTX₆⋅XTX₈ - XTX₂⋅XTX₄⋅XTX₉ + XTX₂⋅XTX₆⋅XTX₇ + XTX₃⋅XTX₄\n",
              "\n",
              "                                                               -XTX₂⋅XTX₉ + XT\n",
              "──────────────────────  ──────────────────────────────────────────────────────\n",
              "⋅XTX₈ - XTX₃⋅XTX₅⋅XTX₇  XTX₁⋅XTX₅⋅XTX₉ - XTX₁⋅XTX₆⋅XTX₈ - XTX₂⋅XTX₄⋅XTX₉ + XTX\n",
              "                                                                              \n",
              "                                                               XTX₁⋅XTX₉ - XTX\n",
              "──────────────────────  ──────────────────────────────────────────────────────\n",
              "⋅XTX₈ - XTX₃⋅XTX₅⋅XTX₇  XTX₁⋅XTX₅⋅XTX₉ - XTX₁⋅XTX₆⋅XTX₈ - XTX₂⋅XTX₄⋅XTX₉ + XTX\n",
              "                                                                              \n",
              "                                                               -XTX₁⋅XTX₈ + XT\n",
              "──────────────────────  ──────────────────────────────────────────────────────\n",
              "⋅XTX₈ - XTX₃⋅XTX₅⋅XTX₇  XTX₁⋅XTX₅⋅XTX₉ - XTX₁⋅XTX₆⋅XTX₈ - XTX₂⋅XTX₄⋅XTX₉ + XTX\n",
              "\n",
              "X₃⋅XTX₈                                                                       \n",
              "─────────────────────────────────────────────  ───────────────────────────────\n",
              "₂⋅XTX₆⋅XTX₇ + XTX₃⋅XTX₄⋅XTX₈ - XTX₃⋅XTX₅⋅XTX₇  XTX₁⋅XTX₅⋅XTX₉ - XTX₁⋅XTX₆⋅XTX₈\n",
              "                                                                              \n",
              "₃⋅XTX₇                                                                        \n",
              "─────────────────────────────────────────────  ───────────────────────────────\n",
              "₂⋅XTX₆⋅XTX₇ + XTX₃⋅XTX₄⋅XTX₈ - XTX₃⋅XTX₅⋅XTX₇  XTX₁⋅XTX₅⋅XTX₉ - XTX₁⋅XTX₆⋅XTX₈\n",
              "                                                                              \n",
              "X₂⋅XTX₇                                                                       \n",
              "─────────────────────────────────────────────  ───────────────────────────────\n",
              "₂⋅XTX₆⋅XTX₇ + XTX₃⋅XTX₄⋅XTX₈ - XTX₃⋅XTX₅⋅XTX₇  XTX₁⋅XTX₅⋅XTX₉ - XTX₁⋅XTX₆⋅XTX₈\n",
              "\n",
              "        XTX₂⋅XTX₆ - XTX₃⋅XTX₅                                       ⎤\n",
              "────────────────────────────────────────────────────────────────────⎥\n",
              " - XTX₂⋅XTX₄⋅XTX₉ + XTX₂⋅XTX₆⋅XTX₇ + XTX₃⋅XTX₄⋅XTX₈ - XTX₃⋅XTX₅⋅XTX₇⎥\n",
              "                                                                    ⎥\n",
              "        -XTX₁⋅XTX₆ + XTX₃⋅XTX₄                                      ⎥\n",
              "────────────────────────────────────────────────────────────────────⎥\n",
              " - XTX₂⋅XTX₄⋅XTX₉ + XTX₂⋅XTX₆⋅XTX₇ + XTX₃⋅XTX₄⋅XTX₈ - XTX₃⋅XTX₅⋅XTX₇⎥\n",
              "                                                                    ⎥\n",
              "        XTX₁⋅XTX₅ - XTX₂⋅XTX₄                                       ⎥\n",
              "────────────────────────────────────────────────────────────────────⎥\n",
              " - XTX₂⋅XTX₄⋅XTX₉ + XTX₂⋅XTX₆⋅XTX₇ + XTX₃⋅XTX₄⋅XTX₈ - XTX₃⋅XTX₅⋅XTX₇⎦"
            ],
            "text/latex": "$\\displaystyle \\left[\\begin{matrix}\\frac{XTX_{5} XTX_{9} - XTX_{6} XTX_{8}}{XTX_{1} XTX_{5} XTX_{9} - XTX_{1} XTX_{6} XTX_{8} - XTX_{2} XTX_{4} XTX_{9} + XTX_{2} XTX_{6} XTX_{7} + XTX_{3} XTX_{4} XTX_{8} - XTX_{3} XTX_{5} XTX_{7}} & \\frac{- XTX_{2} XTX_{9} + XTX_{3} XTX_{8}}{XTX_{1} XTX_{5} XTX_{9} - XTX_{1} XTX_{6} XTX_{8} - XTX_{2} XTX_{4} XTX_{9} + XTX_{2} XTX_{6} XTX_{7} + XTX_{3} XTX_{4} XTX_{8} - XTX_{3} XTX_{5} XTX_{7}} & \\frac{XTX_{2} XTX_{6} - XTX_{3} XTX_{5}}{XTX_{1} XTX_{5} XTX_{9} - XTX_{1} XTX_{6} XTX_{8} - XTX_{2} XTX_{4} XTX_{9} + XTX_{2} XTX_{6} XTX_{7} + XTX_{3} XTX_{4} XTX_{8} - XTX_{3} XTX_{5} XTX_{7}}\\\\\\frac{- XTX_{4} XTX_{9} + XTX_{6} XTX_{7}}{XTX_{1} XTX_{5} XTX_{9} - XTX_{1} XTX_{6} XTX_{8} - XTX_{2} XTX_{4} XTX_{9} + XTX_{2} XTX_{6} XTX_{7} + XTX_{3} XTX_{4} XTX_{8} - XTX_{3} XTX_{5} XTX_{7}} & \\frac{XTX_{1} XTX_{9} - XTX_{3} XTX_{7}}{XTX_{1} XTX_{5} XTX_{9} - XTX_{1} XTX_{6} XTX_{8} - XTX_{2} XTX_{4} XTX_{9} + XTX_{2} XTX_{6} XTX_{7} + XTX_{3} XTX_{4} XTX_{8} - XTX_{3} XTX_{5} XTX_{7}} & \\frac{- XTX_{1} XTX_{6} + XTX_{3} XTX_{4}}{XTX_{1} XTX_{5} XTX_{9} - XTX_{1} XTX_{6} XTX_{8} - XTX_{2} XTX_{4} XTX_{9} + XTX_{2} XTX_{6} XTX_{7} + XTX_{3} XTX_{4} XTX_{8} - XTX_{3} XTX_{5} XTX_{7}}\\\\\\frac{XTX_{4} XTX_{8} - XTX_{5} XTX_{7}}{XTX_{1} XTX_{5} XTX_{9} - XTX_{1} XTX_{6} XTX_{8} - XTX_{2} XTX_{4} XTX_{9} + XTX_{2} XTX_{6} XTX_{7} + XTX_{3} XTX_{4} XTX_{8} - XTX_{3} XTX_{5} XTX_{7}} & \\frac{- XTX_{1} XTX_{8} + XTX_{2} XTX_{7}}{XTX_{1} XTX_{5} XTX_{9} - XTX_{1} XTX_{6} XTX_{8} - XTX_{2} XTX_{4} XTX_{9} + XTX_{2} XTX_{6} XTX_{7} + XTX_{3} XTX_{4} XTX_{8} - XTX_{3} XTX_{5} XTX_{7}} & \\frac{XTX_{1} XTX_{5} - XTX_{2} XTX_{4}}{XTX_{1} XTX_{5} XTX_{9} - XTX_{1} XTX_{6} XTX_{8} - XTX_{2} XTX_{4} XTX_{9} + XTX_{2} XTX_{6} XTX_{7} + XTX_{3} XTX_{4} XTX_{8} - XTX_{3} XTX_{5} XTX_{7}}\\end{matrix}\\right]$"
          },
          "metadata": {},
          "execution_count": 104
        }
      ]
    },
    {
      "cell_type": "code",
      "source": [
        "together(XTX.inv()*X.T)"
      ],
      "metadata": {
        "colab": {
          "base_uri": "https://localhost:8080/",
          "height": 111
        },
        "id": "dFLUDMO7yv-U",
        "outputId": "8b7d9dab-391b-45c6-f498-076cad70bdd3"
      },
      "execution_count": 105,
      "outputs": [
        {
          "output_type": "execute_result",
          "data": {
            "text/plain": [
              "⎡       XTX₅⋅XTX₉ - XTX₆⋅XTX₈ + x_b_1⋅(-XTX₂⋅XTX₉ + XTX₃⋅XTX₈) + x_c_1⋅(XTX₂⋅X\n",
              "⎢─────────────────────────────────────────────────────────────────────────────\n",
              "⎢XTX₁⋅XTX₅⋅XTX₉ - XTX₁⋅XTX₆⋅XTX₈ - XTX₂⋅XTX₄⋅XTX₉ + XTX₂⋅XTX₆⋅XTX₇ + XTX₃⋅XTX₄\n",
              "⎢                                                                             \n",
              "⎢      -XTX₄⋅XTX₉ + XTX₆⋅XTX₇ + x_b_1⋅(XTX₁⋅XTX₉ - XTX₃⋅XTX₇) + x_c_1⋅(-XTX₁⋅X\n",
              "⎢─────────────────────────────────────────────────────────────────────────────\n",
              "⎢XTX₁⋅XTX₅⋅XTX₉ - XTX₁⋅XTX₆⋅XTX₈ - XTX₂⋅XTX₄⋅XTX₉ + XTX₂⋅XTX₆⋅XTX₇ + XTX₃⋅XTX₄\n",
              "⎢                                                                             \n",
              "⎢       XTX₄⋅XTX₈ - XTX₅⋅XTX₇ + x_b_1⋅(-XTX₁⋅XTX₈ + XTX₂⋅XTX₇) + x_c_1⋅(XTX₁⋅X\n",
              "⎢─────────────────────────────────────────────────────────────────────────────\n",
              "⎣XTX₁⋅XTX₅⋅XTX₉ - XTX₁⋅XTX₆⋅XTX₈ - XTX₂⋅XTX₄⋅XTX₉ + XTX₂⋅XTX₆⋅XTX₇ + XTX₃⋅XTX₄\n",
              "\n",
              "TX₆ - XTX₃⋅XTX₅)               XTX₅⋅XTX₉ - XTX₆⋅XTX₈ + x_b_2⋅(-XTX₂⋅XTX₉ + XTX\n",
              "──────────────────────  ──────────────────────────────────────────────────────\n",
              "⋅XTX₈ - XTX₃⋅XTX₅⋅XTX₇  XTX₁⋅XTX₅⋅XTX₉ - XTX₁⋅XTX₆⋅XTX₈ - XTX₂⋅XTX₄⋅XTX₉ + XTX\n",
              "                                                                              \n",
              "TX₆ + XTX₃⋅XTX₄)              -XTX₄⋅XTX₉ + XTX₆⋅XTX₇ + x_b_2⋅(XTX₁⋅XTX₉ - XTX₃\n",
              "──────────────────────  ──────────────────────────────────────────────────────\n",
              "⋅XTX₈ - XTX₃⋅XTX₅⋅XTX₇  XTX₁⋅XTX₅⋅XTX₉ - XTX₁⋅XTX₆⋅XTX₈ - XTX₂⋅XTX₄⋅XTX₉ + XTX\n",
              "                                                                              \n",
              "TX₅ - XTX₂⋅XTX₄)               XTX₄⋅XTX₈ - XTX₅⋅XTX₇ + x_b_2⋅(-XTX₁⋅XTX₈ + XTX\n",
              "──────────────────────  ──────────────────────────────────────────────────────\n",
              "⋅XTX₈ - XTX₃⋅XTX₅⋅XTX₇  XTX₁⋅XTX₅⋅XTX₉ - XTX₁⋅XTX₆⋅XTX₈ - XTX₂⋅XTX₄⋅XTX₉ + XTX\n",
              "\n",
              "₃⋅XTX₈) + x_c_2⋅(XTX₂⋅XTX₆ - XTX₃⋅XTX₅)               XTX₅⋅XTX₉ - XTX₆⋅XTX₈ + \n",
              "─────────────────────────────────────────────  ───────────────────────────────\n",
              "₂⋅XTX₆⋅XTX₇ + XTX₃⋅XTX₄⋅XTX₈ - XTX₃⋅XTX₅⋅XTX₇  XTX₁⋅XTX₅⋅XTX₉ - XTX₁⋅XTX₆⋅XTX₈\n",
              "                                                                              \n",
              "⋅XTX₇) + x_c_2⋅(-XTX₁⋅XTX₆ + XTX₃⋅XTX₄)              -XTX₄⋅XTX₉ + XTX₆⋅XTX₇ + \n",
              "─────────────────────────────────────────────  ───────────────────────────────\n",
              "₂⋅XTX₆⋅XTX₇ + XTX₃⋅XTX₄⋅XTX₈ - XTX₃⋅XTX₅⋅XTX₇  XTX₁⋅XTX₅⋅XTX₉ - XTX₁⋅XTX₆⋅XTX₈\n",
              "                                                                              \n",
              "₂⋅XTX₇) + x_c_2⋅(XTX₁⋅XTX₅ - XTX₂⋅XTX₄)               XTX₄⋅XTX₈ - XTX₅⋅XTX₇ + \n",
              "─────────────────────────────────────────────  ───────────────────────────────\n",
              "₂⋅XTX₆⋅XTX₇ + XTX₃⋅XTX₄⋅XTX₈ - XTX₃⋅XTX₅⋅XTX₇  XTX₁⋅XTX₅⋅XTX₉ - XTX₁⋅XTX₆⋅XTX₈\n",
              "\n",
              "x_b_3⋅(-XTX₂⋅XTX₉ + XTX₃⋅XTX₈) + x_c_3⋅(XTX₂⋅XTX₆ - XTX₃⋅XTX₅)               X\n",
              "────────────────────────────────────────────────────────────────────  ────────\n",
              " - XTX₂⋅XTX₄⋅XTX₉ + XTX₂⋅XTX₆⋅XTX₇ + XTX₃⋅XTX₄⋅XTX₈ - XTX₃⋅XTX₅⋅XTX₇  XTX₁⋅XTX\n",
              "                                                                              \n",
              "x_b_3⋅(XTX₁⋅XTX₉ - XTX₃⋅XTX₇) + x_c_3⋅(-XTX₁⋅XTX₆ + XTX₃⋅XTX₄)              -X\n",
              "────────────────────────────────────────────────────────────────────  ────────\n",
              " - XTX₂⋅XTX₄⋅XTX₉ + XTX₂⋅XTX₆⋅XTX₇ + XTX₃⋅XTX₄⋅XTX₈ - XTX₃⋅XTX₅⋅XTX₇  XTX₁⋅XTX\n",
              "                                                                              \n",
              "x_b_3⋅(-XTX₁⋅XTX₈ + XTX₂⋅XTX₇) + x_c_3⋅(XTX₁⋅XTX₅ - XTX₂⋅XTX₄)               X\n",
              "────────────────────────────────────────────────────────────────────  ────────\n",
              " - XTX₂⋅XTX₄⋅XTX₉ + XTX₂⋅XTX₆⋅XTX₇ + XTX₃⋅XTX₄⋅XTX₈ - XTX₃⋅XTX₅⋅XTX₇  XTX₁⋅XTX\n",
              "\n",
              "TX₅⋅XTX₉ - XTX₆⋅XTX₈ + x_b_4⋅(-XTX₂⋅XTX₉ + XTX₃⋅XTX₈) + x_c_4⋅(XTX₂⋅XTX₆ - XTX\n",
              "──────────────────────────────────────────────────────────────────────────────\n",
              "₅⋅XTX₉ - XTX₁⋅XTX₆⋅XTX₈ - XTX₂⋅XTX₄⋅XTX₉ + XTX₂⋅XTX₆⋅XTX₇ + XTX₃⋅XTX₄⋅XTX₈ - X\n",
              "                                                                              \n",
              "TX₄⋅XTX₉ + XTX₆⋅XTX₇ + x_b_4⋅(XTX₁⋅XTX₉ - XTX₃⋅XTX₇) + x_c_4⋅(-XTX₁⋅XTX₆ + XTX\n",
              "──────────────────────────────────────────────────────────────────────────────\n",
              "₅⋅XTX₉ - XTX₁⋅XTX₆⋅XTX₈ - XTX₂⋅XTX₄⋅XTX₉ + XTX₂⋅XTX₆⋅XTX₇ + XTX₃⋅XTX₄⋅XTX₈ - X\n",
              "                                                                              \n",
              "TX₄⋅XTX₈ - XTX₅⋅XTX₇ + x_b_4⋅(-XTX₁⋅XTX₈ + XTX₂⋅XTX₇) + x_c_4⋅(XTX₁⋅XTX₅ - XTX\n",
              "──────────────────────────────────────────────────────────────────────────────\n",
              "₅⋅XTX₉ - XTX₁⋅XTX₆⋅XTX₈ - XTX₂⋅XTX₄⋅XTX₉ + XTX₂⋅XTX₆⋅XTX₇ + XTX₃⋅XTX₄⋅XTX₈ - X\n",
              "\n",
              "₃⋅XTX₅)               XTX₅⋅XTX₉ - XTX₆⋅XTX₈ + x_b_5⋅(-XTX₂⋅XTX₉ + XTX₃⋅XTX₈) +\n",
              "─────────────  ───────────────────────────────────────────────────────────────\n",
              "TX₃⋅XTX₅⋅XTX₇  XTX₁⋅XTX₅⋅XTX₉ - XTX₁⋅XTX₆⋅XTX₈ - XTX₂⋅XTX₄⋅XTX₉ + XTX₂⋅XTX₆⋅XT\n",
              "                                                                              \n",
              "₃⋅XTX₄)              -XTX₄⋅XTX₉ + XTX₆⋅XTX₇ + x_b_5⋅(XTX₁⋅XTX₉ - XTX₃⋅XTX₇) + \n",
              "─────────────  ───────────────────────────────────────────────────────────────\n",
              "TX₃⋅XTX₅⋅XTX₇  XTX₁⋅XTX₅⋅XTX₉ - XTX₁⋅XTX₆⋅XTX₈ - XTX₂⋅XTX₄⋅XTX₉ + XTX₂⋅XTX₆⋅XT\n",
              "                                                                              \n",
              "₂⋅XTX₄)               XTX₄⋅XTX₈ - XTX₅⋅XTX₇ + x_b_5⋅(-XTX₁⋅XTX₈ + XTX₂⋅XTX₇) +\n",
              "─────────────  ───────────────────────────────────────────────────────────────\n",
              "TX₃⋅XTX₅⋅XTX₇  XTX₁⋅XTX₅⋅XTX₉ - XTX₁⋅XTX₆⋅XTX₈ - XTX₂⋅XTX₄⋅XTX₉ + XTX₂⋅XTX₆⋅XT\n",
              "\n",
              " x_c_5⋅(XTX₂⋅XTX₆ - XTX₃⋅XTX₅)      ⎤\n",
              "────────────────────────────────────⎥\n",
              "X₇ + XTX₃⋅XTX₄⋅XTX₈ - XTX₃⋅XTX₅⋅XTX₇⎥\n",
              "                                    ⎥\n",
              "x_c_5⋅(-XTX₁⋅XTX₆ + XTX₃⋅XTX₄)      ⎥\n",
              "────────────────────────────────────⎥\n",
              "X₇ + XTX₃⋅XTX₄⋅XTX₈ - XTX₃⋅XTX₅⋅XTX₇⎥\n",
              "                                    ⎥\n",
              " x_c_5⋅(XTX₁⋅XTX₅ - XTX₂⋅XTX₄)      ⎥\n",
              "────────────────────────────────────⎥\n",
              "X₇ + XTX₃⋅XTX₄⋅XTX₈ - XTX₃⋅XTX₅⋅XTX₇⎦"
            ],
            "text/latex": "$\\displaystyle \\left[\\begin{matrix}\\frac{XTX_{5} XTX_{9} - XTX_{6} XTX_{8} + x_{b 1} \\left(- XTX_{2} XTX_{9} + XTX_{3} XTX_{8}\\right) + x_{c 1} \\left(XTX_{2} XTX_{6} - XTX_{3} XTX_{5}\\right)}{XTX_{1} XTX_{5} XTX_{9} - XTX_{1} XTX_{6} XTX_{8} - XTX_{2} XTX_{4} XTX_{9} + XTX_{2} XTX_{6} XTX_{7} + XTX_{3} XTX_{4} XTX_{8} - XTX_{3} XTX_{5} XTX_{7}} & \\frac{XTX_{5} XTX_{9} - XTX_{6} XTX_{8} + x_{b 2} \\left(- XTX_{2} XTX_{9} + XTX_{3} XTX_{8}\\right) + x_{c 2} \\left(XTX_{2} XTX_{6} - XTX_{3} XTX_{5}\\right)}{XTX_{1} XTX_{5} XTX_{9} - XTX_{1} XTX_{6} XTX_{8} - XTX_{2} XTX_{4} XTX_{9} + XTX_{2} XTX_{6} XTX_{7} + XTX_{3} XTX_{4} XTX_{8} - XTX_{3} XTX_{5} XTX_{7}} & \\frac{XTX_{5} XTX_{9} - XTX_{6} XTX_{8} + x_{b 3} \\left(- XTX_{2} XTX_{9} + XTX_{3} XTX_{8}\\right) + x_{c 3} \\left(XTX_{2} XTX_{6} - XTX_{3} XTX_{5}\\right)}{XTX_{1} XTX_{5} XTX_{9} - XTX_{1} XTX_{6} XTX_{8} - XTX_{2} XTX_{4} XTX_{9} + XTX_{2} XTX_{6} XTX_{7} + XTX_{3} XTX_{4} XTX_{8} - XTX_{3} XTX_{5} XTX_{7}} & \\frac{XTX_{5} XTX_{9} - XTX_{6} XTX_{8} + x_{b 4} \\left(- XTX_{2} XTX_{9} + XTX_{3} XTX_{8}\\right) + x_{c 4} \\left(XTX_{2} XTX_{6} - XTX_{3} XTX_{5}\\right)}{XTX_{1} XTX_{5} XTX_{9} - XTX_{1} XTX_{6} XTX_{8} - XTX_{2} XTX_{4} XTX_{9} + XTX_{2} XTX_{6} XTX_{7} + XTX_{3} XTX_{4} XTX_{8} - XTX_{3} XTX_{5} XTX_{7}} & \\frac{XTX_{5} XTX_{9} - XTX_{6} XTX_{8} + x_{b 5} \\left(- XTX_{2} XTX_{9} + XTX_{3} XTX_{8}\\right) + x_{c 5} \\left(XTX_{2} XTX_{6} - XTX_{3} XTX_{5}\\right)}{XTX_{1} XTX_{5} XTX_{9} - XTX_{1} XTX_{6} XTX_{8} - XTX_{2} XTX_{4} XTX_{9} + XTX_{2} XTX_{6} XTX_{7} + XTX_{3} XTX_{4} XTX_{8} - XTX_{3} XTX_{5} XTX_{7}}\\\\\\frac{- XTX_{4} XTX_{9} + XTX_{6} XTX_{7} + x_{b 1} \\left(XTX_{1} XTX_{9} - XTX_{3} XTX_{7}\\right) + x_{c 1} \\left(- XTX_{1} XTX_{6} + XTX_{3} XTX_{4}\\right)}{XTX_{1} XTX_{5} XTX_{9} - XTX_{1} XTX_{6} XTX_{8} - XTX_{2} XTX_{4} XTX_{9} + XTX_{2} XTX_{6} XTX_{7} + XTX_{3} XTX_{4} XTX_{8} - XTX_{3} XTX_{5} XTX_{7}} & \\frac{- XTX_{4} XTX_{9} + XTX_{6} XTX_{7} + x_{b 2} \\left(XTX_{1} XTX_{9} - XTX_{3} XTX_{7}\\right) + x_{c 2} \\left(- XTX_{1} XTX_{6} + XTX_{3} XTX_{4}\\right)}{XTX_{1} XTX_{5} XTX_{9} - XTX_{1} XTX_{6} XTX_{8} - XTX_{2} XTX_{4} XTX_{9} + XTX_{2} XTX_{6} XTX_{7} + XTX_{3} XTX_{4} XTX_{8} - XTX_{3} XTX_{5} XTX_{7}} & \\frac{- XTX_{4} XTX_{9} + XTX_{6} XTX_{7} + x_{b 3} \\left(XTX_{1} XTX_{9} - XTX_{3} XTX_{7}\\right) + x_{c 3} \\left(- XTX_{1} XTX_{6} + XTX_{3} XTX_{4}\\right)}{XTX_{1} XTX_{5} XTX_{9} - XTX_{1} XTX_{6} XTX_{8} - XTX_{2} XTX_{4} XTX_{9} + XTX_{2} XTX_{6} XTX_{7} + XTX_{3} XTX_{4} XTX_{8} - XTX_{3} XTX_{5} XTX_{7}} & \\frac{- XTX_{4} XTX_{9} + XTX_{6} XTX_{7} + x_{b 4} \\left(XTX_{1} XTX_{9} - XTX_{3} XTX_{7}\\right) + x_{c 4} \\left(- XTX_{1} XTX_{6} + XTX_{3} XTX_{4}\\right)}{XTX_{1} XTX_{5} XTX_{9} - XTX_{1} XTX_{6} XTX_{8} - XTX_{2} XTX_{4} XTX_{9} + XTX_{2} XTX_{6} XTX_{7} + XTX_{3} XTX_{4} XTX_{8} - XTX_{3} XTX_{5} XTX_{7}} & \\frac{- XTX_{4} XTX_{9} + XTX_{6} XTX_{7} + x_{b 5} \\left(XTX_{1} XTX_{9} - XTX_{3} XTX_{7}\\right) + x_{c 5} \\left(- XTX_{1} XTX_{6} + XTX_{3} XTX_{4}\\right)}{XTX_{1} XTX_{5} XTX_{9} - XTX_{1} XTX_{6} XTX_{8} - XTX_{2} XTX_{4} XTX_{9} + XTX_{2} XTX_{6} XTX_{7} + XTX_{3} XTX_{4} XTX_{8} - XTX_{3} XTX_{5} XTX_{7}}\\\\\\frac{XTX_{4} XTX_{8} - XTX_{5} XTX_{7} + x_{b 1} \\left(- XTX_{1} XTX_{8} + XTX_{2} XTX_{7}\\right) + x_{c 1} \\left(XTX_{1} XTX_{5} - XTX_{2} XTX_{4}\\right)}{XTX_{1} XTX_{5} XTX_{9} - XTX_{1} XTX_{6} XTX_{8} - XTX_{2} XTX_{4} XTX_{9} + XTX_{2} XTX_{6} XTX_{7} + XTX_{3} XTX_{4} XTX_{8} - XTX_{3} XTX_{5} XTX_{7}} & \\frac{XTX_{4} XTX_{8} - XTX_{5} XTX_{7} + x_{b 2} \\left(- XTX_{1} XTX_{8} + XTX_{2} XTX_{7}\\right) + x_{c 2} \\left(XTX_{1} XTX_{5} - XTX_{2} XTX_{4}\\right)}{XTX_{1} XTX_{5} XTX_{9} - XTX_{1} XTX_{6} XTX_{8} - XTX_{2} XTX_{4} XTX_{9} + XTX_{2} XTX_{6} XTX_{7} + XTX_{3} XTX_{4} XTX_{8} - XTX_{3} XTX_{5} XTX_{7}} & \\frac{XTX_{4} XTX_{8} - XTX_{5} XTX_{7} + x_{b 3} \\left(- XTX_{1} XTX_{8} + XTX_{2} XTX_{7}\\right) + x_{c 3} \\left(XTX_{1} XTX_{5} - XTX_{2} XTX_{4}\\right)}{XTX_{1} XTX_{5} XTX_{9} - XTX_{1} XTX_{6} XTX_{8} - XTX_{2} XTX_{4} XTX_{9} + XTX_{2} XTX_{6} XTX_{7} + XTX_{3} XTX_{4} XTX_{8} - XTX_{3} XTX_{5} XTX_{7}} & \\frac{XTX_{4} XTX_{8} - XTX_{5} XTX_{7} + x_{b 4} \\left(- XTX_{1} XTX_{8} + XTX_{2} XTX_{7}\\right) + x_{c 4} \\left(XTX_{1} XTX_{5} - XTX_{2} XTX_{4}\\right)}{XTX_{1} XTX_{5} XTX_{9} - XTX_{1} XTX_{6} XTX_{8} - XTX_{2} XTX_{4} XTX_{9} + XTX_{2} XTX_{6} XTX_{7} + XTX_{3} XTX_{4} XTX_{8} - XTX_{3} XTX_{5} XTX_{7}} & \\frac{XTX_{4} XTX_{8} - XTX_{5} XTX_{7} + x_{b 5} \\left(- XTX_{1} XTX_{8} + XTX_{2} XTX_{7}\\right) + x_{c 5} \\left(XTX_{1} XTX_{5} - XTX_{2} XTX_{4}\\right)}{XTX_{1} XTX_{5} XTX_{9} - XTX_{1} XTX_{6} XTX_{8} - XTX_{2} XTX_{4} XTX_{9} + XTX_{2} XTX_{6} XTX_{7} + XTX_{3} XTX_{4} XTX_{8} - XTX_{3} XTX_{5} XTX_{7}}\\end{matrix}\\right]$"
          },
          "metadata": {},
          "execution_count": 105
        }
      ]
    },
    {
      "cell_type": "code",
      "source": [
        "together(XTX.inv()*X.T*y)"
      ],
      "metadata": {
        "colab": {
          "base_uri": "https://localhost:8080/",
          "height": 111
        },
        "id": "m4H2mx5lzFHy",
        "outputId": "db937085-a0c7-4837-a685-5b685caa6b4b"
      },
      "execution_count": 106,
      "outputs": [
        {
          "output_type": "execute_result",
          "data": {
            "text/plain": [
              "⎡  y₁⋅(XTX₅⋅XTX₉ - XTX₆⋅XTX₈ + x_b_1⋅(-XTX₂⋅XTX₉ + XTX₃⋅XTX₈) + x_c_1⋅(XTX₂⋅XT\n",
              "⎢  ───────────────────────────────────────────────────────────────────────────\n",
              "⎢                                                                             \n",
              "⎢                                                                             \n",
              "⎢y₁⋅(-XTX₄⋅XTX₉ + XTX₆⋅XTX₇ + x_b_1⋅(XTX₁⋅XTX₉ - XTX₃⋅XTX₇) + x_c_1⋅(-XTX₁⋅XTX\n",
              "⎢─────────────────────────────────────────────────────────────────────────────\n",
              "⎢                                                                             \n",
              "⎢                                                                             \n",
              "⎢  y₁⋅(XTX₄⋅XTX₈ - XTX₅⋅XTX₇ + x_b_1⋅(-XTX₁⋅XTX₈ + XTX₂⋅XTX₇) + x_c_1⋅(XTX₁⋅XT\n",
              "⎢  ───────────────────────────────────────────────────────────────────────────\n",
              "⎣                                                                             \n",
              "\n",
              "X₆ - XTX₃⋅XTX₅)) + y₂⋅(XTX₅⋅XTX₉ - XTX₆⋅XTX₈ + x_b_2⋅(-XTX₂⋅XTX₉ + XTX₃⋅XTX₈) \n",
              "──────────────────────────────────────────────────────────────────────────────\n",
              "                                                                              \n",
              "                                                                              \n",
              "₆ + XTX₃⋅XTX₄)) + y₂⋅(-XTX₄⋅XTX₉ + XTX₆⋅XTX₇ + x_b_2⋅(XTX₁⋅XTX₉ - XTX₃⋅XTX₇) +\n",
              "──────────────────────────────────────────────────────────────────────────────\n",
              "                                                                              \n",
              "                                                                              \n",
              "X₅ - XTX₂⋅XTX₄)) + y₂⋅(XTX₄⋅XTX₈ - XTX₅⋅XTX₇ + x_b_2⋅(-XTX₁⋅XTX₈ + XTX₂⋅XTX₇) \n",
              "──────────────────────────────────────────────────────────────────────────────\n",
              "                                                                              \n",
              "\n",
              "+ x_c_2⋅(XTX₂⋅XTX₆ - XTX₃⋅XTX₅)) + y₃⋅(XTX₅⋅XTX₉ - XTX₆⋅XTX₈ + x_b_3⋅(-XTX₂⋅XT\n",
              "──────────────────────────────────────────────────────────────────────────────\n",
              "                               XTX₁⋅XTX₅⋅XTX₉ - XTX₁⋅XTX₆⋅XTX₈ - XTX₂⋅XTX₄⋅XTX\n",
              "                                                                              \n",
              " x_c_2⋅(-XTX₁⋅XTX₆ + XTX₃⋅XTX₄)) + y₃⋅(-XTX₄⋅XTX₉ + XTX₆⋅XTX₇ + x_b_3⋅(XTX₁⋅XT\n",
              "──────────────────────────────────────────────────────────────────────────────\n",
              "                               XTX₁⋅XTX₅⋅XTX₉ - XTX₁⋅XTX₆⋅XTX₈ - XTX₂⋅XTX₄⋅XTX\n",
              "                                                                              \n",
              "+ x_c_2⋅(XTX₁⋅XTX₅ - XTX₂⋅XTX₄)) + y₃⋅(XTX₄⋅XTX₈ - XTX₅⋅XTX₇ + x_b_3⋅(-XTX₁⋅XT\n",
              "──────────────────────────────────────────────────────────────────────────────\n",
              "                               XTX₁⋅XTX₅⋅XTX₉ - XTX₁⋅XTX₆⋅XTX₈ - XTX₂⋅XTX₄⋅XTX\n",
              "\n",
              "X₉ + XTX₃⋅XTX₈) + x_c_3⋅(XTX₂⋅XTX₆ - XTX₃⋅XTX₅)) + y₄⋅(XTX₅⋅XTX₉ - XTX₆⋅XTX₈ +\n",
              "──────────────────────────────────────────────────────────────────────────────\n",
              "₉ + XTX₂⋅XTX₆⋅XTX₇ + XTX₃⋅XTX₄⋅XTX₈ - XTX₃⋅XTX₅⋅XTX₇                          \n",
              "                                                                              \n",
              "X₉ - XTX₃⋅XTX₇) + x_c_3⋅(-XTX₁⋅XTX₆ + XTX₃⋅XTX₄)) + y₄⋅(-XTX₄⋅XTX₉ + XTX₆⋅XTX₇\n",
              "──────────────────────────────────────────────────────────────────────────────\n",
              "₉ + XTX₂⋅XTX₆⋅XTX₇ + XTX₃⋅XTX₄⋅XTX₈ - XTX₃⋅XTX₅⋅XTX₇                          \n",
              "                                                                              \n",
              "X₈ + XTX₂⋅XTX₇) + x_c_3⋅(XTX₁⋅XTX₅ - XTX₂⋅XTX₄)) + y₄⋅(XTX₄⋅XTX₈ - XTX₅⋅XTX₇ +\n",
              "──────────────────────────────────────────────────────────────────────────────\n",
              "₉ + XTX₂⋅XTX₆⋅XTX₇ + XTX₃⋅XTX₄⋅XTX₈ - XTX₃⋅XTX₅⋅XTX₇                          \n",
              "\n",
              " x_b_4⋅(-XTX₂⋅XTX₉ + XTX₃⋅XTX₈) + x_c_4⋅(XTX₂⋅XTX₆ - XTX₃⋅XTX₅)) + y₅⋅(XTX₅⋅XT\n",
              "──────────────────────────────────────────────────────────────────────────────\n",
              "                                                                              \n",
              "                                                                              \n",
              " + x_b_4⋅(XTX₁⋅XTX₉ - XTX₃⋅XTX₇) + x_c_4⋅(-XTX₁⋅XTX₆ + XTX₃⋅XTX₄)) + y₅⋅(-XTX₄\n",
              "──────────────────────────────────────────────────────────────────────────────\n",
              "                                                                              \n",
              "                                                                              \n",
              " x_b_4⋅(-XTX₁⋅XTX₈ + XTX₂⋅XTX₇) + x_c_4⋅(XTX₁⋅XTX₅ - XTX₂⋅XTX₄)) + y₅⋅(XTX₄⋅XT\n",
              "──────────────────────────────────────────────────────────────────────────────\n",
              "                                                                              \n",
              "\n",
              "X₉ - XTX₆⋅XTX₈ + x_b_5⋅(-XTX₂⋅XTX₉ + XTX₃⋅XTX₈) + x_c_5⋅(XTX₂⋅XTX₆ - XTX₃⋅XTX₅\n",
              "──────────────────────────────────────────────────────────────────────────────\n",
              "                                                                              \n",
              "                                                                              \n",
              "⋅XTX₉ + XTX₆⋅XTX₇ + x_b_5⋅(XTX₁⋅XTX₉ - XTX₃⋅XTX₇) + x_c_5⋅(-XTX₁⋅XTX₆ + XTX₃⋅X\n",
              "──────────────────────────────────────────────────────────────────────────────\n",
              "                                                                              \n",
              "                                                                              \n",
              "X₈ - XTX₅⋅XTX₇ + x_b_5⋅(-XTX₁⋅XTX₈ + XTX₂⋅XTX₇) + x_c_5⋅(XTX₁⋅XTX₅ - XTX₂⋅XTX₄\n",
              "──────────────────────────────────────────────────────────────────────────────\n",
              "                                                                              \n",
              "\n",
              "))   ⎤\n",
              "──   ⎥\n",
              "     ⎥\n",
              "     ⎥\n",
              "TX₄))⎥\n",
              "─────⎥\n",
              "     ⎥\n",
              "     ⎥\n",
              "))   ⎥\n",
              "──   ⎥\n",
              "     ⎦"
            ],
            "text/latex": "$\\displaystyle \\left[\\begin{matrix}\\frac{y_{1} \\left(XTX_{5} XTX_{9} - XTX_{6} XTX_{8} + x_{b 1} \\left(- XTX_{2} XTX_{9} + XTX_{3} XTX_{8}\\right) + x_{c 1} \\left(XTX_{2} XTX_{6} - XTX_{3} XTX_{5}\\right)\\right) + y_{2} \\left(XTX_{5} XTX_{9} - XTX_{6} XTX_{8} + x_{b 2} \\left(- XTX_{2} XTX_{9} + XTX_{3} XTX_{8}\\right) + x_{c 2} \\left(XTX_{2} XTX_{6} - XTX_{3} XTX_{5}\\right)\\right) + y_{3} \\left(XTX_{5} XTX_{9} - XTX_{6} XTX_{8} + x_{b 3} \\left(- XTX_{2} XTX_{9} + XTX_{3} XTX_{8}\\right) + x_{c 3} \\left(XTX_{2} XTX_{6} - XTX_{3} XTX_{5}\\right)\\right) + y_{4} \\left(XTX_{5} XTX_{9} - XTX_{6} XTX_{8} + x_{b 4} \\left(- XTX_{2} XTX_{9} + XTX_{3} XTX_{8}\\right) + x_{c 4} \\left(XTX_{2} XTX_{6} - XTX_{3} XTX_{5}\\right)\\right) + y_{5} \\left(XTX_{5} XTX_{9} - XTX_{6} XTX_{8} + x_{b 5} \\left(- XTX_{2} XTX_{9} + XTX_{3} XTX_{8}\\right) + x_{c 5} \\left(XTX_{2} XTX_{6} - XTX_{3} XTX_{5}\\right)\\right)}{XTX_{1} XTX_{5} XTX_{9} - XTX_{1} XTX_{6} XTX_{8} - XTX_{2} XTX_{4} XTX_{9} + XTX_{2} XTX_{6} XTX_{7} + XTX_{3} XTX_{4} XTX_{8} - XTX_{3} XTX_{5} XTX_{7}}\\\\\\frac{y_{1} \\left(- XTX_{4} XTX_{9} + XTX_{6} XTX_{7} + x_{b 1} \\left(XTX_{1} XTX_{9} - XTX_{3} XTX_{7}\\right) + x_{c 1} \\left(- XTX_{1} XTX_{6} + XTX_{3} XTX_{4}\\right)\\right) + y_{2} \\left(- XTX_{4} XTX_{9} + XTX_{6} XTX_{7} + x_{b 2} \\left(XTX_{1} XTX_{9} - XTX_{3} XTX_{7}\\right) + x_{c 2} \\left(- XTX_{1} XTX_{6} + XTX_{3} XTX_{4}\\right)\\right) + y_{3} \\left(- XTX_{4} XTX_{9} + XTX_{6} XTX_{7} + x_{b 3} \\left(XTX_{1} XTX_{9} - XTX_{3} XTX_{7}\\right) + x_{c 3} \\left(- XTX_{1} XTX_{6} + XTX_{3} XTX_{4}\\right)\\right) + y_{4} \\left(- XTX_{4} XTX_{9} + XTX_{6} XTX_{7} + x_{b 4} \\left(XTX_{1} XTX_{9} - XTX_{3} XTX_{7}\\right) + x_{c 4} \\left(- XTX_{1} XTX_{6} + XTX_{3} XTX_{4}\\right)\\right) + y_{5} \\left(- XTX_{4} XTX_{9} + XTX_{6} XTX_{7} + x_{b 5} \\left(XTX_{1} XTX_{9} - XTX_{3} XTX_{7}\\right) + x_{c 5} \\left(- XTX_{1} XTX_{6} + XTX_{3} XTX_{4}\\right)\\right)}{XTX_{1} XTX_{5} XTX_{9} - XTX_{1} XTX_{6} XTX_{8} - XTX_{2} XTX_{4} XTX_{9} + XTX_{2} XTX_{6} XTX_{7} + XTX_{3} XTX_{4} XTX_{8} - XTX_{3} XTX_{5} XTX_{7}}\\\\\\frac{y_{1} \\left(XTX_{4} XTX_{8} - XTX_{5} XTX_{7} + x_{b 1} \\left(- XTX_{1} XTX_{8} + XTX_{2} XTX_{7}\\right) + x_{c 1} \\left(XTX_{1} XTX_{5} - XTX_{2} XTX_{4}\\right)\\right) + y_{2} \\left(XTX_{4} XTX_{8} - XTX_{5} XTX_{7} + x_{b 2} \\left(- XTX_{1} XTX_{8} + XTX_{2} XTX_{7}\\right) + x_{c 2} \\left(XTX_{1} XTX_{5} - XTX_{2} XTX_{4}\\right)\\right) + y_{3} \\left(XTX_{4} XTX_{8} - XTX_{5} XTX_{7} + x_{b 3} \\left(- XTX_{1} XTX_{8} + XTX_{2} XTX_{7}\\right) + x_{c 3} \\left(XTX_{1} XTX_{5} - XTX_{2} XTX_{4}\\right)\\right) + y_{4} \\left(XTX_{4} XTX_{8} - XTX_{5} XTX_{7} + x_{b 4} \\left(- XTX_{1} XTX_{8} + XTX_{2} XTX_{7}\\right) + x_{c 4} \\left(XTX_{1} XTX_{5} - XTX_{2} XTX_{4}\\right)\\right) + y_{5} \\left(XTX_{4} XTX_{8} - XTX_{5} XTX_{7} + x_{b 5} \\left(- XTX_{1} XTX_{8} + XTX_{2} XTX_{7}\\right) + x_{c 5} \\left(XTX_{1} XTX_{5} - XTX_{2} XTX_{4}\\right)\\right)}{XTX_{1} XTX_{5} XTX_{9} - XTX_{1} XTX_{6} XTX_{8} - XTX_{2} XTX_{4} XTX_{9} + XTX_{2} XTX_{6} XTX_{7} + XTX_{3} XTX_{4} XTX_{8} - XTX_{3} XTX_{5} XTX_{7}}\\end{matrix}\\right]$"
          },
          "metadata": {},
          "execution_count": 106
        }
      ]
    },
    {
      "cell_type": "code",
      "source": [],
      "metadata": {
        "id": "8QaPttcc0pdv"
      },
      "execution_count": null,
      "outputs": []
    }
  ]
}