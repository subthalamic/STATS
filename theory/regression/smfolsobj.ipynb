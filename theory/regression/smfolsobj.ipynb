{
 "cells": [
  {
   "cell_type": "code",
   "execution_count": 1,
   "id": "21d774cf-c897-47c7-a285-ea710a4e9064",
   "metadata": {},
   "outputs": [],
   "source": [
    "import pandas as pd\n",
    "import numpy as np\n",
    "import matplotlib.pyplot as plt\n",
    "from scipy import stats as st\n",
    "import statsmodels.api as sm\n",
    "import statsmodels.formula.api as smf"
   ]
  },
  {
   "cell_type": "code",
   "execution_count": 2,
   "id": "6543d780-f72c-425a-a0bd-5a208b644073",
   "metadata": {},
   "outputs": [],
   "source": [
    "m = pd.read_csv(\"measurements.csv\")"
   ]
  },
  {
   "cell_type": "code",
   "execution_count": 3,
   "id": "0b3ac68d-6961-47f4-836c-ad00452e88ca",
   "metadata": {},
   "outputs": [],
   "source": [
    "mod = smf.ols('BMI_init ~ weight_init', data = m)"
   ]
  },
  {
   "cell_type": "code",
   "execution_count": 4,
   "id": "4945352e-0c94-4497-980c-9b954a595e43",
   "metadata": {},
   "outputs": [
    {
     "name": "stdout",
     "output_type": "stream",
     "text": [
      "['__class__', '__delattr__', '__dict__', '__dir__', '__doc__', '__eq__', '__format__', '__ge__', '__getattribute__', '__gt__', '__hash__', '__init__', '__init_subclass__', '__le__', '__lt__', '__module__', '__ne__', '__new__', '__reduce__', '__reduce_ex__', '__repr__', '__setattr__', '__sizeof__', '__str__', '__subclasshook__', '__weakref__', '_check_kwargs', '_data_attr', '_df_model', '_df_resid', '_fit_collinear', '_fit_ridge', '_fit_zeros', '_formula_max_endog', '_get_init_kwds', '_handle_data', '_init_keys', '_kwargs_allowed', '_setup_score_hess', '_sqrt_lasso', 'data', 'df_model', 'df_resid', 'endog', 'endog_names', 'exog', 'exog_names', 'fit', 'fit_regularized', 'formula', 'from_formula', 'get_distribution', 'hessian', 'hessian_factor', 'information', 'initialize', 'k_constant', 'loglike', 'nobs', 'pinv_wexog', 'predict', 'rank', 'score', 'weights', 'wendog', 'wexog', 'whiten'] "
     ]
    }
   ],
   "source": [
    "print(dir(mod), end = ' ')"
   ]
  },
  {
   "cell_type": "code",
   "execution_count": 5,
   "id": "b38f0d79-73da-4068-85b8-9f24919b5ece",
   "metadata": {},
   "outputs": [
    {
     "name": "stdout",
     "output_type": "stream",
     "text": [
      "weights   data   k_constant   exog   endog   _data_attr   _init_keys   wexog   wendog   nobs   _df_model   _df_resid   rank   pinv_wexog   formula   "
     ]
    }
   ],
   "source": [
    "for i in mod.__dict__:        #just input data\n",
    "    print(i, end = '   ')"
   ]
  },
  {
   "cell_type": "code",
   "execution_count": 6,
   "id": "ee423879-8f3e-4ef7-8d68-283f5be405de",
   "metadata": {},
   "outputs": [
    {
     "data": {
      "text/plain": [
       "80.0"
      ]
     },
     "execution_count": 6,
     "metadata": {},
     "output_type": "execute_result"
    }
   ],
   "source": [
    "mod.nobs"
   ]
  },
  {
   "cell_type": "code",
   "execution_count": 7,
   "id": "d26af25b-9aad-415f-8a93-c9382fd308d4",
   "metadata": {},
   "outputs": [],
   "source": [
    "#print(mod.__doc__)"
   ]
  },
  {
   "cell_type": "code",
   "execution_count": 8,
   "id": "fcd95df2-b011-4ce6-b7dd-ee36184bbc3d",
   "metadata": {},
   "outputs": [
    {
     "name": "stdout",
     "output_type": "stream",
     "text": [
      "['HC0_se', 'HC1_se', 'HC2_se', 'HC3_se', '_HCCM', '__class__', '__delattr__', '__dict__', '__dir__', '__doc__', '__eq__', '__format__', '__ge__', '__getattribute__', '__gt__', '__hash__', '__init__', '__init_subclass__', '__le__', '__lt__', '__module__', '__ne__', '__new__', '__reduce__', '__reduce_ex__', '__repr__', '__setattr__', '__sizeof__', '__str__', '__subclasshook__', '__weakref__', '_abat_diagonal', '_cache', '_data_attr', '_data_in_cache', '_get_robustcov_results', '_get_wald_nonlinear', '_is_nested', '_transform_predict_exog', '_use_t', '_wexog_singular_values', 'aic', 'bic', 'bse', 'centered_tss', 'compare_f_test', 'compare_lm_test', 'compare_lr_test', 'condition_number', 'conf_int', 'conf_int_el', 'cov_HC0', 'cov_HC1', 'cov_HC2', 'cov_HC3', 'cov_kwds', 'cov_params', 'cov_type', 'df_model', 'df_resid', 'eigenvals', 'el_test', 'ess', 'f_pvalue', 'f_test', 'fittedvalues', 'fvalue', 'get_influence', 'get_prediction', 'get_robustcov_results', 'info_criteria', 'initialize', 'k_constant', 'llf', 'load', 'model', 'mse_model', 'mse_resid', 'mse_total', 'nobs', 'normalized_cov_params', 'outlier_test', 'params', 'predict', 'pvalues', 'remove_data', 'resid', 'resid_pearson', 'rsquared', 'rsquared_adj', 'save', 'scale', 'ssr', 'summary', 'summary2', 't_test', 't_test_pairwise', 'tvalues', 'uncentered_tss', 'use_t', 'wald_test', 'wald_test_terms', 'wresid'] "
     ]
    }
   ],
   "source": [
    "print(dir(mod.fit()), end = ' ')"
   ]
  },
  {
   "cell_type": "code",
   "execution_count": 9,
   "id": "8723e601-470e-40dc-9215-e634f1557be3",
   "metadata": {},
   "outputs": [
    {
     "name": "stdout",
     "output_type": "stream",
     "text": [
      "_results\n",
      "__doc__\n"
     ]
    }
   ],
   "source": [
    "for i in mod.fit().__dict__:   #these objects are not that useful\n",
    "    print(i)"
   ]
  },
  {
   "cell_type": "code",
   "execution_count": 10,
   "id": "de75a3da-02d6-47dc-a7dd-a29e2301e0d9",
   "metadata": {},
   "outputs": [],
   "source": [
    "# print(smf.ols('BMI_init ~ weight_init', data = m).fit().__doc__)\n",
    "\n",
    "# smf.ols('BMI_init ~ weight_init', data = m).fit()._results.__dict__\n",
    "\n",
    "# for i in smf.ols('BMI_init ~ weight_init', data = m).fit()._results.model.__dict__:\n",
    "    # print(i, end = '   ')"
   ]
  },
  {
   "cell_type": "markdown",
   "id": "f0c15114-51f4-4717-819b-8794e69371e5",
   "metadata": {},
   "source": [
    "## Coefficients, predicted y, residuals"
   ]
  },
  {
   "cell_type": "code",
   "execution_count": 12,
   "id": "c43b20e4-921c-4296-9047-c29985b39332",
   "metadata": {},
   "outputs": [
    {
     "data": {
      "text/plain": [
       "Intercept      14.231662\n",
       "weight_init     0.202282\n",
       "dtype: float64"
      ]
     },
     "execution_count": 12,
     "metadata": {},
     "output_type": "execute_result"
    }
   ],
   "source": [
    "mod.fit().params"
   ]
  },
  {
   "cell_type": "code",
   "execution_count": 16,
   "id": "6417919b-7e25-4067-bb99-1f4bb9fd944f",
   "metadata": {},
   "outputs": [
    {
     "data": {
      "text/plain": [
       "27.84008973"
      ]
     },
     "execution_count": 16,
     "metadata": {},
     "output_type": "execute_result"
    }
   ],
   "source": [
    "mod.endog[0]        #y, dependent variable"
   ]
  },
  {
   "cell_type": "code",
   "execution_count": 19,
   "id": "4576dcbc-47b3-4b65-9d90-18c88675b12e",
   "metadata": {},
   "outputs": [
    {
     "data": {
      "text/plain": [
       "28.290258364116703"
      ]
     },
     "execution_count": 19,
     "metadata": {},
     "output_type": "execute_result"
    }
   ],
   "source": [
    "(mod.exog @ mod.fit().params)[0]"
   ]
  },
  {
   "cell_type": "code",
   "execution_count": 20,
   "id": "48c4dda3-56f5-42e9-8a01-fce11440a415",
   "metadata": {},
   "outputs": [
    {
     "data": {
      "text/plain": [
       "28.290258364116703"
      ]
     },
     "execution_count": 20,
     "metadata": {},
     "output_type": "execute_result"
    }
   ],
   "source": [
    "mod.fit().fittedvalues[0]"
   ]
  },
  {
   "cell_type": "code",
   "execution_count": 23,
   "id": "7bde7808-bed3-42ac-b087-92803543bb62",
   "metadata": {},
   "outputs": [
    {
     "data": {
      "text/plain": [
       "0.4501686341167037"
      ]
     },
     "execution_count": 23,
     "metadata": {},
     "output_type": "execute_result"
    }
   ],
   "source": [
    "(mod.exog @ mod.fit().params - mod.endog)[0]    # X * beta - y, yhat - y, the residuals"
   ]
  },
  {
   "cell_type": "code",
   "execution_count": 24,
   "id": "8e76301f-27ae-458e-8097-f52af9f69e1e",
   "metadata": {},
   "outputs": [
    {
     "data": {
      "text/plain": [
       "-0.4501686341167037"
      ]
     },
     "execution_count": 24,
     "metadata": {},
     "output_type": "execute_result"
    }
   ],
   "source": [
    "mod.fit().resid[0]"
   ]
  },
  {
   "cell_type": "markdown",
   "id": "0228c1c3-97ef-483d-93e5-c05d8cc2f5e7",
   "metadata": {},
   "source": [
    "## SSR, sum of squared residuals"
   ]
  },
  {
   "cell_type": "code",
   "execution_count": 25,
   "id": "7b08f937-0ece-44b9-9e22-9b554a6236cb",
   "metadata": {},
   "outputs": [
    {
     "data": {
      "text/plain": [
       "355.1002568337898"
      ]
     },
     "execution_count": 25,
     "metadata": {},
     "output_type": "execute_result"
    }
   ],
   "source": [
    "(mod.exog @ mod.fit().params - mod.endog).T @ (mod.exog @ mod.fit().params - mod.endog)"
   ]
  },
  {
   "cell_type": "code",
   "execution_count": 26,
   "id": "4e66b54f-6763-4cc7-922a-179b582c99cf",
   "metadata": {},
   "outputs": [
    {
     "data": {
      "text/plain": [
       "355.1002568337898"
      ]
     },
     "execution_count": 26,
     "metadata": {},
     "output_type": "execute_result"
    }
   ],
   "source": [
    "mod.fit().ssr    #sum of squared residuals"
   ]
  },
  {
   "cell_type": "markdown",
   "id": "6fef8865-4783-4893-b35b-4d682dcdf8b5",
   "metadata": {},
   "source": [
    "## ESS, explained sum of squares"
   ]
  },
  {
   "cell_type": "code",
   "execution_count": 28,
   "id": "205d9e38-fca8-4295-9f07-8f7f945f4254",
   "metadata": {},
   "outputs": [
    {
     "data": {
      "text/plain": [
       "311.31674853115385"
      ]
     },
     "execution_count": 28,
     "metadata": {},
     "output_type": "execute_result"
    }
   ],
   "source": [
    "mod.fit().ess    #explained sum of squares"
   ]
  },
  {
   "cell_type": "code",
   "execution_count": 40,
   "id": "d7c7a02c-1e03-41a8-b52c-4e5c1b98519e",
   "metadata": {},
   "outputs": [
    {
     "data": {
      "text/plain": [
       "311.3167485311536"
      ]
     },
     "execution_count": 40,
     "metadata": {},
     "output_type": "execute_result"
    }
   ],
   "source": [
    "sum((mod.fit().fittedvalues - mod.endog.mean())**2)"
   ]
  },
  {
   "cell_type": "markdown",
   "id": "7529aeec-044c-4e04-9ccc-15405d7460a1",
   "metadata": {},
   "source": [
    "## TSS, total sum of squares"
   ]
  },
  {
   "cell_type": "code",
   "execution_count": 30,
   "id": "517bda6f-6523-4774-860e-00ac3b55f405",
   "metadata": {},
   "outputs": [
    {
     "data": {
      "text/plain": [
       "0.03505521037500259"
      ]
     },
     "execution_count": 30,
     "metadata": {},
     "output_type": "execute_result"
    }
   ],
   "source": [
    "(mod.endog - mod.endog.mean())[0]"
   ]
  },
  {
   "cell_type": "code",
   "execution_count": 32,
   "id": "1e5a6e0e-6659-43d7-a7df-78e5fb735370",
   "metadata": {},
   "outputs": [
    {
     "data": {
      "text/plain": [
       "0.001228867774435689"
      ]
     },
     "execution_count": 32,
     "metadata": {},
     "output_type": "execute_result"
    }
   ],
   "source": [
    "((mod.endog - mod.endog.mean())**2)[0]"
   ]
  },
  {
   "cell_type": "code",
   "execution_count": 58,
   "id": "1d6e822b-19a4-47c5-8c10-6770cd87b1c8",
   "metadata": {},
   "outputs": [
    {
     "data": {
      "text/plain": [
       "666.4170053649435"
      ]
     },
     "execution_count": 58,
     "metadata": {},
     "output_type": "execute_result"
    }
   ],
   "source": [
    "tss = sum((mod.endog - mod.endog.mean())**2)    #total sum of squares\n",
    "tss"
   ]
  },
  {
   "cell_type": "code",
   "execution_count": 57,
   "id": "4b11dd5e-cf51-43f1-98cc-2764b9deb7ca",
   "metadata": {},
   "outputs": [
    {
     "data": {
      "text/plain": [
       "666.4170053649436"
      ]
     },
     "execution_count": 57,
     "metadata": {},
     "output_type": "execute_result"
    }
   ],
   "source": [
    "mod.fit().centered_tss"
   ]
  },
  {
   "cell_type": "markdown",
   "id": "07619908-76db-4e6b-b317-1c1624e61c7b",
   "metadata": {},
   "source": [
    "## TSS = ESS + SSR"
   ]
  },
  {
   "cell_type": "code",
   "execution_count": 38,
   "id": "9bb7a204-4fbf-43b0-b79d-81a63aa9a021",
   "metadata": {},
   "outputs": [
    {
     "data": {
      "text/plain": [
       "666.4170053649436"
      ]
     },
     "execution_count": 38,
     "metadata": {},
     "output_type": "execute_result"
    }
   ],
   "source": [
    "mod.fit().ess + mod.fit().ssr      # ess + ssr = tss"
   ]
  },
  {
   "cell_type": "markdown",
   "id": "d891c709-fc10-4510-8602-4a54e8ccbbf3",
   "metadata": {},
   "source": [
    "## R^2"
   ]
  },
  {
   "cell_type": "code",
   "execution_count": 36,
   "id": "242ee7cb-360d-44c2-80c4-b37d72126916",
   "metadata": {},
   "outputs": [
    {
     "data": {
      "text/plain": [
       "0.46715006673737314"
      ]
     },
     "execution_count": 36,
     "metadata": {},
     "output_type": "execute_result"
    }
   ],
   "source": [
    "1 - mod.fit().ssr / tss"
   ]
  },
  {
   "cell_type": "code",
   "execution_count": 37,
   "id": "7d636872-591d-4714-95b9-d1818f5c166d",
   "metadata": {},
   "outputs": [
    {
     "data": {
      "text/plain": [
       "0.46715006673737325"
      ]
     },
     "execution_count": 37,
     "metadata": {},
     "output_type": "execute_result"
    }
   ],
   "source": [
    "mod.fit().rsquared"
   ]
  },
  {
   "cell_type": "markdown",
   "id": "74d65a73-2f07-4783-9294-3d6d38bddc63",
   "metadata": {},
   "source": [
    "## MSE, mean squared error"
   ]
  },
  {
   "cell_type": "code",
   "execution_count": 52,
   "id": "df87fea4-c0a5-49cd-ad51-2d5cf6e820ec",
   "metadata": {},
   "outputs": [
    {
     "data": {
      "text/plain": [
       "4.438753210422372"
      ]
     },
     "execution_count": 52,
     "metadata": {},
     "output_type": "execute_result"
    }
   ],
   "source": [
    "mse = mod.fit().ssr/mod.nobs        #mean squared error or mean squared deviation\n",
    "mse"
   ]
  },
  {
   "cell_type": "code",
   "execution_count": 56,
   "id": "21b3247b-fe6a-459c-8188-e58bcffba975",
   "metadata": {},
   "outputs": [
    {
     "data": {
      "text/plain": [
       "4.552567395304997"
      ]
     },
     "execution_count": 56,
     "metadata": {},
     "output_type": "execute_result"
    }
   ],
   "source": [
    "mod.fit().ssr/mod.fit().df_resid    #mean squared error with df instead of n"
   ]
  },
  {
   "cell_type": "code",
   "execution_count": 55,
   "id": "2659e664-86ef-438e-a617-bbfba8d96f16",
   "metadata": {},
   "outputs": [
    {
     "data": {
      "text/plain": [
       "4.552567395304997"
      ]
     },
     "execution_count": 55,
     "metadata": {},
     "output_type": "execute_result"
    }
   ],
   "source": [
    "mod.fit().mse_resid"
   ]
  },
  {
   "cell_type": "code",
   "execution_count": 47,
   "id": "d0f93851-50bd-4125-9355-f3b01f3c7853",
   "metadata": {},
   "outputs": [
    {
     "data": {
      "text/plain": [
       "4.552567395304997"
      ]
     },
     "execution_count": 47,
     "metadata": {},
     "output_type": "execute_result"
    }
   ],
   "source": [
    "mod.fit().scale"
   ]
  },
  {
   "cell_type": "markdown",
   "id": "a75ec5b1-46bc-4752-becd-bcb3a678ed6f",
   "metadata": {},
   "source": [
    "## MAE, mean absolute error"
   ]
  },
  {
   "cell_type": "code",
   "execution_count": 50,
   "id": "f1269353-df5f-4c57-ae85-50f495bdad18",
   "metadata": {},
   "outputs": [
    {
     "data": {
      "text/plain": [
       "1.715715089918183"
      ]
     },
     "execution_count": 50,
     "metadata": {},
     "output_type": "execute_result"
    }
   ],
   "source": [
    "mae = sum(abs(mod.fit().resid))/mod.nobs   #mean absolute error\n",
    "mae"
   ]
  },
  {
   "cell_type": "markdown",
   "id": "055c5ec7-0eed-40e1-a4be-97b54c086d66",
   "metadata": {},
   "source": [
    "## SEE, standard error of the estimate = RMSE, root mean squared error (df)"
   ]
  },
  {
   "cell_type": "code",
   "execution_count": 44,
   "id": "78d225a3-fcd5-4833-9c34-3d79fab1607e",
   "metadata": {},
   "outputs": [
    {
     "data": {
      "text/plain": [
       "2.1336746226416525"
      ]
     },
     "execution_count": 44,
     "metadata": {},
     "output_type": "execute_result"
    }
   ],
   "source": [
    "(mod.fit().ssr / mod.fit().df_resid)**0.5  #standard error of the estimate/regression, also root mean squared error, rmse"
   ]
  },
  {
   "cell_type": "code",
   "execution_count": 53,
   "id": "3aae5fd4-7b37-4d07-85f2-e82f104efd60",
   "metadata": {},
   "outputs": [
    {
     "data": {
      "text/plain": [
       "2.1336746226416525"
      ]
     },
     "execution_count": 53,
     "metadata": {},
     "output_type": "execute_result"
    }
   ],
   "source": [
    "see = mod.fit().scale**0.5\n",
    "see"
   ]
  },
  {
   "cell_type": "markdown",
   "id": "51797c36-a354-4fca-954b-fa73e44e998e",
   "metadata": {},
   "source": [
    "## standard errors of coefficients, BSE"
   ]
  },
  {
   "cell_type": "code",
   "execution_count": 59,
   "id": "32e296e9-a2c9-40d6-9448-01b21fdb5a2e",
   "metadata": {},
   "outputs": [
    {
     "data": {
      "text/plain": [
       "Intercept      1.658645\n",
       "weight_init    0.024462\n",
       "dtype: float64"
      ]
     },
     "execution_count": 59,
     "metadata": {},
     "output_type": "execute_result"
    }
   ],
   "source": [
    "mod.fit().bse                              #standard errors of beta/ of coefficients"
   ]
  },
  {
   "cell_type": "code",
   "execution_count": 61,
   "id": "3c7960fa-9b47-43fb-8ce6-ab34b72624f0",
   "metadata": {},
   "outputs": [
    {
     "data": {
      "text/plain": [
       "Intercept      7.044168e-13\n",
       "weight_init    2.827310e-12\n",
       "dtype: float64"
      ]
     },
     "execution_count": 61,
     "metadata": {},
     "output_type": "execute_result"
    }
   ],
   "source": [
    "mod.fit().pvalues"
   ]
  },
  {
   "cell_type": "code",
   "execution_count": 72,
   "id": "559bcaa9-47f4-4bea-992e-3d0ec392fcf2",
   "metadata": {},
   "outputs": [
    {
     "name": "stdout",
     "output_type": "stream",
     "text": [
      "['__class__', '__delattr__', '__dict__', '__dir__', '__doc__', '__eq__', '__format__', '__ge__', '__getattribute__', '__gt__', '__hash__', '__init__', '__init_subclass__', '__le__', '__lt__', '__module__', '__ne__', '__new__', '__reduce__', '__reduce_ex__', '__repr__', '__setattr__', '__sizeof__', '__str__', '__subclasshook__', '__weakref__', 'conf_int', 'df', 'dist', 'dist_args', 'predicted', 'predicted_mean', 'row_labels', 'se', 'se_mean', 'se_obs', 'summary_frame', 'var_pred', 'var_pred_mean', 'var_resid']\n"
     ]
    }
   ],
   "source": [
    "print(dir(mod.fit().get_prediction()))"
   ]
  },
  {
   "cell_type": "code",
   "execution_count": 74,
   "id": "c16fa799-3bd8-4948-865d-248d11063dc8",
   "metadata": {},
   "outputs": [
    {
     "data": {
      "text/html": [
       "<div>\n",
       "<style scoped>\n",
       "    .dataframe tbody tr th:only-of-type {\n",
       "        vertical-align: middle;\n",
       "    }\n",
       "\n",
       "    .dataframe tbody tr th {\n",
       "        vertical-align: top;\n",
       "    }\n",
       "\n",
       "    .dataframe thead th {\n",
       "        text-align: right;\n",
       "    }\n",
       "</style>\n",
       "<table border=\"1\" class=\"dataframe\">\n",
       "  <thead>\n",
       "    <tr style=\"text-align: right;\">\n",
       "      <th></th>\n",
       "      <th>mean</th>\n",
       "      <th>mean_se</th>\n",
       "      <th>mean_ci_lower</th>\n",
       "      <th>mean_ci_upper</th>\n",
       "      <th>obs_ci_lower</th>\n",
       "      <th>obs_ci_upper</th>\n",
       "    </tr>\n",
       "  </thead>\n",
       "  <tbody>\n",
       "    <tr>\n",
       "      <th>0</th>\n",
       "      <td>28.290258</td>\n",
       "      <td>0.245663</td>\n",
       "      <td>27.801182</td>\n",
       "      <td>28.779335</td>\n",
       "      <td>24.014376</td>\n",
       "      <td>32.566141</td>\n",
       "    </tr>\n",
       "    <tr>\n",
       "      <th>1</th>\n",
       "      <td>28.391399</td>\n",
       "      <td>0.248867</td>\n",
       "      <td>27.895942</td>\n",
       "      <td>28.886856</td>\n",
       "      <td>24.114783</td>\n",
       "      <td>32.668016</td>\n",
       "    </tr>\n",
       "    <tr>\n",
       "      <th>2</th>\n",
       "      <td>27.744097</td>\n",
       "      <td>0.238666</td>\n",
       "      <td>27.268950</td>\n",
       "      <td>28.219244</td>\n",
       "      <td>23.469786</td>\n",
       "      <td>32.018409</td>\n",
       "    </tr>\n",
       "    <tr>\n",
       "      <th>3</th>\n",
       "      <td>26.995654</td>\n",
       "      <td>0.257851</td>\n",
       "      <td>26.482313</td>\n",
       "      <td>27.508995</td>\n",
       "      <td>22.716928</td>\n",
       "      <td>31.274379</td>\n",
       "    </tr>\n",
       "    <tr>\n",
       "      <th>4</th>\n",
       "      <td>25.943788</td>\n",
       "      <td>0.327974</td>\n",
       "      <td>25.290842</td>\n",
       "      <td>26.596733</td>\n",
       "      <td>21.646078</td>\n",
       "      <td>30.241498</td>\n",
       "    </tr>\n",
       "    <tr>\n",
       "      <th>...</th>\n",
       "      <td>...</td>\n",
       "      <td>...</td>\n",
       "      <td>...</td>\n",
       "      <td>...</td>\n",
       "      <td>...</td>\n",
       "      <td>...</td>\n",
       "    </tr>\n",
       "    <tr>\n",
       "      <th>75</th>\n",
       "      <td>29.200527</td>\n",
       "      <td>0.292207</td>\n",
       "      <td>28.618787</td>\n",
       "      <td>29.782267</td>\n",
       "      <td>24.913058</td>\n",
       "      <td>33.487997</td>\n",
       "    </tr>\n",
       "    <tr>\n",
       "      <th>76</th>\n",
       "      <td>28.391399</td>\n",
       "      <td>0.248867</td>\n",
       "      <td>27.895942</td>\n",
       "      <td>28.886856</td>\n",
       "      <td>24.114783</td>\n",
       "      <td>32.668016</td>\n",
       "    </tr>\n",
       "    <tr>\n",
       "      <th>77</th>\n",
       "      <td>27.986835</td>\n",
       "      <td>0.239563</td>\n",
       "      <td>27.509902</td>\n",
       "      <td>28.463769</td>\n",
       "      <td>23.712325</td>\n",
       "      <td>32.261346</td>\n",
       "    </tr>\n",
       "    <tr>\n",
       "      <th>78</th>\n",
       "      <td>27.784553</td>\n",
       "      <td>0.238565</td>\n",
       "      <td>27.309607</td>\n",
       "      <td>28.259500</td>\n",
       "      <td>23.510264</td>\n",
       "      <td>32.058843</td>\n",
       "    </tr>\n",
       "    <tr>\n",
       "      <th>79</th>\n",
       "      <td>28.391399</td>\n",
       "      <td>0.248867</td>\n",
       "      <td>27.895942</td>\n",
       "      <td>28.886856</td>\n",
       "      <td>24.114783</td>\n",
       "      <td>32.668016</td>\n",
       "    </tr>\n",
       "  </tbody>\n",
       "</table>\n",
       "<p>80 rows × 6 columns</p>\n",
       "</div>"
      ],
      "text/plain": [
       "         mean   mean_se  mean_ci_lower  mean_ci_upper  obs_ci_lower  \\\n",
       "0   28.290258  0.245663      27.801182      28.779335     24.014376   \n",
       "1   28.391399  0.248867      27.895942      28.886856     24.114783   \n",
       "2   27.744097  0.238666      27.268950      28.219244     23.469786   \n",
       "3   26.995654  0.257851      26.482313      27.508995     22.716928   \n",
       "4   25.943788  0.327974      25.290842      26.596733     21.646078   \n",
       "..        ...       ...            ...            ...           ...   \n",
       "75  29.200527  0.292207      28.618787      29.782267     24.913058   \n",
       "76  28.391399  0.248867      27.895942      28.886856     24.114783   \n",
       "77  27.986835  0.239563      27.509902      28.463769     23.712325   \n",
       "78  27.784553  0.238565      27.309607      28.259500     23.510264   \n",
       "79  28.391399  0.248867      27.895942      28.886856     24.114783   \n",
       "\n",
       "    obs_ci_upper  \n",
       "0      32.566141  \n",
       "1      32.668016  \n",
       "2      32.018409  \n",
       "3      31.274379  \n",
       "4      30.241498  \n",
       "..           ...  \n",
       "75     33.487997  \n",
       "76     32.668016  \n",
       "77     32.261346  \n",
       "78     32.058843  \n",
       "79     32.668016  \n",
       "\n",
       "[80 rows x 6 columns]"
      ]
     },
     "execution_count": 74,
     "metadata": {},
     "output_type": "execute_result"
    }
   ],
   "source": [
    "mod.fit().get_prediction().summary_frame()"
   ]
  },
  {
   "cell_type": "code",
   "execution_count": null,
   "id": "4b01f547-82c3-4045-9011-0f1d74d1f145",
   "metadata": {},
   "outputs": [],
   "source": []
  }
 ],
 "metadata": {
  "kernelspec": {
   "display_name": "venvstats",
   "language": "python",
   "name": "venvstats"
  },
  "language_info": {
   "codemirror_mode": {
    "name": "ipython",
    "version": 3
   },
   "file_extension": ".py",
   "mimetype": "text/x-python",
   "name": "python",
   "nbconvert_exporter": "python",
   "pygments_lexer": "ipython3",
   "version": "3.9.13"
  }
 },
 "nbformat": 4,
 "nbformat_minor": 5
}
