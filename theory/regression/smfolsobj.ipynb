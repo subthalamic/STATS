{
 "cells": [
  {
   "cell_type": "code",
   "execution_count": 1,
   "id": "21d774cf-c897-47c7-a285-ea710a4e9064",
   "metadata": {},
   "outputs": [],
   "source": [
    "import pandas as pd\n",
    "import numpy as np\n",
    "import matplotlib.pyplot as plt\n",
    "from scipy import stats as st\n",
    "import statsmodels.api as sm\n",
    "import statsmodels.formula.api as smf"
   ]
  },
  {
   "cell_type": "code",
   "execution_count": 2,
   "id": "6543d780-f72c-425a-a0bd-5a208b644073",
   "metadata": {},
   "outputs": [],
   "source": [
    "m = pd.read_csv(\"measurements.csv\")"
   ]
  },
  {
   "cell_type": "code",
   "execution_count": 3,
   "id": "0b3ac68d-6961-47f4-836c-ad00452e88ca",
   "metadata": {},
   "outputs": [],
   "source": [
    "mod = smf.ols('BMI_init ~ weight_init', data = m)"
   ]
  },
  {
   "cell_type": "code",
   "execution_count": 4,
   "id": "4945352e-0c94-4497-980c-9b954a595e43",
   "metadata": {},
   "outputs": [
    {
     "name": "stdout",
     "output_type": "stream",
     "text": [
      "['__class__', '__delattr__', '__dict__', '__dir__', '__doc__', '__eq__', '__format__', '__ge__', '__getattribute__', '__gt__', '__hash__', '__init__', '__init_subclass__', '__le__', '__lt__', '__module__', '__ne__', '__new__', '__reduce__', '__reduce_ex__', '__repr__', '__setattr__', '__sizeof__', '__str__', '__subclasshook__', '__weakref__', '_check_kwargs', '_data_attr', '_df_model', '_df_resid', '_fit_collinear', '_fit_ridge', '_fit_zeros', '_formula_max_endog', '_get_init_kwds', '_handle_data', '_init_keys', '_kwargs_allowed', '_setup_score_hess', '_sqrt_lasso', 'data', 'df_model', 'df_resid', 'endog', 'endog_names', 'exog', 'exog_names', 'fit', 'fit_regularized', 'formula', 'from_formula', 'get_distribution', 'hessian', 'hessian_factor', 'information', 'initialize', 'k_constant', 'loglike', 'nobs', 'pinv_wexog', 'predict', 'rank', 'score', 'weights', 'wendog', 'wexog', 'whiten'] "
     ]
    }
   ],
   "source": [
    "print(dir(mod), end = ' ')"
   ]
  },
  {
   "cell_type": "code",
   "execution_count": 5,
   "id": "b38f0d79-73da-4068-85b8-9f24919b5ece",
   "metadata": {},
   "outputs": [
    {
     "name": "stdout",
     "output_type": "stream",
     "text": [
      "weights   data   k_constant   exog   endog   _data_attr   _init_keys   wexog   wendog   nobs   _df_model   _df_resid   rank   pinv_wexog   formula   "
     ]
    }
   ],
   "source": [
    "for i in mod.__dict__:        #just input data\n",
    "    print(i, end = '   ')"
   ]
  },
  {
   "cell_type": "code",
   "execution_count": 6,
   "id": "ee423879-8f3e-4ef7-8d68-283f5be405de",
   "metadata": {},
   "outputs": [
    {
     "data": {
      "text/plain": [
       "80.0"
      ]
     },
     "execution_count": 6,
     "metadata": {},
     "output_type": "execute_result"
    }
   ],
   "source": [
    "mod.nobs"
   ]
  },
  {
   "cell_type": "code",
   "execution_count": 7,
   "id": "d26af25b-9aad-415f-8a93-c9382fd308d4",
   "metadata": {},
   "outputs": [],
   "source": [
    "#print(mod.__doc__)"
   ]
  },
  {
   "cell_type": "code",
   "execution_count": 8,
   "id": "fcd95df2-b011-4ce6-b7dd-ee36184bbc3d",
   "metadata": {},
   "outputs": [
    {
     "name": "stdout",
     "output_type": "stream",
     "text": [
      "['HC0_se', 'HC1_se', 'HC2_se', 'HC3_se', '_HCCM', '__class__', '__delattr__', '__dict__', '__dir__', '__doc__', '__eq__', '__format__', '__ge__', '__getattribute__', '__gt__', '__hash__', '__init__', '__init_subclass__', '__le__', '__lt__', '__module__', '__ne__', '__new__', '__reduce__', '__reduce_ex__', '__repr__', '__setattr__', '__sizeof__', '__str__', '__subclasshook__', '__weakref__', '_abat_diagonal', '_cache', '_data_attr', '_data_in_cache', '_get_robustcov_results', '_get_wald_nonlinear', '_is_nested', '_transform_predict_exog', '_use_t', '_wexog_singular_values', 'aic', 'bic', 'bse', 'centered_tss', 'compare_f_test', 'compare_lm_test', 'compare_lr_test', 'condition_number', 'conf_int', 'conf_int_el', 'cov_HC0', 'cov_HC1', 'cov_HC2', 'cov_HC3', 'cov_kwds', 'cov_params', 'cov_type', 'df_model', 'df_resid', 'eigenvals', 'el_test', 'ess', 'f_pvalue', 'f_test', 'fittedvalues', 'fvalue', 'get_influence', 'get_prediction', 'get_robustcov_results', 'info_criteria', 'initialize', 'k_constant', 'llf', 'load', 'model', 'mse_model', 'mse_resid', 'mse_total', 'nobs', 'normalized_cov_params', 'outlier_test', 'params', 'predict', 'pvalues', 'remove_data', 'resid', 'resid_pearson', 'rsquared', 'rsquared_adj', 'save', 'scale', 'ssr', 'summary', 'summary2', 't_test', 't_test_pairwise', 'tvalues', 'uncentered_tss', 'use_t', 'wald_test', 'wald_test_terms', 'wresid'] "
     ]
    }
   ],
   "source": [
    "print(dir(mod.fit()), end = ' ')"
   ]
  },
  {
   "cell_type": "code",
   "execution_count": 9,
   "id": "8723e601-470e-40dc-9215-e634f1557be3",
   "metadata": {},
   "outputs": [
    {
     "name": "stdout",
     "output_type": "stream",
     "text": [
      "_results\n",
      "__doc__\n"
     ]
    }
   ],
   "source": [
    "for i in mod.fit().__dict__:   #these objects are not that useful\n",
    "    print(i)"
   ]
  },
  {
   "cell_type": "code",
   "execution_count": 10,
   "id": "de75a3da-02d6-47dc-a7dd-a29e2301e0d9",
   "metadata": {},
   "outputs": [],
   "source": [
    "# print(smf.ols('BMI_init ~ weight_init', data = m).fit().__doc__)\n",
    "\n",
    "# smf.ols('BMI_init ~ weight_init', data = m).fit()._results.__dict__\n",
    "\n",
    "# for i in smf.ols('BMI_init ~ weight_init', data = m).fit()._results.model.__dict__:\n",
    "    # print(i, end = '   ')"
   ]
  },
  {
   "cell_type": "code",
   "execution_count": 39,
   "id": "66b9a26f-1782-4e6f-b9ab-3dfe018fae68",
   "metadata": {},
   "outputs": [
    {
     "data": {
      "text/html": [
       "<table class=\"simpletable\">\n",
       "<caption>OLS Regression Results</caption>\n",
       "<tr>\n",
       "  <th>Dep. Variable:</th>        <td>BMI_init</td>     <th>  R-squared:         </th> <td>   0.467</td>\n",
       "</tr>\n",
       "<tr>\n",
       "  <th>Model:</th>                   <td>OLS</td>       <th>  Adj. R-squared:    </th> <td>   0.460</td>\n",
       "</tr>\n",
       "<tr>\n",
       "  <th>Method:</th>             <td>Least Squares</td>  <th>  F-statistic:       </th> <td>   68.38</td>\n",
       "</tr>\n",
       "<tr>\n",
       "  <th>Date:</th>             <td>Fri, 12 Apr 2024</td> <th>  Prob (F-statistic):</th> <td>2.83e-12</td>\n",
       "</tr>\n",
       "<tr>\n",
       "  <th>Time:</th>                 <td>16:18:36</td>     <th>  Log-Likelihood:    </th> <td> -173.13</td>\n",
       "</tr>\n",
       "<tr>\n",
       "  <th>No. Observations:</th>      <td>    80</td>      <th>  AIC:               </th> <td>   350.3</td>\n",
       "</tr>\n",
       "<tr>\n",
       "  <th>Df Residuals:</th>          <td>    78</td>      <th>  BIC:               </th> <td>   355.0</td>\n",
       "</tr>\n",
       "<tr>\n",
       "  <th>Df Model:</th>              <td>     1</td>      <th>                     </th>     <td> </td>   \n",
       "</tr>\n",
       "<tr>\n",
       "  <th>Covariance Type:</th>      <td>nonrobust</td>    <th>                     </th>     <td> </td>   \n",
       "</tr>\n",
       "</table>\n",
       "<table class=\"simpletable\">\n",
       "<tr>\n",
       "       <td></td>          <th>coef</th>     <th>std err</th>      <th>t</th>      <th>P>|t|</th>  <th>[0.025</th>    <th>0.975]</th>  \n",
       "</tr>\n",
       "<tr>\n",
       "  <th>Intercept</th>   <td>   14.2317</td> <td>    1.659</td> <td>    8.580</td> <td> 0.000</td> <td>   10.930</td> <td>   17.534</td>\n",
       "</tr>\n",
       "<tr>\n",
       "  <th>weight_init</th> <td>    0.2023</td> <td>    0.024</td> <td>    8.269</td> <td> 0.000</td> <td>    0.154</td> <td>    0.251</td>\n",
       "</tr>\n",
       "</table>\n",
       "<table class=\"simpletable\">\n",
       "<tr>\n",
       "  <th>Omnibus:</th>       <td> 1.666</td> <th>  Durbin-Watson:     </th> <td>   0.976</td>\n",
       "</tr>\n",
       "<tr>\n",
       "  <th>Prob(Omnibus):</th> <td> 0.435</td> <th>  Jarque-Bera (JB):  </th> <td>   1.697</td>\n",
       "</tr>\n",
       "<tr>\n",
       "  <th>Skew:</th>          <td> 0.306</td> <th>  Prob(JB):          </th> <td>   0.428</td>\n",
       "</tr>\n",
       "<tr>\n",
       "  <th>Kurtosis:</th>      <td> 2.632</td> <th>  Cond. No.          </th> <td>    472.</td>\n",
       "</tr>\n",
       "</table><br/><br/>Notes:<br/>[1] Standard Errors assume that the covariance matrix of the errors is correctly specified."
      ],
      "text/latex": [
       "\\begin{center}\n",
       "\\begin{tabular}{lclc}\n",
       "\\toprule\n",
       "\\textbf{Dep. Variable:}    &    BMI\\_init     & \\textbf{  R-squared:         } &     0.467   \\\\\n",
       "\\textbf{Model:}            &       OLS        & \\textbf{  Adj. R-squared:    } &     0.460   \\\\\n",
       "\\textbf{Method:}           &  Least Squares   & \\textbf{  F-statistic:       } &     68.38   \\\\\n",
       "\\textbf{Date:}             & Fri, 12 Apr 2024 & \\textbf{  Prob (F-statistic):} &  2.83e-12   \\\\\n",
       "\\textbf{Time:}             &     16:18:36     & \\textbf{  Log-Likelihood:    } &   -173.13   \\\\\n",
       "\\textbf{No. Observations:} &          80      & \\textbf{  AIC:               } &     350.3   \\\\\n",
       "\\textbf{Df Residuals:}     &          78      & \\textbf{  BIC:               } &     355.0   \\\\\n",
       "\\textbf{Df Model:}         &           1      & \\textbf{                     } &             \\\\\n",
       "\\textbf{Covariance Type:}  &    nonrobust     & \\textbf{                     } &             \\\\\n",
       "\\bottomrule\n",
       "\\end{tabular}\n",
       "\\begin{tabular}{lcccccc}\n",
       "                      & \\textbf{coef} & \\textbf{std err} & \\textbf{t} & \\textbf{P$> |$t$|$} & \\textbf{[0.025} & \\textbf{0.975]}  \\\\\n",
       "\\midrule\n",
       "\\textbf{Intercept}    &      14.2317  &        1.659     &     8.580  &         0.000        &       10.930    &       17.534     \\\\\n",
       "\\textbf{weight\\_init} &       0.2023  &        0.024     &     8.269  &         0.000        &        0.154    &        0.251     \\\\\n",
       "\\bottomrule\n",
       "\\end{tabular}\n",
       "\\begin{tabular}{lclc}\n",
       "\\textbf{Omnibus:}       &  1.666 & \\textbf{  Durbin-Watson:     } &    0.976  \\\\\n",
       "\\textbf{Prob(Omnibus):} &  0.435 & \\textbf{  Jarque-Bera (JB):  } &    1.697  \\\\\n",
       "\\textbf{Skew:}          &  0.306 & \\textbf{  Prob(JB):          } &    0.428  \\\\\n",
       "\\textbf{Kurtosis:}      &  2.632 & \\textbf{  Cond. No.          } &     472.  \\\\\n",
       "\\bottomrule\n",
       "\\end{tabular}\n",
       "%\\caption{OLS Regression Results}\n",
       "\\end{center}\n",
       "\n",
       "Notes: \\newline\n",
       " [1] Standard Errors assume that the covariance matrix of the errors is correctly specified."
      ],
      "text/plain": [
       "<class 'statsmodels.iolib.summary.Summary'>\n",
       "\"\"\"\n",
       "                            OLS Regression Results                            \n",
       "==============================================================================\n",
       "Dep. Variable:               BMI_init   R-squared:                       0.467\n",
       "Model:                            OLS   Adj. R-squared:                  0.460\n",
       "Method:                 Least Squares   F-statistic:                     68.38\n",
       "Date:                Fri, 12 Apr 2024   Prob (F-statistic):           2.83e-12\n",
       "Time:                        16:18:36   Log-Likelihood:                -173.13\n",
       "No. Observations:                  80   AIC:                             350.3\n",
       "Df Residuals:                      78   BIC:                             355.0\n",
       "Df Model:                           1                                         \n",
       "Covariance Type:            nonrobust                                         \n",
       "===============================================================================\n",
       "                  coef    std err          t      P>|t|      [0.025      0.975]\n",
       "-------------------------------------------------------------------------------\n",
       "Intercept      14.2317      1.659      8.580      0.000      10.930      17.534\n",
       "weight_init     0.2023      0.024      8.269      0.000       0.154       0.251\n",
       "==============================================================================\n",
       "Omnibus:                        1.666   Durbin-Watson:                   0.976\n",
       "Prob(Omnibus):                  0.435   Jarque-Bera (JB):                1.697\n",
       "Skew:                           0.306   Prob(JB):                        0.428\n",
       "Kurtosis:                       2.632   Cond. No.                         472.\n",
       "==============================================================================\n",
       "\n",
       "Notes:\n",
       "[1] Standard Errors assume that the covariance matrix of the errors is correctly specified.\n",
       "\"\"\""
      ]
     },
     "execution_count": 39,
     "metadata": {},
     "output_type": "execute_result"
    }
   ],
   "source": [
    "mod.fit().summary()"
   ]
  },
  {
   "cell_type": "markdown",
   "id": "f0c15114-51f4-4717-819b-8794e69371e5",
   "metadata": {},
   "source": [
    "## Coefficients, predicted y, residuals"
   ]
  },
  {
   "cell_type": "code",
   "execution_count": 11,
   "id": "c43b20e4-921c-4296-9047-c29985b39332",
   "metadata": {},
   "outputs": [
    {
     "data": {
      "text/plain": [
       "Intercept      14.231662\n",
       "weight_init     0.202282\n",
       "dtype: float64"
      ]
     },
     "execution_count": 11,
     "metadata": {},
     "output_type": "execute_result"
    }
   ],
   "source": [
    "mod.fit().params"
   ]
  },
  {
   "cell_type": "code",
   "execution_count": 12,
   "id": "6417919b-7e25-4067-bb99-1f4bb9fd944f",
   "metadata": {},
   "outputs": [
    {
     "data": {
      "text/plain": [
       "27.84008973"
      ]
     },
     "execution_count": 12,
     "metadata": {},
     "output_type": "execute_result"
    }
   ],
   "source": [
    "mod.endog[0]        #y, dependent variable"
   ]
  },
  {
   "cell_type": "code",
   "execution_count": 13,
   "id": "4576dcbc-47b3-4b65-9d90-18c88675b12e",
   "metadata": {},
   "outputs": [
    {
     "data": {
      "text/plain": [
       "28.290258364116703"
      ]
     },
     "execution_count": 13,
     "metadata": {},
     "output_type": "execute_result"
    }
   ],
   "source": [
    "(mod.exog @ mod.fit().params)[0]"
   ]
  },
  {
   "cell_type": "code",
   "execution_count": 14,
   "id": "48c4dda3-56f5-42e9-8a01-fce11440a415",
   "metadata": {},
   "outputs": [
    {
     "data": {
      "text/plain": [
       "28.290258364116703"
      ]
     },
     "execution_count": 14,
     "metadata": {},
     "output_type": "execute_result"
    }
   ],
   "source": [
    "mod.fit().fittedvalues[0]"
   ]
  },
  {
   "cell_type": "code",
   "execution_count": 15,
   "id": "7bde7808-bed3-42ac-b087-92803543bb62",
   "metadata": {},
   "outputs": [
    {
     "data": {
      "text/plain": [
       "0.4501686341167037"
      ]
     },
     "execution_count": 15,
     "metadata": {},
     "output_type": "execute_result"
    }
   ],
   "source": [
    "(mod.exog @ mod.fit().params - mod.endog)[0]    # X * beta - y, yhat - y, the residuals"
   ]
  },
  {
   "cell_type": "code",
   "execution_count": 16,
   "id": "8e76301f-27ae-458e-8097-f52af9f69e1e",
   "metadata": {},
   "outputs": [
    {
     "data": {
      "text/plain": [
       "-0.4501686341167037"
      ]
     },
     "execution_count": 16,
     "metadata": {},
     "output_type": "execute_result"
    }
   ],
   "source": [
    "mod.fit().resid[0]"
   ]
  },
  {
   "cell_type": "markdown",
   "id": "0228c1c3-97ef-483d-93e5-c05d8cc2f5e7",
   "metadata": {},
   "source": [
    "## SSR, sum of squared residuals"
   ]
  },
  {
   "cell_type": "code",
   "execution_count": 17,
   "id": "7b08f937-0ece-44b9-9e22-9b554a6236cb",
   "metadata": {},
   "outputs": [
    {
     "data": {
      "text/plain": [
       "355.1002568337898"
      ]
     },
     "execution_count": 17,
     "metadata": {},
     "output_type": "execute_result"
    }
   ],
   "source": [
    "(mod.exog @ mod.fit().params - mod.endog).T @ (mod.exog @ mod.fit().params - mod.endog)"
   ]
  },
  {
   "cell_type": "code",
   "execution_count": 18,
   "id": "4e66b54f-6763-4cc7-922a-179b582c99cf",
   "metadata": {},
   "outputs": [
    {
     "data": {
      "text/plain": [
       "355.1002568337898"
      ]
     },
     "execution_count": 18,
     "metadata": {},
     "output_type": "execute_result"
    }
   ],
   "source": [
    "mod.fit().ssr    #sum of squared residuals"
   ]
  },
  {
   "cell_type": "markdown",
   "id": "6fef8865-4783-4893-b35b-4d682dcdf8b5",
   "metadata": {},
   "source": [
    "## ESS, explained sum of squares"
   ]
  },
  {
   "cell_type": "code",
   "execution_count": 19,
   "id": "205d9e38-fca8-4295-9f07-8f7f945f4254",
   "metadata": {},
   "outputs": [
    {
     "data": {
      "text/plain": [
       "311.31674853115385"
      ]
     },
     "execution_count": 19,
     "metadata": {},
     "output_type": "execute_result"
    }
   ],
   "source": [
    "mod.fit().ess    #explained sum of squares"
   ]
  },
  {
   "cell_type": "code",
   "execution_count": 20,
   "id": "d7c7a02c-1e03-41a8-b52c-4e5c1b98519e",
   "metadata": {},
   "outputs": [
    {
     "data": {
      "text/plain": [
       "311.3167485311536"
      ]
     },
     "execution_count": 20,
     "metadata": {},
     "output_type": "execute_result"
    }
   ],
   "source": [
    "sum((mod.fit().fittedvalues - mod.endog.mean())**2)"
   ]
  },
  {
   "cell_type": "markdown",
   "id": "7529aeec-044c-4e04-9ccc-15405d7460a1",
   "metadata": {},
   "source": [
    "## TSS, total sum of squares"
   ]
  },
  {
   "cell_type": "code",
   "execution_count": 21,
   "id": "517bda6f-6523-4774-860e-00ac3b55f405",
   "metadata": {},
   "outputs": [
    {
     "data": {
      "text/plain": [
       "0.03505521037500259"
      ]
     },
     "execution_count": 21,
     "metadata": {},
     "output_type": "execute_result"
    }
   ],
   "source": [
    "(mod.endog - mod.endog.mean())[0]"
   ]
  },
  {
   "cell_type": "code",
   "execution_count": 22,
   "id": "1e5a6e0e-6659-43d7-a7df-78e5fb735370",
   "metadata": {},
   "outputs": [
    {
     "data": {
      "text/plain": [
       "0.001228867774435689"
      ]
     },
     "execution_count": 22,
     "metadata": {},
     "output_type": "execute_result"
    }
   ],
   "source": [
    "((mod.endog - mod.endog.mean())**2)[0]"
   ]
  },
  {
   "cell_type": "code",
   "execution_count": 23,
   "id": "1d6e822b-19a4-47c5-8c10-6770cd87b1c8",
   "metadata": {},
   "outputs": [
    {
     "data": {
      "text/plain": [
       "666.4170053649435"
      ]
     },
     "execution_count": 23,
     "metadata": {},
     "output_type": "execute_result"
    }
   ],
   "source": [
    "tss = sum((mod.endog - mod.endog.mean())**2)    #total sum of squares\n",
    "tss"
   ]
  },
  {
   "cell_type": "code",
   "execution_count": 24,
   "id": "4b11dd5e-cf51-43f1-98cc-2764b9deb7ca",
   "metadata": {},
   "outputs": [
    {
     "data": {
      "text/plain": [
       "666.4170053649436"
      ]
     },
     "execution_count": 24,
     "metadata": {},
     "output_type": "execute_result"
    }
   ],
   "source": [
    "mod.fit().centered_tss"
   ]
  },
  {
   "cell_type": "markdown",
   "id": "07619908-76db-4e6b-b317-1c1624e61c7b",
   "metadata": {},
   "source": [
    "## TSS = ESS + SSR"
   ]
  },
  {
   "cell_type": "code",
   "execution_count": 25,
   "id": "9bb7a204-4fbf-43b0-b79d-81a63aa9a021",
   "metadata": {},
   "outputs": [
    {
     "data": {
      "text/plain": [
       "666.4170053649436"
      ]
     },
     "execution_count": 25,
     "metadata": {},
     "output_type": "execute_result"
    }
   ],
   "source": [
    "mod.fit().ess + mod.fit().ssr      # ess + ssr = tss"
   ]
  },
  {
   "cell_type": "markdown",
   "id": "d891c709-fc10-4510-8602-4a54e8ccbbf3",
   "metadata": {},
   "source": [
    "## R^2"
   ]
  },
  {
   "cell_type": "code",
   "execution_count": 26,
   "id": "242ee7cb-360d-44c2-80c4-b37d72126916",
   "metadata": {},
   "outputs": [
    {
     "data": {
      "text/plain": [
       "0.46715006673737314"
      ]
     },
     "execution_count": 26,
     "metadata": {},
     "output_type": "execute_result"
    }
   ],
   "source": [
    "1 - mod.fit().ssr / tss"
   ]
  },
  {
   "cell_type": "code",
   "execution_count": 27,
   "id": "7d636872-591d-4714-95b9-d1818f5c166d",
   "metadata": {},
   "outputs": [
    {
     "data": {
      "text/plain": [
       "0.46715006673737325"
      ]
     },
     "execution_count": 27,
     "metadata": {},
     "output_type": "execute_result"
    }
   ],
   "source": [
    "mod.fit().rsquared"
   ]
  },
  {
   "cell_type": "markdown",
   "id": "74d65a73-2f07-4783-9294-3d6d38bddc63",
   "metadata": {},
   "source": [
    "## MSE, mean squared error"
   ]
  },
  {
   "cell_type": "code",
   "execution_count": 28,
   "id": "df87fea4-c0a5-49cd-ad51-2d5cf6e820ec",
   "metadata": {},
   "outputs": [
    {
     "data": {
      "text/plain": [
       "4.438753210422372"
      ]
     },
     "execution_count": 28,
     "metadata": {},
     "output_type": "execute_result"
    }
   ],
   "source": [
    "mse = mod.fit().ssr/mod.nobs        #mean squared error or mean squared deviation\n",
    "mse"
   ]
  },
  {
   "cell_type": "code",
   "execution_count": 29,
   "id": "21b3247b-fe6a-459c-8188-e58bcffba975",
   "metadata": {},
   "outputs": [
    {
     "data": {
      "text/plain": [
       "4.552567395304997"
      ]
     },
     "execution_count": 29,
     "metadata": {},
     "output_type": "execute_result"
    }
   ],
   "source": [
    "mod.fit().ssr/mod.fit().df_resid    #mean squared error with df instead of n"
   ]
  },
  {
   "cell_type": "code",
   "execution_count": 30,
   "id": "2659e664-86ef-438e-a617-bbfba8d96f16",
   "metadata": {},
   "outputs": [
    {
     "data": {
      "text/plain": [
       "4.552567395304997"
      ]
     },
     "execution_count": 30,
     "metadata": {},
     "output_type": "execute_result"
    }
   ],
   "source": [
    "mod.fit().mse_resid"
   ]
  },
  {
   "cell_type": "code",
   "execution_count": 31,
   "id": "d0f93851-50bd-4125-9355-f3b01f3c7853",
   "metadata": {},
   "outputs": [
    {
     "data": {
      "text/plain": [
       "4.552567395304997"
      ]
     },
     "execution_count": 31,
     "metadata": {},
     "output_type": "execute_result"
    }
   ],
   "source": [
    "mod.fit().scale"
   ]
  },
  {
   "cell_type": "markdown",
   "id": "a75ec5b1-46bc-4752-becd-bcb3a678ed6f",
   "metadata": {},
   "source": [
    "## MAE, mean absolute error"
   ]
  },
  {
   "cell_type": "code",
   "execution_count": 32,
   "id": "f1269353-df5f-4c57-ae85-50f495bdad18",
   "metadata": {},
   "outputs": [
    {
     "data": {
      "text/plain": [
       "1.715715089918183"
      ]
     },
     "execution_count": 32,
     "metadata": {},
     "output_type": "execute_result"
    }
   ],
   "source": [
    "mae = sum(abs(mod.fit().resid))/mod.nobs   #mean absolute error\n",
    "mae"
   ]
  },
  {
   "cell_type": "markdown",
   "id": "055c5ec7-0eed-40e1-a4be-97b54c086d66",
   "metadata": {},
   "source": [
    "## SEE, standard error of the estimate = RMSE, root mean squared error (df)"
   ]
  },
  {
   "cell_type": "code",
   "execution_count": 33,
   "id": "78d225a3-fcd5-4833-9c34-3d79fab1607e",
   "metadata": {},
   "outputs": [
    {
     "data": {
      "text/plain": [
       "2.1336746226416525"
      ]
     },
     "execution_count": 33,
     "metadata": {},
     "output_type": "execute_result"
    }
   ],
   "source": [
    "(mod.fit().ssr / mod.fit().df_resid)**0.5  #standard error of the estimate/regression, also root mean squared error, rmse"
   ]
  },
  {
   "cell_type": "code",
   "execution_count": 34,
   "id": "3aae5fd4-7b37-4d07-85f2-e82f104efd60",
   "metadata": {},
   "outputs": [
    {
     "data": {
      "text/plain": [
       "2.1336746226416525"
      ]
     },
     "execution_count": 34,
     "metadata": {},
     "output_type": "execute_result"
    }
   ],
   "source": [
    "see = mod.fit().scale**0.5\n",
    "see"
   ]
  },
  {
   "cell_type": "markdown",
   "id": "51797c36-a354-4fca-954b-fa73e44e998e",
   "metadata": {},
   "source": [
    "## standard errors of coefficients, BSE"
   ]
  },
  {
   "cell_type": "code",
   "execution_count": 35,
   "id": "32e296e9-a2c9-40d6-9448-01b21fdb5a2e",
   "metadata": {},
   "outputs": [
    {
     "data": {
      "text/plain": [
       "Intercept      1.658645\n",
       "weight_init    0.024462\n",
       "dtype: float64"
      ]
     },
     "execution_count": 35,
     "metadata": {},
     "output_type": "execute_result"
    }
   ],
   "source": [
    "mod.fit().bse                              #standard errors of beta/ of coefficients"
   ]
  },
  {
   "cell_type": "markdown",
   "id": "ca8ca1eb-aae8-4615-95ee-eed4356fd300",
   "metadata": {},
   "source": [
    "## T-test statistics for coefficients and their p-values\n",
    "These are one-sample t-tests where the H0 hypothesis is that the coefficients = 0,\n",
    "which means no contribution of the coefficient. Since this is a one-sample t-test\n",
    "compared against 0, the test statistic is just the coefficient over its standard error."
   ]
  },
  {
   "cell_type": "code",
   "execution_count": 42,
   "id": "93fa81dd-b56a-4d76-a4cb-3e7127c8f44b",
   "metadata": {},
   "outputs": [
    {
     "data": {
      "text/plain": [
       "Intercept      8.580292\n",
       "weight_init    8.269382\n",
       "dtype: float64"
      ]
     },
     "execution_count": 42,
     "metadata": {},
     "output_type": "execute_result"
    }
   ],
   "source": [
    "mod.fit().params / mod.fit().bse"
   ]
  },
  {
   "cell_type": "code",
   "execution_count": 46,
   "id": "77f83176-ed82-47f2-adae-c0fa60a41504",
   "metadata": {},
   "outputs": [
    {
     "data": {
      "text/plain": [
       "Intercept      8.580292\n",
       "weight_init    8.269382\n",
       "dtype: float64"
      ]
     },
     "execution_count": 46,
     "metadata": {},
     "output_type": "execute_result"
    }
   ],
   "source": [
    "mod.fit().tvalues"
   ]
  },
  {
   "cell_type": "code",
   "execution_count": 36,
   "id": "3c7960fa-9b47-43fb-8ce6-ab34b72624f0",
   "metadata": {},
   "outputs": [
    {
     "data": {
      "text/plain": [
       "Intercept      7.044168e-13\n",
       "weight_init    2.827310e-12\n",
       "dtype: float64"
      ]
     },
     "execution_count": 36,
     "metadata": {},
     "output_type": "execute_result"
    }
   ],
   "source": [
    "mod.fit().pvalues"
   ]
  },
  {
   "cell_type": "markdown",
   "id": "5a35a94e-c12f-45e3-9f1f-c939441b11b5",
   "metadata": {},
   "source": [
    "## get_prediction().summary_frame() - obtain conficence intervals, etc"
   ]
  },
  {
   "cell_type": "code",
   "execution_count": 37,
   "id": "559bcaa9-47f4-4bea-992e-3d0ec392fcf2",
   "metadata": {},
   "outputs": [
    {
     "name": "stdout",
     "output_type": "stream",
     "text": [
      "['__class__', '__delattr__', '__dict__', '__dir__', '__doc__', '__eq__', '__format__', '__ge__', '__getattribute__', '__gt__', '__hash__', '__init__', '__init_subclass__', '__le__', '__lt__', '__module__', '__ne__', '__new__', '__reduce__', '__reduce_ex__', '__repr__', '__setattr__', '__sizeof__', '__str__', '__subclasshook__', '__weakref__', 'conf_int', 'df', 'dist', 'dist_args', 'predicted', 'predicted_mean', 'row_labels', 'se', 'se_mean', 'se_obs', 'summary_frame', 'var_pred', 'var_pred_mean', 'var_resid']\n"
     ]
    }
   ],
   "source": [
    "print(dir(mod.fit().get_prediction()))"
   ]
  },
  {
   "cell_type": "code",
   "execution_count": 38,
   "id": "c16fa799-3bd8-4948-865d-248d11063dc8",
   "metadata": {},
   "outputs": [
    {
     "data": {
      "text/html": [
       "<div>\n",
       "<style scoped>\n",
       "    .dataframe tbody tr th:only-of-type {\n",
       "        vertical-align: middle;\n",
       "    }\n",
       "\n",
       "    .dataframe tbody tr th {\n",
       "        vertical-align: top;\n",
       "    }\n",
       "\n",
       "    .dataframe thead th {\n",
       "        text-align: right;\n",
       "    }\n",
       "</style>\n",
       "<table border=\"1\" class=\"dataframe\">\n",
       "  <thead>\n",
       "    <tr style=\"text-align: right;\">\n",
       "      <th></th>\n",
       "      <th>mean</th>\n",
       "      <th>mean_se</th>\n",
       "      <th>mean_ci_lower</th>\n",
       "      <th>mean_ci_upper</th>\n",
       "      <th>obs_ci_lower</th>\n",
       "      <th>obs_ci_upper</th>\n",
       "    </tr>\n",
       "  </thead>\n",
       "  <tbody>\n",
       "    <tr>\n",
       "      <th>0</th>\n",
       "      <td>28.290258</td>\n",
       "      <td>0.245663</td>\n",
       "      <td>27.801182</td>\n",
       "      <td>28.779335</td>\n",
       "      <td>24.014376</td>\n",
       "      <td>32.566141</td>\n",
       "    </tr>\n",
       "    <tr>\n",
       "      <th>1</th>\n",
       "      <td>28.391399</td>\n",
       "      <td>0.248867</td>\n",
       "      <td>27.895942</td>\n",
       "      <td>28.886856</td>\n",
       "      <td>24.114783</td>\n",
       "      <td>32.668016</td>\n",
       "    </tr>\n",
       "    <tr>\n",
       "      <th>2</th>\n",
       "      <td>27.744097</td>\n",
       "      <td>0.238666</td>\n",
       "      <td>27.268950</td>\n",
       "      <td>28.219244</td>\n",
       "      <td>23.469786</td>\n",
       "      <td>32.018409</td>\n",
       "    </tr>\n",
       "    <tr>\n",
       "      <th>3</th>\n",
       "      <td>26.995654</td>\n",
       "      <td>0.257851</td>\n",
       "      <td>26.482313</td>\n",
       "      <td>27.508995</td>\n",
       "      <td>22.716928</td>\n",
       "      <td>31.274379</td>\n",
       "    </tr>\n",
       "    <tr>\n",
       "      <th>4</th>\n",
       "      <td>25.943788</td>\n",
       "      <td>0.327974</td>\n",
       "      <td>25.290842</td>\n",
       "      <td>26.596733</td>\n",
       "      <td>21.646078</td>\n",
       "      <td>30.241498</td>\n",
       "    </tr>\n",
       "    <tr>\n",
       "      <th>...</th>\n",
       "      <td>...</td>\n",
       "      <td>...</td>\n",
       "      <td>...</td>\n",
       "      <td>...</td>\n",
       "      <td>...</td>\n",
       "      <td>...</td>\n",
       "    </tr>\n",
       "    <tr>\n",
       "      <th>75</th>\n",
       "      <td>29.200527</td>\n",
       "      <td>0.292207</td>\n",
       "      <td>28.618787</td>\n",
       "      <td>29.782267</td>\n",
       "      <td>24.913058</td>\n",
       "      <td>33.487997</td>\n",
       "    </tr>\n",
       "    <tr>\n",
       "      <th>76</th>\n",
       "      <td>28.391399</td>\n",
       "      <td>0.248867</td>\n",
       "      <td>27.895942</td>\n",
       "      <td>28.886856</td>\n",
       "      <td>24.114783</td>\n",
       "      <td>32.668016</td>\n",
       "    </tr>\n",
       "    <tr>\n",
       "      <th>77</th>\n",
       "      <td>27.986835</td>\n",
       "      <td>0.239563</td>\n",
       "      <td>27.509902</td>\n",
       "      <td>28.463769</td>\n",
       "      <td>23.712325</td>\n",
       "      <td>32.261346</td>\n",
       "    </tr>\n",
       "    <tr>\n",
       "      <th>78</th>\n",
       "      <td>27.784553</td>\n",
       "      <td>0.238565</td>\n",
       "      <td>27.309607</td>\n",
       "      <td>28.259500</td>\n",
       "      <td>23.510264</td>\n",
       "      <td>32.058843</td>\n",
       "    </tr>\n",
       "    <tr>\n",
       "      <th>79</th>\n",
       "      <td>28.391399</td>\n",
       "      <td>0.248867</td>\n",
       "      <td>27.895942</td>\n",
       "      <td>28.886856</td>\n",
       "      <td>24.114783</td>\n",
       "      <td>32.668016</td>\n",
       "    </tr>\n",
       "  </tbody>\n",
       "</table>\n",
       "<p>80 rows × 6 columns</p>\n",
       "</div>"
      ],
      "text/plain": [
       "         mean   mean_se  mean_ci_lower  mean_ci_upper  obs_ci_lower  \\\n",
       "0   28.290258  0.245663      27.801182      28.779335     24.014376   \n",
       "1   28.391399  0.248867      27.895942      28.886856     24.114783   \n",
       "2   27.744097  0.238666      27.268950      28.219244     23.469786   \n",
       "3   26.995654  0.257851      26.482313      27.508995     22.716928   \n",
       "4   25.943788  0.327974      25.290842      26.596733     21.646078   \n",
       "..        ...       ...            ...            ...           ...   \n",
       "75  29.200527  0.292207      28.618787      29.782267     24.913058   \n",
       "76  28.391399  0.248867      27.895942      28.886856     24.114783   \n",
       "77  27.986835  0.239563      27.509902      28.463769     23.712325   \n",
       "78  27.784553  0.238565      27.309607      28.259500     23.510264   \n",
       "79  28.391399  0.248867      27.895942      28.886856     24.114783   \n",
       "\n",
       "    obs_ci_upper  \n",
       "0      32.566141  \n",
       "1      32.668016  \n",
       "2      32.018409  \n",
       "3      31.274379  \n",
       "4      30.241498  \n",
       "..           ...  \n",
       "75     33.487997  \n",
       "76     32.668016  \n",
       "77     32.261346  \n",
       "78     32.058843  \n",
       "79     32.668016  \n",
       "\n",
       "[80 rows x 6 columns]"
      ]
     },
     "execution_count": 38,
     "metadata": {},
     "output_type": "execute_result"
    }
   ],
   "source": [
    "mod.fit().get_prediction().summary_frame()"
   ]
  },
  {
   "cell_type": "code",
   "execution_count": 67,
   "id": "bf7d19d4-c547-4893-8700-f1a102f75564",
   "metadata": {},
   "outputs": [
    {
     "data": {
      "text/plain": [
       "Index(['mean', 'mean_se', 'mean_ci_lower', 'mean_ci_upper', 'obs_ci_lower',\n",
       "       'obs_ci_upper'],\n",
       "      dtype='object')"
      ]
     },
     "execution_count": 67,
     "metadata": {},
     "output_type": "execute_result"
    }
   ],
   "source": [
    "mod.fit().get_prediction().summary_frame().columns"
   ]
  },
  {
   "cell_type": "code",
   "execution_count": 113,
   "id": "f2fd2d44-2294-48db-a1f2-d1b753092a12",
   "metadata": {},
   "outputs": [
    {
     "data": {
      "image/png": "[encoded data removed]",
      "text/plain": [
       "<Figure size 1400x600 with 1 Axes>"
      ]
     },
     "metadata": {},
     "output_type": "display_data"
    }
   ],
   "source": [
    "fig, ax = plt.subplots(figsize=(14, 6))\n",
    "ax.plot(m.weight_init, mod.endog, 'o', markersize = 3, label = 'data')\n",
    "#ax.plot(m.weight_init, mod.fit().fittedvalues, 'd--', linewidth = 0.5, markersize = 3, label = 'model')\n",
    "ax.plot(m.weight_init, mod.fit().get_prediction().summary_frame().drop(columns = 'mean_se'), '-', linewidth = 0.1, markersize = 3, label = mod.fit().get_prediction().summary_frame().drop(columns = 'mean_se').columns)\n",
    "ax.plot(m.weight_init, mod.fit().get_prediction().summary_frame()['mean']-mod.fit().get_prediction().summary_frame()['mean_se']*1.96, 'o', markersize = 1, color = 'red')\n",
    "ax.legend(loc=\"best\")\n",
    "plt.show()"
   ]
  },
  {
   "cell_type": "code",
   "execution_count": null,
   "id": "cc0560b8-2dfa-4b14-b526-1891a775058b",
   "metadata": {},
   "outputs": [],
   "source": []
  }
 ],
 "metadata": {
  "kernelspec": {
   "display_name": "venvstats",
   "language": "python",
   "name": "venvstats"
  },
  "language_info": {
   "codemirror_mode": {
    "name": "ipython",
    "version": 3
   },
   "file_extension": ".py",
   "mimetype": "text/x-python",
   "name": "python",
   "nbconvert_exporter": "python",
   "pygments_lexer": "ipython3",
   "version": "3.9.13"
  }
 },
 "nbformat": 4,
 "nbformat_minor": 5
}
