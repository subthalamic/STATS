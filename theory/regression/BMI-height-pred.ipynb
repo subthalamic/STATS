{
 "cells": [
  {
   "cell_type": "code",
   "execution_count": 1,
   "id": "1543bedd-f26b-4e5c-a942-de36302f11e6",
   "metadata": {},
   "outputs": [],
   "source": [
    "import pandas as pd\n",
    "import numpy as np\n",
    "import matplotlib.pyplot as plt\n",
    "from scipy import stats as st\n",
    "import statsmodels.api as sm\n",
    "import statsmodels.formula.api as smf"
   ]
  },
  {
   "cell_type": "code",
   "execution_count": 2,
   "id": "492109be-fc34-4e9d-a1dc-d49156b7a8dc",
   "metadata": {},
   "outputs": [],
   "source": [
    "m = pd.read_csv(\"measurements.csv\")"
   ]
  },
  {
   "cell_type": "code",
   "execution_count": 3,
   "id": "9ed6cbee-8de9-48b5-be26-6d8d2f4cac47",
   "metadata": {},
   "outputs": [
    {
     "data": {
      "text/html": [
       "<table class=\"simpletable\">\n",
       "<caption>OLS Regression Results</caption>\n",
       "<tr>\n",
       "  <th>Dep. Variable:</th>        <td>BMI_init</td>     <th>  R-squared (uncentered):</th>      <td>   0.986</td>\n",
       "</tr>\n",
       "<tr>\n",
       "  <th>Model:</th>                   <td>OLS</td>       <th>  Adj. R-squared (uncentered):</th> <td>   0.986</td>\n",
       "</tr>\n",
       "<tr>\n",
       "  <th>Method:</th>             <td>Least Squares</td>  <th>  F-statistic:       </th>          <td>   5571.</td>\n",
       "</tr>\n",
       "<tr>\n",
       "  <th>Date:</th>             <td>Fri, 12 Apr 2024</td> <th>  Prob (F-statistic):</th>          <td>5.08e-75</td>\n",
       "</tr>\n",
       "<tr>\n",
       "  <th>Time:</th>                 <td>19:00:36</td>     <th>  Log-Likelihood:    </th>          <td> -209.16</td>\n",
       "</tr>\n",
       "<tr>\n",
       "  <th>No. Observations:</th>      <td>    80</td>      <th>  AIC:               </th>          <td>   420.3</td>\n",
       "</tr>\n",
       "<tr>\n",
       "  <th>Df Residuals:</th>          <td>    79</td>      <th>  BIC:               </th>          <td>   422.7</td>\n",
       "</tr>\n",
       "<tr>\n",
       "  <th>Df Model:</th>              <td>     1</td>      <th>                     </th>              <td> </td>   \n",
       "</tr>\n",
       "<tr>\n",
       "  <th>Covariance Type:</th>      <td>nonrobust</td>    <th>                     </th>              <td> </td>   \n",
       "</tr>\n",
       "</table>\n",
       "<table class=\"simpletable\">\n",
       "<tr>\n",
       "       <td></td>          <th>coef</th>     <th>std err</th>      <th>t</th>      <th>P>|t|</th>  <th>[0.025</th>    <th>0.975]</th>  \n",
       "</tr>\n",
       "<tr>\n",
       "  <th>height_init</th> <td>    0.1786</td> <td>    0.002</td> <td>   74.638</td> <td> 0.000</td> <td>    0.174</td> <td>    0.183</td>\n",
       "</tr>\n",
       "</table>\n",
       "<table class=\"simpletable\">\n",
       "<tr>\n",
       "  <th>Omnibus:</th>       <td> 0.719</td> <th>  Durbin-Watson:     </th> <td>   1.101</td>\n",
       "</tr>\n",
       "<tr>\n",
       "  <th>Prob(Omnibus):</th> <td> 0.698</td> <th>  Jarque-Bera (JB):  </th> <td>   0.621</td>\n",
       "</tr>\n",
       "<tr>\n",
       "  <th>Skew:</th>          <td> 0.212</td> <th>  Prob(JB):          </th> <td>   0.733</td>\n",
       "</tr>\n",
       "<tr>\n",
       "  <th>Kurtosis:</th>      <td> 2.920</td> <th>  Cond. No.          </th> <td>    1.00</td>\n",
       "</tr>\n",
       "</table><br/><br/>Notes:<br/>[1] R² is computed without centering (uncentered) since the model does not contain a constant.<br/>[2] Standard Errors assume that the covariance matrix of the errors is correctly specified."
      ],
      "text/latex": [
       "\\begin{center}\n",
       "\\begin{tabular}{lclc}\n",
       "\\toprule\n",
       "\\textbf{Dep. Variable:}    &    BMI\\_init     & \\textbf{  R-squared (uncentered):}      &     0.986   \\\\\n",
       "\\textbf{Model:}            &       OLS        & \\textbf{  Adj. R-squared (uncentered):} &     0.986   \\\\\n",
       "\\textbf{Method:}           &  Least Squares   & \\textbf{  F-statistic:       }          &     5571.   \\\\\n",
       "\\textbf{Date:}             & Fri, 12 Apr 2024 & \\textbf{  Prob (F-statistic):}          &  5.08e-75   \\\\\n",
       "\\textbf{Time:}             &     19:00:36     & \\textbf{  Log-Likelihood:    }          &   -209.16   \\\\\n",
       "\\textbf{No. Observations:} &          80      & \\textbf{  AIC:               }          &     420.3   \\\\\n",
       "\\textbf{Df Residuals:}     &          79      & \\textbf{  BIC:               }          &     422.7   \\\\\n",
       "\\textbf{Df Model:}         &           1      & \\textbf{                     }          &             \\\\\n",
       "\\textbf{Covariance Type:}  &    nonrobust     & \\textbf{                     }          &             \\\\\n",
       "\\bottomrule\n",
       "\\end{tabular}\n",
       "\\begin{tabular}{lcccccc}\n",
       "                      & \\textbf{coef} & \\textbf{std err} & \\textbf{t} & \\textbf{P$> |$t$|$} & \\textbf{[0.025} & \\textbf{0.975]}  \\\\\n",
       "\\midrule\n",
       "\\textbf{height\\_init} &       0.1786  &        0.002     &    74.638  &         0.000        &        0.174    &        0.183     \\\\\n",
       "\\bottomrule\n",
       "\\end{tabular}\n",
       "\\begin{tabular}{lclc}\n",
       "\\textbf{Omnibus:}       &  0.719 & \\textbf{  Durbin-Watson:     } &    1.101  \\\\\n",
       "\\textbf{Prob(Omnibus):} &  0.698 & \\textbf{  Jarque-Bera (JB):  } &    0.621  \\\\\n",
       "\\textbf{Skew:}          &  0.212 & \\textbf{  Prob(JB):          } &    0.733  \\\\\n",
       "\\textbf{Kurtosis:}      &  2.920 & \\textbf{  Cond. No.          } &     1.00  \\\\\n",
       "\\bottomrule\n",
       "\\end{tabular}\n",
       "%\\caption{OLS Regression Results}\n",
       "\\end{center}\n",
       "\n",
       "Notes: \\newline\n",
       " [1] R² is computed without centering (uncentered) since the model does not contain a constant. \\newline\n",
       " [2] Standard Errors assume that the covariance matrix of the errors is correctly specified."
      ],
      "text/plain": [
       "<class 'statsmodels.iolib.summary.Summary'>\n",
       "\"\"\"\n",
       "                                 OLS Regression Results                                \n",
       "=======================================================================================\n",
       "Dep. Variable:               BMI_init   R-squared (uncentered):                   0.986\n",
       "Model:                            OLS   Adj. R-squared (uncentered):              0.986\n",
       "Method:                 Least Squares   F-statistic:                              5571.\n",
       "Date:                Fri, 12 Apr 2024   Prob (F-statistic):                    5.08e-75\n",
       "Time:                        19:00:36   Log-Likelihood:                         -209.16\n",
       "No. Observations:                  80   AIC:                                      420.3\n",
       "Df Residuals:                      79   BIC:                                      422.7\n",
       "Df Model:                           1                                                  \n",
       "Covariance Type:            nonrobust                                                  \n",
       "===============================================================================\n",
       "                  coef    std err          t      P>|t|      [0.025      0.975]\n",
       "-------------------------------------------------------------------------------\n",
       "height_init     0.1786      0.002     74.638      0.000       0.174       0.183\n",
       "==============================================================================\n",
       "Omnibus:                        0.719   Durbin-Watson:                   1.101\n",
       "Prob(Omnibus):                  0.698   Jarque-Bera (JB):                0.621\n",
       "Skew:                           0.212   Prob(JB):                        0.733\n",
       "Kurtosis:                       2.920   Cond. No.                         1.00\n",
       "==============================================================================\n",
       "\n",
       "Notes:\n",
       "[1] R² is computed without centering (uncentered) since the model does not contain a constant.\n",
       "[2] Standard Errors assume that the covariance matrix of the errors is correctly specified.\n",
       "\"\"\""
      ]
     },
     "execution_count": 3,
     "metadata": {},
     "output_type": "execute_result"
    }
   ],
   "source": [
    "mod = sm.OLS(m.BMI_init, m.height_init)\n",
    "mod.fit().summary()"
   ]
  },
  {
   "cell_type": "code",
   "execution_count": 4,
   "id": "c224bed5-c962-44f2-ac58-dbde6f7d532b",
   "metadata": {},
   "outputs": [],
   "source": [
    "modct = sm.OLS(m.BMI_init, sm.add_constant((m.height_init)**(-0.5)))"
   ]
  },
  {
   "cell_type": "code",
   "execution_count": 5,
   "id": "7e7d2aa8-1bdd-43a2-a512-620842685c4a",
   "metadata": {},
   "outputs": [
    {
     "data": {
      "text/html": [
       "<table class=\"simpletable\">\n",
       "<caption>OLS Regression Results</caption>\n",
       "<tr>\n",
       "  <th>Dep. Variable:</th>        <td>BMI_init</td>     <th>  R-squared:         </th> <td>   0.002</td>\n",
       "</tr>\n",
       "<tr>\n",
       "  <th>Model:</th>                   <td>OLS</td>       <th>  Adj. R-squared:    </th> <td>  -0.011</td>\n",
       "</tr>\n",
       "<tr>\n",
       "  <th>Method:</th>             <td>Least Squares</td>  <th>  F-statistic:       </th> <td>  0.1273</td>\n",
       "</tr>\n",
       "<tr>\n",
       "  <th>Date:</th>             <td>Fri, 12 Apr 2024</td> <th>  Prob (F-statistic):</th>  <td> 0.722</td> \n",
       "</tr>\n",
       "<tr>\n",
       "  <th>Time:</th>                 <td>19:00:37</td>     <th>  Log-Likelihood:    </th> <td> -198.25</td>\n",
       "</tr>\n",
       "<tr>\n",
       "  <th>No. Observations:</th>      <td>    80</td>      <th>  AIC:               </th> <td>   400.5</td>\n",
       "</tr>\n",
       "<tr>\n",
       "  <th>Df Residuals:</th>          <td>    78</td>      <th>  BIC:               </th> <td>   405.3</td>\n",
       "</tr>\n",
       "<tr>\n",
       "  <th>Df Model:</th>              <td>     1</td>      <th>                     </th>     <td> </td>   \n",
       "</tr>\n",
       "<tr>\n",
       "  <th>Covariance Type:</th>      <td>nonrobust</td>    <th>                     </th>     <td> </td>   \n",
       "</tr>\n",
       "</table>\n",
       "<table class=\"simpletable\">\n",
       "<tr>\n",
       "       <td></td>          <th>coef</th>     <th>std err</th>      <th>t</th>      <th>P>|t|</th>  <th>[0.025</th>    <th>0.975]</th>  \n",
       "</tr>\n",
       "<tr>\n",
       "  <th>const</th>       <td>   23.5395</td> <td>   11.959</td> <td>    1.968</td> <td> 0.053</td> <td>   -0.268</td> <td>   47.347</td>\n",
       "</tr>\n",
       "<tr>\n",
       "  <th>height_init</th> <td>   53.0750</td> <td>  148.742</td> <td>    0.357</td> <td> 0.722</td> <td> -243.048</td> <td>  349.198</td>\n",
       "</tr>\n",
       "</table>\n",
       "<table class=\"simpletable\">\n",
       "<tr>\n",
       "  <th>Omnibus:</th>       <td> 2.402</td> <th>  Durbin-Watson:     </th> <td>   1.669</td>\n",
       "</tr>\n",
       "<tr>\n",
       "  <th>Prob(Omnibus):</th> <td> 0.301</td> <th>  Jarque-Bera (JB):  </th> <td>   1.898</td>\n",
       "</tr>\n",
       "<tr>\n",
       "  <th>Skew:</th>          <td> 0.371</td> <th>  Prob(JB):          </th> <td>   0.387</td>\n",
       "</tr>\n",
       "<tr>\n",
       "  <th>Kurtosis:</th>      <td> 3.137</td> <th>  Cond. No.          </th> <td>    458.</td>\n",
       "</tr>\n",
       "</table><br/><br/>Notes:<br/>[1] Standard Errors assume that the covariance matrix of the errors is correctly specified."
      ],
      "text/latex": [
       "\\begin{center}\n",
       "\\begin{tabular}{lclc}\n",
       "\\toprule\n",
       "\\textbf{Dep. Variable:}    &    BMI\\_init     & \\textbf{  R-squared:         } &     0.002   \\\\\n",
       "\\textbf{Model:}            &       OLS        & \\textbf{  Adj. R-squared:    } &    -0.011   \\\\\n",
       "\\textbf{Method:}           &  Least Squares   & \\textbf{  F-statistic:       } &    0.1273   \\\\\n",
       "\\textbf{Date:}             & Fri, 12 Apr 2024 & \\textbf{  Prob (F-statistic):} &    0.722    \\\\\n",
       "\\textbf{Time:}             &     19:00:37     & \\textbf{  Log-Likelihood:    } &   -198.25   \\\\\n",
       "\\textbf{No. Observations:} &          80      & \\textbf{  AIC:               } &     400.5   \\\\\n",
       "\\textbf{Df Residuals:}     &          78      & \\textbf{  BIC:               } &     405.3   \\\\\n",
       "\\textbf{Df Model:}         &           1      & \\textbf{                     } &             \\\\\n",
       "\\textbf{Covariance Type:}  &    nonrobust     & \\textbf{                     } &             \\\\\n",
       "\\bottomrule\n",
       "\\end{tabular}\n",
       "\\begin{tabular}{lcccccc}\n",
       "                      & \\textbf{coef} & \\textbf{std err} & \\textbf{t} & \\textbf{P$> |$t$|$} & \\textbf{[0.025} & \\textbf{0.975]}  \\\\\n",
       "\\midrule\n",
       "\\textbf{const}        &      23.5395  &       11.959     &     1.968  &         0.053        &       -0.268    &       47.347     \\\\\n",
       "\\textbf{height\\_init} &      53.0750  &      148.742     &     0.357  &         0.722        &     -243.048    &      349.198     \\\\\n",
       "\\bottomrule\n",
       "\\end{tabular}\n",
       "\\begin{tabular}{lclc}\n",
       "\\textbf{Omnibus:}       &  2.402 & \\textbf{  Durbin-Watson:     } &    1.669  \\\\\n",
       "\\textbf{Prob(Omnibus):} &  0.301 & \\textbf{  Jarque-Bera (JB):  } &    1.898  \\\\\n",
       "\\textbf{Skew:}          &  0.371 & \\textbf{  Prob(JB):          } &    0.387  \\\\\n",
       "\\textbf{Kurtosis:}      &  3.137 & \\textbf{  Cond. No.          } &     458.  \\\\\n",
       "\\bottomrule\n",
       "\\end{tabular}\n",
       "%\\caption{OLS Regression Results}\n",
       "\\end{center}\n",
       "\n",
       "Notes: \\newline\n",
       " [1] Standard Errors assume that the covariance matrix of the errors is correctly specified."
      ],
      "text/plain": [
       "<class 'statsmodels.iolib.summary.Summary'>\n",
       "\"\"\"\n",
       "                            OLS Regression Results                            \n",
       "==============================================================================\n",
       "Dep. Variable:               BMI_init   R-squared:                       0.002\n",
       "Model:                            OLS   Adj. R-squared:                 -0.011\n",
       "Method:                 Least Squares   F-statistic:                    0.1273\n",
       "Date:                Fri, 12 Apr 2024   Prob (F-statistic):              0.722\n",
       "Time:                        19:00:37   Log-Likelihood:                -198.25\n",
       "No. Observations:                  80   AIC:                             400.5\n",
       "Df Residuals:                      78   BIC:                             405.3\n",
       "Df Model:                           1                                         \n",
       "Covariance Type:            nonrobust                                         \n",
       "===============================================================================\n",
       "                  coef    std err          t      P>|t|      [0.025      0.975]\n",
       "-------------------------------------------------------------------------------\n",
       "const          23.5395     11.959      1.968      0.053      -0.268      47.347\n",
       "height_init    53.0750    148.742      0.357      0.722    -243.048     349.198\n",
       "==============================================================================\n",
       "Omnibus:                        2.402   Durbin-Watson:                   1.669\n",
       "Prob(Omnibus):                  0.301   Jarque-Bera (JB):                1.898\n",
       "Skew:                           0.371   Prob(JB):                        0.387\n",
       "Kurtosis:                       3.137   Cond. No.                         458.\n",
       "==============================================================================\n",
       "\n",
       "Notes:\n",
       "[1] Standard Errors assume that the covariance matrix of the errors is correctly specified.\n",
       "\"\"\""
      ]
     },
     "execution_count": 5,
     "metadata": {},
     "output_type": "execute_result"
    }
   ],
   "source": [
    "modct.fit().summary()"
   ]
  },
  {
   "cell_type": "code",
   "execution_count": 6,
   "id": "67681611-0580-450e-89c6-c4601339c624",
   "metadata": {},
   "outputs": [],
   "source": [
    "mod_inv = sm.OLS(m.BMI_init, m.height_init**(-0.5)) \n",
    "#sm.add_constant(m.height_init**(-0.5)))          tried using constant first time but the model was very poor"
   ]
  },
  {
   "cell_type": "code",
   "execution_count": 7,
   "id": "21552f1a-ed0f-41aa-9027-349d017e19d7",
   "metadata": {},
   "outputs": [
    {
     "data": {
      "text/html": [
       "<table class=\"simpletable\">\n",
       "<caption>OLS Regression Results</caption>\n",
       "<tr>\n",
       "  <th>Dep. Variable:</th>        <td>BMI_init</td>     <th>  R-squared (uncentered):</th>      <td>   0.989</td>\n",
       "</tr>\n",
       "<tr>\n",
       "  <th>Model:</th>                   <td>OLS</td>       <th>  Adj. R-squared (uncentered):</th> <td>   0.989</td>\n",
       "</tr>\n",
       "<tr>\n",
       "  <th>Method:</th>             <td>Least Squares</td>  <th>  F-statistic:       </th>          <td>   6993.</td>\n",
       "</tr>\n",
       "<tr>\n",
       "  <th>Date:</th>             <td>Fri, 12 Apr 2024</td> <th>  Prob (F-statistic):</th>          <td>7.15e-79</td>\n",
       "</tr>\n",
       "<tr>\n",
       "  <th>Time:</th>                 <td>19:00:37</td>     <th>  Log-Likelihood:    </th>          <td> -200.18</td>\n",
       "</tr>\n",
       "<tr>\n",
       "  <th>No. Observations:</th>      <td>    80</td>      <th>  AIC:               </th>          <td>   402.4</td>\n",
       "</tr>\n",
       "<tr>\n",
       "  <th>Df Residuals:</th>          <td>    79</td>      <th>  BIC:               </th>          <td>   404.8</td>\n",
       "</tr>\n",
       "<tr>\n",
       "  <th>Df Model:</th>              <td>     1</td>      <th>                     </th>              <td> </td>   \n",
       "</tr>\n",
       "<tr>\n",
       "  <th>Covariance Type:</th>      <td>nonrobust</td>    <th>                     </th>              <td> </td>   \n",
       "</tr>\n",
       "</table>\n",
       "<table class=\"simpletable\">\n",
       "<tr>\n",
       "       <td></td>          <th>coef</th>     <th>std err</th>      <th>t</th>      <th>P>|t|</th>  <th>[0.025</th>    <th>0.975]</th>  \n",
       "</tr>\n",
       "<tr>\n",
       "  <th>height_init</th> <td>  345.7515</td> <td>    4.135</td> <td>   83.623</td> <td> 0.000</td> <td>  337.522</td> <td>  353.981</td>\n",
       "</tr>\n",
       "</table>\n",
       "<table class=\"simpletable\">\n",
       "<tr>\n",
       "  <th>Omnibus:</th>       <td> 2.010</td> <th>  Durbin-Watson:     </th> <td>   1.914</td>\n",
       "</tr>\n",
       "<tr>\n",
       "  <th>Prob(Omnibus):</th> <td> 0.366</td> <th>  Jarque-Bera (JB):  </th> <td>   1.623</td>\n",
       "</tr>\n",
       "<tr>\n",
       "  <th>Skew:</th>          <td> 0.348</td> <th>  Prob(JB):          </th> <td>   0.444</td>\n",
       "</tr>\n",
       "<tr>\n",
       "  <th>Kurtosis:</th>      <td> 3.059</td> <th>  Cond. No.          </th> <td>    1.00</td>\n",
       "</tr>\n",
       "</table><br/><br/>Notes:<br/>[1] R² is computed without centering (uncentered) since the model does not contain a constant.<br/>[2] Standard Errors assume that the covariance matrix of the errors is correctly specified."
      ],
      "text/latex": [
       "\\begin{center}\n",
       "\\begin{tabular}{lclc}\n",
       "\\toprule\n",
       "\\textbf{Dep. Variable:}    &    BMI\\_init     & \\textbf{  R-squared (uncentered):}      &     0.989   \\\\\n",
       "\\textbf{Model:}            &       OLS        & \\textbf{  Adj. R-squared (uncentered):} &     0.989   \\\\\n",
       "\\textbf{Method:}           &  Least Squares   & \\textbf{  F-statistic:       }          &     6993.   \\\\\n",
       "\\textbf{Date:}             & Fri, 12 Apr 2024 & \\textbf{  Prob (F-statistic):}          &  7.15e-79   \\\\\n",
       "\\textbf{Time:}             &     19:00:37     & \\textbf{  Log-Likelihood:    }          &   -200.18   \\\\\n",
       "\\textbf{No. Observations:} &          80      & \\textbf{  AIC:               }          &     402.4   \\\\\n",
       "\\textbf{Df Residuals:}     &          79      & \\textbf{  BIC:               }          &     404.8   \\\\\n",
       "\\textbf{Df Model:}         &           1      & \\textbf{                     }          &             \\\\\n",
       "\\textbf{Covariance Type:}  &    nonrobust     & \\textbf{                     }          &             \\\\\n",
       "\\bottomrule\n",
       "\\end{tabular}\n",
       "\\begin{tabular}{lcccccc}\n",
       "                      & \\textbf{coef} & \\textbf{std err} & \\textbf{t} & \\textbf{P$> |$t$|$} & \\textbf{[0.025} & \\textbf{0.975]}  \\\\\n",
       "\\midrule\n",
       "\\textbf{height\\_init} &     345.7515  &        4.135     &    83.623  &         0.000        &      337.522    &      353.981     \\\\\n",
       "\\bottomrule\n",
       "\\end{tabular}\n",
       "\\begin{tabular}{lclc}\n",
       "\\textbf{Omnibus:}       &  2.010 & \\textbf{  Durbin-Watson:     } &    1.914  \\\\\n",
       "\\textbf{Prob(Omnibus):} &  0.366 & \\textbf{  Jarque-Bera (JB):  } &    1.623  \\\\\n",
       "\\textbf{Skew:}          &  0.348 & \\textbf{  Prob(JB):          } &    0.444  \\\\\n",
       "\\textbf{Kurtosis:}      &  3.059 & \\textbf{  Cond. No.          } &     1.00  \\\\\n",
       "\\bottomrule\n",
       "\\end{tabular}\n",
       "%\\caption{OLS Regression Results}\n",
       "\\end{center}\n",
       "\n",
       "Notes: \\newline\n",
       " [1] R² is computed without centering (uncentered) since the model does not contain a constant. \\newline\n",
       " [2] Standard Errors assume that the covariance matrix of the errors is correctly specified."
      ],
      "text/plain": [
       "<class 'statsmodels.iolib.summary.Summary'>\n",
       "\"\"\"\n",
       "                                 OLS Regression Results                                \n",
       "=======================================================================================\n",
       "Dep. Variable:               BMI_init   R-squared (uncentered):                   0.989\n",
       "Model:                            OLS   Adj. R-squared (uncentered):              0.989\n",
       "Method:                 Least Squares   F-statistic:                              6993.\n",
       "Date:                Fri, 12 Apr 2024   Prob (F-statistic):                    7.15e-79\n",
       "Time:                        19:00:37   Log-Likelihood:                         -200.18\n",
       "No. Observations:                  80   AIC:                                      402.4\n",
       "Df Residuals:                      79   BIC:                                      404.8\n",
       "Df Model:                           1                                                  \n",
       "Covariance Type:            nonrobust                                                  \n",
       "===============================================================================\n",
       "                  coef    std err          t      P>|t|      [0.025      0.975]\n",
       "-------------------------------------------------------------------------------\n",
       "height_init   345.7515      4.135     83.623      0.000     337.522     353.981\n",
       "==============================================================================\n",
       "Omnibus:                        2.010   Durbin-Watson:                   1.914\n",
       "Prob(Omnibus):                  0.366   Jarque-Bera (JB):                1.623\n",
       "Skew:                           0.348   Prob(JB):                        0.444\n",
       "Kurtosis:                       3.059   Cond. No.                         1.00\n",
       "==============================================================================\n",
       "\n",
       "Notes:\n",
       "[1] R² is computed without centering (uncentered) since the model does not contain a constant.\n",
       "[2] Standard Errors assume that the covariance matrix of the errors is correctly specified.\n",
       "\"\"\""
      ]
     },
     "execution_count": 7,
     "metadata": {},
     "output_type": "execute_result"
    }
   ],
   "source": [
    "mod_inv.fit().summary()"
   ]
  },
  {
   "cell_type": "code",
   "execution_count": 8,
   "id": "669c903f-23ea-4c0b-9dbc-ec429821a7d7",
   "metadata": {},
   "outputs": [
    {
     "ename": "ValueError",
     "evalue": "The truth value of a Series is ambiguous. Use a.empty, a.bool(), a.item(), a.any() or a.all().",
     "output_type": "error",
     "traceback": [
      "\u001b[1;31m---------------------------------------------------------------------------\u001b[0m",
      "\u001b[1;31mValueError\u001b[0m                                Traceback (most recent call last)",
      "\u001b[1;32m~\\AppData\\Local\\Temp\\ipykernel_17300\\3877954045.py\u001b[0m in \u001b[0;36m?\u001b[1;34m()\u001b[0m\n\u001b[1;32m----> 3\u001b[1;33m \u001b[0mfig\u001b[0m\u001b[1;33m,\u001b[0m \u001b[0max\u001b[0m \u001b[1;33m=\u001b[0m \u001b[0mplt\u001b[0m\u001b[1;33m.\u001b[0m\u001b[0msubplots\u001b[0m\u001b[1;33m(\u001b[0m\u001b[0mfigsize\u001b[0m\u001b[1;33m=\u001b[0m\u001b[1;33m(\u001b[0m\u001b[1;36m14\u001b[0m\u001b[1;33m,\u001b[0m \u001b[1;36m6\u001b[0m\u001b[1;33m)\u001b[0m\u001b[1;33m)\u001b[0m\u001b[1;33m\u001b[0m\u001b[1;33m\u001b[0m\u001b[0m\n\u001b[0m\u001b[0;32m      4\u001b[0m \u001b[0max\u001b[0m\u001b[1;33m.\u001b[0m\u001b[0mplot\u001b[0m\u001b[1;33m(\u001b[0m\u001b[0mm\u001b[0m\u001b[1;33m.\u001b[0m\u001b[0mheight_init\u001b[0m\u001b[1;33m**\u001b[0m\u001b[1;33m(\u001b[0m\u001b[1;33m-\u001b[0m\u001b[1;36m0.5\u001b[0m\u001b[1;33m)\u001b[0m\u001b[1;33m,\u001b[0m \u001b[0mmod_inv\u001b[0m\u001b[1;33m.\u001b[0m\u001b[0mendog\u001b[0m\u001b[1;33m,\u001b[0m \u001b[1;34m'o'\u001b[0m\u001b[1;33m,\u001b[0m \u001b[0mmarkersize\u001b[0m \u001b[1;33m=\u001b[0m \u001b[1;36m3\u001b[0m\u001b[1;33m,\u001b[0m \u001b[0mlabel\u001b[0m \u001b[1;33m=\u001b[0m \u001b[1;34m'data'\u001b[0m\u001b[1;33m)\u001b[0m\u001b[1;33m\u001b[0m\u001b[1;33m\u001b[0m\u001b[0m\n\u001b[0;32m      5\u001b[0m \u001b[0mresfig\u001b[0m \u001b[1;33m=\u001b[0m \u001b[0msm\u001b[0m\u001b[1;33m.\u001b[0m\u001b[0mgraphics\u001b[0m\u001b[1;33m.\u001b[0m\u001b[0mplot_fit\u001b[0m\u001b[1;33m(\u001b[0m\u001b[0mmod_inv\u001b[0m\u001b[1;33m.\u001b[0m\u001b[0mfit\u001b[0m\u001b[1;33m(\u001b[0m\u001b[1;33m)\u001b[0m\u001b[1;33m,\u001b[0m \u001b[0mm\u001b[0m\u001b[1;33m.\u001b[0m\u001b[0mheight_init\u001b[0m\u001b[1;33m**\u001b[0m\u001b[1;33m(\u001b[0m\u001b[1;33m-\u001b[0m\u001b[1;36m0.5\u001b[0m\u001b[1;33m)\u001b[0m\u001b[1;33m)\u001b[0m\u001b[1;33m\u001b[0m\u001b[1;33m\u001b[0m\u001b[0m\n\u001b[0;32m      6\u001b[0m \u001b[1;31m#ax.plot(m.height_init, mod_inv.fit().fittedvalues, 'd--', linewidth = 0.5, markersize = 3, label = 'model')\u001b[0m\u001b[1;33m\u001b[0m\u001b[1;33m\u001b[0m\u001b[0m\n",
      "\u001b[1;32m~\\Desktop\\pycproj\\STATS\\venv\\lib\\site-packages\\statsmodels\\graphics\\regressionplots.py\u001b[0m in \u001b[0;36m?\u001b[1;34m(results, exog_idx, y_true, ax, vlines, **kwargs)\u001b[0m\n\u001b[0;32m    138\u001b[0m     \"\"\"\n\u001b[0;32m    139\u001b[0m \u001b[1;33m\u001b[0m\u001b[0m\n\u001b[0;32m    140\u001b[0m     \u001b[0mfig\u001b[0m\u001b[1;33m,\u001b[0m \u001b[0max\u001b[0m \u001b[1;33m=\u001b[0m \u001b[0mutils\u001b[0m\u001b[1;33m.\u001b[0m\u001b[0mcreate_mpl_ax\u001b[0m\u001b[1;33m(\u001b[0m\u001b[0max\u001b[0m\u001b[1;33m)\u001b[0m\u001b[1;33m\u001b[0m\u001b[1;33m\u001b[0m\u001b[0m\n\u001b[0;32m    141\u001b[0m \u001b[1;33m\u001b[0m\u001b[0m\n\u001b[1;32m--> 142\u001b[1;33m     \u001b[0mexog_name\u001b[0m\u001b[1;33m,\u001b[0m \u001b[0mexog_idx\u001b[0m \u001b[1;33m=\u001b[0m \u001b[0mutils\u001b[0m\u001b[1;33m.\u001b[0m\u001b[0mmaybe_name_or_idx\u001b[0m\u001b[1;33m(\u001b[0m\u001b[0mexog_idx\u001b[0m\u001b[1;33m,\u001b[0m \u001b[0mresults\u001b[0m\u001b[1;33m.\u001b[0m\u001b[0mmodel\u001b[0m\u001b[1;33m)\u001b[0m\u001b[1;33m\u001b[0m\u001b[1;33m\u001b[0m\u001b[0m\n\u001b[0m\u001b[0;32m    143\u001b[0m     \u001b[0mresults\u001b[0m \u001b[1;33m=\u001b[0m \u001b[0mmaybe_unwrap_results\u001b[0m\u001b[1;33m(\u001b[0m\u001b[0mresults\u001b[0m\u001b[1;33m)\u001b[0m\u001b[1;33m\u001b[0m\u001b[1;33m\u001b[0m\u001b[0m\n\u001b[0;32m    144\u001b[0m \u001b[1;33m\u001b[0m\u001b[0m\n\u001b[0;32m    145\u001b[0m     \u001b[1;31m#maybe add option for wendog, wexog\u001b[0m\u001b[1;33m\u001b[0m\u001b[1;33m\u001b[0m\u001b[0m\n",
      "\u001b[1;32m~\\Desktop\\pycproj\\STATS\\venv\\lib\\site-packages\\statsmodels\\graphics\\utils.py\u001b[0m in \u001b[0;36m?\u001b[1;34m(idx, model)\u001b[0m\n\u001b[0;32m    108\u001b[0m             \u001b[0mexog_name\u001b[0m\u001b[1;33m.\u001b[0m\u001b[0mappend\u001b[0m\u001b[1;33m(\u001b[0m\u001b[0mexog_name_item\u001b[0m\u001b[1;33m)\u001b[0m\u001b[1;33m\u001b[0m\u001b[1;33m\u001b[0m\u001b[0m\n\u001b[0;32m    109\u001b[0m             \u001b[0mexog_idx\u001b[0m\u001b[1;33m.\u001b[0m\u001b[0mappend\u001b[0m\u001b[1;33m(\u001b[0m\u001b[0mexog_idx_item\u001b[0m\u001b[1;33m)\u001b[0m\u001b[1;33m\u001b[0m\u001b[1;33m\u001b[0m\u001b[0m\n\u001b[0;32m    110\u001b[0m     \u001b[1;32melse\u001b[0m\u001b[1;33m:\u001b[0m \u001b[1;31m# assume we've got a string variable\u001b[0m\u001b[1;33m\u001b[0m\u001b[1;33m\u001b[0m\u001b[0m\n\u001b[0;32m    111\u001b[0m         \u001b[0mexog_name\u001b[0m \u001b[1;33m=\u001b[0m \u001b[0midx\u001b[0m\u001b[1;33m\u001b[0m\u001b[1;33m\u001b[0m\u001b[0m\n\u001b[1;32m--> 112\u001b[1;33m         \u001b[0mexog_idx\u001b[0m \u001b[1;33m=\u001b[0m \u001b[0mmodel\u001b[0m\u001b[1;33m.\u001b[0m\u001b[0mexog_names\u001b[0m\u001b[1;33m.\u001b[0m\u001b[0mindex\u001b[0m\u001b[1;33m(\u001b[0m\u001b[0midx\u001b[0m\u001b[1;33m)\u001b[0m\u001b[1;33m\u001b[0m\u001b[1;33m\u001b[0m\u001b[0m\n\u001b[0m\u001b[0;32m    113\u001b[0m \u001b[1;33m\u001b[0m\u001b[0m\n\u001b[0;32m    114\u001b[0m     \u001b[1;32mreturn\u001b[0m \u001b[0mexog_name\u001b[0m\u001b[1;33m,\u001b[0m \u001b[0mexog_idx\u001b[0m\u001b[1;33m\u001b[0m\u001b[1;33m\u001b[0m\u001b[0m\n",
      "\u001b[1;32m~\\Desktop\\pycproj\\STATS\\venv\\lib\\site-packages\\pandas\\core\\generic.py\u001b[0m in \u001b[0;36m?\u001b[1;34m(self)\u001b[0m\n\u001b[0;32m   1574\u001b[0m     \u001b[1;33m@\u001b[0m\u001b[0mfinal\u001b[0m\u001b[1;33m\u001b[0m\u001b[1;33m\u001b[0m\u001b[0m\n\u001b[0;32m   1575\u001b[0m     \u001b[1;32mdef\u001b[0m \u001b[0m__nonzero__\u001b[0m\u001b[1;33m(\u001b[0m\u001b[0mself\u001b[0m\u001b[1;33m)\u001b[0m \u001b[1;33m->\u001b[0m \u001b[0mNoReturn\u001b[0m\u001b[1;33m:\u001b[0m\u001b[1;33m\u001b[0m\u001b[1;33m\u001b[0m\u001b[0m\n\u001b[1;32m-> 1576\u001b[1;33m         raise ValueError(\n\u001b[0m\u001b[0;32m   1577\u001b[0m             \u001b[1;34mf\"The truth value of a {type(self).__name__} is ambiguous. \"\u001b[0m\u001b[1;33m\u001b[0m\u001b[1;33m\u001b[0m\u001b[0m\n\u001b[0;32m   1578\u001b[0m             \u001b[1;34m\"Use a.empty, a.bool(), a.item(), a.any() or a.all().\"\u001b[0m\u001b[1;33m\u001b[0m\u001b[1;33m\u001b[0m\u001b[0m\n\u001b[0;32m   1579\u001b[0m         )\n",
      "\u001b[1;31mValueError\u001b[0m: The truth value of a Series is ambiguous. Use a.empty, a.bool(), a.item(), a.any() or a.all()."
     ]
    },
    {
     "data": {
      "image/png": "[encoded data removed]",
      "text/plain": [
       "<Figure size 1400x600 with 1 Axes>"
      ]
     },
     "metadata": {},
     "output_type": "display_data"
    },
    {
     "data": {
      "image/png": "[encoded data removed]",
      "text/plain": [
       "<Figure size 640x480 with 1 Axes>"
      ]
     },
     "metadata": {},
     "output_type": "display_data"
    }
   ],
   "source": [
    "fig, ax = plt.subplots(figsize=(14, 6))\n",
    "ax.plot(m.height_init**(-0.5), mod_inv.endog, 'o', markersize = 3, label = 'data')\n",
    "#ax.plot(m.height_init, mod_inv.fit().fittedvalues, 'd--', linewidth = 0.5, markersize = 3, label = 'model')\n",
    "ax.plot(m.height_init**(-0.5), mod_inv.fit().get_prediction().summary_frame().drop(columns = 'mean_se'), '-', linewidth = 0.1, markersize = 3, label = mod_inv.fit().get_prediction().summary_frame().drop(columns = 'mean_se').columns)\n",
    "ax.plot(m.height_init**(-0.5), mod_inv.fit().get_prediction().summary_frame()['mean']-mod_inv.fit().get_prediction().summary_frame()['mean_se']*1.96, 'o', markersize = 1, color = 'red')\n",
    "ax.legend(loc=\"best\")\n",
    "plt.show()"
   ]
  },
  {
   "cell_type": "code",
   "execution_count": null,
   "id": "568be425-0946-46ec-b55d-4bf52049d076",
   "metadata": {},
   "outputs": [],
   "source": [
    "mod_invct = sm.OLS(m.BMI_init, sm.add_constant((m.height_init)**(-0.5)))"
   ]
  },
  {
   "cell_type": "code",
   "execution_count": null,
   "id": "ebae1496-9c72-4d10-bf5e-39b1ee6cc5c4",
   "metadata": {},
   "outputs": [],
   "source": [
    "fig, ax = plt.subplots(figsize=(14, 6))\n",
    "ax.plot(m.height_init**(-0.5), mod_invct.endog, 'o', markersize = 3, label = 'data')\n",
    "ax.plot(m.height_init**(-0.5), mod_inv.fit().fittedvalues, 'd--', linewidth = 0.1, markersize = 3, label = 'no ct model')\n",
    "ax.plot(m.height_init**(-0.5), mod_invct.fit().fittedvalues, 'd--', linewidth = 0.1, markersize = 3, label = 'ct model')\n",
    "#ax.plot(m.height_init**(-0.5), mod_invct.fit().get_prediction().summary_frame().drop(columns = 'mean_se'), '-', linewidth = 0.1, markersize = 3, label = mod_invct.fit().get_prediction().summary_frame().drop(columns = 'mean_se').columns)\n",
    "ax.legend(loc=\"best\")\n",
    "plt.show()"
   ]
  },
  {
   "cell_type": "code",
   "execution_count": null,
   "id": "2a399f71-1e7d-41ae-a0cf-22d790c3f1ac",
   "metadata": {},
   "outputs": [],
   "source": [
    "mod_invct.fit().summary()"
   ]
  },
  {
   "cell_type": "code",
   "execution_count": null,
   "id": "240b8cf7-ce74-4d19-9ffe-530a0037221d",
   "metadata": {},
   "outputs": [],
   "source": [
    "mod_invct.fit().centered_tss"
   ]
  },
  {
   "cell_type": "code",
   "execution_count": null,
   "id": "9af3350d-92d0-4669-9895-c7ec095967bb",
   "metadata": {},
   "outputs": [],
   "source": [
    "mod_invct.fit().ssr"
   ]
  },
  {
   "cell_type": "code",
   "execution_count": null,
   "id": "af5361a0-39d3-4e33-a2e4-1f24bd2fbabe",
   "metadata": {},
   "outputs": [],
   "source": [
    "mod_invct.fit().ess"
   ]
  },
  {
   "cell_type": "code",
   "execution_count": null,
   "id": "f83c7428-3ebd-469a-ad8e-b2bcec1680d4",
   "metadata": {},
   "outputs": [],
   "source": [
    "mod_inv.fit().mse_resid"
   ]
  },
  {
   "cell_type": "code",
   "execution_count": null,
   "id": "f17c53eb-b124-4bb3-aff4-38ba75929358",
   "metadata": {},
   "outputs": [],
   "source": [
    "mod_invct.fit().mse_resid"
   ]
  },
  {
   "cell_type": "code",
   "execution_count": null,
   "id": "a52a42a1-2964-4044-a2e1-461607a04ff5",
   "metadata": {},
   "outputs": [],
   "source": [
    "mod.fit().mse_resid"
   ]
  },
  {
   "cell_type": "code",
   "execution_count": null,
   "id": "74ec706b-31fa-426d-86c3-053a85c77ec2",
   "metadata": {},
   "outputs": [],
   "source": [
    "modct.fit().mse_resid"
   ]
  },
  {
   "cell_type": "code",
   "execution_count": null,
   "id": "4fc04646-5a5f-4f3b-b271-e28dd35e9d03",
   "metadata": {},
   "outputs": [],
   "source": [
    "mod_inv.fit().mse_resid**0.5"
   ]
  },
  {
   "cell_type": "code",
   "execution_count": null,
   "id": "93a6f277-6a3d-4647-8b4c-ace9e1c3254d",
   "metadata": {},
   "outputs": [],
   "source": [
    "mod_invct.fit().mse_resid**0.5"
   ]
  },
  {
   "cell_type": "code",
   "execution_count": null,
   "id": "0f49d111-76b8-42d8-81b0-52b5932b3dad",
   "metadata": {},
   "outputs": [],
   "source": [
    "mod.fit().mse_resid**0.5"
   ]
  },
  {
   "cell_type": "code",
   "execution_count": null,
   "id": "c628332d-cc3f-45bb-b1f7-eb726bd2f4ff",
   "metadata": {},
   "outputs": [],
   "source": [
    "modct.fit().mse_resid**0.5"
   ]
  },
  {
   "cell_type": "code",
   "execution_count": null,
   "id": "6e2c85b2-d9fd-44a5-8bd3-30f60e735545",
   "metadata": {},
   "outputs": [],
   "source": []
  }
 ],
 "metadata": {
  "kernelspec": {
   "display_name": "venvstats",
   "language": "python",
   "name": "venvstats"
  },
  "language_info": {
   "codemirror_mode": {
    "name": "ipython",
    "version": 3
   },
   "file_extension": ".py",
   "mimetype": "text/x-python",
   "name": "python",
   "nbconvert_exporter": "python",
   "pygments_lexer": "ipython3",
   "version": "3.9.13"
  }
 },
 "nbformat": 4,
 "nbformat_minor": 5
}
