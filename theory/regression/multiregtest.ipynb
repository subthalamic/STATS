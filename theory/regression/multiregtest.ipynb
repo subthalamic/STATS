{
 "cells": [
  {
   "cell_type": "code",
   "execution_count": 1,
   "metadata": {
    "executionInfo": {
     "elapsed": 2299,
     "status": "ok",
     "timestamp": 1712745510046,
     "user": {
      "displayName": "Theodor Trausan-Matu",
      "userId": "17891038521471135148"
     },
     "user_tz": -180
    },
    "id": "sTgIzrigTDsz"
   },
   "outputs": [],
   "source": [
    "import pandas as pd\n",
    "import numpy as np\n",
    "import matplotlib.pyplot as plt\n",
    "from mpl_toolkits.mplot3d import axes3d\n",
    "from scipy import stats as st\n",
    "import statsmodels.api as sm"
   ]
  },
  {
   "cell_type": "code",
   "execution_count": 2,
   "metadata": {
    "colab": {
     "base_uri": "https://localhost:8080/"
    },
    "executionInfo": {
     "elapsed": 2349,
     "status": "ok",
     "timestamp": 1712745389197,
     "user": {
      "displayName": "Theodor Trausan-Matu",
      "userId": "17891038521471135148"
     },
     "user_tz": -180
    },
    "id": "KYutBBWqdGIl",
    "outputId": "a74041bf-2fff-43f9-b263-93ffa739817a"
   },
   "outputs": [],
   "source": [
    "# from google.colab import drive\n",
    "# drive.mount('/content/gdrive')\n",
    "# cd gdrive\n",
    "# cd MyDrive\n",
    "# cd Colab-Notebooks"
   ]
  },
  {
   "cell_type": "code",
   "execution_count": 3,
   "metadata": {
    "executionInfo": {
     "elapsed": 253,
     "status": "ok",
     "timestamp": 1712745521342,
     "user": {
      "displayName": "Theodor Trausan-Matu",
      "userId": "17891038521471135148"
     },
     "user_tz": -180
    },
    "id": "QrBBJs57det4"
   },
   "outputs": [],
   "source": [
    "m = pd.read_csv(\"measurements.csv\")"
   ]
  },
  {
   "cell_type": "code",
   "execution_count": 4,
   "metadata": {
    "colab": {
     "base_uri": "https://localhost:8080/"
    },
    "executionInfo": {
     "elapsed": 3,
     "status": "ok",
     "timestamp": 1712745521585,
     "user": {
      "displayName": "Theodor Trausan-Matu",
      "userId": "17891038521471135148"
     },
     "user_tz": -180
    },
    "id": "hzb0rHgWeIsh",
    "outputId": "a12d0629-e540-48d2-f556-901d838fbaf7"
   },
   "outputs": [
    {
     "data": {
      "text/plain": [
       "Index(['ID', 'group', 'sex', 'birth_year', 'chol_init', 'chol_final',\n",
       "       'trig_init', 'trig_final', 'weight_init', 'weight_final', 'weight_diff',\n",
       "       'height_init', 'height_final', 'height_diff', 'armspan_init',\n",
       "       'armspan_final', 'armspan_diff', 'arm_perimeter_init',\n",
       "       'arm_periemter_final', 'arm_perimeter_diff', 'thorax_perimeter_init',\n",
       "       'thorax_perimeter_final', 'thorax_perimeter_diff',\n",
       "       'abdominal_perimeter_init', 'abdominal_perimeter_final',\n",
       "       'abdominal_perimeter_diff', 'hip_perimeter_init', 'hip_perimeter_final',\n",
       "       'hip_perimeter_diff', 'BMI_init', 'BMI_final', 'BMI_diff',\n",
       "       'tricipital_fold_final', 'tricipital_fold_init', 'abdominal_fold_final',\n",
       "       'abdominal_fold_init', 'subscapular_fold_final',\n",
       "       'subscapular_fold_init'],\n",
       "      dtype='object')"
      ]
     },
     "execution_count": 4,
     "metadata": {},
     "output_type": "execute_result"
    }
   ],
   "source": [
    "m.columns"
   ]
  },
  {
   "cell_type": "code",
   "execution_count": 5,
   "metadata": {
    "executionInfo": {
     "elapsed": 252,
     "status": "ok",
     "timestamp": 1712745528523,
     "user": {
      "displayName": "Theodor Trausan-Matu",
      "userId": "17891038521471135148"
     },
     "user_tz": -180
    },
    "id": "Zk837WbuZhbR"
   },
   "outputs": [],
   "source": [
    "def varray(x):\n",
    "  return x.to_numpy().reshape((-1,1))\n",
    "def onesvarray(x):\n",
    "  return np.column_stack((np.ones(len(x)), x.to_numpy().reshape((-1,1))))\n",
    "def onesmatrix(x):\n",
    "  return np.column_stack((np.ones(x.shape[0]), x.to_numpy()))\n",
    "def OLSdirect(y, X):\n",
    "  res = sm.OLS(y, X).fit()\n",
    "  pred_ols = res.get_prediction()\n",
    "  return res"
   ]
  },
  {
   "cell_type": "code",
   "execution_count": 6,
   "metadata": {
    "colab": {
     "base_uri": "https://localhost:8080/"
    },
    "executionInfo": {
     "elapsed": 250,
     "status": "ok",
     "timestamp": 1712745535938,
     "user": {
      "displayName": "Theodor Trausan-Matu",
      "userId": "17891038521471135148"
     },
     "user_tz": -180
    },
    "id": "el7E2tUJnNXu",
    "outputId": "296dc57f-f55d-4d7b-9969-79df54a6fe8b"
   },
   "outputs": [
    {
     "name": "stdout",
     "output_type": "stream",
     "text": [
      "                            OLS Regression Results                            \n",
      "==============================================================================\n",
      "Dep. Variable:                      y   R-squared:                       0.989\n",
      "Model:                            OLS   Adj. R-squared:                  0.989\n",
      "Method:                 Least Squares   F-statistic:                     3432.\n",
      "Date:                Sun, 14 Apr 2024   Prob (F-statistic):           5.45e-76\n",
      "Time:                        19:24:13   Log-Likelihood:                -18.257\n",
      "No. Observations:                  80   AIC:                             42.51\n",
      "Df Residuals:                      77   BIC:                             49.66\n",
      "Df Model:                           2                                         \n",
      "Covariance Type:            nonrobust                                         \n",
      "==============================================================================\n",
      "                 coef    std err          t      P>|t|      [0.025      0.975]\n",
      "------------------------------------------------------------------------------\n",
      "const         54.3793      0.709     76.665      0.000      52.967      55.792\n",
      "x1             0.4093      0.005     82.768      0.000       0.399       0.419\n",
      "x2            -0.3483      0.006    -60.177      0.000      -0.360      -0.337\n",
      "==============================================================================\n",
      "Omnibus:                        5.131   Durbin-Watson:                   2.221\n",
      "Prob(Omnibus):                  0.077   Jarque-Bera (JB):                4.346\n",
      "Skew:                          -0.488   Prob(JB):                        0.114\n",
      "Kurtosis:                       3.593   Cond. No.                     3.47e+03\n",
      "==============================================================================\n",
      "\n",
      "Notes:\n",
      "[1] Standard Errors assume that the covariance matrix of the errors is correctly specified.\n",
      "[2] The condition number is large, 3.47e+03. This might indicate that there are\n",
      "strong multicollinearity or other numerical problems.\n",
      "Parameters:  [54.37926624  0.40929958 -0.34827194]\n"
     ]
    }
   ],
   "source": [
    "X = onesmatrix(m[['weight_init', 'height_init']])\n",
    "y = varray(m.BMI_init)\n",
    "\n",
    "res = sm.OLS(y, X).fit()\n",
    "pred_ols = res.get_prediction()\n",
    "print(res.summary())\n",
    "print(\"Parameters: \", res.params)"
   ]
  },
  {
   "cell_type": "code",
   "execution_count": 7,
   "metadata": {},
   "outputs": [
    {
     "data": {
      "text/html": [
       "<table class=\"simpletable\">\n",
       "<caption>OLS Regression Results</caption>\n",
       "<tr>\n",
       "  <th>Dep. Variable:</th>            <td>y</td>        <th>  R-squared:         </th> <td>   0.989</td>\n",
       "</tr>\n",
       "<tr>\n",
       "  <th>Model:</th>                   <td>OLS</td>       <th>  Adj. R-squared:    </th> <td>   0.989</td>\n",
       "</tr>\n",
       "<tr>\n",
       "  <th>Method:</th>             <td>Least Squares</td>  <th>  F-statistic:       </th> <td>   1422.</td>\n",
       "</tr>\n",
       "<tr>\n",
       "  <th>Date:</th>             <td>Sun, 14 Apr 2024</td> <th>  Prob (F-statistic):</th> <td>1.62e-61</td>\n",
       "</tr>\n",
       "<tr>\n",
       "  <th>Time:</th>                 <td>19:24:13</td>     <th>  Log-Likelihood:    </th> <td> -18.257</td>\n",
       "</tr>\n",
       "<tr>\n",
       "  <th>No. Observations:</th>      <td>    80</td>      <th>  AIC:               </th> <td>   42.51</td>\n",
       "</tr>\n",
       "<tr>\n",
       "  <th>Df Residuals:</th>          <td>    77</td>      <th>  BIC:               </th> <td>   49.66</td>\n",
       "</tr>\n",
       "<tr>\n",
       "  <th>Df Model:</th>              <td>     2</td>      <th>                     </th>     <td> </td>   \n",
       "</tr>\n",
       "<tr>\n",
       "  <th>Covariance Type:</th>         <td>HC1</td>       <th>                     </th>     <td> </td>   \n",
       "</tr>\n",
       "</table>\n",
       "<table class=\"simpletable\">\n",
       "<tr>\n",
       "    <td></td>       <th>coef</th>     <th>std err</th>      <th>t</th>      <th>P>|t|</th>  <th>[0.025</th>    <th>0.975]</th>  \n",
       "</tr>\n",
       "<tr>\n",
       "  <th>const</th> <td>   54.3793</td> <td>    0.907</td> <td>   59.968</td> <td> 0.000</td> <td>   52.574</td> <td>   56.185</td>\n",
       "</tr>\n",
       "<tr>\n",
       "  <th>x1</th>    <td>    0.4093</td> <td>    0.008</td> <td>   51.782</td> <td> 0.000</td> <td>    0.394</td> <td>    0.425</td>\n",
       "</tr>\n",
       "<tr>\n",
       "  <th>x2</th>    <td>   -0.3483</td> <td>    0.008</td> <td>  -45.430</td> <td> 0.000</td> <td>   -0.364</td> <td>   -0.333</td>\n",
       "</tr>\n",
       "</table>\n",
       "<table class=\"simpletable\">\n",
       "<tr>\n",
       "  <th>Omnibus:</th>       <td> 5.131</td> <th>  Durbin-Watson:     </th> <td>   2.221</td>\n",
       "</tr>\n",
       "<tr>\n",
       "  <th>Prob(Omnibus):</th> <td> 0.077</td> <th>  Jarque-Bera (JB):  </th> <td>   4.346</td>\n",
       "</tr>\n",
       "<tr>\n",
       "  <th>Skew:</th>          <td>-0.488</td> <th>  Prob(JB):          </th> <td>   0.114</td>\n",
       "</tr>\n",
       "<tr>\n",
       "  <th>Kurtosis:</th>      <td> 3.593</td> <th>  Cond. No.          </th> <td>3.47e+03</td>\n",
       "</tr>\n",
       "</table><br/><br/>Notes:<br/>[1] Standard Errors are heteroscedasticity robust (HC1)<br/>[2] The condition number is large, 3.47e+03. This might indicate that there are<br/>strong multicollinearity or other numerical problems."
      ],
      "text/latex": [
       "\\begin{center}\n",
       "\\begin{tabular}{lclc}\n",
       "\\toprule\n",
       "\\textbf{Dep. Variable:}    &        y         & \\textbf{  R-squared:         } &     0.989   \\\\\n",
       "\\textbf{Model:}            &       OLS        & \\textbf{  Adj. R-squared:    } &     0.989   \\\\\n",
       "\\textbf{Method:}           &  Least Squares   & \\textbf{  F-statistic:       } &     1422.   \\\\\n",
       "\\textbf{Date:}             & Sun, 14 Apr 2024 & \\textbf{  Prob (F-statistic):} &  1.62e-61   \\\\\n",
       "\\textbf{Time:}             &     19:24:13     & \\textbf{  Log-Likelihood:    } &   -18.257   \\\\\n",
       "\\textbf{No. Observations:} &          80      & \\textbf{  AIC:               } &     42.51   \\\\\n",
       "\\textbf{Df Residuals:}     &          77      & \\textbf{  BIC:               } &     49.66   \\\\\n",
       "\\textbf{Df Model:}         &           2      & \\textbf{                     } &             \\\\\n",
       "\\textbf{Covariance Type:}  &       HC1        & \\textbf{                     } &             \\\\\n",
       "\\bottomrule\n",
       "\\end{tabular}\n",
       "\\begin{tabular}{lcccccc}\n",
       "               & \\textbf{coef} & \\textbf{std err} & \\textbf{t} & \\textbf{P$> |$t$|$} & \\textbf{[0.025} & \\textbf{0.975]}  \\\\\n",
       "\\midrule\n",
       "\\textbf{const} &      54.3793  &        0.907     &    59.968  &         0.000        &       52.574    &       56.185     \\\\\n",
       "\\textbf{x1}    &       0.4093  &        0.008     &    51.782  &         0.000        &        0.394    &        0.425     \\\\\n",
       "\\textbf{x2}    &      -0.3483  &        0.008     &   -45.430  &         0.000        &       -0.364    &       -0.333     \\\\\n",
       "\\bottomrule\n",
       "\\end{tabular}\n",
       "\\begin{tabular}{lclc}\n",
       "\\textbf{Omnibus:}       &  5.131 & \\textbf{  Durbin-Watson:     } &    2.221  \\\\\n",
       "\\textbf{Prob(Omnibus):} &  0.077 & \\textbf{  Jarque-Bera (JB):  } &    4.346  \\\\\n",
       "\\textbf{Skew:}          & -0.488 & \\textbf{  Prob(JB):          } &    0.114  \\\\\n",
       "\\textbf{Kurtosis:}      &  3.593 & \\textbf{  Cond. No.          } & 3.47e+03  \\\\\n",
       "\\bottomrule\n",
       "\\end{tabular}\n",
       "%\\caption{OLS Regression Results}\n",
       "\\end{center}\n",
       "\n",
       "Notes: \\newline\n",
       " [1] Standard Errors are heteroscedasticity robust (HC1) \\newline\n",
       " [2] The condition number is large, 3.47e+03. This might indicate that there are \\newline\n",
       " strong multicollinearity or other numerical problems."
      ],
      "text/plain": [
       "<class 'statsmodels.iolib.summary.Summary'>\n",
       "\"\"\"\n",
       "                            OLS Regression Results                            \n",
       "==============================================================================\n",
       "Dep. Variable:                      y   R-squared:                       0.989\n",
       "Model:                            OLS   Adj. R-squared:                  0.989\n",
       "Method:                 Least Squares   F-statistic:                     1422.\n",
       "Date:                Sun, 14 Apr 2024   Prob (F-statistic):           1.62e-61\n",
       "Time:                        19:24:13   Log-Likelihood:                -18.257\n",
       "No. Observations:                  80   AIC:                             42.51\n",
       "Df Residuals:                      77   BIC:                             49.66\n",
       "Df Model:                           2                                         \n",
       "Covariance Type:                  HC1                                         \n",
       "==============================================================================\n",
       "                 coef    std err          t      P>|t|      [0.025      0.975]\n",
       "------------------------------------------------------------------------------\n",
       "const         54.3793      0.907     59.968      0.000      52.574      56.185\n",
       "x1             0.4093      0.008     51.782      0.000       0.394       0.425\n",
       "x2            -0.3483      0.008    -45.430      0.000      -0.364      -0.333\n",
       "==============================================================================\n",
       "Omnibus:                        5.131   Durbin-Watson:                   2.221\n",
       "Prob(Omnibus):                  0.077   Jarque-Bera (JB):                4.346\n",
       "Skew:                          -0.488   Prob(JB):                        0.114\n",
       "Kurtosis:                       3.593   Cond. No.                     3.47e+03\n",
       "==============================================================================\n",
       "\n",
       "Notes:\n",
       "[1] Standard Errors are heteroscedasticity robust (HC1)\n",
       "[2] The condition number is large, 3.47e+03. This might indicate that there are\n",
       "strong multicollinearity or other numerical problems.\n",
       "\"\"\""
      ]
     },
     "execution_count": 7,
     "metadata": {},
     "output_type": "execute_result"
    }
   ],
   "source": [
    "res.get_robustcov_results(cov_type='HC1', use_t=None).summary()"
   ]
  },
  {
   "cell_type": "code",
   "execution_count": 8,
   "metadata": {
    "colab": {
     "base_uri": "https://localhost:8080/",
     "height": 542
    },
    "executionInfo": {
     "elapsed": 841,
     "status": "ok",
     "timestamp": 1712745548602,
     "user": {
      "displayName": "Theodor Trausan-Matu",
      "userId": "17891038521471135148"
     },
     "user_tz": -180
    },
    "id": "ccAcAO_soPZb",
    "outputId": "847f67ca-7ec8-43b3-be4e-aabad8d50e99"
   },
   "outputs": [
    {
     "data": {
      "image/png": "[encoded data removed]",
      "text/plain": [
       "<Figure size 1400x600 with 1 Axes>"
      ]
     },
     "metadata": {},
     "output_type": "display_data"
    }
   ],
   "source": [
    "fig, ax = plt.subplots(figsize=(14, 6))\n",
    "ax.plot(X[:,1:], y, \"o\", label=\"data\", markersize=2, linewidth = 0.3)\n",
    "ax.plot(X[:,1:], res.fittedvalues, \"r-\", label=\"OLS\", markersize=0.1, linewidth = 0.2)\n",
    "ax.plot(X[:,1], X[:,[0,1]] @ (np.linalg.pinv(X[:,[0,1]]) @ y), \"g:\", label=\"simpw\", markersize=2, linewidth = 0.5)\n",
    "ax.plot(X[:,2], X[:,[0,2]] @ (np.linalg.pinv(X[:,[0,2]]) @ y), \"r:\", label=\"simph\", markersize=2, linewidth = 0.5)\n",
    "#ax.plot(X[:,1:], iv_u, \"r--\", linewidth = 0.1)\n",
    "#ax.plot(X[:,1:], iv_l, \"r--\", linewidth = 0.1)\n",
    "ax.set_xlabel('weight + height')\n",
    "ax.set_ylabel('BMI')\n",
    "ax.legend(loc=\"best\")\n",
    "plt.show()"
   ]
  },
  {
   "cell_type": "code",
   "execution_count": 16,
   "metadata": {
    "colab": {
     "base_uri": "https://localhost:8080/",
     "height": 653
    },
    "executionInfo": {
     "elapsed": 647,
     "status": "ok",
     "timestamp": 1712753009409,
     "user": {
      "displayName": "Theodor Trausan-Matu",
      "userId": "17891038521471135148"
     },
     "user_tz": -180
    },
    "id": "GpBVgyGx9pQJ",
    "outputId": "f7bbbb88-c4ff-4a0d-d4dc-b64cd2683f34"
   },
   "outputs": [
    {
     "data": {
      "image/png": "[encoded data removed]",
      "text/plain": [
       "<Figure size 1400x800 with 1 Axes>"
      ]
     },
     "metadata": {},
     "output_type": "display_data"
    }
   ],
   "source": [
    "ax = plt.figure(figsize=(14, 8)).add_subplot(projection='3d')\n",
    "ax.view_init(0, 235.5)     # 0, 235.5\n",
    "\n",
    "mx, my = np.meshgrid(np.linspace(40, 90, 80), np.linspace(135,175,80))\n",
    "mz = res.params[0] + res.params[1]*mx + res.params[2]*my\n",
    "ax.plot_wireframe(mx, my, mz, color='green', linewidth=0.1, ccount=10, rcount=10, antialiased=False, label='model plane')\n",
    "\n",
    "ax.plot(X[:,1], X[:,2], y.reshape((-1)), 'o', markersize = 2, linewidth = 0.3, label = 'data')\n",
    "#ax.plot(X[:,1], X[:,2], res.fittedvalues.reshape((-1)), 'g-', markersize=2, linewidth = 0.3, label = 'model curve')\n",
    "\n",
    "ax.plot(X[:,1], np.ones(80)*155, (X[:,[0,1]] @ (np.linalg.pinv(X[:,[0,1]]) @ y)).reshape((-1)), 'g-', markersize=3, linewidth = 0.3, label='simple reg. BMI weight')\n",
    "ax.plot(np.ones(80)*67, X[:,2], (X[:,[0,2]] @ (np.linalg.pinv(X[:,[0,2]]) @ y)).reshape((-1)), 'r-', markersize=3, linewidth = 0.3, label='simple reg. BMI height')\n",
    "\n",
    "ax.set_xlabel('weight')\n",
    "ax.set_ylabel('height')\n",
    "ax.set_zlabel('BMI')\n",
    "ax.legend()\n",
    "plt.show()"
   ]
  },
  {
   "cell_type": "code",
   "execution_count": 10,
   "metadata": {
    "colab": {
     "base_uri": "https://localhost:8080/",
     "height": 444
    },
    "executionInfo": {
     "elapsed": 247,
     "status": "ok",
     "timestamp": 1712752194776,
     "user": {
      "displayName": "Theodor Trausan-Matu",
      "userId": "17891038521471135148"
     },
     "user_tz": -180
    },
    "id": "IICXOn2Z-_NO",
    "outputId": "035ae198-737e-4da9-92ee-10e9027b4c3c"
   },
   "outputs": [
    {
     "data": {
      "text/html": [
       "<table class=\"simpletable\">\n",
       "<caption>OLS Regression Results</caption>\n",
       "<tr>\n",
       "  <th>Dep. Variable:</th>            <td>y</td>        <th>  R-squared:         </th> <td>   0.467</td>\n",
       "</tr>\n",
       "<tr>\n",
       "  <th>Model:</th>                   <td>OLS</td>       <th>  Adj. R-squared:    </th> <td>   0.460</td>\n",
       "</tr>\n",
       "<tr>\n",
       "  <th>Method:</th>             <td>Least Squares</td>  <th>  F-statistic:       </th> <td>   68.38</td>\n",
       "</tr>\n",
       "<tr>\n",
       "  <th>Date:</th>             <td>Sun, 14 Apr 2024</td> <th>  Prob (F-statistic):</th> <td>2.83e-12</td>\n",
       "</tr>\n",
       "<tr>\n",
       "  <th>Time:</th>                 <td>19:24:14</td>     <th>  Log-Likelihood:    </th> <td> -173.13</td>\n",
       "</tr>\n",
       "<tr>\n",
       "  <th>No. Observations:</th>      <td>    80</td>      <th>  AIC:               </th> <td>   350.3</td>\n",
       "</tr>\n",
       "<tr>\n",
       "  <th>Df Residuals:</th>          <td>    78</td>      <th>  BIC:               </th> <td>   355.0</td>\n",
       "</tr>\n",
       "<tr>\n",
       "  <th>Df Model:</th>              <td>     1</td>      <th>                     </th>     <td> </td>   \n",
       "</tr>\n",
       "<tr>\n",
       "  <th>Covariance Type:</th>      <td>nonrobust</td>    <th>                     </th>     <td> </td>   \n",
       "</tr>\n",
       "</table>\n",
       "<table class=\"simpletable\">\n",
       "<tr>\n",
       "    <td></td>       <th>coef</th>     <th>std err</th>      <th>t</th>      <th>P>|t|</th>  <th>[0.025</th>    <th>0.975]</th>  \n",
       "</tr>\n",
       "<tr>\n",
       "  <th>const</th> <td>   14.2317</td> <td>    1.659</td> <td>    8.580</td> <td> 0.000</td> <td>   10.930</td> <td>   17.534</td>\n",
       "</tr>\n",
       "<tr>\n",
       "  <th>x1</th>    <td>    0.2023</td> <td>    0.024</td> <td>    8.269</td> <td> 0.000</td> <td>    0.154</td> <td>    0.251</td>\n",
       "</tr>\n",
       "</table>\n",
       "<table class=\"simpletable\">\n",
       "<tr>\n",
       "  <th>Omnibus:</th>       <td> 1.666</td> <th>  Durbin-Watson:     </th> <td>   0.976</td>\n",
       "</tr>\n",
       "<tr>\n",
       "  <th>Prob(Omnibus):</th> <td> 0.435</td> <th>  Jarque-Bera (JB):  </th> <td>   1.697</td>\n",
       "</tr>\n",
       "<tr>\n",
       "  <th>Skew:</th>          <td> 0.306</td> <th>  Prob(JB):          </th> <td>   0.428</td>\n",
       "</tr>\n",
       "<tr>\n",
       "  <th>Kurtosis:</th>      <td> 2.632</td> <th>  Cond. No.          </th> <td>    472.</td>\n",
       "</tr>\n",
       "</table><br/><br/>Notes:<br/>[1] Standard Errors assume that the covariance matrix of the errors is correctly specified."
      ],
      "text/latex": [
       "\\begin{center}\n",
       "\\begin{tabular}{lclc}\n",
       "\\toprule\n",
       "\\textbf{Dep. Variable:}    &        y         & \\textbf{  R-squared:         } &     0.467   \\\\\n",
       "\\textbf{Model:}            &       OLS        & \\textbf{  Adj. R-squared:    } &     0.460   \\\\\n",
       "\\textbf{Method:}           &  Least Squares   & \\textbf{  F-statistic:       } &     68.38   \\\\\n",
       "\\textbf{Date:}             & Sun, 14 Apr 2024 & \\textbf{  Prob (F-statistic):} &  2.83e-12   \\\\\n",
       "\\textbf{Time:}             &     19:24:14     & \\textbf{  Log-Likelihood:    } &   -173.13   \\\\\n",
       "\\textbf{No. Observations:} &          80      & \\textbf{  AIC:               } &     350.3   \\\\\n",
       "\\textbf{Df Residuals:}     &          78      & \\textbf{  BIC:               } &     355.0   \\\\\n",
       "\\textbf{Df Model:}         &           1      & \\textbf{                     } &             \\\\\n",
       "\\textbf{Covariance Type:}  &    nonrobust     & \\textbf{                     } &             \\\\\n",
       "\\bottomrule\n",
       "\\end{tabular}\n",
       "\\begin{tabular}{lcccccc}\n",
       "               & \\textbf{coef} & \\textbf{std err} & \\textbf{t} & \\textbf{P$> |$t$|$} & \\textbf{[0.025} & \\textbf{0.975]}  \\\\\n",
       "\\midrule\n",
       "\\textbf{const} &      14.2317  &        1.659     &     8.580  &         0.000        &       10.930    &       17.534     \\\\\n",
       "\\textbf{x1}    &       0.2023  &        0.024     &     8.269  &         0.000        &        0.154    &        0.251     \\\\\n",
       "\\bottomrule\n",
       "\\end{tabular}\n",
       "\\begin{tabular}{lclc}\n",
       "\\textbf{Omnibus:}       &  1.666 & \\textbf{  Durbin-Watson:     } &    0.976  \\\\\n",
       "\\textbf{Prob(Omnibus):} &  0.435 & \\textbf{  Jarque-Bera (JB):  } &    1.697  \\\\\n",
       "\\textbf{Skew:}          &  0.306 & \\textbf{  Prob(JB):          } &    0.428  \\\\\n",
       "\\textbf{Kurtosis:}      &  2.632 & \\textbf{  Cond. No.          } &     472.  \\\\\n",
       "\\bottomrule\n",
       "\\end{tabular}\n",
       "%\\caption{OLS Regression Results}\n",
       "\\end{center}\n",
       "\n",
       "Notes: \\newline\n",
       " [1] Standard Errors assume that the covariance matrix of the errors is correctly specified."
      ],
      "text/plain": [
       "<class 'statsmodels.iolib.summary.Summary'>\n",
       "\"\"\"\n",
       "                            OLS Regression Results                            \n",
       "==============================================================================\n",
       "Dep. Variable:                      y   R-squared:                       0.467\n",
       "Model:                            OLS   Adj. R-squared:                  0.460\n",
       "Method:                 Least Squares   F-statistic:                     68.38\n",
       "Date:                Sun, 14 Apr 2024   Prob (F-statistic):           2.83e-12\n",
       "Time:                        19:24:14   Log-Likelihood:                -173.13\n",
       "No. Observations:                  80   AIC:                             350.3\n",
       "Df Residuals:                      78   BIC:                             355.0\n",
       "Df Model:                           1                                         \n",
       "Covariance Type:            nonrobust                                         \n",
       "==============================================================================\n",
       "                 coef    std err          t      P>|t|      [0.025      0.975]\n",
       "------------------------------------------------------------------------------\n",
       "const         14.2317      1.659      8.580      0.000      10.930      17.534\n",
       "x1             0.2023      0.024      8.269      0.000       0.154       0.251\n",
       "==============================================================================\n",
       "Omnibus:                        1.666   Durbin-Watson:                   0.976\n",
       "Prob(Omnibus):                  0.435   Jarque-Bera (JB):                1.697\n",
       "Skew:                           0.306   Prob(JB):                        0.428\n",
       "Kurtosis:                       2.632   Cond. No.                         472.\n",
       "==============================================================================\n",
       "\n",
       "Notes:\n",
       "[1] Standard Errors assume that the covariance matrix of the errors is correctly specified.\n",
       "\"\"\""
      ]
     },
     "execution_count": 10,
     "metadata": {},
     "output_type": "execute_result"
    }
   ],
   "source": [
    "OLSdirect(y, X[:,[0,1]]).summary()"
   ]
  },
  {
   "cell_type": "code",
   "execution_count": 11,
   "metadata": {
    "colab": {
     "base_uri": "https://localhost:8080/",
     "height": 444
    },
    "executionInfo": {
     "elapsed": 4,
     "status": "ok",
     "timestamp": 1712750883661,
     "user": {
      "displayName": "Theodor Trausan-Matu",
      "userId": "17891038521471135148"
     },
     "user_tz": -180
    },
    "id": "54jQjqi25Qne",
    "outputId": "b0bd3e44-fc15-4739-868f-52965a096919"
   },
   "outputs": [
    {
     "data": {
      "text/html": [
       "<table class=\"simpletable\">\n",
       "<caption>OLS Regression Results</caption>\n",
       "<tr>\n",
       "  <th>Dep. Variable:</th>            <td>y</td>        <th>  R-squared:         </th> <td>   0.483</td>\n",
       "</tr>\n",
       "<tr>\n",
       "  <th>Model:</th>                   <td>OLS</td>       <th>  Adj. R-squared:    </th> <td>   0.476</td>\n",
       "</tr>\n",
       "<tr>\n",
       "  <th>Method:</th>             <td>Least Squares</td>  <th>  F-statistic:       </th> <td>   72.79</td>\n",
       "</tr>\n",
       "<tr>\n",
       "  <th>Date:</th>             <td>Sun, 14 Apr 2024</td> <th>  Prob (F-statistic):</th> <td>8.75e-13</td>\n",
       "</tr>\n",
       "<tr>\n",
       "  <th>Time:</th>                 <td>19:24:14</td>     <th>  Log-Likelihood:    </th> <td>  158.12</td>\n",
       "</tr>\n",
       "<tr>\n",
       "  <th>No. Observations:</th>      <td>    80</td>      <th>  AIC:               </th> <td>  -312.2</td>\n",
       "</tr>\n",
       "<tr>\n",
       "  <th>Df Residuals:</th>          <td>    78</td>      <th>  BIC:               </th> <td>  -307.5</td>\n",
       "</tr>\n",
       "<tr>\n",
       "  <th>Df Model:</th>              <td>     1</td>      <th>                     </th>     <td> </td>   \n",
       "</tr>\n",
       "<tr>\n",
       "  <th>Covariance Type:</th>      <td>nonrobust</td>    <th>                     </th>     <td> </td>   \n",
       "</tr>\n",
       "</table>\n",
       "<table class=\"simpletable\">\n",
       "<tr>\n",
       "    <td></td>       <th>coef</th>     <th>std err</th>      <th>t</th>      <th>P>|t|</th>  <th>[0.025</th>    <th>0.975]</th>  \n",
       "</tr>\n",
       "<tr>\n",
       "  <th>const</th> <td>    0.6419</td> <td>    0.026</td> <td>   24.322</td> <td> 0.000</td> <td>    0.589</td> <td>    0.694</td>\n",
       "</tr>\n",
       "<tr>\n",
       "  <th>x1</th>    <td>   -0.0033</td> <td>    0.000</td> <td>   -8.532</td> <td> 0.000</td> <td>   -0.004</td> <td>   -0.003</td>\n",
       "</tr>\n",
       "</table>\n",
       "<table class=\"simpletable\">\n",
       "<tr>\n",
       "  <th>Omnibus:</th>       <td> 0.750</td> <th>  Durbin-Watson:     </th> <td>   0.932</td>\n",
       "</tr>\n",
       "<tr>\n",
       "  <th>Prob(Omnibus):</th> <td> 0.687</td> <th>  Jarque-Bera (JB):  </th> <td>   0.857</td>\n",
       "</tr>\n",
       "<tr>\n",
       "  <th>Skew:</th>          <td> 0.206</td> <th>  Prob(JB):          </th> <td>   0.652</td>\n",
       "</tr>\n",
       "<tr>\n",
       "  <th>Kurtosis:</th>      <td> 2.704</td> <th>  Cond. No.          </th> <td>    472.</td>\n",
       "</tr>\n",
       "</table><br/><br/>Notes:<br/>[1] Standard Errors assume that the covariance matrix of the errors is correctly specified."
      ],
      "text/latex": [
       "\\begin{center}\n",
       "\\begin{tabular}{lclc}\n",
       "\\toprule\n",
       "\\textbf{Dep. Variable:}    &        y         & \\textbf{  R-squared:         } &     0.483   \\\\\n",
       "\\textbf{Model:}            &       OLS        & \\textbf{  Adj. R-squared:    } &     0.476   \\\\\n",
       "\\textbf{Method:}           &  Least Squares   & \\textbf{  F-statistic:       } &     72.79   \\\\\n",
       "\\textbf{Date:}             & Sun, 14 Apr 2024 & \\textbf{  Prob (F-statistic):} &  8.75e-13   \\\\\n",
       "\\textbf{Time:}             &     19:24:14     & \\textbf{  Log-Likelihood:    } &    158.12   \\\\\n",
       "\\textbf{No. Observations:} &          80      & \\textbf{  AIC:               } &    -312.2   \\\\\n",
       "\\textbf{Df Residuals:}     &          78      & \\textbf{  BIC:               } &    -307.5   \\\\\n",
       "\\textbf{Df Model:}         &           1      & \\textbf{                     } &             \\\\\n",
       "\\textbf{Covariance Type:}  &    nonrobust     & \\textbf{                     } &             \\\\\n",
       "\\bottomrule\n",
       "\\end{tabular}\n",
       "\\begin{tabular}{lcccccc}\n",
       "               & \\textbf{coef} & \\textbf{std err} & \\textbf{t} & \\textbf{P$> |$t$|$} & \\textbf{[0.025} & \\textbf{0.975]}  \\\\\n",
       "\\midrule\n",
       "\\textbf{const} &       0.6419  &        0.026     &    24.322  &         0.000        &        0.589    &        0.694     \\\\\n",
       "\\textbf{x1}    &      -0.0033  &        0.000     &    -8.532  &         0.000        &       -0.004    &       -0.003     \\\\\n",
       "\\bottomrule\n",
       "\\end{tabular}\n",
       "\\begin{tabular}{lclc}\n",
       "\\textbf{Omnibus:}       &  0.750 & \\textbf{  Durbin-Watson:     } &    0.932  \\\\\n",
       "\\textbf{Prob(Omnibus):} &  0.687 & \\textbf{  Jarque-Bera (JB):  } &    0.857  \\\\\n",
       "\\textbf{Skew:}          &  0.206 & \\textbf{  Prob(JB):          } &    0.652  \\\\\n",
       "\\textbf{Kurtosis:}      &  2.704 & \\textbf{  Cond. No.          } &     472.  \\\\\n",
       "\\bottomrule\n",
       "\\end{tabular}\n",
       "%\\caption{OLS Regression Results}\n",
       "\\end{center}\n",
       "\n",
       "Notes: \\newline\n",
       " [1] Standard Errors assume that the covariance matrix of the errors is correctly specified."
      ],
      "text/plain": [
       "<class 'statsmodels.iolib.summary.Summary'>\n",
       "\"\"\"\n",
       "                            OLS Regression Results                            \n",
       "==============================================================================\n",
       "Dep. Variable:                      y   R-squared:                       0.483\n",
       "Model:                            OLS   Adj. R-squared:                  0.476\n",
       "Method:                 Least Squares   F-statistic:                     72.79\n",
       "Date:                Sun, 14 Apr 2024   Prob (F-statistic):           8.75e-13\n",
       "Time:                        19:24:14   Log-Likelihood:                 158.12\n",
       "No. Observations:                  80   AIC:                            -312.2\n",
       "Df Residuals:                      78   BIC:                            -307.5\n",
       "Df Model:                           1                                         \n",
       "Covariance Type:            nonrobust                                         \n",
       "==============================================================================\n",
       "                 coef    std err          t      P>|t|      [0.025      0.975]\n",
       "------------------------------------------------------------------------------\n",
       "const          0.6419      0.026     24.322      0.000       0.589       0.694\n",
       "x1            -0.0033      0.000     -8.532      0.000      -0.004      -0.003\n",
       "==============================================================================\n",
       "Omnibus:                        0.750   Durbin-Watson:                   0.932\n",
       "Prob(Omnibus):                  0.687   Jarque-Bera (JB):                0.857\n",
       "Skew:                           0.206   Prob(JB):                        0.652\n",
       "Kurtosis:                       2.704   Cond. No.                         472.\n",
       "==============================================================================\n",
       "\n",
       "Notes:\n",
       "[1] Standard Errors assume that the covariance matrix of the errors is correctly specified.\n",
       "\"\"\""
      ]
     },
     "execution_count": 11,
     "metadata": {},
     "output_type": "execute_result"
    }
   ],
   "source": [
    "OLSdirect((m.BMI_init / m.weight_init).values.reshape((-1,1)), X[:,[0,1]]).summary()"
   ]
  },
  {
   "cell_type": "code",
   "execution_count": 12,
   "metadata": {
    "colab": {
     "base_uri": "https://localhost:8080/",
     "height": 444
    },
    "executionInfo": {
     "elapsed": 289,
     "status": "ok",
     "timestamp": 1712750957781,
     "user": {
      "displayName": "Theodor Trausan-Matu",
      "userId": "17891038521471135148"
     },
     "user_tz": -180
    },
    "id": "ynsxkBvc6Mbh",
    "outputId": "fbf523d6-1c81-444a-94ee-b77ceb111471"
   },
   "outputs": [
    {
     "data": {
      "text/html": [
       "<table class=\"simpletable\">\n",
       "<caption>OLS Regression Results</caption>\n",
       "<tr>\n",
       "  <th>Dep. Variable:</th>            <td>y</td>        <th>  R-squared:         </th> <td>   0.885</td>\n",
       "</tr>\n",
       "<tr>\n",
       "  <th>Model:</th>                   <td>OLS</td>       <th>  Adj. R-squared:    </th> <td>   0.883</td>\n",
       "</tr>\n",
       "<tr>\n",
       "  <th>Method:</th>             <td>Least Squares</td>  <th>  F-statistic:       </th> <td>   599.2</td>\n",
       "</tr>\n",
       "<tr>\n",
       "  <th>Date:</th>             <td>Sun, 14 Apr 2024</td> <th>  Prob (F-statistic):</th> <td>2.37e-38</td>\n",
       "</tr>\n",
       "<tr>\n",
       "  <th>Time:</th>                 <td>19:24:14</td>     <th>  Log-Likelihood:    </th> <td> -513.49</td>\n",
       "</tr>\n",
       "<tr>\n",
       "  <th>No. Observations:</th>      <td>    80</td>      <th>  AIC:               </th> <td>   1031.</td>\n",
       "</tr>\n",
       "<tr>\n",
       "  <th>Df Residuals:</th>          <td>    78</td>      <th>  BIC:               </th> <td>   1036.</td>\n",
       "</tr>\n",
       "<tr>\n",
       "  <th>Df Model:</th>              <td>     1</td>      <th>                     </th>     <td> </td>   \n",
       "</tr>\n",
       "<tr>\n",
       "  <th>Covariance Type:</th>      <td>nonrobust</td>    <th>                     </th>     <td> </td>   \n",
       "</tr>\n",
       "</table>\n",
       "<table class=\"simpletable\">\n",
       "<tr>\n",
       "    <td></td>       <th>coef</th>     <th>std err</th>      <th>t</th>      <th>P>|t|</th>  <th>[0.025</th>    <th>0.975]</th>  \n",
       "</tr>\n",
       "<tr>\n",
       "  <th>const</th> <td> -944.3463</td> <td>  116.802</td> <td>   -8.085</td> <td> 0.000</td> <td>-1176.882</td> <td> -711.811</td>\n",
       "</tr>\n",
       "<tr>\n",
       "  <th>x1</th>    <td>   42.1652</td> <td>    1.723</td> <td>   24.478</td> <td> 0.000</td> <td>   38.736</td> <td>   45.595</td>\n",
       "</tr>\n",
       "</table>\n",
       "<table class=\"simpletable\">\n",
       "<tr>\n",
       "  <th>Omnibus:</th>       <td> 2.214</td> <th>  Durbin-Watson:     </th> <td>   0.947</td>\n",
       "</tr>\n",
       "<tr>\n",
       "  <th>Prob(Omnibus):</th> <td> 0.331</td> <th>  Jarque-Bera (JB):  </th> <td>   1.971</td>\n",
       "</tr>\n",
       "<tr>\n",
       "  <th>Skew:</th>          <td> 0.383</td> <th>  Prob(JB):          </th> <td>   0.373</td>\n",
       "</tr>\n",
       "<tr>\n",
       "  <th>Kurtosis:</th>      <td> 2.942</td> <th>  Cond. No.          </th> <td>    472.</td>\n",
       "</tr>\n",
       "</table><br/><br/>Notes:<br/>[1] Standard Errors assume that the covariance matrix of the errors is correctly specified."
      ],
      "text/latex": [
       "\\begin{center}\n",
       "\\begin{tabular}{lclc}\n",
       "\\toprule\n",
       "\\textbf{Dep. Variable:}    &        y         & \\textbf{  R-squared:         } &     0.885   \\\\\n",
       "\\textbf{Model:}            &       OLS        & \\textbf{  Adj. R-squared:    } &     0.883   \\\\\n",
       "\\textbf{Method:}           &  Least Squares   & \\textbf{  F-statistic:       } &     599.2   \\\\\n",
       "\\textbf{Date:}             & Sun, 14 Apr 2024 & \\textbf{  Prob (F-statistic):} &  2.37e-38   \\\\\n",
       "\\textbf{Time:}             &     19:24:14     & \\textbf{  Log-Likelihood:    } &   -513.49   \\\\\n",
       "\\textbf{No. Observations:} &          80      & \\textbf{  AIC:               } &     1031.   \\\\\n",
       "\\textbf{Df Residuals:}     &          78      & \\textbf{  BIC:               } &     1036.   \\\\\n",
       "\\textbf{Df Model:}         &           1      & \\textbf{                     } &             \\\\\n",
       "\\textbf{Covariance Type:}  &    nonrobust     & \\textbf{                     } &             \\\\\n",
       "\\bottomrule\n",
       "\\end{tabular}\n",
       "\\begin{tabular}{lcccccc}\n",
       "               & \\textbf{coef} & \\textbf{std err} & \\textbf{t} & \\textbf{P$> |$t$|$} & \\textbf{[0.025} & \\textbf{0.975]}  \\\\\n",
       "\\midrule\n",
       "\\textbf{const} &    -944.3463  &      116.802     &    -8.085  &         0.000        &    -1176.882    &     -711.811     \\\\\n",
       "\\textbf{x1}    &      42.1652  &        1.723     &    24.478  &         0.000        &       38.736    &       45.595     \\\\\n",
       "\\bottomrule\n",
       "\\end{tabular}\n",
       "\\begin{tabular}{lclc}\n",
       "\\textbf{Omnibus:}       &  2.214 & \\textbf{  Durbin-Watson:     } &    0.947  \\\\\n",
       "\\textbf{Prob(Omnibus):} &  0.331 & \\textbf{  Jarque-Bera (JB):  } &    1.971  \\\\\n",
       "\\textbf{Skew:}          &  0.383 & \\textbf{  Prob(JB):          } &    0.373  \\\\\n",
       "\\textbf{Kurtosis:}      &  2.942 & \\textbf{  Cond. No.          } &     472.  \\\\\n",
       "\\bottomrule\n",
       "\\end{tabular}\n",
       "%\\caption{OLS Regression Results}\n",
       "\\end{center}\n",
       "\n",
       "Notes: \\newline\n",
       " [1] Standard Errors assume that the covariance matrix of the errors is correctly specified."
      ],
      "text/plain": [
       "<class 'statsmodels.iolib.summary.Summary'>\n",
       "\"\"\"\n",
       "                            OLS Regression Results                            \n",
       "==============================================================================\n",
       "Dep. Variable:                      y   R-squared:                       0.885\n",
       "Model:                            OLS   Adj. R-squared:                  0.883\n",
       "Method:                 Least Squares   F-statistic:                     599.2\n",
       "Date:                Sun, 14 Apr 2024   Prob (F-statistic):           2.37e-38\n",
       "Time:                        19:24:14   Log-Likelihood:                -513.49\n",
       "No. Observations:                  80   AIC:                             1031.\n",
       "Df Residuals:                      78   BIC:                             1036.\n",
       "Df Model:                           1                                         \n",
       "Covariance Type:            nonrobust                                         \n",
       "==============================================================================\n",
       "                 coef    std err          t      P>|t|      [0.025      0.975]\n",
       "------------------------------------------------------------------------------\n",
       "const       -944.3463    116.802     -8.085      0.000   -1176.882    -711.811\n",
       "x1            42.1652      1.723     24.478      0.000      38.736      45.595\n",
       "==============================================================================\n",
       "Omnibus:                        2.214   Durbin-Watson:                   0.947\n",
       "Prob(Omnibus):                  0.331   Jarque-Bera (JB):                1.971\n",
       "Skew:                           0.383   Prob(JB):                        0.373\n",
       "Kurtosis:                       2.942   Cond. No.                         472.\n",
       "==============================================================================\n",
       "\n",
       "Notes:\n",
       "[1] Standard Errors assume that the covariance matrix of the errors is correctly specified.\n",
       "\"\"\""
      ]
     },
     "execution_count": 12,
     "metadata": {},
     "output_type": "execute_result"
    }
   ],
   "source": [
    "OLSdirect((m.BMI_init * m.weight_init).values.reshape((-1,1)), X[:,[0,1]]).summary()"
   ]
  },
  {
   "cell_type": "code",
   "execution_count": 13,
   "metadata": {
    "colab": {
     "base_uri": "https://localhost:8080/",
     "height": 444
    },
    "executionInfo": {
     "elapsed": 248,
     "status": "ok",
     "timestamp": 1712750771157,
     "user": {
      "displayName": "Theodor Trausan-Matu",
      "userId": "17891038521471135148"
     },
     "user_tz": -180
    },
    "id": "9BW4WXP73OOq",
    "outputId": "e4a64339-83fa-4d60-ee24-4fdc732f9882"
   },
   "outputs": [
    {
     "data": {
      "text/html": [
       "<table class=\"simpletable\">\n",
       "<caption>OLS Regression Results</caption>\n",
       "<tr>\n",
       "  <th>Dep. Variable:</th>            <td>y</td>        <th>  R-squared:         </th> <td>   1.000</td> \n",
       "</tr>\n",
       "<tr>\n",
       "  <th>Model:</th>                   <td>OLS</td>       <th>  Adj. R-squared:    </th> <td>   1.000</td> \n",
       "</tr>\n",
       "<tr>\n",
       "  <th>Method:</th>             <td>Least Squares</td>  <th>  F-statistic:       </th> <td>1.745e+20</td>\n",
       "</tr>\n",
       "<tr>\n",
       "  <th>Date:</th>             <td>Sun, 14 Apr 2024</td> <th>  Prob (F-statistic):</th>  <td>  0.00</td>  \n",
       "</tr>\n",
       "<tr>\n",
       "  <th>Time:</th>                 <td>19:24:14</td>     <th>  Log-Likelihood:    </th> <td>  657.53</td> \n",
       "</tr>\n",
       "<tr>\n",
       "  <th>No. Observations:</th>      <td>    80</td>      <th>  AIC:               </th> <td>  -1311.</td> \n",
       "</tr>\n",
       "<tr>\n",
       "  <th>Df Residuals:</th>          <td>    78</td>      <th>  BIC:               </th> <td>  -1306.</td> \n",
       "</tr>\n",
       "<tr>\n",
       "  <th>Df Model:</th>              <td>     1</td>      <th>                     </th>     <td> </td>    \n",
       "</tr>\n",
       "<tr>\n",
       "  <th>Covariance Type:</th>      <td>nonrobust</td>    <th>                     </th>     <td> </td>    \n",
       "</tr>\n",
       "</table>\n",
       "<table class=\"simpletable\">\n",
       "<tr>\n",
       "    <td></td>       <th>coef</th>     <th>std err</th>      <th>t</th>      <th>P>|t|</th>  <th>[0.025</th>    <th>0.975]</th>  \n",
       "</tr>\n",
       "<tr>\n",
       "  <th>const</th> <td> 3.704e-05</td> <td> 5.13e-05</td> <td>    0.722</td> <td> 0.473</td> <td>-6.51e-05</td> <td>    0.000</td>\n",
       "</tr>\n",
       "<tr>\n",
       "  <th>x1</th>    <td>10000.0000</td> <td> 7.57e-07</td> <td> 1.32e+10</td> <td> 0.000</td> <td>10000.000</td> <td>    1e+04</td>\n",
       "</tr>\n",
       "</table>\n",
       "<table class=\"simpletable\">\n",
       "<tr>\n",
       "  <th>Omnibus:</th>       <td> 2.168</td> <th>  Durbin-Watson:     </th> <td>   1.613</td>\n",
       "</tr>\n",
       "<tr>\n",
       "  <th>Prob(Omnibus):</th> <td> 0.338</td> <th>  Jarque-Bera (JB):  </th> <td>   1.451</td>\n",
       "</tr>\n",
       "<tr>\n",
       "  <th>Skew:</th>          <td>-0.028</td> <th>  Prob(JB):          </th> <td>   0.484</td>\n",
       "</tr>\n",
       "<tr>\n",
       "  <th>Kurtosis:</th>      <td> 2.343</td> <th>  Cond. No.          </th> <td>    472.</td>\n",
       "</tr>\n",
       "</table><br/><br/>Notes:<br/>[1] Standard Errors assume that the covariance matrix of the errors is correctly specified."
      ],
      "text/latex": [
       "\\begin{center}\n",
       "\\begin{tabular}{lclc}\n",
       "\\toprule\n",
       "\\textbf{Dep. Variable:}    &        y         & \\textbf{  R-squared:         } &     1.000   \\\\\n",
       "\\textbf{Model:}            &       OLS        & \\textbf{  Adj. R-squared:    } &     1.000   \\\\\n",
       "\\textbf{Method:}           &  Least Squares   & \\textbf{  F-statistic:       } & 1.745e+20   \\\\\n",
       "\\textbf{Date:}             & Sun, 14 Apr 2024 & \\textbf{  Prob (F-statistic):} &     0.00    \\\\\n",
       "\\textbf{Time:}             &     19:24:14     & \\textbf{  Log-Likelihood:    } &    657.53   \\\\\n",
       "\\textbf{No. Observations:} &          80      & \\textbf{  AIC:               } &    -1311.   \\\\\n",
       "\\textbf{Df Residuals:}     &          78      & \\textbf{  BIC:               } &    -1306.   \\\\\n",
       "\\textbf{Df Model:}         &           1      & \\textbf{                     } &             \\\\\n",
       "\\textbf{Covariance Type:}  &    nonrobust     & \\textbf{                     } &             \\\\\n",
       "\\bottomrule\n",
       "\\end{tabular}\n",
       "\\begin{tabular}{lcccccc}\n",
       "               & \\textbf{coef} & \\textbf{std err} & \\textbf{t} & \\textbf{P$> |$t$|$} & \\textbf{[0.025} & \\textbf{0.975]}  \\\\\n",
       "\\midrule\n",
       "\\textbf{const} &    3.704e-05  &     5.13e-05     &     0.722  &         0.473        &    -6.51e-05    &        0.000     \\\\\n",
       "\\textbf{x1}    &   10000.0000  &     7.57e-07     &  1.32e+10  &         0.000        &    10000.000    &        1e+04     \\\\\n",
       "\\bottomrule\n",
       "\\end{tabular}\n",
       "\\begin{tabular}{lclc}\n",
       "\\textbf{Omnibus:}       &  2.168 & \\textbf{  Durbin-Watson:     } &    1.613  \\\\\n",
       "\\textbf{Prob(Omnibus):} &  0.338 & \\textbf{  Jarque-Bera (JB):  } &    1.451  \\\\\n",
       "\\textbf{Skew:}          & -0.028 & \\textbf{  Prob(JB):          } &    0.484  \\\\\n",
       "\\textbf{Kurtosis:}      &  2.343 & \\textbf{  Cond. No.          } &     472.  \\\\\n",
       "\\bottomrule\n",
       "\\end{tabular}\n",
       "%\\caption{OLS Regression Results}\n",
       "\\end{center}\n",
       "\n",
       "Notes: \\newline\n",
       " [1] Standard Errors assume that the covariance matrix of the errors is correctly specified."
      ],
      "text/plain": [
       "<class 'statsmodels.iolib.summary.Summary'>\n",
       "\"\"\"\n",
       "                            OLS Regression Results                            \n",
       "==============================================================================\n",
       "Dep. Variable:                      y   R-squared:                       1.000\n",
       "Model:                            OLS   Adj. R-squared:                  1.000\n",
       "Method:                 Least Squares   F-statistic:                 1.745e+20\n",
       "Date:                Sun, 14 Apr 2024   Prob (F-statistic):               0.00\n",
       "Time:                        19:24:14   Log-Likelihood:                 657.53\n",
       "No. Observations:                  80   AIC:                            -1311.\n",
       "Df Residuals:                      78   BIC:                            -1306.\n",
       "Df Model:                           1                                         \n",
       "Covariance Type:            nonrobust                                         \n",
       "==============================================================================\n",
       "                 coef    std err          t      P>|t|      [0.025      0.975]\n",
       "------------------------------------------------------------------------------\n",
       "const       3.704e-05   5.13e-05      0.722      0.473   -6.51e-05       0.000\n",
       "x1         10000.0000   7.57e-07   1.32e+10      0.000   10000.000       1e+04\n",
       "==============================================================================\n",
       "Omnibus:                        2.168   Durbin-Watson:                   1.613\n",
       "Prob(Omnibus):                  0.338   Jarque-Bera (JB):                1.451\n",
       "Skew:                          -0.028   Prob(JB):                        0.484\n",
       "Kurtosis:                       2.343   Cond. No.                         472.\n",
       "==============================================================================\n",
       "\n",
       "Notes:\n",
       "[1] Standard Errors assume that the covariance matrix of the errors is correctly specified.\n",
       "\"\"\""
      ]
     },
     "execution_count": 13,
     "metadata": {},
     "output_type": "execute_result"
    }
   ],
   "source": [
    "OLSdirect((m.BMI_init * m.height_init**2).values.reshape((-1,1)), X[:,[0,1]]).summary()"
   ]
  },
  {
   "cell_type": "code",
   "execution_count": 14,
   "metadata": {
    "colab": {
     "base_uri": "https://localhost:8080/",
     "height": 444
    },
    "executionInfo": {
     "elapsed": 3,
     "status": "ok",
     "timestamp": 1712751811736,
     "user": {
      "displayName": "Theodor Trausan-Matu",
      "userId": "17891038521471135148"
     },
     "user_tz": -180
    },
    "id": "lm0zWSxr6Y9T",
    "outputId": "ddc8eb28-fc60-4e55-9deb-08b64e3357e9"
   },
   "outputs": [
    {
     "data": {
      "text/html": [
       "<table class=\"simpletable\">\n",
       "<caption>OLS Regression Results</caption>\n",
       "<tr>\n",
       "  <th>Dep. Variable:</th>            <td>y</td>        <th>  R-squared:         </th> <td>   0.405</td>\n",
       "</tr>\n",
       "<tr>\n",
       "  <th>Model:</th>                   <td>OLS</td>       <th>  Adj. R-squared:    </th> <td>   0.398</td>\n",
       "</tr>\n",
       "<tr>\n",
       "  <th>Method:</th>             <td>Least Squares</td>  <th>  F-statistic:       </th> <td>   52.47</td>\n",
       "</tr>\n",
       "<tr>\n",
       "  <th>Date:</th>             <td>Sun, 14 Apr 2024</td> <th>  Prob (F-statistic):</th> <td>2.86e-10</td>\n",
       "</tr>\n",
       "<tr>\n",
       "  <th>Time:</th>                 <td>19:24:14</td>     <th>  Log-Likelihood:    </th> <td> -194.84</td>\n",
       "</tr>\n",
       "<tr>\n",
       "  <th>No. Observations:</th>      <td>    79</td>      <th>  AIC:               </th> <td>   393.7</td>\n",
       "</tr>\n",
       "<tr>\n",
       "  <th>Df Residuals:</th>          <td>    77</td>      <th>  BIC:               </th> <td>   398.4</td>\n",
       "</tr>\n",
       "<tr>\n",
       "  <th>Df Model:</th>              <td>     1</td>      <th>                     </th>     <td> </td>   \n",
       "</tr>\n",
       "<tr>\n",
       "  <th>Covariance Type:</th>      <td>nonrobust</td>    <th>                     </th>     <td> </td>   \n",
       "</tr>\n",
       "</table>\n",
       "<table class=\"simpletable\">\n",
       "<tr>\n",
       "    <td></td>       <th>coef</th>     <th>std err</th>      <th>t</th>      <th>P>|t|</th>  <th>[0.025</th>    <th>0.975]</th>  \n",
       "</tr>\n",
       "<tr>\n",
       "  <th>const</th> <td>  -16.0760</td> <td>    2.245</td> <td>   -7.162</td> <td> 0.000</td> <td>  -20.545</td> <td>  -11.607</td>\n",
       "</tr>\n",
       "<tr>\n",
       "  <th>x1</th>    <td>    0.2399</td> <td>    0.033</td> <td>    7.244</td> <td> 0.000</td> <td>    0.174</td> <td>    0.306</td>\n",
       "</tr>\n",
       "</table>\n",
       "<table class=\"simpletable\">\n",
       "<tr>\n",
       "  <th>Omnibus:</th>       <td> 1.591</td> <th>  Durbin-Watson:     </th> <td>   2.342</td>\n",
       "</tr>\n",
       "<tr>\n",
       "  <th>Prob(Omnibus):</th> <td> 0.451</td> <th>  Jarque-Bera (JB):  </th> <td>   0.972</td>\n",
       "</tr>\n",
       "<tr>\n",
       "  <th>Skew:</th>          <td> 0.204</td> <th>  Prob(JB):          </th> <td>   0.615</td>\n",
       "</tr>\n",
       "<tr>\n",
       "  <th>Kurtosis:</th>      <td> 3.360</td> <th>  Cond. No.          </th> <td>    468.</td>\n",
       "</tr>\n",
       "</table><br/><br/>Notes:<br/>[1] Standard Errors assume that the covariance matrix of the errors is correctly specified."
      ],
      "text/latex": [
       "\\begin{center}\n",
       "\\begin{tabular}{lclc}\n",
       "\\toprule\n",
       "\\textbf{Dep. Variable:}    &        y         & \\textbf{  R-squared:         } &     0.405   \\\\\n",
       "\\textbf{Model:}            &       OLS        & \\textbf{  Adj. R-squared:    } &     0.398   \\\\\n",
       "\\textbf{Method:}           &  Least Squares   & \\textbf{  F-statistic:       } &     52.47   \\\\\n",
       "\\textbf{Date:}             & Sun, 14 Apr 2024 & \\textbf{  Prob (F-statistic):} &  2.86e-10   \\\\\n",
       "\\textbf{Time:}             &     19:24:14     & \\textbf{  Log-Likelihood:    } &   -194.84   \\\\\n",
       "\\textbf{No. Observations:} &          79      & \\textbf{  AIC:               } &     393.7   \\\\\n",
       "\\textbf{Df Residuals:}     &          77      & \\textbf{  BIC:               } &     398.4   \\\\\n",
       "\\textbf{Df Model:}         &           1      & \\textbf{                     } &             \\\\\n",
       "\\textbf{Covariance Type:}  &    nonrobust     & \\textbf{                     } &             \\\\\n",
       "\\bottomrule\n",
       "\\end{tabular}\n",
       "\\begin{tabular}{lcccccc}\n",
       "               & \\textbf{coef} & \\textbf{std err} & \\textbf{t} & \\textbf{P$> |$t$|$} & \\textbf{[0.025} & \\textbf{0.975]}  \\\\\n",
       "\\midrule\n",
       "\\textbf{const} &     -16.0760  &        2.245     &    -7.162  &         0.000        &      -20.545    &      -11.607     \\\\\n",
       "\\textbf{x1}    &       0.2399  &        0.033     &     7.244  &         0.000        &        0.174    &        0.306     \\\\\n",
       "\\bottomrule\n",
       "\\end{tabular}\n",
       "\\begin{tabular}{lclc}\n",
       "\\textbf{Omnibus:}       &  1.591 & \\textbf{  Durbin-Watson:     } &    2.342  \\\\\n",
       "\\textbf{Prob(Omnibus):} &  0.451 & \\textbf{  Jarque-Bera (JB):  } &    0.972  \\\\\n",
       "\\textbf{Skew:}          &  0.204 & \\textbf{  Prob(JB):          } &    0.615  \\\\\n",
       "\\textbf{Kurtosis:}      &  3.360 & \\textbf{  Cond. No.          } &     468.  \\\\\n",
       "\\bottomrule\n",
       "\\end{tabular}\n",
       "%\\caption{OLS Regression Results}\n",
       "\\end{center}\n",
       "\n",
       "Notes: \\newline\n",
       " [1] Standard Errors assume that the covariance matrix of the errors is correctly specified."
      ],
      "text/plain": [
       "<class 'statsmodels.iolib.summary.Summary'>\n",
       "\"\"\"\n",
       "                            OLS Regression Results                            \n",
       "==============================================================================\n",
       "Dep. Variable:                      y   R-squared:                       0.405\n",
       "Model:                            OLS   Adj. R-squared:                  0.398\n",
       "Method:                 Least Squares   F-statistic:                     52.47\n",
       "Date:                Sun, 14 Apr 2024   Prob (F-statistic):           2.86e-10\n",
       "Time:                        19:24:14   Log-Likelihood:                -194.84\n",
       "No. Observations:                  79   AIC:                             393.7\n",
       "Df Residuals:                      77   BIC:                             398.4\n",
       "Df Model:                           1                                         \n",
       "Covariance Type:            nonrobust                                         \n",
       "==============================================================================\n",
       "                 coef    std err          t      P>|t|      [0.025      0.975]\n",
       "------------------------------------------------------------------------------\n",
       "const        -16.0760      2.245     -7.162      0.000     -20.545     -11.607\n",
       "x1             0.2399      0.033      7.244      0.000       0.174       0.306\n",
       "==============================================================================\n",
       "Omnibus:                        1.591   Durbin-Watson:                   2.342\n",
       "Prob(Omnibus):                  0.451   Jarque-Bera (JB):                0.972\n",
       "Skew:                           0.204   Prob(JB):                        0.615\n",
       "Kurtosis:                       3.360   Cond. No.                         468.\n",
       "==============================================================================\n",
       "\n",
       "Notes:\n",
       "[1] Standard Errors assume that the covariance matrix of the errors is correctly specified.\n",
       "\"\"\""
      ]
     },
     "execution_count": 14,
     "metadata": {},
     "output_type": "execute_result"
    }
   ],
   "source": [
    "OLSdirect(m.BMI_init.diff()[1:].values.reshape((-1,1)), X[1:,[0,1]]).summary()"
   ]
  },
  {
   "cell_type": "code",
   "execution_count": 15,
   "metadata": {
    "colab": {
     "base_uri": "https://localhost:8080/",
     "height": 444
    },
    "executionInfo": {
     "elapsed": 7,
     "status": "ok",
     "timestamp": 1712751929082,
     "user": {
      "displayName": "Theodor Trausan-Matu",
      "userId": "17891038521471135148"
     },
     "user_tz": -180
    },
    "id": "QFTWw6I9794A",
    "outputId": "76bb5c25-6eb8-4569-8bbb-ab2755d907dc"
   },
   "outputs": [
    {
     "data": {
      "text/html": [
       "<table class=\"simpletable\">\n",
       "<caption>OLS Regression Results</caption>\n",
       "<tr>\n",
       "  <th>Dep. Variable:</th>            <td>y</td>        <th>  R-squared:         </th> <td>   0.169</td>\n",
       "</tr>\n",
       "<tr>\n",
       "  <th>Model:</th>                   <td>OLS</td>       <th>  Adj. R-squared:    </th> <td>   0.158</td>\n",
       "</tr>\n",
       "<tr>\n",
       "  <th>Method:</th>             <td>Least Squares</td>  <th>  F-statistic:       </th> <td>   15.42</td>\n",
       "</tr>\n",
       "<tr>\n",
       "  <th>Date:</th>             <td>Sun, 14 Apr 2024</td> <th>  Prob (F-statistic):</th> <td>0.000188</td>\n",
       "</tr>\n",
       "<tr>\n",
       "  <th>Time:</th>                 <td>19:24:14</td>     <th>  Log-Likelihood:    </th> <td> -248.17</td>\n",
       "</tr>\n",
       "<tr>\n",
       "  <th>No. Observations:</th>      <td>    78</td>      <th>  AIC:               </th> <td>   500.3</td>\n",
       "</tr>\n",
       "<tr>\n",
       "  <th>Df Residuals:</th>          <td>    76</td>      <th>  BIC:               </th> <td>   505.1</td>\n",
       "</tr>\n",
       "<tr>\n",
       "  <th>Df Model:</th>              <td>     1</td>      <th>                     </th>     <td> </td>   \n",
       "</tr>\n",
       "<tr>\n",
       "  <th>Covariance Type:</th>      <td>nonrobust</td>    <th>                     </th>     <td> </td>   \n",
       "</tr>\n",
       "</table>\n",
       "<table class=\"simpletable\">\n",
       "<tr>\n",
       "    <td></td>       <th>coef</th>     <th>std err</th>      <th>t</th>      <th>P>|t|</th>  <th>[0.025</th>    <th>0.975]</th>  \n",
       "</tr>\n",
       "<tr>\n",
       "  <th>const</th> <td>  -17.8004</td> <td>    4.591</td> <td>   -3.877</td> <td> 0.000</td> <td>  -26.945</td> <td>   -8.656</td>\n",
       "</tr>\n",
       "<tr>\n",
       "  <th>x1</th>    <td>    0.2661</td> <td>    0.068</td> <td>    3.926</td> <td> 0.000</td> <td>    0.131</td> <td>    0.401</td>\n",
       "</tr>\n",
       "</table>\n",
       "<table class=\"simpletable\">\n",
       "<tr>\n",
       "  <th>Omnibus:</th>       <td> 1.594</td> <th>  Durbin-Watson:     </th> <td>   2.869</td>\n",
       "</tr>\n",
       "<tr>\n",
       "  <th>Prob(Omnibus):</th> <td> 0.451</td> <th>  Jarque-Bera (JB):  </th> <td>   1.396</td>\n",
       "</tr>\n",
       "<tr>\n",
       "  <th>Skew:</th>          <td>-0.326</td> <th>  Prob(JB):          </th> <td>   0.498</td>\n",
       "</tr>\n",
       "<tr>\n",
       "  <th>Kurtosis:</th>      <td> 2.932</td> <th>  Cond. No.          </th> <td>    465.</td>\n",
       "</tr>\n",
       "</table><br/><br/>Notes:<br/>[1] Standard Errors assume that the covariance matrix of the errors is correctly specified."
      ],
      "text/latex": [
       "\\begin{center}\n",
       "\\begin{tabular}{lclc}\n",
       "\\toprule\n",
       "\\textbf{Dep. Variable:}    &        y         & \\textbf{  R-squared:         } &     0.169   \\\\\n",
       "\\textbf{Model:}            &       OLS        & \\textbf{  Adj. R-squared:    } &     0.158   \\\\\n",
       "\\textbf{Method:}           &  Least Squares   & \\textbf{  F-statistic:       } &     15.42   \\\\\n",
       "\\textbf{Date:}             & Sun, 14 Apr 2024 & \\textbf{  Prob (F-statistic):} &  0.000188   \\\\\n",
       "\\textbf{Time:}             &     19:24:14     & \\textbf{  Log-Likelihood:    } &   -248.17   \\\\\n",
       "\\textbf{No. Observations:} &          78      & \\textbf{  AIC:               } &     500.3   \\\\\n",
       "\\textbf{Df Residuals:}     &          76      & \\textbf{  BIC:               } &     505.1   \\\\\n",
       "\\textbf{Df Model:}         &           1      & \\textbf{                     } &             \\\\\n",
       "\\textbf{Covariance Type:}  &    nonrobust     & \\textbf{                     } &             \\\\\n",
       "\\bottomrule\n",
       "\\end{tabular}\n",
       "\\begin{tabular}{lcccccc}\n",
       "               & \\textbf{coef} & \\textbf{std err} & \\textbf{t} & \\textbf{P$> |$t$|$} & \\textbf{[0.025} & \\textbf{0.975]}  \\\\\n",
       "\\midrule\n",
       "\\textbf{const} &     -17.8004  &        4.591     &    -3.877  &         0.000        &      -26.945    &       -8.656     \\\\\n",
       "\\textbf{x1}    &       0.2661  &        0.068     &     3.926  &         0.000        &        0.131    &        0.401     \\\\\n",
       "\\bottomrule\n",
       "\\end{tabular}\n",
       "\\begin{tabular}{lclc}\n",
       "\\textbf{Omnibus:}       &  1.594 & \\textbf{  Durbin-Watson:     } &    2.869  \\\\\n",
       "\\textbf{Prob(Omnibus):} &  0.451 & \\textbf{  Jarque-Bera (JB):  } &    1.396  \\\\\n",
       "\\textbf{Skew:}          & -0.326 & \\textbf{  Prob(JB):          } &    0.498  \\\\\n",
       "\\textbf{Kurtosis:}      &  2.932 & \\textbf{  Cond. No.          } &     465.  \\\\\n",
       "\\bottomrule\n",
       "\\end{tabular}\n",
       "%\\caption{OLS Regression Results}\n",
       "\\end{center}\n",
       "\n",
       "Notes: \\newline\n",
       " [1] Standard Errors assume that the covariance matrix of the errors is correctly specified."
      ],
      "text/plain": [
       "<class 'statsmodels.iolib.summary.Summary'>\n",
       "\"\"\"\n",
       "                            OLS Regression Results                            \n",
       "==============================================================================\n",
       "Dep. Variable:                      y   R-squared:                       0.169\n",
       "Model:                            OLS   Adj. R-squared:                  0.158\n",
       "Method:                 Least Squares   F-statistic:                     15.42\n",
       "Date:                Sun, 14 Apr 2024   Prob (F-statistic):           0.000188\n",
       "Time:                        19:24:14   Log-Likelihood:                -248.17\n",
       "No. Observations:                  78   AIC:                             500.3\n",
       "Df Residuals:                      76   BIC:                             505.1\n",
       "Df Model:                           1                                         \n",
       "Covariance Type:            nonrobust                                         \n",
       "==============================================================================\n",
       "                 coef    std err          t      P>|t|      [0.025      0.975]\n",
       "------------------------------------------------------------------------------\n",
       "const        -17.8004      4.591     -3.877      0.000     -26.945      -8.656\n",
       "x1             0.2661      0.068      3.926      0.000       0.131       0.401\n",
       "==============================================================================\n",
       "Omnibus:                        1.594   Durbin-Watson:                   2.869\n",
       "Prob(Omnibus):                  0.451   Jarque-Bera (JB):                1.396\n",
       "Skew:                          -0.326   Prob(JB):                        0.498\n",
       "Kurtosis:                       2.932   Cond. No.                         465.\n",
       "==============================================================================\n",
       "\n",
       "Notes:\n",
       "[1] Standard Errors assume that the covariance matrix of the errors is correctly specified.\n",
       "\"\"\""
      ]
     },
     "execution_count": 15,
     "metadata": {},
     "output_type": "execute_result"
    }
   ],
   "source": [
    "OLSdirect(m.BMI_init.diff().diff()[2:].values.reshape((-1,1)), X[2:,[0,1]]).summary()"
   ]
  },
  {
   "cell_type": "code",
   "execution_count": null,
   "metadata": {
    "id": "2gx8gO6T8Aqi"
   },
   "outputs": [],
   "source": []
  }
 ],
 "metadata": {
  "colab": {
   "provenance": [
    {
     "file_id": "https://github.com/subthalamic/STATS/blob/main/theory/regression/multregtest.ipynb",
     "timestamp": 1712741649385
    }
   ]
  },
  "kernelspec": {
   "display_name": "venvstats",
   "language": "python",
   "name": "venvstats"
  },
  "language_info": {
   "codemirror_mode": {
    "name": "ipython",
    "version": 3
   },
   "file_extension": ".py",
   "mimetype": "text/x-python",
   "name": "python",
   "nbconvert_exporter": "python",
   "pygments_lexer": "ipython3",
   "version": "3.9.13"
  }
 },
 "nbformat": 4,
 "nbformat_minor": 4
}
