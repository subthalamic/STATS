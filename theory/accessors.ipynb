{
  "metadata": {
    "kernelspec": {
      "name": "python",
      "display_name": "Python (Pyodide)",
      "language": "python"
    },
    "language_info": {
      "codemirror_mode": {
        "name": "python",
        "version": 3
      },
      "file_extension": ".py",
      "mimetype": "text/x-python",
      "name": "python",
      "nbconvert_exporter": "python",
      "pygments_lexer": "ipython3",
      "version": "3.8"
    }
  },
  "nbformat_minor": 4,
  "nbformat": 4,
  "cells": [
    {
      "cell_type": "code",
      "source": "import pandas as pd\nimport numpy as np\nimport matplotlib.pyplot as plt\nfrom scipy.stats import norm",
      "metadata": {
        "trusted": true
      },
      "outputs": [],
      "execution_count": 24
    },
    {
      "cell_type": "code",
      "source": "aer=pd.read_csv(\"aeroscan.csv\")",
      "metadata": {
        "trusted": true
      },
      "outputs": [],
      "execution_count": 25
    },
    {
      "cell_type": "code",
      "source": "aer.columns",
      "metadata": {
        "trusted": true
      },
      "outputs": [
        {
          "execution_count": 26,
          "output_type": "execute_result",
          "data": {
            "text/plain": "Index(['Name', 'RF1a', 'RF1b', 'RF2a', 'RF2b', 'RF3a', 'RF3b', 'HF1a', 'HF1b',\n       'HF2a', 'HF2b', 'HF3a', 'HF3b', 'RER1a', 'RER1b', 'RER2a', 'RER2b',\n       'RER3a', 'RER3b', 'Fat1a', 'Fat1b', 'Fat2a', 'Fat2b', 'Fat3a', 'Fat3b',\n       'Carb1a', 'Carb1b', 'Carb2a', 'Carb2b', 'Carb3a', 'Carb3b', 'Energy1a',\n       'Energy1b', 'Energy2a', 'Energy2b', 'Energy3a', 'Energy3b'],\n      dtype='object')"
          },
          "metadata": {}
        }
      ],
      "execution_count": 26
    },
    {
      "cell_type": "code",
      "source": "fig, ax = plt.subplots(nrows=6, figsize=(14,1))\nfor i in range(6):\n    ax[i].violinplot(aer.iloc[:,i*6+1:(i+1)*6+1], showmeans=True)\n    #ax[i].set_title('                            '.join(aer.columns[i*6+1:(i+1)*6+1]))\n#plt.tight_layout()\n#plt.savefig('aeroscan.png')\nplt.show()",
      "metadata": {
        "trusted": true
      },
      "outputs": [
        {
          "output_type": "display_data",
          "data": {
            "text/plain": "<Figure size 1400x100 with 6 Axes>",
            "image/png": "[encoded data removed]"
          },
          "metadata": {}
        }
      ],
      "execution_count": 49
    },
    {
      "cell_type": "markdown",
      "source": "- [] List is a collection which is ordered and changeable. Allows duplicate members.\n- () Tuple is a collection which is ordered and unchangeable. Allows duplicate members.\n- {} Set is a collection which is unordered, unchangeable, and unindexed. No duplicate members.\n- {:} Dictionary is a collection which is ordered (Python 3.6+) and changeable. No duplicate members.",
      "metadata": {}
    },
    {
      "cell_type": "markdown",
      "source": "# Accessors",
      "metadata": {}
    },
    {
      "cell_type": "code",
      "source": "aer.head(1)",
      "metadata": {
        "trusted": true
      },
      "outputs": [
        {
          "execution_count": 28,
          "output_type": "execute_result",
          "data": {
            "text/plain": "  Name   RF1a   RF1b   RF2a   RF2b   RF3a   RF3b    HF1a   HF1b    HF2a  ...  \\\n0   a1  43.26  34.79  38.75  36.63  42.77  36.52  130.47  139.3  132.91  ...   \n\n   Carb2a  Carb2b  Carb3a  Carb3b  Energy1a  Energy1b  Energy2a  Energy2b  \\\n0  153.75  131.87   293.6  221.07    303.82    250.43    292.23    257.61   \n\n   Energy3a  Energy3b  \n0    354.84    259.75  \n\n[1 rows x 37 columns]",
            "text/html": "<div>\n<style scoped>\n    .dataframe tbody tr th:only-of-type {\n        vertical-align: middle;\n    }\n\n    .dataframe tbody tr th {\n        vertical-align: top;\n    }\n\n    .dataframe thead th {\n        text-align: right;\n    }\n</style>\n<table border=\"1\" class=\"dataframe\">\n  <thead>\n    <tr style=\"text-align: right;\">\n      <th></th>\n      <th>Name</th>\n      <th>RF1a</th>\n      <th>RF1b</th>\n      <th>RF2a</th>\n      <th>RF2b</th>\n      <th>RF3a</th>\n      <th>RF3b</th>\n      <th>HF1a</th>\n      <th>HF1b</th>\n      <th>HF2a</th>\n      <th>...</th>\n      <th>Carb2a</th>\n      <th>Carb2b</th>\n      <th>Carb3a</th>\n      <th>Carb3b</th>\n      <th>Energy1a</th>\n      <th>Energy1b</th>\n      <th>Energy2a</th>\n      <th>Energy2b</th>\n      <th>Energy3a</th>\n      <th>Energy3b</th>\n    </tr>\n  </thead>\n  <tbody>\n    <tr>\n      <th>0</th>\n      <td>a1</td>\n      <td>43.26</td>\n      <td>34.79</td>\n      <td>38.75</td>\n      <td>36.63</td>\n      <td>42.77</td>\n      <td>36.52</td>\n      <td>130.47</td>\n      <td>139.3</td>\n      <td>132.91</td>\n      <td>...</td>\n      <td>153.75</td>\n      <td>131.87</td>\n      <td>293.6</td>\n      <td>221.07</td>\n      <td>303.82</td>\n      <td>250.43</td>\n      <td>292.23</td>\n      <td>257.61</td>\n      <td>354.84</td>\n      <td>259.75</td>\n    </tr>\n  </tbody>\n</table>\n<p>1 rows × 37 columns</p>\n</div>"
          },
          "metadata": {}
        }
      ],
      "execution_count": 28
    },
    {
      "cell_type": "markdown",
      "source": "# Native object/array accessors are column-first",
      "metadata": {}
    },
    {
      "cell_type": "code",
      "source": "type(aer.RF1a)",
      "metadata": {
        "trusted": true
      },
      "outputs": [
        {
          "execution_count": 6,
          "output_type": "execute_result",
          "data": {
            "text/plain": "pandas.core.series.Series"
          },
          "metadata": {}
        }
      ],
      "execution_count": 6
    },
    {
      "cell_type": "code",
      "source": "type(aer['RF1a'])",
      "metadata": {
        "trusted": true
      },
      "outputs": [
        {
          "execution_count": 7,
          "output_type": "execute_result",
          "data": {
            "text/plain": "pandas.core.series.Series"
          },
          "metadata": {}
        }
      ],
      "execution_count": 7
    },
    {
      "cell_type": "code",
      "source": "aer['RF1a'][1] #column, row",
      "metadata": {
        "trusted": true
      },
      "outputs": [
        {
          "execution_count": 9,
          "output_type": "execute_result",
          "data": {
            "text/plain": "37.23"
          },
          "metadata": {}
        }
      ],
      "execution_count": 9
    },
    {
      "cell_type": "code",
      "source": "aer.RF1a[1] #column, row",
      "metadata": {
        "trusted": true
      },
      "outputs": [
        {
          "execution_count": 8,
          "output_type": "execute_result",
          "data": {
            "text/plain": "37.23"
          },
          "metadata": {}
        }
      ],
      "execution_count": 8
    },
    {
      "cell_type": "markdown",
      "source": "> aer[1], \n> aer[1][1]\n- invalid index error",
      "metadata": {}
    },
    {
      "cell_type": "markdown",
      "source": "# .loc accessor is row-first",
      "metadata": {}
    },
    {
      "cell_type": "code",
      "source": "type(aer.loc[1])",
      "metadata": {
        "trusted": true
      },
      "outputs": [
        {
          "execution_count": 11,
          "output_type": "execute_result",
          "data": {
            "text/plain": "pandas.core.series.Series"
          },
          "metadata": {}
        }
      ],
      "execution_count": 11
    },
    {
      "cell_type": "code",
      "source": "aer.loc[1, 'RF1a'] #row, column",
      "metadata": {
        "trusted": true
      },
      "outputs": [
        {
          "execution_count": 10,
          "output_type": "execute_result",
          "data": {
            "text/plain": "37.23"
          },
          "metadata": {}
        }
      ],
      "execution_count": 10
    },
    {
      "cell_type": "markdown",
      "source": "> aer.loc['RF1a'], aer.loc[1, 1]\n- invalid index error",
      "metadata": {}
    },
    {
      "cell_type": "markdown",
      "source": "1) .loc[0:10,:] will select entries 0,...,10\n2) .iloc[0:10,:] will select entries 0,...,9",
      "metadata": {}
    },
    {
      "cell_type": "markdown",
      "source": "Additional selectors: .at, .iat (faster for single values), .get['col'].get['row']",
      "metadata": {}
    },
    {
      "cell_type": "code",
      "source": "aer = aer.set_index('Name')  # using drop=False you can keep the column used as index\naer.head(1)",
      "metadata": {
        "trusted": true
      },
      "outputs": [
        {
          "execution_count": 34,
          "output_type": "execute_result",
          "data": {
            "text/plain": "       RF1a   RF1b   RF2a   RF2b   RF3a   RF3b    HF1a   HF1b    HF2a    HF2b  \\\nName                                                                            \na1    43.26  34.79  38.75  36.63  42.77  36.52  130.47  139.3  132.91  142.35   \n\n      ...  Carb2a  Carb2b  Carb3a  Carb3b  Energy1a  Energy1b  Energy2a  \\\nName  ...                                                                 \na1    ...  153.75  131.87   293.6  221.07    303.82    250.43    292.23   \n\n      Energy2b  Energy3a  Energy3b  \nName                                \na1      257.61    354.84    259.75  \n\n[1 rows x 36 columns]",
            "text/html": "<div>\n<style scoped>\n    .dataframe tbody tr th:only-of-type {\n        vertical-align: middle;\n    }\n\n    .dataframe tbody tr th {\n        vertical-align: top;\n    }\n\n    .dataframe thead th {\n        text-align: right;\n    }\n</style>\n<table border=\"1\" class=\"dataframe\">\n  <thead>\n    <tr style=\"text-align: right;\">\n      <th></th>\n      <th>RF1a</th>\n      <th>RF1b</th>\n      <th>RF2a</th>\n      <th>RF2b</th>\n      <th>RF3a</th>\n      <th>RF3b</th>\n      <th>HF1a</th>\n      <th>HF1b</th>\n      <th>HF2a</th>\n      <th>HF2b</th>\n      <th>...</th>\n      <th>Carb2a</th>\n      <th>Carb2b</th>\n      <th>Carb3a</th>\n      <th>Carb3b</th>\n      <th>Energy1a</th>\n      <th>Energy1b</th>\n      <th>Energy2a</th>\n      <th>Energy2b</th>\n      <th>Energy3a</th>\n      <th>Energy3b</th>\n    </tr>\n    <tr>\n      <th>Name</th>\n      <th></th>\n      <th></th>\n      <th></th>\n      <th></th>\n      <th></th>\n      <th></th>\n      <th></th>\n      <th></th>\n      <th></th>\n      <th></th>\n      <th></th>\n      <th></th>\n      <th></th>\n      <th></th>\n      <th></th>\n      <th></th>\n      <th></th>\n      <th></th>\n      <th></th>\n      <th></th>\n      <th></th>\n    </tr>\n  </thead>\n  <tbody>\n    <tr>\n      <th>a1</th>\n      <td>43.26</td>\n      <td>34.79</td>\n      <td>38.75</td>\n      <td>36.63</td>\n      <td>42.77</td>\n      <td>36.52</td>\n      <td>130.47</td>\n      <td>139.3</td>\n      <td>132.91</td>\n      <td>142.35</td>\n      <td>...</td>\n      <td>153.75</td>\n      <td>131.87</td>\n      <td>293.6</td>\n      <td>221.07</td>\n      <td>303.82</td>\n      <td>250.43</td>\n      <td>292.23</td>\n      <td>257.61</td>\n      <td>354.84</td>\n      <td>259.75</td>\n    </tr>\n  </tbody>\n</table>\n<p>1 rows × 36 columns</p>\n</div>"
          },
          "metadata": {}
        }
      ],
      "execution_count": 34
    },
    {
      "cell_type": "markdown",
      "source": "# All label calling combinations",
      "metadata": {}
    },
    {
      "cell_type": "code",
      "source": "aer.RF1a.a1",
      "metadata": {
        "trusted": true
      },
      "outputs": [
        {
          "execution_count": 14,
          "output_type": "execute_result",
          "data": {
            "text/plain": "43.26"
          },
          "metadata": {}
        }
      ],
      "execution_count": 14
    },
    {
      "cell_type": "code",
      "source": "aer['RF1a']['a1']",
      "metadata": {
        "trusted": true
      },
      "outputs": [
        {
          "execution_count": 18,
          "output_type": "execute_result",
          "data": {
            "text/plain": "43.26"
          },
          "metadata": {}
        }
      ],
      "execution_count": 18
    },
    {
      "cell_type": "code",
      "source": "aer.RF1a['a1']",
      "metadata": {
        "trusted": true
      },
      "outputs": [
        {
          "execution_count": 19,
          "output_type": "execute_result",
          "data": {
            "text/plain": "43.26"
          },
          "metadata": {}
        }
      ],
      "execution_count": 19
    },
    {
      "cell_type": "code",
      "source": "aer['RF1a'].a1",
      "metadata": {
        "trusted": true
      },
      "outputs": [
        {
          "execution_count": 17,
          "output_type": "execute_result",
          "data": {
            "text/plain": "43.26"
          },
          "metadata": {}
        }
      ],
      "execution_count": 17
    },
    {
      "cell_type": "markdown",
      "source": "# Indices still work, but only for rows, and only for native accessors",
      "metadata": {}
    },
    {
      "cell_type": "code",
      "source": "aer.RF1a[0]",
      "metadata": {
        "trusted": true
      },
      "outputs": [
        {
          "execution_count": 20,
          "output_type": "execute_result",
          "data": {
            "text/plain": "43.26"
          },
          "metadata": {}
        }
      ],
      "execution_count": 20
    },
    {
      "cell_type": "code",
      "source": "aer['RF1a'][0]",
      "metadata": {
        "trusted": true
      },
      "outputs": [
        {
          "execution_count": 21,
          "output_type": "execute_result",
          "data": {
            "text/plain": "43.26"
          },
          "metadata": {}
        }
      ],
      "execution_count": 21
    },
    {
      "cell_type": "markdown",
      "source": "> aer['a1'], aer.a1, aer[1]\n- directly calling rows does not work\n\n> aer[1][\"a1\"], aer[1].a1\n- columns are exclusively called by labels, rows are not, even if they have labels",
      "metadata": {}
    },
    {
      "cell_type": "code",
      "source": "aer.loc['a1','RF1a']",
      "metadata": {
        "trusted": true
      },
      "outputs": [
        {
          "execution_count": 37,
          "output_type": "execute_result",
          "data": {
            "text/plain": "43.26"
          },
          "metadata": {}
        }
      ],
      "execution_count": 37
    },
    {
      "cell_type": "markdown",
      "source": "> aer.loc[1,'RF1a']\n- calling rows by index does not work anymore since indices have labels",
      "metadata": {}
    },
    {
      "cell_type": "code",
      "source": "",
      "metadata": {
        "trusted": true
      },
      "outputs": [],
      "execution_count": null
    }
  ]
}