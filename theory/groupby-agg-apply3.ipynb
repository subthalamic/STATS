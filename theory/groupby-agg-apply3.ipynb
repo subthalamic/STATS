{
 "cells": [
  {
   "cell_type": "code",
   "execution_count": 1,
   "metadata": {},
   "outputs": [],
   "source": [
    "import pandas as pd\n",
    "import numpy as np\n",
    "import matplotlib.pyplot as plt\n",
    "from scipy import stats as st"
   ]
  },
  {
   "cell_type": "code",
   "execution_count": 2,
   "metadata": {},
   "outputs": [],
   "source": [
    "m=pd.read_csv(\"measurements.csv\")"
   ]
  },
  {
   "cell_type": "markdown",
   "metadata": {},
   "source": [
    "### Let's inspect the groupby object\n",
    "\n",
    "- dir(m.groupby) - outputs builtin methods\n",
    "- dir(m.groupby('sex')) - also outputs columns objects, appliable methods"
   ]
  },
  {
   "cell_type": "markdown",
   "metadata": {},
   "source": [
    "- getattr(m.groupby('sex'), 'keys') - sex\n",
    "- hasattr(m.groupby('sex'), 'keys') - True\n",
    "- callable(m.groupby('sex')) - False\n",
    "- callable(m.groupby) - True"
   ]
  },
  {
   "cell_type": "raw",
   "metadata": {},
   "source": [
    "- m.groupby.__dict__\n",
    "- type(m.groupby('sex').__dict__)   #outputs all attributes of object\n",
    "- vars(m.groupby('sex'))   does the same thing"
   ]
  },
  {
   "cell_type": "markdown",
   "metadata": {},
   "source": [
    "## Groupby: split, apply, combine"
   ]
  },
  {
   "cell_type": "code",
   "execution_count": 3,
   "metadata": {},
   "outputs": [
    {
     "data": {
      "text/plain": [
       "sex\n",
       "f    27.857184\n",
       "m    27.773745\n",
       "Name: BMI_init, dtype: float64"
      ]
     },
     "execution_count": 3,
     "metadata": {},
     "output_type": "execute_result"
    }
   ],
   "source": [
    "m.groupby('sex').BMI_init.mean()"
   ]
  },
  {
   "cell_type": "markdown",
   "metadata": {},
   "source": [
    "### .get_group - outputs a dataframe"
   ]
  },
  {
   "cell_type": "code",
   "execution_count": 4,
   "metadata": {},
   "outputs": [
    {
     "data": {
      "text/plain": [
       "(30, 38)"
      ]
     },
     "execution_count": 4,
     "metadata": {},
     "output_type": "execute_result"
    }
   ],
   "source": [
    "m.groupby('sex').get_group('f').shape"
   ]
  },
  {
   "cell_type": "code",
   "execution_count": 5,
   "metadata": {},
   "outputs": [
    {
     "data": {
      "text/plain": [
       "array([183., 185., 188., 178., 178., 163., 163., 181., 184., 185., 188.,\n",
       "       163., 178., 186., 174., 186.,  nan,  nan,  nan,  nan,  nan,  nan,\n",
       "        nan,  nan,  nan,  nan,  nan,  nan,  nan,  nan])"
      ]
     },
     "execution_count": 5,
     "metadata": {},
     "output_type": "execute_result"
    }
   ],
   "source": [
    "m.groupby('sex').get_group('f').chol_init.values"
   ]
  },
  {
   "cell_type": "code",
   "execution_count": 6,
   "metadata": {},
   "outputs": [
    {
     "data": {
      "text/plain": [
       "array(['t1', 't3', 't4', 't8', 't10', 't11', 't12', 't14', 't16', 't17',\n",
       "       't21', 't22', 't29', 't30', 't35', 't40', 'c5', 'c8', 'c11', 'c12',\n",
       "       'c16', 'c18', 'c19', 'c22', 'c24', 'c26', 'c32', 'c33', 'c34',\n",
       "       'c37'], dtype=object)"
      ]
     },
     "execution_count": 6,
     "metadata": {},
     "output_type": "execute_result"
    }
   ],
   "source": [
    "m.groupby('sex')['ID'].get_group('f').values  #also works on the series groupby object"
   ]
  },
  {
   "cell_type": "code",
   "execution_count": 7,
   "metadata": {},
   "outputs": [
    {
     "data": {
      "text/plain": [
       "183.0"
      ]
     },
     "execution_count": 7,
     "metadata": {},
     "output_type": "execute_result"
    }
   ],
   "source": [
    "m.groupby('sex').get_group('f').chol_init[0]"
   ]
  },
  {
   "cell_type": "markdown",
   "metadata": {},
   "source": [
    "### .groups - outputs a dictionary of row indices"
   ]
  },
  {
   "cell_type": "code",
   "execution_count": 8,
   "metadata": {},
   "outputs": [
    {
     "data": {
      "text/plain": [
       "<pandas.core.groupby.generic.DataFrameGroupBy object at 0x27dd250>"
      ]
     },
     "execution_count": 8,
     "metadata": {},
     "output_type": "execute_result"
    }
   ],
   "source": [
    "m.groupby('sex')"
   ]
  },
  {
   "cell_type": "code",
   "execution_count": 9,
   "metadata": {},
   "outputs": [
    {
     "data": {
      "text/plain": [
       "{'f': [0, 2, 3, 7, 9, 10, 11, 13, 15, 16, 20, 21, 28, 29, 34, 39, 44, 47, 50, 51, 55, 57, 58, 61, 63, 65, 71, 72, 73, 76], 'm': [1, 4, 5, 6, 8, 12, 14, 17, 18, 19, 22, 23, 24, 25, 26, 27, 30, 31, 32, 33, 35, 36, 37, 38, 40, 41, 42, 43, 45, 46, 48, 49, 52, 53, 54, 56, 59, 60, 62, 64, 66, 67, 68, 69, 70, 74, 75, 77, 78, 79]}"
      ]
     },
     "execution_count": 9,
     "metadata": {},
     "output_type": "execute_result"
    }
   ],
   "source": [
    "m.groupby('sex').groups     #.indices does the same thing"
   ]
  },
  {
   "cell_type": "code",
   "execution_count": 10,
   "metadata": {},
   "outputs": [
    {
     "data": {
      "text/plain": [
       "pandas.io.formats.printing.PrettyDict"
      ]
     },
     "execution_count": 10,
     "metadata": {},
     "output_type": "execute_result"
    }
   ],
   "source": [
    "type(m.groupby('sex').groups)"
   ]
  },
  {
   "cell_type": "code",
   "execution_count": 11,
   "metadata": {},
   "outputs": [
    {
     "data": {
      "text/plain": [
       "Int64Index([ 0,  2,  3,  7,  9, 10, 11, 13, 15, 16, 20, 21, 28, 29, 34, 39, 44,\n",
       "            47, 50, 51, 55, 57, 58, 61, 63, 65, 71, 72, 73, 76],\n",
       "           dtype='int64')"
      ]
     },
     "execution_count": 11,
     "metadata": {},
     "output_type": "execute_result"
    }
   ],
   "source": [
    "m.groupby('sex').groups['f']"
   ]
  },
  {
   "cell_type": "code",
   "execution_count": 12,
   "metadata": {},
   "outputs": [
    {
     "data": {
      "text/plain": [
       "7"
      ]
     },
     "execution_count": 12,
     "metadata": {},
     "output_type": "execute_result"
    }
   ],
   "source": [
    "m.groupby('sex').groups['f'][3]"
   ]
  },
  {
   "cell_type": "code",
   "execution_count": 13,
   "metadata": {},
   "outputs": [
    {
     "data": {
      "text/plain": [
       "(30, 38)"
      ]
     },
     "execution_count": 13,
     "metadata": {},
     "output_type": "execute_result"
    }
   ],
   "source": [
    "m.loc[m.groupby('sex').groups['f']].shape"
   ]
  },
  {
   "cell_type": "markdown",
   "metadata": {},
   "source": [
    "### Iterate over .groupby"
   ]
  },
  {
   "cell_type": "code",
   "execution_count": 14,
   "metadata": {},
   "outputs": [
    {
     "name": "stdout",
     "output_type": "stream",
     "text": [
      "<class 'tuple'>\n",
      "<class 'tuple'>\n"
     ]
    }
   ],
   "source": [
    "for i in m.groupby('sex'):\n",
    "    print(type(i))\n",
    "#using just one value outputs a tuple, containing a pair consisting of group name and group dataframe"
   ]
  },
  {
   "cell_type": "code",
   "execution_count": 15,
   "metadata": {},
   "outputs": [
    {
     "name": "stdout",
     "output_type": "stream",
     "text": [
      "group name:  f \n",
      "group shape:  (30, 38) \n",
      "\n",
      "group name:  m \n",
      "group shape:  (50, 38) \n",
      "\n"
     ]
    }
   ],
   "source": [
    "for i, j in m.groupby('sex'):\n",
    "    print('group name: ', i, '\\ngroup shape: ', j.shape, '\\n')\n",
    "# groupby can be iterated over with two variables, but not more than two\n",
    "# it outputs the group name and a group dataframe"
   ]
  },
  {
   "cell_type": "code",
   "execution_count": 16,
   "metadata": {},
   "outputs": [
    {
     "name": "stdout",
     "output_type": "stream",
     "text": [
      "<class 'str'> <class 'pandas.core.frame.DataFrame'>\n",
      "<class 'str'> <class 'pandas.core.frame.DataFrame'>\n"
     ]
    }
   ],
   "source": [
    "for i in m.groupby('sex'):\n",
    "    print(type(i[0]), type(i[1]))\n",
    "#you can access the tuple elements"
   ]
  },
  {
   "cell_type": "code",
   "execution_count": 17,
   "metadata": {},
   "outputs": [
    {
     "name": "stdout",
     "output_type": "stream",
     "text": [
      "f (30, 38)\n",
      "m (50, 38)\n"
     ]
    }
   ],
   "source": [
    "for i in m.groupby('sex'):\n",
    "    print(i[0], i[1].shape)"
   ]
  },
  {
   "cell_type": "code",
   "execution_count": 18,
   "metadata": {},
   "outputs": [
    {
     "name": "stdout",
     "output_type": "stream",
     "text": [
      "[['f', (30, 38)], ['m', (50, 38)]]\n"
     ]
    }
   ],
   "source": [
    "print([[i[0], i[1].shape] for i in m.groupby('sex')])"
   ]
  },
  {
   "cell_type": "code",
   "execution_count": 19,
   "metadata": {},
   "outputs": [
    {
     "data": {
      "text/plain": [
       "sex\n",
       "f    (30, 38)\n",
       "m    (50, 38)\n",
       "dtype: object"
      ]
     },
     "execution_count": 19,
     "metadata": {},
     "output_type": "execute_result"
    }
   ],
   "source": [
    "m.groupby('sex').apply(lambda x: x.shape)"
   ]
  },
  {
   "cell_type": "code",
   "execution_count": 60,
   "metadata": {},
   "outputs": [
    {
     "name": "stdout",
     "output_type": "stream",
     "text": [
      "ID 80 group 80 sex 80 birth_year 40 chol_init 40 chol_final 40 trig_init 40 trig_final 40 weight_init 80 weight_final 80 weight_diff 80 height_init 80 height_final 80 height_diff 80 armspan_init 80 armspan_final 80 armspan_diff 80 arm_perimeter_init 80 arm_periemter_final 80 arm_perimeter_diff 80 thorax_perimeter_init 80 thorax_perimeter_final 80 thorax_perimeter_diff 80 abdominal_perimeter_init 80 abdominal_perimeter_final 80 abdominal_perimeter_diff 80 hip_perimeter_init 80 hip_perimeter_final 80 hip_perimeter_diff 80 BMI_init 80 BMI_final 80 BMI_diff 80 tricipital_fold_final 40 tricipital_fold_init 40 abdominal_fold_final 40 abdominal_fold_init 40 subscapular_fold_final 40 subscapular_fold_init 40 "
     ]
    }
   ],
   "source": [
    "for i in m.items():                         #.items used to iterate over df columns and returns a tuple in a similar way\n",
    "    print(i[0], i[1].count(), end =' ')"
   ]
  },
  {
   "cell_type": "markdown",
   "metadata": {},
   "source": [
    "### Aggregation functions"
   ]
  },
  {
   "cell_type": "code",
   "execution_count": 20,
   "metadata": {},
   "outputs": [
    {
     "data": {
      "text/plain": [
       "sex\n",
       "f    16\n",
       "m    24\n",
       "Name: chol_init, dtype: int64"
      ]
     },
     "execution_count": 20,
     "metadata": {},
     "output_type": "execute_result"
    }
   ],
   "source": [
    "m.groupby('sex').chol_init.count()      #only non-null values"
   ]
  },
  {
   "cell_type": "code",
   "execution_count": 21,
   "metadata": {},
   "outputs": [
    {
     "data": {
      "text/html": [
       "<div>\n",
       "<style scoped>\n",
       "    .dataframe tbody tr th:only-of-type {\n",
       "        vertical-align: middle;\n",
       "    }\n",
       "\n",
       "    .dataframe tbody tr th {\n",
       "        vertical-align: top;\n",
       "    }\n",
       "\n",
       "    .dataframe thead th {\n",
       "        text-align: right;\n",
       "    }\n",
       "</style>\n",
       "<table border=\"1\" class=\"dataframe\">\n",
       "  <thead>\n",
       "    <tr style=\"text-align: right;\">\n",
       "      <th></th>\n",
       "      <th>count</th>\n",
       "      <th>mean</th>\n",
       "      <th>std</th>\n",
       "      <th>min</th>\n",
       "      <th>25%</th>\n",
       "      <th>50%</th>\n",
       "      <th>75%</th>\n",
       "      <th>max</th>\n",
       "    </tr>\n",
       "    <tr>\n",
       "      <th>sex</th>\n",
       "      <th></th>\n",
       "      <th></th>\n",
       "      <th></th>\n",
       "      <th></th>\n",
       "      <th></th>\n",
       "      <th></th>\n",
       "      <th></th>\n",
       "      <th></th>\n",
       "    </tr>\n",
       "  </thead>\n",
       "  <tbody>\n",
       "    <tr>\n",
       "      <th>f</th>\n",
       "      <td>16.0</td>\n",
       "      <td>178.937500</td>\n",
       "      <td>8.842841</td>\n",
       "      <td>163.0</td>\n",
       "      <td>177.0</td>\n",
       "      <td>182.0</td>\n",
       "      <td>185.25</td>\n",
       "      <td>188.0</td>\n",
       "    </tr>\n",
       "    <tr>\n",
       "      <th>m</th>\n",
       "      <td>24.0</td>\n",
       "      <td>178.916667</td>\n",
       "      <td>6.723849</td>\n",
       "      <td>163.0</td>\n",
       "      <td>174.0</td>\n",
       "      <td>180.0</td>\n",
       "      <td>183.50</td>\n",
       "      <td>188.0</td>\n",
       "    </tr>\n",
       "  </tbody>\n",
       "</table>\n",
       "</div>"
      ],
      "text/plain": [
       "     count        mean       std    min    25%    50%     75%    max\n",
       "sex                                                                 \n",
       "f     16.0  178.937500  8.842841  163.0  177.0  182.0  185.25  188.0\n",
       "m     24.0  178.916667  6.723849  163.0  174.0  180.0  183.50  188.0"
      ]
     },
     "execution_count": 21,
     "metadata": {},
     "output_type": "execute_result"
    }
   ],
   "source": [
    "m.groupby('sex').chol_init.describe()   #also non-null values"
   ]
  },
  {
   "cell_type": "code",
   "execution_count": 22,
   "metadata": {},
   "outputs": [
    {
     "data": {
      "text/plain": [
       "sex\n",
       "f    178.937500\n",
       "m    178.916667\n",
       "Name: chol_init, dtype: float64"
      ]
     },
     "execution_count": 22,
     "metadata": {},
     "output_type": "execute_result"
    }
   ],
   "source": [
    "m.groupby('sex').chol_init.mean()"
   ]
  },
  {
   "cell_type": "code",
   "execution_count": 61,
   "metadata": {},
   "outputs": [
    {
     "data": {
      "text/plain": [
       "sex\n",
       "f     9\n",
       "m    13\n",
       "Name: chol_init, dtype: int64"
      ]
     },
     "execution_count": 61,
     "metadata": {},
     "output_type": "execute_result"
    }
   ],
   "source": [
    "m.groupby('sex').chol_init.nunique()"
   ]
  },
  {
   "cell_type": "code",
   "execution_count": 23,
   "metadata": {},
   "outputs": [
    {
     "data": {
      "text/html": [
       "<div>\n",
       "<style scoped>\n",
       "    .dataframe tbody tr th:only-of-type {\n",
       "        vertical-align: middle;\n",
       "    }\n",
       "\n",
       "    .dataframe tbody tr th {\n",
       "        vertical-align: top;\n",
       "    }\n",
       "\n",
       "    .dataframe thead th {\n",
       "        text-align: right;\n",
       "    }\n",
       "</style>\n",
       "<table border=\"1\" class=\"dataframe\">\n",
       "  <thead>\n",
       "    <tr style=\"text-align: right;\">\n",
       "      <th></th>\n",
       "      <th>mean</th>\n",
       "      <th>median</th>\n",
       "      <th>min</th>\n",
       "      <th>min</th>\n",
       "      <th>min</th>\n",
       "      <th>max</th>\n",
       "      <th>std</th>\n",
       "      <th>var</th>\n",
       "      <th>sum</th>\n",
       "      <th>len</th>\n",
       "      <th>count</th>\n",
       "    </tr>\n",
       "    <tr>\n",
       "      <th>sex</th>\n",
       "      <th></th>\n",
       "      <th></th>\n",
       "      <th></th>\n",
       "      <th></th>\n",
       "      <th></th>\n",
       "      <th></th>\n",
       "      <th></th>\n",
       "      <th></th>\n",
       "      <th></th>\n",
       "      <th></th>\n",
       "      <th></th>\n",
       "    </tr>\n",
       "  </thead>\n",
       "  <tbody>\n",
       "    <tr>\n",
       "      <th>f</th>\n",
       "      <td>178.937500</td>\n",
       "      <td>182.0</td>\n",
       "      <td>163.0</td>\n",
       "      <td>163.0</td>\n",
       "      <td>163.0</td>\n",
       "      <td>188.0</td>\n",
       "      <td>8.842841</td>\n",
       "      <td>78.195833</td>\n",
       "      <td>2863.0</td>\n",
       "      <td>30</td>\n",
       "      <td>16</td>\n",
       "    </tr>\n",
       "    <tr>\n",
       "      <th>m</th>\n",
       "      <td>178.916667</td>\n",
       "      <td>180.0</td>\n",
       "      <td>163.0</td>\n",
       "      <td>163.0</td>\n",
       "      <td>163.0</td>\n",
       "      <td>188.0</td>\n",
       "      <td>6.723849</td>\n",
       "      <td>45.210145</td>\n",
       "      <td>4294.0</td>\n",
       "      <td>50</td>\n",
       "      <td>24</td>\n",
       "    </tr>\n",
       "  </tbody>\n",
       "</table>\n",
       "</div>"
      ],
      "text/plain": [
       "           mean  median    min    min    min    max       std        var  \\\n",
       "sex                                                                        \n",
       "f    178.937500   182.0  163.0  163.0  163.0  188.0  8.842841  78.195833   \n",
       "m    178.916667   180.0  163.0  163.0  163.0  188.0  6.723849  45.210145   \n",
       "\n",
       "        sum  len  count  \n",
       "sex                      \n",
       "f    2863.0   30     16  \n",
       "m    4294.0   50     24  "
      ]
     },
     "execution_count": 23,
     "metadata": {},
     "output_type": "execute_result"
    }
   ],
   "source": [
    "m.groupby('sex').chol_init.agg([np.mean,np.median,np.min,min,'min',np.max,np.std,np.var,np.sum,len,'count'])\n",
    "#by passing a dict you can specify names and specific functions for specific columns"
   ]
  },
  {
   "cell_type": "code",
   "execution_count": 24,
   "metadata": {},
   "outputs": [
    {
     "data": {
      "text/html": [
       "<div>\n",
       "<style scoped>\n",
       "    .dataframe tbody tr th:only-of-type {\n",
       "        vertical-align: middle;\n",
       "    }\n",
       "\n",
       "    .dataframe tbody tr th {\n",
       "        vertical-align: top;\n",
       "    }\n",
       "\n",
       "    .dataframe thead th {\n",
       "        text-align: right;\n",
       "    }\n",
       "</style>\n",
       "<table border=\"1\" class=\"dataframe\">\n",
       "  <thead>\n",
       "    <tr style=\"text-align: right;\">\n",
       "      <th></th>\n",
       "      <th></th>\n",
       "      <th>mean</th>\n",
       "      <th>median</th>\n",
       "      <th>min</th>\n",
       "      <th>min</th>\n",
       "      <th>min</th>\n",
       "      <th>max</th>\n",
       "      <th>std</th>\n",
       "      <th>var</th>\n",
       "      <th>sum</th>\n",
       "      <th>len</th>\n",
       "      <th>count</th>\n",
       "    </tr>\n",
       "    <tr>\n",
       "      <th>group</th>\n",
       "      <th>sex</th>\n",
       "      <th></th>\n",
       "      <th></th>\n",
       "      <th></th>\n",
       "      <th></th>\n",
       "      <th></th>\n",
       "      <th></th>\n",
       "      <th></th>\n",
       "      <th></th>\n",
       "      <th></th>\n",
       "      <th></th>\n",
       "      <th></th>\n",
       "    </tr>\n",
       "  </thead>\n",
       "  <tbody>\n",
       "    <tr>\n",
       "      <th rowspan=\"2\" valign=\"top\">Control</th>\n",
       "      <th>f</th>\n",
       "      <td>26.290459</td>\n",
       "      <td>26.333368</td>\n",
       "      <td>21.490184</td>\n",
       "      <td>21.490184</td>\n",
       "      <td>21.490184</td>\n",
       "      <td>31.398180</td>\n",
       "      <td>2.639024</td>\n",
       "      <td>6.964447</td>\n",
       "      <td>368.066430</td>\n",
       "      <td>14</td>\n",
       "      <td>14</td>\n",
       "    </tr>\n",
       "    <tr>\n",
       "      <th>m</th>\n",
       "      <td>26.437273</td>\n",
       "      <td>25.940107</td>\n",
       "      <td>21.980992</td>\n",
       "      <td>21.980992</td>\n",
       "      <td>21.980992</td>\n",
       "      <td>32.792980</td>\n",
       "      <td>2.508389</td>\n",
       "      <td>6.292015</td>\n",
       "      <td>687.369106</td>\n",
       "      <td>26</td>\n",
       "      <td>26</td>\n",
       "    </tr>\n",
       "    <tr>\n",
       "      <th rowspan=\"2\" valign=\"top\">Test</th>\n",
       "      <th>f</th>\n",
       "      <td>29.228068</td>\n",
       "      <td>27.764489</td>\n",
       "      <td>26.349584</td>\n",
       "      <td>26.349584</td>\n",
       "      <td>26.349584</td>\n",
       "      <td>34.866892</td>\n",
       "      <td>2.839366</td>\n",
       "      <td>8.061999</td>\n",
       "      <td>467.649090</td>\n",
       "      <td>16</td>\n",
       "      <td>16</td>\n",
       "    </tr>\n",
       "    <tr>\n",
       "      <th>m</th>\n",
       "      <td>29.221589</td>\n",
       "      <td>29.597232</td>\n",
       "      <td>24.351962</td>\n",
       "      <td>24.351962</td>\n",
       "      <td>24.351962</td>\n",
       "      <td>35.911111</td>\n",
       "      <td>2.434661</td>\n",
       "      <td>5.927576</td>\n",
       "      <td>701.318135</td>\n",
       "      <td>24</td>\n",
       "      <td>24</td>\n",
       "    </tr>\n",
       "  </tbody>\n",
       "</table>\n",
       "</div>"
      ],
      "text/plain": [
       "                  mean     median        min        min        min        max  \\\n",
       "group   sex                                                                     \n",
       "Control f    26.290459  26.333368  21.490184  21.490184  21.490184  31.398180   \n",
       "        m    26.437273  25.940107  21.980992  21.980992  21.980992  32.792980   \n",
       "Test    f    29.228068  27.764489  26.349584  26.349584  26.349584  34.866892   \n",
       "        m    29.221589  29.597232  24.351962  24.351962  24.351962  35.911111   \n",
       "\n",
       "                  std       var         sum  len  count  \n",
       "group   sex                                              \n",
       "Control f    2.639024  6.964447  368.066430   14     14  \n",
       "        m    2.508389  6.292015  687.369106   26     26  \n",
       "Test    f    2.839366  8.061999  467.649090   16     16  \n",
       "        m    2.434661  5.927576  701.318135   24     24  "
      ]
     },
     "execution_count": 24,
     "metadata": {},
     "output_type": "execute_result"
    }
   ],
   "source": [
    "m.groupby(['group','sex']).BMI_init.agg([np.mean,np.median,np.min,min,'min',np.max,np.std,np.var,np.sum,len,'count'])"
   ]
  },
  {
   "cell_type": "markdown",
   "metadata": {},
   "source": [
    "### Multi-index grouping"
   ]
  },
  {
   "cell_type": "code",
   "execution_count": 90,
   "metadata": {},
   "outputs": [
    {
     "data": {
      "text/plain": [
       "4"
      ]
     },
     "execution_count": 90,
     "metadata": {},
     "output_type": "execute_result"
    }
   ],
   "source": [
    "m.groupby(['group', 'sex']).ngroups"
   ]
  },
  {
   "cell_type": "code",
   "execution_count": 25,
   "metadata": {},
   "outputs": [
    {
     "data": {
      "text/plain": [
       "group    sex\n",
       "Control  f      26.290459\n",
       "         m      26.437273\n",
       "Test     f      29.228068\n",
       "         m      29.221589\n",
       "Name: BMI_init, dtype: float64"
      ]
     },
     "execution_count": 25,
     "metadata": {},
     "output_type": "execute_result"
    }
   ],
   "source": [
    "m.groupby(['group','sex']).BMI_init.mean()"
   ]
  },
  {
   "cell_type": "code",
   "execution_count": 26,
   "metadata": {},
   "outputs": [
    {
     "data": {
      "text/plain": [
       "(16, 38)"
      ]
     },
     "execution_count": 26,
     "metadata": {},
     "output_type": "execute_result"
    }
   ],
   "source": [
    "m.groupby(['group','sex']).get_group(('Test','f')).shape"
   ]
  },
  {
   "cell_type": "code",
   "execution_count": 27,
   "metadata": {},
   "outputs": [
    {
     "data": {
      "text/plain": [
       "{('Control', 'f'): [44, 47, 50, 51, 55, 57, 58, 61, 63, 65, 71, 72, 73, 76], ('Control', 'm'): [40, 41, 42, 43, 45, 46, 48, 49, 52, 53, 54, 56, 59, 60, 62, 64, 66, 67, 68, 69, 70, 74, 75, 77, 78, 79], ('Test', 'f'): [0, 2, 3, 7, 9, 10, 11, 13, 15, 16, 20, 21, 28, 29, 34, 39], ('Test', 'm'): [1, 4, 5, 6, 8, 12, 14, 17, 18, 19, 22, 23, 24, 25, 26, 27, 30, 31, 32, 33, 35, 36, 37, 38]}"
      ]
     },
     "execution_count": 27,
     "metadata": {},
     "output_type": "execute_result"
    }
   ],
   "source": [
    "m.groupby(['group','sex']).groups"
   ]
  },
  {
   "cell_type": "code",
   "execution_count": 28,
   "metadata": {},
   "outputs": [
    {
     "name": "stdout",
     "output_type": "stream",
     "text": [
      "('Control', 'f') (14, 38)\n",
      "('Control', 'm') (26, 38)\n",
      "('Test', 'f') (16, 38)\n",
      "('Test', 'm') (24, 38)\n"
     ]
    }
   ],
   "source": [
    "for i in m.groupby(['group','sex']):\n",
    "    print(i[0], i[1].shape)"
   ]
  },
  {
   "cell_type": "code",
   "execution_count": 30,
   "metadata": {},
   "outputs": [
    {
     "data": {
      "text/plain": [
       "group    sex\n",
       "Control  f      AxesSubplot(0.125,0.11;0.775x0.77)\n",
       "         m      AxesSubplot(0.125,0.11;0.775x0.77)\n",
       "Test     f      AxesSubplot(0.125,0.11;0.775x0.77)\n",
       "         m      AxesSubplot(0.125,0.11;0.775x0.77)\n",
       "Name: BMI_init, dtype: object"
      ]
     },
     "execution_count": 30,
     "metadata": {},
     "output_type": "execute_result"
    },
    {
     "data": {
      "image/png": "[encoded data removed]",
      "text/plain": [
       "<Figure size 640x480 with 1 Axes>"
      ]
     },
     "metadata": {},
     "output_type": "display_data"
    }
   ],
   "source": [
    "m.groupby(['group', 'sex']).BMI_init.plot.kde(legend=True)"
   ]
  },
  {
   "cell_type": "code",
   "execution_count": null,
   "metadata": {},
   "outputs": [],
   "source": []
  }
 ],
 "metadata": {
  "kernelspec": {
   "display_name": "venvstats",
   "language": "python",
   "name": "venvstats"
  },
  "language_info": {
   "codemirror_mode": {
    "name": "ipython",
    "version": 3
   },
   "file_extension": ".py",
   "mimetype": "text/x-python",
   "name": "python",
   "nbconvert_exporter": "python",
   "pygments_lexer": "ipython3",
   "version": "3.9.13"
  }
 },
 "nbformat": 4,
 "nbformat_minor": 4
}
