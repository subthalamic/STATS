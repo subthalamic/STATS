{
 "cells": [
  {
   "cell_type": "code",
   "execution_count": 1,
   "id": "896fc316-b486-42d5-bdc7-ea36b76c0a55",
   "metadata": {},
   "outputs": [],
   "source": [
    "import sys"
   ]
  },
  {
   "cell_type": "code",
   "execution_count": 2,
   "id": "e12949b4-ae6f-469b-9b9f-cb9dccd110cd",
   "metadata": {},
   "outputs": [
    {
     "data": {
      "text/plain": [
       "'C:\\\\Users\\\\THW\\\\Desktop\\\\pycproj\\\\STATS\\\\venv\\\\Scripts\\\\python.exe'"
      ]
     },
     "execution_count": 2,
     "metadata": {},
     "output_type": "execute_result"
    }
   ],
   "source": [
    "sys.executable"
   ]
  },
  {
   "cell_type": "code",
   "execution_count": 3,
   "id": "0261956e-e8ee-4368-aa51-57847596ac48",
   "metadata": {},
   "outputs": [],
   "source": [
    "import pandas as pd"
   ]
  },
  {
   "cell_type": "code",
   "execution_count": 4,
   "id": "19ab4b90-f321-4f88-ac69-ce8c8ce5c17b",
   "metadata": {},
   "outputs": [
    {
     "data": {
      "text/plain": [
       "['C:\\\\Users\\\\THW\\\\Desktop\\\\pycproj\\\\STATS\\\\venv\\\\lib\\\\site-packages\\\\pandas']"
      ]
     },
     "execution_count": 4,
     "metadata": {},
     "output_type": "execute_result"
    }
   ],
   "source": [
    "pd.__path__"
   ]
  },
  {
   "cell_type": "code",
   "execution_count": 5,
   "id": "567a531c-00b8-4b67-b7c1-e6fb30380e41",
   "metadata": {},
   "outputs": [
    {
     "name": "stdout",
     "output_type": "stream",
     "text": [
      "Package                   Version\n",
      "------------------------- -----------\n",
      "altgraph                  0.17.4\n",
      "asttokens                 2.4.1\n",
      "attrs                     23.2.0\n",
      "auto-py-to-exe            2.44.0\n",
      "Babel                     2.15.0\n",
      "beautifulsoup4            4.12.3\n",
      "bleach                    6.1.0\n",
      "bottle                    0.12.25\n",
      "bottle-websocket          0.2.9\n",
      "certifi                   2024.6.2\n",
      "cffi                      1.16.0\n",
      "chardet                   5.2.0\n",
      "charset-normalizer        3.3.2\n",
      "colorama                  0.4.6\n",
      "comm                      0.2.1\n",
      "contourpy                 1.2.0\n",
      "cycler                    0.12.1\n",
      "debugpy                   1.8.1\n",
      "decorator                 5.1.1\n",
      "defusedxml                0.7.1\n",
      "docx                      0.2.4\n",
      "Eel                       0.16.0\n",
      "et-xmlfile                1.1.0\n",
      "exceptiongroup            1.2.0\n",
      "executing                 2.0.1\n",
      "fastjsonschema            2.19.1\n",
      "fonttools                 4.49.0\n",
      "future                    1.0.0\n",
      "gevent                    24.2.1\n",
      "gevent-websocket          0.10.1\n",
      "greenlet                  3.0.3\n",
      "idna                      3.7\n",
      "importlib_metadata        7.0.2\n",
      "importlib_resources       6.1.3\n",
      "ipykernel                 6.29.3\n",
      "ipympl                    0.9.4\n",
      "ipython                   8.18.1\n",
      "ipython-genutils          0.2.0\n",
      "ipywidgets                8.1.5\n",
      "jedi                      0.19.1\n",
      "Jinja2                    3.1.3\n",
      "jsonschema                4.21.1\n",
      "jsonschema-specifications 2023.12.1\n",
      "jupyter_client            8.6.0\n",
      "jupyter_core              5.7.1\n",
      "jupyterlab_pygments       0.3.0\n",
      "jupyterlab_widgets        3.0.13\n",
      "kiwisolver                1.4.5\n",
      "lxml                      5.2.2\n",
      "MarkupSafe                2.1.5\n",
      "matplotlib                3.8.3\n",
      "matplotlib-inline         0.1.6\n",
      "mistune                   3.0.2\n",
      "mpmath                    1.3.0\n",
      "nbclient                  0.10.0\n",
      "nbconvert                 7.16.3\n",
      "nbformat                  5.10.3\n",
      "nest-asyncio              1.6.0\n",
      "numpy                     1.26.4\n",
      "openpyxl                  3.1.4\n",
      "packaging                 23.2\n",
      "pandas                    2.2.1\n",
      "pandocfilters             1.5.1\n",
      "parso                     0.8.3\n",
      "patsy                     0.5.6\n",
      "pefile                    2023.2.7\n",
      "pillow                    10.2.0\n",
      "pip                       24.1\n",
      "platformdirs              4.2.0\n",
      "prompt-toolkit            3.0.43\n",
      "psutil                    5.9.8\n",
      "pure-eval                 0.2.2\n",
      "pycparser                 2.22\n",
      "Pygments                  2.17.2\n",
      "pyinstaller               6.8.0\n",
      "pyinstaller-hooks-contrib 2024.7\n",
      "pyoxidizer                0.24.0\n",
      "pyparsing                 3.1.2\n",
      "PyQt5                     5.15.10\n",
      "PyQt5-Qt5                 5.15.2\n",
      "PyQt5-sip                 12.13.0\n",
      "python-dateutil           2.9.0.post0\n",
      "python-docx               1.1.2\n",
      "pytz                      2024.1\n",
      "pywin32                   306\n",
      "pywin32-ctypes            0.2.2\n",
      "pyzmq                     25.1.2\n",
      "referencing               0.34.0\n",
      "reportlab                 4.2.2\n",
      "requests                  2.32.3\n",
      "rpds-py                   0.18.0\n",
      "scipy                     1.12.0\n",
      "seaborn                   0.13.2\n",
      "setuptools                60.2.0\n",
      "six                       1.16.0\n",
      "soupsieve                 2.5\n",
      "stack-data                0.6.3\n",
      "statsmodels               0.14.1\n",
      "sympy                     1.12\n",
      "tinycss2                  1.2.1\n",
      "tkcalendar                1.6.1\n",
      "tornado                   6.4\n",
      "traitlets                 5.14.1\n",
      "typing_extensions         4.10.0\n",
      "tzdata                    2024.1\n",
      "urllib3                   2.2.2\n",
      "wcwidth                   0.2.13\n",
      "webencodings              0.5.1\n",
      "wheel                     0.37.1\n",
      "whichcraft                0.6.1\n",
      "widgetsnbextension        4.0.13\n",
      "zipp                      3.17.0\n",
      "zope.event                5.0\n",
      "zope.interface            6.4.post2\n",
      "Note: you may need to restart the kernel to use updated packages.\n"
     ]
    }
   ],
   "source": [
    "pip list"
   ]
  },
  {
   "cell_type": "code",
   "execution_count": null,
   "id": "3a79b458-b6b0-4149-a9dd-c5be98e19519",
   "metadata": {},
   "outputs": [],
   "source": [
    "# done"
   ]
  }
 ],
 "metadata": {
  "kernelspec": {
   "display_name": "venvstats",
   "language": "python",
   "name": "venvstats"
  },
  "language_info": {
   "codemirror_mode": {
    "name": "ipython",
    "version": 3
   },
   "file_extension": ".py",
   "mimetype": "text/x-python",
   "name": "python",
   "nbconvert_exporter": "python",
   "pygments_lexer": "ipython3",
   "version": "3.9.13"
  }
 },
 "nbformat": 4,
 "nbformat_minor": 5
}
