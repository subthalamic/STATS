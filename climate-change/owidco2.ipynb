{
 "cells": [
  {
   "cell_type": "code",
   "execution_count": 1,
   "id": "9731b84b-3f14-4362-bdd9-17c3c6d9d5d2",
   "metadata": {},
   "outputs": [],
   "source": [
    "import pandas as pd\n",
    "import matplotlib.pyplot as plt\n",
    "import seaborn as sns\n",
    "import numpy as np\n",
    "import scipy.stats as stats"
   ]
  },
  {
   "cell_type": "code",
   "execution_count": 4,
   "id": "6c2fe5d0-5c41-4723-8394-6f57b3b8f8b0",
   "metadata": {},
   "outputs": [],
   "source": [
    "owid_all = pd.read_csv('owid-co2-data.csv')"
   ]
  },
  {
   "cell_type": "code",
   "execution_count": 12,
   "id": "388d3c92-cf84-4009-b010-16c87d4afcc0",
   "metadata": {},
   "outputs": [],
   "source": [
    "owid_book = pd.read_csv('owid-co2-codebook.csv')"
   ]
  },
  {
   "cell_type": "code",
   "execution_count": 5,
   "id": "3bda0c47-47a6-4bcb-b053-ddc7dfd24b03",
   "metadata": {},
   "outputs": [
    {
     "data": {
      "text/plain": [
       "(48058, 79)"
      ]
     },
     "execution_count": 5,
     "metadata": {},
     "output_type": "execute_result"
    }
   ],
   "source": [
    "owid_all.shape"
   ]
  },
  {
   "cell_type": "code",
   "execution_count": 83,
   "id": "ccede35c-4115-42fd-aab3-a0cbae0aca5c",
   "metadata": {},
   "outputs": [
    {
     "data": {
      "text/plain": [
       "(48058, 79)"
      ]
     },
     "execution_count": 83,
     "metadata": {},
     "output_type": "execute_result"
    }
   ],
   "source": [
    "np.shape(owid_all)"
   ]
  },
  {
   "cell_type": "code",
   "execution_count": 13,
   "id": "a2a8c70c-638d-4930-9c61-3822fd8319bc",
   "metadata": {},
   "outputs": [
    {
     "data": {
      "text/plain": [
       "(79, 4)"
      ]
     },
     "execution_count": 13,
     "metadata": {},
     "output_type": "execute_result"
    }
   ],
   "source": [
    "owid_book.shape"
   ]
  },
  {
   "cell_type": "code",
   "execution_count": 6,
   "id": "f7621f56-d2bb-470b-9328-3747b2b29493",
   "metadata": {},
   "outputs": [
    {
     "data": {
      "text/plain": [
       "array(['country', 'year', 'iso_code', 'population', 'gdp', 'cement_co2',\n",
       "       'cement_co2_per_capita', 'co2', 'co2_growth_abs',\n",
       "       'co2_growth_prct', 'co2_including_luc',\n",
       "       'co2_including_luc_growth_abs', 'co2_including_luc_growth_prct',\n",
       "       'co2_including_luc_per_capita', 'co2_including_luc_per_gdp',\n",
       "       'co2_including_luc_per_unit_energy', 'co2_per_capita',\n",
       "       'co2_per_gdp', 'co2_per_unit_energy', 'coal_co2',\n",
       "       'coal_co2_per_capita', 'consumption_co2',\n",
       "       'consumption_co2_per_capita', 'consumption_co2_per_gdp',\n",
       "       'cumulative_cement_co2', 'cumulative_co2',\n",
       "       'cumulative_co2_including_luc', 'cumulative_coal_co2',\n",
       "       'cumulative_flaring_co2', 'cumulative_gas_co2',\n",
       "       'cumulative_luc_co2', 'cumulative_oil_co2', 'cumulative_other_co2',\n",
       "       'energy_per_capita', 'energy_per_gdp', 'flaring_co2',\n",
       "       'flaring_co2_per_capita', 'gas_co2', 'gas_co2_per_capita',\n",
       "       'ghg_excluding_lucf_per_capita', 'ghg_per_capita',\n",
       "       'land_use_change_co2', 'land_use_change_co2_per_capita', 'methane',\n",
       "       'methane_per_capita', 'nitrous_oxide', 'nitrous_oxide_per_capita',\n",
       "       'oil_co2', 'oil_co2_per_capita', 'other_co2_per_capita',\n",
       "       'other_industry_co2', 'primary_energy_consumption',\n",
       "       'share_global_cement_co2', 'share_global_co2',\n",
       "       'share_global_co2_including_luc', 'share_global_coal_co2',\n",
       "       'share_global_cumulative_cement_co2',\n",
       "       'share_global_cumulative_co2',\n",
       "       'share_global_cumulative_co2_including_luc',\n",
       "       'share_global_cumulative_coal_co2',\n",
       "       'share_global_cumulative_flaring_co2',\n",
       "       'share_global_cumulative_gas_co2',\n",
       "       'share_global_cumulative_luc_co2',\n",
       "       'share_global_cumulative_oil_co2',\n",
       "       'share_global_cumulative_other_co2', 'share_global_flaring_co2',\n",
       "       'share_global_gas_co2', 'share_global_luc_co2',\n",
       "       'share_global_oil_co2', 'share_global_other_co2',\n",
       "       'share_of_temperature_change_from_ghg',\n",
       "       'temperature_change_from_ch4', 'temperature_change_from_co2',\n",
       "       'temperature_change_from_ghg', 'temperature_change_from_n2o',\n",
       "       'total_ghg', 'total_ghg_excluding_lucf', 'trade_co2',\n",
       "       'trade_co2_share'], dtype=object)"
      ]
     },
     "execution_count": 6,
     "metadata": {},
     "output_type": "execute_result"
    }
   ],
   "source": [
    "owid_all.columns.values"
   ]
  },
  {
   "cell_type": "code",
   "execution_count": 27,
   "id": "61294f46-2750-40d5-bd9b-c0f7a92794ef",
   "metadata": {},
   "outputs": [
    {
     "data": {
      "text/plain": [
       "pandas.core.series.Series"
      ]
     },
     "execution_count": 27,
     "metadata": {},
     "output_type": "execute_result"
    }
   ],
   "source": [
    "type(owid_all.country.value_counts())"
   ]
  },
  {
   "cell_type": "code",
   "execution_count": 26,
   "id": "744b2ef3-d294-4996-84bf-0770f66c3305",
   "metadata": {},
   "outputs": [
    {
     "data": {
      "text/plain": [
       "method"
      ]
     },
     "execution_count": 26,
     "metadata": {},
     "output_type": "execute_result"
    }
   ],
   "source": [
    "type(owid_all.country.value_counts)   #interesting"
   ]
  },
  {
   "cell_type": "code",
   "execution_count": 14,
   "id": "311b7d56-a274-4ae2-97e3-47cdf8ae99e8",
   "metadata": {},
   "outputs": [
    {
     "data": {
      "text/plain": [
       "array([273, 273, 273, 273, 273, 273, 273, 273, 273, 273, 273, 273, 273,\n",
       "       273, 273, 273, 273, 273, 273, 273, 273, 273, 273, 273, 273, 273,\n",
       "       273, 273, 273, 238, 231, 231, 223, 223, 215, 205, 194, 193, 191,\n",
       "       191, 185, 180, 177, 177, 177, 177, 177, 177, 177, 177, 177, 177,\n",
       "       177, 177, 177, 177, 177, 173, 173, 173, 173, 173, 173, 173, 173,\n",
       "       173, 173, 173, 173, 173, 173, 173, 173, 173, 173, 173, 173, 173,\n",
       "       173, 173, 173, 173, 173, 173, 173, 173, 173, 173, 173, 173, 173,\n",
       "       173, 173, 173, 173, 173, 173, 173, 173, 173, 173, 173, 173, 173,\n",
       "       173, 173, 173, 173, 173, 173, 173, 173, 173, 173, 173, 173, 173,\n",
       "       173, 173, 173, 173, 173, 173, 173, 173, 173, 173, 173, 173, 173,\n",
       "       173, 173, 173, 173, 173, 173, 173, 173, 173, 173, 173, 173, 173,\n",
       "       173, 173, 173, 173, 173, 173, 173, 173, 173, 173, 173, 173, 173,\n",
       "       173, 173, 173, 173, 173, 173, 173, 173, 173, 173, 173, 173, 173,\n",
       "       173, 173, 173, 173, 173, 173, 173, 173, 173, 173, 173, 173, 173,\n",
       "       173, 173, 173, 173, 173, 173, 173, 173, 173, 173, 173, 173, 173,\n",
       "       173, 173, 173, 173, 173, 173, 173, 173, 173, 173, 173, 173, 173,\n",
       "       173, 173, 173, 173, 173, 173, 173, 173, 173, 173, 173, 173, 173,\n",
       "       173, 173, 173, 173, 173, 172, 172, 172, 172, 172, 172, 172, 172,\n",
       "       172, 172, 172, 172, 172, 172, 172, 172, 172, 172, 172, 171, 171,\n",
       "       171, 171, 171, 171, 171, 171, 171, 171, 171, 171,  73,  73,  30,\n",
       "        24,  21,   7,   1], dtype=int64)"
      ]
     },
     "execution_count": 14,
     "metadata": {},
     "output_type": "execute_result"
    }
   ],
   "source": [
    "owid_all.country.value_counts().values   #entries per country"
   ]
  },
  {
   "cell_type": "code",
   "execution_count": 21,
   "id": "a056d9fa-51b5-4b88-9caa-34cd30993147",
   "metadata": {},
   "outputs": [
    {
     "data": {
      "text/plain": [
       "count\n",
       "173    169\n",
       "273     29\n",
       "172     19\n",
       "177     15\n",
       "171     12\n",
       "231      2\n",
       "223      2\n",
       "191      2\n",
       "73       2\n",
       "7        1\n",
       "21       1\n",
       "24       1\n",
       "30       1\n",
       "180      1\n",
       "238      1\n",
       "185      1\n",
       "193      1\n",
       "194      1\n",
       "205      1\n",
       "215      1\n",
       "1        1\n",
       "Name: count, dtype: int64"
      ]
     },
     "execution_count": 21,
     "metadata": {},
     "output_type": "execute_result"
    }
   ],
   "source": [
    "owid_all.country.value_counts().value_counts()"
   ]
  },
  {
   "cell_type": "code",
   "execution_count": 45,
   "id": "c559457c-2a08-471a-80cc-42ee331bad06",
   "metadata": {},
   "outputs": [
    {
     "data": {
      "text/plain": [
       "array(['Afghanistan', 'Africa', 'Africa (GCP)', 'Albania', 'Algeria',\n",
       "       'Andorra', 'Angola', 'Anguilla', 'Antarctica',\n",
       "       'Antigua and Barbuda', 'Argentina', 'Armenia', 'Aruba', 'Asia',\n",
       "       'Asia (GCP)', 'Asia (excl. China and India)', 'Australia',\n",
       "       'Austria', 'Azerbaijan', 'Bahamas', 'Bahrain', 'Bangladesh',\n",
       "       'Barbados', 'Belarus', 'Belgium', 'Belize', 'Benin', 'Bermuda',\n",
       "       'Bhutan', 'Bolivia', 'Bonaire Sint Eustatius and Saba',\n",
       "       'Bosnia and Herzegovina', 'Botswana', 'Brazil',\n",
       "       'British Virgin Islands', 'Brunei', 'Bulgaria', 'Burkina Faso',\n",
       "       'Burundi', 'Cambodia', 'Cameroon', 'Canada', 'Cape Verde',\n",
       "       'Central African Republic', 'Central America (GCP)', 'Chad',\n",
       "       'Chile', 'China', 'Christmas Island', 'Colombia', 'Comoros',\n",
       "       'Congo', 'Cook Islands', 'Costa Rica', \"Cote d'Ivoire\", 'Croatia',\n",
       "       'Cuba', 'Curacao', 'Cyprus', 'Czechia',\n",
       "       'Democratic Republic of Congo', 'Denmark', 'Djibouti', 'Dominica',\n",
       "       'Dominican Republic', 'East Timor', 'Ecuador', 'Egypt',\n",
       "       'El Salvador', 'Equatorial Guinea', 'Eritrea', 'Estonia',\n",
       "       'Eswatini', 'Ethiopia', 'Europe', 'Europe (GCP)',\n",
       "       'Europe (excl. EU-27)', 'Europe (excl. EU-28)',\n",
       "       'European Union (27)', 'European Union (28)', 'Faroe Islands',\n",
       "       'Fiji', 'Finland', 'France',\n",
       "       'French Equatorial Africa (Jones et al. 2023)', 'French Polynesia',\n",
       "       'French West Africa (Jones et al. 2023)', 'Gabon', 'Gambia',\n",
       "       'Georgia', 'Germany', 'Ghana', 'Greece', 'Greenland', 'Grenada',\n",
       "       'Guatemala', 'Guinea', 'Guinea-Bissau', 'Guyana', 'Haiti',\n",
       "       'High-income countries', 'Honduras', 'Hong Kong', 'Hungary',\n",
       "       'Iceland', 'India', 'Indonesia', 'International aviation',\n",
       "       'International shipping', 'International transport', 'Iran',\n",
       "       'Iraq', 'Ireland', 'Israel', 'Italy', 'Jamaica', 'Japan', 'Jordan',\n",
       "       'Kazakhstan', 'Kenya', 'Kiribati', 'Kosovo', 'Kuwait',\n",
       "       'Kuwaiti Oil Fires (GCP)', 'Kuwaiti Oil Fires (Jones et al. 2023)',\n",
       "       'Kyrgyzstan', 'Laos', 'Latvia',\n",
       "       'Least developed countries (Jones et al. 2023)', 'Lebanon',\n",
       "       'Leeward Islands (GCP)', 'Leeward Islands (Jones et al. 2023)',\n",
       "       'Lesotho', 'Liberia', 'Libya', 'Liechtenstein', 'Lithuania',\n",
       "       'Low-income countries', 'Lower-middle-income countries',\n",
       "       'Luxembourg', 'Macao', 'Madagascar', 'Malawi', 'Malaysia',\n",
       "       'Maldives', 'Mali', 'Malta', 'Marshall Islands', 'Mauritania',\n",
       "       'Mauritius', 'Mexico', 'Micronesia (country)', 'Middle East (GCP)',\n",
       "       'Moldova', 'Monaco', 'Mongolia', 'Montenegro', 'Montserrat',\n",
       "       'Morocco', 'Mozambique', 'Myanmar', 'Namibia', 'Nauru', 'Nepal',\n",
       "       'Netherlands', 'New Caledonia', 'New Zealand', 'Nicaragua',\n",
       "       'Niger', 'Nigeria', 'Niue', 'Non-OECD (GCP)', 'North America',\n",
       "       'North America (GCP)', 'North America (excl. USA)', 'North Korea',\n",
       "       'North Macedonia', 'Norway', 'OECD (GCP)',\n",
       "       'OECD (Jones et al. 2023)', 'Oceania', 'Oceania (GCP)', 'Oman',\n",
       "       'Pakistan', 'Palau', 'Palestine', 'Panama',\n",
       "       'Panama Canal Zone (GCP)', 'Panama Canal Zone (Jones et al. 2023)',\n",
       "       'Papua New Guinea', 'Paraguay', 'Peru', 'Philippines', 'Poland',\n",
       "       'Portugal', 'Puerto Rico', 'Qatar', 'Romania', 'Russia', 'Rwanda',\n",
       "       'Ryukyu Islands (GCP)', 'Ryukyu Islands (Jones et al. 2023)',\n",
       "       'Saint Helena', 'Saint Kitts and Nevis', 'Saint Lucia',\n",
       "       'Saint Pierre and Miquelon', 'Saint Vincent and the Grenadines',\n",
       "       'Samoa', 'San Marino', 'Sao Tome and Principe', 'Saudi Arabia',\n",
       "       'Senegal', 'Serbia', 'Seychelles', 'Sierra Leone', 'Singapore',\n",
       "       'Sint Maarten (Dutch part)', 'Slovakia', 'Slovenia',\n",
       "       'Solomon Islands', 'Somalia', 'South Africa', 'South America',\n",
       "       'South America (GCP)', 'South Korea', 'South Sudan', 'Spain',\n",
       "       'Sri Lanka', 'St. Kitts-Nevis-Anguilla (GCP)',\n",
       "       'St. Kitts-Nevis-Anguilla (Jones et al. 2023)', 'Sudan',\n",
       "       'Suriname', 'Sweden', 'Switzerland', 'Syria', 'Taiwan',\n",
       "       'Tajikistan', 'Tanzania', 'Thailand', 'Togo', 'Tonga',\n",
       "       'Trinidad and Tobago', 'Tunisia', 'Turkey', 'Turkmenistan',\n",
       "       'Turks and Caicos Islands', 'Tuvalu', 'Uganda', 'Ukraine',\n",
       "       'United Arab Emirates', 'United Kingdom', 'United States',\n",
       "       'Upper-middle-income countries', 'Uruguay', 'Uzbekistan',\n",
       "       'Vanuatu', 'Vatican', 'Venezuela', 'Vietnam', 'Wallis and Futuna',\n",
       "       'World', 'Yemen', 'Zambia', 'Zimbabwe'], dtype=object)"
      ]
     },
     "execution_count": 45,
     "metadata": {},
     "output_type": "execute_result"
    }
   ],
   "source": [
    "owid_all.country.unique()"
   ]
  },
  {
   "cell_type": "code",
   "execution_count": null,
   "id": "7370cbdd-c6b8-4bb3-9074-160f528372b3",
   "metadata": {},
   "outputs": [],
   "source": [
    "# find which countries have NaN values in which field, make a table\n",
    "# find and compare the time ranges of measurements for each country\n",
    "# find if there are monthly measurements\n",
    "# find how the time ranges differ for each parameter"
   ]
  },
  {
   "cell_type": "code",
   "execution_count": 50,
   "id": "3270166b-5675-423c-b40b-8e0bb3e610bf",
   "metadata": {},
   "outputs": [
    {
     "data": {
      "text/plain": [
       "1750"
      ]
     },
     "execution_count": 50,
     "metadata": {},
     "output_type": "execute_result"
    }
   ],
   "source": [
    "owid_all.loc[owid_all.country=='World', 'year'].values[0]"
   ]
  },
  {
   "cell_type": "code",
   "execution_count": 64,
   "id": "271f06f3-0ae3-4d7b-b668-73bbbbb0d801",
   "metadata": {},
   "outputs": [],
   "source": [
    "#owid_all.country.unique().map(lambda x: owid_all.loc[owid_all.country==x, 'year'].values[0]).values"
   ]
  },
  {
   "cell_type": "code",
   "execution_count": 63,
   "id": "9e3c22e7-d34c-4347-bb8d-752d920e3445",
   "metadata": {},
   "outputs": [],
   "source": [
    "#owid_all.loc[owid_all.country==x, 'year'].values[0] for x in owid_all.country.unique()"
   ]
  },
  {
   "cell_type": "code",
   "execution_count": 62,
   "id": "8d2c7826-a40d-4d91-a3e5-248cc7398bd3",
   "metadata": {},
   "outputs": [],
   "source": [
    "#for x in owid_all.country.unique():\n",
    "#    print(owid_all.loc[owid_all.country==x, 'year'].values[0], x)"
   ]
  },
  {
   "cell_type": "code",
   "execution_count": 73,
   "id": "189481ef-447a-405d-bf4d-7abf3d7cb368",
   "metadata": {},
   "outputs": [
    {
     "data": {
      "text/plain": [
       "country\n",
       "Afghanistan          [AFG]\n",
       "Africa               [nan]\n",
       "Africa (GCP)         [nan]\n",
       "Albania              [ALB]\n",
       "Algeria              [DZA]\n",
       "                     ...  \n",
       "Wallis and Futuna    [WLF]\n",
       "World                [nan]\n",
       "Yemen                [YEM]\n",
       "Zambia               [ZMB]\n",
       "Zimbabwe             [ZWE]\n",
       "Name: iso_code, Length: 264, dtype: object"
      ]
     },
     "execution_count": 73,
     "metadata": {},
     "output_type": "execute_result"
    }
   ],
   "source": [
    "owid_all.groupby('country').iso_code.unique()"
   ]
  },
  {
   "cell_type": "code",
   "execution_count": 75,
   "id": "bfd1dff8-922c-461b-8978-d61411f4a4af",
   "metadata": {},
   "outputs": [
    {
     "data": {
      "text/plain": [
       "array([1850, 1750, 1850, 1850, 1850, 1750, 1850, 1851, 1851, 1850, 1850,\n",
       "       1830, 1851, 1750, 1850, 1750, 1750, 1807, 1850, 1850, 1850, 1850,\n",
       "       1850, 1830, 1802, 1850, 1850, 1851, 1750, 1850, 1851, 1850, 1850,\n",
       "       1850, 1851, 1750, 1850, 1850, 1850, 1850, 1850, 1785, 1850, 1850,\n",
       "       1850, 1850, 1850, 1850, 1851, 1850, 1850, 1850, 1850, 1850, 1750,\n",
       "       1850, 1850, 1851, 1850, 1850, 1850, 1843, 1850, 1850, 1850, 1850,\n",
       "       1850, 1850, 1850, 1850, 1850, 1830, 1850, 1850, 1750, 1850, 1750,\n",
       "       1750, 1792, 1750, 1851, 1850, 1850, 1802, 1851, 1851, 1851, 1850,\n",
       "       1850, 1830, 1792, 1850, 1850, 1750, 1850, 1850, 1750, 1850, 1850,\n",
       "       1850, 1750, 1850, 1851, 1830, 1850, 1850, 1850, 1950, 1950, 1851,\n",
       "       1850, 1850, 1850, 1850, 1850, 1850, 1850, 1850, 1830, 1850, 1850,\n",
       "       1851, 1850, 1991, 1851, 1830, 1850, 1830, 1851, 1850, 1950, 1851,\n",
       "       1850, 1850, 1850, 1850, 1830, 1750, 1750, 1850, 1750, 1850, 1850,\n",
       "       1850, 1850, 1850, 1850, 1850, 1750, 1850, 1850, 1850, 1850, 1830,\n",
       "       1850, 1850, 1850, 1851, 1850, 1850, 1850, 1850, 1850, 1850, 1846,\n",
       "       1851, 1850, 1850, 1850, 1850, 1850, 1850, 1750, 1850, 1750, 1850,\n",
       "       1850, 1829, 1850, 1851, 1750, 1850, 1850, 1850, 1850, 1850, 1850,\n",
       "       1950, 1851, 1750, 1850, 1850, 1850, 1800, 1850, 1851, 1850, 1850,\n",
       "       1830, 1850, 1952, 1851, 1851, 1850, 1850, 1851, 1850, 1850, 1850,\n",
       "       1850, 1850, 1850, 1850, 1850, 1750, 1750, 1851, 1850, 1850, 1850,\n",
       "       1850, 1850, 1850, 1850, 1850, 1850, 1830, 1850, 1957, 1851, 1850,\n",
       "       1850, 1834, 1850, 1850, 1851, 1830, 1850, 1850, 1850, 1850, 1850,\n",
       "       1850, 1850, 1830, 1851, 1750, 1850, 1830, 1850, 1750, 1800, 1750,\n",
       "       1850, 1830, 1850, 1850, 1850, 1850, 1851, 1750, 1850, 1850, 1850],\n",
       "      dtype=int64)"
      ]
     },
     "execution_count": 75,
     "metadata": {},
     "output_type": "execute_result"
    }
   ],
   "source": [
    "owid_all.groupby('country').year.min().values"
   ]
  },
  {
   "cell_type": "code",
   "execution_count": 78,
   "id": "b21b75fd-7ca3-4661-983c-438e7f413364",
   "metadata": {},
   "outputs": [
    {
     "data": {
      "text/plain": [
       "country\n",
       "Afghanistan          [AFG]\n",
       "Africa               [nan]\n",
       "Africa (GCP)         [nan]\n",
       "Albania              [ALB]\n",
       "Algeria              [DZA]\n",
       "                     ...  \n",
       "Wallis and Futuna    [WLF]\n",
       "World                [nan]\n",
       "Yemen                [YEM]\n",
       "Zambia               [ZMB]\n",
       "Zimbabwe             [ZWE]\n",
       "Name: iso_code, Length: 264, dtype: object"
      ]
     },
     "execution_count": 78,
     "metadata": {},
     "output_type": "execute_result"
    }
   ],
   "source": [
    "owid_all.groupby('country').iso_code.unique()"
   ]
  },
  {
   "cell_type": "code",
   "execution_count": 87,
   "id": "889c05cd-30dc-4fc6-bbc6-3a85684bc220",
   "metadata": {},
   "outputs": [
    {
     "data": {
      "text/plain": [
       "country\n",
       "Afghanistan          (173, 78)\n",
       "Africa               (273, 78)\n",
       "Africa (GCP)         (173, 78)\n",
       "Albania              (173, 78)\n",
       "Algeria              (173, 78)\n",
       "                       ...    \n",
       "Wallis and Futuna    (172, 78)\n",
       "World                (273, 78)\n",
       "Yemen                (173, 78)\n",
       "Zambia               (173, 78)\n",
       "Zimbabwe             (173, 78)\n",
       "Length: 264, dtype: object"
      ]
     },
     "execution_count": 87,
     "metadata": {},
     "output_type": "execute_result"
    }
   ],
   "source": [
    "owid_all.groupby('country').apply(np.shape, include_groups=False)      #rows columns, shape of dataframes\n",
    "#Either pass `include_groups=False` to exclude the groupings or \n",
    "#explicitly select the grouping columns after groupby to silence this warning.\n",
    "#owid_all.groupby('country').apply(np.shape)"
   ]
  },
  {
   "cell_type": "code",
   "execution_count": 95,
   "id": "16596bd9-57fd-4cfc-9d7d-6094bf5aee80",
   "metadata": {},
   "outputs": [
    {
     "name": "stderr",
     "output_type": "stream",
     "text": [
      "C:\\Users\\THW\\AppData\\Local\\Temp\\ipykernel_14176\\3158857490.py:1: DeprecationWarning: DataFrameGroupBy.apply operated on the grouping columns. This behavior is deprecated, and in a future version of pandas the grouping columns will be excluded from the operation. Either pass `include_groups=False` to exclude the groupings or explicitly select the grouping columns after groupby to silence this warning.\n",
      "  owid_all.groupby('country').apply(lambda df: df.year)\n"
     ]
    },
    {
     "data": {
      "text/plain": [
       "country           \n",
       "Afghanistan  0        1850\n",
       "             1        1851\n",
       "             2        1852\n",
       "             3        1853\n",
       "             4        1854\n",
       "                      ... \n",
       "Zimbabwe     48053    2018\n",
       "             48054    2019\n",
       "             48055    2020\n",
       "             48056    2021\n",
       "             48057    2022\n",
       "Name: year, Length: 48058, dtype: int64"
      ]
     },
     "execution_count": 95,
     "metadata": {},
     "output_type": "execute_result"
    }
   ],
   "source": [
    "owid_all.groupby('country').apply(lambda df: df.year)"
   ]
  },
  {
   "cell_type": "code",
   "execution_count": 94,
   "id": "9d3ca24f-1524-46fd-a1b4-c6ea39858231",
   "metadata": {},
   "outputs": [
    {
     "name": "stderr",
     "output_type": "stream",
     "text": [
      "C:\\Users\\THW\\AppData\\Local\\Temp\\ipykernel_14176\\2125017818.py:1: DeprecationWarning: DataFrameGroupBy.apply operated on the grouping columns. This behavior is deprecated, and in a future version of pandas the grouping columns will be excluded from the operation. Either pass `include_groups=False` to exclude the groupings or explicitly select the grouping columns after groupby to silence this warning.\n",
      "  owid_all.groupby('country').apply(lambda df: df.iloc[0, 1])\n"
     ]
    },
    {
     "data": {
      "text/plain": [
       "country\n",
       "Afghanistan          1850\n",
       "Africa               1750\n",
       "Africa (GCP)         1850\n",
       "Albania              1850\n",
       "Algeria              1850\n",
       "                     ... \n",
       "Wallis and Futuna    1851\n",
       "World                1750\n",
       "Yemen                1850\n",
       "Zambia               1850\n",
       "Zimbabwe             1850\n",
       "Length: 264, dtype: int64"
      ]
     },
     "execution_count": 94,
     "metadata": {},
     "output_type": "execute_result"
    }
   ],
   "source": [
    "owid_all.groupby('country').apply(lambda df: df.iloc[0, 1])"
   ]
  },
  {
   "cell_type": "code",
   "execution_count": null,
   "id": "207e377b-711a-4edb-94b5-15c126c7054a",
   "metadata": {},
   "outputs": [],
   "source": []
  }
 ],
 "metadata": {
  "kernelspec": {
   "display_name": "venvstats",
   "language": "python",
   "name": "venvstats"
  },
  "language_info": {
   "codemirror_mode": {
    "name": "ipython",
    "version": 3
   },
   "file_extension": ".py",
   "mimetype": "text/x-python",
   "name": "python",
   "nbconvert_exporter": "python",
   "pygments_lexer": "ipython3",
   "version": "3.9.13"
  }
 },
 "nbformat": 4,
 "nbformat_minor": 5
}
