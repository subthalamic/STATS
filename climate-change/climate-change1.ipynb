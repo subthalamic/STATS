{
 "cells": [
  {
   "cell_type": "code",
   "execution_count": 115,
   "id": "27879a7f-6cd5-4358-8ac3-2e355cd0191a",
   "metadata": {},
   "outputs": [],
   "source": [
    "import pandas as pd\n",
    "import matplotlib.pyplot as plt\n",
    "import seaborn as sns\n",
    "import numpy as np\n",
    "import scipy.stats as stats"
   ]
  },
  {
   "cell_type": "code",
   "execution_count": 116,
   "id": "2aa56dc5-639b-4fd4-b078-c90623aa5553",
   "metadata": {},
   "outputs": [],
   "source": [
    "temp = pd.read_csv('GlobalTemperatures.csv')\n",
    "maunaloa = pd.read_csv('maunaloa.csv')"
   ]
  },
  {
   "cell_type": "code",
   "execution_count": 117,
   "id": "6ad540e7-aaf0-4084-bd46-e4ab9495cb7c",
   "metadata": {},
   "outputs": [],
   "source": [
    "co2_7923 = pd.read_csv('co2_1979_2023.csv')"
   ]
  },
  {
   "cell_type": "code",
   "execution_count": 118,
   "id": "36f8f4b6-0974-43a2-abd5-11eb9ca80de0",
   "metadata": {},
   "outputs": [
    {
     "data": {
      "text/plain": [
       "array(['dt', 'LandAverageTemperature',\n",
       "       'LandAverageTemperatureUncertainty', 'LandMaxTemperature',\n",
       "       'LandMaxTemperatureUncertainty', 'LandMinTemperature',\n",
       "       'LandMinTemperatureUncertainty', 'LandAndOceanAverageTemperature',\n",
       "       'LandAndOceanAverageTemperatureUncertainty'], dtype=object)"
      ]
     },
     "execution_count": 118,
     "metadata": {},
     "output_type": "execute_result"
    }
   ],
   "source": [
    "temp.columns.values"
   ]
  },
  {
   "cell_type": "code",
   "execution_count": 119,
   "id": "a8c5f367-73d0-494b-aa62-bb4ee435debf",
   "metadata": {},
   "outputs": [
    {
     "data": {
      "text/plain": [
       "array(['Unnamed: 0', 'Jan', 'Feb', 'Mar', 'Apr', 'May', 'Jun', 'Jul',\n",
       "       'Aug', 'Sep', 'Oct', 'Nov', 'Dec', 'Average'], dtype=object)"
      ]
     },
     "execution_count": 119,
     "metadata": {},
     "output_type": "execute_result"
    }
   ],
   "source": [
    "maunaloa.columns.values"
   ]
  },
  {
   "cell_type": "code",
   "execution_count": 120,
   "id": "451c6ef4-ce2d-408a-a435-2f32fb827280",
   "metadata": {},
   "outputs": [
    {
     "data": {
      "text/plain": [
       "Index(['year', 'mean', 'unc'], dtype='object')"
      ]
     },
     "execution_count": 120,
     "metadata": {},
     "output_type": "execute_result"
    }
   ],
   "source": [
    "co2_7923.columns"
   ]
  },
  {
   "cell_type": "code",
   "execution_count": 121,
   "id": "600165ed-8e08-4dfb-800e-afd817421972",
   "metadata": {},
   "outputs": [],
   "source": [
    "temp = temp[['dt', 'LandAverageTemperature', 'LandMaxTemperature', 'LandMinTemperature', 'LandAndOceanAverageTemperature']]"
   ]
  },
  {
   "cell_type": "code",
   "execution_count": 122,
   "id": "5f668b84-c017-472b-ad74-d41d160a2684",
   "metadata": {},
   "outputs": [
    {
     "data": {
      "text/plain": [
       "Index(['dt', 'LandAverageTemperature', 'LandMaxTemperature',\n",
       "       'LandMinTemperature', 'LandAndOceanAverageTemperature'],\n",
       "      dtype='object')"
      ]
     },
     "execution_count": 122,
     "metadata": {},
     "output_type": "execute_result"
    }
   ],
   "source": [
    "temp.columns"
   ]
  },
  {
   "cell_type": "code",
   "execution_count": 123,
   "id": "a2105722-7ee7-4f87-a823-d16079c92e21",
   "metadata": {},
   "outputs": [
    {
     "data": {
      "text/plain": [
       "(3192, 5)"
      ]
     },
     "execution_count": 123,
     "metadata": {},
     "output_type": "execute_result"
    }
   ],
   "source": [
    "temp.shape"
   ]
  },
  {
   "cell_type": "code",
   "execution_count": 124,
   "id": "5a701d87-88e0-4d3b-9f51-935a719e6518",
   "metadata": {},
   "outputs": [],
   "source": [
    "temp.insert(temp.columns.get_loc(\"LandAverageTemperature\"), \"year\", 0)"
   ]
  },
  {
   "cell_type": "code",
   "execution_count": 125,
   "id": "f2da9ef3-c169-41d9-984c-f1d83ea463be",
   "metadata": {},
   "outputs": [],
   "source": [
    "temp.insert(temp.columns.get_loc(\"LandAverageTemperature\"), \"month\", 0)"
   ]
  },
  {
   "cell_type": "code",
   "execution_count": 126,
   "id": "ba28ddf8-fd18-4b44-a9f4-33eeb8049ee1",
   "metadata": {},
   "outputs": [
    {
     "data": {
      "text/html": [
       "<div>\n",
       "<style scoped>\n",
       "    .dataframe tbody tr th:only-of-type {\n",
       "        vertical-align: middle;\n",
       "    }\n",
       "\n",
       "    .dataframe tbody tr th {\n",
       "        vertical-align: top;\n",
       "    }\n",
       "\n",
       "    .dataframe thead th {\n",
       "        text-align: right;\n",
       "    }\n",
       "</style>\n",
       "<table border=\"1\" class=\"dataframe\">\n",
       "  <thead>\n",
       "    <tr style=\"text-align: right;\">\n",
       "      <th></th>\n",
       "      <th>dt</th>\n",
       "      <th>year</th>\n",
       "      <th>month</th>\n",
       "      <th>LandAverageTemperature</th>\n",
       "      <th>LandMaxTemperature</th>\n",
       "      <th>LandMinTemperature</th>\n",
       "      <th>LandAndOceanAverageTemperature</th>\n",
       "    </tr>\n",
       "  </thead>\n",
       "  <tbody>\n",
       "    <tr>\n",
       "      <th>0</th>\n",
       "      <td>1750-01-01</td>\n",
       "      <td>0</td>\n",
       "      <td>0</td>\n",
       "      <td>3.034</td>\n",
       "      <td>NaN</td>\n",
       "      <td>NaN</td>\n",
       "      <td>NaN</td>\n",
       "    </tr>\n",
       "    <tr>\n",
       "      <th>1</th>\n",
       "      <td>1750-02-01</td>\n",
       "      <td>0</td>\n",
       "      <td>0</td>\n",
       "      <td>3.083</td>\n",
       "      <td>NaN</td>\n",
       "      <td>NaN</td>\n",
       "      <td>NaN</td>\n",
       "    </tr>\n",
       "    <tr>\n",
       "      <th>2</th>\n",
       "      <td>1750-03-01</td>\n",
       "      <td>0</td>\n",
       "      <td>0</td>\n",
       "      <td>5.626</td>\n",
       "      <td>NaN</td>\n",
       "      <td>NaN</td>\n",
       "      <td>NaN</td>\n",
       "    </tr>\n",
       "    <tr>\n",
       "      <th>3</th>\n",
       "      <td>1750-04-01</td>\n",
       "      <td>0</td>\n",
       "      <td>0</td>\n",
       "      <td>8.490</td>\n",
       "      <td>NaN</td>\n",
       "      <td>NaN</td>\n",
       "      <td>NaN</td>\n",
       "    </tr>\n",
       "    <tr>\n",
       "      <th>4</th>\n",
       "      <td>1750-05-01</td>\n",
       "      <td>0</td>\n",
       "      <td>0</td>\n",
       "      <td>11.573</td>\n",
       "      <td>NaN</td>\n",
       "      <td>NaN</td>\n",
       "      <td>NaN</td>\n",
       "    </tr>\n",
       "  </tbody>\n",
       "</table>\n",
       "</div>"
      ],
      "text/plain": [
       "           dt  year  month  LandAverageTemperature  LandMaxTemperature  \\\n",
       "0  1750-01-01     0      0                   3.034                 NaN   \n",
       "1  1750-02-01     0      0                   3.083                 NaN   \n",
       "2  1750-03-01     0      0                   5.626                 NaN   \n",
       "3  1750-04-01     0      0                   8.490                 NaN   \n",
       "4  1750-05-01     0      0                  11.573                 NaN   \n",
       "\n",
       "   LandMinTemperature  LandAndOceanAverageTemperature  \n",
       "0                 NaN                             NaN  \n",
       "1                 NaN                             NaN  \n",
       "2                 NaN                             NaN  \n",
       "3                 NaN                             NaN  \n",
       "4                 NaN                             NaN  "
      ]
     },
     "execution_count": 126,
     "metadata": {},
     "output_type": "execute_result"
    }
   ],
   "source": [
    "temp.head(5)"
   ]
  },
  {
   "cell_type": "code",
   "execution_count": 127,
   "id": "192ab2a5-b6a2-4cf7-81e0-ef0ba41a9b49",
   "metadata": {},
   "outputs": [
    {
     "data": {
      "text/plain": [
       "'1750'"
      ]
     },
     "execution_count": 127,
     "metadata": {},
     "output_type": "execute_result"
    }
   ],
   "source": [
    "temp.loc[0, 'dt'][:4]"
   ]
  },
  {
   "cell_type": "code",
   "execution_count": 128,
   "id": "f3c8c299-f24f-4040-9a11-1c2686fec0ad",
   "metadata": {},
   "outputs": [
    {
     "data": {
      "text/plain": [
       "'01'"
      ]
     },
     "execution_count": 128,
     "metadata": {},
     "output_type": "execute_result"
    }
   ],
   "source": [
    "temp.loc[0, 'dt'][5:7]"
   ]
  },
  {
   "cell_type": "code",
   "execution_count": 129,
   "id": "c2eb4a68-28f3-4131-9623-1ba5286b8d3c",
   "metadata": {},
   "outputs": [],
   "source": [
    "temp.year = temp.dt.map(lambda x: int(x[:4]))"
   ]
  },
  {
   "cell_type": "code",
   "execution_count": 130,
   "id": "9a6677f4-1e30-4ebf-9b40-30827ed95255",
   "metadata": {},
   "outputs": [
    {
     "data": {
      "text/plain": [
       "array([1750, 1750, 1750, ..., 2015, 2015, 2015], dtype=int64)"
      ]
     },
     "execution_count": 130,
     "metadata": {},
     "output_type": "execute_result"
    }
   ],
   "source": [
    "temp.year.values"
   ]
  },
  {
   "cell_type": "code",
   "execution_count": 131,
   "id": "bcef0f49-22ee-4b85-a86e-02020e79006e",
   "metadata": {},
   "outputs": [],
   "source": [
    "temp.month = temp.dt.map(lambda x: int(x[5:7]))"
   ]
  },
  {
   "cell_type": "code",
   "execution_count": 132,
   "id": "487e1b54-bba6-49cb-a66e-249b8a1873a4",
   "metadata": {},
   "outputs": [],
   "source": [
    "yearly_temp = pd.DataFrame(index=range(len(temp.year.unique())), columns = ['year','land','landmax','landmin','landocean'])"
   ]
  },
  {
   "cell_type": "code",
   "execution_count": 133,
   "id": "0ee86ae1-271b-4640-b49c-6a8d7d037f4d",
   "metadata": {},
   "outputs": [
    {
     "data": {
      "text/html": [
       "<div>\n",
       "<style scoped>\n",
       "    .dataframe tbody tr th:only-of-type {\n",
       "        vertical-align: middle;\n",
       "    }\n",
       "\n",
       "    .dataframe tbody tr th {\n",
       "        vertical-align: top;\n",
       "    }\n",
       "\n",
       "    .dataframe thead th {\n",
       "        text-align: right;\n",
       "    }\n",
       "</style>\n",
       "<table border=\"1\" class=\"dataframe\">\n",
       "  <thead>\n",
       "    <tr style=\"text-align: right;\">\n",
       "      <th></th>\n",
       "      <th>year</th>\n",
       "      <th>land</th>\n",
       "      <th>landmax</th>\n",
       "      <th>landmin</th>\n",
       "      <th>landocean</th>\n",
       "    </tr>\n",
       "  </thead>\n",
       "  <tbody>\n",
       "    <tr>\n",
       "      <th>261</th>\n",
       "      <td>NaN</td>\n",
       "      <td>NaN</td>\n",
       "      <td>NaN</td>\n",
       "      <td>NaN</td>\n",
       "      <td>NaN</td>\n",
       "    </tr>\n",
       "    <tr>\n",
       "      <th>262</th>\n",
       "      <td>NaN</td>\n",
       "      <td>NaN</td>\n",
       "      <td>NaN</td>\n",
       "      <td>NaN</td>\n",
       "      <td>NaN</td>\n",
       "    </tr>\n",
       "    <tr>\n",
       "      <th>263</th>\n",
       "      <td>NaN</td>\n",
       "      <td>NaN</td>\n",
       "      <td>NaN</td>\n",
       "      <td>NaN</td>\n",
       "      <td>NaN</td>\n",
       "    </tr>\n",
       "    <tr>\n",
       "      <th>264</th>\n",
       "      <td>NaN</td>\n",
       "      <td>NaN</td>\n",
       "      <td>NaN</td>\n",
       "      <td>NaN</td>\n",
       "      <td>NaN</td>\n",
       "    </tr>\n",
       "    <tr>\n",
       "      <th>265</th>\n",
       "      <td>NaN</td>\n",
       "      <td>NaN</td>\n",
       "      <td>NaN</td>\n",
       "      <td>NaN</td>\n",
       "      <td>NaN</td>\n",
       "    </tr>\n",
       "  </tbody>\n",
       "</table>\n",
       "</div>"
      ],
      "text/plain": [
       "    year land landmax landmin landocean\n",
       "261  NaN  NaN     NaN     NaN       NaN\n",
       "262  NaN  NaN     NaN     NaN       NaN\n",
       "263  NaN  NaN     NaN     NaN       NaN\n",
       "264  NaN  NaN     NaN     NaN       NaN\n",
       "265  NaN  NaN     NaN     NaN       NaN"
      ]
     },
     "execution_count": 133,
     "metadata": {},
     "output_type": "execute_result"
    }
   ],
   "source": [
    "yearly_temp.tail(5)"
   ]
  },
  {
   "cell_type": "code",
   "execution_count": 134,
   "id": "1953c728-80a9-4917-917b-baeb96820df5",
   "metadata": {},
   "outputs": [],
   "source": [
    "yearly_temp.year=temp.year.unique()"
   ]
  },
  {
   "cell_type": "code",
   "execution_count": 135,
   "id": "6cf3ef38-ab9e-4a5e-ae1c-90fd727f328a",
   "metadata": {},
   "outputs": [
    {
     "data": {
      "text/html": [
       "<div>\n",
       "<style scoped>\n",
       "    .dataframe tbody tr th:only-of-type {\n",
       "        vertical-align: middle;\n",
       "    }\n",
       "\n",
       "    .dataframe tbody tr th {\n",
       "        vertical-align: top;\n",
       "    }\n",
       "\n",
       "    .dataframe thead th {\n",
       "        text-align: right;\n",
       "    }\n",
       "</style>\n",
       "<table border=\"1\" class=\"dataframe\">\n",
       "  <thead>\n",
       "    <tr style=\"text-align: right;\">\n",
       "      <th></th>\n",
       "      <th>year</th>\n",
       "      <th>land</th>\n",
       "      <th>landmax</th>\n",
       "      <th>landmin</th>\n",
       "      <th>landocean</th>\n",
       "    </tr>\n",
       "  </thead>\n",
       "  <tbody>\n",
       "    <tr>\n",
       "      <th>261</th>\n",
       "      <td>2011</td>\n",
       "      <td>NaN</td>\n",
       "      <td>NaN</td>\n",
       "      <td>NaN</td>\n",
       "      <td>NaN</td>\n",
       "    </tr>\n",
       "    <tr>\n",
       "      <th>262</th>\n",
       "      <td>2012</td>\n",
       "      <td>NaN</td>\n",
       "      <td>NaN</td>\n",
       "      <td>NaN</td>\n",
       "      <td>NaN</td>\n",
       "    </tr>\n",
       "    <tr>\n",
       "      <th>263</th>\n",
       "      <td>2013</td>\n",
       "      <td>NaN</td>\n",
       "      <td>NaN</td>\n",
       "      <td>NaN</td>\n",
       "      <td>NaN</td>\n",
       "    </tr>\n",
       "    <tr>\n",
       "      <th>264</th>\n",
       "      <td>2014</td>\n",
       "      <td>NaN</td>\n",
       "      <td>NaN</td>\n",
       "      <td>NaN</td>\n",
       "      <td>NaN</td>\n",
       "    </tr>\n",
       "    <tr>\n",
       "      <th>265</th>\n",
       "      <td>2015</td>\n",
       "      <td>NaN</td>\n",
       "      <td>NaN</td>\n",
       "      <td>NaN</td>\n",
       "      <td>NaN</td>\n",
       "    </tr>\n",
       "  </tbody>\n",
       "</table>\n",
       "</div>"
      ],
      "text/plain": [
       "     year land landmax landmin landocean\n",
       "261  2011  NaN     NaN     NaN       NaN\n",
       "262  2012  NaN     NaN     NaN       NaN\n",
       "263  2013  NaN     NaN     NaN       NaN\n",
       "264  2014  NaN     NaN     NaN       NaN\n",
       "265  2015  NaN     NaN     NaN       NaN"
      ]
     },
     "execution_count": 135,
     "metadata": {},
     "output_type": "execute_result"
    }
   ],
   "source": [
    "yearly_temp.tail(5)"
   ]
  },
  {
   "cell_type": "code",
   "execution_count": 136,
   "id": "2c9f6c61-e11a-4919-8dfd-ad0f49beb31b",
   "metadata": {},
   "outputs": [],
   "source": [
    "yearly_temp.land=temp.groupby('year').LandAverageTemperature.mean().values\n",
    "yearly_temp.landmax=temp.groupby('year').LandMaxTemperature.mean().values\n",
    "yearly_temp.landmin=temp.groupby('year').LandMinTemperature.mean().values\n",
    "yearly_temp.landocean=temp.groupby('year').LandAndOceanAverageTemperature.mean().values\n",
    "\n",
    "#should also try groupby.apply on a slice"
   ]
  },
  {
   "cell_type": "code",
   "execution_count": 137,
   "id": "79905e76-3379-41d7-aa3f-b19f56239106",
   "metadata": {},
   "outputs": [
    {
     "data": {
      "text/html": [
       "<div>\n",
       "<style scoped>\n",
       "    .dataframe tbody tr th:only-of-type {\n",
       "        vertical-align: middle;\n",
       "    }\n",
       "\n",
       "    .dataframe tbody tr th {\n",
       "        vertical-align: top;\n",
       "    }\n",
       "\n",
       "    .dataframe thead th {\n",
       "        text-align: right;\n",
       "    }\n",
       "</style>\n",
       "<table border=\"1\" class=\"dataframe\">\n",
       "  <thead>\n",
       "    <tr style=\"text-align: right;\">\n",
       "      <th></th>\n",
       "      <th>year</th>\n",
       "      <th>land</th>\n",
       "      <th>landmax</th>\n",
       "      <th>landmin</th>\n",
       "      <th>landocean</th>\n",
       "    </tr>\n",
       "  </thead>\n",
       "  <tbody>\n",
       "    <tr>\n",
       "      <th>261</th>\n",
       "      <td>2011</td>\n",
       "      <td>9.516000</td>\n",
       "      <td>15.284833</td>\n",
       "      <td>3.827667</td>\n",
       "      <td>15.769500</td>\n",
       "    </tr>\n",
       "    <tr>\n",
       "      <th>262</th>\n",
       "      <td>2012</td>\n",
       "      <td>9.507333</td>\n",
       "      <td>15.332833</td>\n",
       "      <td>3.756167</td>\n",
       "      <td>15.802333</td>\n",
       "    </tr>\n",
       "    <tr>\n",
       "      <th>263</th>\n",
       "      <td>2013</td>\n",
       "      <td>9.606500</td>\n",
       "      <td>15.373833</td>\n",
       "      <td>3.911333</td>\n",
       "      <td>15.854417</td>\n",
       "    </tr>\n",
       "    <tr>\n",
       "      <th>264</th>\n",
       "      <td>2014</td>\n",
       "      <td>9.570667</td>\n",
       "      <td>15.313583</td>\n",
       "      <td>3.877750</td>\n",
       "      <td>15.913000</td>\n",
       "    </tr>\n",
       "    <tr>\n",
       "      <th>265</th>\n",
       "      <td>2015</td>\n",
       "      <td>9.831000</td>\n",
       "      <td>15.572667</td>\n",
       "      <td>4.148833</td>\n",
       "      <td>16.058583</td>\n",
       "    </tr>\n",
       "  </tbody>\n",
       "</table>\n",
       "</div>"
      ],
      "text/plain": [
       "     year      land    landmax   landmin  landocean\n",
       "261  2011  9.516000  15.284833  3.827667  15.769500\n",
       "262  2012  9.507333  15.332833  3.756167  15.802333\n",
       "263  2013  9.606500  15.373833  3.911333  15.854417\n",
       "264  2014  9.570667  15.313583  3.877750  15.913000\n",
       "265  2015  9.831000  15.572667  4.148833  16.058583"
      ]
     },
     "execution_count": 137,
     "metadata": {},
     "output_type": "execute_result"
    }
   ],
   "source": [
    "yearly_temp.tail(5)"
   ]
  },
  {
   "cell_type": "code",
   "execution_count": 138,
   "id": "aef20f18-3f7c-431b-91ff-4c06de8cb305",
   "metadata": {},
   "outputs": [],
   "source": [
    " maunaloa.rename(columns = {maunaloa.columns[0] : 'year'}, inplace = True)"
   ]
  },
  {
   "cell_type": "code",
   "execution_count": 139,
   "id": "cd249c7b-0cde-4c7f-9ee1-95b1be30ae9b",
   "metadata": {},
   "outputs": [
    {
     "data": {
      "text/plain": [
       "Index(['year', 'Jan', 'Feb', 'Mar', 'Apr', 'May', 'Jun', 'Jul', 'Aug', 'Sep',\n",
       "       'Oct', 'Nov', 'Dec', 'Average'],\n",
       "      dtype='object')"
      ]
     },
     "execution_count": 139,
     "metadata": {},
     "output_type": "execute_result"
    }
   ],
   "source": [
    "maunaloa.columns"
   ]
  },
  {
   "cell_type": "code",
   "execution_count": 140,
   "id": "22194031-3031-4540-af7e-28cb8cb32f37",
   "metadata": {},
   "outputs": [],
   "source": [
    "maunaloa.loc[0, 'Average'] = maunaloa.loc[0, 'Mar':'Dec'].mean()"
   ]
  },
  {
   "cell_type": "code",
   "execution_count": 141,
   "id": "9fc9d39f-bfa0-456e-9f59-c345352a3f6a",
   "metadata": {},
   "outputs": [
    {
     "data": {
      "text/plain": [
       "315.234"
      ]
     },
     "execution_count": 141,
     "metadata": {},
     "output_type": "execute_result"
    }
   ],
   "source": [
    "maunaloa.Average[0]"
   ]
  },
  {
   "cell_type": "code",
   "execution_count": 142,
   "id": "9222f896-fd92-40fb-9f3d-73d7cfb2d316",
   "metadata": {},
   "outputs": [],
   "source": [
    "co2temp = yearly_temp"
   ]
  },
  {
   "cell_type": "code",
   "execution_count": 143,
   "id": "0cc5c67c-dc46-4878-95fc-b910eccaa08a",
   "metadata": {},
   "outputs": [
    {
     "data": {
      "text/html": [
       "<div>\n",
       "<style scoped>\n",
       "    .dataframe tbody tr th:only-of-type {\n",
       "        vertical-align: middle;\n",
       "    }\n",
       "\n",
       "    .dataframe tbody tr th {\n",
       "        vertical-align: top;\n",
       "    }\n",
       "\n",
       "    .dataframe thead th {\n",
       "        text-align: right;\n",
       "    }\n",
       "</style>\n",
       "<table border=\"1\" class=\"dataframe\">\n",
       "  <thead>\n",
       "    <tr style=\"text-align: right;\">\n",
       "      <th></th>\n",
       "      <th>year</th>\n",
       "      <th>land</th>\n",
       "      <th>landmax</th>\n",
       "      <th>landmin</th>\n",
       "      <th>landocean</th>\n",
       "      <th>co2</th>\n",
       "      <th>co2_maunaloa</th>\n",
       "      <th>co2_7923</th>\n",
       "    </tr>\n",
       "  </thead>\n",
       "  <tbody>\n",
       "    <tr>\n",
       "      <th>0</th>\n",
       "      <td>1750</td>\n",
       "      <td>8.719364</td>\n",
       "      <td>NaN</td>\n",
       "      <td>NaN</td>\n",
       "      <td>NaN</td>\n",
       "      <td>0</td>\n",
       "      <td>0</td>\n",
       "      <td>0</td>\n",
       "    </tr>\n",
       "  </tbody>\n",
       "</table>\n",
       "</div>"
      ],
      "text/plain": [
       "   year      land  landmax  landmin  landocean  co2  co2_maunaloa  co2_7923\n",
       "0  1750  8.719364      NaN      NaN        NaN    0             0         0"
      ]
     },
     "execution_count": 143,
     "metadata": {},
     "output_type": "execute_result"
    }
   ],
   "source": [
    "co2temp['co2'] = 0\n",
    "co2temp['co2_maunaloa'] = 0\n",
    "co2temp['co2_7923'] = 0\n",
    "co2temp.head(1)"
   ]
  },
  {
   "cell_type": "code",
   "execution_count": 144,
   "id": "d6e278a2-9157-466b-b92e-0cebac9c29d1",
   "metadata": {},
   "outputs": [
    {
     "data": {
      "text/html": [
       "<div>\n",
       "<style scoped>\n",
       "    .dataframe tbody tr th:only-of-type {\n",
       "        vertical-align: middle;\n",
       "    }\n",
       "\n",
       "    .dataframe tbody tr th {\n",
       "        vertical-align: top;\n",
       "    }\n",
       "\n",
       "    .dataframe thead th {\n",
       "        text-align: right;\n",
       "    }\n",
       "</style>\n",
       "<table border=\"1\" class=\"dataframe\">\n",
       "  <thead>\n",
       "    <tr style=\"text-align: right;\">\n",
       "      <th></th>\n",
       "      <th>year</th>\n",
       "      <th>land</th>\n",
       "      <th>landmax</th>\n",
       "      <th>landmin</th>\n",
       "      <th>landocean</th>\n",
       "      <th>co2</th>\n",
       "      <th>co2_maunaloa</th>\n",
       "      <th>co2_7923</th>\n",
       "    </tr>\n",
       "  </thead>\n",
       "  <tbody>\n",
       "    <tr>\n",
       "      <th>208</th>\n",
       "      <td>1958</td>\n",
       "      <td>8.77375</td>\n",
       "      <td>14.4775</td>\n",
       "      <td>3.1145</td>\n",
       "      <td>15.382083</td>\n",
       "      <td>0</td>\n",
       "      <td>0</td>\n",
       "      <td>0</td>\n",
       "    </tr>\n",
       "  </tbody>\n",
       "</table>\n",
       "</div>"
      ],
      "text/plain": [
       "     year     land  landmax  landmin  landocean  co2  co2_maunaloa  co2_7923\n",
       "208  1958  8.77375  14.4775   3.1145  15.382083    0             0         0"
      ]
     },
     "execution_count": 144,
     "metadata": {},
     "output_type": "execute_result"
    }
   ],
   "source": [
    "co2temp[co2temp.year==1958]"
   ]
  },
  {
   "cell_type": "code",
   "execution_count": 145,
   "id": "61de3faa-d98d-4612-9c37-2021d7feb62e",
   "metadata": {},
   "outputs": [
    {
     "data": {
      "text/html": [
       "<div>\n",
       "<style scoped>\n",
       "    .dataframe tbody tr th:only-of-type {\n",
       "        vertical-align: middle;\n",
       "    }\n",
       "\n",
       "    .dataframe tbody tr th {\n",
       "        vertical-align: top;\n",
       "    }\n",
       "\n",
       "    .dataframe thead th {\n",
       "        text-align: right;\n",
       "    }\n",
       "</style>\n",
       "<table border=\"1\" class=\"dataframe\">\n",
       "  <thead>\n",
       "    <tr style=\"text-align: right;\">\n",
       "      <th></th>\n",
       "      <th>year</th>\n",
       "      <th>land</th>\n",
       "      <th>landmax</th>\n",
       "      <th>landmin</th>\n",
       "      <th>landocean</th>\n",
       "      <th>co2</th>\n",
       "      <th>co2_maunaloa</th>\n",
       "      <th>co2_7923</th>\n",
       "    </tr>\n",
       "  </thead>\n",
       "  <tbody>\n",
       "    <tr>\n",
       "      <th>208</th>\n",
       "      <td>1958</td>\n",
       "      <td>8.77375</td>\n",
       "      <td>14.4775</td>\n",
       "      <td>3.1145</td>\n",
       "      <td>15.382083</td>\n",
       "      <td>0</td>\n",
       "      <td>0</td>\n",
       "      <td>0</td>\n",
       "    </tr>\n",
       "  </tbody>\n",
       "</table>\n",
       "</div>"
      ],
      "text/plain": [
       "     year     land  landmax  landmin  landocean  co2  co2_maunaloa  co2_7923\n",
       "208  1958  8.77375  14.4775   3.1145  15.382083    0             0         0"
      ]
     },
     "execution_count": 145,
     "metadata": {},
     "output_type": "execute_result"
    }
   ],
   "source": [
    "co2temp.drop(co2temp.index[:208]).head(1)"
   ]
  },
  {
   "cell_type": "code",
   "execution_count": 146,
   "id": "ed8f515f-6bf4-4f2c-8069-6b4691d305ad",
   "metadata": {},
   "outputs": [],
   "source": [
    "co2temp = co2temp.drop(co2temp.index[:208])"
   ]
  },
  {
   "cell_type": "code",
   "execution_count": 147,
   "id": "29b2126b-9674-4408-ae9b-ec288c615e52",
   "metadata": {},
   "outputs": [
    {
     "data": {
      "text/html": [
       "<div>\n",
       "<style scoped>\n",
       "    .dataframe tbody tr th:only-of-type {\n",
       "        vertical-align: middle;\n",
       "    }\n",
       "\n",
       "    .dataframe tbody tr th {\n",
       "        vertical-align: top;\n",
       "    }\n",
       "\n",
       "    .dataframe thead th {\n",
       "        text-align: right;\n",
       "    }\n",
       "</style>\n",
       "<table border=\"1\" class=\"dataframe\">\n",
       "  <thead>\n",
       "    <tr style=\"text-align: right;\">\n",
       "      <th></th>\n",
       "      <th>year</th>\n",
       "      <th>land</th>\n",
       "      <th>landmax</th>\n",
       "      <th>landmin</th>\n",
       "      <th>landocean</th>\n",
       "      <th>co2</th>\n",
       "      <th>co2_maunaloa</th>\n",
       "      <th>co2_7923</th>\n",
       "    </tr>\n",
       "    <tr>\n",
       "      <th>year</th>\n",
       "      <th></th>\n",
       "      <th></th>\n",
       "      <th></th>\n",
       "      <th></th>\n",
       "      <th></th>\n",
       "      <th></th>\n",
       "      <th></th>\n",
       "      <th></th>\n",
       "    </tr>\n",
       "  </thead>\n",
       "  <tbody>\n",
       "    <tr>\n",
       "      <th>1958</th>\n",
       "      <td>1958</td>\n",
       "      <td>8.77375</td>\n",
       "      <td>14.4775</td>\n",
       "      <td>3.1145</td>\n",
       "      <td>15.382083</td>\n",
       "      <td>0</td>\n",
       "      <td>0</td>\n",
       "      <td>0</td>\n",
       "    </tr>\n",
       "  </tbody>\n",
       "</table>\n",
       "</div>"
      ],
      "text/plain": [
       "      year     land  landmax  landmin  landocean  co2  co2_maunaloa  co2_7923\n",
       "year                                                                         \n",
       "1958  1958  8.77375  14.4775   3.1145  15.382083    0             0         0"
      ]
     },
     "execution_count": 147,
     "metadata": {},
     "output_type": "execute_result"
    }
   ],
   "source": [
    "co2temp = co2temp.set_index('year', drop=False)\n",
    "co2temp.head(1)"
   ]
  },
  {
   "cell_type": "code",
   "execution_count": 150,
   "id": "ac72aead-e3b0-4afb-9874-cb851ae9f5d2",
   "metadata": {},
   "outputs": [],
   "source": [
    "co2temp.loc[:2008, 'co2_maunaloa'] = maunaloa.Average.values"
   ]
  },
  {
   "cell_type": "code",
   "execution_count": 151,
   "id": "40220bc6-8347-4352-a945-adb92c116424",
   "metadata": {},
   "outputs": [],
   "source": [
    "co2temp.loc[1979:, 'co2_7923'] = co2_7923.loc[:36,'mean'].values"
   ]
  },
  {
   "cell_type": "code",
   "execution_count": 153,
   "id": "e7acc4f2-53b9-42b2-98f4-0b9f021bd144",
   "metadata": {},
   "outputs": [],
   "source": [
    "co2temp.loc[co2temp.co2_maunaloa==0, 'co2'] = co2temp.loc[co2temp.co2_maunaloa==0, 'co2_7923']"
   ]
  },
  {
   "cell_type": "code",
   "execution_count": 154,
   "id": "ebc024e0-de2d-4a3d-88ae-4edb3684e48f",
   "metadata": {},
   "outputs": [],
   "source": [
    "co2temp.loc[co2temp.co2==0, 'co2'] = co2temp.loc[co2temp.co2==0, 'co2_maunaloa']"
   ]
  },
  {
   "cell_type": "code",
   "execution_count": 155,
   "id": "d927ced2-6616-4217-a858-3ea2b111c13b",
   "metadata": {},
   "outputs": [],
   "source": [
    "co2temp = co2temp.drop(columns = ['co2_maunaloa', 'co2_7923'])"
   ]
  },
  {
   "cell_type": "code",
   "execution_count": 156,
   "id": "9d09d5f9-2b70-4fd4-a1d3-7405b95cf59b",
   "metadata": {},
   "outputs": [
    {
     "data": {
      "text/html": [
       "<div>\n",
       "<style scoped>\n",
       "    .dataframe tbody tr th:only-of-type {\n",
       "        vertical-align: middle;\n",
       "    }\n",
       "\n",
       "    .dataframe tbody tr th {\n",
       "        vertical-align: top;\n",
       "    }\n",
       "\n",
       "    .dataframe thead th {\n",
       "        text-align: right;\n",
       "    }\n",
       "</style>\n",
       "<table border=\"1\" class=\"dataframe\">\n",
       "  <thead>\n",
       "    <tr style=\"text-align: right;\">\n",
       "      <th></th>\n",
       "      <th>year</th>\n",
       "      <th>Jan</th>\n",
       "      <th>Feb</th>\n",
       "      <th>Mar</th>\n",
       "      <th>Apr</th>\n",
       "      <th>May</th>\n",
       "      <th>Jun</th>\n",
       "      <th>Jul</th>\n",
       "      <th>Aug</th>\n",
       "      <th>Sep</th>\n",
       "      <th>Oct</th>\n",
       "      <th>Nov</th>\n",
       "      <th>Dec</th>\n",
       "      <th>Average</th>\n",
       "    </tr>\n",
       "  </thead>\n",
       "  <tbody>\n",
       "    <tr>\n",
       "      <th>6</th>\n",
       "      <td>1964</td>\n",
       "      <td>319.57</td>\n",
       "      <td>-99.99</td>\n",
       "      <td>-99.99</td>\n",
       "      <td>-99.99</td>\n",
       "      <td>322.24</td>\n",
       "      <td>321.89</td>\n",
       "      <td>320.44</td>\n",
       "      <td>318.7</td>\n",
       "      <td>316.7</td>\n",
       "      <td>316.79</td>\n",
       "      <td>317.79</td>\n",
       "      <td>318.71</td>\n",
       "      <td>-99.99</td>\n",
       "    </tr>\n",
       "  </tbody>\n",
       "</table>\n",
       "</div>"
      ],
      "text/plain": [
       "   year     Jan    Feb    Mar    Apr     May     Jun     Jul    Aug    Sep  \\\n",
       "6  1964  319.57 -99.99 -99.99 -99.99  322.24  321.89  320.44  318.7  316.7   \n",
       "\n",
       "      Oct     Nov     Dec  Average  \n",
       "6  316.79  317.79  318.71   -99.99  "
      ]
     },
     "execution_count": 156,
     "metadata": {},
     "output_type": "execute_result"
    }
   ],
   "source": [
    "maunaloa.loc[maunaloa.year==1964]"
   ]
  },
  {
   "cell_type": "code",
   "execution_count": 157,
   "id": "85872ea4-f0cb-429e-8fda-bf267037bd87",
   "metadata": {},
   "outputs": [],
   "source": [
    "co2temp.loc[1964, 'co2'] = maunaloa.loc[6, ['Jan', 'May', 'Jun', 'Jul', 'Aug', 'Sep', 'Oct', 'Nov', 'Dec']].mean()"
   ]
  },
  {
   "cell_type": "code",
   "execution_count": 170,
   "id": "f0a284ef-a3bd-40ce-9723-02c6acb35f30",
   "metadata": {},
   "outputs": [
    {
     "data": {
      "image/png": "[encoded data removed]",
      "text/plain": [
       "<Figure size 640x480 with 1 Axes>"
      ]
     },
     "metadata": {},
     "output_type": "display_data"
    }
   ],
   "source": [
    "plt.plot(co2temp['year'], co2temp['land'], label='land temperature (Celsius)')\n",
    "plt.plot(co2temp['year'], co2temp['co2'], label='co2 (ppmv)')\n",
    "plt.xlabel('Year')\n",
    "plt.ylabel('Value')\n",
    "plt.title('Average land temperature vs co2')\n",
    "plt.legend()\n",
    "\n",
    "plt.show()"
   ]
  },
  {
   "cell_type": "code",
   "execution_count": 176,
   "id": "f9f8348a-438e-4300-98db-70ecff89d9e4",
   "metadata": {},
   "outputs": [
    {
     "data": {
      "image/png": "[encoded data removed]",
      "text/plain": [
       "<Figure size 640x480 with 1 Axes>"
      ]
     },
     "metadata": {},
     "output_type": "display_data"
    }
   ],
   "source": [
    "plt.plot(co2temp['year'], co2temp['co2'], label='CO2 (ppmv)')\n",
    "plt.xlabel('Year')\n",
    "plt.ylabel('ppmb CO2')\n",
    "plt.title('CO2')\n",
    "plt.legend()\n",
    "\n",
    "plt.show()"
   ]
  },
  {
   "cell_type": "code",
   "execution_count": 171,
   "id": "2c0dbaa5-a3f2-4de0-9001-a5fd0e0599e8",
   "metadata": {},
   "outputs": [
    {
     "data": {
      "image/png": "[encoded data removed]",
      "text/plain": [
       "<Figure size 640x480 with 1 Axes>"
      ]
     },
     "metadata": {},
     "output_type": "display_data"
    }
   ],
   "source": [
    "plt.plot(co2temp['year'], co2temp['land'], label='land temperature (Celsius)')\n",
    "plt.xlabel('Year')\n",
    "plt.ylabel('Value')\n",
    "plt.title('Average land temperature vs co2')\n",
    "plt.legend()\n",
    "\n",
    "plt.show()"
   ]
  },
  {
   "cell_type": "code",
   "execution_count": 179,
   "id": "a8ef354d-eed8-44eb-8034-126b2eea3572",
   "metadata": {},
   "outputs": [],
   "source": [
    "import statsmodels.formula.api as smf"
   ]
  },
  {
   "cell_type": "code",
   "execution_count": 181,
   "id": "13ef9702-229c-4ea1-9321-cea684f1e746",
   "metadata": {},
   "outputs": [
    {
     "name": "stdout",
     "output_type": "stream",
     "text": [
      "                            OLS Regression Results                            \n",
      "==============================================================================\n",
      "Dep. Variable:                   land   R-squared:                       0.816\n",
      "Model:                            OLS   Adj. R-squared:                  0.813\n",
      "Method:                 Least Squares   F-statistic:                     310.2\n",
      "Date:                Sun, 24 Mar 2024   Prob (F-statistic):           1.68e-24\n",
      "Time:                        15:56:30   Log-Likelihood:                 20.109\n",
      "No. Observations:                  58   AIC:                            -36.22\n",
      "Df Residuals:                      56   BIC:                            -32.10\n",
      "Df Model:                           1                                         \n",
      "Covariance Type:                  HC1                                         \n",
      "==============================================================================\n",
      "                 coef    std err          t      P>|t|      [0.025      0.975]\n",
      "------------------------------------------------------------------------------\n",
      "Intercept      4.0159      0.291     13.808      0.000       3.433       4.599\n",
      "co2            0.0143      0.001     17.612      0.000       0.013       0.016\n",
      "==============================================================================\n",
      "Omnibus:                        2.664   Durbin-Watson:                   1.913\n",
      "Prob(Omnibus):                  0.264   Jarque-Bera (JB):                1.609\n",
      "Skew:                          -0.123   Prob(JB):                        0.447\n",
      "Kurtosis:                       2.222   Cond. No.                     4.91e+03\n",
      "==============================================================================\n",
      "\n",
      "Notes:\n",
      "[1] Standard Errors are heteroscedasticity robust (HC1)\n",
      "[2] The condition number is large, 4.91e+03. This might indicate that there are\n",
      "strong multicollinearity or other numerical problems.\n"
     ]
    }
   ],
   "source": [
    "mod = smf.ols('land ~ co2', data=co2temp)\n",
    "res = mod.fit()\n",
    "\n",
    "mod_with_robust_errors = res.get_robustcov_results(cov_type='HC1', use_t=None)\n",
    "print(mod_with_robust_errors.summary())"
   ]
  },
  {
   "cell_type": "code",
   "execution_count": 182,
   "id": "c7d506b2-2d40-41fb-a5eb-8dd7f192a5ea",
   "metadata": {},
   "outputs": [
    {
     "name": "stdout",
     "output_type": "stream",
     "text": [
      "                            OLS Regression Results                            \n",
      "==============================================================================\n",
      "Dep. Variable:                   land   R-squared:                       0.816\n",
      "Model:                            OLS   Adj. R-squared:                  0.813\n",
      "Method:                 Least Squares   F-statistic:                     248.3\n",
      "Date:                Sun, 24 Mar 2024   Prob (F-statistic):           3.05e-22\n",
      "Time:                        15:56:45   Log-Likelihood:                 20.109\n",
      "No. Observations:                  58   AIC:                            -36.22\n",
      "Df Residuals:                      56   BIC:                            -32.10\n",
      "Df Model:                           1                                         \n",
      "Covariance Type:            nonrobust                                         \n",
      "==============================================================================\n",
      "                 coef    std err          t      P>|t|      [0.025      0.975]\n",
      "------------------------------------------------------------------------------\n",
      "Intercept      4.0159      0.319     12.587      0.000       3.377       4.655\n",
      "co2            0.0143      0.001     15.758      0.000       0.012       0.016\n",
      "==============================================================================\n",
      "Omnibus:                        2.664   Durbin-Watson:                   1.913\n",
      "Prob(Omnibus):                  0.264   Jarque-Bera (JB):                1.609\n",
      "Skew:                          -0.123   Prob(JB):                        0.447\n",
      "Kurtosis:                       2.222   Cond. No.                     4.91e+03\n",
      "==============================================================================\n",
      "\n",
      "Notes:\n",
      "[1] Standard Errors assume that the covariance matrix of the errors is correctly specified.\n",
      "[2] The condition number is large, 4.91e+03. This might indicate that there are\n",
      "strong multicollinearity or other numerical problems.\n"
     ]
    }
   ],
   "source": [
    "print(res.summary())"
   ]
  },
  {
   "cell_type": "code",
   "execution_count": null,
   "id": "448ca599-5309-4d5a-8abc-9204e50e42cc",
   "metadata": {},
   "outputs": [],
   "source": []
  }
 ],
 "metadata": {
  "kernelspec": {
   "display_name": "venvstats",
   "language": "python",
   "name": "venvstats"
  },
  "language_info": {
   "codemirror_mode": {
    "name": "ipython",
    "version": 3
   },
   "file_extension": ".py",
   "mimetype": "text/x-python",
   "name": "python",
   "nbconvert_exporter": "python",
   "pygments_lexer": "ipython3",
   "version": "3.9.13"
  }
 },
 "nbformat": 4,
 "nbformat_minor": 5
}
