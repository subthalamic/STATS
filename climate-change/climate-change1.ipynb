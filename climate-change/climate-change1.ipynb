{
 "cells": [
  {
   "cell_type": "code",
   "execution_count": 47,
   "id": "27879a7f-6cd5-4358-8ac3-2e355cd0191a",
   "metadata": {},
   "outputs": [],
   "source": [
    "import pandas as pd\n",
    "import matplotlib.pyplot as plt\n",
    "import seaborn as sns\n",
    "import numpy as np\n",
    "import scipy.stats as stats"
   ]
  },
  {
   "cell_type": "code",
   "execution_count": 48,
   "id": "2aa56dc5-639b-4fd4-b078-c90623aa5553",
   "metadata": {},
   "outputs": [],
   "source": [
    "temp = pd.read_csv('GlobalTemperatures.csv')\n",
    "maunaloa = pd.read_csv('maunaloa.csv')"
   ]
  },
  {
   "cell_type": "code",
   "execution_count": 49,
   "id": "6ad540e7-aaf0-4084-bd46-e4ab9495cb7c",
   "metadata": {},
   "outputs": [],
   "source": [
    "co2_7923 = pd.read_csv('co2_1979_2023.csv')"
   ]
  },
  {
   "cell_type": "code",
   "execution_count": 50,
   "id": "36f8f4b6-0974-43a2-abd5-11eb9ca80de0",
   "metadata": {},
   "outputs": [
    {
     "data": {
      "text/plain": [
       "array(['dt', 'LandAverageTemperature',\n",
       "       'LandAverageTemperatureUncertainty', 'LandMaxTemperature',\n",
       "       'LandMaxTemperatureUncertainty', 'LandMinTemperature',\n",
       "       'LandMinTemperatureUncertainty', 'LandAndOceanAverageTemperature',\n",
       "       'LandAndOceanAverageTemperatureUncertainty'], dtype=object)"
      ]
     },
     "execution_count": 50,
     "metadata": {},
     "output_type": "execute_result"
    }
   ],
   "source": [
    "temp.columns.values"
   ]
  },
  {
   "cell_type": "code",
   "execution_count": 51,
   "id": "a8c5f367-73d0-494b-aa62-bb4ee435debf",
   "metadata": {},
   "outputs": [
    {
     "data": {
      "text/plain": [
       "array(['Unnamed: 0', 'Jan', 'Feb', 'Mar', 'Apr', 'May', 'Jun', 'Jul',\n",
       "       'Aug', 'Sep', 'Oct', 'Nov', 'Dec', 'Average'], dtype=object)"
      ]
     },
     "execution_count": 51,
     "metadata": {},
     "output_type": "execute_result"
    }
   ],
   "source": [
    "maunaloa.columns.values"
   ]
  },
  {
   "cell_type": "code",
   "execution_count": 52,
   "id": "451c6ef4-ce2d-408a-a435-2f32fb827280",
   "metadata": {},
   "outputs": [
    {
     "data": {
      "text/plain": [
       "Index(['year', 'mean', 'unc'], dtype='object')"
      ]
     },
     "execution_count": 52,
     "metadata": {},
     "output_type": "execute_result"
    }
   ],
   "source": [
    "co2_7923.columns"
   ]
  },
  {
   "cell_type": "code",
   "execution_count": 53,
   "id": "600165ed-8e08-4dfb-800e-afd817421972",
   "metadata": {},
   "outputs": [],
   "source": [
    "temp = temp[['dt', 'LandAverageTemperature', 'LandMaxTemperature', 'LandMinTemperature', 'LandAndOceanAverageTemperature']]"
   ]
  },
  {
   "cell_type": "code",
   "execution_count": 54,
   "id": "5f668b84-c017-472b-ad74-d41d160a2684",
   "metadata": {},
   "outputs": [
    {
     "data": {
      "text/plain": [
       "Index(['dt', 'LandAverageTemperature', 'LandMaxTemperature',\n",
       "       'LandMinTemperature', 'LandAndOceanAverageTemperature'],\n",
       "      dtype='object')"
      ]
     },
     "execution_count": 54,
     "metadata": {},
     "output_type": "execute_result"
    }
   ],
   "source": [
    "temp.columns"
   ]
  },
  {
   "cell_type": "code",
   "execution_count": 55,
   "id": "a2105722-7ee7-4f87-a823-d16079c92e21",
   "metadata": {},
   "outputs": [
    {
     "data": {
      "text/plain": [
       "(3192, 5)"
      ]
     },
     "execution_count": 55,
     "metadata": {},
     "output_type": "execute_result"
    }
   ],
   "source": [
    "temp.shape"
   ]
  },
  {
   "cell_type": "code",
   "execution_count": 56,
   "id": "5a701d87-88e0-4d3b-9f51-935a719e6518",
   "metadata": {},
   "outputs": [],
   "source": [
    "temp.insert(temp.columns.get_loc(\"LandAverageTemperature\"), \"year\", 0)"
   ]
  },
  {
   "cell_type": "code",
   "execution_count": 57,
   "id": "f2da9ef3-c169-41d9-984c-f1d83ea463be",
   "metadata": {},
   "outputs": [],
   "source": [
    "temp.insert(temp.columns.get_loc(\"LandAverageTemperature\"), \"month\", 0)"
   ]
  },
  {
   "cell_type": "code",
   "execution_count": 58,
   "id": "ba28ddf8-fd18-4b44-a9f4-33eeb8049ee1",
   "metadata": {},
   "outputs": [
    {
     "data": {
      "text/html": [
       "<div>\n",
       "<style scoped>\n",
       "    .dataframe tbody tr th:only-of-type {\n",
       "        vertical-align: middle;\n",
       "    }\n",
       "\n",
       "    .dataframe tbody tr th {\n",
       "        vertical-align: top;\n",
       "    }\n",
       "\n",
       "    .dataframe thead th {\n",
       "        text-align: right;\n",
       "    }\n",
       "</style>\n",
       "<table border=\"1\" class=\"dataframe\">\n",
       "  <thead>\n",
       "    <tr style=\"text-align: right;\">\n",
       "      <th></th>\n",
       "      <th>dt</th>\n",
       "      <th>year</th>\n",
       "      <th>month</th>\n",
       "      <th>LandAverageTemperature</th>\n",
       "      <th>LandMaxTemperature</th>\n",
       "      <th>LandMinTemperature</th>\n",
       "      <th>LandAndOceanAverageTemperature</th>\n",
       "    </tr>\n",
       "  </thead>\n",
       "  <tbody>\n",
       "    <tr>\n",
       "      <th>0</th>\n",
       "      <td>1750-01-01</td>\n",
       "      <td>0</td>\n",
       "      <td>0</td>\n",
       "      <td>3.034</td>\n",
       "      <td>NaN</td>\n",
       "      <td>NaN</td>\n",
       "      <td>NaN</td>\n",
       "    </tr>\n",
       "    <tr>\n",
       "      <th>1</th>\n",
       "      <td>1750-02-01</td>\n",
       "      <td>0</td>\n",
       "      <td>0</td>\n",
       "      <td>3.083</td>\n",
       "      <td>NaN</td>\n",
       "      <td>NaN</td>\n",
       "      <td>NaN</td>\n",
       "    </tr>\n",
       "    <tr>\n",
       "      <th>2</th>\n",
       "      <td>1750-03-01</td>\n",
       "      <td>0</td>\n",
       "      <td>0</td>\n",
       "      <td>5.626</td>\n",
       "      <td>NaN</td>\n",
       "      <td>NaN</td>\n",
       "      <td>NaN</td>\n",
       "    </tr>\n",
       "    <tr>\n",
       "      <th>3</th>\n",
       "      <td>1750-04-01</td>\n",
       "      <td>0</td>\n",
       "      <td>0</td>\n",
       "      <td>8.490</td>\n",
       "      <td>NaN</td>\n",
       "      <td>NaN</td>\n",
       "      <td>NaN</td>\n",
       "    </tr>\n",
       "    <tr>\n",
       "      <th>4</th>\n",
       "      <td>1750-05-01</td>\n",
       "      <td>0</td>\n",
       "      <td>0</td>\n",
       "      <td>11.573</td>\n",
       "      <td>NaN</td>\n",
       "      <td>NaN</td>\n",
       "      <td>NaN</td>\n",
       "    </tr>\n",
       "  </tbody>\n",
       "</table>\n",
       "</div>"
      ],
      "text/plain": [
       "           dt  year  month  LandAverageTemperature  LandMaxTemperature  \\\n",
       "0  1750-01-01     0      0                   3.034                 NaN   \n",
       "1  1750-02-01     0      0                   3.083                 NaN   \n",
       "2  1750-03-01     0      0                   5.626                 NaN   \n",
       "3  1750-04-01     0      0                   8.490                 NaN   \n",
       "4  1750-05-01     0      0                  11.573                 NaN   \n",
       "\n",
       "   LandMinTemperature  LandAndOceanAverageTemperature  \n",
       "0                 NaN                             NaN  \n",
       "1                 NaN                             NaN  \n",
       "2                 NaN                             NaN  \n",
       "3                 NaN                             NaN  \n",
       "4                 NaN                             NaN  "
      ]
     },
     "execution_count": 58,
     "metadata": {},
     "output_type": "execute_result"
    }
   ],
   "source": [
    "temp.head(5)"
   ]
  },
  {
   "cell_type": "code",
   "execution_count": 59,
   "id": "192ab2a5-b6a2-4cf7-81e0-ef0ba41a9b49",
   "metadata": {},
   "outputs": [
    {
     "data": {
      "text/plain": [
       "'1750'"
      ]
     },
     "execution_count": 59,
     "metadata": {},
     "output_type": "execute_result"
    }
   ],
   "source": [
    "temp.loc[0, 'dt'][:4]"
   ]
  },
  {
   "cell_type": "code",
   "execution_count": 60,
   "id": "f3c8c299-f24f-4040-9a11-1c2686fec0ad",
   "metadata": {},
   "outputs": [
    {
     "data": {
      "text/plain": [
       "'01'"
      ]
     },
     "execution_count": 60,
     "metadata": {},
     "output_type": "execute_result"
    }
   ],
   "source": [
    "temp.loc[0, 'dt'][5:7]"
   ]
  },
  {
   "cell_type": "code",
   "execution_count": 61,
   "id": "c2eb4a68-28f3-4131-9623-1ba5286b8d3c",
   "metadata": {},
   "outputs": [],
   "source": [
    "temp.year = temp.dt.map(lambda x: int(x[:4]))       # less readable\n",
    "\n",
    "# temp['year'] = [int(str(date)[:4]) for date in temp['dt']]\n",
    "# for every \"date\" that is an element of temp['dt']\n",
    "# str(date)[:4] => take the first 4 characters"
   ]
  },
  {
   "cell_type": "code",
   "execution_count": 62,
   "id": "9a6677f4-1e30-4ebf-9b40-30827ed95255",
   "metadata": {},
   "outputs": [
    {
     "data": {
      "text/plain": [
       "array([1750, 1750, 1750, ..., 2015, 2015, 2015], dtype=int64)"
      ]
     },
     "execution_count": 62,
     "metadata": {},
     "output_type": "execute_result"
    }
   ],
   "source": [
    "temp.year.values"
   ]
  },
  {
   "cell_type": "code",
   "execution_count": 63,
   "id": "bcef0f49-22ee-4b85-a86e-02020e79006e",
   "metadata": {},
   "outputs": [],
   "source": [
    "temp.month = temp.dt.map(lambda x: int(x[5:7]))"
   ]
  },
  {
   "cell_type": "code",
   "execution_count": 64,
   "id": "487e1b54-bba6-49cb-a66e-249b8a1873a4",
   "metadata": {},
   "outputs": [],
   "source": [
    "yearly_temp = pd.DataFrame(index=range(len(temp.year.unique())), columns = ['year','land','landmax','landmin','landocean'])\n",
    "# also index=temp.year.nunique() \n",
    "#temp_df.empty:"
   ]
  },
  {
   "cell_type": "code",
   "execution_count": 65,
   "id": "0ee86ae1-271b-4640-b49c-6a8d7d037f4d",
   "metadata": {},
   "outputs": [
    {
     "data": {
      "text/html": [
       "<div>\n",
       "<style scoped>\n",
       "    .dataframe tbody tr th:only-of-type {\n",
       "        vertical-align: middle;\n",
       "    }\n",
       "\n",
       "    .dataframe tbody tr th {\n",
       "        vertical-align: top;\n",
       "    }\n",
       "\n",
       "    .dataframe thead th {\n",
       "        text-align: right;\n",
       "    }\n",
       "</style>\n",
       "<table border=\"1\" class=\"dataframe\">\n",
       "  <thead>\n",
       "    <tr style=\"text-align: right;\">\n",
       "      <th></th>\n",
       "      <th>year</th>\n",
       "      <th>land</th>\n",
       "      <th>landmax</th>\n",
       "      <th>landmin</th>\n",
       "      <th>landocean</th>\n",
       "    </tr>\n",
       "  </thead>\n",
       "  <tbody>\n",
       "    <tr>\n",
       "      <th>261</th>\n",
       "      <td>NaN</td>\n",
       "      <td>NaN</td>\n",
       "      <td>NaN</td>\n",
       "      <td>NaN</td>\n",
       "      <td>NaN</td>\n",
       "    </tr>\n",
       "    <tr>\n",
       "      <th>262</th>\n",
       "      <td>NaN</td>\n",
       "      <td>NaN</td>\n",
       "      <td>NaN</td>\n",
       "      <td>NaN</td>\n",
       "      <td>NaN</td>\n",
       "    </tr>\n",
       "    <tr>\n",
       "      <th>263</th>\n",
       "      <td>NaN</td>\n",
       "      <td>NaN</td>\n",
       "      <td>NaN</td>\n",
       "      <td>NaN</td>\n",
       "      <td>NaN</td>\n",
       "    </tr>\n",
       "    <tr>\n",
       "      <th>264</th>\n",
       "      <td>NaN</td>\n",
       "      <td>NaN</td>\n",
       "      <td>NaN</td>\n",
       "      <td>NaN</td>\n",
       "      <td>NaN</td>\n",
       "    </tr>\n",
       "    <tr>\n",
       "      <th>265</th>\n",
       "      <td>NaN</td>\n",
       "      <td>NaN</td>\n",
       "      <td>NaN</td>\n",
       "      <td>NaN</td>\n",
       "      <td>NaN</td>\n",
       "    </tr>\n",
       "  </tbody>\n",
       "</table>\n",
       "</div>"
      ],
      "text/plain": [
       "    year land landmax landmin landocean\n",
       "261  NaN  NaN     NaN     NaN       NaN\n",
       "262  NaN  NaN     NaN     NaN       NaN\n",
       "263  NaN  NaN     NaN     NaN       NaN\n",
       "264  NaN  NaN     NaN     NaN       NaN\n",
       "265  NaN  NaN     NaN     NaN       NaN"
      ]
     },
     "execution_count": 65,
     "metadata": {},
     "output_type": "execute_result"
    }
   ],
   "source": [
    "yearly_temp.tail(5)"
   ]
  },
  {
   "cell_type": "code",
   "execution_count": 66,
   "id": "1953c728-80a9-4917-917b-baeb96820df5",
   "metadata": {},
   "outputs": [],
   "source": [
    "yearly_temp.year=temp.year.unique()   # might not preserve order - should sort\n",
    "# sorted([year for year in temp['year'].unique()])\n",
    "#[year for year in temp['year'].unique()] = list of all the available years and then you explicityly sor the list"
   ]
  },
  {
   "cell_type": "code",
   "execution_count": 67,
   "id": "6cf3ef38-ab9e-4a5e-ae1c-90fd727f328a",
   "metadata": {},
   "outputs": [
    {
     "data": {
      "text/html": [
       "<div>\n",
       "<style scoped>\n",
       "    .dataframe tbody tr th:only-of-type {\n",
       "        vertical-align: middle;\n",
       "    }\n",
       "\n",
       "    .dataframe tbody tr th {\n",
       "        vertical-align: top;\n",
       "    }\n",
       "\n",
       "    .dataframe thead th {\n",
       "        text-align: right;\n",
       "    }\n",
       "</style>\n",
       "<table border=\"1\" class=\"dataframe\">\n",
       "  <thead>\n",
       "    <tr style=\"text-align: right;\">\n",
       "      <th></th>\n",
       "      <th>year</th>\n",
       "      <th>land</th>\n",
       "      <th>landmax</th>\n",
       "      <th>landmin</th>\n",
       "      <th>landocean</th>\n",
       "    </tr>\n",
       "  </thead>\n",
       "  <tbody>\n",
       "    <tr>\n",
       "      <th>261</th>\n",
       "      <td>2011</td>\n",
       "      <td>NaN</td>\n",
       "      <td>NaN</td>\n",
       "      <td>NaN</td>\n",
       "      <td>NaN</td>\n",
       "    </tr>\n",
       "    <tr>\n",
       "      <th>262</th>\n",
       "      <td>2012</td>\n",
       "      <td>NaN</td>\n",
       "      <td>NaN</td>\n",
       "      <td>NaN</td>\n",
       "      <td>NaN</td>\n",
       "    </tr>\n",
       "    <tr>\n",
       "      <th>263</th>\n",
       "      <td>2013</td>\n",
       "      <td>NaN</td>\n",
       "      <td>NaN</td>\n",
       "      <td>NaN</td>\n",
       "      <td>NaN</td>\n",
       "    </tr>\n",
       "    <tr>\n",
       "      <th>264</th>\n",
       "      <td>2014</td>\n",
       "      <td>NaN</td>\n",
       "      <td>NaN</td>\n",
       "      <td>NaN</td>\n",
       "      <td>NaN</td>\n",
       "    </tr>\n",
       "    <tr>\n",
       "      <th>265</th>\n",
       "      <td>2015</td>\n",
       "      <td>NaN</td>\n",
       "      <td>NaN</td>\n",
       "      <td>NaN</td>\n",
       "      <td>NaN</td>\n",
       "    </tr>\n",
       "  </tbody>\n",
       "</table>\n",
       "</div>"
      ],
      "text/plain": [
       "     year land landmax landmin landocean\n",
       "261  2011  NaN     NaN     NaN       NaN\n",
       "262  2012  NaN     NaN     NaN       NaN\n",
       "263  2013  NaN     NaN     NaN       NaN\n",
       "264  2014  NaN     NaN     NaN       NaN\n",
       "265  2015  NaN     NaN     NaN       NaN"
      ]
     },
     "execution_count": 67,
     "metadata": {},
     "output_type": "execute_result"
    }
   ],
   "source": [
    "yearly_temp.tail(5)"
   ]
  },
  {
   "cell_type": "code",
   "execution_count": 68,
   "id": "2c9f6c61-e11a-4919-8dfd-ad0f49beb31b",
   "metadata": {},
   "outputs": [],
   "source": [
    "yearly_temp.land = temp.groupby('year').LandAverageTemperature.mean().values\n",
    "yearly_temp.landmax = temp.groupby('year').LandMaxTemperature.mean().values\n",
    "yearly_temp.landmin = temp.groupby('year').LandMinTemperature.mean().values\n",
    "yearly_temp.landocean = temp.groupby('year').LandAndOceanAverageTemperature.mean().values\n",
    "\n",
    "# should also try groupby.apply on a slice, temp_df = pd.DataFrame(...)\n",
    "# when you assign a variable, you add spaces on each side of the equal sign\n",
    "# When you pass arguments to a function, you DON'T add spaces anywhere\n",
    "# pd.DataFrame(columns=['col1', 'col2'])"
   ]
  },
  {
   "cell_type": "code",
   "execution_count": 69,
   "id": "79905e76-3379-41d7-aa3f-b19f56239106",
   "metadata": {},
   "outputs": [
    {
     "data": {
      "text/html": [
       "<div>\n",
       "<style scoped>\n",
       "    .dataframe tbody tr th:only-of-type {\n",
       "        vertical-align: middle;\n",
       "    }\n",
       "\n",
       "    .dataframe tbody tr th {\n",
       "        vertical-align: top;\n",
       "    }\n",
       "\n",
       "    .dataframe thead th {\n",
       "        text-align: right;\n",
       "    }\n",
       "</style>\n",
       "<table border=\"1\" class=\"dataframe\">\n",
       "  <thead>\n",
       "    <tr style=\"text-align: right;\">\n",
       "      <th></th>\n",
       "      <th>year</th>\n",
       "      <th>land</th>\n",
       "      <th>landmax</th>\n",
       "      <th>landmin</th>\n",
       "      <th>landocean</th>\n",
       "    </tr>\n",
       "  </thead>\n",
       "  <tbody>\n",
       "    <tr>\n",
       "      <th>261</th>\n",
       "      <td>2011</td>\n",
       "      <td>9.516000</td>\n",
       "      <td>15.284833</td>\n",
       "      <td>3.827667</td>\n",
       "      <td>15.769500</td>\n",
       "    </tr>\n",
       "    <tr>\n",
       "      <th>262</th>\n",
       "      <td>2012</td>\n",
       "      <td>9.507333</td>\n",
       "      <td>15.332833</td>\n",
       "      <td>3.756167</td>\n",
       "      <td>15.802333</td>\n",
       "    </tr>\n",
       "    <tr>\n",
       "      <th>263</th>\n",
       "      <td>2013</td>\n",
       "      <td>9.606500</td>\n",
       "      <td>15.373833</td>\n",
       "      <td>3.911333</td>\n",
       "      <td>15.854417</td>\n",
       "    </tr>\n",
       "    <tr>\n",
       "      <th>264</th>\n",
       "      <td>2014</td>\n",
       "      <td>9.570667</td>\n",
       "      <td>15.313583</td>\n",
       "      <td>3.877750</td>\n",
       "      <td>15.913000</td>\n",
       "    </tr>\n",
       "    <tr>\n",
       "      <th>265</th>\n",
       "      <td>2015</td>\n",
       "      <td>9.831000</td>\n",
       "      <td>15.572667</td>\n",
       "      <td>4.148833</td>\n",
       "      <td>16.058583</td>\n",
       "    </tr>\n",
       "  </tbody>\n",
       "</table>\n",
       "</div>"
      ],
      "text/plain": [
       "     year      land    landmax   landmin  landocean\n",
       "261  2011  9.516000  15.284833  3.827667  15.769500\n",
       "262  2012  9.507333  15.332833  3.756167  15.802333\n",
       "263  2013  9.606500  15.373833  3.911333  15.854417\n",
       "264  2014  9.570667  15.313583  3.877750  15.913000\n",
       "265  2015  9.831000  15.572667  4.148833  16.058583"
      ]
     },
     "execution_count": 69,
     "metadata": {},
     "output_type": "execute_result"
    }
   ],
   "source": [
    "yearly_temp.tail(5)"
   ]
  },
  {
   "cell_type": "code",
   "execution_count": 70,
   "id": "aef20f18-3f7c-431b-91ff-4c06de8cb305",
   "metadata": {},
   "outputs": [],
   "source": [
    " maunaloa.rename(columns = {maunaloa.columns[0] : 'year'}, inplace = True)"
   ]
  },
  {
   "cell_type": "code",
   "execution_count": 71,
   "id": "cd249c7b-0cde-4c7f-9ee1-95b1be30ae9b",
   "metadata": {},
   "outputs": [
    {
     "data": {
      "text/plain": [
       "Index(['year', 'Jan', 'Feb', 'Mar', 'Apr', 'May', 'Jun', 'Jul', 'Aug', 'Sep',\n",
       "       'Oct', 'Nov', 'Dec', 'Average'],\n",
       "      dtype='object')"
      ]
     },
     "execution_count": 71,
     "metadata": {},
     "output_type": "execute_result"
    }
   ],
   "source": [
    "maunaloa.columns"
   ]
  },
  {
   "cell_type": "code",
   "execution_count": 72,
   "id": "22194031-3031-4540-af7e-28cb8cb32f37",
   "metadata": {},
   "outputs": [],
   "source": [
    "maunaloa.loc[0, 'Average'] = maunaloa.loc[0, 'Mar':'Dec'].mean()"
   ]
  },
  {
   "cell_type": "code",
   "execution_count": 73,
   "id": "9fc9d39f-bfa0-456e-9f59-c345352a3f6a",
   "metadata": {},
   "outputs": [
    {
     "data": {
      "text/plain": [
       "315.234"
      ]
     },
     "execution_count": 73,
     "metadata": {},
     "output_type": "execute_result"
    }
   ],
   "source": [
    "maunaloa.Average[0]"
   ]
  },
  {
   "cell_type": "code",
   "execution_count": 74,
   "id": "9222f896-fd92-40fb-9f3d-73d7cfb2d316",
   "metadata": {},
   "outputs": [],
   "source": [
    "co2temp = yearly_temp"
   ]
  },
  {
   "cell_type": "code",
   "execution_count": 75,
   "id": "0cc5c67c-dc46-4878-95fc-b910eccaa08a",
   "metadata": {},
   "outputs": [
    {
     "data": {
      "text/html": [
       "<div>\n",
       "<style scoped>\n",
       "    .dataframe tbody tr th:only-of-type {\n",
       "        vertical-align: middle;\n",
       "    }\n",
       "\n",
       "    .dataframe tbody tr th {\n",
       "        vertical-align: top;\n",
       "    }\n",
       "\n",
       "    .dataframe thead th {\n",
       "        text-align: right;\n",
       "    }\n",
       "</style>\n",
       "<table border=\"1\" class=\"dataframe\">\n",
       "  <thead>\n",
       "    <tr style=\"text-align: right;\">\n",
       "      <th></th>\n",
       "      <th>year</th>\n",
       "      <th>land</th>\n",
       "      <th>landmax</th>\n",
       "      <th>landmin</th>\n",
       "      <th>landocean</th>\n",
       "      <th>co2</th>\n",
       "      <th>co2_maunaloa</th>\n",
       "      <th>co2_7923</th>\n",
       "    </tr>\n",
       "  </thead>\n",
       "  <tbody>\n",
       "    <tr>\n",
       "      <th>0</th>\n",
       "      <td>1750</td>\n",
       "      <td>8.719364</td>\n",
       "      <td>NaN</td>\n",
       "      <td>NaN</td>\n",
       "      <td>NaN</td>\n",
       "      <td>0</td>\n",
       "      <td>0</td>\n",
       "      <td>0</td>\n",
       "    </tr>\n",
       "  </tbody>\n",
       "</table>\n",
       "</div>"
      ],
      "text/plain": [
       "   year      land  landmax  landmin  landocean  co2  co2_maunaloa  co2_7923\n",
       "0  1750  8.719364      NaN      NaN        NaN    0             0         0"
      ]
     },
     "execution_count": 75,
     "metadata": {},
     "output_type": "execute_result"
    }
   ],
   "source": [
    "co2temp['co2'] = 0\n",
    "co2temp['co2_maunaloa'] = 0\n",
    "co2temp['co2_7923'] = 0\n",
    "co2temp.head(1)"
   ]
  },
  {
   "cell_type": "code",
   "execution_count": 76,
   "id": "d6e278a2-9157-466b-b92e-0cebac9c29d1",
   "metadata": {},
   "outputs": [
    {
     "data": {
      "text/html": [
       "<div>\n",
       "<style scoped>\n",
       "    .dataframe tbody tr th:only-of-type {\n",
       "        vertical-align: middle;\n",
       "    }\n",
       "\n",
       "    .dataframe tbody tr th {\n",
       "        vertical-align: top;\n",
       "    }\n",
       "\n",
       "    .dataframe thead th {\n",
       "        text-align: right;\n",
       "    }\n",
       "</style>\n",
       "<table border=\"1\" class=\"dataframe\">\n",
       "  <thead>\n",
       "    <tr style=\"text-align: right;\">\n",
       "      <th></th>\n",
       "      <th>year</th>\n",
       "      <th>land</th>\n",
       "      <th>landmax</th>\n",
       "      <th>landmin</th>\n",
       "      <th>landocean</th>\n",
       "      <th>co2</th>\n",
       "      <th>co2_maunaloa</th>\n",
       "      <th>co2_7923</th>\n",
       "    </tr>\n",
       "  </thead>\n",
       "  <tbody>\n",
       "    <tr>\n",
       "      <th>208</th>\n",
       "      <td>1958</td>\n",
       "      <td>8.77375</td>\n",
       "      <td>14.4775</td>\n",
       "      <td>3.1145</td>\n",
       "      <td>15.382083</td>\n",
       "      <td>0</td>\n",
       "      <td>0</td>\n",
       "      <td>0</td>\n",
       "    </tr>\n",
       "  </tbody>\n",
       "</table>\n",
       "</div>"
      ],
      "text/plain": [
       "     year     land  landmax  landmin  landocean  co2  co2_maunaloa  co2_7923\n",
       "208  1958  8.77375  14.4775   3.1145  15.382083    0             0         0"
      ]
     },
     "execution_count": 76,
     "metadata": {},
     "output_type": "execute_result"
    }
   ],
   "source": [
    "co2temp[co2temp.year==1958]"
   ]
  },
  {
   "cell_type": "code",
   "execution_count": 77,
   "id": "61de3faa-d98d-4612-9c37-2021d7feb62e",
   "metadata": {},
   "outputs": [
    {
     "data": {
      "text/html": [
       "<div>\n",
       "<style scoped>\n",
       "    .dataframe tbody tr th:only-of-type {\n",
       "        vertical-align: middle;\n",
       "    }\n",
       "\n",
       "    .dataframe tbody tr th {\n",
       "        vertical-align: top;\n",
       "    }\n",
       "\n",
       "    .dataframe thead th {\n",
       "        text-align: right;\n",
       "    }\n",
       "</style>\n",
       "<table border=\"1\" class=\"dataframe\">\n",
       "  <thead>\n",
       "    <tr style=\"text-align: right;\">\n",
       "      <th></th>\n",
       "      <th>year</th>\n",
       "      <th>land</th>\n",
       "      <th>landmax</th>\n",
       "      <th>landmin</th>\n",
       "      <th>landocean</th>\n",
       "      <th>co2</th>\n",
       "      <th>co2_maunaloa</th>\n",
       "      <th>co2_7923</th>\n",
       "    </tr>\n",
       "  </thead>\n",
       "  <tbody>\n",
       "    <tr>\n",
       "      <th>208</th>\n",
       "      <td>1958</td>\n",
       "      <td>8.77375</td>\n",
       "      <td>14.4775</td>\n",
       "      <td>3.1145</td>\n",
       "      <td>15.382083</td>\n",
       "      <td>0</td>\n",
       "      <td>0</td>\n",
       "      <td>0</td>\n",
       "    </tr>\n",
       "  </tbody>\n",
       "</table>\n",
       "</div>"
      ],
      "text/plain": [
       "     year     land  landmax  landmin  landocean  co2  co2_maunaloa  co2_7923\n",
       "208  1958  8.77375  14.4775   3.1145  15.382083    0             0         0"
      ]
     },
     "execution_count": 77,
     "metadata": {},
     "output_type": "execute_result"
    }
   ],
   "source": [
    "co2temp.drop(co2temp.index[:208]).head(1)"
   ]
  },
  {
   "cell_type": "code",
   "execution_count": 78,
   "id": "ed8f515f-6bf4-4f2c-8069-6b4691d305ad",
   "metadata": {},
   "outputs": [],
   "source": [
    "co2temp = co2temp.drop(co2temp.index[:208])"
   ]
  },
  {
   "cell_type": "code",
   "execution_count": 79,
   "id": "29b2126b-9674-4408-ae9b-ec288c615e52",
   "metadata": {},
   "outputs": [
    {
     "data": {
      "text/html": [
       "<div>\n",
       "<style scoped>\n",
       "    .dataframe tbody tr th:only-of-type {\n",
       "        vertical-align: middle;\n",
       "    }\n",
       "\n",
       "    .dataframe tbody tr th {\n",
       "        vertical-align: top;\n",
       "    }\n",
       "\n",
       "    .dataframe thead th {\n",
       "        text-align: right;\n",
       "    }\n",
       "</style>\n",
       "<table border=\"1\" class=\"dataframe\">\n",
       "  <thead>\n",
       "    <tr style=\"text-align: right;\">\n",
       "      <th></th>\n",
       "      <th>year</th>\n",
       "      <th>land</th>\n",
       "      <th>landmax</th>\n",
       "      <th>landmin</th>\n",
       "      <th>landocean</th>\n",
       "      <th>co2</th>\n",
       "      <th>co2_maunaloa</th>\n",
       "      <th>co2_7923</th>\n",
       "    </tr>\n",
       "    <tr>\n",
       "      <th>year</th>\n",
       "      <th></th>\n",
       "      <th></th>\n",
       "      <th></th>\n",
       "      <th></th>\n",
       "      <th></th>\n",
       "      <th></th>\n",
       "      <th></th>\n",
       "      <th></th>\n",
       "    </tr>\n",
       "  </thead>\n",
       "  <tbody>\n",
       "    <tr>\n",
       "      <th>1958</th>\n",
       "      <td>1958</td>\n",
       "      <td>8.77375</td>\n",
       "      <td>14.4775</td>\n",
       "      <td>3.1145</td>\n",
       "      <td>15.382083</td>\n",
       "      <td>0</td>\n",
       "      <td>0</td>\n",
       "      <td>0</td>\n",
       "    </tr>\n",
       "  </tbody>\n",
       "</table>\n",
       "</div>"
      ],
      "text/plain": [
       "      year     land  landmax  landmin  landocean  co2  co2_maunaloa  co2_7923\n",
       "year                                                                         \n",
       "1958  1958  8.77375  14.4775   3.1145  15.382083    0             0         0"
      ]
     },
     "execution_count": 79,
     "metadata": {},
     "output_type": "execute_result"
    }
   ],
   "source": [
    "co2temp = co2temp.set_index('year', drop=False)\n",
    "co2temp.head(1)"
   ]
  },
  {
   "cell_type": "code",
   "execution_count": 80,
   "id": "ac72aead-e3b0-4afb-9874-cb851ae9f5d2",
   "metadata": {},
   "outputs": [
    {
     "name": "stderr",
     "output_type": "stream",
     "text": [
      "C:\\Users\\THW\\AppData\\Local\\Temp\\ipykernel_7804\\4166472702.py:1: FutureWarning: Setting an item of incompatible dtype is deprecated and will raise an error in a future version of pandas. Value '[315.234 315.98  316.91  317.64  318.45  318.99  -99.99  320.04  321.38\n",
      " 322.16  323.05  324.63  325.68  326.32  327.45  329.68  330.25  331.15\n",
      " 332.15  333.9   335.51  336.85  338.69  339.93  341.13  342.78  344.42\n",
      " 345.9   347.15  348.93  351.48  352.91  354.19  355.59  356.37  357.04\n",
      " 358.89  360.88  362.64  363.76  366.63  368.31  369.48  371.02  373.1\n",
      " 375.64  377.38  379.67  381.84  383.55  385.34 ]' has dtype incompatible with int64, please explicitly cast to a compatible dtype first.\n",
      "  co2temp.loc[:2008, 'co2_maunaloa'] = maunaloa.Average.values\n"
     ]
    }
   ],
   "source": [
    "co2temp.loc[:2008, 'co2_maunaloa'] = maunaloa.Average.values"
   ]
  },
  {
   "cell_type": "code",
   "execution_count": 81,
   "id": "40220bc6-8347-4352-a945-adb92c116424",
   "metadata": {},
   "outputs": [
    {
     "name": "stderr",
     "output_type": "stream",
     "text": [
      "C:\\Users\\THW\\AppData\\Local\\Temp\\ipykernel_7804\\3340038629.py:1: FutureWarning: Setting an item of incompatible dtype is deprecated and will raise an error in a future version of pandas. Value '[336.85 338.91 340.11 340.86 342.53 344.07 345.54 346.97 348.68 351.16\n",
      " 352.79 354.06 355.39 356.09 356.83 358.33 360.17 361.93 363.05 365.7\n",
      " 367.79 368.96 370.57 372.58 375.14 376.95 378.98 381.15 382.9  385.02\n",
      " 386.5  388.76 390.63 392.65 395.4  397.34 399.65]' has dtype incompatible with int64, please explicitly cast to a compatible dtype first.\n",
      "  co2temp.loc[1979:, 'co2_7923'] = co2_7923.loc[:36,'mean'].values\n"
     ]
    }
   ],
   "source": [
    "co2temp.loc[1979:, 'co2_7923'] = co2_7923.loc[:36,'mean'].values"
   ]
  },
  {
   "cell_type": "code",
   "execution_count": 82,
   "id": "e7acc4f2-53b9-42b2-98f4-0b9f021bd144",
   "metadata": {},
   "outputs": [
    {
     "name": "stderr",
     "output_type": "stream",
     "text": [
      "C:\\Users\\THW\\AppData\\Local\\Temp\\ipykernel_7804\\3836187366.py:1: FutureWarning: Setting an item of incompatible dtype is deprecated and will raise an error in a future version of pandas. Value '[386.5  388.76 390.63 392.65 395.4  397.34 399.65]' has dtype incompatible with int64, please explicitly cast to a compatible dtype first.\n",
      "  co2temp.loc[co2temp.co2_maunaloa==0, 'co2'] = co2temp.loc[co2temp.co2_maunaloa==0, 'co2_7923']\n"
     ]
    }
   ],
   "source": [
    "co2temp.loc[co2temp.co2_maunaloa==0, 'co2'] = co2temp.loc[co2temp.co2_maunaloa==0, 'co2_7923']"
   ]
  },
  {
   "cell_type": "code",
   "execution_count": 83,
   "id": "ebc024e0-de2d-4a3d-88ae-4edb3684e48f",
   "metadata": {},
   "outputs": [],
   "source": [
    "co2temp.loc[co2temp.co2==0, 'co2'] = co2temp.loc[co2temp.co2==0, 'co2_maunaloa']"
   ]
  },
  {
   "cell_type": "code",
   "execution_count": 84,
   "id": "d927ced2-6616-4217-a858-3ea2b111c13b",
   "metadata": {},
   "outputs": [],
   "source": [
    "co2temp = co2temp.drop(columns = ['co2_maunaloa', 'co2_7923'])"
   ]
  },
  {
   "cell_type": "code",
   "execution_count": 85,
   "id": "9d09d5f9-2b70-4fd4-a1d3-7405b95cf59b",
   "metadata": {},
   "outputs": [
    {
     "data": {
      "text/html": [
       "<div>\n",
       "<style scoped>\n",
       "    .dataframe tbody tr th:only-of-type {\n",
       "        vertical-align: middle;\n",
       "    }\n",
       "\n",
       "    .dataframe tbody tr th {\n",
       "        vertical-align: top;\n",
       "    }\n",
       "\n",
       "    .dataframe thead th {\n",
       "        text-align: right;\n",
       "    }\n",
       "</style>\n",
       "<table border=\"1\" class=\"dataframe\">\n",
       "  <thead>\n",
       "    <tr style=\"text-align: right;\">\n",
       "      <th></th>\n",
       "      <th>year</th>\n",
       "      <th>Jan</th>\n",
       "      <th>Feb</th>\n",
       "      <th>Mar</th>\n",
       "      <th>Apr</th>\n",
       "      <th>May</th>\n",
       "      <th>Jun</th>\n",
       "      <th>Jul</th>\n",
       "      <th>Aug</th>\n",
       "      <th>Sep</th>\n",
       "      <th>Oct</th>\n",
       "      <th>Nov</th>\n",
       "      <th>Dec</th>\n",
       "      <th>Average</th>\n",
       "    </tr>\n",
       "  </thead>\n",
       "  <tbody>\n",
       "    <tr>\n",
       "      <th>6</th>\n",
       "      <td>1964</td>\n",
       "      <td>319.57</td>\n",
       "      <td>-99.99</td>\n",
       "      <td>-99.99</td>\n",
       "      <td>-99.99</td>\n",
       "      <td>322.24</td>\n",
       "      <td>321.89</td>\n",
       "      <td>320.44</td>\n",
       "      <td>318.7</td>\n",
       "      <td>316.7</td>\n",
       "      <td>316.79</td>\n",
       "      <td>317.79</td>\n",
       "      <td>318.71</td>\n",
       "      <td>-99.99</td>\n",
       "    </tr>\n",
       "  </tbody>\n",
       "</table>\n",
       "</div>"
      ],
      "text/plain": [
       "   year     Jan    Feb    Mar    Apr     May     Jun     Jul    Aug    Sep  \\\n",
       "6  1964  319.57 -99.99 -99.99 -99.99  322.24  321.89  320.44  318.7  316.7   \n",
       "\n",
       "      Oct     Nov     Dec  Average  \n",
       "6  316.79  317.79  318.71   -99.99  "
      ]
     },
     "execution_count": 85,
     "metadata": {},
     "output_type": "execute_result"
    }
   ],
   "source": [
    "maunaloa.loc[maunaloa.year==1964]"
   ]
  },
  {
   "cell_type": "code",
   "execution_count": 86,
   "id": "85872ea4-f0cb-429e-8fda-bf267037bd87",
   "metadata": {},
   "outputs": [],
   "source": [
    "co2temp.loc[1964, 'co2'] = maunaloa.loc[6, ['Jan', 'May', 'Jun', 'Jul', 'Aug', 'Sep', 'Oct', 'Nov', 'Dec']].mean()\n",
    "# also condition"
   ]
  },
  {
   "cell_type": "code",
   "execution_count": 89,
   "id": "dce13cca-f0eb-4973-8645-44d1be33323c",
   "metadata": {},
   "outputs": [
    {
     "data": {
      "text/html": [
       "<div>\n",
       "<style scoped>\n",
       "    .dataframe tbody tr th:only-of-type {\n",
       "        vertical-align: middle;\n",
       "    }\n",
       "\n",
       "    .dataframe tbody tr th {\n",
       "        vertical-align: top;\n",
       "    }\n",
       "\n",
       "    .dataframe thead th {\n",
       "        text-align: right;\n",
       "    }\n",
       "</style>\n",
       "<table border=\"1\" class=\"dataframe\">\n",
       "  <thead>\n",
       "    <tr style=\"text-align: right;\">\n",
       "      <th></th>\n",
       "      <th>year</th>\n",
       "      <th>land</th>\n",
       "      <th>landmax</th>\n",
       "      <th>landmin</th>\n",
       "      <th>landocean</th>\n",
       "      <th>co2</th>\n",
       "    </tr>\n",
       "    <tr>\n",
       "      <th>year</th>\n",
       "      <th></th>\n",
       "      <th></th>\n",
       "      <th></th>\n",
       "      <th></th>\n",
       "      <th></th>\n",
       "      <th></th>\n",
       "    </tr>\n",
       "  </thead>\n",
       "  <tbody>\n",
       "    <tr>\n",
       "      <th>1958</th>\n",
       "      <td>1958</td>\n",
       "      <td>8.773750</td>\n",
       "      <td>14.477500</td>\n",
       "      <td>3.114500</td>\n",
       "      <td>15.382083</td>\n",
       "      <td>315.234000</td>\n",
       "    </tr>\n",
       "    <tr>\n",
       "      <th>1959</th>\n",
       "      <td>1959</td>\n",
       "      <td>8.732667</td>\n",
       "      <td>14.416500</td>\n",
       "      <td>3.108583</td>\n",
       "      <td>15.340500</td>\n",
       "      <td>315.980000</td>\n",
       "    </tr>\n",
       "    <tr>\n",
       "      <th>1960</th>\n",
       "      <td>1960</td>\n",
       "      <td>8.583750</td>\n",
       "      <td>14.317417</td>\n",
       "      <td>2.932583</td>\n",
       "      <td>15.291917</td>\n",
       "      <td>316.910000</td>\n",
       "    </tr>\n",
       "    <tr>\n",
       "      <th>1961</th>\n",
       "      <td>1961</td>\n",
       "      <td>8.797667</td>\n",
       "      <td>14.514917</td>\n",
       "      <td>3.128750</td>\n",
       "      <td>15.379917</td>\n",
       "      <td>317.640000</td>\n",
       "    </tr>\n",
       "    <tr>\n",
       "      <th>1962</th>\n",
       "      <td>1962</td>\n",
       "      <td>8.745917</td>\n",
       "      <td>14.540167</td>\n",
       "      <td>3.008583</td>\n",
       "      <td>15.325583</td>\n",
       "      <td>318.450000</td>\n",
       "    </tr>\n",
       "    <tr>\n",
       "      <th>1963</th>\n",
       "      <td>1963</td>\n",
       "      <td>8.856000</td>\n",
       "      <td>14.612250</td>\n",
       "      <td>3.157583</td>\n",
       "      <td>15.376667</td>\n",
       "      <td>318.990000</td>\n",
       "    </tr>\n",
       "    <tr>\n",
       "      <th>1964</th>\n",
       "      <td>1964</td>\n",
       "      <td>8.409667</td>\n",
       "      <td>14.156833</td>\n",
       "      <td>2.768833</td>\n",
       "      <td>15.117083</td>\n",
       "      <td>319.203333</td>\n",
       "    </tr>\n",
       "    <tr>\n",
       "      <th>1965</th>\n",
       "      <td>1965</td>\n",
       "      <td>8.527417</td>\n",
       "      <td>14.268417</td>\n",
       "      <td>2.841417</td>\n",
       "      <td>15.195750</td>\n",
       "      <td>320.040000</td>\n",
       "    </tr>\n",
       "    <tr>\n",
       "      <th>1966</th>\n",
       "      <td>1966</td>\n",
       "      <td>8.599333</td>\n",
       "      <td>14.325917</td>\n",
       "      <td>2.899417</td>\n",
       "      <td>15.264667</td>\n",
       "      <td>321.380000</td>\n",
       "    </tr>\n",
       "    <tr>\n",
       "      <th>1967</th>\n",
       "      <td>1967</td>\n",
       "      <td>8.700083</td>\n",
       "      <td>14.406500</td>\n",
       "      <td>3.037083</td>\n",
       "      <td>15.294167</td>\n",
       "      <td>322.160000</td>\n",
       "    </tr>\n",
       "    <tr>\n",
       "      <th>1968</th>\n",
       "      <td>1968</td>\n",
       "      <td>8.516333</td>\n",
       "      <td>14.164250</td>\n",
       "      <td>2.857250</td>\n",
       "      <td>15.263917</td>\n",
       "      <td>323.050000</td>\n",
       "    </tr>\n",
       "    <tr>\n",
       "      <th>1969</th>\n",
       "      <td>1969</td>\n",
       "      <td>8.595083</td>\n",
       "      <td>14.212083</td>\n",
       "      <td>2.962917</td>\n",
       "      <td>15.390500</td>\n",
       "      <td>324.630000</td>\n",
       "    </tr>\n",
       "    <tr>\n",
       "      <th>1970</th>\n",
       "      <td>1970</td>\n",
       "      <td>8.700917</td>\n",
       "      <td>14.403250</td>\n",
       "      <td>3.042750</td>\n",
       "      <td>15.332667</td>\n",
       "      <td>325.680000</td>\n",
       "    </tr>\n",
       "    <tr>\n",
       "      <th>1971</th>\n",
       "      <td>1971</td>\n",
       "      <td>8.599250</td>\n",
       "      <td>14.352750</td>\n",
       "      <td>2.962250</td>\n",
       "      <td>15.200000</td>\n",
       "      <td>326.320000</td>\n",
       "    </tr>\n",
       "    <tr>\n",
       "      <th>1972</th>\n",
       "      <td>1972</td>\n",
       "      <td>8.499583</td>\n",
       "      <td>14.164917</td>\n",
       "      <td>2.844833</td>\n",
       "      <td>15.292917</td>\n",
       "      <td>327.450000</td>\n",
       "    </tr>\n",
       "    <tr>\n",
       "      <th>1973</th>\n",
       "      <td>1973</td>\n",
       "      <td>8.948250</td>\n",
       "      <td>14.566000</td>\n",
       "      <td>3.370167</td>\n",
       "      <td>15.404750</td>\n",
       "      <td>329.680000</td>\n",
       "    </tr>\n",
       "    <tr>\n",
       "      <th>1974</th>\n",
       "      <td>1974</td>\n",
       "      <td>8.467500</td>\n",
       "      <td>14.081917</td>\n",
       "      <td>2.900917</td>\n",
       "      <td>15.168083</td>\n",
       "      <td>330.250000</td>\n",
       "    </tr>\n",
       "    <tr>\n",
       "      <th>1975</th>\n",
       "      <td>1975</td>\n",
       "      <td>8.744833</td>\n",
       "      <td>14.383667</td>\n",
       "      <td>3.121083</td>\n",
       "      <td>15.238667</td>\n",
       "      <td>331.150000</td>\n",
       "    </tr>\n",
       "    <tr>\n",
       "      <th>1976</th>\n",
       "      <td>1976</td>\n",
       "      <td>8.347250</td>\n",
       "      <td>14.008000</td>\n",
       "      <td>2.734167</td>\n",
       "      <td>15.131083</td>\n",
       "      <td>332.150000</td>\n",
       "    </tr>\n",
       "    <tr>\n",
       "      <th>1977</th>\n",
       "      <td>1977</td>\n",
       "      <td>8.850250</td>\n",
       "      <td>14.485500</td>\n",
       "      <td>3.294583</td>\n",
       "      <td>15.408250</td>\n",
       "      <td>333.900000</td>\n",
       "    </tr>\n",
       "    <tr>\n",
       "      <th>1978</th>\n",
       "      <td>1978</td>\n",
       "      <td>8.692750</td>\n",
       "      <td>14.281250</td>\n",
       "      <td>3.170917</td>\n",
       "      <td>15.300917</td>\n",
       "      <td>335.510000</td>\n",
       "    </tr>\n",
       "    <tr>\n",
       "      <th>1979</th>\n",
       "      <td>1979</td>\n",
       "      <td>8.733417</td>\n",
       "      <td>14.457750</td>\n",
       "      <td>3.200083</td>\n",
       "      <td>15.414167</td>\n",
       "      <td>336.850000</td>\n",
       "    </tr>\n",
       "    <tr>\n",
       "      <th>1980</th>\n",
       "      <td>1980</td>\n",
       "      <td>8.980333</td>\n",
       "      <td>14.672917</td>\n",
       "      <td>3.404667</td>\n",
       "      <td>15.491833</td>\n",
       "      <td>338.690000</td>\n",
       "    </tr>\n",
       "    <tr>\n",
       "      <th>1981</th>\n",
       "      <td>1981</td>\n",
       "      <td>9.165833</td>\n",
       "      <td>14.855167</td>\n",
       "      <td>3.635917</td>\n",
       "      <td>15.516167</td>\n",
       "      <td>339.930000</td>\n",
       "    </tr>\n",
       "    <tr>\n",
       "      <th>1982</th>\n",
       "      <td>1982</td>\n",
       "      <td>8.639167</td>\n",
       "      <td>14.300917</td>\n",
       "      <td>3.239917</td>\n",
       "      <td>15.341917</td>\n",
       "      <td>341.130000</td>\n",
       "    </tr>\n",
       "    <tr>\n",
       "      <th>1983</th>\n",
       "      <td>1983</td>\n",
       "      <td>9.028167</td>\n",
       "      <td>14.679833</td>\n",
       "      <td>3.552417</td>\n",
       "      <td>15.520250</td>\n",
       "      <td>342.780000</td>\n",
       "    </tr>\n",
       "    <tr>\n",
       "      <th>1984</th>\n",
       "      <td>1984</td>\n",
       "      <td>8.691833</td>\n",
       "      <td>14.342667</td>\n",
       "      <td>3.186750</td>\n",
       "      <td>15.344167</td>\n",
       "      <td>344.420000</td>\n",
       "    </tr>\n",
       "    <tr>\n",
       "      <th>1985</th>\n",
       "      <td>1985</td>\n",
       "      <td>8.658000</td>\n",
       "      <td>14.267167</td>\n",
       "      <td>3.175667</td>\n",
       "      <td>15.340667</td>\n",
       "      <td>345.900000</td>\n",
       "    </tr>\n",
       "    <tr>\n",
       "      <th>1986</th>\n",
       "      <td>1986</td>\n",
       "      <td>8.833583</td>\n",
       "      <td>14.516833</td>\n",
       "      <td>3.319333</td>\n",
       "      <td>15.384000</td>\n",
       "      <td>347.150000</td>\n",
       "    </tr>\n",
       "    <tr>\n",
       "      <th>1987</th>\n",
       "      <td>1987</td>\n",
       "      <td>8.994417</td>\n",
       "      <td>14.699833</td>\n",
       "      <td>3.431417</td>\n",
       "      <td>15.524500</td>\n",
       "      <td>348.930000</td>\n",
       "    </tr>\n",
       "    <tr>\n",
       "      <th>1988</th>\n",
       "      <td>1988</td>\n",
       "      <td>9.201583</td>\n",
       "      <td>14.890000</td>\n",
       "      <td>3.654000</td>\n",
       "      <td>15.555750</td>\n",
       "      <td>351.480000</td>\n",
       "    </tr>\n",
       "    <tr>\n",
       "      <th>1989</th>\n",
       "      <td>1989</td>\n",
       "      <td>8.922000</td>\n",
       "      <td>14.621500</td>\n",
       "      <td>3.334333</td>\n",
       "      <td>15.441583</td>\n",
       "      <td>352.910000</td>\n",
       "    </tr>\n",
       "    <tr>\n",
       "      <th>1990</th>\n",
       "      <td>1990</td>\n",
       "      <td>9.234167</td>\n",
       "      <td>14.957667</td>\n",
       "      <td>3.658750</td>\n",
       "      <td>15.629333</td>\n",
       "      <td>354.190000</td>\n",
       "    </tr>\n",
       "    <tr>\n",
       "      <th>1991</th>\n",
       "      <td>1991</td>\n",
       "      <td>9.179417</td>\n",
       "      <td>14.839583</td>\n",
       "      <td>3.622167</td>\n",
       "      <td>15.598000</td>\n",
       "      <td>355.590000</td>\n",
       "    </tr>\n",
       "    <tr>\n",
       "      <th>1992</th>\n",
       "      <td>1992</td>\n",
       "      <td>8.836583</td>\n",
       "      <td>14.471333</td>\n",
       "      <td>3.263500</td>\n",
       "      <td>15.453000</td>\n",
       "      <td>356.370000</td>\n",
       "    </tr>\n",
       "    <tr>\n",
       "      <th>1993</th>\n",
       "      <td>1993</td>\n",
       "      <td>8.866583</td>\n",
       "      <td>14.519750</td>\n",
       "      <td>3.284583</td>\n",
       "      <td>15.466417</td>\n",
       "      <td>357.040000</td>\n",
       "    </tr>\n",
       "    <tr>\n",
       "      <th>1994</th>\n",
       "      <td>1994</td>\n",
       "      <td>9.038750</td>\n",
       "      <td>14.729250</td>\n",
       "      <td>3.396083</td>\n",
       "      <td>15.535000</td>\n",
       "      <td>358.890000</td>\n",
       "    </tr>\n",
       "    <tr>\n",
       "      <th>1995</th>\n",
       "      <td>1995</td>\n",
       "      <td>9.347083</td>\n",
       "      <td>15.026417</td>\n",
       "      <td>3.703500</td>\n",
       "      <td>15.637833</td>\n",
       "      <td>360.880000</td>\n",
       "    </tr>\n",
       "    <tr>\n",
       "      <th>1996</th>\n",
       "      <td>1996</td>\n",
       "      <td>9.038917</td>\n",
       "      <td>14.737250</td>\n",
       "      <td>3.381167</td>\n",
       "      <td>15.524667</td>\n",
       "      <td>362.640000</td>\n",
       "    </tr>\n",
       "    <tr>\n",
       "      <th>1997</th>\n",
       "      <td>1997</td>\n",
       "      <td>9.202583</td>\n",
       "      <td>14.868000</td>\n",
       "      <td>3.590167</td>\n",
       "      <td>15.713833</td>\n",
       "      <td>363.760000</td>\n",
       "    </tr>\n",
       "    <tr>\n",
       "      <th>1998</th>\n",
       "      <td>1998</td>\n",
       "      <td>9.522667</td>\n",
       "      <td>15.169417</td>\n",
       "      <td>3.949167</td>\n",
       "      <td>15.826000</td>\n",
       "      <td>366.630000</td>\n",
       "    </tr>\n",
       "    <tr>\n",
       "      <th>1999</th>\n",
       "      <td>1999</td>\n",
       "      <td>9.285083</td>\n",
       "      <td>14.982750</td>\n",
       "      <td>3.662333</td>\n",
       "      <td>15.600333</td>\n",
       "      <td>368.310000</td>\n",
       "    </tr>\n",
       "    <tr>\n",
       "      <th>2000</th>\n",
       "      <td>2000</td>\n",
       "      <td>9.201167</td>\n",
       "      <td>14.898833</td>\n",
       "      <td>3.581833</td>\n",
       "      <td>15.610667</td>\n",
       "      <td>369.480000</td>\n",
       "    </tr>\n",
       "    <tr>\n",
       "      <th>2001</th>\n",
       "      <td>2001</td>\n",
       "      <td>9.414583</td>\n",
       "      <td>15.159167</td>\n",
       "      <td>3.740667</td>\n",
       "      <td>15.767500</td>\n",
       "      <td>371.020000</td>\n",
       "    </tr>\n",
       "    <tr>\n",
       "      <th>2002</th>\n",
       "      <td>2002</td>\n",
       "      <td>9.570417</td>\n",
       "      <td>15.312333</td>\n",
       "      <td>3.864583</td>\n",
       "      <td>15.829167</td>\n",
       "      <td>373.100000</td>\n",
       "    </tr>\n",
       "    <tr>\n",
       "      <th>2003</th>\n",
       "      <td>2003</td>\n",
       "      <td>9.525583</td>\n",
       "      <td>15.249333</td>\n",
       "      <td>3.851583</td>\n",
       "      <td>15.826583</td>\n",
       "      <td>375.640000</td>\n",
       "    </tr>\n",
       "    <tr>\n",
       "      <th>2004</th>\n",
       "      <td>2004</td>\n",
       "      <td>9.324583</td>\n",
       "      <td>15.018000</td>\n",
       "      <td>3.664417</td>\n",
       "      <td>15.757250</td>\n",
       "      <td>377.380000</td>\n",
       "    </tr>\n",
       "    <tr>\n",
       "      <th>2005</th>\n",
       "      <td>2005</td>\n",
       "      <td>9.700917</td>\n",
       "      <td>15.349833</td>\n",
       "      <td>4.113833</td>\n",
       "      <td>15.879250</td>\n",
       "      <td>379.670000</td>\n",
       "    </tr>\n",
       "    <tr>\n",
       "      <th>2006</th>\n",
       "      <td>2006</td>\n",
       "      <td>9.532500</td>\n",
       "      <td>15.262000</td>\n",
       "      <td>3.864833</td>\n",
       "      <td>15.813500</td>\n",
       "      <td>381.840000</td>\n",
       "    </tr>\n",
       "    <tr>\n",
       "      <th>2007</th>\n",
       "      <td>2007</td>\n",
       "      <td>9.732167</td>\n",
       "      <td>15.533083</td>\n",
       "      <td>4.009250</td>\n",
       "      <td>15.827333</td>\n",
       "      <td>383.550000</td>\n",
       "    </tr>\n",
       "    <tr>\n",
       "      <th>2008</th>\n",
       "      <td>2008</td>\n",
       "      <td>9.431750</td>\n",
       "      <td>15.191750</td>\n",
       "      <td>3.724833</td>\n",
       "      <td>15.721250</td>\n",
       "      <td>385.340000</td>\n",
       "    </tr>\n",
       "    <tr>\n",
       "      <th>2009</th>\n",
       "      <td>2009</td>\n",
       "      <td>9.505250</td>\n",
       "      <td>15.266583</td>\n",
       "      <td>3.796917</td>\n",
       "      <td>15.827167</td>\n",
       "      <td>386.500000</td>\n",
       "    </tr>\n",
       "    <tr>\n",
       "      <th>2010</th>\n",
       "      <td>2010</td>\n",
       "      <td>9.703083</td>\n",
       "      <td>15.449000</td>\n",
       "      <td>4.023917</td>\n",
       "      <td>15.895500</td>\n",
       "      <td>388.760000</td>\n",
       "    </tr>\n",
       "    <tr>\n",
       "      <th>2011</th>\n",
       "      <td>2011</td>\n",
       "      <td>9.516000</td>\n",
       "      <td>15.284833</td>\n",
       "      <td>3.827667</td>\n",
       "      <td>15.769500</td>\n",
       "      <td>390.630000</td>\n",
       "    </tr>\n",
       "    <tr>\n",
       "      <th>2012</th>\n",
       "      <td>2012</td>\n",
       "      <td>9.507333</td>\n",
       "      <td>15.332833</td>\n",
       "      <td>3.756167</td>\n",
       "      <td>15.802333</td>\n",
       "      <td>392.650000</td>\n",
       "    </tr>\n",
       "    <tr>\n",
       "      <th>2013</th>\n",
       "      <td>2013</td>\n",
       "      <td>9.606500</td>\n",
       "      <td>15.373833</td>\n",
       "      <td>3.911333</td>\n",
       "      <td>15.854417</td>\n",
       "      <td>395.400000</td>\n",
       "    </tr>\n",
       "    <tr>\n",
       "      <th>2014</th>\n",
       "      <td>2014</td>\n",
       "      <td>9.570667</td>\n",
       "      <td>15.313583</td>\n",
       "      <td>3.877750</td>\n",
       "      <td>15.913000</td>\n",
       "      <td>397.340000</td>\n",
       "    </tr>\n",
       "    <tr>\n",
       "      <th>2015</th>\n",
       "      <td>2015</td>\n",
       "      <td>9.831000</td>\n",
       "      <td>15.572667</td>\n",
       "      <td>4.148833</td>\n",
       "      <td>16.058583</td>\n",
       "      <td>399.650000</td>\n",
       "    </tr>\n",
       "  </tbody>\n",
       "</table>\n",
       "</div>"
      ],
      "text/plain": [
       "      year      land    landmax   landmin  landocean         co2\n",
       "year                                                            \n",
       "1958  1958  8.773750  14.477500  3.114500  15.382083  315.234000\n",
       "1959  1959  8.732667  14.416500  3.108583  15.340500  315.980000\n",
       "1960  1960  8.583750  14.317417  2.932583  15.291917  316.910000\n",
       "1961  1961  8.797667  14.514917  3.128750  15.379917  317.640000\n",
       "1962  1962  8.745917  14.540167  3.008583  15.325583  318.450000\n",
       "1963  1963  8.856000  14.612250  3.157583  15.376667  318.990000\n",
       "1964  1964  8.409667  14.156833  2.768833  15.117083  319.203333\n",
       "1965  1965  8.527417  14.268417  2.841417  15.195750  320.040000\n",
       "1966  1966  8.599333  14.325917  2.899417  15.264667  321.380000\n",
       "1967  1967  8.700083  14.406500  3.037083  15.294167  322.160000\n",
       "1968  1968  8.516333  14.164250  2.857250  15.263917  323.050000\n",
       "1969  1969  8.595083  14.212083  2.962917  15.390500  324.630000\n",
       "1970  1970  8.700917  14.403250  3.042750  15.332667  325.680000\n",
       "1971  1971  8.599250  14.352750  2.962250  15.200000  326.320000\n",
       "1972  1972  8.499583  14.164917  2.844833  15.292917  327.450000\n",
       "1973  1973  8.948250  14.566000  3.370167  15.404750  329.680000\n",
       "1974  1974  8.467500  14.081917  2.900917  15.168083  330.250000\n",
       "1975  1975  8.744833  14.383667  3.121083  15.238667  331.150000\n",
       "1976  1976  8.347250  14.008000  2.734167  15.131083  332.150000\n",
       "1977  1977  8.850250  14.485500  3.294583  15.408250  333.900000\n",
       "1978  1978  8.692750  14.281250  3.170917  15.300917  335.510000\n",
       "1979  1979  8.733417  14.457750  3.200083  15.414167  336.850000\n",
       "1980  1980  8.980333  14.672917  3.404667  15.491833  338.690000\n",
       "1981  1981  9.165833  14.855167  3.635917  15.516167  339.930000\n",
       "1982  1982  8.639167  14.300917  3.239917  15.341917  341.130000\n",
       "1983  1983  9.028167  14.679833  3.552417  15.520250  342.780000\n",
       "1984  1984  8.691833  14.342667  3.186750  15.344167  344.420000\n",
       "1985  1985  8.658000  14.267167  3.175667  15.340667  345.900000\n",
       "1986  1986  8.833583  14.516833  3.319333  15.384000  347.150000\n",
       "1987  1987  8.994417  14.699833  3.431417  15.524500  348.930000\n",
       "1988  1988  9.201583  14.890000  3.654000  15.555750  351.480000\n",
       "1989  1989  8.922000  14.621500  3.334333  15.441583  352.910000\n",
       "1990  1990  9.234167  14.957667  3.658750  15.629333  354.190000\n",
       "1991  1991  9.179417  14.839583  3.622167  15.598000  355.590000\n",
       "1992  1992  8.836583  14.471333  3.263500  15.453000  356.370000\n",
       "1993  1993  8.866583  14.519750  3.284583  15.466417  357.040000\n",
       "1994  1994  9.038750  14.729250  3.396083  15.535000  358.890000\n",
       "1995  1995  9.347083  15.026417  3.703500  15.637833  360.880000\n",
       "1996  1996  9.038917  14.737250  3.381167  15.524667  362.640000\n",
       "1997  1997  9.202583  14.868000  3.590167  15.713833  363.760000\n",
       "1998  1998  9.522667  15.169417  3.949167  15.826000  366.630000\n",
       "1999  1999  9.285083  14.982750  3.662333  15.600333  368.310000\n",
       "2000  2000  9.201167  14.898833  3.581833  15.610667  369.480000\n",
       "2001  2001  9.414583  15.159167  3.740667  15.767500  371.020000\n",
       "2002  2002  9.570417  15.312333  3.864583  15.829167  373.100000\n",
       "2003  2003  9.525583  15.249333  3.851583  15.826583  375.640000\n",
       "2004  2004  9.324583  15.018000  3.664417  15.757250  377.380000\n",
       "2005  2005  9.700917  15.349833  4.113833  15.879250  379.670000\n",
       "2006  2006  9.532500  15.262000  3.864833  15.813500  381.840000\n",
       "2007  2007  9.732167  15.533083  4.009250  15.827333  383.550000\n",
       "2008  2008  9.431750  15.191750  3.724833  15.721250  385.340000\n",
       "2009  2009  9.505250  15.266583  3.796917  15.827167  386.500000\n",
       "2010  2010  9.703083  15.449000  4.023917  15.895500  388.760000\n",
       "2011  2011  9.516000  15.284833  3.827667  15.769500  390.630000\n",
       "2012  2012  9.507333  15.332833  3.756167  15.802333  392.650000\n",
       "2013  2013  9.606500  15.373833  3.911333  15.854417  395.400000\n",
       "2014  2014  9.570667  15.313583  3.877750  15.913000  397.340000\n",
       "2015  2015  9.831000  15.572667  4.148833  16.058583  399.650000"
      ]
     },
     "execution_count": 89,
     "metadata": {},
     "output_type": "execute_result"
    }
   ],
   "source": [
    "co2temp"
   ]
  },
  {
   "cell_type": "code",
   "execution_count": 88,
   "id": "25163479-b90f-4032-9444-fed68188fb9c",
   "metadata": {},
   "outputs": [
    {
     "data": {
      "image/png": "[encoded data removed]",
      "text/plain": [
       "<Figure size 1400x600 with 2 Axes>"
      ]
     },
     "metadata": {},
     "output_type": "display_data"
    }
   ],
   "source": [
    "fig, ax = plt.subplots(figsize=(14, 6))\n",
    "axb = ax.twinx()\n",
    "\n",
    "ax.set_xlabel('Time')\n",
    "ax.set_ylabel('Temperature')\n",
    "ax.set_title('CO2 (ppmv) vs temperature')\n",
    "ax.grid(True)\n",
    "\n",
    "# First y axis\n",
    "ax.plot(co2temp.year, co2temp.land, color='green', label='land temp')\n",
    "#ax.plot(co2tempdiff.index, co2_temp.landoceanavg, color='blue', linestyle='--', label='land + ocean temp')\n",
    "#ax.plot(co2tempdiff.index, co2_temp.landmin, color='green', linestyle='--', label='land minimum')\n",
    "#ax.plot(co2tempdiff.index, co2_temp.landmax, color='red', linestyle='--', label='land minimum')\n",
    "\n",
    "# Second y-axis\n",
    "axb.set_ylabel('co2 (ppmv)')\n",
    "axb.plot(co2temp.year, co2temp.co2, color='black', label='co2')\n",
    "\n",
    "# Handling of getting lines and labels from all axes for a single legend\n",
    "lines, labels = ax.get_legend_handles_labels()\n",
    "lines2, labels2 = axb.get_legend_handles_labels()\n",
    "axb.legend(lines + lines2, labels + labels2, loc='upper left');"
   ]
  },
  {
   "cell_type": "code",
   "execution_count": 90,
   "id": "14984b76-d328-4e66-a264-9efce0b91373",
   "metadata": {},
   "outputs": [],
   "source": [
    "co2tempdiff = co2temp.copy()"
   ]
  },
  {
   "cell_type": "code",
   "execution_count": 92,
   "id": "aa764b0c-248b-49b0-b94a-f7d2e7c67f6f",
   "metadata": {},
   "outputs": [],
   "source": [
    "data_cols = co2temp.columns[1:]"
   ]
  },
  {
   "cell_type": "code",
   "execution_count": 94,
   "id": "85a0d6df-6d3c-4d0a-b526-2b1d5266a35d",
   "metadata": {},
   "outputs": [],
   "source": [
    "for col in data_cols:\n",
    "    co2tempdiff[col] = co2tempdiff[col].diff(periods=1)"
   ]
  },
  {
   "cell_type": "code",
   "execution_count": 96,
   "id": "c6f8ae18-4011-459e-9079-e62ecf20bc96",
   "metadata": {},
   "outputs": [],
   "source": [
    "co2tempdiff = co2tempdiff.dropna()"
   ]
  },
  {
   "cell_type": "code",
   "execution_count": 98,
   "id": "f188ddc0-2d91-4da5-ac1b-5d4ccc9a60d4",
   "metadata": {},
   "outputs": [
    {
     "data": {
      "image/png": "[encoded data removed]",
      "text/plain": [
       "<Figure size 1400x600 with 2 Axes>"
      ]
     },
     "metadata": {},
     "output_type": "display_data"
    }
   ],
   "source": [
    "fig, ax = plt.subplots(figsize=(14, 6))\n",
    "axb = ax.twinx()\n",
    "\n",
    "ax.set_xlabel('Time')\n",
    "ax.set_ylabel('Temperature')\n",
    "ax.set_title('CO2 (ppmv) vs temperature')\n",
    "ax.grid(True)\n",
    "\n",
    "# First y axis\n",
    "ax.plot(co2tempdiff.year, co2tempdiff.land, color='green', label='land temp')\n",
    "#ax.plot(co2tempdiff.index, co2_temp.landoceanavg, color='blue', linestyle='--', label='land + ocean temp')\n",
    "#ax.plot(co2tempdiff.index, co2_temp.landmin, color='green', linestyle='--', label='land minimum')\n",
    "#ax.plot(co2tempdiff.index, co2_temp.landmax, color='red', linestyle='--', label='land minimum')\n",
    "\n",
    "# Second y-axis\n",
    "axb.set_ylabel('co2 (ppmv)')\n",
    "axb.plot(co2tempdiff.year, co2tempdiff.co2, color='black', label='co2')\n",
    "\n",
    "# Handling of getting lines and labels from all axes for a single legend\n",
    "lines, labels = ax.get_legend_handles_labels()\n",
    "lines2, labels2 = axb.get_legend_handles_labels()\n",
    "axb.legend(lines + lines2, labels + labels2, loc='upper left');"
   ]
  },
  {
   "cell_type": "code",
   "execution_count": 99,
   "id": "bbc2677e-bfd8-42b6-96cd-5df51a175090",
   "metadata": {},
   "outputs": [],
   "source": [
    "from statsmodels.tsa.stattools import adfuller"
   ]
  },
  {
   "cell_type": "code",
   "execution_count": 100,
   "id": "b402de5b-1d4c-464d-8f5a-b8fad3218819",
   "metadata": {},
   "outputs": [
    {
     "data": {
      "text/plain": [
       "(-1.5267646809154056,\n",
       " 0.520232145949335,\n",
       " 9,\n",
       " 47,\n",
       " {'1%': -3.5778480370438146,\n",
       "  '5%': -2.925338105429433,\n",
       "  '10%': -2.6007735310095064},\n",
       " 64.37434425178998)"
      ]
     },
     "execution_count": 100,
     "metadata": {},
     "output_type": "execute_result"
    }
   ],
   "source": [
    "adfuller(co2tempdiff['co2'])"
   ]
  },
  {
   "cell_type": "code",
   "execution_count": 101,
   "id": "c156462b-0bc1-4457-a2d8-f91fd5d9f76d",
   "metadata": {},
   "outputs": [
    {
     "data": {
      "text/plain": [
       "(-3.7516628463909,\n",
       " 0.003442445044532154,\n",
       " 7,\n",
       " 49,\n",
       " {'1%': -3.5714715250448363,\n",
       "  '5%': -2.922629480573571,\n",
       "  '10%': -2.5993358475635153},\n",
       " -25.75645430024177)"
      ]
     },
     "execution_count": 101,
     "metadata": {},
     "output_type": "execute_result"
    }
   ],
   "source": [
    "adfuller(co2tempdiff['land'])"
   ]
  },
  {
   "cell_type": "code",
   "execution_count": 103,
   "id": "b1a71b89-c835-4651-b172-282ed9b599ab",
   "metadata": {},
   "outputs": [
    {
     "name": "stderr",
     "output_type": "stream",
     "text": [
      "C:\\Users\\THW\\AppData\\Local\\Temp\\ipykernel_7804\\348222831.py:1: SettingWithCopyWarning: \n",
      "A value is trying to be set on a copy of a slice from a DataFrame.\n",
      "Try using .loc[row_indexer,col_indexer] = value instead\n",
      "\n",
      "See the caveats in the documentation: https://pandas.pydata.org/pandas-docs/stable/user_guide/indexing.html#returning-a-view-versus-a-copy\n",
      "  co2tempdiff['co2_2diff']=co2tempdiff.co2.diff(periods=1)\n"
     ]
    }
   ],
   "source": [
    "co2tempdiff['co2_2diff']=co2tempdiff.co2.diff(periods=1)"
   ]
  },
  {
   "cell_type": "code",
   "execution_count": 105,
   "id": "96086565-9983-4f7b-ad13-291fae616921",
   "metadata": {},
   "outputs": [],
   "source": [
    "co2tempdiff = co2tempdiff.dropna()"
   ]
  },
  {
   "cell_type": "code",
   "execution_count": 106,
   "id": "63e2b254-6c0e-4563-8bea-96d167ffae7c",
   "metadata": {},
   "outputs": [
    {
     "data": {
      "text/plain": [
       "(-4.832115009592115,\n",
       " 4.7192937195166496e-05,\n",
       " 8,\n",
       " 47,\n",
       " {'1%': -3.5778480370438146,\n",
       "  '5%': -2.925338105429433,\n",
       "  '10%': -2.6007735310095064},\n",
       " 64.62457336783152)"
      ]
     },
     "execution_count": 106,
     "metadata": {},
     "output_type": "execute_result"
    }
   ],
   "source": [
    "adfuller(co2tempdiff['co2_2diff'])"
   ]
  },
  {
   "cell_type": "code",
   "execution_count": 107,
   "id": "0d280328-5b2c-4536-be6b-77db14112b55",
   "metadata": {},
   "outputs": [
    {
     "data": {
      "image/png": "[encoded data removed]",
      "text/plain": [
       "<Figure size 1400x600 with 2 Axes>"
      ]
     },
     "metadata": {},
     "output_type": "display_data"
    }
   ],
   "source": [
    "fig, ax = plt.subplots(figsize=(14, 6))\n",
    "axb = ax.twinx()\n",
    "\n",
    "ax.set_xlabel('Time')\n",
    "ax.set_ylabel('Temperature')\n",
    "ax.set_title('CO2 (ppmv) vs temperature')\n",
    "ax.grid(True)\n",
    "\n",
    "# First y axis\n",
    "ax.plot(co2tempdiff.year, co2tempdiff.land, color='green', label='land temp')\n",
    "#ax.plot(co2tempdiff.index, co2_temp.landoceanavg, color='blue', linestyle='--', label='land + ocean temp')\n",
    "#ax.plot(co2tempdiff.index, co2_temp.landmin, color='green', linestyle='--', label='land minimum')\n",
    "#ax.plot(co2tempdiff.index, co2_temp.landmax, color='red', linestyle='--', label='land minimum')\n",
    "\n",
    "# Second y-axis\n",
    "axb.set_ylabel('co2 (ppmv)')\n",
    "axb.plot(co2tempdiff.year, co2tempdiff.co2_2diff, color='black', label='co2_2-diff')\n",
    "\n",
    "# Handling of getting lines and labels from all axes for a single legend\n",
    "lines, labels = ax.get_legend_handles_labels()\n",
    "lines2, labels2 = axb.get_legend_handles_labels()\n",
    "axb.legend(lines + lines2, labels + labels2, loc='upper left');"
   ]
  },
  {
   "cell_type": "code",
   "execution_count": 108,
   "id": "a8ef354d-eed8-44eb-8034-126b2eea3572",
   "metadata": {},
   "outputs": [],
   "source": [
    "import statsmodels.formula.api as smf"
   ]
  },
  {
   "cell_type": "code",
   "execution_count": 109,
   "id": "13ef9702-229c-4ea1-9321-cea684f1e746",
   "metadata": {},
   "outputs": [
    {
     "name": "stdout",
     "output_type": "stream",
     "text": [
      "                            OLS Regression Results                            \n",
      "==============================================================================\n",
      "Dep. Variable:                   land   R-squared:                       0.289\n",
      "Model:                            OLS   Adj. R-squared:                  0.276\n",
      "Method:                 Least Squares   F-statistic:                     43.47\n",
      "Date:                Sun, 31 Mar 2024   Prob (F-statistic):           1.88e-08\n",
      "Time:                        18:19:05   Log-Likelihood:                 9.1674\n",
      "No. Observations:                  56   AIC:                            -14.33\n",
      "Df Residuals:                      54   BIC:                            -10.28\n",
      "Df Model:                           1                                         \n",
      "Covariance Type:                  HC1                                         \n",
      "==============================================================================\n",
      "                 coef    std err          t      P>|t|      [0.025      0.975]\n",
      "------------------------------------------------------------------------------\n",
      "Intercept      0.0138      0.028      0.491      0.626      -0.043       0.070\n",
      "co2_2diff      0.2088      0.032      6.593      0.000       0.145       0.272\n",
      "==============================================================================\n",
      "Omnibus:                        1.584   Durbin-Watson:                   3.136\n",
      "Prob(Omnibus):                  0.453   Jarque-Bera (JB):                1.583\n",
      "Skew:                          -0.355   Prob(JB):                        0.453\n",
      "Kurtosis:                       2.581   Cond. No.                         1.59\n",
      "==============================================================================\n",
      "\n",
      "Notes:\n",
      "[1] Standard Errors are heteroscedasticity robust (HC1)\n"
     ]
    }
   ],
   "source": [
    "mod = smf.ols('land ~ co2_2diff', data=co2tempdiff)\n",
    "res = mod.fit()\n",
    "\n",
    "mod_with_robust_errors = res.get_robustcov_results(cov_type='HC1', use_t=None)\n",
    "print(mod_with_robust_errors.summary())"
   ]
  },
  {
   "cell_type": "code",
   "execution_count": 110,
   "id": "c7d506b2-2d40-41fb-a5eb-8dd7f192a5ea",
   "metadata": {},
   "outputs": [
    {
     "name": "stdout",
     "output_type": "stream",
     "text": [
      "                            OLS Regression Results                            \n",
      "==============================================================================\n",
      "Dep. Variable:                   land   R-squared:                       0.289\n",
      "Model:                            OLS   Adj. R-squared:                  0.276\n",
      "Method:                 Least Squares   F-statistic:                     22.00\n",
      "Date:                Sun, 31 Mar 2024   Prob (F-statistic):           1.90e-05\n",
      "Time:                        18:28:29   Log-Likelihood:                 9.1674\n",
      "No. Observations:                  56   AIC:                            -14.33\n",
      "Df Residuals:                      54   BIC:                            -10.28\n",
      "Df Model:                           1                                         \n",
      "Covariance Type:            nonrobust                                         \n",
      "==============================================================================\n",
      "                 coef    std err          t      P>|t|      [0.025      0.975]\n",
      "------------------------------------------------------------------------------\n",
      "Intercept      0.0138      0.028      0.492      0.624      -0.042       0.070\n",
      "co2_2diff      0.2088      0.045      4.690      0.000       0.120       0.298\n",
      "==============================================================================\n",
      "Omnibus:                        1.584   Durbin-Watson:                   3.136\n",
      "Prob(Omnibus):                  0.453   Jarque-Bera (JB):                1.583\n",
      "Skew:                          -0.355   Prob(JB):                        0.453\n",
      "Kurtosis:                       2.581   Cond. No.                         1.59\n",
      "==============================================================================\n",
      "\n",
      "Notes:\n",
      "[1] Standard Errors assume that the covariance matrix of the errors is correctly specified.\n"
     ]
    }
   ],
   "source": [
    "print(res.summary())"
   ]
  },
  {
   "cell_type": "code",
   "execution_count": 112,
   "id": "448ca599-5309-4d5a-8abc-9204e50e42cc",
   "metadata": {},
   "outputs": [
    {
     "name": "stderr",
     "output_type": "stream",
     "text": [
      "C:\\Users\\THW\\AppData\\Local\\Temp\\ipykernel_7804\\4153753728.py:1: SettingWithCopyWarning: \n",
      "A value is trying to be set on a copy of a slice from a DataFrame.\n",
      "Try using .loc[row_indexer,col_indexer] = value instead\n",
      "\n",
      "See the caveats in the documentation: https://pandas.pydata.org/pandas-docs/stable/user_guide/indexing.html#returning-a-view-versus-a-copy\n",
      "  co2tempdiff['co2_2diff_1lag']=co2tempdiff.co2_2diff.shift(-1)\n"
     ]
    }
   ],
   "source": [
    "co2tempdiff['co2_2diff_1lag']=co2tempdiff.co2_2diff.shift(-1)"
   ]
  },
  {
   "cell_type": "code",
   "execution_count": 113,
   "id": "a1fd2f96-f542-449e-a512-959f4e7f8df0",
   "metadata": {},
   "outputs": [
    {
     "name": "stderr",
     "output_type": "stream",
     "text": [
      "C:\\Users\\THW\\AppData\\Local\\Temp\\ipykernel_7804\\1786010046.py:1: SettingWithCopyWarning: \n",
      "A value is trying to be set on a copy of a slice from a DataFrame.\n",
      "Try using .loc[row_indexer,col_indexer] = value instead\n",
      "\n",
      "See the caveats in the documentation: https://pandas.pydata.org/pandas-docs/stable/user_guide/indexing.html#returning-a-view-versus-a-copy\n",
      "  co2tempdiff['co2_2diff_2lag']=co2tempdiff.co2_2diff.shift(-2)\n"
     ]
    }
   ],
   "source": [
    "co2tempdiff['co2_2diff_2lag']=co2tempdiff.co2_2diff.shift(-2)"
   ]
  },
  {
   "cell_type": "code",
   "execution_count": 115,
   "id": "dbea3ca6-4570-495a-8561-f91e28051bae",
   "metadata": {},
   "outputs": [],
   "source": [
    "co2tempdiff = co2tempdiff.dropna()"
   ]
  },
  {
   "cell_type": "code",
   "execution_count": 116,
   "id": "05a0d7c4-16c2-4e7f-81f3-d3cd9ec8a36f",
   "metadata": {},
   "outputs": [
    {
     "name": "stdout",
     "output_type": "stream",
     "text": [
      "                            OLS Regression Results                            \n",
      "==============================================================================\n",
      "Dep. Variable:                   land   R-squared:                       0.034\n",
      "Model:                            OLS   Adj. R-squared:                  0.016\n",
      "Method:                 Least Squares   F-statistic:                     2.131\n",
      "Date:                Sun, 31 Mar 2024   Prob (F-statistic):              0.150\n",
      "Time:                        18:33:37   Log-Likelihood:               0.083132\n",
      "No. Observations:                  54   AIC:                             3.834\n",
      "Df Residuals:                      52   BIC:                             7.812\n",
      "Df Model:                           1                                         \n",
      "Covariance Type:                  HC1                                         \n",
      "==================================================================================\n",
      "                     coef    std err          t      P>|t|      [0.025      0.975]\n",
      "----------------------------------------------------------------------------------\n",
      "Intercept          0.0175      0.034      0.523      0.603      -0.050       0.085\n",
      "co2_2diff_1lag    -0.0716      0.049     -1.460      0.150      -0.170       0.027\n",
      "==============================================================================\n",
      "Omnibus:                        3.983   Durbin-Watson:                   3.057\n",
      "Prob(Omnibus):                  0.137   Jarque-Bera (JB):                2.534\n",
      "Skew:                          -0.333   Prob(JB):                        0.282\n",
      "Kurtosis:                       2.174   Cond. No.                         1.57\n",
      "==============================================================================\n",
      "\n",
      "Notes:\n",
      "[1] Standard Errors are heteroscedasticity robust (HC1)\n"
     ]
    }
   ],
   "source": [
    "mod = smf.ols('land ~ co2_2diff_1lag', data=co2tempdiff)\n",
    "res = mod.fit()\n",
    "\n",
    "mod_with_robust_errors = res.get_robustcov_results(cov_type='HC1', use_t=None)\n",
    "print(mod_with_robust_errors.summary())"
   ]
  },
  {
   "cell_type": "code",
   "execution_count": 117,
   "id": "ceb077d0-b985-48ec-9679-55fdc618b973",
   "metadata": {},
   "outputs": [
    {
     "name": "stdout",
     "output_type": "stream",
     "text": [
      "                            OLS Regression Results                            \n",
      "==============================================================================\n",
      "Dep. Variable:                   land   R-squared:                       0.093\n",
      "Model:                            OLS   Adj. R-squared:                  0.075\n",
      "Method:                 Least Squares   F-statistic:                     7.826\n",
      "Date:                Sun, 31 Mar 2024   Prob (F-statistic):            0.00720\n",
      "Time:                        18:34:01   Log-Likelihood:                 1.7578\n",
      "No. Observations:                  54   AIC:                            0.4844\n",
      "Df Residuals:                      52   BIC:                             4.462\n",
      "Df Model:                           1                                         \n",
      "Covariance Type:                  HC1                                         \n",
      "==================================================================================\n",
      "                     coef    std err          t      P>|t|      [0.025      0.975]\n",
      "----------------------------------------------------------------------------------\n",
      "Intercept          0.0196      0.033      0.603      0.549      -0.046       0.085\n",
      "co2_2diff_2lag    -0.1172      0.042     -2.798      0.007      -0.201      -0.033\n",
      "==============================================================================\n",
      "Omnibus:                        1.055   Durbin-Watson:                   3.242\n",
      "Prob(Omnibus):                  0.590   Jarque-Bera (JB):                1.117\n",
      "Skew:                          -0.277   Prob(JB):                        0.572\n",
      "Kurtosis:                       2.565   Cond. No.                         1.57\n",
      "==============================================================================\n",
      "\n",
      "Notes:\n",
      "[1] Standard Errors are heteroscedasticity robust (HC1)\n"
     ]
    }
   ],
   "source": [
    "mod = smf.ols('land ~ co2_2diff_2lag', data=co2tempdiff)\n",
    "res = mod.fit()\n",
    "\n",
    "mod_with_robust_errors = res.get_robustcov_results(cov_type='HC1', use_t=None)\n",
    "print(mod_with_robust_errors.summary())"
   ]
  },
  {
   "cell_type": "code",
   "execution_count": 118,
   "id": "c16247be-df61-4913-919f-b27d1a8a4231",
   "metadata": {},
   "outputs": [
    {
     "name": "stdout",
     "output_type": "stream",
     "text": [
      "                            OLS Regression Results                            \n",
      "==============================================================================\n",
      "Dep. Variable:                   land   R-squared:                       0.093\n",
      "Model:                            OLS   Adj. R-squared:                  0.075\n",
      "Method:                 Least Squares   F-statistic:                     5.303\n",
      "Date:                Sun, 31 Mar 2024   Prob (F-statistic):             0.0253\n",
      "Time:                        18:34:32   Log-Likelihood:                 1.7578\n",
      "No. Observations:                  54   AIC:                            0.4844\n",
      "Df Residuals:                      52   BIC:                             4.462\n",
      "Df Model:                           1                                         \n",
      "Covariance Type:            nonrobust                                         \n",
      "==================================================================================\n",
      "                     coef    std err          t      P>|t|      [0.025      0.975]\n",
      "----------------------------------------------------------------------------------\n",
      "Intercept          0.0196      0.033      0.603      0.549      -0.046       0.085\n",
      "co2_2diff_2lag    -0.1172      0.051     -2.303      0.025      -0.219      -0.015\n",
      "==============================================================================\n",
      "Omnibus:                        1.055   Durbin-Watson:                   3.242\n",
      "Prob(Omnibus):                  0.590   Jarque-Bera (JB):                1.117\n",
      "Skew:                          -0.277   Prob(JB):                        0.572\n",
      "Kurtosis:                       2.565   Cond. No.                         1.57\n",
      "==============================================================================\n",
      "\n",
      "Notes:\n",
      "[1] Standard Errors assume that the covariance matrix of the errors is correctly specified.\n"
     ]
    }
   ],
   "source": [
    "print(res.summary())"
   ]
  },
  {
   "cell_type": "code",
   "execution_count": 119,
   "id": "701ba8a3-5e25-485a-90ec-28ee54c43a48",
   "metadata": {},
   "outputs": [
    {
     "name": "stderr",
     "output_type": "stream",
     "text": [
      "C:\\Users\\THW\\AppData\\Local\\Temp\\ipykernel_7804\\159643854.py:1: SettingWithCopyWarning: \n",
      "A value is trying to be set on a copy of a slice from a DataFrame.\n",
      "Try using .loc[row_indexer,col_indexer] = value instead\n",
      "\n",
      "See the caveats in the documentation: https://pandas.pydata.org/pandas-docs/stable/user_guide/indexing.html#returning-a-view-versus-a-copy\n",
      "  co2tempdiff['co2_2diff_sq'] = co2tempdiff['co2_2diff'] ** 2\n"
     ]
    }
   ],
   "source": [
    "co2tempdiff['co2_2diff_sq'] = co2tempdiff['co2_2diff'] ** 2"
   ]
  },
  {
   "cell_type": "code",
   "execution_count": 121,
   "id": "3850aed7-5c5f-4b04-aba3-7db3120ede8c",
   "metadata": {},
   "outputs": [
    {
     "name": "stdout",
     "output_type": "stream",
     "text": [
      "                            OLS Regression Results                            \n",
      "==============================================================================\n",
      "Dep. Variable:                   land   R-squared:                       0.003\n",
      "Model:                            OLS   Adj. R-squared:                 -0.016\n",
      "Method:                 Least Squares   F-statistic:                   0.08136\n",
      "Date:                Sun, 31 Mar 2024   Prob (F-statistic):              0.777\n",
      "Time:                        18:42:49   Log-Likelihood:               -0.77320\n",
      "No. Observations:                  54   AIC:                             5.546\n",
      "Df Residuals:                      52   BIC:                             9.524\n",
      "Df Model:                           1                                         \n",
      "Covariance Type:                  HC1                                         \n",
      "================================================================================\n",
      "                   coef    std err          t      P>|t|      [0.025      0.975]\n",
      "--------------------------------------------------------------------------------\n",
      "Intercept        0.0070      0.041      0.170      0.866      -0.076       0.090\n",
      "co2_2diff_sq     0.0233      0.082      0.285      0.777      -0.140       0.187\n",
      "==============================================================================\n",
      "Omnibus:                        1.968   Durbin-Watson:                   3.098\n",
      "Prob(Omnibus):                  0.374   Jarque-Bera (JB):                1.816\n",
      "Skew:                          -0.349   Prob(JB):                        0.403\n",
      "Kurtosis:                       2.434   Cond. No.                         2.00\n",
      "==============================================================================\n",
      "\n",
      "Notes:\n",
      "[1] Standard Errors are heteroscedasticity robust (HC1)\n"
     ]
    }
   ],
   "source": [
    "mod = smf.ols('land ~ co2_2diff_sq', data=co2tempdiff)\n",
    "res = mod.fit()\n",
    "\n",
    "mod_with_robust_errors = res.get_robustcov_results(cov_type='HC1', use_t=None)\n",
    "print(mod_with_robust_errors.summary())"
   ]
  },
  {
   "cell_type": "code",
   "execution_count": 122,
   "id": "81117f21-6d14-472f-8e10-d00978b0666f",
   "metadata": {},
   "outputs": [],
   "source": [
    "# by differencing and thus eliminating the influence of trend we assure the independence of samples assumption of regression"
   ]
  },
  {
   "cell_type": "code",
   "execution_count": 123,
   "id": "3b05bae4-adf6-40ac-95a2-4abe84fd61c8",
   "metadata": {},
   "outputs": [],
   "source": [
    "# we obtained statistical significance by comparing the relation between the first derivative\n",
    "# of land temperature and the second derivative of co2 concentration\n",
    "# this fact and the fact that we also obtained statistical significance by comparing land temperature and \n",
    "# the 2nd year lag of co2 concentration suggests that the relationship between temperature and co2 may not be linear "
   ]
  },
  {
   "cell_type": "code",
   "execution_count": null,
   "id": "c9755fab-f53c-4202-8f74-c8ebe0c7825c",
   "metadata": {},
   "outputs": [],
   "source": []
  }
 ],
 "metadata": {
  "kernelspec": {
   "display_name": "venvstats",
   "language": "python",
   "name": "venvstats"
  },
  "language_info": {
   "codemirror_mode": {
    "name": "ipython",
    "version": 3
   },
   "file_extension": ".py",
   "mimetype": "text/x-python",
   "name": "python",
   "nbconvert_exporter": "python",
   "pygments_lexer": "ipython3",
   "version": "3.9.13"
  }
 },
 "nbformat": 4,
 "nbformat_minor": 5
}
