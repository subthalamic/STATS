{
 "cells": [
  {
   "cell_type": "code",
   "execution_count": 1,
   "id": "7c477278-ed06-4492-8581-481bba6fcd76",
   "metadata": {},
   "outputs": [],
   "source": [
    "import sqlite3\n",
    "import tkinter as tk\n",
    "from tkinter import ttk\n",
    "from tkinter import messagebox\n",
    "import pandas as pd\n",
    "from datetime import datetime\n",
    "from tkcalendar import DateEntry"
   ]
  },
  {
   "cell_type": "code",
   "execution_count": 2,
   "id": "565e5115-08c9-4020-a95b-e12967439ecb",
   "metadata": {},
   "outputs": [],
   "source": [
    "conn = sqlite3.connect('data.db')\n",
    "query = \"SELECT * FROM results\"\n",
    "df = pd.read_sql_query(query, conn)\n",
    "# conn.close()"
   ]
  },
  {
   "cell_type": "code",
   "execution_count": 3,
   "id": "6eb8977d-bf54-4b1a-abf4-2f36def1fe37",
   "metadata": {},
   "outputs": [
    {
     "data": {
      "text/html": [
       "<div>\n",
       "<style scoped>\n",
       "    .dataframe tbody tr th:only-of-type {\n",
       "        vertical-align: middle;\n",
       "    }\n",
       "\n",
       "    .dataframe tbody tr th {\n",
       "        vertical-align: top;\n",
       "    }\n",
       "\n",
       "    .dataframe thead th {\n",
       "        text-align: right;\n",
       "    }\n",
       "</style>\n",
       "<table border=\"1\" class=\"dataframe\">\n",
       "  <thead>\n",
       "    <tr style=\"text-align: right;\">\n",
       "      <th></th>\n",
       "      <th>id</th>\n",
       "      <th>nume_proba</th>\n",
       "      <th>seria</th>\n",
       "      <th>analiza</th>\n",
       "      <th>solicitant</th>\n",
       "      <th>aparat</th>\n",
       "      <th>data_intrare</th>\n",
       "      <th>data_eliberare</th>\n",
       "      <th>utilizator</th>\n",
       "      <th>rezultat</th>\n",
       "    </tr>\n",
       "  </thead>\n",
       "  <tbody>\n",
       "    <tr>\n",
       "      <th>0</th>\n",
       "      <td>1</td>\n",
       "      <td>Spirulina 1000 mg</td>\n",
       "      <td>001022024</td>\n",
       "      <td>Proteina</td>\n",
       "      <td>CC</td>\n",
       "      <td>Kjeldhal</td>\n",
       "      <td>2024-03-20</td>\n",
       "      <td>2024-03-29</td>\n",
       "      <td>Mihaela Neagu</td>\n",
       "      <td>Corespunde</td>\n",
       "    </tr>\n",
       "    <tr>\n",
       "      <th>1</th>\n",
       "      <td>2</td>\n",
       "      <td>spirulina 500mg</td>\n",
       "      <td>006062024</td>\n",
       "      <td>proteina</td>\n",
       "      <td>CC</td>\n",
       "      <td>Kjeldhal</td>\n",
       "      <td>2024-06-25</td>\n",
       "      <td>2024-06-28</td>\n",
       "      <td>Mihaela Neagu</td>\n",
       "      <td>corespunde</td>\n",
       "    </tr>\n",
       "    <tr>\n",
       "      <th>2</th>\n",
       "      <td>3</td>\n",
       "      <td>spirulina 500 mg</td>\n",
       "      <td>111111111</td>\n",
       "      <td>proteina</td>\n",
       "      <td>CC</td>\n",
       "      <td>Khedhal</td>\n",
       "      <td>2024-06-25</td>\n",
       "      <td>2024-06-28</td>\n",
       "      <td>Mihaela Neagu</td>\n",
       "      <td>corespunde</td>\n",
       "    </tr>\n",
       "    <tr>\n",
       "      <th>3</th>\n",
       "      <td>4</td>\n",
       "      <td>aaaaaa</td>\n",
       "      <td>1111111</td>\n",
       "      <td>rrrrr</td>\n",
       "      <td>ccc</td>\n",
       "      <td>asafasf</td>\n",
       "      <td>2024-06-26</td>\n",
       "      <td>2024-06-26</td>\n",
       "      <td>asfa</td>\n",
       "      <td>asfasfa</td>\n",
       "    </tr>\n",
       "    <tr>\n",
       "      <th>4</th>\n",
       "      <td>5</td>\n",
       "      <td>offfffff</td>\n",
       "      <td>22222222</td>\n",
       "      <td>3</td>\n",
       "      <td>ccccc</td>\n",
       "      <td>asdasdasf</td>\n",
       "      <td>2024-07-03</td>\n",
       "      <td>2024-07-26</td>\n",
       "      <td>asdasafs</td>\n",
       "      <td>nu</td>\n",
       "    </tr>\n",
       "    <tr>\n",
       "      <th>5</th>\n",
       "      <td>6</td>\n",
       "      <td>proteina5</td>\n",
       "      <td>22222222222</td>\n",
       "      <td>proteina</td>\n",
       "      <td>CC</td>\n",
       "      <td>Kheldahl</td>\n",
       "      <td>2024-08-06</td>\n",
       "      <td>2024-08-06</td>\n",
       "      <td>MN</td>\n",
       "      <td>corespunde</td>\n",
       "    </tr>\n",
       "  </tbody>\n",
       "</table>\n",
       "</div>"
      ],
      "text/plain": [
       "   id         nume_proba        seria   analiza solicitant     aparat  \\\n",
       "0   1  Spirulina 1000 mg    001022024  Proteina         CC   Kjeldhal   \n",
       "1   2    spirulina 500mg    006062024  proteina         CC   Kjeldhal   \n",
       "2   3   spirulina 500 mg    111111111  proteina         CC    Khedhal   \n",
       "3   4             aaaaaa      1111111     rrrrr        ccc    asafasf   \n",
       "4   5           offfffff     22222222         3      ccccc  asdasdasf   \n",
       "5   6          proteina5  22222222222  proteina         CC   Kheldahl   \n",
       "\n",
       "  data_intrare data_eliberare     utilizator    rezultat  \n",
       "0   2024-03-20     2024-03-29  Mihaela Neagu  Corespunde  \n",
       "1   2024-06-25     2024-06-28  Mihaela Neagu  corespunde  \n",
       "2   2024-06-25     2024-06-28  Mihaela Neagu  corespunde  \n",
       "3   2024-06-26     2024-06-26           asfa     asfasfa  \n",
       "4   2024-07-03     2024-07-26       asdasafs          nu  \n",
       "5   2024-08-06     2024-08-06             MN  corespunde  "
      ]
     },
     "execution_count": 3,
     "metadata": {},
     "output_type": "execute_result"
    }
   ],
   "source": [
    "df"
   ]
  },
  {
   "cell_type": "code",
   "execution_count": 4,
   "id": "4e4610f8-be02-4a74-b1b2-6b971f549474",
   "metadata": {},
   "outputs": [],
   "source": [
    "f = pd.read_csv('formate-scurt.csv')"
   ]
  },
  {
   "cell_type": "code",
   "execution_count": 5,
   "id": "3d5f2bca-6819-4a22-a07d-0f5b518d9421",
   "metadata": {},
   "outputs": [
    {
     "data": {
      "text/plain": [
       "'UV VIS'"
      ]
     },
     "execution_count": 5,
     "metadata": {},
     "output_type": "execute_result"
    }
   ],
   "source": [
    "f.aparat[20]"
   ]
  },
  {
   "cell_type": "code",
   "execution_count": 6,
   "id": "3081e761-9a6c-4bbd-ba53-cb3f3b11cac3",
   "metadata": {},
   "outputs": [
    {
     "data": {
      "text/plain": [
       "Index(['Format', 'registru', 'aparat', 'Nr. crt.', 'Data', 'Produs',\n",
       "       'Serie/Lot', 'val1', 'val2', 'operator', 'stare', 'obs'],\n",
       "      dtype='object')"
      ]
     },
     "execution_count": 6,
     "metadata": {},
     "output_type": "execute_result"
    }
   ],
   "source": [
    "f.columns"
   ]
  },
  {
   "cell_type": "code",
   "execution_count": 7,
   "id": "8f3a5291-33c9-475b-958f-1f9945c19076",
   "metadata": {},
   "outputs": [
    {
     "data": {
      "text/html": [
       "<div>\n",
       "<style scoped>\n",
       "    .dataframe tbody tr th:only-of-type {\n",
       "        vertical-align: middle;\n",
       "    }\n",
       "\n",
       "    .dataframe tbody tr th {\n",
       "        vertical-align: top;\n",
       "    }\n",
       "\n",
       "    .dataframe thead th {\n",
       "        text-align: right;\n",
       "    }\n",
       "</style>\n",
       "<table border=\"1\" class=\"dataframe\">\n",
       "  <thead>\n",
       "    <tr style=\"text-align: right;\">\n",
       "      <th></th>\n",
       "      <th>registru</th>\n",
       "      <th>aparat</th>\n",
       "      <th>Nr. crt.</th>\n",
       "      <th>Data</th>\n",
       "      <th>Produs</th>\n",
       "      <th>Serie/Lot</th>\n",
       "      <th>val1</th>\n",
       "      <th>val2</th>\n",
       "      <th>operator</th>\n",
       "      <th>stare</th>\n",
       "      <th>obs</th>\n",
       "    </tr>\n",
       "  </thead>\n",
       "  <tbody>\n",
       "    <tr>\n",
       "      <th>0</th>\n",
       "      <td>Registru operare, verificare, calibrare  şi cu...</td>\n",
       "      <td>Balanta Mettler Toledo AB204-S</td>\n",
       "      <td>Nr. crt.</td>\n",
       "      <td>Data</td>\n",
       "      <td>Operaţia/Denumirea probei</td>\n",
       "      <td>Seria/lot</td>\n",
       "      <td>Masa cântărită, g</td>\n",
       "      <td>-</td>\n",
       "      <td>Semnatura persoanei care a efectuat operaţia</td>\n",
       "      <td>-</td>\n",
       "      <td>Observaţii</td>\n",
       "    </tr>\n",
       "    <tr>\n",
       "      <th>1</th>\n",
       "      <td>Registru operare, verificare, calibrare  şi cu...</td>\n",
       "      <td>Balanta Radwag – Partner PS4500 R2</td>\n",
       "      <td>Nr. crt.</td>\n",
       "      <td>Data</td>\n",
       "      <td>Operaţia/Denumirea probei</td>\n",
       "      <td>Seria/lot</td>\n",
       "      <td>Masa cântărită, g</td>\n",
       "      <td>-</td>\n",
       "      <td>Semnatura persoanei care a efectuat operaţia</td>\n",
       "      <td>-</td>\n",
       "      <td>Observaţii</td>\n",
       "    </tr>\n",
       "  </tbody>\n",
       "</table>\n",
       "</div>"
      ],
      "text/plain": [
       "                                            registru  \\\n",
       "0  Registru operare, verificare, calibrare  şi cu...   \n",
       "1  Registru operare, verificare, calibrare  şi cu...   \n",
       "\n",
       "                               aparat  Nr. crt.  Data  \\\n",
       "0      Balanta Mettler Toledo AB204-S  Nr. crt.  Data   \n",
       "1  Balanta Radwag – Partner PS4500 R2  Nr. crt.  Data   \n",
       "\n",
       "                      Produs  Serie/Lot               val1 val2  \\\n",
       "0  Operaţia/Denumirea probei  Seria/lot  Masa cântărită, g    -   \n",
       "1  Operaţia/Denumirea probei  Seria/lot  Masa cântărită, g    -   \n",
       "\n",
       "                                       operator stare         obs  \n",
       "0  Semnatura persoanei care a efectuat operaţia     -  Observaţii  \n",
       "1  Semnatura persoanei care a efectuat operaţia     -  Observaţii  "
      ]
     },
     "execution_count": 7,
     "metadata": {},
     "output_type": "execute_result"
    }
   ],
   "source": [
    "f.loc[:,'registru':'obs'].head(2)"
   ]
  },
  {
   "cell_type": "code",
   "execution_count": 8,
   "id": "e617d683-20d9-4665-889e-ddd1a077dc6b",
   "metadata": {},
   "outputs": [],
   "source": [
    "for i in range(23):\n",
    "    #print(f.loc[i,f.loc[i,:]!='-'].values)\n",
    "    header = pd.DataFrame(columns = f.loc[i,f.loc[i,:]!='-'].to_list(), index=range(0))\n",
    "    #print(header)\n",
    "    #header.to_csv(f'{i}.csv', index=False, header=True)"
   ]
  },
  {
   "cell_type": "code",
   "execution_count": 12,
   "id": "fc2b41bb-2962-4768-ac68-a1aad6b7eebb",
   "metadata": {},
   "outputs": [
    {
     "data": {
      "text/plain": [
       "3"
      ]
     },
     "execution_count": 12,
     "metadata": {},
     "output_type": "execute_result"
    }
   ],
   "source": [
    "len(pd.read_csv('registre/22.csv'))"
   ]
  },
  {
   "cell_type": "code",
   "execution_count": null,
   "id": "47adbfc9-eee3-4b64-a134-4c58a66cd3f8",
   "metadata": {},
   "outputs": [],
   "source": []
  }
 ],
 "metadata": {
  "kernelspec": {
   "display_name": "venvstats",
   "language": "python",
   "name": "venvstats"
  },
  "language_info": {
   "codemirror_mode": {
    "name": "ipython",
    "version": 3
   },
   "file_extension": ".py",
   "mimetype": "text/x-python",
   "name": "python",
   "nbconvert_exporter": "python",
   "pygments_lexer": "ipython3",
   "version": "3.9.13"
  }
 },
 "nbformat": 4,
 "nbformat_minor": 5
}
