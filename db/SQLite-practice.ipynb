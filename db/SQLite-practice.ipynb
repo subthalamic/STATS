{
 "cells": [
  {
   "cell_type": "code",
   "execution_count": 1,
   "id": "7c477278-ed06-4492-8581-481bba6fcd76",
   "metadata": {},
   "outputs": [],
   "source": [
    "import sqlite3\n",
    "import tkinter as tk\n",
    "from tkinter import ttk\n",
    "from tkinter import messagebox\n",
    "import pandas as pd\n",
    "from datetime import datetime\n",
    "from tkcalendar import DateEntry"
   ]
  },
  {
   "cell_type": "code",
   "execution_count": 3,
   "id": "565e5115-08c9-4020-a95b-e12967439ecb",
   "metadata": {},
   "outputs": [],
   "source": [
    "conn = sqlite3.connect('data.db')\n",
    "query = \"SELECT * FROM results\"\n",
    "df = pd.read_sql_query(query, conn)\n",
    "conn.close()"
   ]
  },
  {
   "cell_type": "code",
   "execution_count": 4,
   "id": "6eb8977d-bf54-4b1a-abf4-2f36def1fe37",
   "metadata": {},
   "outputs": [
    {
     "data": {
      "text/html": [
       "<div>\n",
       "<style scoped>\n",
       "    .dataframe tbody tr th:only-of-type {\n",
       "        vertical-align: middle;\n",
       "    }\n",
       "\n",
       "    .dataframe tbody tr th {\n",
       "        vertical-align: top;\n",
       "    }\n",
       "\n",
       "    .dataframe thead th {\n",
       "        text-align: right;\n",
       "    }\n",
       "</style>\n",
       "<table border=\"1\" class=\"dataframe\">\n",
       "  <thead>\n",
       "    <tr style=\"text-align: right;\">\n",
       "      <th></th>\n",
       "      <th>id</th>\n",
       "      <th>nume_proba</th>\n",
       "      <th>seria</th>\n",
       "      <th>analiza</th>\n",
       "      <th>solicitant</th>\n",
       "      <th>aparat</th>\n",
       "      <th>data_intrare</th>\n",
       "      <th>data_eliberare</th>\n",
       "      <th>utilizator</th>\n",
       "      <th>rezultat</th>\n",
       "    </tr>\n",
       "  </thead>\n",
       "  <tbody>\n",
       "    <tr>\n",
       "      <th>0</th>\n",
       "      <td>1</td>\n",
       "      <td>Spirulina 1000 mg</td>\n",
       "      <td>001022024</td>\n",
       "      <td>Proteina</td>\n",
       "      <td>CC</td>\n",
       "      <td>Kjeldhal</td>\n",
       "      <td>2024-03-20</td>\n",
       "      <td>2024-03-29</td>\n",
       "      <td>Mihaela Neagu</td>\n",
       "      <td>Corespunde</td>\n",
       "    </tr>\n",
       "    <tr>\n",
       "      <th>1</th>\n",
       "      <td>2</td>\n",
       "      <td>spirulina 500mg</td>\n",
       "      <td>006062024</td>\n",
       "      <td>proteina</td>\n",
       "      <td>CC</td>\n",
       "      <td>Kjeldhal</td>\n",
       "      <td>2024-06-25</td>\n",
       "      <td>2024-06-28</td>\n",
       "      <td>Mihaela Neagu</td>\n",
       "      <td>corespunde</td>\n",
       "    </tr>\n",
       "    <tr>\n",
       "      <th>2</th>\n",
       "      <td>3</td>\n",
       "      <td>spirulina 500 mg</td>\n",
       "      <td>111111111</td>\n",
       "      <td>proteina</td>\n",
       "      <td>CC</td>\n",
       "      <td>Khedhal</td>\n",
       "      <td>2024-06-25</td>\n",
       "      <td>2024-06-28</td>\n",
       "      <td>Mihaela Neagu</td>\n",
       "      <td>corespunde</td>\n",
       "    </tr>\n",
       "    <tr>\n",
       "      <th>3</th>\n",
       "      <td>4</td>\n",
       "      <td>aaaaaa</td>\n",
       "      <td>1111111</td>\n",
       "      <td>rrrrr</td>\n",
       "      <td>ccc</td>\n",
       "      <td>asafasf</td>\n",
       "      <td>2024-06-26</td>\n",
       "      <td>2024-06-26</td>\n",
       "      <td>asfa</td>\n",
       "      <td>asfasfa</td>\n",
       "    </tr>\n",
       "    <tr>\n",
       "      <th>4</th>\n",
       "      <td>5</td>\n",
       "      <td>offfffff</td>\n",
       "      <td>22222222</td>\n",
       "      <td>3</td>\n",
       "      <td>ccccc</td>\n",
       "      <td>asdasdasf</td>\n",
       "      <td>2024-07-03</td>\n",
       "      <td>2024-07-26</td>\n",
       "      <td>asdasafs</td>\n",
       "      <td>nu</td>\n",
       "    </tr>\n",
       "  </tbody>\n",
       "</table>\n",
       "</div>"
      ],
      "text/plain": [
       "   id         nume_proba      seria   analiza solicitant     aparat  \\\n",
       "0   1  Spirulina 1000 mg  001022024  Proteina         CC   Kjeldhal   \n",
       "1   2    spirulina 500mg  006062024  proteina         CC   Kjeldhal   \n",
       "2   3   spirulina 500 mg  111111111  proteina         CC    Khedhal   \n",
       "3   4             aaaaaa    1111111     rrrrr        ccc    asafasf   \n",
       "4   5           offfffff   22222222         3      ccccc  asdasdasf   \n",
       "\n",
       "  data_intrare data_eliberare     utilizator    rezultat  \n",
       "0   2024-03-20     2024-03-29  Mihaela Neagu  Corespunde  \n",
       "1   2024-06-25     2024-06-28  Mihaela Neagu  corespunde  \n",
       "2   2024-06-25     2024-06-28  Mihaela Neagu  corespunde  \n",
       "3   2024-06-26     2024-06-26           asfa     asfasfa  \n",
       "4   2024-07-03     2024-07-26       asdasafs          nu  "
      ]
     },
     "execution_count": 4,
     "metadata": {},
     "output_type": "execute_result"
    }
   ],
   "source": [
    "df"
   ]
  },
  {
   "cell_type": "code",
   "execution_count": 5,
   "id": "b8b071bb-1dbb-4965-81de-83d8fd2eaaff",
   "metadata": {},
   "outputs": [
    {
     "data": {
      "text/plain": [
       "0     Kjeldhal\n",
       "1     Kjeldhal\n",
       "2      Khedhal\n",
       "3      asafasf\n",
       "4    asdasdasf\n",
       "Name: aparat, dtype: object"
      ]
     },
     "execution_count": 5,
     "metadata": {},
     "output_type": "execute_result"
    }
   ],
   "source": [
    "df.aparat"
   ]
  },
  {
   "cell_type": "code",
   "execution_count": 8,
   "id": "7dcff856-14ec-4dfd-b796-6fca3a83e27e",
   "metadata": {},
   "outputs": [
    {
     "data": {
      "text/plain": [
       "0     True\n",
       "1     True\n",
       "2    False\n",
       "3    False\n",
       "4    False\n",
       "Name: aparat, dtype: bool"
      ]
     },
     "execution_count": 8,
     "metadata": {},
     "output_type": "execute_result"
    }
   ],
   "source": [
    "df.aparat=='Kjeldhal'"
   ]
  },
  {
   "cell_type": "code",
   "execution_count": 9,
   "id": "6c457945-a69b-46c4-b354-d98aad905987",
   "metadata": {},
   "outputs": [
    {
     "data": {
      "text/html": [
       "<div>\n",
       "<style scoped>\n",
       "    .dataframe tbody tr th:only-of-type {\n",
       "        vertical-align: middle;\n",
       "    }\n",
       "\n",
       "    .dataframe tbody tr th {\n",
       "        vertical-align: top;\n",
       "    }\n",
       "\n",
       "    .dataframe thead th {\n",
       "        text-align: right;\n",
       "    }\n",
       "</style>\n",
       "<table border=\"1\" class=\"dataframe\">\n",
       "  <thead>\n",
       "    <tr style=\"text-align: right;\">\n",
       "      <th></th>\n",
       "      <th>id</th>\n",
       "      <th>nume_proba</th>\n",
       "      <th>seria</th>\n",
       "      <th>analiza</th>\n",
       "      <th>solicitant</th>\n",
       "      <th>aparat</th>\n",
       "      <th>data_intrare</th>\n",
       "      <th>data_eliberare</th>\n",
       "      <th>utilizator</th>\n",
       "      <th>rezultat</th>\n",
       "    </tr>\n",
       "  </thead>\n",
       "  <tbody>\n",
       "    <tr>\n",
       "      <th>0</th>\n",
       "      <td>1</td>\n",
       "      <td>Spirulina 1000 mg</td>\n",
       "      <td>001022024</td>\n",
       "      <td>Proteina</td>\n",
       "      <td>CC</td>\n",
       "      <td>Kjeldhal</td>\n",
       "      <td>2024-03-20</td>\n",
       "      <td>2024-03-29</td>\n",
       "      <td>Mihaela Neagu</td>\n",
       "      <td>Corespunde</td>\n",
       "    </tr>\n",
       "    <tr>\n",
       "      <th>1</th>\n",
       "      <td>2</td>\n",
       "      <td>spirulina 500mg</td>\n",
       "      <td>006062024</td>\n",
       "      <td>proteina</td>\n",
       "      <td>CC</td>\n",
       "      <td>Kjeldhal</td>\n",
       "      <td>2024-06-25</td>\n",
       "      <td>2024-06-28</td>\n",
       "      <td>Mihaela Neagu</td>\n",
       "      <td>corespunde</td>\n",
       "    </tr>\n",
       "  </tbody>\n",
       "</table>\n",
       "</div>"
      ],
      "text/plain": [
       "   id         nume_proba      seria   analiza solicitant    aparat  \\\n",
       "0   1  Spirulina 1000 mg  001022024  Proteina         CC  Kjeldhal   \n",
       "1   2    spirulina 500mg  006062024  proteina         CC  Kjeldhal   \n",
       "\n",
       "  data_intrare data_eliberare     utilizator    rezultat  \n",
       "0   2024-03-20     2024-03-29  Mihaela Neagu  Corespunde  \n",
       "1   2024-06-25     2024-06-28  Mihaela Neagu  corespunde  "
      ]
     },
     "execution_count": 9,
     "metadata": {},
     "output_type": "execute_result"
    }
   ],
   "source": [
    "df[df.aparat=='Kjeldhal']"
   ]
  },
  {
   "cell_type": "code",
   "execution_count": null,
   "id": "8b8d5a5e-caf7-46d9-8ea8-ebe8f13f4a2b",
   "metadata": {},
   "outputs": [],
   "source": []
  }
 ],
 "metadata": {
  "kernelspec": {
   "display_name": "venvstats",
   "language": "python",
   "name": "venvstats"
  },
  "language_info": {
   "codemirror_mode": {
    "name": "ipython",
    "version": 3
   },
   "file_extension": ".py",
   "mimetype": "text/x-python",
   "name": "python",
   "nbconvert_exporter": "python",
   "pygments_lexer": "ipython3",
   "version": "3.9.13"
  }
 },
 "nbformat": 4,
 "nbformat_minor": 5
}
