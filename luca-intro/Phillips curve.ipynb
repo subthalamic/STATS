{
 "cells": [
  {
   "cell_type": "markdown",
   "id": "811043f6-b3bc-493e-9475-fabbcb7e2236",
   "metadata": {},
   "source": [
    "# Luca & Theo first analysis of the Phillips curve\n",
    "\n",
    "### Date started 3 March 2024\n",
    "### Premise\n",
    "We'd like to have a quick look at some data in order to dive into the skills expected of a data analyst, so we will:\n",
    "1. Search for the relevant data online\n",
    "2. Import it and create some graphs\n",
    "3. See if we can reproduce the Phillips curve econometric results"
   ]
  }
 ],
 "metadata": {
  "kernelspec": {
   "display_name": "Python 3 (ipykernel)",
   "language": "python",
   "name": "python3"
  },
  "language_info": {
   "codemirror_mode": {
    "name": "ipython",
    "version": 3
   },
   "file_extension": ".py",
   "mimetype": "text/x-python",
   "name": "python",
   "nbconvert_exporter": "python",
   "pygments_lexer": "ipython3",
   "version": "3.12.0"
  }
 },
 "nbformat": 4,
 "nbformat_minor": 5
}
