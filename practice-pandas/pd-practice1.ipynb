{
 "cells": [
  {
   "cell_type": "code",
   "execution_count": 169,
   "id": "6afd3c2f-e142-4822-9364-3a65f0aa2e8e",
   "metadata": {},
   "outputs": [],
   "source": [
    "import pandas as pd\n",
    "\n",
    "inflation=pd.read_csv(\"inflation.csv\")\n",
    "unemployment=pd.read_csv(\"unemployment.csv\")   #needs aggregation"
   ]
  },
  {
   "cell_type": "code",
   "execution_count": 170,
   "id": "97220d60-3c28-4f8f-afde-38ad89ad7f56",
   "metadata": {},
   "outputs": [],
   "source": [
    "inflation.columns = ['year', 'inflation']\n",
    "unemployment.columns = ['year', 'unemployment']"
   ]
  },
  {
   "cell_type": "code",
   "execution_count": 171,
   "id": "d96dd77f-d10f-42a0-aa71-aa108f6cbdc1",
   "metadata": {},
   "outputs": [
    {
     "data": {
      "text/html": [
       "<div>\n",
       "<style scoped>\n",
       "    .dataframe tbody tr th:only-of-type {\n",
       "        vertical-align: middle;\n",
       "    }\n",
       "\n",
       "    .dataframe tbody tr th {\n",
       "        vertical-align: top;\n",
       "    }\n",
       "\n",
       "    .dataframe thead th {\n",
       "        text-align: right;\n",
       "    }\n",
       "</style>\n",
       "<table border=\"1\" class=\"dataframe\">\n",
       "  <thead>\n",
       "    <tr style=\"text-align: right;\">\n",
       "      <th></th>\n",
       "      <th>year</th>\n",
       "      <th>unemployment</th>\n",
       "    </tr>\n",
       "  </thead>\n",
       "  <tbody>\n",
       "    <tr>\n",
       "      <th>0</th>\n",
       "      <td>1960-01-01</td>\n",
       "      <td>5.2</td>\n",
       "    </tr>\n",
       "    <tr>\n",
       "      <th>1</th>\n",
       "      <td>1960-02-01</td>\n",
       "      <td>4.8</td>\n",
       "    </tr>\n",
       "    <tr>\n",
       "      <th>2</th>\n",
       "      <td>1960-03-01</td>\n",
       "      <td>5.4</td>\n",
       "    </tr>\n",
       "    <tr>\n",
       "      <th>3</th>\n",
       "      <td>1960-04-01</td>\n",
       "      <td>5.2</td>\n",
       "    </tr>\n",
       "    <tr>\n",
       "      <th>4</th>\n",
       "      <td>1960-05-01</td>\n",
       "      <td>5.1</td>\n",
       "    </tr>\n",
       "    <tr>\n",
       "      <th>5</th>\n",
       "      <td>1960-06-01</td>\n",
       "      <td>5.4</td>\n",
       "    </tr>\n",
       "    <tr>\n",
       "      <th>6</th>\n",
       "      <td>1960-07-01</td>\n",
       "      <td>5.5</td>\n",
       "    </tr>\n",
       "    <tr>\n",
       "      <th>7</th>\n",
       "      <td>1960-08-01</td>\n",
       "      <td>5.6</td>\n",
       "    </tr>\n",
       "    <tr>\n",
       "      <th>8</th>\n",
       "      <td>1960-09-01</td>\n",
       "      <td>5.5</td>\n",
       "    </tr>\n",
       "    <tr>\n",
       "      <th>9</th>\n",
       "      <td>1960-10-01</td>\n",
       "      <td>6.1</td>\n",
       "    </tr>\n",
       "    <tr>\n",
       "      <th>10</th>\n",
       "      <td>1960-11-01</td>\n",
       "      <td>6.1</td>\n",
       "    </tr>\n",
       "    <tr>\n",
       "      <th>11</th>\n",
       "      <td>1960-12-01</td>\n",
       "      <td>6.6</td>\n",
       "    </tr>\n",
       "    <tr>\n",
       "      <th>12</th>\n",
       "      <td>1961-01-01</td>\n",
       "      <td>6.6</td>\n",
       "    </tr>\n",
       "    <tr>\n",
       "      <th>13</th>\n",
       "      <td>1961-02-01</td>\n",
       "      <td>6.9</td>\n",
       "    </tr>\n",
       "    <tr>\n",
       "      <th>14</th>\n",
       "      <td>1961-03-01</td>\n",
       "      <td>6.9</td>\n",
       "    </tr>\n",
       "  </tbody>\n",
       "</table>\n",
       "</div>"
      ],
      "text/plain": [
       "          year  unemployment\n",
       "0   1960-01-01           5.2\n",
       "1   1960-02-01           4.8\n",
       "2   1960-03-01           5.4\n",
       "3   1960-04-01           5.2\n",
       "4   1960-05-01           5.1\n",
       "5   1960-06-01           5.4\n",
       "6   1960-07-01           5.5\n",
       "7   1960-08-01           5.6\n",
       "8   1960-09-01           5.5\n",
       "9   1960-10-01           6.1\n",
       "10  1960-11-01           6.1\n",
       "11  1960-12-01           6.6\n",
       "12  1961-01-01           6.6\n",
       "13  1961-02-01           6.9\n",
       "14  1961-03-01           6.9"
      ]
     },
     "execution_count": 171,
     "metadata": {},
     "output_type": "execute_result"
    }
   ],
   "source": [
    "unemployment.head(15)"
   ]
  },
  {
   "cell_type": "code",
   "execution_count": 172,
   "id": "b9dc08db-2504-4457-9895-e7384eb61eef",
   "metadata": {},
   "outputs": [
    {
     "data": {
      "text/html": [
       "<div>\n",
       "<style scoped>\n",
       "    .dataframe tbody tr th:only-of-type {\n",
       "        vertical-align: middle;\n",
       "    }\n",
       "\n",
       "    .dataframe tbody tr th {\n",
       "        vertical-align: top;\n",
       "    }\n",
       "\n",
       "    .dataframe thead th {\n",
       "        text-align: right;\n",
       "    }\n",
       "</style>\n",
       "<table border=\"1\" class=\"dataframe\">\n",
       "  <thead>\n",
       "    <tr style=\"text-align: right;\">\n",
       "      <th></th>\n",
       "      <th>year</th>\n",
       "      <th>inflation</th>\n",
       "    </tr>\n",
       "  </thead>\n",
       "  <tbody>\n",
       "    <tr>\n",
       "      <th>0</th>\n",
       "      <td>1960-01-01</td>\n",
       "      <td>1.457976</td>\n",
       "    </tr>\n",
       "    <tr>\n",
       "      <th>1</th>\n",
       "      <td>1961-01-01</td>\n",
       "      <td>1.070724</td>\n",
       "    </tr>\n",
       "    <tr>\n",
       "      <th>2</th>\n",
       "      <td>1962-01-01</td>\n",
       "      <td>1.198773</td>\n",
       "    </tr>\n",
       "    <tr>\n",
       "      <th>3</th>\n",
       "      <td>1963-01-01</td>\n",
       "      <td>1.239669</td>\n",
       "    </tr>\n",
       "    <tr>\n",
       "      <th>4</th>\n",
       "      <td>1964-01-01</td>\n",
       "      <td>1.278912</td>\n",
       "    </tr>\n",
       "    <tr>\n",
       "      <th>5</th>\n",
       "      <td>1965-01-01</td>\n",
       "      <td>1.585169</td>\n",
       "    </tr>\n",
       "    <tr>\n",
       "      <th>6</th>\n",
       "      <td>1966-01-01</td>\n",
       "      <td>3.015075</td>\n",
       "    </tr>\n",
       "    <tr>\n",
       "      <th>7</th>\n",
       "      <td>1967-01-01</td>\n",
       "      <td>2.772786</td>\n",
       "    </tr>\n",
       "    <tr>\n",
       "      <th>8</th>\n",
       "      <td>1968-01-01</td>\n",
       "      <td>4.271796</td>\n",
       "    </tr>\n",
       "    <tr>\n",
       "      <th>9</th>\n",
       "      <td>1969-01-01</td>\n",
       "      <td>5.462386</td>\n",
       "    </tr>\n",
       "    <tr>\n",
       "      <th>10</th>\n",
       "      <td>1970-01-01</td>\n",
       "      <td>5.838255</td>\n",
       "    </tr>\n",
       "    <tr>\n",
       "      <th>11</th>\n",
       "      <td>1971-01-01</td>\n",
       "      <td>4.292767</td>\n",
       "    </tr>\n",
       "    <tr>\n",
       "      <th>12</th>\n",
       "      <td>1972-01-01</td>\n",
       "      <td>3.272278</td>\n",
       "    </tr>\n",
       "    <tr>\n",
       "      <th>13</th>\n",
       "      <td>1973-01-01</td>\n",
       "      <td>6.177760</td>\n",
       "    </tr>\n",
       "    <tr>\n",
       "      <th>14</th>\n",
       "      <td>1974-01-01</td>\n",
       "      <td>11.054805</td>\n",
       "    </tr>\n",
       "  </tbody>\n",
       "</table>\n",
       "</div>"
      ],
      "text/plain": [
       "          year  inflation\n",
       "0   1960-01-01   1.457976\n",
       "1   1961-01-01   1.070724\n",
       "2   1962-01-01   1.198773\n",
       "3   1963-01-01   1.239669\n",
       "4   1964-01-01   1.278912\n",
       "5   1965-01-01   1.585169\n",
       "6   1966-01-01   3.015075\n",
       "7   1967-01-01   2.772786\n",
       "8   1968-01-01   4.271796\n",
       "9   1969-01-01   5.462386\n",
       "10  1970-01-01   5.838255\n",
       "11  1971-01-01   4.292767\n",
       "12  1972-01-01   3.272278\n",
       "13  1973-01-01   6.177760\n",
       "14  1974-01-01  11.054805"
      ]
     },
     "execution_count": 172,
     "metadata": {},
     "output_type": "execute_result"
    }
   ],
   "source": [
    "inflation.head(15)"
   ]
  },
  {
   "cell_type": "code",
   "execution_count": 173,
   "id": "f5287791-42bf-41c0-b4f7-43fea4f9e7af",
   "metadata": {},
   "outputs": [
    {
     "data": {
      "text/plain": [
       "str"
      ]
     },
     "execution_count": 173,
     "metadata": {},
     "output_type": "execute_result"
    }
   ],
   "source": [
    "type(inflation.iloc[0,0])"
   ]
  },
  {
   "cell_type": "code",
   "execution_count": 174,
   "id": "bc1cb9e9-635e-444e-96e4-5430ca7d0a43",
   "metadata": {},
   "outputs": [],
   "source": [
    "unemployment['year']=unemployment['year'].str[:4]"
   ]
  },
  {
   "cell_type": "code",
   "execution_count": 175,
   "id": "1389d255-67f0-4a56-aed4-b0bd007bc16e",
   "metadata": {},
   "outputs": [
    {
     "data": {
      "text/html": [
       "<div>\n",
       "<style scoped>\n",
       "    .dataframe tbody tr th:only-of-type {\n",
       "        vertical-align: middle;\n",
       "    }\n",
       "\n",
       "    .dataframe tbody tr th {\n",
       "        vertical-align: top;\n",
       "    }\n",
       "\n",
       "    .dataframe thead th {\n",
       "        text-align: right;\n",
       "    }\n",
       "</style>\n",
       "<table border=\"1\" class=\"dataframe\">\n",
       "  <thead>\n",
       "    <tr style=\"text-align: right;\">\n",
       "      <th></th>\n",
       "      <th>year</th>\n",
       "      <th>unemployment</th>\n",
       "    </tr>\n",
       "  </thead>\n",
       "  <tbody>\n",
       "    <tr>\n",
       "      <th>0</th>\n",
       "      <td>1960</td>\n",
       "      <td>5.2</td>\n",
       "    </tr>\n",
       "  </tbody>\n",
       "</table>\n",
       "</div>"
      ],
      "text/plain": [
       "   year  unemployment\n",
       "0  1960           5.2"
      ]
     },
     "execution_count": 175,
     "metadata": {},
     "output_type": "execute_result"
    }
   ],
   "source": [
    "unemployment.head(1)"
   ]
  },
  {
   "cell_type": "code",
   "execution_count": 176,
   "id": "d52fd387-bf3a-41b9-a8a8-f05eb63d5198",
   "metadata": {},
   "outputs": [
    {
     "data": {
      "text/html": [
       "<div>\n",
       "<style scoped>\n",
       "    .dataframe tbody tr th:only-of-type {\n",
       "        vertical-align: middle;\n",
       "    }\n",
       "\n",
       "    .dataframe tbody tr th {\n",
       "        vertical-align: top;\n",
       "    }\n",
       "\n",
       "    .dataframe thead th {\n",
       "        text-align: right;\n",
       "    }\n",
       "</style>\n",
       "<table border=\"1\" class=\"dataframe\">\n",
       "  <thead>\n",
       "    <tr style=\"text-align: right;\">\n",
       "      <th></th>\n",
       "      <th>year</th>\n",
       "      <th>inflation</th>\n",
       "    </tr>\n",
       "  </thead>\n",
       "  <tbody>\n",
       "    <tr>\n",
       "      <th>0</th>\n",
       "      <td>1960</td>\n",
       "      <td>1.457976</td>\n",
       "    </tr>\n",
       "  </tbody>\n",
       "</table>\n",
       "</div>"
      ],
      "text/plain": [
       "   year  inflation\n",
       "0  1960   1.457976"
      ]
     },
     "execution_count": 176,
     "metadata": {},
     "output_type": "execute_result"
    }
   ],
   "source": [
    "inflation['year']=inflation['year'].str[:4]\n",
    "inflation.head(1)"
   ]
  },
  {
   "cell_type": "code",
   "execution_count": 177,
   "id": "e9255ba5-14c6-4b09-8dd6-2b0736113457",
   "metadata": {},
   "outputs": [
    {
     "name": "stdout",
     "output_type": "stream",
     "text": [
      "(769, 2)\n"
     ]
    }
   ],
   "source": [
    "print(unemployment.shape)   #columns, rows"
   ]
  },
  {
   "cell_type": "code",
   "execution_count": 178,
   "id": "55e210f8-e613-4109-917f-19a192441967",
   "metadata": {},
   "outputs": [
    {
     "name": "stdout",
     "output_type": "stream",
     "text": [
      "769\n"
     ]
    }
   ],
   "source": [
    "print(len(unemployment))"
   ]
  },
  {
   "cell_type": "code",
   "execution_count": 179,
   "id": "d3e46247-f1bc-4b31-b41f-e8e8bb81896c",
   "metadata": {},
   "outputs": [
    {
     "name": "stdout",
     "output_type": "stream",
     "text": [
      "64.08333333333333\n"
     ]
    }
   ],
   "source": [
    "print(769/12)"
   ]
  },
  {
   "cell_type": "code",
   "execution_count": 180,
   "id": "b0d3bdde-6f43-46b6-a2b4-90590e0915cb",
   "metadata": {},
   "outputs": [
    {
     "name": "stdout",
     "output_type": "stream",
     "text": [
      "768\n"
     ]
    }
   ],
   "source": [
    "print(64*12)"
   ]
  },
  {
   "cell_type": "code",
   "execution_count": 181,
   "id": "209ca1cc-38df-4864-830b-50f101509613",
   "metadata": {},
   "outputs": [
    {
     "data": {
      "text/plain": [
       "(63, 2)"
      ]
     },
     "execution_count": 181,
     "metadata": {},
     "output_type": "execute_result"
    }
   ],
   "source": [
    "inflation.shape"
   ]
  },
  {
   "cell_type": "code",
   "execution_count": 182,
   "id": "149759e0-9957-40af-9cab-4ead7c7bee1f",
   "metadata": {},
   "outputs": [],
   "source": [
    "unemployment_yearly = pd.DataFrame(columns=['year', 'unemployment'])"
   ]
  },
  {
   "cell_type": "code",
   "execution_count": 183,
   "id": "fdbf4463-e743-4900-9b9d-658f512cd3c3",
   "metadata": {},
   "outputs": [],
   "source": [
    "#for i in range(len(unemployment)):\n",
    "#    print(unemployment.iloc[i,1])    #rows, columns"
   ]
  },
  {
   "cell_type": "code",
   "execution_count": 184,
   "id": "b7cd231f-a5e1-42b1-b1d4-3b5597d6b7b2",
   "metadata": {},
   "outputs": [
    {
     "data": {
      "text/html": [
       "<div>\n",
       "<style scoped>\n",
       "    .dataframe tbody tr th:only-of-type {\n",
       "        vertical-align: middle;\n",
       "    }\n",
       "\n",
       "    .dataframe tbody tr th {\n",
       "        vertical-align: top;\n",
       "    }\n",
       "\n",
       "    .dataframe thead th {\n",
       "        text-align: right;\n",
       "    }\n",
       "</style>\n",
       "<table border=\"1\" class=\"dataframe\">\n",
       "  <thead>\n",
       "    <tr style=\"text-align: right;\">\n",
       "      <th></th>\n",
       "      <th>year</th>\n",
       "      <th>unemployment</th>\n",
       "    </tr>\n",
       "  </thead>\n",
       "  <tbody>\n",
       "    <tr>\n",
       "      <th>60</th>\n",
       "      <td>2020</td>\n",
       "      <td>NaN</td>\n",
       "    </tr>\n",
       "    <tr>\n",
       "      <th>61</th>\n",
       "      <td>2021</td>\n",
       "      <td>NaN</td>\n",
       "    </tr>\n",
       "    <tr>\n",
       "      <th>62</th>\n",
       "      <td>2022</td>\n",
       "      <td>NaN</td>\n",
       "    </tr>\n",
       "  </tbody>\n",
       "</table>\n",
       "</div>"
      ],
      "text/plain": [
       "    year unemployment\n",
       "60  2020          NaN\n",
       "61  2021          NaN\n",
       "62  2022          NaN"
      ]
     },
     "execution_count": 184,
     "metadata": {},
     "output_type": "execute_result"
    }
   ],
   "source": [
    "unemployment_yearly.iloc[:,0]=inflation.iloc[:,0]\n",
    "\n",
    "unemployment_yearly.tail(3)"
   ]
  },
  {
   "cell_type": "code",
   "execution_count": 185,
   "id": "a5c79db0-964c-4812-87d7-662ea1cb4266",
   "metadata": {},
   "outputs": [
    {
     "data": {
      "text/html": [
       "<div>\n",
       "<style scoped>\n",
       "    .dataframe tbody tr th:only-of-type {\n",
       "        vertical-align: middle;\n",
       "    }\n",
       "\n",
       "    .dataframe tbody tr th {\n",
       "        vertical-align: top;\n",
       "    }\n",
       "\n",
       "    .dataframe thead th {\n",
       "        text-align: right;\n",
       "    }\n",
       "</style>\n",
       "<table border=\"1\" class=\"dataframe\">\n",
       "  <thead>\n",
       "    <tr style=\"text-align: right;\">\n",
       "      <th></th>\n",
       "      <th>year</th>\n",
       "      <th>unemployment</th>\n",
       "    </tr>\n",
       "  </thead>\n",
       "  <tbody>\n",
       "    <tr>\n",
       "      <th>766</th>\n",
       "      <td>2023</td>\n",
       "      <td>3.7</td>\n",
       "    </tr>\n",
       "    <tr>\n",
       "      <th>767</th>\n",
       "      <td>2023</td>\n",
       "      <td>3.7</td>\n",
       "    </tr>\n",
       "    <tr>\n",
       "      <th>768</th>\n",
       "      <td>2024</td>\n",
       "      <td>3.7</td>\n",
       "    </tr>\n",
       "  </tbody>\n",
       "</table>\n",
       "</div>"
      ],
      "text/plain": [
       "     year  unemployment\n",
       "766  2023           3.7\n",
       "767  2023           3.7\n",
       "768  2024           3.7"
      ]
     },
     "execution_count": 185,
     "metadata": {},
     "output_type": "execute_result"
    }
   ],
   "source": [
    "unemployment.tail(3)"
   ]
  },
  {
   "cell_type": "code",
   "execution_count": 186,
   "id": "3a8072ff-98b5-46a8-961f-f94008dffe5d",
   "metadata": {},
   "outputs": [
    {
     "name": "stderr",
     "output_type": "stream",
     "text": [
      "C:\\Users\\THW\\AppData\\Local\\Temp\\ipykernel_5488\\3339249966.py:5: FutureWarning: The behavior of DataFrame concatenation with empty or all-NA entries is deprecated. In a future version, this will no longer exclude empty or all-NA columns when determining the result dtypes. To retain the old behavior, exclude the relevant entries before the concat operation.\n",
      "  unemployment_yearly = pd.concat([unemployment_yearly, a], ignore_index=True)\n"
     ]
    }
   ],
   "source": [
    "a = pd.DataFrame({\n",
    "    'year': [\"2023\",\"2024\"],\n",
    "    'unemployment': [99,3.7]\n",
    "})\n",
    "unemployment_yearly = pd.concat([unemployment_yearly, a], ignore_index=True)\n",
    "#unemployment_yearly=unemployment_yearly.concat({year: 2023, unemployment: 99}, ignore_index=True)\n",
    "#unemployment_yearly=unemployment_yearly.concat({year: 2024, unemployment: 99}, ignore_index=True)"
   ]
  },
  {
   "cell_type": "code",
   "execution_count": 187,
   "id": "1a5dcdf9-b0ac-4e0f-b4dd-b487b01cad31",
   "metadata": {},
   "outputs": [
    {
     "data": {
      "text/html": [
       "<div>\n",
       "<style scoped>\n",
       "    .dataframe tbody tr th:only-of-type {\n",
       "        vertical-align: middle;\n",
       "    }\n",
       "\n",
       "    .dataframe tbody tr th {\n",
       "        vertical-align: top;\n",
       "    }\n",
       "\n",
       "    .dataframe thead th {\n",
       "        text-align: right;\n",
       "    }\n",
       "</style>\n",
       "<table border=\"1\" class=\"dataframe\">\n",
       "  <thead>\n",
       "    <tr style=\"text-align: right;\">\n",
       "      <th></th>\n",
       "      <th>year</th>\n",
       "      <th>unemployment</th>\n",
       "    </tr>\n",
       "  </thead>\n",
       "  <tbody>\n",
       "    <tr>\n",
       "      <th>62</th>\n",
       "      <td>2022</td>\n",
       "      <td>NaN</td>\n",
       "    </tr>\n",
       "    <tr>\n",
       "      <th>63</th>\n",
       "      <td>2023</td>\n",
       "      <td>99.0</td>\n",
       "    </tr>\n",
       "    <tr>\n",
       "      <th>64</th>\n",
       "      <td>2024</td>\n",
       "      <td>3.7</td>\n",
       "    </tr>\n",
       "  </tbody>\n",
       "</table>\n",
       "</div>"
      ],
      "text/plain": [
       "    year  unemployment\n",
       "62  2022           NaN\n",
       "63  2023          99.0\n",
       "64  2024           3.7"
      ]
     },
     "execution_count": 187,
     "metadata": {},
     "output_type": "execute_result"
    }
   ],
   "source": [
    "unemployment_yearly.tail(3)"
   ]
  },
  {
   "cell_type": "code",
   "execution_count": 188,
   "id": "c5f0525e-e160-434f-8de6-6775fb8d9042",
   "metadata": {},
   "outputs": [
    {
     "data": {
      "text/html": [
       "<div>\n",
       "<style scoped>\n",
       "    .dataframe tbody tr th:only-of-type {\n",
       "        vertical-align: middle;\n",
       "    }\n",
       "\n",
       "    .dataframe tbody tr th {\n",
       "        vertical-align: top;\n",
       "    }\n",
       "\n",
       "    .dataframe thead th {\n",
       "        text-align: right;\n",
       "    }\n",
       "</style>\n",
       "<table border=\"1\" class=\"dataframe\">\n",
       "  <thead>\n",
       "    <tr style=\"text-align: right;\">\n",
       "      <th></th>\n",
       "      <th>year</th>\n",
       "      <th>inflation</th>\n",
       "    </tr>\n",
       "  </thead>\n",
       "  <tbody>\n",
       "    <tr>\n",
       "      <th>60</th>\n",
       "      <td>2020</td>\n",
       "      <td>1.233584</td>\n",
       "    </tr>\n",
       "    <tr>\n",
       "      <th>61</th>\n",
       "      <td>2021</td>\n",
       "      <td>4.697859</td>\n",
       "    </tr>\n",
       "    <tr>\n",
       "      <th>62</th>\n",
       "      <td>2022</td>\n",
       "      <td>8.002800</td>\n",
       "    </tr>\n",
       "  </tbody>\n",
       "</table>\n",
       "</div>"
      ],
      "text/plain": [
       "    year  inflation\n",
       "60  2020   1.233584\n",
       "61  2021   4.697859\n",
       "62  2022   8.002800"
      ]
     },
     "execution_count": 188,
     "metadata": {},
     "output_type": "execute_result"
    }
   ],
   "source": [
    "inflation.tail(3)"
   ]
  },
  {
   "cell_type": "code",
   "execution_count": 189,
   "id": "9e7bac53-ad1d-4480-a85f-ca675e9cf45b",
   "metadata": {},
   "outputs": [
    {
     "name": "stdout",
     "output_type": "stream",
     "text": [
      "0     5.541666666666667\n",
      "1     6.691666666666666\n",
      "2     5.566666666666667\n",
      "3     5.641666666666667\n",
      "4     5.158333333333334\n",
      "5     4.508333333333334\n",
      "6     3.7916666666666665\n",
      "7     3.8416666666666663\n",
      "8     3.558333333333333\n",
      "9     3.4916666666666667\n",
      "10     4.983333333333333\n",
      "11     5.95\n",
      "12     5.6000000000000005\n",
      "13     4.858333333333333\n",
      "14     5.641666666666667\n",
      "15     8.475\n",
      "16     7.699999999999999\n",
      "17     7.050000000000001\n",
      "18     6.066666666666666\n",
      "19     5.8500000000000005\n",
      "20     7.175000000000001\n",
      "21     7.616666666666667\n",
      "22     9.708333333333334\n",
      "23     9.6\n",
      "24     7.508333333333334\n",
      "25     7.191666666666666\n",
      "26     7.0\n",
      "27     6.175000000000001\n",
      "28     5.491666666666666\n",
      "29     5.258333333333333\n",
      "30     5.616666666666667\n",
      "31     6.8500000000000005\n",
      "32     7.491666666666667\n",
      "33     6.908333333333332\n",
      "34     6.099999999999999\n",
      "35     5.591666666666666\n",
      "36     5.408333333333334\n",
      "37     4.941666666666667\n",
      "38     4.499999999999999\n",
      "39     4.216666666666668\n",
      "40     3.9666666666666663\n",
      "41     4.741666666666667\n",
      "42     5.783333333333334\n",
      "43     5.991666666666667\n",
      "44     5.541666666666667\n",
      "45     5.083333333333333\n",
      "46     4.608333333333333\n",
      "47     4.616666666666667\n",
      "48     5.8\n",
      "49     9.283333333333333\n",
      "50     9.608333333333334\n",
      "51     8.933333333333334\n",
      "52     8.075\n",
      "53     7.358333333333334\n",
      "54     6.158333333333334\n",
      "55     5.275\n",
      "56     4.875\n",
      "57     4.358333333333333\n",
      "58     3.891666666666666\n",
      "59     3.6750000000000003\n",
      "60     8.091666666666667\n",
      "61     5.3500000000000005\n",
      "62     3.633333333333334\n",
      "63     3.625\n"
     ]
    }
   ],
   "source": [
    "for i in range(64):\n",
    "    print(i,\"   \",unemployment.iloc[i*12:(i+1)*12,1].mean())"
   ]
  },
  {
   "cell_type": "code",
   "execution_count": 190,
   "id": "6543141a-e0df-4d6b-8ef2-0e4567b1ec87",
   "metadata": {},
   "outputs": [
    {
     "data": {
      "text/html": [
       "<div>\n",
       "<style scoped>\n",
       "    .dataframe tbody tr th:only-of-type {\n",
       "        vertical-align: middle;\n",
       "    }\n",
       "\n",
       "    .dataframe tbody tr th {\n",
       "        vertical-align: top;\n",
       "    }\n",
       "\n",
       "    .dataframe thead th {\n",
       "        text-align: right;\n",
       "    }\n",
       "</style>\n",
       "<table border=\"1\" class=\"dataframe\">\n",
       "  <thead>\n",
       "    <tr style=\"text-align: right;\">\n",
       "      <th></th>\n",
       "      <th>year</th>\n",
       "      <th>unemployment</th>\n",
       "    </tr>\n",
       "  </thead>\n",
       "  <tbody>\n",
       "    <tr>\n",
       "      <th>60</th>\n",
       "      <td>2020</td>\n",
       "      <td>8.091667</td>\n",
       "    </tr>\n",
       "    <tr>\n",
       "      <th>61</th>\n",
       "      <td>2021</td>\n",
       "      <td>5.350000</td>\n",
       "    </tr>\n",
       "    <tr>\n",
       "      <th>62</th>\n",
       "      <td>2022</td>\n",
       "      <td>3.633333</td>\n",
       "    </tr>\n",
       "    <tr>\n",
       "      <th>63</th>\n",
       "      <td>2023</td>\n",
       "      <td>3.625000</td>\n",
       "    </tr>\n",
       "    <tr>\n",
       "      <th>64</th>\n",
       "      <td>2024</td>\n",
       "      <td>3.700000</td>\n",
       "    </tr>\n",
       "  </tbody>\n",
       "</table>\n",
       "</div>"
      ],
      "text/plain": [
       "    year  unemployment\n",
       "60  2020      8.091667\n",
       "61  2021      5.350000\n",
       "62  2022      3.633333\n",
       "63  2023      3.625000\n",
       "64  2024      3.700000"
      ]
     },
     "execution_count": 190,
     "metadata": {},
     "output_type": "execute_result"
    }
   ],
   "source": [
    "for i in range(64):\n",
    "    unemployment_yearly.iloc[i,1]=unemployment.iloc[i*12:(i+1)*12,1].mean()\n",
    "unemployment_yearly.tail(5)"
   ]
  },
  {
   "cell_type": "code",
   "execution_count": 193,
   "id": "c43b3840-518d-43a7-864b-0e25684d8649",
   "metadata": {},
   "outputs": [
    {
     "data": {
      "image/png": "[encoded data removed]",
      "text/plain": [
       "<Figure size 640x480 with 1 Axes>"
      ]
     },
     "metadata": {},
     "output_type": "display_data"
    }
   ],
   "source": [
    "import seaborn as sns\n",
    "import matplotlib.pyplot as plt\n",
    "\n",
    "df1 = unemployment_yearly\n",
    "df2 = inflation\n",
    "\n",
    "# Merge the two DataFrames\n",
    "merged_df = pd.concat([df1['unemployment'], df2['inflation']], axis=1)\n",
    "merged_df.columns = ['unemployment', 'inflation']\n",
    "\n",
    "# Plotting with Seaborn\n",
    "sns.set(style=\"whitegrid\")\n",
    "sns.lineplot(data=merged_df, markers=True, dashes=False)\n",
    "\n",
    "plt.xlabel('Year')\n",
    "plt.ylabel('Values')\n",
    "plt.title('Unemployment and inflation rates')\n",
    "plt.legend(title='DataFrames')\n",
    "plt.show()"
   ]
  },
  {
   "cell_type": "code",
   "execution_count": null,
   "id": "62a3f4b7-be6b-4097-b89a-9656a14f0165",
   "metadata": {},
   "outputs": [],
   "source": []
  }
 ],
 "metadata": {
  "kernelspec": {
   "display_name": "venvstats",
   "language": "python",
   "name": "venvstats"
  },
  "language_info": {
   "codemirror_mode": {
    "name": "ipython",
    "version": 3
   },
   "file_extension": ".py",
   "mimetype": "text/x-python",
   "name": "python",
   "nbconvert_exporter": "python",
   "pygments_lexer": "ipython3",
   "version": "3.9.13"
  }
 },
 "nbformat": 4,
 "nbformat_minor": 5
}
