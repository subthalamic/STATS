{
 "cells": [
  {
   "cell_type": "code",
   "execution_count": 42,
   "id": "924ca2f1-4e6b-4234-9679-52e51866bf1f",
   "metadata": {},
   "outputs": [],
   "source": [
    "import pandas as pd\n",
    "import matplotlib.pyplot as plt"
   ]
  },
  {
   "cell_type": "code",
   "execution_count": 43,
   "id": "4424461c-9e66-4c29-a443-3a42808bcc49",
   "metadata": {},
   "outputs": [],
   "source": [
    "inflation=pd.read_csv(\"inflation.csv\")\n",
    "unemployment_monthly=pd.read_csv(\"unemployment.csv\")   #needs aggregation"
   ]
  },
  {
   "cell_type": "code",
   "execution_count": 44,
   "id": "757e8a24-aca0-4877-bea2-08d23774b570",
   "metadata": {},
   "outputs": [],
   "source": [
    "#We rename the columns\n",
    "inflation.columns = ['year', 'inflation']\n",
    "unemployment_monthly.columns = ['year', 'unemployment']"
   ]
  },
  {
   "cell_type": "code",
   "execution_count": 45,
   "id": "ef687747-8888-4cfe-9fbd-c931b58b9c97",
   "metadata": {},
   "outputs": [],
   "source": [
    "#Removing the days and months with Luca's method rather that ChatGPT's .str accessor method\n",
    "#inflation[year] = string[:4] for string in inflation[year]         #invalid sintax\n",
    "#inflation[year] = [string[:4] for string in inflation[year]]       #year is not defined\n",
    "inflation['year'] = [string[:4] for string in inflation['year']]    #we remove the days and months\n",
    "#I should check the array[] = [array[]] operator"
   ]
  },
  {
   "cell_type": "code",
   "execution_count": 46,
   "id": "8e59b82f-5542-4170-9682-2b970420369f",
   "metadata": {},
   "outputs": [
    {
     "data": {
      "text/html": [
       "<div>\n",
       "<style scoped>\n",
       "    .dataframe tbody tr th:only-of-type {\n",
       "        vertical-align: middle;\n",
       "    }\n",
       "\n",
       "    .dataframe tbody tr th {\n",
       "        vertical-align: top;\n",
       "    }\n",
       "\n",
       "    .dataframe thead th {\n",
       "        text-align: right;\n",
       "    }\n",
       "</style>\n",
       "<table border=\"1\" class=\"dataframe\">\n",
       "  <thead>\n",
       "    <tr style=\"text-align: right;\">\n",
       "      <th></th>\n",
       "      <th>year</th>\n",
       "      <th>inflation</th>\n",
       "    </tr>\n",
       "  </thead>\n",
       "  <tbody>\n",
       "    <tr>\n",
       "      <th>0</th>\n",
       "      <td>1960</td>\n",
       "      <td>1.457976</td>\n",
       "    </tr>\n",
       "  </tbody>\n",
       "</table>\n",
       "</div>"
      ],
      "text/plain": [
       "   year  inflation\n",
       "0  1960   1.457976"
      ]
     },
     "execution_count": 46,
     "metadata": {},
     "output_type": "execute_result"
    }
   ],
   "source": [
    "inflation.head(1)"
   ]
  },
  {
   "cell_type": "code",
   "execution_count": 47,
   "id": "1ac2b8d5-bb67-4d03-9b8e-c2e50adb8115",
   "metadata": {},
   "outputs": [
    {
     "data": {
      "text/html": [
       "<div>\n",
       "<style scoped>\n",
       "    .dataframe tbody tr th:only-of-type {\n",
       "        vertical-align: middle;\n",
       "    }\n",
       "\n",
       "    .dataframe tbody tr th {\n",
       "        vertical-align: top;\n",
       "    }\n",
       "\n",
       "    .dataframe thead th {\n",
       "        text-align: right;\n",
       "    }\n",
       "</style>\n",
       "<table border=\"1\" class=\"dataframe\">\n",
       "  <thead>\n",
       "    <tr style=\"text-align: right;\">\n",
       "      <th></th>\n",
       "      <th>year</th>\n",
       "      <th>unemployment</th>\n",
       "    </tr>\n",
       "  </thead>\n",
       "  <tbody>\n",
       "    <tr>\n",
       "      <th>0</th>\n",
       "      <td>1960-01-01</td>\n",
       "      <td>5.2</td>\n",
       "    </tr>\n",
       "    <tr>\n",
       "      <th>1</th>\n",
       "      <td>1960-02-01</td>\n",
       "      <td>4.8</td>\n",
       "    </tr>\n",
       "  </tbody>\n",
       "</table>\n",
       "</div>"
      ],
      "text/plain": [
       "         year  unemployment\n",
       "0  1960-01-01           5.2\n",
       "1  1960-02-01           4.8"
      ]
     },
     "execution_count": 47,
     "metadata": {},
     "output_type": "execute_result"
    }
   ],
   "source": [
    "unemployment_monthly.head(2)    #I will leave unemployment like this in order to access the month"
   ]
  },
  {
   "cell_type": "code",
   "execution_count": 48,
   "id": "31c5bf7b-a3fa-4953-8a3c-b440b08d2c6a",
   "metadata": {},
   "outputs": [],
   "source": [
    "unemployment_monthly.columns=['month', 'unemployment']"
   ]
  },
  {
   "cell_type": "code",
   "execution_count": 49,
   "id": "2cc0d516-c20b-443a-9956-75470b2730e7",
   "metadata": {},
   "outputs": [],
   "source": [
    "inflation[\"year\"]=inflation[\"year\"].astype(int)    #not really necessary but gives me confort"
   ]
  },
  {
   "cell_type": "code",
   "execution_count": 50,
   "id": "880c85ff-0a62-494d-ab26-4aa4293ccfb8",
   "metadata": {},
   "outputs": [
    {
     "data": {
      "text/html": [
       "<div>\n",
       "<style scoped>\n",
       "    .dataframe tbody tr th:only-of-type {\n",
       "        vertical-align: middle;\n",
       "    }\n",
       "\n",
       "    .dataframe tbody tr th {\n",
       "        vertical-align: top;\n",
       "    }\n",
       "\n",
       "    .dataframe thead th {\n",
       "        text-align: right;\n",
       "    }\n",
       "</style>\n",
       "<table border=\"1\" class=\"dataframe\">\n",
       "  <thead>\n",
       "    <tr style=\"text-align: right;\">\n",
       "      <th></th>\n",
       "      <th>month</th>\n",
       "      <th>unemployment</th>\n",
       "    </tr>\n",
       "  </thead>\n",
       "  <tbody>\n",
       "    <tr>\n",
       "      <th>767</th>\n",
       "      <td>2023-12-01</td>\n",
       "      <td>3.7</td>\n",
       "    </tr>\n",
       "    <tr>\n",
       "      <th>768</th>\n",
       "      <td>2024-01-01</td>\n",
       "      <td>3.7</td>\n",
       "    </tr>\n",
       "  </tbody>\n",
       "</table>\n",
       "</div>"
      ],
      "text/plain": [
       "          month  unemployment\n",
       "767  2023-12-01           3.7\n",
       "768  2024-01-01           3.7"
      ]
     },
     "execution_count": 50,
     "metadata": {},
     "output_type": "execute_result"
    }
   ],
   "source": [
    "unemployment_monthly.tail(2)"
   ]
  },
  {
   "cell_type": "code",
   "execution_count": 51,
   "id": "50174b47-48f7-4ac6-b0d9-b0f97bc0b955",
   "metadata": {},
   "outputs": [
    {
     "data": {
      "text/html": [
       "<div>\n",
       "<style scoped>\n",
       "    .dataframe tbody tr th:only-of-type {\n",
       "        vertical-align: middle;\n",
       "    }\n",
       "\n",
       "    .dataframe tbody tr th {\n",
       "        vertical-align: top;\n",
       "    }\n",
       "\n",
       "    .dataframe thead th {\n",
       "        text-align: right;\n",
       "    }\n",
       "</style>\n",
       "<table border=\"1\" class=\"dataframe\">\n",
       "  <thead>\n",
       "    <tr style=\"text-align: right;\">\n",
       "      <th></th>\n",
       "      <th>year</th>\n",
       "      <th>inflation</th>\n",
       "    </tr>\n",
       "  </thead>\n",
       "  <tbody>\n",
       "    <tr>\n",
       "      <th>61</th>\n",
       "      <td>2021</td>\n",
       "      <td>4.697859</td>\n",
       "    </tr>\n",
       "    <tr>\n",
       "      <th>62</th>\n",
       "      <td>2022</td>\n",
       "      <td>8.002800</td>\n",
       "    </tr>\n",
       "  </tbody>\n",
       "</table>\n",
       "</div>"
      ],
      "text/plain": [
       "    year  inflation\n",
       "61  2021   4.697859\n",
       "62  2022   8.002800"
      ]
     },
     "execution_count": 51,
     "metadata": {},
     "output_type": "execute_result"
    }
   ],
   "source": [
    "inflation.tail(2)      #no data for 2023, 2024\n",
    "#why does inflation have more decimal places?"
   ]
  },
  {
   "cell_type": "code",
   "execution_count": 52,
   "id": "ee2d9e33-8e8f-43db-b819-7b1ef9471e47",
   "metadata": {},
   "outputs": [],
   "source": [
    "unemployment_test = pd.DataFrame(columns=['year', 'unemployment'])"
   ]
  },
  {
   "cell_type": "code",
   "execution_count": 53,
   "id": "018e5833-eac8-46b0-b131-1f4fadf32979",
   "metadata": {},
   "outputs": [
    {
     "data": {
      "text/plain": [
       "(0, 2)"
      ]
     },
     "execution_count": 53,
     "metadata": {},
     "output_type": "execute_result"
    }
   ],
   "source": [
    "unemployment_test.shape          #this would need appends or concats"
   ]
  },
  {
   "cell_type": "code",
   "execution_count": 54,
   "id": "95f56b62-1061-4b4f-b5c9-db38ffae3a8c",
   "metadata": {},
   "outputs": [],
   "source": [
    "unemployment = pd.DataFrame({'year': range(1960, 2025), 'unemployment': [0] * 65})    #finally found a command which does not use loops or appends\n",
    "#769/12 = 64.083, so there are 64 years and one month of 2024\n",
    "#I should modify the code to use len(unemployment)/12 + 1 if its modulo != 0, else 0 if its modulo = 0"
   ]
  },
  {
   "cell_type": "code",
   "execution_count": 55,
   "id": "6c1c2e13-dbb1-49e1-8b1b-628b0cdf3d63",
   "metadata": {},
   "outputs": [
    {
     "data": {
      "text/plain": [
       "(65, 2)"
      ]
     },
     "execution_count": 55,
     "metadata": {},
     "output_type": "execute_result"
    }
   ],
   "source": [
    "unemployment.shape"
   ]
  },
  {
   "cell_type": "code",
   "execution_count": 56,
   "id": "b437c49a-b9be-4452-b157-4c9432fcdea7",
   "metadata": {},
   "outputs": [
    {
     "data": {
      "text/html": [
       "<div>\n",
       "<style scoped>\n",
       "    .dataframe tbody tr th:only-of-type {\n",
       "        vertical-align: middle;\n",
       "    }\n",
       "\n",
       "    .dataframe tbody tr th {\n",
       "        vertical-align: top;\n",
       "    }\n",
       "\n",
       "    .dataframe thead th {\n",
       "        text-align: right;\n",
       "    }\n",
       "</style>\n",
       "<table border=\"1\" class=\"dataframe\">\n",
       "  <thead>\n",
       "    <tr style=\"text-align: right;\">\n",
       "      <th></th>\n",
       "      <th>year</th>\n",
       "      <th>unemployment</th>\n",
       "    </tr>\n",
       "  </thead>\n",
       "  <tbody>\n",
       "    <tr>\n",
       "      <th>63</th>\n",
       "      <td>2023</td>\n",
       "      <td>0</td>\n",
       "    </tr>\n",
       "    <tr>\n",
       "      <th>64</th>\n",
       "      <td>2024</td>\n",
       "      <td>0</td>\n",
       "    </tr>\n",
       "  </tbody>\n",
       "</table>\n",
       "</div>"
      ],
      "text/plain": [
       "    year  unemployment\n",
       "63  2023             0\n",
       "64  2024             0"
      ]
     },
     "execution_count": 56,
     "metadata": {},
     "output_type": "execute_result"
    }
   ],
   "source": [
    "unemployment.tail(2)"
   ]
  },
  {
   "cell_type": "code",
   "execution_count": 57,
   "id": "2447892c-6dcd-4914-8a38-b877f1995651",
   "metadata": {},
   "outputs": [
    {
     "name": "stdout",
     "output_type": "stream",
     "text": [
      "1960-01-01\n"
     ]
    }
   ],
   "source": [
    "print(unemployment_monthly[\"month\"][0])      #I like this"
   ]
  },
  {
   "cell_type": "code",
   "execution_count": 58,
   "id": "f38974c1-98dc-40d8-98fc-c7d3fc8e47c8",
   "metadata": {},
   "outputs": [
    {
     "name": "stdout",
     "output_type": "stream",
     "text": [
      "1960-01-01\n"
     ]
    }
   ],
   "source": [
    "print(unemployment_monthly.loc[0,'month'])    #Why are the rows and columns switched now?"
   ]
  },
  {
   "cell_type": "code",
   "execution_count": 59,
   "id": "d8923fb6-25dd-4075-add2-233e205d5214",
   "metadata": {},
   "outputs": [],
   "source": [
    "astype_test=unemployment_monthly[\"month\"][0]"
   ]
  },
  {
   "cell_type": "code",
   "execution_count": 60,
   "id": "994dac7a-0407-4119-a582-2165422efa55",
   "metadata": {},
   "outputs": [
    {
     "name": "stdout",
     "output_type": "stream",
     "text": [
      "01\n"
     ]
    }
   ],
   "source": [
    "print(astype_test[5:7])        #first index included, the second one not included"
   ]
  },
  {
   "cell_type": "code",
   "execution_count": 61,
   "id": "fe64d513-4e3e-4175-9144-3de88d7ecae8",
   "metadata": {},
   "outputs": [
    {
     "ename": "AttributeError",
     "evalue": "'str' object has no attribute 'astype'",
     "output_type": "error",
     "traceback": [
      "\u001b[1;31m---------------------------------------------------------------------------\u001b[0m",
      "\u001b[1;31mAttributeError\u001b[0m                            Traceback (most recent call last)",
      "Cell \u001b[1;32mIn[61], line 1\u001b[0m\n\u001b[1;32m----> 1\u001b[0m \u001b[38;5;28mprint\u001b[39m(\u001b[43mastype_test\u001b[49m\u001b[43m[\u001b[49m\u001b[38;5;241;43m5\u001b[39;49m\u001b[43m:\u001b[49m\u001b[38;5;241;43m7\u001b[39;49m\u001b[43m]\u001b[49m\u001b[38;5;241;43m.\u001b[39;49m\u001b[43mastype\u001b[49m(\u001b[38;5;28mint\u001b[39m))     \u001b[38;5;66;03m#astype is apparently used with dataframes\u001b[39;00m\n",
      "\u001b[1;31mAttributeError\u001b[0m: 'str' object has no attribute 'astype'"
     ]
    }
   ],
   "source": [
    "print(astype_test[5:7].astype(int))     #astype is apparently used with dataframes"
   ]
  },
  {
   "cell_type": "code",
   "execution_count": 62,
   "id": "cf1a4f20-1dfd-48dc-bd1c-9f072f7f6a4d",
   "metadata": {},
   "outputs": [
    {
     "name": "stdout",
     "output_type": "stream",
     "text": [
      "1\n"
     ]
    }
   ],
   "source": [
    "print(int(astype_test[5:7]))    #success"
   ]
  },
  {
   "cell_type": "code",
   "execution_count": 63,
   "id": "1dc5389d-426a-4a7e-b583-96e85a54113b",
   "metadata": {},
   "outputs": [],
   "source": [
    "unemployment_table = pd.DataFrame({f'month {i}': [0] * 65 for i in range(1, 13)})    #we create a dataframe with 12 columns and 65 rows"
   ]
  },
  {
   "cell_type": "code",
   "execution_count": 64,
   "id": "e54480bf-1fdf-43fb-a8d4-580c78187b32",
   "metadata": {},
   "outputs": [
    {
     "data": {
      "text/html": [
       "<div>\n",
       "<style scoped>\n",
       "    .dataframe tbody tr th:only-of-type {\n",
       "        vertical-align: middle;\n",
       "    }\n",
       "\n",
       "    .dataframe tbody tr th {\n",
       "        vertical-align: top;\n",
       "    }\n",
       "\n",
       "    .dataframe thead th {\n",
       "        text-align: right;\n",
       "    }\n",
       "</style>\n",
       "<table border=\"1\" class=\"dataframe\">\n",
       "  <thead>\n",
       "    <tr style=\"text-align: right;\">\n",
       "      <th></th>\n",
       "      <th>month 1</th>\n",
       "      <th>month 2</th>\n",
       "      <th>month 3</th>\n",
       "      <th>month 4</th>\n",
       "      <th>month 5</th>\n",
       "      <th>month 6</th>\n",
       "      <th>month 7</th>\n",
       "      <th>month 8</th>\n",
       "      <th>month 9</th>\n",
       "      <th>month 10</th>\n",
       "      <th>month 11</th>\n",
       "      <th>month 12</th>\n",
       "    </tr>\n",
       "  </thead>\n",
       "  <tbody>\n",
       "    <tr>\n",
       "      <th>63</th>\n",
       "      <td>0</td>\n",
       "      <td>0</td>\n",
       "      <td>0</td>\n",
       "      <td>0</td>\n",
       "      <td>0</td>\n",
       "      <td>0</td>\n",
       "      <td>0</td>\n",
       "      <td>0</td>\n",
       "      <td>0</td>\n",
       "      <td>0</td>\n",
       "      <td>0</td>\n",
       "      <td>0</td>\n",
       "    </tr>\n",
       "    <tr>\n",
       "      <th>64</th>\n",
       "      <td>0</td>\n",
       "      <td>0</td>\n",
       "      <td>0</td>\n",
       "      <td>0</td>\n",
       "      <td>0</td>\n",
       "      <td>0</td>\n",
       "      <td>0</td>\n",
       "      <td>0</td>\n",
       "      <td>0</td>\n",
       "      <td>0</td>\n",
       "      <td>0</td>\n",
       "      <td>0</td>\n",
       "    </tr>\n",
       "  </tbody>\n",
       "</table>\n",
       "</div>"
      ],
      "text/plain": [
       "    month 1  month 2  month 3  month 4  month 5  month 6  month 7  month 8  \\\n",
       "63        0        0        0        0        0        0        0        0   \n",
       "64        0        0        0        0        0        0        0        0   \n",
       "\n",
       "    month 9  month 10  month 11  month 12  \n",
       "63        0         0         0         0  \n",
       "64        0         0         0         0  "
      ]
     },
     "execution_count": 64,
     "metadata": {},
     "output_type": "execute_result"
    }
   ],
   "source": [
    "unemployment_table.tail(2)     #this is cool"
   ]
  },
  {
   "cell_type": "code",
   "execution_count": 65,
   "id": "4341287d-be87-4928-9b3c-09c2e6fd2462",
   "metadata": {},
   "outputs": [
    {
     "data": {
      "text/html": [
       "<div>\n",
       "<style scoped>\n",
       "    .dataframe tbody tr th:only-of-type {\n",
       "        vertical-align: middle;\n",
       "    }\n",
       "\n",
       "    .dataframe tbody tr th {\n",
       "        vertical-align: top;\n",
       "    }\n",
       "\n",
       "    .dataframe thead th {\n",
       "        text-align: right;\n",
       "    }\n",
       "</style>\n",
       "<table border=\"1\" class=\"dataframe\">\n",
       "  <thead>\n",
       "    <tr style=\"text-align: right;\">\n",
       "      <th></th>\n",
       "      <th>month 1</th>\n",
       "      <th>month 2</th>\n",
       "      <th>month 3</th>\n",
       "      <th>month 4</th>\n",
       "      <th>month 5</th>\n",
       "      <th>month 6</th>\n",
       "      <th>month 7</th>\n",
       "      <th>month 8</th>\n",
       "      <th>month 9</th>\n",
       "      <th>month 10</th>\n",
       "      <th>month 11</th>\n",
       "      <th>month 12</th>\n",
       "    </tr>\n",
       "  </thead>\n",
       "  <tbody>\n",
       "    <tr>\n",
       "      <th>0</th>\n",
       "      <td>0</td>\n",
       "      <td>0</td>\n",
       "      <td>0</td>\n",
       "      <td>0</td>\n",
       "      <td>0</td>\n",
       "      <td>0</td>\n",
       "      <td>0</td>\n",
       "      <td>0</td>\n",
       "      <td>0</td>\n",
       "      <td>0</td>\n",
       "      <td>0</td>\n",
       "      <td>0</td>\n",
       "    </tr>\n",
       "    <tr>\n",
       "      <th>1</th>\n",
       "      <td>0</td>\n",
       "      <td>0</td>\n",
       "      <td>0</td>\n",
       "      <td>0</td>\n",
       "      <td>0</td>\n",
       "      <td>0</td>\n",
       "      <td>0</td>\n",
       "      <td>0</td>\n",
       "      <td>0</td>\n",
       "      <td>0</td>\n",
       "      <td>0</td>\n",
       "      <td>0</td>\n",
       "    </tr>\n",
       "  </tbody>\n",
       "</table>\n",
       "</div>"
      ],
      "text/plain": [
       "   month 1  month 2  month 3  month 4  month 5  month 6  month 7  month 8  \\\n",
       "0        0        0        0        0        0        0        0        0   \n",
       "1        0        0        0        0        0        0        0        0   \n",
       "\n",
       "   month 9  month 10  month 11  month 12  \n",
       "0        0         0         0         0  \n",
       "1        0         0         0         0  "
      ]
     },
     "execution_count": 65,
     "metadata": {},
     "output_type": "execute_result"
    }
   ],
   "source": [
    "unemployment_table.head(2)"
   ]
  },
  {
   "cell_type": "code",
   "execution_count": 66,
   "id": "e4c1f8ea-3f21-4d80-93fb-2122f516e864",
   "metadata": {},
   "outputs": [
    {
     "data": {
      "text/html": [
       "<div>\n",
       "<style scoped>\n",
       "    .dataframe tbody tr th:only-of-type {\n",
       "        vertical-align: middle;\n",
       "    }\n",
       "\n",
       "    .dataframe tbody tr th {\n",
       "        vertical-align: top;\n",
       "    }\n",
       "\n",
       "    .dataframe thead th {\n",
       "        text-align: right;\n",
       "    }\n",
       "</style>\n",
       "<table border=\"1\" class=\"dataframe\">\n",
       "  <thead>\n",
       "    <tr style=\"text-align: right;\">\n",
       "      <th></th>\n",
       "      <th>1</th>\n",
       "      <th>2</th>\n",
       "      <th>3</th>\n",
       "      <th>4</th>\n",
       "      <th>5</th>\n",
       "      <th>6</th>\n",
       "      <th>7</th>\n",
       "      <th>8</th>\n",
       "      <th>9</th>\n",
       "      <th>10</th>\n",
       "      <th>11</th>\n",
       "      <th>12</th>\n",
       "    </tr>\n",
       "  </thead>\n",
       "  <tbody>\n",
       "    <tr>\n",
       "      <th>2023</th>\n",
       "      <td>0</td>\n",
       "      <td>0</td>\n",
       "      <td>0</td>\n",
       "      <td>0</td>\n",
       "      <td>0</td>\n",
       "      <td>0</td>\n",
       "      <td>0</td>\n",
       "      <td>0</td>\n",
       "      <td>0</td>\n",
       "      <td>0</td>\n",
       "      <td>0</td>\n",
       "      <td>0</td>\n",
       "    </tr>\n",
       "    <tr>\n",
       "      <th>2024</th>\n",
       "      <td>0</td>\n",
       "      <td>0</td>\n",
       "      <td>0</td>\n",
       "      <td>0</td>\n",
       "      <td>0</td>\n",
       "      <td>0</td>\n",
       "      <td>0</td>\n",
       "      <td>0</td>\n",
       "      <td>0</td>\n",
       "      <td>0</td>\n",
       "      <td>0</td>\n",
       "      <td>0</td>\n",
       "    </tr>\n",
       "  </tbody>\n",
       "</table>\n",
       "</div>"
      ],
      "text/plain": [
       "      1   2   3   4   5   6   7   8   9   10  11  12\n",
       "2023   0   0   0   0   0   0   0   0   0   0   0   0\n",
       "2024   0   0   0   0   0   0   0   0   0   0   0   0"
      ]
     },
     "execution_count": 66,
     "metadata": {},
     "output_type": "execute_result"
    }
   ],
   "source": [
    "# Create a list of column names as integers from 1 to 12\n",
    "column_index = list(range(1, 13))\n",
    "\n",
    "# Create a list of row indices starting from 1960\n",
    "row_index = list(range(1960, 2025))\n",
    "\n",
    "# Create a DataFrame filled with zeros\n",
    "unemployment_table2 = pd.DataFrame(0, index=row_index[:65], columns=column_index)\n",
    "\n",
    "# Display the DataFrame\n",
    "unemployment_table2.tail(2)\n",
    "\n",
    "#From ChatGPT"
   ]
  },
  {
   "cell_type": "code",
   "execution_count": 67,
   "id": "4b8f4d3e-87bc-4902-9963-35f7884e6cdb",
   "metadata": {},
   "outputs": [
    {
     "data": {
      "text/plain": [
       "(65, 12)"
      ]
     },
     "execution_count": 67,
     "metadata": {},
     "output_type": "execute_result"
    }
   ],
   "source": [
    "unemployment_table2.shape"
   ]
  },
  {
   "cell_type": "code",
   "execution_count": 68,
   "id": "e49ddeb7-b321-4778-afbb-6f4fa718cf0d",
   "metadata": {},
   "outputs": [
    {
     "data": {
      "text/plain": [
       "(65, 12)"
      ]
     },
     "execution_count": 68,
     "metadata": {},
     "output_type": "execute_result"
    }
   ],
   "source": [
    "unemployment_table.shape"
   ]
  },
  {
   "cell_type": "code",
   "execution_count": 69,
   "id": "db35162b-c471-497e-a9c9-85873ede8121",
   "metadata": {},
   "outputs": [
    {
     "name": "stdout",
     "output_type": "stream",
     "text": [
      "0\n"
     ]
    }
   ],
   "source": [
    "print(unemployment_table2.iloc[0,0])    #indices do not change"
   ]
  },
  {
   "cell_type": "code",
   "execution_count": 70,
   "id": "cd429aab-a8ff-42a5-b594-4af4bb8cf2d2",
   "metadata": {},
   "outputs": [
    {
     "data": {
      "text/plain": [
       "str"
      ]
     },
     "execution_count": 70,
     "metadata": {},
     "output_type": "execute_result"
    }
   ],
   "source": [
    "type(astype_test)"
   ]
  },
  {
   "cell_type": "code",
   "execution_count": 71,
   "id": "cf398dea-de02-4221-ab6a-2863111d804c",
   "metadata": {},
   "outputs": [
    {
     "name": "stdout",
     "output_type": "stream",
     "text": [
      "we can use astype in conditionals\n"
     ]
    }
   ],
   "source": [
    "if int(astype_test[:2])==19:\n",
    "    print(\"we can use astype in conditionals\")"
   ]
  },
  {
   "cell_type": "code",
   "execution_count": 72,
   "id": "a73fbee6-8806-4080-9025-82c2e214b7a1",
   "metadata": {},
   "outputs": [
    {
     "name": "stdout",
     "output_type": "stream",
     "text": [
      "54\n"
     ]
    }
   ],
   "source": [
    "print(769%65)         #first attempt with modulo, will revisit"
   ]
  },
  {
   "cell_type": "code",
   "execution_count": 73,
   "id": "c4e615a1-e97f-4614-a8ed-5f9583a5ca00",
   "metadata": {},
   "outputs": [
    {
     "name": "stdout",
     "output_type": "stream",
     "text": [
      "0\n"
     ]
    }
   ],
   "source": [
    "print(int(astype_test[:4])-1960)"
   ]
  },
  {
   "cell_type": "code",
   "execution_count": 74,
   "id": "6ecdd473-e76d-4f2f-aa55-191cb2b6fb9a",
   "metadata": {},
   "outputs": [
    {
     "name": "stderr",
     "output_type": "stream",
     "text": [
      "C:\\Users\\THW\\AppData\\Local\\Temp\\ipykernel_9100\\3817236677.py:3: FutureWarning: Setting an item of incompatible dtype is deprecated and will raise an error in a future version of pandas. Value '5.2' has dtype incompatible with int64, please explicitly cast to a compatible dtype first.\n",
      "  unemployment_table.iloc[int(date_string[:4])-1960,int(date_string[5:7])-1]=unemployment_monthly.loc[i, \"unemployment\"]    #row, column\n",
      "C:\\Users\\THW\\AppData\\Local\\Temp\\ipykernel_9100\\3817236677.py:3: FutureWarning: Setting an item of incompatible dtype is deprecated and will raise an error in a future version of pandas. Value '4.8' has dtype incompatible with int64, please explicitly cast to a compatible dtype first.\n",
      "  unemployment_table.iloc[int(date_string[:4])-1960,int(date_string[5:7])-1]=unemployment_monthly.loc[i, \"unemployment\"]    #row, column\n",
      "C:\\Users\\THW\\AppData\\Local\\Temp\\ipykernel_9100\\3817236677.py:3: FutureWarning: Setting an item of incompatible dtype is deprecated and will raise an error in a future version of pandas. Value '5.4' has dtype incompatible with int64, please explicitly cast to a compatible dtype first.\n",
      "  unemployment_table.iloc[int(date_string[:4])-1960,int(date_string[5:7])-1]=unemployment_monthly.loc[i, \"unemployment\"]    #row, column\n",
      "C:\\Users\\THW\\AppData\\Local\\Temp\\ipykernel_9100\\3817236677.py:3: FutureWarning: Setting an item of incompatible dtype is deprecated and will raise an error in a future version of pandas. Value '5.2' has dtype incompatible with int64, please explicitly cast to a compatible dtype first.\n",
      "  unemployment_table.iloc[int(date_string[:4])-1960,int(date_string[5:7])-1]=unemployment_monthly.loc[i, \"unemployment\"]    #row, column\n",
      "C:\\Users\\THW\\AppData\\Local\\Temp\\ipykernel_9100\\3817236677.py:3: FutureWarning: Setting an item of incompatible dtype is deprecated and will raise an error in a future version of pandas. Value '5.1' has dtype incompatible with int64, please explicitly cast to a compatible dtype first.\n",
      "  unemployment_table.iloc[int(date_string[:4])-1960,int(date_string[5:7])-1]=unemployment_monthly.loc[i, \"unemployment\"]    #row, column\n",
      "C:\\Users\\THW\\AppData\\Local\\Temp\\ipykernel_9100\\3817236677.py:3: FutureWarning: Setting an item of incompatible dtype is deprecated and will raise an error in a future version of pandas. Value '5.4' has dtype incompatible with int64, please explicitly cast to a compatible dtype first.\n",
      "  unemployment_table.iloc[int(date_string[:4])-1960,int(date_string[5:7])-1]=unemployment_monthly.loc[i, \"unemployment\"]    #row, column\n",
      "C:\\Users\\THW\\AppData\\Local\\Temp\\ipykernel_9100\\3817236677.py:3: FutureWarning: Setting an item of incompatible dtype is deprecated and will raise an error in a future version of pandas. Value '5.5' has dtype incompatible with int64, please explicitly cast to a compatible dtype first.\n",
      "  unemployment_table.iloc[int(date_string[:4])-1960,int(date_string[5:7])-1]=unemployment_monthly.loc[i, \"unemployment\"]    #row, column\n",
      "C:\\Users\\THW\\AppData\\Local\\Temp\\ipykernel_9100\\3817236677.py:3: FutureWarning: Setting an item of incompatible dtype is deprecated and will raise an error in a future version of pandas. Value '5.6' has dtype incompatible with int64, please explicitly cast to a compatible dtype first.\n",
      "  unemployment_table.iloc[int(date_string[:4])-1960,int(date_string[5:7])-1]=unemployment_monthly.loc[i, \"unemployment\"]    #row, column\n",
      "C:\\Users\\THW\\AppData\\Local\\Temp\\ipykernel_9100\\3817236677.py:3: FutureWarning: Setting an item of incompatible dtype is deprecated and will raise an error in a future version of pandas. Value '5.5' has dtype incompatible with int64, please explicitly cast to a compatible dtype first.\n",
      "  unemployment_table.iloc[int(date_string[:4])-1960,int(date_string[5:7])-1]=unemployment_monthly.loc[i, \"unemployment\"]    #row, column\n",
      "C:\\Users\\THW\\AppData\\Local\\Temp\\ipykernel_9100\\3817236677.py:3: FutureWarning: Setting an item of incompatible dtype is deprecated and will raise an error in a future version of pandas. Value '6.1' has dtype incompatible with int64, please explicitly cast to a compatible dtype first.\n",
      "  unemployment_table.iloc[int(date_string[:4])-1960,int(date_string[5:7])-1]=unemployment_monthly.loc[i, \"unemployment\"]    #row, column\n",
      "C:\\Users\\THW\\AppData\\Local\\Temp\\ipykernel_9100\\3817236677.py:3: FutureWarning: Setting an item of incompatible dtype is deprecated and will raise an error in a future version of pandas. Value '6.1' has dtype incompatible with int64, please explicitly cast to a compatible dtype first.\n",
      "  unemployment_table.iloc[int(date_string[:4])-1960,int(date_string[5:7])-1]=unemployment_monthly.loc[i, \"unemployment\"]    #row, column\n",
      "C:\\Users\\THW\\AppData\\Local\\Temp\\ipykernel_9100\\3817236677.py:3: FutureWarning: Setting an item of incompatible dtype is deprecated and will raise an error in a future version of pandas. Value '6.6' has dtype incompatible with int64, please explicitly cast to a compatible dtype first.\n",
      "  unemployment_table.iloc[int(date_string[:4])-1960,int(date_string[5:7])-1]=unemployment_monthly.loc[i, \"unemployment\"]    #row, column\n"
     ]
    }
   ],
   "source": [
    "i=0\n",
    "for date_string in unemployment_monthly[\"month\"]:\n",
    "    unemployment_table.iloc[int(date_string[:4])-1960,int(date_string[5:7])-1]=unemployment_monthly.loc[i, \"unemployment\"]    #row, column\n",
    "    i=i+1"
   ]
  },
  {
   "cell_type": "code",
   "execution_count": 75,
   "id": "c0b28a26-956f-4b56-81b1-a49af1e262bc",
   "metadata": {},
   "outputs": [
    {
     "data": {
      "text/html": [
       "<div>\n",
       "<style scoped>\n",
       "    .dataframe tbody tr th:only-of-type {\n",
       "        vertical-align: middle;\n",
       "    }\n",
       "\n",
       "    .dataframe tbody tr th {\n",
       "        vertical-align: top;\n",
       "    }\n",
       "\n",
       "    .dataframe thead th {\n",
       "        text-align: right;\n",
       "    }\n",
       "</style>\n",
       "<table border=\"1\" class=\"dataframe\">\n",
       "  <thead>\n",
       "    <tr style=\"text-align: right;\">\n",
       "      <th></th>\n",
       "      <th>month 1</th>\n",
       "      <th>month 2</th>\n",
       "      <th>month 3</th>\n",
       "      <th>month 4</th>\n",
       "      <th>month 5</th>\n",
       "      <th>month 6</th>\n",
       "      <th>month 7</th>\n",
       "      <th>month 8</th>\n",
       "      <th>month 9</th>\n",
       "      <th>month 10</th>\n",
       "      <th>month 11</th>\n",
       "      <th>month 12</th>\n",
       "    </tr>\n",
       "  </thead>\n",
       "  <tbody>\n",
       "    <tr>\n",
       "      <th>0</th>\n",
       "      <td>5.2</td>\n",
       "      <td>4.8</td>\n",
       "      <td>5.4</td>\n",
       "      <td>5.2</td>\n",
       "      <td>5.1</td>\n",
       "      <td>5.4</td>\n",
       "      <td>5.5</td>\n",
       "      <td>5.6</td>\n",
       "      <td>5.5</td>\n",
       "      <td>6.1</td>\n",
       "      <td>6.1</td>\n",
       "      <td>6.6</td>\n",
       "    </tr>\n",
       "    <tr>\n",
       "      <th>1</th>\n",
       "      <td>6.6</td>\n",
       "      <td>6.9</td>\n",
       "      <td>6.9</td>\n",
       "      <td>7.0</td>\n",
       "      <td>7.1</td>\n",
       "      <td>6.9</td>\n",
       "      <td>7.0</td>\n",
       "      <td>6.6</td>\n",
       "      <td>6.7</td>\n",
       "      <td>6.5</td>\n",
       "      <td>6.1</td>\n",
       "      <td>6.0</td>\n",
       "    </tr>\n",
       "    <tr>\n",
       "      <th>2</th>\n",
       "      <td>5.8</td>\n",
       "      <td>5.5</td>\n",
       "      <td>5.6</td>\n",
       "      <td>5.6</td>\n",
       "      <td>5.5</td>\n",
       "      <td>5.5</td>\n",
       "      <td>5.4</td>\n",
       "      <td>5.7</td>\n",
       "      <td>5.6</td>\n",
       "      <td>5.4</td>\n",
       "      <td>5.7</td>\n",
       "      <td>5.5</td>\n",
       "    </tr>\n",
       "  </tbody>\n",
       "</table>\n",
       "</div>"
      ],
      "text/plain": [
       "   month 1  month 2  month 3  month 4  month 5  month 6  month 7  month 8  \\\n",
       "0      5.2      4.8      5.4      5.2      5.1      5.4      5.5      5.6   \n",
       "1      6.6      6.9      6.9      7.0      7.1      6.9      7.0      6.6   \n",
       "2      5.8      5.5      5.6      5.6      5.5      5.5      5.4      5.7   \n",
       "\n",
       "   month 9  month 10  month 11  month 12  \n",
       "0      5.5       6.1       6.1       6.6  \n",
       "1      6.7       6.5       6.1       6.0  \n",
       "2      5.6       5.4       5.7       5.5  "
      ]
     },
     "execution_count": 75,
     "metadata": {},
     "output_type": "execute_result"
    }
   ],
   "source": [
    "unemployment_table.head(3)"
   ]
  },
  {
   "cell_type": "code",
   "execution_count": 76,
   "id": "f2dd72d1-2423-4489-ab9d-762d25a41127",
   "metadata": {},
   "outputs": [
    {
     "data": {
      "text/html": [
       "<div>\n",
       "<style scoped>\n",
       "    .dataframe tbody tr th:only-of-type {\n",
       "        vertical-align: middle;\n",
       "    }\n",
       "\n",
       "    .dataframe tbody tr th {\n",
       "        vertical-align: top;\n",
       "    }\n",
       "\n",
       "    .dataframe thead th {\n",
       "        text-align: right;\n",
       "    }\n",
       "</style>\n",
       "<table border=\"1\" class=\"dataframe\">\n",
       "  <thead>\n",
       "    <tr style=\"text-align: right;\">\n",
       "      <th></th>\n",
       "      <th>month 1</th>\n",
       "      <th>month 2</th>\n",
       "      <th>month 3</th>\n",
       "      <th>month 4</th>\n",
       "      <th>month 5</th>\n",
       "      <th>month 6</th>\n",
       "      <th>month 7</th>\n",
       "      <th>month 8</th>\n",
       "      <th>month 9</th>\n",
       "      <th>month 10</th>\n",
       "      <th>month 11</th>\n",
       "      <th>month 12</th>\n",
       "    </tr>\n",
       "  </thead>\n",
       "  <tbody>\n",
       "    <tr>\n",
       "      <th>63</th>\n",
       "      <td>3.4</td>\n",
       "      <td>3.6</td>\n",
       "      <td>3.5</td>\n",
       "      <td>3.4</td>\n",
       "      <td>3.7</td>\n",
       "      <td>3.6</td>\n",
       "      <td>3.5</td>\n",
       "      <td>3.8</td>\n",
       "      <td>3.8</td>\n",
       "      <td>3.8</td>\n",
       "      <td>3.7</td>\n",
       "      <td>3.7</td>\n",
       "    </tr>\n",
       "    <tr>\n",
       "      <th>64</th>\n",
       "      <td>3.7</td>\n",
       "      <td>0.0</td>\n",
       "      <td>0.0</td>\n",
       "      <td>0.0</td>\n",
       "      <td>0.0</td>\n",
       "      <td>0.0</td>\n",
       "      <td>0.0</td>\n",
       "      <td>0.0</td>\n",
       "      <td>0.0</td>\n",
       "      <td>0.0</td>\n",
       "      <td>0.0</td>\n",
       "      <td>0.0</td>\n",
       "    </tr>\n",
       "  </tbody>\n",
       "</table>\n",
       "</div>"
      ],
      "text/plain": [
       "    month 1  month 2  month 3  month 4  month 5  month 6  month 7  month 8  \\\n",
       "63      3.4      3.6      3.5      3.4      3.7      3.6      3.5      3.8   \n",
       "64      3.7      0.0      0.0      0.0      0.0      0.0      0.0      0.0   \n",
       "\n",
       "    month 9  month 10  month 11  month 12  \n",
       "63      3.8       3.8       3.7       3.7  \n",
       "64      0.0       0.0       0.0       0.0  "
      ]
     },
     "execution_count": 76,
     "metadata": {},
     "output_type": "execute_result"
    }
   ],
   "source": [
    "unemployment_table.tail(2)"
   ]
  },
  {
   "cell_type": "code",
   "execution_count": 77,
   "id": "f91ee0f4-ffdc-4899-a555-6dc564d30155",
   "metadata": {},
   "outputs": [
    {
     "data": {
      "text/html": [
       "<div>\n",
       "<style scoped>\n",
       "    .dataframe tbody tr th:only-of-type {\n",
       "        vertical-align: middle;\n",
       "    }\n",
       "\n",
       "    .dataframe tbody tr th {\n",
       "        vertical-align: top;\n",
       "    }\n",
       "\n",
       "    .dataframe thead th {\n",
       "        text-align: right;\n",
       "    }\n",
       "</style>\n",
       "<table border=\"1\" class=\"dataframe\">\n",
       "  <thead>\n",
       "    <tr style=\"text-align: right;\">\n",
       "      <th></th>\n",
       "      <th>month</th>\n",
       "      <th>unemployment</th>\n",
       "    </tr>\n",
       "  </thead>\n",
       "  <tbody>\n",
       "    <tr>\n",
       "      <th>756</th>\n",
       "      <td>2023-01-01</td>\n",
       "      <td>3.4</td>\n",
       "    </tr>\n",
       "    <tr>\n",
       "      <th>757</th>\n",
       "      <td>2023-02-01</td>\n",
       "      <td>3.6</td>\n",
       "    </tr>\n",
       "    <tr>\n",
       "      <th>758</th>\n",
       "      <td>2023-03-01</td>\n",
       "      <td>3.5</td>\n",
       "    </tr>\n",
       "    <tr>\n",
       "      <th>759</th>\n",
       "      <td>2023-04-01</td>\n",
       "      <td>3.4</td>\n",
       "    </tr>\n",
       "    <tr>\n",
       "      <th>760</th>\n",
       "      <td>2023-05-01</td>\n",
       "      <td>3.7</td>\n",
       "    </tr>\n",
       "    <tr>\n",
       "      <th>761</th>\n",
       "      <td>2023-06-01</td>\n",
       "      <td>3.6</td>\n",
       "    </tr>\n",
       "    <tr>\n",
       "      <th>762</th>\n",
       "      <td>2023-07-01</td>\n",
       "      <td>3.5</td>\n",
       "    </tr>\n",
       "    <tr>\n",
       "      <th>763</th>\n",
       "      <td>2023-08-01</td>\n",
       "      <td>3.8</td>\n",
       "    </tr>\n",
       "    <tr>\n",
       "      <th>764</th>\n",
       "      <td>2023-09-01</td>\n",
       "      <td>3.8</td>\n",
       "    </tr>\n",
       "    <tr>\n",
       "      <th>765</th>\n",
       "      <td>2023-10-01</td>\n",
       "      <td>3.8</td>\n",
       "    </tr>\n",
       "    <tr>\n",
       "      <th>766</th>\n",
       "      <td>2023-11-01</td>\n",
       "      <td>3.7</td>\n",
       "    </tr>\n",
       "    <tr>\n",
       "      <th>767</th>\n",
       "      <td>2023-12-01</td>\n",
       "      <td>3.7</td>\n",
       "    </tr>\n",
       "    <tr>\n",
       "      <th>768</th>\n",
       "      <td>2024-01-01</td>\n",
       "      <td>3.7</td>\n",
       "    </tr>\n",
       "  </tbody>\n",
       "</table>\n",
       "</div>"
      ],
      "text/plain": [
       "          month  unemployment\n",
       "756  2023-01-01           3.4\n",
       "757  2023-02-01           3.6\n",
       "758  2023-03-01           3.5\n",
       "759  2023-04-01           3.4\n",
       "760  2023-05-01           3.7\n",
       "761  2023-06-01           3.6\n",
       "762  2023-07-01           3.5\n",
       "763  2023-08-01           3.8\n",
       "764  2023-09-01           3.8\n",
       "765  2023-10-01           3.8\n",
       "766  2023-11-01           3.7\n",
       "767  2023-12-01           3.7\n",
       "768  2024-01-01           3.7"
      ]
     },
     "execution_count": 77,
     "metadata": {},
     "output_type": "execute_result"
    }
   ],
   "source": [
    "unemployment_monthly.tail(13)"
   ]
  },
  {
   "cell_type": "code",
   "execution_count": 78,
   "id": "a427bfc0-e045-4ab3-b970-fa113d51abf1",
   "metadata": {},
   "outputs": [
    {
     "name": "stderr",
     "output_type": "stream",
     "text": [
      "C:\\Users\\THW\\AppData\\Local\\Temp\\ipykernel_9100\\3313597786.py:3: FutureWarning: Setting an item of incompatible dtype is deprecated and will raise an error in a future version of pandas. Value '5.2' has dtype incompatible with int64, please explicitly cast to a compatible dtype first.\n",
      "  unemployment_table2.iloc[int(date_string[:4])-1960,int(date_string[5:7])-1]=unemployment_monthly.loc[i, \"unemployment\"]    #row, column\n",
      "C:\\Users\\THW\\AppData\\Local\\Temp\\ipykernel_9100\\3313597786.py:3: FutureWarning: Setting an item of incompatible dtype is deprecated and will raise an error in a future version of pandas. Value '4.8' has dtype incompatible with int64, please explicitly cast to a compatible dtype first.\n",
      "  unemployment_table2.iloc[int(date_string[:4])-1960,int(date_string[5:7])-1]=unemployment_monthly.loc[i, \"unemployment\"]    #row, column\n",
      "C:\\Users\\THW\\AppData\\Local\\Temp\\ipykernel_9100\\3313597786.py:3: FutureWarning: Setting an item of incompatible dtype is deprecated and will raise an error in a future version of pandas. Value '5.4' has dtype incompatible with int64, please explicitly cast to a compatible dtype first.\n",
      "  unemployment_table2.iloc[int(date_string[:4])-1960,int(date_string[5:7])-1]=unemployment_monthly.loc[i, \"unemployment\"]    #row, column\n",
      "C:\\Users\\THW\\AppData\\Local\\Temp\\ipykernel_9100\\3313597786.py:3: FutureWarning: Setting an item of incompatible dtype is deprecated and will raise an error in a future version of pandas. Value '5.2' has dtype incompatible with int64, please explicitly cast to a compatible dtype first.\n",
      "  unemployment_table2.iloc[int(date_string[:4])-1960,int(date_string[5:7])-1]=unemployment_monthly.loc[i, \"unemployment\"]    #row, column\n",
      "C:\\Users\\THW\\AppData\\Local\\Temp\\ipykernel_9100\\3313597786.py:3: FutureWarning: Setting an item of incompatible dtype is deprecated and will raise an error in a future version of pandas. Value '5.1' has dtype incompatible with int64, please explicitly cast to a compatible dtype first.\n",
      "  unemployment_table2.iloc[int(date_string[:4])-1960,int(date_string[5:7])-1]=unemployment_monthly.loc[i, \"unemployment\"]    #row, column\n",
      "C:\\Users\\THW\\AppData\\Local\\Temp\\ipykernel_9100\\3313597786.py:3: FutureWarning: Setting an item of incompatible dtype is deprecated and will raise an error in a future version of pandas. Value '5.4' has dtype incompatible with int64, please explicitly cast to a compatible dtype first.\n",
      "  unemployment_table2.iloc[int(date_string[:4])-1960,int(date_string[5:7])-1]=unemployment_monthly.loc[i, \"unemployment\"]    #row, column\n",
      "C:\\Users\\THW\\AppData\\Local\\Temp\\ipykernel_9100\\3313597786.py:3: FutureWarning: Setting an item of incompatible dtype is deprecated and will raise an error in a future version of pandas. Value '5.5' has dtype incompatible with int64, please explicitly cast to a compatible dtype first.\n",
      "  unemployment_table2.iloc[int(date_string[:4])-1960,int(date_string[5:7])-1]=unemployment_monthly.loc[i, \"unemployment\"]    #row, column\n",
      "C:\\Users\\THW\\AppData\\Local\\Temp\\ipykernel_9100\\3313597786.py:3: FutureWarning: Setting an item of incompatible dtype is deprecated and will raise an error in a future version of pandas. Value '5.6' has dtype incompatible with int64, please explicitly cast to a compatible dtype first.\n",
      "  unemployment_table2.iloc[int(date_string[:4])-1960,int(date_string[5:7])-1]=unemployment_monthly.loc[i, \"unemployment\"]    #row, column\n",
      "C:\\Users\\THW\\AppData\\Local\\Temp\\ipykernel_9100\\3313597786.py:3: FutureWarning: Setting an item of incompatible dtype is deprecated and will raise an error in a future version of pandas. Value '5.5' has dtype incompatible with int64, please explicitly cast to a compatible dtype first.\n",
      "  unemployment_table2.iloc[int(date_string[:4])-1960,int(date_string[5:7])-1]=unemployment_monthly.loc[i, \"unemployment\"]    #row, column\n",
      "C:\\Users\\THW\\AppData\\Local\\Temp\\ipykernel_9100\\3313597786.py:3: FutureWarning: Setting an item of incompatible dtype is deprecated and will raise an error in a future version of pandas. Value '6.1' has dtype incompatible with int64, please explicitly cast to a compatible dtype first.\n",
      "  unemployment_table2.iloc[int(date_string[:4])-1960,int(date_string[5:7])-1]=unemployment_monthly.loc[i, \"unemployment\"]    #row, column\n",
      "C:\\Users\\THW\\AppData\\Local\\Temp\\ipykernel_9100\\3313597786.py:3: FutureWarning: Setting an item of incompatible dtype is deprecated and will raise an error in a future version of pandas. Value '6.1' has dtype incompatible with int64, please explicitly cast to a compatible dtype first.\n",
      "  unemployment_table2.iloc[int(date_string[:4])-1960,int(date_string[5:7])-1]=unemployment_monthly.loc[i, \"unemployment\"]    #row, column\n",
      "C:\\Users\\THW\\AppData\\Local\\Temp\\ipykernel_9100\\3313597786.py:3: FutureWarning: Setting an item of incompatible dtype is deprecated and will raise an error in a future version of pandas. Value '6.6' has dtype incompatible with int64, please explicitly cast to a compatible dtype first.\n",
      "  unemployment_table2.iloc[int(date_string[:4])-1960,int(date_string[5:7])-1]=unemployment_monthly.loc[i, \"unemployment\"]    #row, column\n"
     ]
    }
   ],
   "source": [
    "i=0\n",
    "for date_string in unemployment_monthly[\"month\"]:\n",
    "    unemployment_table2.iloc[int(date_string[:4])-1960,int(date_string[5:7])-1]=unemployment_monthly.loc[i, \"unemployment\"]    #row, column\n",
    "    i=i+1"
   ]
  },
  {
   "cell_type": "code",
   "execution_count": 79,
   "id": "73cc9fa9-a714-4321-8db5-a36775c77fbf",
   "metadata": {},
   "outputs": [
    {
     "data": {
      "text/html": [
       "<div>\n",
       "<style scoped>\n",
       "    .dataframe tbody tr th:only-of-type {\n",
       "        vertical-align: middle;\n",
       "    }\n",
       "\n",
       "    .dataframe tbody tr th {\n",
       "        vertical-align: top;\n",
       "    }\n",
       "\n",
       "    .dataframe thead th {\n",
       "        text-align: right;\n",
       "    }\n",
       "</style>\n",
       "<table border=\"1\" class=\"dataframe\">\n",
       "  <thead>\n",
       "    <tr style=\"text-align: right;\">\n",
       "      <th></th>\n",
       "      <th>1</th>\n",
       "      <th>2</th>\n",
       "      <th>3</th>\n",
       "      <th>4</th>\n",
       "      <th>5</th>\n",
       "      <th>6</th>\n",
       "      <th>7</th>\n",
       "      <th>8</th>\n",
       "      <th>9</th>\n",
       "      <th>10</th>\n",
       "      <th>11</th>\n",
       "      <th>12</th>\n",
       "    </tr>\n",
       "  </thead>\n",
       "  <tbody>\n",
       "    <tr>\n",
       "      <th>2022</th>\n",
       "      <td>4.0</td>\n",
       "      <td>3.8</td>\n",
       "      <td>3.6</td>\n",
       "      <td>3.7</td>\n",
       "      <td>3.6</td>\n",
       "      <td>3.6</td>\n",
       "      <td>3.5</td>\n",
       "      <td>3.6</td>\n",
       "      <td>3.5</td>\n",
       "      <td>3.6</td>\n",
       "      <td>3.6</td>\n",
       "      <td>3.5</td>\n",
       "    </tr>\n",
       "    <tr>\n",
       "      <th>2023</th>\n",
       "      <td>3.4</td>\n",
       "      <td>3.6</td>\n",
       "      <td>3.5</td>\n",
       "      <td>3.4</td>\n",
       "      <td>3.7</td>\n",
       "      <td>3.6</td>\n",
       "      <td>3.5</td>\n",
       "      <td>3.8</td>\n",
       "      <td>3.8</td>\n",
       "      <td>3.8</td>\n",
       "      <td>3.7</td>\n",
       "      <td>3.7</td>\n",
       "    </tr>\n",
       "    <tr>\n",
       "      <th>2024</th>\n",
       "      <td>3.7</td>\n",
       "      <td>0.0</td>\n",
       "      <td>0.0</td>\n",
       "      <td>0.0</td>\n",
       "      <td>0.0</td>\n",
       "      <td>0.0</td>\n",
       "      <td>0.0</td>\n",
       "      <td>0.0</td>\n",
       "      <td>0.0</td>\n",
       "      <td>0.0</td>\n",
       "      <td>0.0</td>\n",
       "      <td>0.0</td>\n",
       "    </tr>\n",
       "  </tbody>\n",
       "</table>\n",
       "</div>"
      ],
      "text/plain": [
       "       1    2    3    4    5    6    7    8    9    10   11   12\n",
       "2022  4.0  3.8  3.6  3.7  3.6  3.6  3.5  3.6  3.5  3.6  3.6  3.5\n",
       "2023  3.4  3.6  3.5  3.4  3.7  3.6  3.5  3.8  3.8  3.8  3.7  3.7\n",
       "2024  3.7  0.0  0.0  0.0  0.0  0.0  0.0  0.0  0.0  0.0  0.0  0.0"
      ]
     },
     "execution_count": 79,
     "metadata": {},
     "output_type": "execute_result"
    }
   ],
   "source": [
    "unemployment_table2.tail(3)"
   ]
  },
  {
   "cell_type": "code",
   "execution_count": 80,
   "id": "d3560910-49fd-4305-bc57-16745181d75d",
   "metadata": {},
   "outputs": [
    {
     "data": {
      "text/html": [
       "<div>\n",
       "<style scoped>\n",
       "    .dataframe tbody tr th:only-of-type {\n",
       "        vertical-align: middle;\n",
       "    }\n",
       "\n",
       "    .dataframe tbody tr th {\n",
       "        vertical-align: top;\n",
       "    }\n",
       "\n",
       "    .dataframe thead th {\n",
       "        text-align: right;\n",
       "    }\n",
       "</style>\n",
       "<table border=\"1\" class=\"dataframe\">\n",
       "  <thead>\n",
       "    <tr style=\"text-align: right;\">\n",
       "      <th></th>\n",
       "      <th>month 1</th>\n",
       "      <th>month 2</th>\n",
       "      <th>month 3</th>\n",
       "      <th>month 4</th>\n",
       "      <th>month 5</th>\n",
       "      <th>month 6</th>\n",
       "      <th>month 7</th>\n",
       "      <th>month 8</th>\n",
       "      <th>month 9</th>\n",
       "      <th>month 10</th>\n",
       "      <th>month 11</th>\n",
       "      <th>month 12</th>\n",
       "    </tr>\n",
       "  </thead>\n",
       "  <tbody>\n",
       "    <tr>\n",
       "      <th>60</th>\n",
       "      <td>3.6</td>\n",
       "      <td>3.5</td>\n",
       "      <td>4.4</td>\n",
       "      <td>14.8</td>\n",
       "      <td>13.2</td>\n",
       "      <td>11.0</td>\n",
       "      <td>10.2</td>\n",
       "      <td>8.4</td>\n",
       "      <td>7.8</td>\n",
       "      <td>6.8</td>\n",
       "      <td>6.7</td>\n",
       "      <td>6.7</td>\n",
       "    </tr>\n",
       "    <tr>\n",
       "      <th>61</th>\n",
       "      <td>6.4</td>\n",
       "      <td>6.2</td>\n",
       "      <td>6.1</td>\n",
       "      <td>6.1</td>\n",
       "      <td>5.8</td>\n",
       "      <td>5.9</td>\n",
       "      <td>5.4</td>\n",
       "      <td>5.1</td>\n",
       "      <td>4.7</td>\n",
       "      <td>4.5</td>\n",
       "      <td>4.1</td>\n",
       "      <td>3.9</td>\n",
       "    </tr>\n",
       "    <tr>\n",
       "      <th>62</th>\n",
       "      <td>4.0</td>\n",
       "      <td>3.8</td>\n",
       "      <td>3.6</td>\n",
       "      <td>3.7</td>\n",
       "      <td>3.6</td>\n",
       "      <td>3.6</td>\n",
       "      <td>3.5</td>\n",
       "      <td>3.6</td>\n",
       "      <td>3.5</td>\n",
       "      <td>3.6</td>\n",
       "      <td>3.6</td>\n",
       "      <td>3.5</td>\n",
       "    </tr>\n",
       "    <tr>\n",
       "      <th>63</th>\n",
       "      <td>3.4</td>\n",
       "      <td>3.6</td>\n",
       "      <td>3.5</td>\n",
       "      <td>3.4</td>\n",
       "      <td>3.7</td>\n",
       "      <td>3.6</td>\n",
       "      <td>3.5</td>\n",
       "      <td>3.8</td>\n",
       "      <td>3.8</td>\n",
       "      <td>3.8</td>\n",
       "      <td>3.7</td>\n",
       "      <td>3.7</td>\n",
       "    </tr>\n",
       "    <tr>\n",
       "      <th>64</th>\n",
       "      <td>3.7</td>\n",
       "      <td>0.0</td>\n",
       "      <td>0.0</td>\n",
       "      <td>0.0</td>\n",
       "      <td>0.0</td>\n",
       "      <td>0.0</td>\n",
       "      <td>0.0</td>\n",
       "      <td>0.0</td>\n",
       "      <td>0.0</td>\n",
       "      <td>0.0</td>\n",
       "      <td>0.0</td>\n",
       "      <td>0.0</td>\n",
       "    </tr>\n",
       "  </tbody>\n",
       "</table>\n",
       "</div>"
      ],
      "text/plain": [
       "    month 1  month 2  month 3  month 4  month 5  month 6  month 7  month 8  \\\n",
       "60      3.6      3.5      4.4     14.8     13.2     11.0     10.2      8.4   \n",
       "61      6.4      6.2      6.1      6.1      5.8      5.9      5.4      5.1   \n",
       "62      4.0      3.8      3.6      3.7      3.6      3.6      3.5      3.6   \n",
       "63      3.4      3.6      3.5      3.4      3.7      3.6      3.5      3.8   \n",
       "64      3.7      0.0      0.0      0.0      0.0      0.0      0.0      0.0   \n",
       "\n",
       "    month 9  month 10  month 11  month 12  \n",
       "60      7.8       6.8       6.7       6.7  \n",
       "61      4.7       4.5       4.1       3.9  \n",
       "62      3.5       3.6       3.6       3.5  \n",
       "63      3.8       3.8       3.7       3.7  \n",
       "64      0.0       0.0       0.0       0.0  "
      ]
     },
     "execution_count": 80,
     "metadata": {},
     "output_type": "execute_result"
    }
   ],
   "source": [
    "unemployment_table.tail(5)     #why does this table fill values beyond Jan 2024?   Answer: It had unchange values from the last attempt"
   ]
  },
  {
   "cell_type": "code",
   "execution_count": 81,
   "id": "53a9ab2b-594d-4144-b4d0-51f082806385",
   "metadata": {},
   "outputs": [
    {
     "name": "stderr",
     "output_type": "stream",
     "text": [
      "C:\\Users\\THW\\AppData\\Local\\Temp\\ipykernel_9100\\2933931135.py:2: FutureWarning: Setting an item of incompatible dtype is deprecated and will raise an error in a future version of pandas. Value '5.541666666666667' has dtype incompatible with int64, please explicitly cast to a compatible dtype first.\n",
      "  unemployment.iloc[i,1]=unemployment_table.iloc[i].mean()\n"
     ]
    }
   ],
   "source": [
    "for i in range(64):\n",
    "    unemployment.iloc[i,1]=unemployment_table.iloc[i].mean()"
   ]
  },
  {
   "cell_type": "code",
   "execution_count": 82,
   "id": "2266ccef-1dfd-43db-8593-0a57d99256fc",
   "metadata": {},
   "outputs": [
    {
     "data": {
      "text/html": [
       "<div>\n",
       "<style scoped>\n",
       "    .dataframe tbody tr th:only-of-type {\n",
       "        vertical-align: middle;\n",
       "    }\n",
       "\n",
       "    .dataframe tbody tr th {\n",
       "        vertical-align: top;\n",
       "    }\n",
       "\n",
       "    .dataframe thead th {\n",
       "        text-align: right;\n",
       "    }\n",
       "</style>\n",
       "<table border=\"1\" class=\"dataframe\">\n",
       "  <thead>\n",
       "    <tr style=\"text-align: right;\">\n",
       "      <th></th>\n",
       "      <th>year</th>\n",
       "      <th>unemployment</th>\n",
       "    </tr>\n",
       "  </thead>\n",
       "  <tbody>\n",
       "    <tr>\n",
       "      <th>62</th>\n",
       "      <td>2022</td>\n",
       "      <td>3.633333</td>\n",
       "    </tr>\n",
       "    <tr>\n",
       "      <th>63</th>\n",
       "      <td>2023</td>\n",
       "      <td>3.625000</td>\n",
       "    </tr>\n",
       "    <tr>\n",
       "      <th>64</th>\n",
       "      <td>2024</td>\n",
       "      <td>0.000000</td>\n",
       "    </tr>\n",
       "  </tbody>\n",
       "</table>\n",
       "</div>"
      ],
      "text/plain": [
       "    year  unemployment\n",
       "62  2022      3.633333\n",
       "63  2023      3.625000\n",
       "64  2024      0.000000"
      ]
     },
     "execution_count": 82,
     "metadata": {},
     "output_type": "execute_result"
    }
   ],
   "source": [
    "unemployment.tail(3)"
   ]
  },
  {
   "cell_type": "code",
   "execution_count": 83,
   "id": "1c47f52f-76cc-4dd5-b3f5-60b75298cd8b",
   "metadata": {},
   "outputs": [],
   "source": [
    "unemployment.iloc[64,1]=3.7   #setting the value for 2024"
   ]
  },
  {
   "cell_type": "code",
   "execution_count": 84,
   "id": "7d389285-33c1-49ad-a703-56acebfcd513",
   "metadata": {},
   "outputs": [
    {
     "data": {
      "text/html": [
       "<div>\n",
       "<style scoped>\n",
       "    .dataframe tbody tr th:only-of-type {\n",
       "        vertical-align: middle;\n",
       "    }\n",
       "\n",
       "    .dataframe tbody tr th {\n",
       "        vertical-align: top;\n",
       "    }\n",
       "\n",
       "    .dataframe thead th {\n",
       "        text-align: right;\n",
       "    }\n",
       "</style>\n",
       "<table border=\"1\" class=\"dataframe\">\n",
       "  <thead>\n",
       "    <tr style=\"text-align: right;\">\n",
       "      <th></th>\n",
       "      <th>year</th>\n",
       "      <th>unemployment</th>\n",
       "    </tr>\n",
       "  </thead>\n",
       "  <tbody>\n",
       "    <tr>\n",
       "      <th>62</th>\n",
       "      <td>2022</td>\n",
       "      <td>3.633333</td>\n",
       "    </tr>\n",
       "    <tr>\n",
       "      <th>63</th>\n",
       "      <td>2023</td>\n",
       "      <td>3.625000</td>\n",
       "    </tr>\n",
       "    <tr>\n",
       "      <th>64</th>\n",
       "      <td>2024</td>\n",
       "      <td>3.700000</td>\n",
       "    </tr>\n",
       "  </tbody>\n",
       "</table>\n",
       "</div>"
      ],
      "text/plain": [
       "    year  unemployment\n",
       "62  2022      3.633333\n",
       "63  2023      3.625000\n",
       "64  2024      3.700000"
      ]
     },
     "execution_count": 84,
     "metadata": {},
     "output_type": "execute_result"
    }
   ],
   "source": [
    "unemployment.tail(3)"
   ]
  },
  {
   "cell_type": "code",
   "execution_count": 85,
   "id": "7dbf32e1-c914-48ac-8277-1cbe0dd241a2",
   "metadata": {},
   "outputs": [
    {
     "data": {
      "image/png": "[encoded data removed]",
      "text/plain": [
       "<Figure size 640x480 with 1 Axes>"
      ]
     },
     "metadata": {},
     "output_type": "display_data"
    }
   ],
   "source": [
    "#Plot unemployment and inflation\n",
    "\n",
    "plt.plot(unemployment['year'], unemployment['unemployment'], label='unemployment')\n",
    "plt.plot(inflation['year'], inflation['inflation'], label='inflation')\n",
    "\n",
    "\"\"\"\n",
    "df11 = unemployment\n",
    "df22 = inflation\n",
    "\n",
    "# Extracting the year and variables from each DataFrame\n",
    "year1, variable1 = df11['year'], df11['unemployment']\n",
    "year2, variable2 = df22['year'], df22['inflation']\n",
    "\n",
    "\n",
    "\n",
    "# Plotting using Matplotlib\n",
    "plt.plot(year1, variable1, label='unemployment')\n",
    "plt.plot(year2, variable2, label='inflation')\n",
    "\"\"\"\n",
    "\n",
    "plt.xlabel('Year')\n",
    "plt.ylabel('Value')\n",
    "plt.title('Unemployment, Inflation over time')\n",
    "plt.legend()\n",
    "\n",
    "plt.show()"
   ]
  },
  {
   "cell_type": "code",
   "execution_count": null,
   "id": "58cf5011-f5a3-416c-b9ab-43d7b8394e4b",
   "metadata": {},
   "outputs": [],
   "source": []
  },
  {
   "cell_type": "code",
   "execution_count": null,
   "id": "fd785d2d-7eaa-4bad-b01c-68bc6a363646",
   "metadata": {},
   "outputs": [],
   "source": []
  }
 ],
 "metadata": {
  "kernelspec": {
   "display_name": "venvstats",
   "language": "python",
   "name": "venvstats"
  },
  "language_info": {
   "codemirror_mode": {
    "name": "ipython",
    "version": 3
   },
   "file_extension": ".py",
   "mimetype": "text/x-python",
   "name": "python",
   "nbconvert_exporter": "python",
   "pygments_lexer": "ipython3",
   "version": "3.9.13"
  }
 },
 "nbformat": 4,
 "nbformat_minor": 5
}
