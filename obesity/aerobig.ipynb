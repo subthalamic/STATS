{
 "cells": [
  {
   "cell_type": "code",
   "execution_count": 1,
   "id": "401b953e-30f1-436c-8962-961667890bab",
   "metadata": {},
   "outputs": [],
   "source": [
    "import pandas as pd\n",
    "import numpy as np"
   ]
  },
  {
   "cell_type": "code",
   "execution_count": 2,
   "id": "0b3deab6-c0bf-4208-9e06-5cfbd67eced1",
   "metadata": {},
   "outputs": [],
   "source": [
    "pre = pd.read_csv('1merged.csv')"
   ]
  },
  {
   "cell_type": "code",
   "execution_count": 3,
   "id": "2da85893-517d-48cd-a4c0-ddcf7fc485a6",
   "metadata": {},
   "outputs": [],
   "source": [
    "post = pd.read_csv('2merged.csv')"
   ]
  },
  {
   "cell_type": "code",
   "execution_count": 4,
   "id": "8827cb0b-aa35-4ecb-8b08-12d8b911c533",
   "metadata": {},
   "outputs": [],
   "source": [
    "di = pd.read_csv('dateianuarie.csv')"
   ]
  },
  {
   "cell_type": "code",
   "execution_count": 5,
   "id": "64e5e49d-8c5c-42f2-a60c-65904c76cd1d",
   "metadata": {},
   "outputs": [
    {
     "data": {
      "text/plain": [
       "(160, 20)"
      ]
     },
     "execution_count": 5,
     "metadata": {},
     "output_type": "execute_result"
    }
   ],
   "source": [
    "pre.shape"
   ]
  },
  {
   "cell_type": "code",
   "execution_count": 6,
   "id": "4ee89d55-73d6-4ee5-85e9-3ee7e0c7aec0",
   "metadata": {},
   "outputs": [
    {
     "data": {
      "text/plain": [
       "(156, 20)"
      ]
     },
     "execution_count": 6,
     "metadata": {},
     "output_type": "execute_result"
    }
   ],
   "source": [
    "post.shape"
   ]
  },
  {
   "cell_type": "code",
   "execution_count": 7,
   "id": "30a0493e-e840-44d1-9da4-cb2ab8be492c",
   "metadata": {},
   "outputs": [],
   "source": [
    "pre.columns = ['code', 'level', 'load', 'time',\n",
    "       'rrate', 'hrate', 'ventilation',\n",
    "       'vo2', 'vo2rel', 'vco2',\n",
    "       'vco2rel', 'rer', 'vo2eq',\n",
    "       'vo2pulse', 'fat', 'carb', 'fat100',\n",
    "       'carb100', 'energy', 'met']"
   ]
  },
  {
   "cell_type": "code",
   "execution_count": 8,
   "id": "351f6b85-0fde-4983-962f-3d0632949286",
   "metadata": {},
   "outputs": [],
   "source": [
    "post.columns = ['code', 'level', 'load', 'time',\n",
    "       'rrate', 'hrate', 'ventilation',\n",
    "       'vo2', 'vo2rel', 'vco2',\n",
    "       'vco2rel', 'rer', 'vo2eq',\n",
    "       'vo2pulse', 'fat', 'carb', 'fat100',\n",
    "       'carb100', 'energy', 'met']"
   ]
  },
  {
   "cell_type": "code",
   "execution_count": 9,
   "id": "7e3ab5f9-e2ff-4059-8d4c-ffeb1ed90b0a",
   "metadata": {},
   "outputs": [],
   "source": [
    "pre.insert(1, 'name', 'n')"
   ]
  },
  {
   "cell_type": "code",
   "execution_count": 10,
   "id": "4ecc8c66-56fa-42da-9f03-4498a1df3354",
   "metadata": {},
   "outputs": [],
   "source": [
    "post.insert(1, 'name', 'n')"
   ]
  },
  {
   "cell_type": "code",
   "execution_count": 11,
   "id": "a0b80185-b1e9-4bbd-8985-9213862de283",
   "metadata": {},
   "outputs": [],
   "source": [
    "for i in pre.index:\n",
    "    pre.loc[i, 'name'] = pre.loc[i-i%4, 'load']"
   ]
  },
  {
   "cell_type": "code",
   "execution_count": 12,
   "id": "954878f0-d3eb-41e2-8322-c98a5f2ec0e1",
   "metadata": {},
   "outputs": [],
   "source": [
    "for i in post.index:\n",
    "    post.loc[i, 'name'] = post.loc[i-i%4, 'load']"
   ]
  },
  {
   "cell_type": "code",
   "execution_count": 13,
   "id": "bd296fdf-c593-4d40-a682-c55c21b6f77e",
   "metadata": {},
   "outputs": [],
   "source": [
    "pre = pre[['name', 'level', 'rrate', 'hrate',\n",
    "       'ventilation', 'vo2', 'vo2rel', 'vco2', 'vco2rel', 'rer', 'vo2eq',\n",
    "       'vo2pulse', 'fat', 'carb', 'fat100', 'carb100', 'energy', 'met']]"
   ]
  },
  {
   "cell_type": "code",
   "execution_count": 14,
   "id": "28b1068b-561b-4983-b944-8111fb1164b4",
   "metadata": {},
   "outputs": [],
   "source": [
    "post = post[['name', 'level', 'rrate', 'hrate',\n",
    "       'ventilation', 'vo2', 'vo2rel', 'vco2', 'vco2rel', 'rer', 'vo2eq',\n",
    "       'vo2pulse', 'fat', 'carb', 'fat100', 'carb100', 'energy', 'met']]"
   ]
  },
  {
   "cell_type": "code",
   "execution_count": 15,
   "id": "05a7987a-ee76-4119-a87e-d586ec565ec7",
   "metadata": {},
   "outputs": [],
   "source": [
    "pre = pre.loc[pre.level!='Nume']"
   ]
  },
  {
   "cell_type": "code",
   "execution_count": 16,
   "id": "e5f25435-b641-4a7e-b5ba-0ecd59c6d4d4",
   "metadata": {},
   "outputs": [],
   "source": [
    "post = post.loc[post.level!='Nume']"
   ]
  },
  {
   "cell_type": "code",
   "execution_count": 17,
   "id": "fb2113d2-1938-4829-9db6-04f7542291f2",
   "metadata": {},
   "outputs": [],
   "source": [
    "pre.name = pre.name.str.replace('*','')"
   ]
  },
  {
   "cell_type": "code",
   "execution_count": 18,
   "id": "8b77c639-5857-41ba-a193-1a7b1d8eecf5",
   "metadata": {},
   "outputs": [
    {
     "data": {
      "text/plain": [
       "array([], dtype=object)"
      ]
     },
     "execution_count": 18,
     "metadata": {},
     "output_type": "execute_result"
    }
   ],
   "source": [
    "pre.loc[pre.name.str.endswith('*')].name.unique()"
   ]
  },
  {
   "cell_type": "code",
   "execution_count": 20,
   "id": "9dd7eba0-1ecf-4cf9-a748-e32ae81d0f55",
   "metadata": {},
   "outputs": [],
   "source": [
    "pre = pre.reset_index(drop=True)"
   ]
  },
  {
   "cell_type": "code",
   "execution_count": 21,
   "id": "ff9045da-1344-42a9-98a4-50d58df75f66",
   "metadata": {},
   "outputs": [],
   "source": [
    "post = post.reset_index(drop=True)"
   ]
  },
  {
   "cell_type": "code",
   "execution_count": 22,
   "id": "f30063d5-c8d8-4c8b-8521-0b04c3acf459",
   "metadata": {},
   "outputs": [
    {
     "data": {
      "text/plain": [
       "name\n",
       "True    117\n",
       "Name: count, dtype: int64"
      ]
     },
     "execution_count": 22,
     "metadata": {},
     "output_type": "execute_result"
    }
   ],
   "source": [
    "(pre.name == post.name).value_counts()"
   ]
  },
  {
   "cell_type": "code",
   "execution_count": 25,
   "id": "98545cc9-d858-431f-8a29-91c2b532ea5c",
   "metadata": {},
   "outputs": [
    {
     "data": {
      "text/plain": [
       "array(['1', '2', '3'], dtype=object)"
      ]
     },
     "execution_count": 25,
     "metadata": {},
     "output_type": "execute_result"
    }
   ],
   "source": [
    "post.level.unique()"
   ]
  },
  {
   "cell_type": "code",
   "execution_count": 26,
   "id": "45bf0448-9e83-4245-9ffa-095a4e2e4360",
   "metadata": {},
   "outputs": [
    {
     "data": {
      "text/plain": [
       "array(['1', '2', '3'], dtype=object)"
      ]
     },
     "execution_count": 26,
     "metadata": {},
     "output_type": "execute_result"
    }
   ],
   "source": [
    "pre.level.unique()"
   ]
  },
  {
   "cell_type": "code",
   "execution_count": 28,
   "id": "2baae89a-5f05-4454-b5b8-200482afd06c",
   "metadata": {},
   "outputs": [],
   "source": [
    "pre.level = pre.level.astype('int')\n",
    "post.level = post.level.astype('int')"
   ]
  },
  {
   "cell_type": "code",
   "execution_count": 31,
   "id": "bc195525-92bf-48f5-9048-79495ece6565",
   "metadata": {},
   "outputs": [],
   "source": [
    "pre.insert(1,'time','initial')\n",
    "post.insert(1,'time','final')"
   ]
  },
  {
   "cell_type": "code",
   "execution_count": 32,
   "id": "7d6ebe81-db76-4c67-8b9e-8edf13002749",
   "metadata": {},
   "outputs": [],
   "source": [
    "pre.insert(0,'aeroscan_index', [int(1+(i - i%3)/3) for i in range(117)])"
   ]
  },
  {
   "cell_type": "code",
   "execution_count": 33,
   "id": "16cb03e0-f41f-4ef0-9fa5-edf28b7eb3ce",
   "metadata": {},
   "outputs": [],
   "source": [
    "post.insert(0,'aeroscan_index', [int(1+(i - i%3)/3) for i in range(117)])"
   ]
  },
  {
   "cell_type": "code",
   "execution_count": 34,
   "id": "77c29788-0746-4419-b5f8-dcb7af2fa40b",
   "metadata": {},
   "outputs": [],
   "source": [
    "prepost = pd.concat([pre,post], ignore_index=True)"
   ]
  },
  {
   "cell_type": "code",
   "execution_count": 35,
   "id": "1cb179ae-796e-4744-b5b6-02fa87aa3d75",
   "metadata": {},
   "outputs": [
    {
     "data": {
      "text/plain": [
       "Index(['aeroscan_index', 'name', 'time', 'level', 'rrate', 'hrate',\n",
       "       'ventilation', 'vo2', 'vo2rel', 'vco2', 'vco2rel', 'rer', 'vo2eq',\n",
       "       'vo2pulse', 'fat', 'carb', 'fat100', 'carb100', 'energy', 'met'],\n",
       "      dtype='object')"
      ]
     },
     "execution_count": 35,
     "metadata": {},
     "output_type": "execute_result"
    }
   ],
   "source": [
    "prepost.columns"
   ]
  },
  {
   "cell_type": "code",
   "execution_count": 36,
   "id": "fe3b4e9a-ba6c-44b0-a828-dce5b39bd2ec",
   "metadata": {},
   "outputs": [],
   "source": [
    "prepost_melt = prepost.melt(id_vars=['aeroscan_index', 'name', 'time', 'level'],\n",
    "             value_vars=['rrate', 'hrate',\n",
    "       'ventilation', 'vo2', 'vo2rel', 'vco2', 'vco2rel', 'rer', 'vo2eq',\n",
    "       'vo2pulse', 'fat', 'carb', 'fat100', 'carb100', 'energy', 'met'],\n",
    "             var_name='param', value_name='value')"
   ]
  },
  {
   "cell_type": "code",
   "execution_count": 37,
   "id": "56d8aa03-16dc-4951-b4ce-116c01928be3",
   "metadata": {},
   "outputs": [],
   "source": [
    "prepost_melt.sort_values(by=['aeroscan_index', 'time', 'level'],\n",
    "                         ascending=[True, False, True], ignore_index=True, inplace=True)"
   ]
  },
  {
   "cell_type": "code",
   "execution_count": 40,
   "id": "060ae1ab-2e4d-454d-9b0b-bb85447b229b",
   "metadata": {},
   "outputs": [
    {
     "data": {
      "text/plain": [
       "False    3744\n",
       "Name: count, dtype: int64"
      ]
     },
     "execution_count": 40,
     "metadata": {},
     "output_type": "execute_result"
    }
   ],
   "source": [
    "prepost_melt.duplicated(subset=['aeroscan_index', 'name', 'param', 'time', 'level'], keep=False).value_counts()"
   ]
  },
  {
   "cell_type": "code",
   "execution_count": 46,
   "id": "aa8f194f-6ff9-4a2f-9bb1-36bcb0d21561",
   "metadata": {},
   "outputs": [],
   "source": [
    "prepost_pivot = prepost_melt.pivot(columns=['param', 'level', 'time'], index=['aeroscan_index', 'name'], values='value')"
   ]
  },
  {
   "cell_type": "code",
   "execution_count": 74,
   "id": "0e26a977-8f7b-4a63-bdb3-d7ceb1606e35",
   "metadata": {},
   "outputs": [
    {
     "data": {
      "text/plain": [
       "array(['rrate', 'hrate', 'ventilation', 'vo2', 'vo2rel', 'vco2',\n",
       "       'vco2rel', 'rer', 'vo2eq', 'vo2pulse', 'fat', 'carb', 'fat100',\n",
       "       'carb100', 'energy', 'met'], dtype=object)"
      ]
     },
     "execution_count": 74,
     "metadata": {},
     "output_type": "execute_result"
    }
   ],
   "source": [
    "prepost_melt.param.unique()"
   ]
  },
  {
   "cell_type": "markdown",
   "id": "186f0f63-f0da-4452-9abe-1bd2266d64fc",
   "metadata": {},
   "source": [
    "# col_order = {lb : i for i, lb in enumerate(prepost_melt.param.unique())}"
   ]
  },
  {
   "cell_type": "code",
   "execution_count": 73,
   "id": "262f6f12-0e5b-487b-806e-2424a6fde20c",
   "metadata": {},
   "outputs": [],
   "source": [
    "col_order = {lb : i for i, lb in enumerate(prepost_melt.param.unique())}"
   ]
  },
  {
   "cell_type": "code",
   "execution_count": 97,
   "id": "7f1f452c-3073-4fc2-8059-c5cf2f3de75c",
   "metadata": {},
   "outputs": [],
   "source": [
    "prepost_pivot.sort_index(axis=1, level='param', key=lambda x: x.map(col_order), inplace=True)"
   ]
  },
  {
   "cell_type": "code",
   "execution_count": 117,
   "id": "e816c4f8-7be7-4796-91d8-976450079333",
   "metadata": {},
   "outputs": [],
   "source": [
    "prepost_pivot.insert(0,'ID','a')"
   ]
  },
  {
   "cell_type": "code",
   "execution_count": 132,
   "id": "5f068a07-5ce8-46e3-a32b-9f7695aa4176",
   "metadata": {},
   "outputs": [],
   "source": [
    "prepost_pivot.ID = pd.read_csv('key.csv').ID.values"
   ]
  },
  {
   "cell_type": "code",
   "execution_count": 134,
   "id": "f3e6e306-d5d9-45ce-b6e3-a4e626e6a8c1",
   "metadata": {},
   "outputs": [],
   "source": [
    "prepost_pivot.ID = prepost_pivot.ID.str.replace('a','')"
   ]
  },
  {
   "cell_type": "code",
   "execution_count": 138,
   "id": "054a2d79-f030-4f31-b4dd-d40b00cb5b57",
   "metadata": {},
   "outputs": [],
   "source": [
    "prepost_pivot.ID = prepost_pivot.ID.astype('int')"
   ]
  },
  {
   "cell_type": "code",
   "execution_count": 142,
   "id": "6b22fbaa-df29-4ca8-a4a3-c8271cd9219d",
   "metadata": {},
   "outputs": [],
   "source": [
    "prepost_pivot.sort_values(by='ID', ignore_index=False, inplace=True)"
   ]
  },
  {
   "cell_type": "code",
   "execution_count": 154,
   "id": "c1cc3f9e-f356-4a65-9ca3-9dceaa8a6b9d",
   "metadata": {},
   "outputs": [],
   "source": [
    "d = di.loc[(di.ID!='t29') & (di.Group!='Control'), 'Initials':'Sex']"
   ]
  },
  {
   "cell_type": "code",
   "execution_count": 203,
   "id": "4c28ef4a-df60-482d-8d5b-f9f8790cb4b3",
   "metadata": {},
   "outputs": [],
   "source": [
    "prepost_pivot = prepost_pivot_rc.copy()"
   ]
  },
  {
   "cell_type": "code",
   "execution_count": 205,
   "id": "5ec93d74-bd0a-4e20-8254-0eaa7b9e02b9",
   "metadata": {},
   "outputs": [],
   "source": [
    "prepost_pivot = prepost_pivot.reset_index()"
   ]
  },
  {
   "cell_type": "code",
   "execution_count": 208,
   "id": "1de0885d-0073-41be-b031-e9b71f14709b",
   "metadata": {},
   "outputs": [],
   "source": [
    "prepost_pivot.insert(2, 'fname', d.Name.values)"
   ]
  },
  {
   "cell_type": "code",
   "execution_count": 210,
   "id": "4332d489-9936-4c8a-81ea-bef87ac003e6",
   "metadata": {},
   "outputs": [],
   "source": [
    "prepost_pivot.insert(3, 'fID', d.ID.values)"
   ]
  },
  {
   "cell_type": "code",
   "execution_count": 212,
   "id": "4223935b-9582-4714-87f2-f719950d550f",
   "metadata": {},
   "outputs": [],
   "source": [
    "prepost_pivot.insert(5, 'location', d['Group (school)'].values)"
   ]
  },
  {
   "cell_type": "code",
   "execution_count": 218,
   "id": "68d7d23e-678c-4e32-b572-588a6ad250c6",
   "metadata": {},
   "outputs": [],
   "source": [
    "prepost_pivot.insert(6, 'group', d['Group'].values)"
   ]
  },
  {
   "cell_type": "code",
   "execution_count": 220,
   "id": "02e33247-cd8d-4fd1-b9fe-7c98a1d59e87",
   "metadata": {},
   "outputs": [],
   "source": [
    "prepost_pivot.insert(7, 'sex', d['Sex'].values)"
   ]
  },
  {
   "cell_type": "code",
   "execution_count": 222,
   "id": "0e00c07f-38f1-461c-9f8c-0044ba87df72",
   "metadata": {},
   "outputs": [
    {
     "name": "stderr",
     "output_type": "stream",
     "text": [
      "C:\\Users\\THW\\AppData\\Local\\Temp\\ipykernel_14608\\3940841191.py:1: PerformanceWarning: dropping on a non-lexsorted multi-index without a level parameter may impact performance.\n",
      "  prepost_pivot = prepost_pivot.drop(columns=['aeroscan_index', 'name', 'fname', 'ID'])\n"
     ]
    }
   ],
   "source": [
    "prepost_pivot = prepost_pivot.drop(columns=['aeroscan_index', 'name', 'fname', 'ID'])"
   ]
  },
  {
   "cell_type": "code",
   "execution_count": 242,
   "id": "4138d268-7dc4-4fbd-90bc-b5bfbae68200",
   "metadata": {},
   "outputs": [],
   "source": [
    "prepost_pivot_T = prepost_pivot.T.reset_index().copy()"
   ]
  },
  {
   "cell_type": "code",
   "execution_count": 244,
   "id": "ee24357e-f7de-4a21-88b9-5c455fbf0386",
   "metadata": {},
   "outputs": [],
   "source": [
    "prepost_pivot_T.insert(0,'c','c')"
   ]
  },
  {
   "cell_type": "code",
   "execution_count": 251,
   "id": "8f4acfbe-e72e-471d-a2e0-922ba6d7273a",
   "metadata": {},
   "outputs": [],
   "source": [
    "prepost_pivot_T.c = prepost_pivot_T.param + '_l' + prepost_pivot_T.level.astype('str') + '_' + prepost_pivot_T.time.str[0]"
   ]
  },
  {
   "cell_type": "code",
   "execution_count": 255,
   "id": "9a63226b-d011-4655-8615-5e92fb671893",
   "metadata": {},
   "outputs": [],
   "source": [
    "prepost_pivot_T = prepost_pivot_T.drop(columns=['param', 'level', 'time'])"
   ]
  },
  {
   "cell_type": "code",
   "execution_count": 262,
   "id": "fb949eef-01a2-4a0b-bb5b-c4d122fe4899",
   "metadata": {},
   "outputs": [],
   "source": [
    "prepost_pivot_T.loc[0:3, 'c'] = ['ID', 'location', 'group', 'sex']"
   ]
  },
  {
   "cell_type": "code",
   "execution_count": 265,
   "id": "bff43060-3895-440c-ae98-9913a51d73d5",
   "metadata": {},
   "outputs": [],
   "source": [
    "a_coded = prepost_pivot_T.T"
   ]
  },
  {
   "cell_type": "code",
   "execution_count": 267,
   "id": "485221a4-daf8-4a90-b22d-fb45d987fe2f",
   "metadata": {},
   "outputs": [],
   "source": [
    "a_coded.columns = a_coded.loc['c']"
   ]
  },
  {
   "cell_type": "code",
   "execution_count": 269,
   "id": "7b62fafc-da1b-4f52-86a0-33337ca5fb34",
   "metadata": {},
   "outputs": [],
   "source": [
    "a_coded = a_coded.drop(index='c')"
   ]
  },
  {
   "cell_type": "code",
   "execution_count": 303,
   "id": "730507d5-fbe2-4bcd-b6ca-626c49b9d57c",
   "metadata": {},
   "outputs": [
    {
     "data": {
      "text/plain": [
       "Index(['rrate_l1_f', 'rrate_l1_i', 'rrate_l2_f', 'rrate_l2_i', 'rrate_l3_f',\n",
       "       'rrate_l3_i', 'hrate_l1_f', 'hrate_l1_i', 'hrate_l2_f', 'hrate_l2_i',\n",
       "       'hrate_l3_f', 'hrate_l3_i', 'ventilation_l1_f', 'ventilation_l1_i',\n",
       "       'ventilation_l2_f', 'ventilation_l2_i', 'ventilation_l3_f',\n",
       "       'ventilation_l3_i', 'vo2_l1_f', 'vo2_l1_i', 'vo2_l2_f', 'vo2_l2_i',\n",
       "       'vo2_l3_f', 'vo2_l3_i', 'vo2rel_l1_f', 'vo2rel_l1_i', 'vo2rel_l2_f',\n",
       "       'vo2rel_l2_i', 'vo2rel_l3_f', 'vo2rel_l3_i', 'vco2_l1_f', 'vco2_l1_i',\n",
       "       'vco2_l2_f', 'vco2_l2_i', 'vco2_l3_f', 'vco2_l3_i', 'vco2rel_l1_f',\n",
       "       'vco2rel_l1_i', 'vco2rel_l2_f', 'vco2rel_l2_i', 'vco2rel_l3_f',\n",
       "       'vco2rel_l3_i', 'rer_l1_f', 'rer_l1_i', 'rer_l2_f', 'rer_l2_i',\n",
       "       'rer_l3_f', 'rer_l3_i', 'vo2eq_l1_f', 'vo2eq_l1_i', 'vo2eq_l2_f',\n",
       "       'vo2eq_l2_i', 'vo2eq_l3_f', 'vo2eq_l3_i', 'vo2pulse_l1_f',\n",
       "       'vo2pulse_l1_i', 'vo2pulse_l2_f', 'vo2pulse_l2_i', 'vo2pulse_l3_f',\n",
       "       'vo2pulse_l3_i', 'fat_l1_f', 'fat_l1_i', 'fat_l2_f', 'fat_l2_i',\n",
       "       'fat_l3_f', 'fat_l3_i', 'carb_l1_f', 'carb_l1_i', 'carb_l2_f',\n",
       "       'carb_l2_i', 'carb_l3_f', 'carb_l3_i', 'fat100_l1_f', 'fat100_l1_i',\n",
       "       'fat100_l2_f', 'fat100_l2_i', 'fat100_l3_f', 'fat100_l3_i',\n",
       "       'carb100_l1_f', 'carb100_l1_i', 'carb100_l2_f', 'carb100_l2_i',\n",
       "       'carb100_l3_f', 'carb100_l3_i', 'energy_l1_f', 'energy_l1_i',\n",
       "       'energy_l2_f', 'energy_l2_i', 'energy_l3_f', 'energy_l3_i', 'met_l1_f',\n",
       "       'met_l1_i', 'met_l2_f', 'met_l2_i', 'met_l3_f', 'met_l3_i'],\n",
       "      dtype='object', name='c')"
      ]
     },
     "execution_count": 303,
     "metadata": {},
     "output_type": "execute_result"
    }
   ],
   "source": [
    "a_coded.columns[4:]"
   ]
  },
  {
   "cell_type": "code",
   "execution_count": 320,
   "id": "98510925-c6e3-4922-9a67-edd2498fa601",
   "metadata": {},
   "outputs": [],
   "source": [
    "a_melt = a_coded.melt(id_vars=['ID', 'sex', 'location'],\n",
    "                      value_vars=a_coded.columns[4:].to_list(),\n",
    "                      var_name='parameter',\n",
    "                      value_name='value', ignore_index=True)"
   ]
  },
  {
   "cell_type": "code",
   "execution_count": 322,
   "id": "6735ade4-a573-4948-bb94-39bade1a3df3",
   "metadata": {},
   "outputs": [],
   "source": [
    "a_melt.insert(3,'time','t')"
   ]
  },
  {
   "cell_type": "code",
   "execution_count": 323,
   "id": "9e279bb3-98f6-4e7e-903f-dcc2ef0cb1e5",
   "metadata": {},
   "outputs": [],
   "source": [
    "a_melt.insert(4,'level','l')"
   ]
  },
  {
   "cell_type": "code",
   "execution_count": 327,
   "id": "7516ac7d-d17f-4518-91cb-8b85ebe4f5b4",
   "metadata": {},
   "outputs": [],
   "source": [
    "a_melt.time = a_melt.parameter.str[-1]"
   ]
  },
  {
   "cell_type": "code",
   "execution_count": 330,
   "id": "e0489c68-f4f9-4010-8a10-60ef254ee82d",
   "metadata": {},
   "outputs": [],
   "source": [
    "a_melt.level = a_melt.parameter.str[-3]"
   ]
  },
  {
   "cell_type": "code",
   "execution_count": 334,
   "id": "5b2b31eb-76cc-4d61-b9db-3120090b3843",
   "metadata": {},
   "outputs": [],
   "source": [
    "a_melt.parameter = a_melt.parameter.str[:-5]"
   ]
  },
  {
   "cell_type": "code",
   "execution_count": 338,
   "id": "d4f1ebb2-f090-45fe-9b00-7836812efad2",
   "metadata": {},
   "outputs": [
    {
     "data": {
      "text/html": [
       "<div>\n",
       "<style scoped>\n",
       "    .dataframe tbody tr th:only-of-type {\n",
       "        vertical-align: middle;\n",
       "    }\n",
       "\n",
       "    .dataframe tbody tr th {\n",
       "        vertical-align: top;\n",
       "    }\n",
       "\n",
       "    .dataframe thead th {\n",
       "        text-align: right;\n",
       "    }\n",
       "</style>\n",
       "<table border=\"1\" class=\"dataframe\">\n",
       "  <thead>\n",
       "    <tr style=\"text-align: right;\">\n",
       "      <th></th>\n",
       "      <th>ID</th>\n",
       "      <th>sex</th>\n",
       "      <th>location</th>\n",
       "      <th>time</th>\n",
       "      <th>level</th>\n",
       "      <th>parameter</th>\n",
       "      <th>value</th>\n",
       "    </tr>\n",
       "  </thead>\n",
       "  <tbody>\n",
       "    <tr>\n",
       "      <th>0</th>\n",
       "      <td>t1</td>\n",
       "      <td>f</td>\n",
       "      <td>Jurilovca</td>\n",
       "      <td>f</td>\n",
       "      <td>1</td>\n",
       "      <td>rrate</td>\n",
       "      <td>20.690417</td>\n",
       "    </tr>\n",
       "    <tr>\n",
       "      <th>1</th>\n",
       "      <td>t2</td>\n",
       "      <td>m</td>\n",
       "      <td>Baia</td>\n",
       "      <td>f</td>\n",
       "      <td>1</td>\n",
       "      <td>rrate</td>\n",
       "      <td>38.483108</td>\n",
       "    </tr>\n",
       "    <tr>\n",
       "      <th>2</th>\n",
       "      <td>t3</td>\n",
       "      <td>f</td>\n",
       "      <td>Jurilovca</td>\n",
       "      <td>f</td>\n",
       "      <td>1</td>\n",
       "      <td>rrate</td>\n",
       "      <td>34.786918</td>\n",
       "    </tr>\n",
       "    <tr>\n",
       "      <th>3</th>\n",
       "      <td>t4</td>\n",
       "      <td>f</td>\n",
       "      <td>Baia</td>\n",
       "      <td>f</td>\n",
       "      <td>1</td>\n",
       "      <td>rrate</td>\n",
       "      <td>21.148</td>\n",
       "    </tr>\n",
       "    <tr>\n",
       "      <th>4</th>\n",
       "      <td>t5</td>\n",
       "      <td>m</td>\n",
       "      <td>Jurilovca</td>\n",
       "      <td>f</td>\n",
       "      <td>1</td>\n",
       "      <td>rrate</td>\n",
       "      <td>29.927656</td>\n",
       "    </tr>\n",
       "    <tr>\n",
       "      <th>...</th>\n",
       "      <td>...</td>\n",
       "      <td>...</td>\n",
       "      <td>...</td>\n",
       "      <td>...</td>\n",
       "      <td>...</td>\n",
       "      <td>...</td>\n",
       "      <td>...</td>\n",
       "    </tr>\n",
       "    <tr>\n",
       "      <th>3739</th>\n",
       "      <td>t36</td>\n",
       "      <td>m</td>\n",
       "      <td>Baia</td>\n",
       "      <td>i</td>\n",
       "      <td>3</td>\n",
       "      <td>met</td>\n",
       "      <td>4.550712</td>\n",
       "    </tr>\n",
       "    <tr>\n",
       "      <th>3740</th>\n",
       "      <td>t37</td>\n",
       "      <td>m</td>\n",
       "      <td>Jurilovca</td>\n",
       "      <td>i</td>\n",
       "      <td>3</td>\n",
       "      <td>met</td>\n",
       "      <td>3.217695</td>\n",
       "    </tr>\n",
       "    <tr>\n",
       "      <th>3741</th>\n",
       "      <td>t38</td>\n",
       "      <td>m</td>\n",
       "      <td>Jurilovca</td>\n",
       "      <td>i</td>\n",
       "      <td>3</td>\n",
       "      <td>met</td>\n",
       "      <td>6.790791</td>\n",
       "    </tr>\n",
       "    <tr>\n",
       "      <th>3742</th>\n",
       "      <td>t39</td>\n",
       "      <td>m</td>\n",
       "      <td>Baia</td>\n",
       "      <td>i</td>\n",
       "      <td>3</td>\n",
       "      <td>met</td>\n",
       "      <td>7.371199</td>\n",
       "    </tr>\n",
       "    <tr>\n",
       "      <th>3743</th>\n",
       "      <td>t40</td>\n",
       "      <td>f</td>\n",
       "      <td>Jurilovca</td>\n",
       "      <td>i</td>\n",
       "      <td>3</td>\n",
       "      <td>met</td>\n",
       "      <td>0.0</td>\n",
       "    </tr>\n",
       "  </tbody>\n",
       "</table>\n",
       "<p>3744 rows × 7 columns</p>\n",
       "</div>"
      ],
      "text/plain": [
       "       ID sex   location time level parameter      value\n",
       "0      t1   f  Jurilovca    f     1     rrate  20.690417\n",
       "1      t2   m       Baia    f     1     rrate  38.483108\n",
       "2      t3   f  Jurilovca    f     1     rrate  34.786918\n",
       "3      t4   f       Baia    f     1     rrate     21.148\n",
       "4      t5   m  Jurilovca    f     1     rrate  29.927656\n",
       "...   ...  ..        ...  ...   ...       ...        ...\n",
       "3739  t36   m       Baia    i     3       met   4.550712\n",
       "3740  t37   m  Jurilovca    i     3       met   3.217695\n",
       "3741  t38   m  Jurilovca    i     3       met   6.790791\n",
       "3742  t39   m       Baia    i     3       met   7.371199\n",
       "3743  t40   f  Jurilovca    i     3       met        0.0\n",
       "\n",
       "[3744 rows x 7 columns]"
      ]
     },
     "execution_count": 338,
     "metadata": {},
     "output_type": "execute_result"
    }
   ],
   "source": [
    "a_melt"
   ]
  },
  {
   "cell_type": "code",
   "execution_count": 346,
   "id": "480473b3-f911-4c55-a1ce-a0893be2efba",
   "metadata": {},
   "outputs": [],
   "source": [
    "a_pivot = a_melt.pivot(columns='parameter',\n",
    "                       index=['ID', 'sex', 'location', 'level', 'time'],\n",
    "                       values='value').reset_index()"
   ]
  },
  {
   "cell_type": "code",
   "execution_count": 355,
   "id": "34f65c91-c7b5-46a1-bbb0-f719e93a0766",
   "metadata": {},
   "outputs": [],
   "source": [
    "a_pivot.columns = ['ID', 'sex', 'location', 'level', 'time', 'rrate',\n",
    "                   'hrate', 'ventilation', 'vo2', 'vo2rel', 'vco2', \n",
    "                   'vco2rel', 'rer', 'vo2eq', 'vo2pulse', 'fat', 'carb',\n",
    "                   'fat100', 'carb100', 'energy', 'met']"
   ]
  },
  {
   "cell_type": "code",
   "execution_count": 361,
   "id": "62fa253b-b8c8-4d8d-ba77-14ecf3ab603b",
   "metadata": {},
   "outputs": [
    {
     "data": {
      "text/html": [
       "<div>\n",
       "<style scoped>\n",
       "    .dataframe tbody tr th:only-of-type {\n",
       "        vertical-align: middle;\n",
       "    }\n",
       "\n",
       "    .dataframe tbody tr th {\n",
       "        vertical-align: top;\n",
       "    }\n",
       "\n",
       "    .dataframe thead th {\n",
       "        text-align: right;\n",
       "    }\n",
       "</style>\n",
       "<table border=\"1\" class=\"dataframe\">\n",
       "  <thead>\n",
       "    <tr style=\"text-align: right;\">\n",
       "      <th></th>\n",
       "      <th>ID</th>\n",
       "      <th>sex</th>\n",
       "      <th>location</th>\n",
       "      <th>level</th>\n",
       "      <th>time</th>\n",
       "      <th>rrate</th>\n",
       "      <th>hrate</th>\n",
       "      <th>ventilation</th>\n",
       "      <th>vo2</th>\n",
       "      <th>vo2rel</th>\n",
       "      <th>...</th>\n",
       "      <th>vco2rel</th>\n",
       "      <th>rer</th>\n",
       "      <th>vo2eq</th>\n",
       "      <th>vo2pulse</th>\n",
       "      <th>fat</th>\n",
       "      <th>carb</th>\n",
       "      <th>fat100</th>\n",
       "      <th>carb100</th>\n",
       "      <th>energy</th>\n",
       "      <th>met</th>\n",
       "    </tr>\n",
       "  </thead>\n",
       "  <tbody>\n",
       "    <tr>\n",
       "      <th>0</th>\n",
       "      <td>t1</td>\n",
       "      <td>f</td>\n",
       "      <td>Jurilovca</td>\n",
       "      <td>1</td>\n",
       "      <td>f</td>\n",
       "      <td>312.105589</td>\n",
       "      <td>100.0</td>\n",
       "      <td>312.105589</td>\n",
       "      <td>0.0</td>\n",
       "      <td>0.0</td>\n",
       "      <td>...</td>\n",
       "      <td>4.193055</td>\n",
       "      <td>1.111431</td>\n",
       "      <td>20.690417</td>\n",
       "      <td>1.141771</td>\n",
       "      <td>16.311019</td>\n",
       "      <td>30.818651</td>\n",
       "      <td>1.027298</td>\n",
       "      <td>29.999704</td>\n",
       "      <td>7.215153</td>\n",
       "      <td>14.675693</td>\n",
       "    </tr>\n",
       "    <tr>\n",
       "      <th>1</th>\n",
       "      <td>t1</td>\n",
       "      <td>f</td>\n",
       "      <td>Jurilovca</td>\n",
       "      <td>1</td>\n",
       "      <td>i</td>\n",
       "      <td>295.490776</td>\n",
       "      <td>100.0</td>\n",
       "      <td>295.490776</td>\n",
       "      <td>0.0</td>\n",
       "      <td>0.0</td>\n",
       "      <td>...</td>\n",
       "      <td>3.96984</td>\n",
       "      <td>1.039256</td>\n",
       "      <td>32.180108</td>\n",
       "      <td>1.010792</td>\n",
       "      <td>14.439885</td>\n",
       "      <td>27.053411</td>\n",
       "      <td>0.972611</td>\n",
       "      <td>27.815252</td>\n",
       "      <td>6.049532</td>\n",
       "      <td>13.894438</td>\n",
       "    </tr>\n",
       "    <tr>\n",
       "      <th>2</th>\n",
       "      <td>t1</td>\n",
       "      <td>f</td>\n",
       "      <td>Jurilovca</td>\n",
       "      <td>2</td>\n",
       "      <td>f</td>\n",
       "      <td>310.296048</td>\n",
       "      <td>100.0</td>\n",
       "      <td>310.296048</td>\n",
       "      <td>0.0</td>\n",
       "      <td>0.0</td>\n",
       "      <td>...</td>\n",
       "      <td>4.168744</td>\n",
       "      <td>1.167976</td>\n",
       "      <td>19.582856</td>\n",
       "      <td>1.192903</td>\n",
       "      <td>17.041474</td>\n",
       "      <td>30.663501</td>\n",
       "      <td>1.021342</td>\n",
       "      <td>30.022744</td>\n",
       "      <td>7.075416</td>\n",
       "      <td>14.590605</td>\n",
       "    </tr>\n",
       "    <tr>\n",
       "      <th>3</th>\n",
       "      <td>t1</td>\n",
       "      <td>f</td>\n",
       "      <td>Jurilovca</td>\n",
       "      <td>2</td>\n",
       "      <td>i</td>\n",
       "      <td>272.761093</td>\n",
       "      <td>100.0</td>\n",
       "      <td>272.761093</td>\n",
       "      <td>0.0</td>\n",
       "      <td>0.0</td>\n",
       "      <td>...</td>\n",
       "      <td>3.664472</td>\n",
       "      <td>1.061712</td>\n",
       "      <td>33.828897</td>\n",
       "      <td>0.9532</td>\n",
       "      <td>13.617147</td>\n",
       "      <td>25.654067</td>\n",
       "      <td>0.897796</td>\n",
       "      <td>28.574504</td>\n",
       "      <td>5.349479</td>\n",
       "      <td>12.825653</td>\n",
       "    </tr>\n",
       "    <tr>\n",
       "      <th>4</th>\n",
       "      <td>t1</td>\n",
       "      <td>f</td>\n",
       "      <td>Jurilovca</td>\n",
       "      <td>3</td>\n",
       "      <td>f</td>\n",
       "      <td>325.401693</td>\n",
       "      <td>100.0</td>\n",
       "      <td>325.401693</td>\n",
       "      <td>0.0</td>\n",
       "      <td>0.0</td>\n",
       "      <td>...</td>\n",
       "      <td>4.371685</td>\n",
       "      <td>1.203862</td>\n",
       "      <td>20.252536</td>\n",
       "      <td>1.289412</td>\n",
       "      <td>18.420167</td>\n",
       "      <td>32.974861</td>\n",
       "      <td>1.071063</td>\n",
       "      <td>30.787048</td>\n",
       "      <td>6.822564</td>\n",
       "      <td>15.300896</td>\n",
       "    </tr>\n",
       "    <tr>\n",
       "      <th>...</th>\n",
       "      <td>...</td>\n",
       "      <td>...</td>\n",
       "      <td>...</td>\n",
       "      <td>...</td>\n",
       "      <td>...</td>\n",
       "      <td>...</td>\n",
       "      <td>...</td>\n",
       "      <td>...</td>\n",
       "      <td>...</td>\n",
       "      <td>...</td>\n",
       "      <td>...</td>\n",
       "      <td>...</td>\n",
       "      <td>...</td>\n",
       "      <td>...</td>\n",
       "      <td>...</td>\n",
       "      <td>...</td>\n",
       "      <td>...</td>\n",
       "      <td>...</td>\n",
       "      <td>...</td>\n",
       "      <td>...</td>\n",
       "      <td>...</td>\n",
       "    </tr>\n",
       "    <tr>\n",
       "      <th>229</th>\n",
       "      <td>t9</td>\n",
       "      <td>m</td>\n",
       "      <td>Baia</td>\n",
       "      <td>1</td>\n",
       "      <td>i</td>\n",
       "      <td>113.725026</td>\n",
       "      <td>43.363773</td>\n",
       "      <td>262.25814</td>\n",
       "      <td>148.533114</td>\n",
       "      <td>56.636227</td>\n",
       "      <td>...</td>\n",
       "      <td>3.519613</td>\n",
       "      <td>0.830091</td>\n",
       "      <td>32.831139</td>\n",
       "      <td>0.746469</td>\n",
       "      <td>10.2256</td>\n",
       "      <td>21.064423</td>\n",
       "      <td>0.899261</td>\n",
       "      <td>23.424147</td>\n",
       "      <td>6.533456</td>\n",
       "      <td>12.318645</td>\n",
       "    </tr>\n",
       "    <tr>\n",
       "      <th>230</th>\n",
       "      <td>t9</td>\n",
       "      <td>m</td>\n",
       "      <td>Baia</td>\n",
       "      <td>2</td>\n",
       "      <td>f</td>\n",
       "      <td>457.241019</td>\n",
       "      <td>100.0</td>\n",
       "      <td>457.241019</td>\n",
       "      <td>0.0</td>\n",
       "      <td>0.0</td>\n",
       "      <td>...</td>\n",
       "      <td>5.890462</td>\n",
       "      <td>1.009178</td>\n",
       "      <td>48.252646</td>\n",
       "      <td>1.518826</td>\n",
       "      <td>20.805837</td>\n",
       "      <td>41.27395</td>\n",
       "      <td>1.505013</td>\n",
       "      <td>27.424312</td>\n",
       "      <td>10.471656</td>\n",
       "      <td>20.616618</td>\n",
       "    </tr>\n",
       "    <tr>\n",
       "      <th>231</th>\n",
       "      <td>t9</td>\n",
       "      <td>m</td>\n",
       "      <td>Baia</td>\n",
       "      <td>2</td>\n",
       "      <td>i</td>\n",
       "      <td>180.781293</td>\n",
       "      <td>55.432324</td>\n",
       "      <td>326.129741</td>\n",
       "      <td>145.348447</td>\n",
       "      <td>44.567676</td>\n",
       "      <td>...</td>\n",
       "      <td>4.338205</td>\n",
       "      <td>0.866297</td>\n",
       "      <td>28.080595</td>\n",
       "      <td>0.960213</td>\n",
       "      <td>13.15361</td>\n",
       "      <td>24.315601</td>\n",
       "      <td>1.108411</td>\n",
       "      <td>21.937341</td>\n",
       "      <td>7.517315</td>\n",
       "      <td>15.183719</td>\n",
       "    </tr>\n",
       "    <tr>\n",
       "      <th>232</th>\n",
       "      <td>t9</td>\n",
       "      <td>m</td>\n",
       "      <td>Baia</td>\n",
       "      <td>3</td>\n",
       "      <td>f</td>\n",
       "      <td>492.611619</td>\n",
       "      <td>100.0</td>\n",
       "      <td>492.611619</td>\n",
       "      <td>0.0</td>\n",
       "      <td>0.0</td>\n",
       "      <td>...</td>\n",
       "      <td>6.346128</td>\n",
       "      <td>1.025595</td>\n",
       "      <td>47.998615</td>\n",
       "      <td>1.662937</td>\n",
       "      <td>22.779955</td>\n",
       "      <td>43.73057</td>\n",
       "      <td>1.621436</td>\n",
       "      <td>26.970276</td>\n",
       "      <td>10.170433</td>\n",
       "      <td>22.211449</td>\n",
       "    </tr>\n",
       "    <tr>\n",
       "      <th>233</th>\n",
       "      <td>t9</td>\n",
       "      <td>m</td>\n",
       "      <td>Baia</td>\n",
       "      <td>3</td>\n",
       "      <td>i</td>\n",
       "      <td>185.104766</td>\n",
       "      <td>60.381344</td>\n",
       "      <td>306.559532</td>\n",
       "      <td>121.454766</td>\n",
       "      <td>39.618656</td>\n",
       "      <td>...</td>\n",
       "      <td>4.06319</td>\n",
       "      <td>0.881144</td>\n",
       "      <td>29.797574</td>\n",
       "      <td>0.914755</td>\n",
       "      <td>12.530893</td>\n",
       "      <td>23.550624</td>\n",
       "      <td>1.038145</td>\n",
       "      <td>22.685295</td>\n",
       "      <td>7.08628</td>\n",
       "      <td>14.221164</td>\n",
       "    </tr>\n",
       "  </tbody>\n",
       "</table>\n",
       "<p>234 rows × 21 columns</p>\n",
       "</div>"
      ],
      "text/plain": [
       "     ID sex   location level time       rrate      hrate ventilation  \\\n",
       "0    t1   f  Jurilovca     1    f  312.105589      100.0  312.105589   \n",
       "1    t1   f  Jurilovca     1    i  295.490776      100.0  295.490776   \n",
       "2    t1   f  Jurilovca     2    f  310.296048      100.0  310.296048   \n",
       "3    t1   f  Jurilovca     2    i  272.761093      100.0  272.761093   \n",
       "4    t1   f  Jurilovca     3    f  325.401693      100.0  325.401693   \n",
       "..   ..  ..        ...   ...  ...         ...        ...         ...   \n",
       "229  t9   m       Baia     1    i  113.725026  43.363773   262.25814   \n",
       "230  t9   m       Baia     2    f  457.241019      100.0  457.241019   \n",
       "231  t9   m       Baia     2    i  180.781293  55.432324  326.129741   \n",
       "232  t9   m       Baia     3    f  492.611619      100.0  492.611619   \n",
       "233  t9   m       Baia     3    i  185.104766  60.381344  306.559532   \n",
       "\n",
       "            vo2     vo2rel  ...   vco2rel       rer      vo2eq  vo2pulse  \\\n",
       "0           0.0        0.0  ...  4.193055  1.111431  20.690417  1.141771   \n",
       "1           0.0        0.0  ...   3.96984  1.039256  32.180108  1.010792   \n",
       "2           0.0        0.0  ...  4.168744  1.167976  19.582856  1.192903   \n",
       "3           0.0        0.0  ...  3.664472  1.061712  33.828897    0.9532   \n",
       "4           0.0        0.0  ...  4.371685  1.203862  20.252536  1.289412   \n",
       "..          ...        ...  ...       ...       ...        ...       ...   \n",
       "229  148.533114  56.636227  ...  3.519613  0.830091  32.831139  0.746469   \n",
       "230         0.0        0.0  ...  5.890462  1.009178  48.252646  1.518826   \n",
       "231  145.348447  44.567676  ...  4.338205  0.866297  28.080595  0.960213   \n",
       "232         0.0        0.0  ...  6.346128  1.025595  47.998615  1.662937   \n",
       "233  121.454766  39.618656  ...   4.06319  0.881144  29.797574  0.914755   \n",
       "\n",
       "           fat       carb    fat100    carb100     energy        met  \n",
       "0    16.311019  30.818651  1.027298  29.999704   7.215153  14.675693  \n",
       "1    14.439885  27.053411  0.972611  27.815252   6.049532  13.894438  \n",
       "2    17.041474  30.663501  1.021342  30.022744   7.075416  14.590605  \n",
       "3    13.617147  25.654067  0.897796  28.574504   5.349479  12.825653  \n",
       "4    18.420167  32.974861  1.071063  30.787048   6.822564  15.300896  \n",
       "..         ...        ...       ...        ...        ...        ...  \n",
       "229    10.2256  21.064423  0.899261  23.424147   6.533456  12.318645  \n",
       "230  20.805837   41.27395  1.505013  27.424312  10.471656  20.616618  \n",
       "231   13.15361  24.315601  1.108411  21.937341   7.517315  15.183719  \n",
       "232  22.779955   43.73057  1.621436  26.970276  10.170433  22.211449  \n",
       "233  12.530893  23.550624  1.038145  22.685295    7.08628  14.221164  \n",
       "\n",
       "[234 rows x 21 columns]"
      ]
     },
     "execution_count": 361,
     "metadata": {},
     "output_type": "execute_result"
    }
   ],
   "source": [
    "a_pivot"
   ]
  },
  {
   "cell_type": "code",
   "execution_count": 362,
   "id": "a235ad61-af0b-4a42-a4d2-d3bc889178b8",
   "metadata": {},
   "outputs": [
    {
     "data": {
      "text/plain": [
       "Index(['ID', 'sex', 'location', 'level', 'time', 'rrate', 'hrate',\n",
       "       'ventilation', 'vo2', 'vo2rel', 'vco2', 'vco2rel', 'rer', 'vo2eq',\n",
       "       'vo2pulse', 'fat', 'carb', 'fat100', 'carb100', 'energy', 'met'],\n",
       "      dtype='object')"
      ]
     },
     "execution_count": 362,
     "metadata": {},
     "output_type": "execute_result"
    }
   ],
   "source": [
    "a_pivot.columns"
   ]
  }
 ],
 "metadata": {
  "kernelspec": {
   "display_name": "venvstats",
   "language": "python",
   "name": "venvstats"
  },
  "language_info": {
   "codemirror_mode": {
    "name": "ipython",
    "version": 3
   },
   "file_extension": ".py",
   "mimetype": "text/x-python",
   "name": "python",
   "nbconvert_exporter": "python",
   "pygments_lexer": "ipython3",
   "version": "3.9.13"
  }
 },
 "nbformat": 4,
 "nbformat_minor": 5
}
