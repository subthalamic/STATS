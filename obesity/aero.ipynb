{
 "cells": [
  {
   "cell_type": "code",
   "execution_count": 1,
   "id": "deb92983-5dfc-4ee2-8372-4a5a033cc6e9",
   "metadata": {},
   "outputs": [],
   "source": [
    "import pandas as pd\n",
    "import numpy as np\n",
    "from scipy import stats as st\n",
    "import statsmodels.api as sm\n",
    "from statsmodels.stats.anova import AnovaRM\n",
    "import seaborn as sns\n",
    "import matplotlib.pyplot as plt\n",
    "import matplotlib as mpl\n",
    "mpl.rcParams['pdf.fonttype'] = 42"
   ]
  },
  {
   "cell_type": "code",
   "execution_count": 2,
   "id": "972fa785-cdf3-475b-8486-e4206625ff07",
   "metadata": {},
   "outputs": [],
   "source": [
    "def cohen_glass_hedges(x,y):\n",
    "    nx = len(x)\n",
    "    ny = len(y)\n",
    "    pstdnmr = (nx-1)*x.var(ddof=1) + (ny-1)*y.var(ddof=1)   # (n-1)(var1+var2)\n",
    "    pstddnm = nx + ny - 2                                   # (n-1)*2\n",
    "    pstd = (pstdnmr / pstddnm)**(0.5)\n",
    "    cohen = (x.mean() - y.mean()) / pstd\n",
    "    glass = (x.mean() - y.mean()) / x.std(ddof=1)\n",
    "    hedges = cohen * (1 - 3/(4 * (nx+ny) - 9) )             # cohen * (1-3/(8*n-9))\n",
    "    return (cohen, glass, hedges)"
   ]
  },
  {
   "cell_type": "code",
   "execution_count": 3,
   "id": "ad5e3cf5-15e2-4e08-981c-14c6c0f686fe",
   "metadata": {},
   "outputs": [],
   "source": [
    "am = pd.read_csv('aeroscan_full_melt.csv')\n",
    "ap = pd.read_csv('aeroscan_full_pivot.csv')"
   ]
  },
  {
   "cell_type": "code",
   "execution_count": 4,
   "id": "5cfdfec1-9e3e-4b4e-810a-9675dec9cc3f",
   "metadata": {},
   "outputs": [
    {
     "data": {
      "text/html": [
       "<div>\n",
       "<style scoped>\n",
       "    .dataframe tbody tr th:only-of-type {\n",
       "        vertical-align: middle;\n",
       "    }\n",
       "\n",
       "    .dataframe tbody tr th {\n",
       "        vertical-align: top;\n",
       "    }\n",
       "\n",
       "    .dataframe thead th {\n",
       "        text-align: right;\n",
       "    }\n",
       "</style>\n",
       "<table border=\"1\" class=\"dataframe\">\n",
       "  <thead>\n",
       "    <tr style=\"text-align: right;\">\n",
       "      <th></th>\n",
       "      <th>ID</th>\n",
       "      <th>sex</th>\n",
       "      <th>location</th>\n",
       "      <th>time</th>\n",
       "      <th>level</th>\n",
       "      <th>parameter</th>\n",
       "      <th>value</th>\n",
       "    </tr>\n",
       "  </thead>\n",
       "  <tbody>\n",
       "    <tr>\n",
       "      <th>0</th>\n",
       "      <td>t1</td>\n",
       "      <td>f</td>\n",
       "      <td>Jurilovca</td>\n",
       "      <td>f</td>\n",
       "      <td>1</td>\n",
       "      <td>rrate</td>\n",
       "      <td>20.690417</td>\n",
       "    </tr>\n",
       "    <tr>\n",
       "      <th>1</th>\n",
       "      <td>t2</td>\n",
       "      <td>m</td>\n",
       "      <td>Baia</td>\n",
       "      <td>f</td>\n",
       "      <td>1</td>\n",
       "      <td>rrate</td>\n",
       "      <td>38.483108</td>\n",
       "    </tr>\n",
       "    <tr>\n",
       "      <th>2</th>\n",
       "      <td>t3</td>\n",
       "      <td>f</td>\n",
       "      <td>Jurilovca</td>\n",
       "      <td>f</td>\n",
       "      <td>1</td>\n",
       "      <td>rrate</td>\n",
       "      <td>34.786918</td>\n",
       "    </tr>\n",
       "  </tbody>\n",
       "</table>\n",
       "</div>"
      ],
      "text/plain": [
       "   ID sex   location time  level parameter      value\n",
       "0  t1   f  Jurilovca    f      1     rrate  20.690417\n",
       "1  t2   m       Baia    f      1     rrate  38.483108\n",
       "2  t3   f  Jurilovca    f      1     rrate  34.786918"
      ]
     },
     "execution_count": 4,
     "metadata": {},
     "output_type": "execute_result"
    }
   ],
   "source": [
    "am.head(3)"
   ]
  },
  {
   "cell_type": "code",
   "execution_count": 5,
   "id": "f649b7c2-5a8b-4b51-815e-70d84a11ff34",
   "metadata": {},
   "outputs": [
    {
     "data": {
      "text/html": [
       "<div>\n",
       "<style scoped>\n",
       "    .dataframe tbody tr th:only-of-type {\n",
       "        vertical-align: middle;\n",
       "    }\n",
       "\n",
       "    .dataframe tbody tr th {\n",
       "        vertical-align: top;\n",
       "    }\n",
       "\n",
       "    .dataframe thead th {\n",
       "        text-align: right;\n",
       "    }\n",
       "</style>\n",
       "<table border=\"1\" class=\"dataframe\">\n",
       "  <thead>\n",
       "    <tr style=\"text-align: right;\">\n",
       "      <th></th>\n",
       "      <th>ID</th>\n",
       "      <th>sex</th>\n",
       "      <th>location</th>\n",
       "      <th>time</th>\n",
       "      <th>level</th>\n",
       "      <th>rrate</th>\n",
       "      <th>hrate</th>\n",
       "      <th>ventilation</th>\n",
       "      <th>vo2</th>\n",
       "      <th>vo2rel</th>\n",
       "      <th>...</th>\n",
       "      <th>vco2rel</th>\n",
       "      <th>rer</th>\n",
       "      <th>vo2eq</th>\n",
       "      <th>vo2pulse</th>\n",
       "      <th>fat</th>\n",
       "      <th>carb</th>\n",
       "      <th>fat100</th>\n",
       "      <th>carb100</th>\n",
       "      <th>energy</th>\n",
       "      <th>met</th>\n",
       "    </tr>\n",
       "  </thead>\n",
       "  <tbody>\n",
       "    <tr>\n",
       "      <th>0</th>\n",
       "      <td>t1</td>\n",
       "      <td>f</td>\n",
       "      <td>Jurilovca</td>\n",
       "      <td>f</td>\n",
       "      <td>1</td>\n",
       "      <td>20.690417</td>\n",
       "      <td>142.380702</td>\n",
       "      <td>30.818651</td>\n",
       "      <td>1.027298</td>\n",
       "      <td>14.675693</td>\n",
       "      <td>...</td>\n",
       "      <td>16.311019</td>\n",
       "      <td>1.111431</td>\n",
       "      <td>29.999704</td>\n",
       "      <td>7.215153</td>\n",
       "      <td>0.0</td>\n",
       "      <td>312.105589</td>\n",
       "      <td>0.0</td>\n",
       "      <td>100.0</td>\n",
       "      <td>312.105589</td>\n",
       "      <td>4.193055</td>\n",
       "    </tr>\n",
       "    <tr>\n",
       "      <th>1</th>\n",
       "      <td>t1</td>\n",
       "      <td>f</td>\n",
       "      <td>Jurilovca</td>\n",
       "      <td>f</td>\n",
       "      <td>2</td>\n",
       "      <td>19.582856</td>\n",
       "      <td>144.350852</td>\n",
       "      <td>30.663501</td>\n",
       "      <td>1.021342</td>\n",
       "      <td>14.590605</td>\n",
       "      <td>...</td>\n",
       "      <td>17.041474</td>\n",
       "      <td>1.167976</td>\n",
       "      <td>30.022744</td>\n",
       "      <td>7.075416</td>\n",
       "      <td>0.0</td>\n",
       "      <td>310.296048</td>\n",
       "      <td>0.0</td>\n",
       "      <td>100.0</td>\n",
       "      <td>310.296048</td>\n",
       "      <td>4.168744</td>\n",
       "    </tr>\n",
       "    <tr>\n",
       "      <th>2</th>\n",
       "      <td>t1</td>\n",
       "      <td>f</td>\n",
       "      <td>Jurilovca</td>\n",
       "      <td>f</td>\n",
       "      <td>3</td>\n",
       "      <td>20.252536</td>\n",
       "      <td>156.988301</td>\n",
       "      <td>32.974861</td>\n",
       "      <td>1.071063</td>\n",
       "      <td>15.300896</td>\n",
       "      <td>...</td>\n",
       "      <td>18.420167</td>\n",
       "      <td>1.203862</td>\n",
       "      <td>30.787048</td>\n",
       "      <td>6.822564</td>\n",
       "      <td>0.0</td>\n",
       "      <td>325.401693</td>\n",
       "      <td>0.0</td>\n",
       "      <td>100.0</td>\n",
       "      <td>325.401693</td>\n",
       "      <td>4.371685</td>\n",
       "    </tr>\n",
       "  </tbody>\n",
       "</table>\n",
       "<p>3 rows × 21 columns</p>\n",
       "</div>"
      ],
      "text/plain": [
       "   ID sex   location time  level      rrate       hrate  ventilation  \\\n",
       "0  t1   f  Jurilovca    f      1  20.690417  142.380702    30.818651   \n",
       "1  t1   f  Jurilovca    f      2  19.582856  144.350852    30.663501   \n",
       "2  t1   f  Jurilovca    f      3  20.252536  156.988301    32.974861   \n",
       "\n",
       "        vo2     vo2rel  ...    vco2rel       rer      vo2eq  vo2pulse  fat  \\\n",
       "0  1.027298  14.675693  ...  16.311019  1.111431  29.999704  7.215153  0.0   \n",
       "1  1.021342  14.590605  ...  17.041474  1.167976  30.022744  7.075416  0.0   \n",
       "2  1.071063  15.300896  ...  18.420167  1.203862  30.787048  6.822564  0.0   \n",
       "\n",
       "         carb  fat100  carb100      energy       met  \n",
       "0  312.105589     0.0    100.0  312.105589  4.193055  \n",
       "1  310.296048     0.0    100.0  310.296048  4.168744  \n",
       "2  325.401693     0.0    100.0  325.401693  4.371685  \n",
       "\n",
       "[3 rows x 21 columns]"
      ]
     },
     "execution_count": 5,
     "metadata": {},
     "output_type": "execute_result"
    }
   ],
   "source": [
    "ap.head(3)"
   ]
  },
  {
   "cell_type": "code",
   "execution_count": 6,
   "id": "ab937dec-8bcb-40d6-8010-b77fa4c1361e",
   "metadata": {},
   "outputs": [],
   "source": [
    "aml = am.copy()"
   ]
  },
  {
   "cell_type": "code",
   "execution_count": 7,
   "id": "11ec1660-fc94-420d-8fa0-a21776cc38cd",
   "metadata": {},
   "outputs": [
    {
     "data": {
      "text/plain": [
       "array(['rrate', 'hrate', 'ventilation', 'vo2', 'vo2rel', 'vco2',\n",
       "       'vco2rel', 'rer', 'vo2eq', 'vo2pulse', 'fat', 'carb', 'fat100',\n",
       "       'carb100', 'energy', 'met'], dtype=object)"
      ]
     },
     "execution_count": 7,
     "metadata": {},
     "output_type": "execute_result"
    }
   ],
   "source": [
    "aml.parameter.unique()"
   ]
  },
  {
   "cell_type": "code",
   "execution_count": 8,
   "id": "8c8b6f2d-8b73-4b5c-9555-681cfb1f0c99",
   "metadata": {},
   "outputs": [],
   "source": [
    "aml.parameter = aml.parameter.replace(dict(zip(['rrate', 'hrate',\n",
    "                                                'ventilation', 'vo2', 'vo2rel',\n",
    "                                                'vco2', 'vco2rel',\n",
    "                                                'rer', 'vo2eq', 'vo2pulse',\n",
    "                                                'fat', 'carb',\n",
    "                                                'fat100', 'carb100', \n",
    "                                                'energy', 'met'],\n",
    "              ['Respiratory rate (breaths/min)', 'Heart rate (beats/min)', 'Ventilation (l/min)', \n",
    "               'O2 intake (l/min)', 'Relative O2 intake (ml/kg/min)',\n",
    "               'CO2 expired (l/min)', 'Relative CO2 expired (ml/kg/min)',\n",
    "               'Respiratory exchange ratio', 'Ventilation oxygen equivalent (l)', 'O2 per pulse (l)',\n",
    "               'Fat energy (kcl/h)', 'Carbohydrates energy (kcal/h)',\n",
    "               'Fat energy %', 'Carbohydrates energy %',\n",
    "               'Total energy (kcal/h)', 'Metabolic equivalent of task (MET) (3.5ml/kg/min)'])))"
   ]
  },
  {
   "cell_type": "code",
   "execution_count": 9,
   "id": "886c58e3-598b-4229-beff-a331de9f4935",
   "metadata": {},
   "outputs": [],
   "source": [
    "aml.time = aml.time.replace(dict(zip(['f','i'],['final', 'initial'])))"
   ]
  },
  {
   "cell_type": "code",
   "execution_count": 10,
   "id": "c7c6e516-eae6-4a3d-abb2-3641a5f01fb5",
   "metadata": {},
   "outputs": [
    {
     "data": {
      "text/plain": [
       "Index(['ID', 'sex', 'location', 'time', 'level', 'parameter', 'value'], dtype='object')"
      ]
     },
     "execution_count": 10,
     "metadata": {},
     "output_type": "execute_result"
    }
   ],
   "source": [
    "aml.columns"
   ]
  },
  {
   "cell_type": "code",
   "execution_count": 11,
   "id": "ff59ba5a-a2a2-415e-b4ad-0180e02ff4eb",
   "metadata": {},
   "outputs": [],
   "source": [
    "aml.columns = ['ID', 'sex', 'Location', 'Time', 'Effort level', 'parameter', 'value']"
   ]
  },
  {
   "cell_type": "code",
   "execution_count": 12,
   "id": "a0aab1c9-4c84-4ec3-b443-98b16cc99d56",
   "metadata": {},
   "outputs": [],
   "source": [
    "apl = ap.copy()"
   ]
  },
  {
   "cell_type": "code",
   "execution_count": 13,
   "id": "80e2de7a-b3d6-4e9d-988c-8faefe76569b",
   "metadata": {},
   "outputs": [
    {
     "data": {
      "text/plain": [
       "Index(['ID', 'sex', 'location', 'time', 'level', 'rrate', 'hrate',\n",
       "       'ventilation', 'vo2', 'vo2rel', 'vco2', 'vco2rel', 'rer', 'vo2eq',\n",
       "       'vo2pulse', 'fat', 'carb', 'fat100', 'carb100', 'energy', 'met'],\n",
       "      dtype='object')"
      ]
     },
     "execution_count": 13,
     "metadata": {},
     "output_type": "execute_result"
    }
   ],
   "source": [
    "apl.columns"
   ]
  },
  {
   "cell_type": "code",
   "execution_count": 14,
   "id": "d3903ca1-4e81-47a7-9035-8761a969c591",
   "metadata": {},
   "outputs": [],
   "source": [
    "apl.columns = ['ID', 'sex', 'Location', 'Time', 'Effort level',\n",
    "               'Respiratory rate (breaths/min)', 'Heart rate (beats/min)', 'Ventilation (l/min)', \n",
    "               'O2 intake (l/min)', 'Relative O2 intake (ml/kg/min)',\n",
    "               'CO2 expired (l/min)', 'Relative CO2 expired (ml/kg/min)',\n",
    "               'Respiratory exchange ratio', 'Ventilation oxygen equivalent (l)', 'O2 per pulse (l)',\n",
    "               'Fat energy (kcal/h)', 'Carbohydrates energy (kcal/h)',\n",
    "               'Fat energy %', 'Carbohydrates energy %',\n",
    "               'Total energy (kcal/h)', 'Metabolic equivalent of task (MET) (3.5ml/kg/min)']"
   ]
  },
  {
   "cell_type": "code",
   "execution_count": 15,
   "id": "b40b399b-d5b3-410e-a23d-fbe39c892733",
   "metadata": {},
   "outputs": [],
   "source": [
    "apl.Time = apl.Time.replace(dict(zip(['f','i'],['final', 'initial'])))"
   ]
  },
  {
   "cell_type": "code",
   "execution_count": 16,
   "id": "e909c9ae-0c8f-47d4-8d2c-305958a98a43",
   "metadata": {},
   "outputs": [],
   "source": [
    "# sns.catplot(data=aml,\n",
    "#             x='Effort level', y='value',\n",
    "#             hue='Time', hue_order=['initial','final'],\n",
    "#             col='parameter', row='sex',\n",
    "#             sharex=False, sharey=False, \n",
    "#             kind='point',\n",
    "#             dodge=True, linewidth=3, estimator='mean', \n",
    "#             errorbar='se')"
   ]
  },
  {
   "cell_type": "code",
   "execution_count": 17,
   "id": "6d529196-7591-43e9-b99f-5a54344ca70b",
   "metadata": {},
   "outputs": [],
   "source": [
    "# for col in apl.columns[5:]:\n",
    "#     mpl.pyplot.figure(figsize=(8,6))\n",
    "#     sns.set_style(\"whitegrid\")\n",
    "#     ax = sns.violinplot(data=apl,\n",
    "#                         x='Effort level', y=col,\n",
    "#                         hue='Time', hue_order=['initial','final'],\n",
    "#                         split=False, inner='box')\n",
    "#     sns.move_legend(ax, \"lower right\")\n",
    "#    plt.savefig(f'figures/{col.replace(\"/\",\" \")}-violin.pdf')\n",
    "#    plt.savefig(f'figures/{col.replace(\"/\",\" \")}-violin.svg')"
   ]
  },
  {
   "cell_type": "code",
   "execution_count": 18,
   "id": "9819a0dc-9536-4d52-928c-d640eb6bf910",
   "metadata": {},
   "outputs": [],
   "source": [
    "# for param in aml.parameter.unique():\n",
    "#     mpl.pyplot.figure(figsize=(14,6))\n",
    "#     sns.set_style(\"whitegrid\")\n",
    "#     sns.catplot(data=aml.loc[aml.parameter==param],\n",
    "#                 x='Effort level', y='value',\n",
    "#                 hue='Time', hue_order=['initial','final'],\n",
    "#                 col='sex',\n",
    "#                 sharex=False, sharey=True,\n",
    "#                 kind='point',\n",
    "#                 dodge=True, linewidth=3, estimator='mean',\n",
    "#                 errorbar='se').set_ylabels(param)\n",
    "#    plt.savefig(f'figures/point/{param.replace(\"/\",\" \")}-pointplot.pdf')\n",
    "#    plt.savefig(f'figures/point/{param.replace(\"/\",\" \")}-pointplot.svg')"
   ]
  },
  {
   "cell_type": "code",
   "execution_count": 19,
   "id": "8ad33304-2606-4168-aed5-33921d155eee",
   "metadata": {},
   "outputs": [],
   "source": [
    "# for param in aml.parameter.unique()[10:14]:\n",
    "#     mpl.pyplot.figure(figsize=(14,6))\n",
    "#     sns.set_style(\"whitegrid\")\n",
    "#     sns.catplot(data=aml.loc[aml.parameter==param],\n",
    "#                 x='Effort level', y='value',\n",
    "#                 hue='Time', hue_order=['initial','final'],\n",
    "#                 col='sex',\n",
    "#                 sharex=False, sharey=True,\n",
    "#                 kind='strip',\n",
    "#                 dodge=True, linewidth=0.5, estimator='mean',\n",
    "#                 errorbar='se').set_ylabels(param)\n",
    "#    plt.savefig(f'figures/strip/{param.replace(\"/\",\" \")}-stripplot.pdf')\n",
    "#    plt.savefig(f'figures/strip/{param.replace(\"/\",\" \")}-stripplot.svg')"
   ]
  },
  {
   "cell_type": "code",
   "execution_count": 20,
   "id": "44f6d2c9-3279-4488-b925-e05992439456",
   "metadata": {},
   "outputs": [],
   "source": [
    "f=apl[['ID', 'sex', 'Effort level', 'Time', 'Fat energy (kcal/h)']]\n",
    "g=f.groupby(['sex', 'Effort level', 'Time'])['Fat energy (kcal/h)'].agg(\n",
    "    lambda x: x.map(lambda y: y==0).sum()).to_frame().reset_index()\n",
    "g.columns = ['sex', 'Effort level', 'Time', 'Carbohydrate-exclusive metabolism']"
   ]
  },
  {
   "cell_type": "code",
   "execution_count": 21,
   "id": "7ebff3bc-6ea4-43b0-8ea0-92b55daa1559",
   "metadata": {},
   "outputs": [],
   "source": [
    "# mpl.pyplot.figure(figsize=(14,6))\n",
    "# sns.set_style(\"whitegrid\")\n",
    "# sns.catplot(data=g, x='Effort level', y='Carbohydrate-exclusive metabolism',\n",
    "#             hue='Time', hue_order=['initial','final'],\n",
    "#             col='sex', sharey=True, kind='bar')\n",
    "# plt.savefig('figures/rer-above-1-sex-barplot.pdf')\n",
    "# plt.savefig('figures/rer-above-1-sex-barplot.svg')"
   ]
  },
  {
   "cell_type": "code",
   "execution_count": 590,
   "id": "056a7693-b220-4fb4-810a-8dff6f314deb",
   "metadata": {},
   "outputs": [
    {
     "name": "stdout",
     "output_type": "stream",
     "text": [
      "met                  Anova\n",
      "========================================\n",
      "           F Value Num DF  Den DF Pr > F\n",
      "----------------------------------------\n",
      "time        4.4863 1.0000 38.0000 0.0408\n",
      "level       0.5051 2.0000 76.0000 0.6055\n",
      "time:level  0.6064 2.0000 76.0000 0.5479\n",
      "========================================\n",
      "\n"
     ]
    }
   ],
   "source": [
    "for i in ap.columns[20:]:\n",
    "    print(i, AnovaRM(data=ap, depvar=i, subject='ID', within=['time', 'level']).fit())"
   ]
  },
  {
   "cell_type": "code",
   "execution_count": 24,
   "id": "81ed2ca7-68c4-4226-ba56-39839dc1db31",
   "metadata": {},
   "outputs": [
    {
     "data": {
      "text/html": [
       "<div>\n",
       "<style scoped>\n",
       "    .dataframe tbody tr th:only-of-type {\n",
       "        vertical-align: middle;\n",
       "    }\n",
       "\n",
       "    .dataframe tbody tr th {\n",
       "        vertical-align: top;\n",
       "    }\n",
       "\n",
       "    .dataframe thead tr th {\n",
       "        text-align: left;\n",
       "    }\n",
       "</style>\n",
       "<table border=\"1\" class=\"dataframe\">\n",
       "  <thead>\n",
       "    <tr>\n",
       "      <th>Effort level</th>\n",
       "      <th colspan=\"2\" halign=\"left\">1</th>\n",
       "      <th colspan=\"2\" halign=\"left\">2</th>\n",
       "      <th colspan=\"2\" halign=\"left\">3</th>\n",
       "    </tr>\n",
       "    <tr>\n",
       "      <th>Time</th>\n",
       "      <th>initial</th>\n",
       "      <th>final</th>\n",
       "      <th>initial</th>\n",
       "      <th>final</th>\n",
       "      <th>initial</th>\n",
       "      <th>final</th>\n",
       "    </tr>\n",
       "  </thead>\n",
       "  <tbody>\n",
       "    <tr>\n",
       "      <th>count</th>\n",
       "      <td>39.00</td>\n",
       "      <td>39.00</td>\n",
       "      <td>39.00</td>\n",
       "      <td>39.00</td>\n",
       "      <td>39.00</td>\n",
       "      <td>39.00</td>\n",
       "    </tr>\n",
       "    <tr>\n",
       "      <th>median</th>\n",
       "      <td>30.78</td>\n",
       "      <td>25.16</td>\n",
       "      <td>31.87</td>\n",
       "      <td>27.38</td>\n",
       "      <td>32.68</td>\n",
       "      <td>27.92</td>\n",
       "    </tr>\n",
       "    <tr>\n",
       "      <th>mean</th>\n",
       "      <td>31.63</td>\n",
       "      <td>26.49</td>\n",
       "      <td>33.58</td>\n",
       "      <td>28.22</td>\n",
       "      <td>33.68</td>\n",
       "      <td>29.06</td>\n",
       "    </tr>\n",
       "    <tr>\n",
       "      <th>min</th>\n",
       "      <td>10.20</td>\n",
       "      <td>14.57</td>\n",
       "      <td>16.40</td>\n",
       "      <td>13.89</td>\n",
       "      <td>0.00</td>\n",
       "      <td>13.24</td>\n",
       "    </tr>\n",
       "    <tr>\n",
       "      <th>max</th>\n",
       "      <td>64.44</td>\n",
       "      <td>51.38</td>\n",
       "      <td>62.23</td>\n",
       "      <td>48.25</td>\n",
       "      <td>66.58</td>\n",
       "      <td>56.55</td>\n",
       "    </tr>\n",
       "    <tr>\n",
       "      <th>std</th>\n",
       "      <td>9.95</td>\n",
       "      <td>7.99</td>\n",
       "      <td>9.02</td>\n",
       "      <td>8.06</td>\n",
       "      <td>12.04</td>\n",
       "      <td>8.72</td>\n",
       "    </tr>\n",
       "    <tr>\n",
       "      <th>var</th>\n",
       "      <td>98.96</td>\n",
       "      <td>63.83</td>\n",
       "      <td>81.41</td>\n",
       "      <td>65.00</td>\n",
       "      <td>144.89</td>\n",
       "      <td>76.08</td>\n",
       "    </tr>\n",
       "    <tr>\n",
       "      <th>&lt;lambda&gt;</th>\n",
       "      <td>2.75</td>\n",
       "      <td>1.32</td>\n",
       "      <td>1.07</td>\n",
       "      <td>-0.49</td>\n",
       "      <td>1.90</td>\n",
       "      <td>1.20</td>\n",
       "    </tr>\n",
       "    <tr>\n",
       "      <th>&lt;lambda&gt;</th>\n",
       "      <td>1.19</td>\n",
       "      <td>1.12</td>\n",
       "      <td>0.68</td>\n",
       "      <td>0.30</td>\n",
       "      <td>0.40</td>\n",
       "      <td>0.73</td>\n",
       "    </tr>\n",
       "    <tr>\n",
       "      <th>&lt;lambda&gt;</th>\n",
       "      <td>0.91</td>\n",
       "      <td>0.92</td>\n",
       "      <td>0.97</td>\n",
       "      <td>0.98</td>\n",
       "      <td>0.93</td>\n",
       "      <td>0.95</td>\n",
       "    </tr>\n",
       "    <tr>\n",
       "      <th>&lt;lambda&gt;</th>\n",
       "      <td>0.00</td>\n",
       "      <td>0.01</td>\n",
       "      <td>0.28</td>\n",
       "      <td>0.64</td>\n",
       "      <td>0.02</td>\n",
       "      <td>0.08</td>\n",
       "    </tr>\n",
       "  </tbody>\n",
       "</table>\n",
       "</div>"
      ],
      "text/plain": [
       "Effort level       1              2              3       \n",
       "Time         initial  final initial  final initial  final\n",
       "count          39.00  39.00   39.00  39.00   39.00  39.00\n",
       "median         30.78  25.16   31.87  27.38   32.68  27.92\n",
       "mean           31.63  26.49   33.58  28.22   33.68  29.06\n",
       "min            10.20  14.57   16.40  13.89    0.00  13.24\n",
       "max            64.44  51.38   62.23  48.25   66.58  56.55\n",
       "std             9.95   7.99    9.02   8.06   12.04   8.72\n",
       "var            98.96  63.83   81.41  65.00  144.89  76.08\n",
       "<lambda>        2.75   1.32    1.07  -0.49    1.90   1.20\n",
       "<lambda>        1.19   1.12    0.68   0.30    0.40   0.73\n",
       "<lambda>        0.91   0.92    0.97   0.98    0.93   0.95\n",
       "<lambda>        0.00   0.01    0.28   0.64    0.02   0.08"
      ]
     },
     "execution_count": 24,
     "metadata": {},
     "output_type": "execute_result"
    }
   ],
   "source": [
    "apl[['ID', 'Effort level', 'Time',\n",
    "     'Respiratory rate (breaths/min)']].pivot(columns=['Effort level', 'Time'],\n",
    "                                              values='Respiratory rate (breaths/min)',\n",
    "                                              index='ID').agg(['count',\n",
    "                                                               'median', 'mean',\n",
    "                                                               'min', 'max', 'std', 'var',\n",
    "    lambda x: st.kurtosis(x.copy()),\n",
    "    lambda y: st.skew(y.copy()),\n",
    "    lambda z: st.shapiro(z)[0],\n",
    "    lambda z: st.shapiro(z)[1]]).round(2).sort_index(axis=1,\n",
    "                                                     level=['Effort level', 'Time'],\n",
    "                                                     ascending=[True,False])"
   ]
  },
  {
   "cell_type": "code",
   "execution_count": 25,
   "id": "53137f7c-3096-4e6f-8a29-a705cc5725ed",
   "metadata": {},
   "outputs": [
    {
     "name": "stdout",
     "output_type": "stream",
     "text": [
      "\n",
      " Metabolic equivalent of task (MET) (3.5ml/kg/min) \n",
      " Effort level       1              2              3       \n",
      "Time         initial  final initial  final initial  final\n",
      "count          39.00  39.00   39.00  39.00   39.00  39.00\n",
      "median          4.38   4.19    4.44   4.17    4.55   4.07\n",
      "mean            4.52   4.13    4.61   4.25    4.71   4.14\n",
      "min             2.45   2.27    2.49   2.50    0.00   2.44\n",
      "max             8.92   6.42    7.23   5.89    8.84   6.35\n",
      "std             1.24   1.01    1.14   0.90    1.54   0.94\n",
      "var             1.55   1.01    1.29   0.80    2.37   0.88\n",
      "<lambda>        2.33  -0.29   -0.56  -0.82    1.69  -0.45\n",
      "<lambda>        1.18   0.22    0.25   0.04   -0.02   0.18\n",
      "<lambda>        0.93   0.98    0.98   0.98    0.96   0.99\n",
      "<lambda>        0.02   0.85    0.65   0.59    0.13   0.92\n"
     ]
    }
   ],
   "source": [
    "for col in apl.columns[20:]:\n",
    "    print('\\n', col, '\\n',\n",
    "    apl[['ID', 'Effort level', 'Time', col]].pivot(columns=['Effort level', 'Time'],\n",
    "                                                   values=col,\n",
    "                                                   index='ID').agg([\n",
    "    'count', 'median', 'mean',\n",
    "    'min', 'max', 'std', 'var',\n",
    "    lambda x: st.kurtosis(x.copy()),\n",
    "    lambda y: st.skew(y.copy()),\n",
    "    lambda z: st.shapiro(z)[0],\n",
    "    lambda z: st.shapiro(z)[1]]).sort_index(axis=1,\n",
    "                                            level=['Effort level', 'Time'],\n",
    "                                            ascending=[True,False]).round(2))\n",
    "#.to_csv(f'{col.replace(\"/\",\" \")}.csv')"
   ]
  },
  {
   "cell_type": "code",
   "execution_count": 26,
   "id": "359dea31-d7f3-42f4-90e8-243ebb70d1a4",
   "metadata": {},
   "outputs": [],
   "source": [
    "# An alternative to iterating over the .groupby object,\n",
    "# by iterating over categories and then using .get_group\n",
    "\n",
    "# for param in aml.parameter.unique():\n",
    "#     print('\\n', param)\n",
    "#     for lev in range(1,4):\n",
    "#         print(lev)\n",
    "#         t1 = aml.groupby(['parameter', 'Effort level', 'Time']).get_group((param, lev, 'initial'))\n",
    "#         t2 = aml.groupby(['parameter', 'Effort level', 'Time']).get_group((param, lev, 'final'))\n",
    "#         print(st.ttest_rel(t1.value, t2.value))"
   ]
  },
  {
   "cell_type": "code",
   "execution_count": 294,
   "id": "acec70bc-a2d2-464e-ba6b-4ef8e5aa80d4",
   "metadata": {},
   "outputs": [],
   "source": [
    "lev_ttest_res = pd.DataFrame(data=None,\n",
    "                             index=range(48),\n",
    "                             columns=['Parameter', 'Effort level',\n",
    "                                      'Significance level',\n",
    "                                      'Degrees of freedom',\n",
    "                                      'T critical (two tailed)',\n",
    "                                      'T statistic', 'T test p-value (two-tailed)',\n",
    "                                      'Levene statistic', 'Levene p-value',\n",
    "                                      'Effect size (Cohen d)'])\n",
    "lev_ttest_res['Significance level'] = 0.05"
   ]
  },
  {
   "cell_type": "code",
   "execution_count": 295,
   "id": "9ae2eb2c-afb6-4a8f-8f5f-6dff246c03c7",
   "metadata": {},
   "outputs": [],
   "source": [
    "k = 0\n",
    "for i, j in aml.groupby(['parameter', 'Effort level'], sort=False):\n",
    "    t_pair = j.pivot(columns='Time', values='value', index='ID').reset_index()\n",
    "    t_res = st.ttest_rel(t_pair.initial, t_pair.final, alternative='two-sided')\n",
    "    levene = st.levene(t_pair.initial, t_pair.final)\n",
    "    cohen = cohen_glass_hedges(t_pair.initial, t_pair.final)\n",
    "    lev_ttest_res.loc[k, 'Parameter'] = i[0]\n",
    "    lev_ttest_res.loc[k, 'Effort level'] = i[1]\n",
    "    lev_ttest_res.loc[k, 'Degrees of freedom'] = len(t_pair.initial) - 1\n",
    "    lev_ttest_res.loc[k, 'T critical (two tailed)'] = st.t.ppf(0.025, len(t_pair.initial) - 1).round(2)\n",
    "    lev_ttest_res.loc[k, 'T statistic'] = t_res[0].round(2)\n",
    "    lev_ttest_res.loc[k, 'T test p-value (two-tailed)'] = t_res[1].round(3)\n",
    "    lev_ttest_res.loc[k, 'Levene statistic'] = levene[0].round(2)\n",
    "    lev_ttest_res.loc[k, 'Levene p-value'] = levene[1].round(3)\n",
    "    lev_ttest_res.loc[k, 'Effect size (Cohen d)'] = cohen[0].round(2)\n",
    "    k += 1\n",
    "    \n",
    "results_df = lev_ttest_res.pivot(columns='Effort level',\n",
    "                                 index='Parameter',\n",
    "                                 values=['Significance level',\n",
    "                                         'Degrees of freedom',\n",
    "                                         'T critical (two tailed)',\n",
    "                                         'T statistic', 'T test p-value (two-tailed)',\n",
    "                                         'Levene statistic', 'Levene p-value',\n",
    "                                         'Effect size (Cohen d)']).T\n",
    "results_df.columns.names = [None]"
   ]
  },
  {
   "cell_type": "code",
   "execution_count": 318,
   "id": "ed3e13a5-5d4c-4b14-8913-c93f02af4ca7",
   "metadata": {},
   "outputs": [
    {
     "data": {
      "text/plain": [
       "[(0, 'Respiratory rate (breaths/min)'),\n",
       " (1, 'Heart rate (beats/min)'),\n",
       " (2, 'Ventilation (l/min)'),\n",
       " (3, 'O2 intake (l/min)'),\n",
       " (4, 'Relative O2 intake (ml/kg/min)'),\n",
       " (5, 'CO2 expired (l/min)'),\n",
       " (6, 'Relative CO2 expired (ml/kg/min)'),\n",
       " (7, 'Respiratory exchange ratio'),\n",
       " (8, 'Ventilation oxygen equivalent (l)'),\n",
       " (9, 'O2 per pulse (l)'),\n",
       " (10, 'Fat energy (kcl/h)'),\n",
       " (11, 'Carbohydrates energy (kcal/h)'),\n",
       " (12, 'Fat energy %'),\n",
       " (13, 'Carbohydrates energy %'),\n",
       " (14, 'Total energy (kcal/h)'),\n",
       " (15, 'Metabolic equivalent of task (MET) (3.5ml/kg/min)')]"
      ]
     },
     "execution_count": 318,
     "metadata": {},
     "output_type": "execute_result"
    }
   ],
   "source": [
    "[(i, j) for i, j in enumerate(aml.parameter.unique())]"
   ]
  },
  {
   "cell_type": "code",
   "execution_count": 320,
   "id": "35892ffa-2d82-435b-85e3-d6016bf4a0ef",
   "metadata": {},
   "outputs": [],
   "source": [
    "param_order = {label : index for index, label in enumerate(aml.parameter.unique())}"
   ]
  },
  {
   "cell_type": "code",
   "execution_count": 321,
   "id": "afedd392-7d78-4f94-9916-97773972dede",
   "metadata": {},
   "outputs": [
    {
     "data": {
      "text/plain": [
       "{'Respiratory rate (breaths/min)': 0,\n",
       " 'Heart rate (beats/min)': 1,\n",
       " 'Ventilation (l/min)': 2,\n",
       " 'O2 intake (l/min)': 3,\n",
       " 'Relative O2 intake (ml/kg/min)': 4,\n",
       " 'CO2 expired (l/min)': 5,\n",
       " 'Relative CO2 expired (ml/kg/min)': 6,\n",
       " 'Respiratory exchange ratio': 7,\n",
       " 'Ventilation oxygen equivalent (l)': 8,\n",
       " 'O2 per pulse (l)': 9,\n",
       " 'Fat energy (kcl/h)': 10,\n",
       " 'Carbohydrates energy (kcal/h)': 11,\n",
       " 'Fat energy %': 12,\n",
       " 'Carbohydrates energy %': 13,\n",
       " 'Total energy (kcal/h)': 14,\n",
       " 'Metabolic equivalent of task (MET) (3.5ml/kg/min)': 15}"
      ]
     },
     "execution_count": 321,
     "metadata": {},
     "output_type": "execute_result"
    }
   ],
   "source": [
    "param_order"
   ]
  },
  {
   "cell_type": "code",
   "execution_count": 324,
   "id": "06dae587-2168-4f1a-bbfc-d567fca01d5e",
   "metadata": {},
   "outputs": [],
   "source": [
    "results_df.sort_index(axis=1, \n",
    "                      key=lambda x: x.map(param_order),\n",
    "                      inplace=True)"
   ]
  },
  {
   "cell_type": "code",
   "execution_count": 325,
   "id": "cfeb6459-ac75-4d10-80a0-a2d89878c5dc",
   "metadata": {},
   "outputs": [],
   "source": [
    "# results_df.to_csv('ttresults.csv')\n",
    "# results_df.to_excel('ttresults.xlsx')"
   ]
  },
  {
   "cell_type": "markdown",
   "id": "13947d3e-ac3b-4f2a-8687-ff3ba0d96dac",
   "metadata": {},
   "source": [
    "### More ways to rename columns"
   ]
  },
  {
   "cell_type": "code",
   "execution_count": 329,
   "id": "3d0c8cab-b313-4de4-a854-57e8c7b540f0",
   "metadata": {},
   "outputs": [
    {
     "data": {
      "text/html": [
       "<div>\n",
       "<style scoped>\n",
       "    .dataframe tbody tr th:only-of-type {\n",
       "        vertical-align: middle;\n",
       "    }\n",
       "\n",
       "    .dataframe tbody tr th {\n",
       "        vertical-align: top;\n",
       "    }\n",
       "\n",
       "    .dataframe thead th {\n",
       "        text-align: right;\n",
       "    }\n",
       "</style>\n",
       "<table border=\"1\" class=\"dataframe\">\n",
       "  <thead>\n",
       "    <tr style=\"text-align: right;\">\n",
       "      <th></th>\n",
       "      <th>level_0</th>\n",
       "      <th>Effort level</th>\n",
       "      <th>Respiratory rate (breaths/min)</th>\n",
       "      <th>Heart rate (beats/min)</th>\n",
       "      <th>Ventilation (l/min)</th>\n",
       "      <th>O2 intake (l/min)</th>\n",
       "      <th>Relative O2 intake (ml/kg/min)</th>\n",
       "      <th>CO2 expired (l/min)</th>\n",
       "      <th>Relative CO2 expired (ml/kg/min)</th>\n",
       "      <th>Respiratory exchange ratio</th>\n",
       "      <th>Ventilation oxygen equivalent (l)</th>\n",
       "      <th>O2 per pulse (l)</th>\n",
       "      <th>Fat energy (kcl/h)</th>\n",
       "      <th>Carbohydrates energy (kcal/h)</th>\n",
       "      <th>Fat energy %</th>\n",
       "      <th>Carbohydrates energy %</th>\n",
       "      <th>Total energy (kcal/h)</th>\n",
       "      <th>Metabolic equivalent of task (MET) (3.5ml/kg/min)</th>\n",
       "    </tr>\n",
       "  </thead>\n",
       "  <tbody>\n",
       "    <tr>\n",
       "      <th>0</th>\n",
       "      <td>Significance level</td>\n",
       "      <td>1</td>\n",
       "      <td>0.05</td>\n",
       "      <td>0.05</td>\n",
       "      <td>0.05</td>\n",
       "      <td>0.05</td>\n",
       "      <td>0.05</td>\n",
       "      <td>0.05</td>\n",
       "      <td>0.05</td>\n",
       "      <td>0.05</td>\n",
       "      <td>0.05</td>\n",
       "      <td>0.05</td>\n",
       "      <td>0.05</td>\n",
       "      <td>0.05</td>\n",
       "      <td>0.05</td>\n",
       "      <td>0.05</td>\n",
       "      <td>0.05</td>\n",
       "      <td>0.05</td>\n",
       "    </tr>\n",
       "  </tbody>\n",
       "</table>\n",
       "</div>"
      ],
      "text/plain": [
       "              level_0  Effort level Respiratory rate (breaths/min)  \\\n",
       "0  Significance level             1                           0.05   \n",
       "\n",
       "  Heart rate (beats/min) Ventilation (l/min) O2 intake (l/min)  \\\n",
       "0                   0.05                0.05              0.05   \n",
       "\n",
       "  Relative O2 intake (ml/kg/min) CO2 expired (l/min)  \\\n",
       "0                           0.05                0.05   \n",
       "\n",
       "  Relative CO2 expired (ml/kg/min) Respiratory exchange ratio  \\\n",
       "0                             0.05                       0.05   \n",
       "\n",
       "  Ventilation oxygen equivalent (l) O2 per pulse (l) Fat energy (kcl/h)  \\\n",
       "0                              0.05             0.05               0.05   \n",
       "\n",
       "  Carbohydrates energy (kcal/h) Fat energy % Carbohydrates energy %  \\\n",
       "0                          0.05         0.05                   0.05   \n",
       "\n",
       "  Total energy (kcal/h) Metabolic equivalent of task (MET) (3.5ml/kg/min)  \n",
       "0                  0.05                                              0.05  "
      ]
     },
     "execution_count": 329,
     "metadata": {},
     "output_type": "execute_result"
    }
   ],
   "source": [
    "ren = results_df.reset_index()\n",
    "ren.head(1)"
   ]
  },
  {
   "cell_type": "code",
   "execution_count": 330,
   "id": "86ea996b-3ae3-4e5f-91ce-3c9454aff0e8",
   "metadata": {},
   "outputs": [
    {
     "data": {
      "text/plain": [
       "'level_0'"
      ]
     },
     "execution_count": 330,
     "metadata": {},
     "output_type": "execute_result"
    }
   ],
   "source": [
    "ren.columns[0]                    # However, cannot assign a value to it (immutable)"
   ]
  },
  {
   "cell_type": "code",
   "execution_count": 331,
   "id": "cea775c5-e2e3-41db-814e-7d2a0bde1b14",
   "metadata": {},
   "outputs": [
    {
     "data": {
      "text/plain": [
       "'level_0'"
      ]
     },
     "execution_count": 331,
     "metadata": {},
     "output_type": "execute_result"
    }
   ],
   "source": [
    "ren.columns.values[0]             # This is mutable"
   ]
  },
  {
   "cell_type": "code",
   "execution_count": 332,
   "id": "c47124e6-c17a-4adf-96b4-77d41c24de52",
   "metadata": {},
   "outputs": [
    {
     "data": {
      "text/plain": [
       "0"
      ]
     },
     "execution_count": 332,
     "metadata": {},
     "output_type": "execute_result"
    }
   ],
   "source": [
    "ren.columns.get_loc('level_0')    # Find numeric index of column name"
   ]
  },
  {
   "cell_type": "code",
   "execution_count": 333,
   "id": "172f7210-2a7a-4a29-8b91-f4c4c0db4e84",
   "metadata": {},
   "outputs": [],
   "source": [
    "ren.columns.values[ren.columns.get_loc('level_0')] = 'Statistic'\n",
    "# Very cumbersome way to avoid indices, dictionaries or list assignment"
   ]
  },
  {
   "cell_type": "code",
   "execution_count": 334,
   "id": "4b7db342-7088-42ec-b393-624675c87eb9",
   "metadata": {},
   "outputs": [
    {
     "data": {
      "text/plain": [
       "'Statistic'"
      ]
     },
     "execution_count": 334,
     "metadata": {},
     "output_type": "execute_result"
    }
   ],
   "source": [
    "ren.columns[0]"
   ]
  },
  {
   "cell_type": "code",
   "execution_count": 327,
   "id": "56ee58c3-63fe-433d-ba55-525058384ca6",
   "metadata": {},
   "outputs": [
    {
     "data": {
      "text/plain": [
       "Index([ nan,  nan,  5.0, 13.0, 11.0, 12.0, 10.0,  1.0, 15.0,  3.0,  9.0,  6.0,\n",
       "        4.0,  7.0,  0.0, 14.0,  2.0,  8.0],\n",
       "      dtype='float64')"
      ]
     },
     "execution_count": 327,
     "metadata": {},
     "output_type": "execute_result"
    }
   ],
   "source": [
    "ren.columns.map(param_order.get)\n",
    "# .get() is really a function, but that is not visible inside .map()\n",
    "# {key:value}.get(key) takes the input and transforms it with the attached dict\n",
    "# the input is searched in the dict keys and if found, the corresponding value is output\n",
    "# if the value is not found, the output is None"
   ]
  },
  {
   "cell_type": "code",
   "execution_count": 336,
   "id": "eefdfad8-b57a-4269-ae26-2e5d6b4d172d",
   "metadata": {},
   "outputs": [
    {
     "data": {
      "text/plain": [
       "Index(['stat',   None,   None,   None,   None,   None,   None,   None,   None,\n",
       "         None,   None,   None,   None,   None,   None,   None,   None,   None],\n",
       "      dtype='object')"
      ]
     },
     "execution_count": 336,
     "metadata": {},
     "output_type": "execute_result"
    }
   ],
   "source": [
    "ren.columns.map({'Statistic':'stat'}.get)"
   ]
  },
  {
   "cell_type": "code",
   "execution_count": 337,
   "id": "36d43a46-3d01-4ce4-ab96-c1f1b57f8d10",
   "metadata": {},
   "outputs": [],
   "source": [
    "ren.columns = ren.columns.map({'Statistic':'stat'}.get)"
   ]
  },
  {
   "cell_type": "code",
   "execution_count": 338,
   "id": "b864bf93-82a0-4a75-8f3b-d20b57504564",
   "metadata": {},
   "outputs": [
    {
     "data": {
      "text/html": [
       "<div>\n",
       "<style scoped>\n",
       "    .dataframe tbody tr th:only-of-type {\n",
       "        vertical-align: middle;\n",
       "    }\n",
       "\n",
       "    .dataframe tbody tr th {\n",
       "        vertical-align: top;\n",
       "    }\n",
       "\n",
       "    .dataframe thead th {\n",
       "        text-align: right;\n",
       "    }\n",
       "</style>\n",
       "<table border=\"1\" class=\"dataframe\">\n",
       "  <thead>\n",
       "    <tr style=\"text-align: right;\">\n",
       "      <th></th>\n",
       "      <th>stat</th>\n",
       "      <th>None</th>\n",
       "      <th>None</th>\n",
       "      <th>None</th>\n",
       "      <th>None</th>\n",
       "      <th>None</th>\n",
       "      <th>None</th>\n",
       "      <th>None</th>\n",
       "      <th>None</th>\n",
       "      <th>None</th>\n",
       "      <th>None</th>\n",
       "      <th>None</th>\n",
       "      <th>None</th>\n",
       "      <th>None</th>\n",
       "      <th>None</th>\n",
       "      <th>None</th>\n",
       "      <th>None</th>\n",
       "      <th>None</th>\n",
       "    </tr>\n",
       "  </thead>\n",
       "  <tbody>\n",
       "    <tr>\n",
       "      <th>0</th>\n",
       "      <td>Significance level</td>\n",
       "      <td>1</td>\n",
       "      <td>0.05</td>\n",
       "      <td>0.05</td>\n",
       "      <td>0.05</td>\n",
       "      <td>0.05</td>\n",
       "      <td>0.05</td>\n",
       "      <td>0.05</td>\n",
       "      <td>0.05</td>\n",
       "      <td>0.05</td>\n",
       "      <td>0.05</td>\n",
       "      <td>0.05</td>\n",
       "      <td>0.05</td>\n",
       "      <td>0.05</td>\n",
       "      <td>0.05</td>\n",
       "      <td>0.05</td>\n",
       "      <td>0.05</td>\n",
       "      <td>0.05</td>\n",
       "    </tr>\n",
       "  </tbody>\n",
       "</table>\n",
       "</div>"
      ],
      "text/plain": [
       "                 stat None  None  None  None  None  None  None  None  None  \\\n",
       "0  Significance level    1  0.05  0.05  0.05  0.05  0.05  0.05  0.05  0.05   \n",
       "\n",
       "   None  None  None  None  None  None  None  None  \n",
       "0  0.05  0.05  0.05  0.05  0.05  0.05  0.05  0.05  "
      ]
     },
     "execution_count": 338,
     "metadata": {},
     "output_type": "execute_result"
    }
   ],
   "source": [
    "ren.head(1)"
   ]
  },
  {
   "cell_type": "markdown",
   "id": "035f9c41-128f-4679-9bbc-10c57617ac70",
   "metadata": {},
   "source": [
    "## ZIP"
   ]
  },
  {
   "cell_type": "code",
   "execution_count": 346,
   "id": "4ebe1918-3002-423d-8c9e-983b7c5fb379",
   "metadata": {},
   "outputs": [
    {
     "name": "stdout",
     "output_type": "stream",
     "text": [
      "[('f', 'final'), ('i', 'initial')]\n"
     ]
    }
   ],
   "source": [
    "print(list(zip(['f','i'],['final', 'initial'])))\n",
    "# zip is an object used to pair elements of lists, tuples, etc, into tuples\n",
    "# must be converted into lists, tuples, dictionaries, sets etc to be seen or accessed\n",
    "# if converted into dictionary, it does not contain tuples anymore"
   ]
  },
  {
   "cell_type": "code",
   "execution_count": 347,
   "id": "cb3744da-3086-48d8-adde-4f9131520fce",
   "metadata": {},
   "outputs": [
    {
     "name": "stdout",
     "output_type": "stream",
     "text": [
      "{'f': 'final', 'i': 'initial'}\n"
     ]
    }
   ],
   "source": [
    "print(dict(zip(['f','i'],['final', 'initial'])))"
   ]
  },
  {
   "cell_type": "code",
   "execution_count": 349,
   "id": "6bd0c27d-ad92-48b8-b1ba-f110198de800",
   "metadata": {},
   "outputs": [
    {
     "data": {
      "text/plain": [
       "{'f': 'final', 'i': 'initial'}"
      ]
     },
     "execution_count": 349,
     "metadata": {},
     "output_type": "execute_result"
    }
   ],
   "source": [
    "{i:j for i, j in zip(['f','i'],['final', 'initial'])}"
   ]
  },
  {
   "cell_type": "code",
   "execution_count": 369,
   "id": "ea86670d-ac01-4490-abdc-fe2c4d3b3233",
   "metadata": {},
   "outputs": [
    {
     "name": "stdout",
     "output_type": "stream",
     "text": [
      "final initial\n"
     ]
    }
   ],
   "source": [
    "print(*['final', 'initial'])   # unpacking operator"
   ]
  },
  {
   "cell_type": "code",
   "execution_count": 376,
   "id": "4c916ad4-54de-4a11-a019-14798e45f398",
   "metadata": {},
   "outputs": [
    {
     "name": "stdout",
     "output_type": "stream",
     "text": [
      "a A\n"
     ]
    }
   ],
   "source": [
    "print(*{'a':'b','A':'B'})      # * unpacks just the keys"
   ]
  },
  {
   "cell_type": "code",
   "execution_count": 409,
   "id": "0f287dce-8b79-4974-910f-d443a6dd194b",
   "metadata": {},
   "outputs": [],
   "source": [
    "z = zip(['f','i'],['final', 'initial'])"
   ]
  },
  {
   "cell_type": "code",
   "execution_count": 410,
   "id": "33e2bd9b-1b86-420d-b5bc-70a52a0fdd33",
   "metadata": {},
   "outputs": [
    {
     "name": "stdout",
     "output_type": "stream",
     "text": [
      "[(('f', 'final'),), (('i', 'initial'),)]\n"
     ]
    }
   ],
   "source": [
    "print(list(zip(z)))            # needs unpacking"
   ]
  },
  {
   "cell_type": "code",
   "execution_count": 416,
   "id": "b6a0a82c-d54b-4277-be2f-0e1556e28bb0",
   "metadata": {},
   "outputs": [],
   "source": [
    "z = zip(['f','i'],['final', 'initial'])    #list() or dict() changes zip inplace, becomes empty"
   ]
  },
  {
   "cell_type": "code",
   "execution_count": 417,
   "id": "a7d3a911-fc5c-4239-a72e-cf2d320c1b1b",
   "metadata": {},
   "outputs": [
    {
     "name": "stdout",
     "output_type": "stream",
     "text": [
      "('f', 'final') ('i', 'initial')\n"
     ]
    }
   ],
   "source": [
    "print(*z)                      # unpacks zip"
   ]
  },
  {
   "cell_type": "code",
   "execution_count": 413,
   "id": "74275c7f-0bd8-4823-bd2b-1bf99e023d4a",
   "metadata": {},
   "outputs": [],
   "source": [
    "z = zip(['f','i'],['final', 'initial'])"
   ]
  },
  {
   "cell_type": "code",
   "execution_count": 414,
   "id": "c55a1c79-1a41-4ce7-aeaf-ffb40021b5e2",
   "metadata": {},
   "outputs": [
    {
     "name": "stdout",
     "output_type": "stream",
     "text": [
      "[('f', 'i'), ('final', 'initial')]\n"
     ]
    }
   ],
   "source": [
    "print(list(zip(*z)))\n",
    "#   Use zip again on the unpacked list to unzip\n",
    "#   Zip is a kind of transpose function"
   ]
  },
  {
   "cell_type": "markdown",
   "id": "2be267f7-2b1b-481c-a821-63056cf254c9",
   "metadata": {},
   "source": [
    "## Aggregation"
   ]
  },
  {
   "cell_type": "code",
   "execution_count": 71,
   "id": "159051e5-1f11-443d-ab1d-d0054a3e7cb9",
   "metadata": {},
   "outputs": [],
   "source": [
    "# Groupby all columns except the one whose categories need aggregation (Effort Level)\n",
    "# We are left with just one value column (value) that we aggregate (mean)\n",
    "# We create a frame from the output and reset the resulting multiindex into columns\n",
    "\n",
    "agg_level_melt = aml.groupby(['ID', 'sex','Location', 'parameter', 'Time'],\n",
    "                             sort=False).value.mean().to_frame().reset_index()"
   ]
  },
  {
   "cell_type": "code",
   "execution_count": 584,
   "id": "fd34c11e-f409-45f2-a6b2-4ea6715c22fa",
   "metadata": {},
   "outputs": [
    {
     "data": {
      "text/html": [
       "<div>\n",
       "<style scoped>\n",
       "    .dataframe tbody tr th:only-of-type {\n",
       "        vertical-align: middle;\n",
       "    }\n",
       "\n",
       "    .dataframe tbody tr th {\n",
       "        vertical-align: top;\n",
       "    }\n",
       "\n",
       "    .dataframe thead th {\n",
       "        text-align: right;\n",
       "    }\n",
       "</style>\n",
       "<table border=\"1\" class=\"dataframe\">\n",
       "  <thead>\n",
       "    <tr style=\"text-align: right;\">\n",
       "      <th></th>\n",
       "      <th>ID</th>\n",
       "      <th>sex</th>\n",
       "      <th>Location</th>\n",
       "      <th>parameter</th>\n",
       "      <th>Time</th>\n",
       "      <th>value</th>\n",
       "    </tr>\n",
       "  </thead>\n",
       "  <tbody>\n",
       "    <tr>\n",
       "      <th>0</th>\n",
       "      <td>t1</td>\n",
       "      <td>f</td>\n",
       "      <td>Jurilovca</td>\n",
       "      <td>Respiratory rate (breaths/min)</td>\n",
       "      <td>final</td>\n",
       "      <td>20.175270</td>\n",
       "    </tr>\n",
       "    <tr>\n",
       "      <th>1</th>\n",
       "      <td>t2</td>\n",
       "      <td>m</td>\n",
       "      <td>Baia</td>\n",
       "      <td>Respiratory rate (breaths/min)</td>\n",
       "      <td>final</td>\n",
       "      <td>34.738224</td>\n",
       "    </tr>\n",
       "  </tbody>\n",
       "</table>\n",
       "</div>"
      ],
      "text/plain": [
       "   ID sex   Location                       parameter   Time      value\n",
       "0  t1   f  Jurilovca  Respiratory rate (breaths/min)  final  20.175270\n",
       "1  t2   m       Baia  Respiratory rate (breaths/min)  final  34.738224"
      ]
     },
     "execution_count": 584,
     "metadata": {},
     "output_type": "execute_result"
    }
   ],
   "source": [
    "agg_level_melt.head(2)"
   ]
  },
  {
   "cell_type": "code",
   "execution_count": 117,
   "id": "45d8e0a4-bb08-446a-ac1c-048c0a321d92",
   "metadata": {},
   "outputs": [],
   "source": [
    "# Create multiindex, unstack the last level, 'Time'\n",
    "agg_level_pivot_time = agg_level_melt.set_index(['ID', 'sex', 'Location', 'parameter', 'Time'],\n",
    "                                                drop=True,        #default - don't keep columns\n",
    "                                                append=False,     #default - don.t keep old index\n",
    "                                                inplace=False,    #default - don.t save new dataframe\n",
    "                                               ).unstack(level='Time', sort=False)"
   ]
  },
  {
   "cell_type": "code",
   "execution_count": 585,
   "id": "cc8ec886-2d9f-4d22-a66d-e376a40f9fa8",
   "metadata": {},
   "outputs": [
    {
     "data": {
      "text/html": [
       "<div>\n",
       "<style scoped>\n",
       "    .dataframe tbody tr th:only-of-type {\n",
       "        vertical-align: middle;\n",
       "    }\n",
       "\n",
       "    .dataframe tbody tr th {\n",
       "        vertical-align: top;\n",
       "    }\n",
       "\n",
       "    .dataframe thead th {\n",
       "        text-align: right;\n",
       "    }\n",
       "</style>\n",
       "<table border=\"1\" class=\"dataframe\">\n",
       "  <thead>\n",
       "    <tr style=\"text-align: right;\">\n",
       "      <th></th>\n",
       "      <th>ID</th>\n",
       "      <th>sex</th>\n",
       "      <th>Location</th>\n",
       "      <th>parameter</th>\n",
       "      <th>initial</th>\n",
       "      <th>final</th>\n",
       "    </tr>\n",
       "  </thead>\n",
       "  <tbody>\n",
       "    <tr>\n",
       "      <th>0</th>\n",
       "      <td>t1</td>\n",
       "      <td>f</td>\n",
       "      <td>Jurilovca</td>\n",
       "      <td>Respiratory rate (breaths/min)</td>\n",
       "      <td>34.738224</td>\n",
       "      <td>20.175270</td>\n",
       "    </tr>\n",
       "    <tr>\n",
       "      <th>1</th>\n",
       "      <td>t2</td>\n",
       "      <td>m</td>\n",
       "      <td>Baia</td>\n",
       "      <td>Respiratory rate (breaths/min)</td>\n",
       "      <td>29.564220</td>\n",
       "      <td>35.978903</td>\n",
       "    </tr>\n",
       "  </tbody>\n",
       "</table>\n",
       "</div>"
      ],
      "text/plain": [
       "   ID sex   Location                       parameter    initial      final\n",
       "0  t1   f  Jurilovca  Respiratory rate (breaths/min)  34.738224  20.175270\n",
       "1  t2   m       Baia  Respiratory rate (breaths/min)  29.564220  35.978903"
      ]
     },
     "execution_count": 585,
     "metadata": {},
     "output_type": "execute_result"
    }
   ],
   "source": [
    "agg_level_pivot_time.head(2)"
   ]
  },
  {
   "cell_type": "code",
   "execution_count": 125,
   "id": "873edbcc-cd8f-4441-b057-b48af00cb603",
   "metadata": {},
   "outputs": [
    {
     "data": {
      "text/plain": [
       "('t1', 'f', 'Jurilovca', 'Respiratory rate (breaths/min)')"
      ]
     },
     "execution_count": 125,
     "metadata": {},
     "output_type": "execute_result"
    }
   ],
   "source": [
    "agg_level_pivot_time.index[0]"
   ]
  },
  {
   "cell_type": "code",
   "execution_count": 147,
   "id": "a372c801-bd56-4f0b-8318-24309b39715c",
   "metadata": {},
   "outputs": [
    {
     "data": {
      "text/plain": [
       "FrozenList(['ID', 'sex', 'Location', 'parameter'])"
      ]
     },
     "execution_count": 147,
     "metadata": {},
     "output_type": "execute_result"
    }
   ],
   "source": [
    "agg_level_pivot_time.index.names"
   ]
  },
  {
   "cell_type": "code",
   "execution_count": 126,
   "id": "8fe1c9f2-0f84-41f3-a04c-35576ebcf82b",
   "metadata": {},
   "outputs": [
    {
     "data": {
      "text/plain": [
       "MultiIndex([('value',   'final'),\n",
       "            ('value', 'initial')],\n",
       "           names=[None, 'Time'])"
      ]
     },
     "execution_count": 126,
     "metadata": {},
     "output_type": "execute_result"
    }
   ],
   "source": [
    "agg_level_pivot_time.columns"
   ]
  },
  {
   "cell_type": "code",
   "execution_count": 127,
   "id": "33d2edd8-92ba-4660-a982-02149df44d81",
   "metadata": {},
   "outputs": [],
   "source": [
    "agg_level_pivot_time.columns.names = ['level 0', 'Time'] \n",
    "# .rename_axis(columns=['lev0', 'Time']) does the same job"
   ]
  },
  {
   "cell_type": "code",
   "execution_count": 128,
   "id": "6ef06580-9272-429b-82a4-ca30a94d8fa9",
   "metadata": {},
   "outputs": [
    {
     "data": {
      "text/plain": [
       "MultiIndex([('value',   'final'),\n",
       "            ('value', 'initial')],\n",
       "           names=['level 0', 'Time'])"
      ]
     },
     "execution_count": 128,
     "metadata": {},
     "output_type": "execute_result"
    }
   ],
   "source": [
    "agg_level_pivot_time.columns"
   ]
  },
  {
   "cell_type": "code",
   "execution_count": 144,
   "id": "9dfa3b14-ae0b-42fa-87c0-3ffdfbff5cd7",
   "metadata": {},
   "outputs": [
    {
     "data": {
      "text/html": [
       "<div>\n",
       "<style scoped>\n",
       "    .dataframe tbody tr th:only-of-type {\n",
       "        vertical-align: middle;\n",
       "    }\n",
       "\n",
       "    .dataframe tbody tr th {\n",
       "        vertical-align: top;\n",
       "    }\n",
       "\n",
       "    .dataframe thead tr th {\n",
       "        text-align: left;\n",
       "    }\n",
       "\n",
       "    .dataframe thead tr:last-of-type th {\n",
       "        text-align: right;\n",
       "    }\n",
       "</style>\n",
       "<table border=\"1\" class=\"dataframe\">\n",
       "  <thead>\n",
       "    <tr>\n",
       "      <th></th>\n",
       "      <th></th>\n",
       "      <th></th>\n",
       "      <th>level 0</th>\n",
       "      <th colspan=\"2\" halign=\"left\">value</th>\n",
       "    </tr>\n",
       "    <tr>\n",
       "      <th></th>\n",
       "      <th></th>\n",
       "      <th></th>\n",
       "      <th>Time</th>\n",
       "      <th>final</th>\n",
       "      <th>initial</th>\n",
       "    </tr>\n",
       "    <tr>\n",
       "      <th>ID</th>\n",
       "      <th>sex</th>\n",
       "      <th>Location</th>\n",
       "      <th>parameter</th>\n",
       "      <th></th>\n",
       "      <th></th>\n",
       "    </tr>\n",
       "  </thead>\n",
       "  <tbody>\n",
       "    <tr>\n",
       "      <th>t1</th>\n",
       "      <th>f</th>\n",
       "      <th>Jurilovca</th>\n",
       "      <th>Respiratory rate (breaths/min)</th>\n",
       "      <td>20.17527</td>\n",
       "      <td>34.738224</td>\n",
       "    </tr>\n",
       "  </tbody>\n",
       "</table>\n",
       "</div>"
      ],
      "text/plain": [
       "level 0                                             value           \n",
       "Time                                                final    initial\n",
       "ID sex Location  parameter                                          \n",
       "t1 f   Jurilovca Respiratory rate (breaths/min)  20.17527  34.738224"
      ]
     },
     "execution_count": 144,
     "metadata": {},
     "output_type": "execute_result"
    }
   ],
   "source": [
    "agg_level_pivot_time.head(1)"
   ]
  },
  {
   "cell_type": "code",
   "execution_count": 143,
   "id": "e4699c0a-9d60-4949-8e53-0537fc43423e",
   "metadata": {},
   "outputs": [
    {
     "data": {
      "text/html": [
       "<div>\n",
       "<style scoped>\n",
       "    .dataframe tbody tr th:only-of-type {\n",
       "        vertical-align: middle;\n",
       "    }\n",
       "\n",
       "    .dataframe tbody tr th {\n",
       "        vertical-align: top;\n",
       "    }\n",
       "\n",
       "    .dataframe thead tr th {\n",
       "        text-align: left;\n",
       "    }\n",
       "</style>\n",
       "<table border=\"1\" class=\"dataframe\">\n",
       "  <thead>\n",
       "    <tr>\n",
       "      <th>level 0</th>\n",
       "      <th>ID</th>\n",
       "      <th>sex</th>\n",
       "      <th>Location</th>\n",
       "      <th>parameter</th>\n",
       "      <th colspan=\"2\" halign=\"left\">value</th>\n",
       "    </tr>\n",
       "    <tr>\n",
       "      <th>Time</th>\n",
       "      <th>x</th>\n",
       "      <th>x</th>\n",
       "      <th>x</th>\n",
       "      <th>x</th>\n",
       "      <th>final</th>\n",
       "      <th>initial</th>\n",
       "    </tr>\n",
       "  </thead>\n",
       "  <tbody>\n",
       "    <tr>\n",
       "      <th>0</th>\n",
       "      <td>t1</td>\n",
       "      <td>f</td>\n",
       "      <td>Jurilovca</td>\n",
       "      <td>Respiratory rate (breaths/min)</td>\n",
       "      <td>20.17527</td>\n",
       "      <td>34.738224</td>\n",
       "    </tr>\n",
       "  </tbody>\n",
       "</table>\n",
       "</div>"
      ],
      "text/plain": [
       "level 0  ID sex   Location                       parameter     value  \\\n",
       "Time      x   x          x                               x     final   \n",
       "0        t1   f  Jurilovca  Respiratory rate (breaths/min)  20.17527   \n",
       "\n",
       "level 0             \n",
       "Time       initial  \n",
       "0        34.738224  "
      ]
     },
     "execution_count": 143,
     "metadata": {},
     "output_type": "execute_result"
    }
   ],
   "source": [
    "agg_level_pivot_time.reset_index(col_fill='x').head(1)\n",
    "# Only resets index multiindex and moves it by default on the first column level (level 0)"
   ]
  },
  {
   "cell_type": "code",
   "execution_count": 150,
   "id": "76b63fb9-a57d-46db-bada-23abc48e6cb6",
   "metadata": {},
   "outputs": [],
   "source": [
    "agg_level_pivot_time.reset_index(col_level=1, col_fill='x', inplace=True)"
   ]
  },
  {
   "cell_type": "code",
   "execution_count": 157,
   "id": "9e2f5b71-6e5d-4b2a-ba76-661e8c160ae1",
   "metadata": {},
   "outputs": [
    {
     "data": {
      "text/html": [
       "<div>\n",
       "<style scoped>\n",
       "    .dataframe tbody tr th:only-of-type {\n",
       "        vertical-align: middle;\n",
       "    }\n",
       "\n",
       "    .dataframe tbody tr th {\n",
       "        vertical-align: top;\n",
       "    }\n",
       "\n",
       "    .dataframe thead tr th {\n",
       "        text-align: left;\n",
       "    }\n",
       "</style>\n",
       "<table border=\"1\" class=\"dataframe\">\n",
       "  <thead>\n",
       "    <tr>\n",
       "      <th>level 0</th>\n",
       "      <th colspan=\"4\" halign=\"left\">x</th>\n",
       "      <th colspan=\"2\" halign=\"left\">value</th>\n",
       "    </tr>\n",
       "    <tr>\n",
       "      <th>Time</th>\n",
       "      <th>ID</th>\n",
       "      <th>sex</th>\n",
       "      <th>Location</th>\n",
       "      <th>parameter</th>\n",
       "      <th>final</th>\n",
       "      <th>initial</th>\n",
       "    </tr>\n",
       "  </thead>\n",
       "  <tbody>\n",
       "    <tr>\n",
       "      <th>0</th>\n",
       "      <td>t1</td>\n",
       "      <td>f</td>\n",
       "      <td>Jurilovca</td>\n",
       "      <td>Respiratory rate (breaths/min)</td>\n",
       "      <td>20.17527</td>\n",
       "      <td>34.738224</td>\n",
       "    </tr>\n",
       "  </tbody>\n",
       "</table>\n",
       "</div>"
      ],
      "text/plain": [
       "level 0   x                                                    value  \\\n",
       "Time     ID sex   Location                       parameter     final   \n",
       "0        t1   f  Jurilovca  Respiratory rate (breaths/min)  20.17527   \n",
       "\n",
       "level 0             \n",
       "Time       initial  \n",
       "0        34.738224  "
      ]
     },
     "execution_count": 157,
     "metadata": {},
     "output_type": "execute_result"
    }
   ],
   "source": [
    "agg_level_pivot_time.head(1)\n",
    "# 'x' is really repeated but not shown as such, because of hierarchy"
   ]
  },
  {
   "cell_type": "code",
   "execution_count": 159,
   "id": "e7603372-0f62-4e7e-93b1-505116f48794",
   "metadata": {},
   "outputs": [
    {
     "data": {
      "text/plain": [
       "MultiIndex([(    'x',        'ID'),\n",
       "            (    'x',       'sex'),\n",
       "            (    'x',  'Location'),\n",
       "            (    'x', 'parameter'),\n",
       "            ('value',     'final'),\n",
       "            ('value',   'initial')],\n",
       "           names=['level 0', 'Time'])"
      ]
     },
     "execution_count": 159,
     "metadata": {},
     "output_type": "execute_result"
    }
   ],
   "source": [
    "agg_level_pivot_time.columns"
   ]
  },
  {
   "cell_type": "code",
   "execution_count": 174,
   "id": "c11f82c3-d50b-48a7-9f42-22c2a4d9b01c",
   "metadata": {},
   "outputs": [
    {
     "data": {
      "text/plain": [
       "Index(['ID', 'sex', 'Location', 'parameter', 'final', 'initial'], dtype='object', name='Time')"
      ]
     },
     "execution_count": 174,
     "metadata": {},
     "output_type": "execute_result"
    }
   ],
   "source": [
    "agg_level_pivot_time.columns.droplevel(0)"
   ]
  },
  {
   "cell_type": "code",
   "execution_count": 175,
   "id": "27c8ffbb-38e7-406f-9653-5489564822ba",
   "metadata": {},
   "outputs": [],
   "source": [
    "agg_level_pivot_time = agg_level_pivot_time.droplevel(axis=1, level=0)\n",
    "# default axis=0, removes index levels, can also accept axis names"
   ]
  },
  {
   "cell_type": "code",
   "execution_count": 181,
   "id": "60248482-942c-4a0d-ac8b-33453634cfd1",
   "metadata": {},
   "outputs": [],
   "source": [
    "agg_level_pivot_time.columns.names = [None]    #Initially named 'Time'"
   ]
  },
  {
   "cell_type": "code",
   "execution_count": 183,
   "id": "f6b0e23e-b83a-4eee-b485-fd8c93f4061e",
   "metadata": {},
   "outputs": [
    {
     "data": {
      "text/html": [
       "<div>\n",
       "<style scoped>\n",
       "    .dataframe tbody tr th:only-of-type {\n",
       "        vertical-align: middle;\n",
       "    }\n",
       "\n",
       "    .dataframe tbody tr th {\n",
       "        vertical-align: top;\n",
       "    }\n",
       "\n",
       "    .dataframe thead th {\n",
       "        text-align: right;\n",
       "    }\n",
       "</style>\n",
       "<table border=\"1\" class=\"dataframe\">\n",
       "  <thead>\n",
       "    <tr style=\"text-align: right;\">\n",
       "      <th></th>\n",
       "      <th>ID</th>\n",
       "      <th>sex</th>\n",
       "      <th>Location</th>\n",
       "      <th>parameter</th>\n",
       "      <th>final</th>\n",
       "      <th>initial</th>\n",
       "    </tr>\n",
       "  </thead>\n",
       "  <tbody>\n",
       "    <tr>\n",
       "      <th>0</th>\n",
       "      <td>t1</td>\n",
       "      <td>f</td>\n",
       "      <td>Jurilovca</td>\n",
       "      <td>Respiratory rate (breaths/min)</td>\n",
       "      <td>20.17527</td>\n",
       "      <td>34.738224</td>\n",
       "    </tr>\n",
       "  </tbody>\n",
       "</table>\n",
       "</div>"
      ],
      "text/plain": [
       "   ID sex   Location                       parameter     final    initial\n",
       "0  t1   f  Jurilovca  Respiratory rate (breaths/min)  20.17527  34.738224"
      ]
     },
     "execution_count": 183,
     "metadata": {},
     "output_type": "execute_result"
    }
   ],
   "source": [
    "agg_level_pivot_time.head(1)"
   ]
  },
  {
   "cell_type": "code",
   "execution_count": 184,
   "id": "02d96ab3-5419-408c-93d2-be545572e6eb",
   "metadata": {},
   "outputs": [
    {
     "data": {
      "text/plain": [
       "Index(['ID', 'sex', 'Location', 'parameter', 'final', 'initial'], dtype='object')"
      ]
     },
     "execution_count": 184,
     "metadata": {},
     "output_type": "execute_result"
    }
   ],
   "source": [
    "agg_level_pivot_time.columns"
   ]
  },
  {
   "cell_type": "code",
   "execution_count": 185,
   "id": "e75581bd-d1ff-4a77-b62c-66796e58f32b",
   "metadata": {},
   "outputs": [],
   "source": [
    "agg_level_pivot_time = agg_level_pivot_time[['ID', 'sex', 'Location',\n",
    "                                             'parameter', 'initial', 'final']]"
   ]
  },
  {
   "cell_type": "code",
   "execution_count": 468,
   "id": "9a9f21f3-e5cb-42db-9ebc-aef1fa64c17a",
   "metadata": {},
   "outputs": [],
   "source": [
    "agg_ttest_res = pd.DataFrame(data=None,\n",
    "                             index=range(16),\n",
    "                             columns=['Parameter',\n",
    "                                      'Significance level',\n",
    "                                      'Degrees of freedom',\n",
    "                                      'T critical (two tailed)',\n",
    "                                      'T statistic', 'T test p-value (two-tailed)',\n",
    "                                      'Levene statistic', 'Levene p-value',\n",
    "                                      'Effect size (Cohen d)'])\n",
    "agg_ttest_res['Significance level'] = 0.05"
   ]
  },
  {
   "cell_type": "code",
   "execution_count": 469,
   "id": "c04ec905-1243-444b-97a7-28f04b6e026e",
   "metadata": {},
   "outputs": [],
   "source": [
    "k = 0\n",
    "for i, j in agg_level_pivot_time.groupby('parameter', sort=False):\n",
    "    t_res = st.ttest_rel(j.initial, j.final, alternative='two-sided')\n",
    "    levene = st.levene(j.initial, j.final)\n",
    "    cohen = cohen_glass_hedges(j.initial, j.final)\n",
    "    agg_ttest_res.loc[k, 'Parameter'] = i\n",
    "    agg_ttest_res.loc[k, 'Degrees of freedom'] = len(j.initial) - 1\n",
    "    agg_ttest_res.loc[k, 'T critical (two tailed)'] = - st.t.ppf(0.025, len(j.initial) - 1).round(2)\n",
    "    agg_ttest_res.loc[k, 'T statistic'] = t_res[0].round(2)\n",
    "    agg_ttest_res.loc[k, 'T test p-value (two-tailed)'] = t_res[1].round(3)\n",
    "    agg_ttest_res.loc[k, 'Levene statistic'] = levene[0].round(2)\n",
    "    agg_ttest_res.loc[k, 'Levene p-value'] = levene[1].round(3)\n",
    "    agg_ttest_res.loc[k, 'Effect size (Cohen d)'] = cohen[0].round(2)\n",
    "    k += 1"
   ]
  },
  {
   "cell_type": "code",
   "execution_count": 470,
   "id": "79921bee-cdc3-45b0-8199-118cdceb1418",
   "metadata": {},
   "outputs": [
    {
     "data": {
      "text/html": [
       "<div>\n",
       "<style scoped>\n",
       "    .dataframe tbody tr th:only-of-type {\n",
       "        vertical-align: middle;\n",
       "    }\n",
       "\n",
       "    .dataframe tbody tr th {\n",
       "        vertical-align: top;\n",
       "    }\n",
       "\n",
       "    .dataframe thead th {\n",
       "        text-align: right;\n",
       "    }\n",
       "</style>\n",
       "<table border=\"1\" class=\"dataframe\">\n",
       "  <thead>\n",
       "    <tr style=\"text-align: right;\">\n",
       "      <th>Parameter</th>\n",
       "      <th>Respiratory rate (breaths/min)</th>\n",
       "      <th>Heart rate (beats/min)</th>\n",
       "      <th>Ventilation (l/min)</th>\n",
       "      <th>O2 intake (l/min)</th>\n",
       "      <th>Relative O2 intake (ml/kg/min)</th>\n",
       "      <th>CO2 expired (l/min)</th>\n",
       "      <th>Relative CO2 expired (ml/kg/min)</th>\n",
       "      <th>Respiratory exchange ratio</th>\n",
       "      <th>Ventilation oxygen equivalent (l)</th>\n",
       "      <th>O2 per pulse (l)</th>\n",
       "      <th>Fat energy (kcl/h)</th>\n",
       "      <th>Carbohydrates energy (kcal/h)</th>\n",
       "      <th>Fat energy %</th>\n",
       "      <th>Carbohydrates energy %</th>\n",
       "      <th>Total energy (kcal/h)</th>\n",
       "      <th>Metabolic equivalent of task (MET) (3.5ml/kg/min)</th>\n",
       "    </tr>\n",
       "  </thead>\n",
       "  <tbody>\n",
       "    <tr>\n",
       "      <th>Significance level</th>\n",
       "      <td>0.05</td>\n",
       "      <td>0.05</td>\n",
       "      <td>0.05</td>\n",
       "      <td>0.05</td>\n",
       "      <td>0.05</td>\n",
       "      <td>0.05</td>\n",
       "      <td>0.05</td>\n",
       "      <td>0.05</td>\n",
       "      <td>0.05</td>\n",
       "      <td>0.05</td>\n",
       "      <td>0.05</td>\n",
       "      <td>0.05</td>\n",
       "      <td>0.05</td>\n",
       "      <td>0.05</td>\n",
       "      <td>0.05</td>\n",
       "      <td>0.05</td>\n",
       "    </tr>\n",
       "    <tr>\n",
       "      <th>Degrees of freedom</th>\n",
       "      <td>38</td>\n",
       "      <td>38</td>\n",
       "      <td>38</td>\n",
       "      <td>38</td>\n",
       "      <td>38</td>\n",
       "      <td>38</td>\n",
       "      <td>38</td>\n",
       "      <td>38</td>\n",
       "      <td>38</td>\n",
       "      <td>38</td>\n",
       "      <td>38</td>\n",
       "      <td>38</td>\n",
       "      <td>38</td>\n",
       "      <td>38</td>\n",
       "      <td>38</td>\n",
       "      <td>38</td>\n",
       "    </tr>\n",
       "    <tr>\n",
       "      <th>T critical (two tailed)</th>\n",
       "      <td>2.02</td>\n",
       "      <td>2.02</td>\n",
       "      <td>2.02</td>\n",
       "      <td>2.02</td>\n",
       "      <td>2.02</td>\n",
       "      <td>2.02</td>\n",
       "      <td>2.02</td>\n",
       "      <td>2.02</td>\n",
       "      <td>2.02</td>\n",
       "      <td>2.02</td>\n",
       "      <td>2.02</td>\n",
       "      <td>2.02</td>\n",
       "      <td>2.02</td>\n",
       "      <td>2.02</td>\n",
       "      <td>2.02</td>\n",
       "      <td>2.02</td>\n",
       "    </tr>\n",
       "    <tr>\n",
       "      <th>T statistic</th>\n",
       "      <td>-0.4</td>\n",
       "      <td>0.51</td>\n",
       "      <td>-0.42</td>\n",
       "      <td>-0.53</td>\n",
       "      <td>-0.5</td>\n",
       "      <td>-0.48</td>\n",
       "      <td>-0.3</td>\n",
       "      <td>-0.19</td>\n",
       "      <td>-0.08</td>\n",
       "      <td>-1.06</td>\n",
       "      <td>-0.31</td>\n",
       "      <td>-0.32</td>\n",
       "      <td>-0.32</td>\n",
       "      <td>0.09</td>\n",
       "      <td>-0.52</td>\n",
       "      <td>-0.5</td>\n",
       "    </tr>\n",
       "    <tr>\n",
       "      <th>T test p-value (two-tailed)</th>\n",
       "      <td>0.689</td>\n",
       "      <td>0.611</td>\n",
       "      <td>0.679</td>\n",
       "      <td>0.6</td>\n",
       "      <td>0.617</td>\n",
       "      <td>0.633</td>\n",
       "      <td>0.765</td>\n",
       "      <td>0.849</td>\n",
       "      <td>0.939</td>\n",
       "      <td>0.294</td>\n",
       "      <td>0.755</td>\n",
       "      <td>0.753</td>\n",
       "      <td>0.753</td>\n",
       "      <td>0.931</td>\n",
       "      <td>0.609</td>\n",
       "      <td>0.617</td>\n",
       "    </tr>\n",
       "    <tr>\n",
       "      <th>Levene statistic</th>\n",
       "      <td>0.26</td>\n",
       "      <td>0.49</td>\n",
       "      <td>1.48</td>\n",
       "      <td>0.34</td>\n",
       "      <td>0.21</td>\n",
       "      <td>1.22</td>\n",
       "      <td>0.53</td>\n",
       "      <td>0.02</td>\n",
       "      <td>0.41</td>\n",
       "      <td>0.03</td>\n",
       "      <td>0.16</td>\n",
       "      <td>1.36</td>\n",
       "      <td>0.12</td>\n",
       "      <td>0.01</td>\n",
       "      <td>0.49</td>\n",
       "      <td>0.21</td>\n",
       "    </tr>\n",
       "    <tr>\n",
       "      <th>Levene p-value</th>\n",
       "      <td>0.614</td>\n",
       "      <td>0.485</td>\n",
       "      <td>0.227</td>\n",
       "      <td>0.564</td>\n",
       "      <td>0.648</td>\n",
       "      <td>0.272</td>\n",
       "      <td>0.467</td>\n",
       "      <td>0.901</td>\n",
       "      <td>0.525</td>\n",
       "      <td>0.854</td>\n",
       "      <td>0.69</td>\n",
       "      <td>0.247</td>\n",
       "      <td>0.726</td>\n",
       "      <td>0.918</td>\n",
       "      <td>0.484</td>\n",
       "      <td>0.648</td>\n",
       "    </tr>\n",
       "    <tr>\n",
       "      <th>Effect size (Cohen d)</th>\n",
       "      <td>-0.09</td>\n",
       "      <td>0.13</td>\n",
       "      <td>-0.1</td>\n",
       "      <td>-0.14</td>\n",
       "      <td>-0.12</td>\n",
       "      <td>-0.12</td>\n",
       "      <td>-0.07</td>\n",
       "      <td>-0.04</td>\n",
       "      <td>-0.02</td>\n",
       "      <td>-0.27</td>\n",
       "      <td>-0.07</td>\n",
       "      <td>-0.08</td>\n",
       "      <td>-0.07</td>\n",
       "      <td>0.02</td>\n",
       "      <td>-0.13</td>\n",
       "      <td>-0.12</td>\n",
       "    </tr>\n",
       "  </tbody>\n",
       "</table>\n",
       "</div>"
      ],
      "text/plain": [
       "Parameter                   Respiratory rate (breaths/min)  \\\n",
       "Significance level                                    0.05   \n",
       "Degrees of freedom                                      38   \n",
       "T critical (two tailed)                               2.02   \n",
       "T statistic                                           -0.4   \n",
       "T test p-value (two-tailed)                          0.689   \n",
       "Levene statistic                                      0.26   \n",
       "Levene p-value                                       0.614   \n",
       "Effect size (Cohen d)                                -0.09   \n",
       "\n",
       "Parameter                   Heart rate (beats/min) Ventilation (l/min)  \\\n",
       "Significance level                            0.05                0.05   \n",
       "Degrees of freedom                              38                  38   \n",
       "T critical (two tailed)                       2.02                2.02   \n",
       "T statistic                                   0.51               -0.42   \n",
       "T test p-value (two-tailed)                  0.611               0.679   \n",
       "Levene statistic                              0.49                1.48   \n",
       "Levene p-value                               0.485               0.227   \n",
       "Effect size (Cohen d)                         0.13                -0.1   \n",
       "\n",
       "Parameter                   O2 intake (l/min) Relative O2 intake (ml/kg/min)  \\\n",
       "Significance level                       0.05                           0.05   \n",
       "Degrees of freedom                         38                             38   \n",
       "T critical (two tailed)                  2.02                           2.02   \n",
       "T statistic                             -0.53                           -0.5   \n",
       "T test p-value (two-tailed)               0.6                          0.617   \n",
       "Levene statistic                         0.34                           0.21   \n",
       "Levene p-value                          0.564                          0.648   \n",
       "Effect size (Cohen d)                   -0.14                          -0.12   \n",
       "\n",
       "Parameter                   CO2 expired (l/min)  \\\n",
       "Significance level                         0.05   \n",
       "Degrees of freedom                           38   \n",
       "T critical (two tailed)                    2.02   \n",
       "T statistic                               -0.48   \n",
       "T test p-value (two-tailed)               0.633   \n",
       "Levene statistic                           1.22   \n",
       "Levene p-value                            0.272   \n",
       "Effect size (Cohen d)                     -0.12   \n",
       "\n",
       "Parameter                   Relative CO2 expired (ml/kg/min)  \\\n",
       "Significance level                                      0.05   \n",
       "Degrees of freedom                                        38   \n",
       "T critical (two tailed)                                 2.02   \n",
       "T statistic                                             -0.3   \n",
       "T test p-value (two-tailed)                            0.765   \n",
       "Levene statistic                                        0.53   \n",
       "Levene p-value                                         0.467   \n",
       "Effect size (Cohen d)                                  -0.07   \n",
       "\n",
       "Parameter                   Respiratory exchange ratio  \\\n",
       "Significance level                                0.05   \n",
       "Degrees of freedom                                  38   \n",
       "T critical (two tailed)                           2.02   \n",
       "T statistic                                      -0.19   \n",
       "T test p-value (two-tailed)                      0.849   \n",
       "Levene statistic                                  0.02   \n",
       "Levene p-value                                   0.901   \n",
       "Effect size (Cohen d)                            -0.04   \n",
       "\n",
       "Parameter                   Ventilation oxygen equivalent (l)  \\\n",
       "Significance level                                       0.05   \n",
       "Degrees of freedom                                         38   \n",
       "T critical (two tailed)                                  2.02   \n",
       "T statistic                                             -0.08   \n",
       "T test p-value (two-tailed)                             0.939   \n",
       "Levene statistic                                         0.41   \n",
       "Levene p-value                                          0.525   \n",
       "Effect size (Cohen d)                                   -0.02   \n",
       "\n",
       "Parameter                   O2 per pulse (l) Fat energy (kcl/h)  \\\n",
       "Significance level                      0.05               0.05   \n",
       "Degrees of freedom                        38                 38   \n",
       "T critical (two tailed)                 2.02               2.02   \n",
       "T statistic                            -1.06              -0.31   \n",
       "T test p-value (two-tailed)            0.294              0.755   \n",
       "Levene statistic                        0.03               0.16   \n",
       "Levene p-value                         0.854               0.69   \n",
       "Effect size (Cohen d)                  -0.27              -0.07   \n",
       "\n",
       "Parameter                   Carbohydrates energy (kcal/h) Fat energy %  \\\n",
       "Significance level                                   0.05         0.05   \n",
       "Degrees of freedom                                     38           38   \n",
       "T critical (two tailed)                              2.02         2.02   \n",
       "T statistic                                         -0.32        -0.32   \n",
       "T test p-value (two-tailed)                         0.753        0.753   \n",
       "Levene statistic                                     1.36         0.12   \n",
       "Levene p-value                                      0.247        0.726   \n",
       "Effect size (Cohen d)                               -0.08        -0.07   \n",
       "\n",
       "Parameter                   Carbohydrates energy % Total energy (kcal/h)  \\\n",
       "Significance level                            0.05                  0.05   \n",
       "Degrees of freedom                              38                    38   \n",
       "T critical (two tailed)                       2.02                  2.02   \n",
       "T statistic                                   0.09                 -0.52   \n",
       "T test p-value (two-tailed)                  0.931                 0.609   \n",
       "Levene statistic                              0.01                  0.49   \n",
       "Levene p-value                               0.918                 0.484   \n",
       "Effect size (Cohen d)                         0.02                 -0.13   \n",
       "\n",
       "Parameter                   Metabolic equivalent of task (MET) (3.5ml/kg/min)  \n",
       "Significance level                                                       0.05  \n",
       "Degrees of freedom                                                         38  \n",
       "T critical (two tailed)                                                  2.02  \n",
       "T statistic                                                              -0.5  \n",
       "T test p-value (two-tailed)                                             0.617  \n",
       "Levene statistic                                                         0.21  \n",
       "Levene p-value                                                          0.648  \n",
       "Effect size (Cohen d)                                                   -0.12  "
      ]
     },
     "execution_count": 470,
     "metadata": {},
     "output_type": "execute_result"
    }
   ],
   "source": [
    "agg_ttest_res = agg_ttest_res.set_index('Parameter').T\n",
    "agg_ttest_res"
   ]
  },
  {
   "cell_type": "code",
   "execution_count": 212,
   "id": "dfa041af-a1bf-4f83-8967-cb69f051d8ad",
   "metadata": {},
   "outputs": [
    {
     "data": {
      "text/plain": [
       "Index(['ID', 'sex', 'Location', 'parameter', 'Time', 'value'], dtype='object')"
      ]
     },
     "execution_count": 212,
     "metadata": {},
     "output_type": "execute_result"
    }
   ],
   "source": [
    "agg_level_melt.columns"
   ]
  },
  {
   "cell_type": "code",
   "execution_count": 221,
   "id": "c56e0090-9faa-4879-8f5b-1090c9e334b3",
   "metadata": {},
   "outputs": [],
   "source": [
    "# for i, j in agg_level_melt.groupby('parameter', sort=False):\n",
    "#     mpl.pyplot.figure(figsize=(14,6))\n",
    "#     sns.set_style(\"whitegrid\")\n",
    "#     sns.catplot(data=j,\n",
    "#                 x='sex', y='value',\n",
    "#                 hue='Time', hue_order=['initial','final'],\n",
    "#                 sharex=False, sharey=True,\n",
    "#                 kind='violin',\n",
    "#                ).set_ylabels(i)\n",
    "#     plt.savefig(f'figures/agg/simple/{i.replace(\"/\",\" \")}-violinplot-simple.pdf')\n",
    "#     plt.savefig(f'figures/agg/simple/{i.replace(\"/\",\" \")}-violinplot-simple.svg')"
   ]
  },
  {
   "cell_type": "code",
   "execution_count": 432,
   "id": "af78b8ad-149c-4681-851d-2e53f2e5e9e6",
   "metadata": {},
   "outputs": [],
   "source": [
    "amagg = am.pivot(values='value',\n",
    "                 index=['ID', 'sex', 'location', 'parameter', 'time'],\n",
    "                 columns='level').reset_index()"
   ]
  },
  {
   "cell_type": "code",
   "execution_count": 435,
   "id": "ae1c7c23-6361-4428-b913-76e144b051a6",
   "metadata": {},
   "outputs": [],
   "source": [
    "short_param_order = {label : index for index, label in enumerate(am.parameter.unique())}"
   ]
  },
  {
   "cell_type": "code",
   "execution_count": 442,
   "id": "0d56f0a0-888b-4804-8e00-afcb9b5adea5",
   "metadata": {},
   "outputs": [],
   "source": [
    "amagg.sort_values(by=['parameter','ID'],\n",
    "                  ignore_index=True,\n",
    "                  inplace=True,\n",
    "                  key=lambda x: x.map(short_param_order))"
   ]
  },
  {
   "cell_type": "code",
   "execution_count": 444,
   "id": "2f3b7063-1d4d-46ab-bb16-aefa058ec1a6",
   "metadata": {},
   "outputs": [],
   "source": [
    "amagg['mean_l'] = 0.01"
   ]
  },
  {
   "cell_type": "code",
   "execution_count": 447,
   "id": "47b3b76e-b5cc-4fea-9aea-ff2052e122f9",
   "metadata": {},
   "outputs": [
    {
     "data": {
      "text/plain": [
       "Index(['ID', 'sex', 'location', 'parameter', 'time', 1, 2, 3, 'mean_l'], dtype='object', name='level')"
      ]
     },
     "execution_count": 447,
     "metadata": {},
     "output_type": "execute_result"
    }
   ],
   "source": [
    "amagg.columns"
   ]
  },
  {
   "cell_type": "code",
   "execution_count": 451,
   "id": "1254ca97-97b7-4aef-baa6-a20bbea0fab6",
   "metadata": {},
   "outputs": [],
   "source": [
    "amagg.loc[:,'mean_l'] = amagg.loc[:,[1,2,3]].apply(axis=1, func='mean')"
   ]
  },
  {
   "cell_type": "code",
   "execution_count": 453,
   "id": "7f42418c-4c65-4d89-9fb1-d7a9cb39d020",
   "metadata": {},
   "outputs": [],
   "source": [
    "amagg.drop(columns=[1,2,3], inplace=True)"
   ]
  },
  {
   "cell_type": "code",
   "execution_count": 457,
   "id": "525bcf18-2be8-46da-a5a5-661ea22658b5",
   "metadata": {},
   "outputs": [],
   "source": [
    "apagg = amagg.pivot(columns='time',\n",
    "                    index=['ID', 'sex', 'location', 'parameter'],\n",
    "                    values='mean_l').reset_index().sort_values(by=['parameter','ID'],\n",
    "                                                               ignore_index=True,\n",
    "                                                               key=lambda x: x.map(short_param_order))"
   ]
  },
  {
   "cell_type": "code",
   "execution_count": 561,
   "id": "025f1419-d3ef-4961-a84e-79de6509c285",
   "metadata": {},
   "outputs": [],
   "source": [
    "shagg_ttest_res = pd.DataFrame(data=None,\n",
    "                               index=range(16),\n",
    "                               columns=['Parameter',\n",
    "                                        'Significance level',\n",
    "                                        'Degrees of freedom',\n",
    "                                        'T critical (two tailed)',\n",
    "                                        'T statistic', 'T test p-value (two-tailed)',\n",
    "                                        'Levene statistic', 'Levene p-value',\n",
    "                                        'Effect size (Cohen d)'])\n",
    "shagg_ttest_res['Significance level'] = 0.05"
   ]
  },
  {
   "cell_type": "code",
   "execution_count": 562,
   "id": "4247bd56-1748-418e-97b1-6af7a0bac570",
   "metadata": {},
   "outputs": [],
   "source": [
    "# Troubleshooting\n",
    "# agglm_temp = agg_level_melt.copy()\n",
    "# agglm_temp.Time = agglm_temp.Time.replace(dict(zip(['final', 'initial'],['f','i'])))\n",
    "# agglm_temp = agglm_temp.pivot(columns='Time',\n",
    "#                  index=['ID', 'sex', 'Location', 'parameter'],\n",
    "#                  values='value').reset_index().sort_values(by=['parameter','ID'],\n",
    "#                                                                ignore_index=True,\n",
    "#                                                                key=lambda x: x.map(param_order))"
   ]
  },
  {
   "cell_type": "code",
   "execution_count": 563,
   "id": "6591556e-9591-475a-a2ac-961c953fce78",
   "metadata": {},
   "outputs": [],
   "source": [
    "k = 0\n",
    "for param in apagg.parameter.unique():\n",
    "    t_pair = apagg.loc[apagg.parameter==param]\n",
    "    t_res = st.ttest_rel(t_pair.i, t_pair.f, alternative='two-sided')\n",
    "    levene = st.levene(t_pair.i, t_pair.f)\n",
    "    cohen = cohen_glass_hedges(t_pair.i, t_pair.f)\n",
    "    shagg_ttest_res.loc[k, 'Parameter'] = param\n",
    "    shagg_ttest_res.loc[k, 'Degrees of freedom'] = len(t_pair.i) - 1\n",
    "    shagg_ttest_res.loc[k, 'T critical (two tailed)'] = - st.t.ppf(0.025, len(t_pair.i) - 1).round(2)\n",
    "    shagg_ttest_res.loc[k, 'T statistic'] = t_res[0].round(2)\n",
    "    shagg_ttest_res.loc[k, 'T test p-value (two-tailed)'] = t_res[1].round(3)\n",
    "    shagg_ttest_res.loc[k, 'Levene statistic'] = levene[0].round(2)\n",
    "    shagg_ttest_res.loc[k, 'Levene p-value'] = levene[1].round(3)\n",
    "    shagg_ttest_res.loc[k, 'Effect size (Cohen d)'] = cohen[0].round(2)\n",
    "    k += 1"
   ]
  },
  {
   "cell_type": "code",
   "execution_count": 564,
   "id": "567ec8ad-e08e-4778-8def-8fe900d335b7",
   "metadata": {},
   "outputs": [
    {
     "data": {
      "text/html": [
       "<div>\n",
       "<style scoped>\n",
       "    .dataframe tbody tr th:only-of-type {\n",
       "        vertical-align: middle;\n",
       "    }\n",
       "\n",
       "    .dataframe tbody tr th {\n",
       "        vertical-align: top;\n",
       "    }\n",
       "\n",
       "    .dataframe thead th {\n",
       "        text-align: right;\n",
       "    }\n",
       "</style>\n",
       "<table border=\"1\" class=\"dataframe\">\n",
       "  <thead>\n",
       "    <tr style=\"text-align: right;\">\n",
       "      <th>Parameter</th>\n",
       "      <th>rrate</th>\n",
       "      <th>hrate</th>\n",
       "      <th>ventilation</th>\n",
       "      <th>vo2</th>\n",
       "      <th>vo2rel</th>\n",
       "      <th>vco2</th>\n",
       "      <th>vco2rel</th>\n",
       "      <th>rer</th>\n",
       "      <th>vo2eq</th>\n",
       "      <th>vo2pulse</th>\n",
       "      <th>fat</th>\n",
       "      <th>carb</th>\n",
       "      <th>fat100</th>\n",
       "      <th>carb100</th>\n",
       "      <th>energy</th>\n",
       "      <th>met</th>\n",
       "    </tr>\n",
       "  </thead>\n",
       "  <tbody>\n",
       "    <tr>\n",
       "      <th>Significance level</th>\n",
       "      <td>0.05</td>\n",
       "      <td>0.05</td>\n",
       "      <td>0.05</td>\n",
       "      <td>0.05</td>\n",
       "      <td>0.05</td>\n",
       "      <td>0.05</td>\n",
       "      <td>0.05</td>\n",
       "      <td>0.05</td>\n",
       "      <td>0.05</td>\n",
       "      <td>0.05</td>\n",
       "      <td>0.05</td>\n",
       "      <td>0.05</td>\n",
       "      <td>0.05</td>\n",
       "      <td>0.05</td>\n",
       "      <td>0.05</td>\n",
       "      <td>0.05</td>\n",
       "    </tr>\n",
       "    <tr>\n",
       "      <th>Degrees of freedom</th>\n",
       "      <td>38</td>\n",
       "      <td>38</td>\n",
       "      <td>38</td>\n",
       "      <td>38</td>\n",
       "      <td>38</td>\n",
       "      <td>38</td>\n",
       "      <td>38</td>\n",
       "      <td>38</td>\n",
       "      <td>38</td>\n",
       "      <td>38</td>\n",
       "      <td>38</td>\n",
       "      <td>38</td>\n",
       "      <td>38</td>\n",
       "      <td>38</td>\n",
       "      <td>38</td>\n",
       "      <td>38</td>\n",
       "    </tr>\n",
       "    <tr>\n",
       "      <th>T critical (two tailed)</th>\n",
       "      <td>2.02</td>\n",
       "      <td>2.02</td>\n",
       "      <td>2.02</td>\n",
       "      <td>2.02</td>\n",
       "      <td>2.02</td>\n",
       "      <td>2.02</td>\n",
       "      <td>2.02</td>\n",
       "      <td>2.02</td>\n",
       "      <td>2.02</td>\n",
       "      <td>2.02</td>\n",
       "      <td>2.02</td>\n",
       "      <td>2.02</td>\n",
       "      <td>2.02</td>\n",
       "      <td>2.02</td>\n",
       "      <td>2.02</td>\n",
       "      <td>2.02</td>\n",
       "    </tr>\n",
       "    <tr>\n",
       "      <th>T statistic</th>\n",
       "      <td>2.65</td>\n",
       "      <td>2.75</td>\n",
       "      <td>3.6</td>\n",
       "      <td>2.1</td>\n",
       "      <td>2.12</td>\n",
       "      <td>3.15</td>\n",
       "      <td>3.12</td>\n",
       "      <td>2.35</td>\n",
       "      <td>2.83</td>\n",
       "      <td>0.25</td>\n",
       "      <td>-2.07</td>\n",
       "      <td>2.67</td>\n",
       "      <td>-2.02</td>\n",
       "      <td>1.86</td>\n",
       "      <td>2.18</td>\n",
       "      <td>2.12</td>\n",
       "    </tr>\n",
       "    <tr>\n",
       "      <th>T test p-value (two-tailed)</th>\n",
       "      <td>0.012</td>\n",
       "      <td>0.009</td>\n",
       "      <td>0.001</td>\n",
       "      <td>0.042</td>\n",
       "      <td>0.041</td>\n",
       "      <td>0.003</td>\n",
       "      <td>0.003</td>\n",
       "      <td>0.024</td>\n",
       "      <td>0.007</td>\n",
       "      <td>0.804</td>\n",
       "      <td>0.045</td>\n",
       "      <td>0.011</td>\n",
       "      <td>0.051</td>\n",
       "      <td>0.071</td>\n",
       "      <td>0.036</td>\n",
       "      <td>0.041</td>\n",
       "    </tr>\n",
       "    <tr>\n",
       "      <th>Levene statistic</th>\n",
       "      <td>0.8</td>\n",
       "      <td>0.0</td>\n",
       "      <td>3.99</td>\n",
       "      <td>0.65</td>\n",
       "      <td>3.55</td>\n",
       "      <td>2.09</td>\n",
       "      <td>5.39</td>\n",
       "      <td>4.78</td>\n",
       "      <td>3.8</td>\n",
       "      <td>0.41</td>\n",
       "      <td>1.47</td>\n",
       "      <td>0.4</td>\n",
       "      <td>2.07</td>\n",
       "      <td>1.3</td>\n",
       "      <td>0.64</td>\n",
       "      <td>3.55</td>\n",
       "    </tr>\n",
       "    <tr>\n",
       "      <th>Levene p-value</th>\n",
       "      <td>0.373</td>\n",
       "      <td>0.959</td>\n",
       "      <td>0.049</td>\n",
       "      <td>0.423</td>\n",
       "      <td>0.063</td>\n",
       "      <td>0.152</td>\n",
       "      <td>0.023</td>\n",
       "      <td>0.032</td>\n",
       "      <td>0.055</td>\n",
       "      <td>0.525</td>\n",
       "      <td>0.229</td>\n",
       "      <td>0.528</td>\n",
       "      <td>0.154</td>\n",
       "      <td>0.257</td>\n",
       "      <td>0.428</td>\n",
       "      <td>0.063</td>\n",
       "    </tr>\n",
       "    <tr>\n",
       "      <th>Effect size (Cohen d)</th>\n",
       "      <td>0.59</td>\n",
       "      <td>0.58</td>\n",
       "      <td>0.74</td>\n",
       "      <td>0.4</td>\n",
       "      <td>0.44</td>\n",
       "      <td>0.63</td>\n",
       "      <td>0.69</td>\n",
       "      <td>0.55</td>\n",
       "      <td>0.67</td>\n",
       "      <td>0.05</td>\n",
       "      <td>-0.46</td>\n",
       "      <td>0.56</td>\n",
       "      <td>-0.47</td>\n",
       "      <td>0.41</td>\n",
       "      <td>0.42</td>\n",
       "      <td>0.44</td>\n",
       "    </tr>\n",
       "  </tbody>\n",
       "</table>\n",
       "</div>"
      ],
      "text/plain": [
       "Parameter                    rrate  hrate ventilation    vo2 vo2rel   vco2  \\\n",
       "Significance level            0.05   0.05        0.05   0.05   0.05   0.05   \n",
       "Degrees of freedom              38     38          38     38     38     38   \n",
       "T critical (two tailed)       2.02   2.02        2.02   2.02   2.02   2.02   \n",
       "T statistic                   2.65   2.75         3.6    2.1   2.12   3.15   \n",
       "T test p-value (two-tailed)  0.012  0.009       0.001  0.042  0.041  0.003   \n",
       "Levene statistic               0.8    0.0        3.99   0.65   3.55   2.09   \n",
       "Levene p-value               0.373  0.959       0.049  0.423  0.063  0.152   \n",
       "Effect size (Cohen d)         0.59   0.58        0.74    0.4   0.44   0.63   \n",
       "\n",
       "Parameter                   vco2rel    rer  vo2eq vo2pulse    fat   carb  \\\n",
       "Significance level             0.05   0.05   0.05     0.05   0.05   0.05   \n",
       "Degrees of freedom               38     38     38       38     38     38   \n",
       "T critical (two tailed)        2.02   2.02   2.02     2.02   2.02   2.02   \n",
       "T statistic                    3.12   2.35   2.83     0.25  -2.07   2.67   \n",
       "T test p-value (two-tailed)   0.003  0.024  0.007    0.804  0.045  0.011   \n",
       "Levene statistic               5.39   4.78    3.8     0.41   1.47    0.4   \n",
       "Levene p-value                0.023  0.032  0.055    0.525  0.229  0.528   \n",
       "Effect size (Cohen d)          0.69   0.55   0.67     0.05  -0.46   0.56   \n",
       "\n",
       "Parameter                   fat100 carb100 energy    met  \n",
       "Significance level            0.05    0.05   0.05   0.05  \n",
       "Degrees of freedom              38      38     38     38  \n",
       "T critical (two tailed)       2.02    2.02   2.02   2.02  \n",
       "T statistic                  -2.02    1.86   2.18   2.12  \n",
       "T test p-value (two-tailed)  0.051   0.071  0.036  0.041  \n",
       "Levene statistic              2.07     1.3   0.64   3.55  \n",
       "Levene p-value               0.154   0.257  0.428  0.063  \n",
       "Effect size (Cohen d)        -0.47    0.41   0.42   0.44  "
      ]
     },
     "execution_count": 564,
     "metadata": {},
     "output_type": "execute_result"
    }
   ],
   "source": [
    "shagg_ttest_res.set_index('Parameter').T"
   ]
  },
  {
   "cell_type": "code",
   "execution_count": 560,
   "id": "af5aa024-a4a0-4250-a997-375f737da7e7",
   "metadata": {},
   "outputs": [],
   "source": [
    "# shagg_ttest_res.set_index('Parameter').T.to_excel('ttagg.xlsx')"
   ]
  },
  {
   "cell_type": "code",
   "execution_count": 509,
   "id": "b485a413-f699-4480-ac20-f22fcfd6a311",
   "metadata": {},
   "outputs": [],
   "source": [
    "short_to_long = dict(zip(short_param_order,param_order))"
   ]
  },
  {
   "cell_type": "code",
   "execution_count": 517,
   "id": "96d1de8c-2837-4c1a-bfbb-791515adc1e8",
   "metadata": {},
   "outputs": [],
   "source": [
    "# for i, j in amagg.groupby('parameter', sort=False):\n",
    "#     mpl.pyplot.figure(figsize=(14,6))\n",
    "#     sns.set_style(\"whitegrid\")\n",
    "#     sns.catplot(data=j,\n",
    "#                 #col='sex',\n",
    "#                 x='sex', y='mean_l',\n",
    "#                 hue='time', hue_order=['i','f'],\n",
    "#                 sharex=False, sharey=True,\n",
    "#                 kind='violin', dodge=True,\n",
    "#                ).set_ylabels(short_to_long[i])\n",
    "#     plt.savefig(f'figures/agg/simple/{i.replace(\"/\",\" \")}-simple-violin.pdf')\n",
    "#     plt.savefig(f'figures/agg/simple/{i.replace(\"/\",\" \")}-simple-violin.svg')"
   ]
  }
 ],
 "metadata": {
  "kernelspec": {
   "display_name": "venvstats",
   "language": "python",
   "name": "venvstats"
  },
  "language_info": {
   "codemirror_mode": {
    "name": "ipython",
    "version": 3
   },
   "file_extension": ".py",
   "mimetype": "text/x-python",
   "name": "python",
   "nbconvert_exporter": "python",
   "pygments_lexer": "ipython3",
   "version": "3.9.13"
  }
 },
 "nbformat": 4,
 "nbformat_minor": 5
}
