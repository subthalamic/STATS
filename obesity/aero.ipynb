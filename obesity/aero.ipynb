{
 "cells": [
  {
   "cell_type": "code",
   "execution_count": 1,
   "id": "deb92983-5dfc-4ee2-8372-4a5a033cc6e9",
   "metadata": {},
   "outputs": [],
   "source": [
    "import pandas as pd\n",
    "import numpy as np\n",
    "import matplotlib.pyplot as plt\n",
    "import seaborn as sns\n",
    "from scipy import stats as st\n",
    "import matplotlib as mpl\n",
    "mpl.rcParams['pdf.fonttype'] = 42"
   ]
  },
  {
   "cell_type": "code",
   "execution_count": 2,
   "id": "972fa785-cdf3-475b-8486-e4206625ff07",
   "metadata": {},
   "outputs": [],
   "source": [
    "def cohen_glass_hedges(x,y):\n",
    "    nx = len(x)\n",
    "    ny = len(y)\n",
    "    pstdnmr = (nx-1)*x.var(ddof=1) + (ny-1)*y.var(ddof=1)   # (n-1)(var1+var2)\n",
    "    pstddnm = nx + ny - 2                                   # (n-1)*2\n",
    "    pstd = (pstdnmr / pstddnm)**(0.5)\n",
    "    cohen = (x.mean() - y.mean()) / pstd\n",
    "    glass = (x.mean() - y.mean()) / x.std(ddof=1)\n",
    "    hedges = cohen * (1 - 3/(4 * (nx+ny) - 9) )             # cohen * (1-3/(8*n-9))\n",
    "    return (cohen, glass, hedges)"
   ]
  },
  {
   "cell_type": "code",
   "execution_count": 3,
   "id": "ad5e3cf5-15e2-4e08-981c-14c6c0f686fe",
   "metadata": {},
   "outputs": [],
   "source": [
    "a = pd.read_csv('aeroscan.csv')"
   ]
  },
  {
   "cell_type": "markdown",
   "id": "91e0301b-ba72-4dd0-bd2f-5982fca9a079",
   "metadata": {},
   "source": [
    "#### Dataset parameter description\n",
    "\n",
    "1. RF – Respiratory frequency (breaths/minute)\n",
    "2. HF – Heart rate (beats/minute)\n",
    "3. RER – The ratio of exhaled CO2 to inspired O2 (respiratory exchange rate)\n",
    "4. Fat - kcal/h fat consumed\n",
    "5. Carb - kcal/h carbohydrates consumed\n",
    "6. Energy – kcal/h total energy consumed\n",
    "\n",
    "* 1, 2, 3 - effort level\n",
    "* a, b - before/after treatment"
   ]
  },
  {
   "cell_type": "code",
   "execution_count": 6,
   "id": "3b5428c3-bf45-4540-9400-c8952995e5da",
   "metadata": {},
   "outputs": [
    {
     "data": {
      "text/plain": [
       "(39, 37)"
      ]
     },
     "execution_count": 6,
     "metadata": {},
     "output_type": "execute_result"
    }
   ],
   "source": [
    "a.shape"
   ]
  },
  {
   "cell_type": "code",
   "execution_count": 9,
   "id": "1420d250-201b-40c1-b9d4-a676ca996f27",
   "metadata": {},
   "outputs": [
    {
     "data": {
      "text/plain": [
       "Index(['Name', 'RF1a', 'RF1b', 'RF2a', 'RF2b', 'RF3a', 'RF3b', 'HF1a', 'HF1b',\n",
       "       'HF2a', 'HF2b', 'HF3a', 'HF3b', 'RER1a', 'RER1b', 'RER2a', 'RER2b',\n",
       "       'RER3a', 'RER3b', 'Fat1a', 'Fat1b', 'Fat2a', 'Fat2b', 'Fat3a', 'Fat3b',\n",
       "       'Carb1a', 'Carb1b', 'Carb2a', 'Carb2b', 'Carb3a', 'Carb3b', 'Energy1a',\n",
       "       'Energy1b', 'Energy2a', 'Energy2b', 'Energy3a', 'Energy3b'],\n",
       "      dtype='object')"
      ]
     },
     "execution_count": 9,
     "metadata": {},
     "output_type": "execute_result"
    }
   ],
   "source": [
    "a.columns"
   ]
  },
  {
   "cell_type": "code",
   "execution_count": null,
   "id": "6d529196-7591-43e9-b99f-5a54344ca70b",
   "metadata": {},
   "outputs": [],
   "source": []
  }
 ],
 "metadata": {
  "kernelspec": {
   "display_name": "venvstats",
   "language": "python",
   "name": "venvstats"
  },
  "language_info": {
   "codemirror_mode": {
    "name": "ipython",
    "version": 3
   },
   "file_extension": ".py",
   "mimetype": "text/x-python",
   "name": "python",
   "nbconvert_exporter": "python",
   "pygments_lexer": "ipython3",
   "version": "3.9.13"
  }
 },
 "nbformat": 4,
 "nbformat_minor": 5
}
