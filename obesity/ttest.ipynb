{
 "cells": [
  {
   "cell_type": "code",
   "execution_count": 1,
   "metadata": {},
   "outputs": [],
   "source": [
    "import pandas as pd\n",
    "import numpy as np\n",
    "import matplotlib.pyplot as plt\n",
    "import seaborn as sns\n",
    "from scipy import stats as st\n",
    "import matplotlib as mpl\n",
    "mpl.rcParams['pdf.fonttype'] = 42"
   ]
  },
  {
   "cell_type": "code",
   "execution_count": 2,
   "metadata": {},
   "outputs": [],
   "source": [
    "m=pd.read_csv(\"measurements.csv\")"
   ]
  },
  {
   "cell_type": "code",
   "execution_count": 3,
   "metadata": {},
   "outputs": [
    {
     "data": {
      "text/plain": [
       "Index(['ID', 'group', 'sex', 'birth_year', 'chol_init', 'chol_final',\n",
       "       'trig_init', 'trig_final', 'weight_init', 'weight_final', 'weight_diff',\n",
       "       'height_init', 'height_final', 'height_diff', 'armspan_init',\n",
       "       'armspan_final', 'armspan_diff', 'arm_perimeter_init',\n",
       "       'arm_periemter_final', 'arm_perimeter_diff', 'thorax_perimeter_init',\n",
       "       'thorax_perimeter_final', 'thorax_perimeter_diff',\n",
       "       'abdominal_perimeter_init', 'abdominal_perimeter_final',\n",
       "       'abdominal_perimeter_diff', 'hip_perimeter_init', 'hip_perimeter_final',\n",
       "       'hip_perimeter_diff', 'BMI_init', 'BMI_final', 'BMI_diff',\n",
       "       'tricipital_fold_final', 'tricipital_fold_init', 'abdominal_fold_final',\n",
       "       'abdominal_fold_init', 'subscapular_fold_final',\n",
       "       'subscapular_fold_init'],\n",
       "      dtype='object')"
      ]
     },
     "execution_count": 3,
     "metadata": {},
     "output_type": "execute_result"
    }
   ],
   "source": [
    "m.columns"
   ]
  },
  {
   "cell_type": "code",
   "execution_count": 4,
   "metadata": {},
   "outputs": [
    {
     "data": {
      "text/plain": [
       "TtestResult(statistic=15.44905555532676, pvalue=3.248017323055811e-18, df=39)"
      ]
     },
     "execution_count": 4,
     "metadata": {},
     "output_type": "execute_result"
    }
   ],
   "source": [
    "st.ttest_rel(m.chol_init[:40], m.chol_final[:40])"
   ]
  },
  {
   "cell_type": "code",
   "execution_count": 5,
   "metadata": {},
   "outputs": [
    {
     "data": {
      "text/plain": [
       "-1.6848751194974"
      ]
     },
     "execution_count": 5,
     "metadata": {},
     "output_type": "execute_result"
    }
   ],
   "source": [
    "st.t.ppf(0.05,39)"
   ]
  },
  {
   "cell_type": "code",
   "execution_count": 6,
   "metadata": {},
   "outputs": [
    {
     "data": {
      "text/plain": [
       "-2.0226909117347285"
      ]
     },
     "execution_count": 6,
     "metadata": {},
     "output_type": "execute_result"
    }
   ],
   "source": [
    "st.t.ppf(0.025,39)"
   ]
  },
  {
   "cell_type": "code",
   "execution_count": 7,
   "metadata": {},
   "outputs": [],
   "source": [
    "descr = m.loc[:39,['chol_init', 'chol_final','trig_init', 'trig_final']].agg(['count', 'median', 'mean', 'min', 'max', 'std', 'var',\n",
    "    lambda x: st.kurtosis(x.copy()), lambda y: st.skew(y.copy()), lambda z: st.shapiro(z)[0],  lambda z: st.shapiro(z)[1]])"
   ]
  },
  {
   "cell_type": "code",
   "execution_count": 8,
   "metadata": {},
   "outputs": [],
   "source": [
    "descr.index = ['N', 'df', 'media', 'valoarea minima', 'valoarea maxima', 'deviatia standard', 'varianta', 'Kurtosis (boltire)',\n",
    "       'Skewness (asimetrie)', 'statistica Shapiro', 'valoarea p Shapiro']"
   ]
  },
  {
   "cell_type": "code",
   "execution_count": 9,
   "metadata": {},
   "outputs": [],
   "source": [
    "descr.loc['df'] = 39"
   ]
  },
  {
   "cell_type": "code",
   "execution_count": 10,
   "metadata": {},
   "outputs": [],
   "source": [
    "#descr.loc['normalitate'] = ['Nu','Nu','Da','Da']"
   ]
  },
  {
   "cell_type": "code",
   "execution_count": 11,
   "metadata": {
    "scrolled": true
   },
   "outputs": [],
   "source": [
    "descr.round(2).to_csv('descr.csv')"
   ]
  },
  {
   "cell_type": "code",
   "execution_count": 12,
   "metadata": {},
   "outputs": [
    {
     "data": {
      "text/html": [
       "<div>\n",
       "<style scoped>\n",
       "    .dataframe tbody tr th:only-of-type {\n",
       "        vertical-align: middle;\n",
       "    }\n",
       "\n",
       "    .dataframe tbody tr th {\n",
       "        vertical-align: top;\n",
       "    }\n",
       "\n",
       "    .dataframe thead th {\n",
       "        text-align: right;\n",
       "    }\n",
       "</style>\n",
       "<table border=\"1\" class=\"dataframe\">\n",
       "  <thead>\n",
       "    <tr style=\"text-align: right;\">\n",
       "      <th></th>\n",
       "      <th>chol_init</th>\n",
       "      <th>chol_final</th>\n",
       "      <th>trig_init</th>\n",
       "      <th>trig_final</th>\n",
       "    </tr>\n",
       "  </thead>\n",
       "  <tbody>\n",
       "    <tr>\n",
       "      <th>N</th>\n",
       "      <td>40.000000</td>\n",
       "      <td>40.000000</td>\n",
       "      <td>40.000000</td>\n",
       "      <td>40.000000</td>\n",
       "    </tr>\n",
       "    <tr>\n",
       "      <th>df</th>\n",
       "      <td>39.000000</td>\n",
       "      <td>39.000000</td>\n",
       "      <td>39.000000</td>\n",
       "      <td>39.000000</td>\n",
       "    </tr>\n",
       "    <tr>\n",
       "      <th>media</th>\n",
       "      <td>178.925000</td>\n",
       "      <td>173.100000</td>\n",
       "      <td>82.875000</td>\n",
       "      <td>77.625000</td>\n",
       "    </tr>\n",
       "    <tr>\n",
       "      <th>valoarea minima</th>\n",
       "      <td>163.000000</td>\n",
       "      <td>157.000000</td>\n",
       "      <td>63.000000</td>\n",
       "      <td>68.000000</td>\n",
       "    </tr>\n",
       "    <tr>\n",
       "      <th>valoarea maxima</th>\n",
       "      <td>188.000000</td>\n",
       "      <td>183.000000</td>\n",
       "      <td>105.000000</td>\n",
       "      <td>97.000000</td>\n",
       "    </tr>\n",
       "    <tr>\n",
       "      <th>deviatia standard</th>\n",
       "      <td>7.532451</td>\n",
       "      <td>6.845549</td>\n",
       "      <td>8.376363</td>\n",
       "      <td>7.249005</td>\n",
       "    </tr>\n",
       "    <tr>\n",
       "      <th>varianta</th>\n",
       "      <td>56.737821</td>\n",
       "      <td>46.861538</td>\n",
       "      <td>70.163462</td>\n",
       "      <td>52.548077</td>\n",
       "    </tr>\n",
       "    <tr>\n",
       "      <th>Kurtosis (boltire)</th>\n",
       "      <td>-0.304792</td>\n",
       "      <td>-0.296443</td>\n",
       "      <td>0.105762</td>\n",
       "      <td>-0.331084</td>\n",
       "    </tr>\n",
       "    <tr>\n",
       "      <th>Skewness (asimetrie)</th>\n",
       "      <td>-0.738798</td>\n",
       "      <td>-0.659917</td>\n",
       "      <td>0.203124</td>\n",
       "      <td>0.504781</td>\n",
       "    </tr>\n",
       "    <tr>\n",
       "      <th>statistica Shapiro</th>\n",
       "      <td>0.904306</td>\n",
       "      <td>0.940077</td>\n",
       "      <td>0.971978</td>\n",
       "      <td>0.948868</td>\n",
       "    </tr>\n",
       "    <tr>\n",
       "      <th>valoarea p Shapiro</th>\n",
       "      <td>0.002557</td>\n",
       "      <td>0.034786</td>\n",
       "      <td>0.414827</td>\n",
       "      <td>0.069329</td>\n",
       "    </tr>\n",
       "  </tbody>\n",
       "</table>\n",
       "</div>"
      ],
      "text/plain": [
       "                       chol_init  chol_final   trig_init  trig_final\n",
       "N                      40.000000   40.000000   40.000000   40.000000\n",
       "df                     39.000000   39.000000   39.000000   39.000000\n",
       "media                 178.925000  173.100000   82.875000   77.625000\n",
       "valoarea minima       163.000000  157.000000   63.000000   68.000000\n",
       "valoarea maxima       188.000000  183.000000  105.000000   97.000000\n",
       "deviatia standard       7.532451    6.845549    8.376363    7.249005\n",
       "varianta               56.737821   46.861538   70.163462   52.548077\n",
       "Kurtosis (boltire)     -0.304792   -0.296443    0.105762   -0.331084\n",
       "Skewness (asimetrie)   -0.738798   -0.659917    0.203124    0.504781\n",
       "statistica Shapiro      0.904306    0.940077    0.971978    0.948868\n",
       "valoarea p Shapiro      0.002557    0.034786    0.414827    0.069329"
      ]
     },
     "execution_count": 12,
     "metadata": {},
     "output_type": "execute_result"
    }
   ],
   "source": [
    "descr"
   ]
  },
  {
   "cell_type": "code",
   "execution_count": 13,
   "metadata": {},
   "outputs": [
    {
     "data": {
      "text/html": [
       "<div>\n",
       "<style scoped>\n",
       "    .dataframe tbody tr th:only-of-type {\n",
       "        vertical-align: middle;\n",
       "    }\n",
       "\n",
       "    .dataframe tbody tr th {\n",
       "        vertical-align: top;\n",
       "    }\n",
       "\n",
       "    .dataframe thead th {\n",
       "        text-align: right;\n",
       "    }\n",
       "</style>\n",
       "<table border=\"1\" class=\"dataframe\">\n",
       "  <thead>\n",
       "    <tr style=\"text-align: right;\">\n",
       "      <th></th>\n",
       "      <th>statistica_t</th>\n",
       "      <th>t_critic_unidirectional</th>\n",
       "      <th>t_critic_bidirectional</th>\n",
       "      <th>valoare_p_bidir</th>\n",
       "      <th>valoare_p_unidir</th>\n",
       "      <th>alfa</th>\n",
       "      <th>levene_stat</th>\n",
       "      <th>levene_p</th>\n",
       "      <th>cohen_d</th>\n",
       "      <th>glass_delta</th>\n",
       "      <th>hedges_g</th>\n",
       "      <th>pearson_correlation</th>\n",
       "    </tr>\n",
       "  </thead>\n",
       "  <tbody>\n",
       "    <tr>\n",
       "      <th>colesterol</th>\n",
       "      <td>NaN</td>\n",
       "      <td>NaN</td>\n",
       "      <td>NaN</td>\n",
       "      <td>NaN</td>\n",
       "      <td>NaN</td>\n",
       "      <td>NaN</td>\n",
       "      <td>NaN</td>\n",
       "      <td>NaN</td>\n",
       "      <td>NaN</td>\n",
       "      <td>NaN</td>\n",
       "      <td>NaN</td>\n",
       "      <td>NaN</td>\n",
       "    </tr>\n",
       "    <tr>\n",
       "      <th>trigliceride</th>\n",
       "      <td>NaN</td>\n",
       "      <td>NaN</td>\n",
       "      <td>NaN</td>\n",
       "      <td>NaN</td>\n",
       "      <td>NaN</td>\n",
       "      <td>NaN</td>\n",
       "      <td>NaN</td>\n",
       "      <td>NaN</td>\n",
       "      <td>NaN</td>\n",
       "      <td>NaN</td>\n",
       "      <td>NaN</td>\n",
       "      <td>NaN</td>\n",
       "    </tr>\n",
       "  </tbody>\n",
       "</table>\n",
       "</div>"
      ],
      "text/plain": [
       "             statistica_t t_critic_unidirectional t_critic_bidirectional  \\\n",
       "colesterol            NaN                     NaN                    NaN   \n",
       "trigliceride          NaN                     NaN                    NaN   \n",
       "\n",
       "             valoare_p_bidir valoare_p_unidir alfa levene_stat levene_p  \\\n",
       "colesterol               NaN              NaN  NaN         NaN      NaN   \n",
       "trigliceride             NaN              NaN  NaN         NaN      NaN   \n",
       "\n",
       "             cohen_d glass_delta hedges_g pearson_correlation  \n",
       "colesterol       NaN         NaN      NaN                 NaN  \n",
       "trigliceride     NaN         NaN      NaN                 NaN  "
      ]
     },
     "execution_count": 13,
     "metadata": {},
     "output_type": "execute_result"
    }
   ],
   "source": [
    "tests = pd.DataFrame(columns=['statistica_t', 't_critic_unidirectional', 't_critic_bidirectional',\n",
    "                              'valoare_p_bidir', 'valoare_p_unidir', 'alfa', 'levene_stat', 'levene_p',\n",
    "                              'cohen_d', 'glass_delta', 'hedges_g', 'pearson_correlation'], index = ['colesterol', 'trigliceride'])\n",
    "tests"
   ]
  },
  {
   "cell_type": "code",
   "execution_count": 14,
   "metadata": {},
   "outputs": [
    {
     "data": {
      "text/html": [
       "<div>\n",
       "<style scoped>\n",
       "    .dataframe tbody tr th:only-of-type {\n",
       "        vertical-align: middle;\n",
       "    }\n",
       "\n",
       "    .dataframe tbody tr th {\n",
       "        vertical-align: top;\n",
       "    }\n",
       "\n",
       "    .dataframe thead th {\n",
       "        text-align: right;\n",
       "    }\n",
       "</style>\n",
       "<table border=\"1\" class=\"dataframe\">\n",
       "  <thead>\n",
       "    <tr style=\"text-align: right;\">\n",
       "      <th></th>\n",
       "      <th>colesterol</th>\n",
       "      <th>trigliceride</th>\n",
       "    </tr>\n",
       "  </thead>\n",
       "  <tbody>\n",
       "    <tr>\n",
       "      <th>statistica_t</th>\n",
       "      <td>15.45</td>\n",
       "      <td>9.39</td>\n",
       "    </tr>\n",
       "    <tr>\n",
       "      <th>t_critic_unidirectional</th>\n",
       "      <td>-1.684875</td>\n",
       "      <td>-1.684875</td>\n",
       "    </tr>\n",
       "    <tr>\n",
       "      <th>t_critic_bidirectional</th>\n",
       "      <td>-2.022691</td>\n",
       "      <td>-2.022691</td>\n",
       "    </tr>\n",
       "    <tr>\n",
       "      <th>valoare_p_bidir</th>\n",
       "      <td>3.248017e-18</td>\n",
       "      <td>1.468333e-11</td>\n",
       "    </tr>\n",
       "    <tr>\n",
       "      <th>valoare_p_unidir</th>\n",
       "      <td>1.624009e-18</td>\n",
       "      <td>7.341666e-12</td>\n",
       "    </tr>\n",
       "    <tr>\n",
       "      <th>alfa</th>\n",
       "      <td>0.05</td>\n",
       "      <td>0.05</td>\n",
       "    </tr>\n",
       "    <tr>\n",
       "      <th>levene_stat</th>\n",
       "      <td>0.25</td>\n",
       "      <td>0.63</td>\n",
       "    </tr>\n",
       "    <tr>\n",
       "      <th>levene_p</th>\n",
       "      <td>0.62</td>\n",
       "      <td>0.43</td>\n",
       "    </tr>\n",
       "    <tr>\n",
       "      <th>cohen_d</th>\n",
       "      <td>NaN</td>\n",
       "      <td>NaN</td>\n",
       "    </tr>\n",
       "    <tr>\n",
       "      <th>glass_delta</th>\n",
       "      <td>NaN</td>\n",
       "      <td>NaN</td>\n",
       "    </tr>\n",
       "    <tr>\n",
       "      <th>hedges_g</th>\n",
       "      <td>NaN</td>\n",
       "      <td>NaN</td>\n",
       "    </tr>\n",
       "    <tr>\n",
       "      <th>pearson_correlation</th>\n",
       "      <td>0.95</td>\n",
       "      <td>0.91</td>\n",
       "    </tr>\n",
       "  </tbody>\n",
       "</table>\n",
       "</div>"
      ],
      "text/plain": [
       "                           colesterol  trigliceride\n",
       "statistica_t                    15.45          9.39\n",
       "t_critic_unidirectional     -1.684875     -1.684875\n",
       "t_critic_bidirectional      -2.022691     -2.022691\n",
       "valoare_p_bidir          3.248017e-18  1.468333e-11\n",
       "valoare_p_unidir         1.624009e-18  7.341666e-12\n",
       "alfa                             0.05          0.05\n",
       "levene_stat                      0.25          0.63\n",
       "levene_p                         0.62          0.43\n",
       "cohen_d                           NaN           NaN\n",
       "glass_delta                       NaN           NaN\n",
       "hedges_g                          NaN           NaN\n",
       "pearson_correlation              0.95          0.91"
      ]
     },
     "execution_count": 14,
     "metadata": {},
     "output_type": "execute_result"
    }
   ],
   "source": [
    "tests.t_critic_unidirectional = st.t.ppf(0.05,39)\n",
    "tests.t_critic_bidirectional = st.t.ppf(0.025,39)\n",
    "tests.alfa = 0.05\n",
    "\n",
    "tests.loc['colesterol','statistica_t'] = '{:.2f}'.format(st.ttest_rel(m.chol_init[:40], m.chol_final[:40])[0])\n",
    "tests.loc['colesterol','valoare_p_bidir'] = \"{:e}\".format(st.ttest_rel(m.chol_init[:40], m.chol_final[:40])[1])\n",
    "tests.loc['colesterol','valoare_p_unidir'] = \"{:e}\".format(st.ttest_rel(m.chol_init[:40], m.chol_final[:40], alternative = 'greater')[1])\n",
    "tests.loc['trigliceride','statistica_t'] = '{:.2f}'.format(st.ttest_rel(m.trig_init[:40], m.trig_final[:40])[0])\n",
    "tests.loc['trigliceride','valoare_p_bidir'] = \"{:e}\".format(st.ttest_rel(m.trig_init[:40], m.trig_final[:40])[1])\n",
    "tests.loc['trigliceride','valoare_p_unidir'] = \"{:e}\".format(st.ttest_rel(m.trig_init[:40], m.trig_final[:40], alternative = 'greater')[1])\n",
    "\n",
    "tests.loc['colesterol','levene_stat'] = '{:.2f}'.format(st.levene(m.chol_init[:40], m.chol_final[:40])[0])\n",
    "tests.loc['colesterol','levene_p'] = '{:.2f}'.format(st.levene(m.chol_init[:40], m.chol_final[:40])[1])\n",
    "tests.loc['trigliceride','levene_stat'] = '{:.2f}'.format(st.levene(m.trig_init[:40], m.trig_final[:40])[0])\n",
    "tests.loc['trigliceride','levene_p'] = '{:.2f}'.format(st.levene(m.trig_init[:40], m.trig_final[:40])[1])\n",
    "\n",
    "tests.loc['colesterol', 'pearson_correlation'] = '{:.2f}'.format(m.loc[:39,['chol_init','chol_final']].corr().iloc[0,1])\n",
    "tests.loc['trigliceride', 'pearson_correlation'] = '{:.2f}'.format(m.loc[:39,['trig_init','trig_final']].corr().iloc[0,1])\n",
    "\n",
    "tests.T"
   ]
  },
  {
   "cell_type": "code",
   "execution_count": 15,
   "metadata": {},
   "outputs": [
    {
     "data": {
      "text/html": [
       "<div>\n",
       "<style scoped>\n",
       "    .dataframe tbody tr th:only-of-type {\n",
       "        vertical-align: middle;\n",
       "    }\n",
       "\n",
       "    .dataframe tbody tr th {\n",
       "        vertical-align: top;\n",
       "    }\n",
       "\n",
       "    .dataframe thead th {\n",
       "        text-align: right;\n",
       "    }\n",
       "</style>\n",
       "<table border=\"1\" class=\"dataframe\">\n",
       "  <thead>\n",
       "    <tr style=\"text-align: right;\">\n",
       "      <th></th>\n",
       "      <th>statistica_t</th>\n",
       "      <th>t_critic_unidirectional</th>\n",
       "      <th>t_critic_bidirectional</th>\n",
       "      <th>valoare_p_bidir</th>\n",
       "      <th>valoare_p_unidir</th>\n",
       "      <th>alfa</th>\n",
       "      <th>levene_stat</th>\n",
       "      <th>levene_p</th>\n",
       "      <th>cohen_d</th>\n",
       "      <th>glass_delta</th>\n",
       "      <th>hedges_g</th>\n",
       "      <th>pearson_correlation</th>\n",
       "    </tr>\n",
       "  </thead>\n",
       "  <tbody>\n",
       "    <tr>\n",
       "      <th>colesterol</th>\n",
       "      <td>15.45</td>\n",
       "      <td>-1.684875</td>\n",
       "      <td>-2.022691</td>\n",
       "      <td>3.248017e-18</td>\n",
       "      <td>1.624009e-18</td>\n",
       "      <td>0.05</td>\n",
       "      <td>0.25</td>\n",
       "      <td>0.62</td>\n",
       "      <td>0.809343</td>\n",
       "      <td>0.773321</td>\n",
       "      <td>0.801535</td>\n",
       "      <td>0.95</td>\n",
       "    </tr>\n",
       "    <tr>\n",
       "      <th>trigliceride</th>\n",
       "      <td>9.39</td>\n",
       "      <td>-1.684875</td>\n",
       "      <td>-2.022691</td>\n",
       "      <td>1.468333e-11</td>\n",
       "      <td>7.341666e-12</td>\n",
       "      <td>0.05</td>\n",
       "      <td>0.63</td>\n",
       "      <td>0.43</td>\n",
       "      <td>0.670242</td>\n",
       "      <td>0.626764</td>\n",
       "      <td>0.663777</td>\n",
       "      <td>0.91</td>\n",
       "    </tr>\n",
       "  </tbody>\n",
       "</table>\n",
       "</div>"
      ],
      "text/plain": [
       "             statistica_t  t_critic_unidirectional  t_critic_bidirectional  \\\n",
       "colesterol          15.45                -1.684875               -2.022691   \n",
       "trigliceride         9.39                -1.684875               -2.022691   \n",
       "\n",
       "             valoare_p_bidir valoare_p_unidir  alfa levene_stat levene_p  \\\n",
       "colesterol      3.248017e-18     1.624009e-18  0.05        0.25     0.62   \n",
       "trigliceride    1.468333e-11     7.341666e-12  0.05        0.63     0.43   \n",
       "\n",
       "               cohen_d glass_delta  hedges_g pearson_correlation  \n",
       "colesterol    0.809343    0.773321  0.801535                0.95  \n",
       "trigliceride  0.670242    0.626764  0.663777                0.91  "
      ]
     },
     "execution_count": 15,
     "metadata": {},
     "output_type": "execute_result"
    }
   ],
   "source": [
    "def cohen_glass_hedges(x,y):\n",
    "    nx = len(x)\n",
    "    ny = len(y)\n",
    "    pstdnmr = (nx-1)*x.var(ddof=1) + (ny-1)*y.var(ddof=1)   # (n-1)(var1+var2)\n",
    "    pstddnm = nx + ny - 2                                   # (n-1)*2\n",
    "    pstd = (pstdnmr / pstddnm)**(0.5)\n",
    "    cohen = (x.mean() - y.mean()) / pstd\n",
    "    glass = (x.mean() - y.mean()) / x.std(ddof=1)\n",
    "    hedges = cohen * (1 - 3/(4 * (nx+ny) - 9) )             # cohen * (1-3/(8*n-9))\n",
    "    return (cohen, glass, hedges)\n",
    "tests.loc['colesterol',['cohen_d', 'glass_delta', 'hedges_g']] = cohen_glass_hedges(m.chol_init[:40], m.chol_final[:40])\n",
    "tests.loc['trigliceride',['cohen_d', 'glass_delta', 'hedges_g']] = cohen_glass_hedges(m.trig_init[:40], m.trig_final[:40])\n",
    "tests"
   ]
  },
  {
   "cell_type": "code",
   "execution_count": 16,
   "metadata": {},
   "outputs": [
    {
     "data": {
      "text/plain": [
       "Index(['statistica_t', 't_critic_unidirectional', 't_critic_bidirectional',\n",
       "       'valoare_p_bidir', 'valoare_p_unidir', 'alfa', 'levene_stat',\n",
       "       'levene_p', 'cohen_d', 'glass_delta', 'hedges_g',\n",
       "       'pearson_correlation'],\n",
       "      dtype='object')"
      ]
     },
     "execution_count": 16,
     "metadata": {},
     "output_type": "execute_result"
    }
   ],
   "source": [
    "tests.columns"
   ]
  },
  {
   "cell_type": "code",
   "execution_count": 17,
   "metadata": {},
   "outputs": [],
   "source": [
    "tests.columns = ['statistica t', 't critic unidirectional', 't critic bidirectional',\n",
    "       'valoare p bidirectionala', 'valoare p unidirectionala', 'prag de semnificatie', 'statistica Levene',\n",
    "       'valoarea p Levene', 'Cohen d', 'Glass delta', 'Hedges g', 'corelatia Pearson']"
   ]
  },
  {
   "cell_type": "code",
   "execution_count": 18,
   "metadata": {},
   "outputs": [],
   "source": [
    "tests.T.to_csv('tests.csv')"
   ]
  },
  {
   "cell_type": "code",
   "execution_count": 19,
   "metadata": {},
   "outputs": [],
   "source": [
    "cholsn = m.loc[:39,['sex','chol_init','chol_final']].melt(id_vars='sex', value_vars=['chol_init','chol_final'], var_name='timp', value_name='colesterol')"
   ]
  },
  {
   "cell_type": "code",
   "execution_count": 20,
   "metadata": {},
   "outputs": [
    {
     "data": {
      "text/html": [
       "<div>\n",
       "<style scoped>\n",
       "    .dataframe tbody tr th:only-of-type {\n",
       "        vertical-align: middle;\n",
       "    }\n",
       "\n",
       "    .dataframe tbody tr th {\n",
       "        vertical-align: top;\n",
       "    }\n",
       "\n",
       "    .dataframe thead th {\n",
       "        text-align: right;\n",
       "    }\n",
       "</style>\n",
       "<table border=\"1\" class=\"dataframe\">\n",
       "  <thead>\n",
       "    <tr style=\"text-align: right;\">\n",
       "      <th></th>\n",
       "      <th>0</th>\n",
       "      <th>1</th>\n",
       "      <th>2</th>\n",
       "      <th>3</th>\n",
       "      <th>4</th>\n",
       "      <th>5</th>\n",
       "      <th>6</th>\n",
       "      <th>7</th>\n",
       "      <th>8</th>\n",
       "      <th>9</th>\n",
       "      <th>...</th>\n",
       "      <th>70</th>\n",
       "      <th>71</th>\n",
       "      <th>72</th>\n",
       "      <th>73</th>\n",
       "      <th>74</th>\n",
       "      <th>75</th>\n",
       "      <th>76</th>\n",
       "      <th>77</th>\n",
       "      <th>78</th>\n",
       "      <th>79</th>\n",
       "    </tr>\n",
       "  </thead>\n",
       "  <tbody>\n",
       "    <tr>\n",
       "      <th>sex</th>\n",
       "      <td>f</td>\n",
       "      <td>m</td>\n",
       "      <td>f</td>\n",
       "      <td>f</td>\n",
       "      <td>m</td>\n",
       "      <td>m</td>\n",
       "      <td>m</td>\n",
       "      <td>f</td>\n",
       "      <td>m</td>\n",
       "      <td>f</td>\n",
       "      <td>...</td>\n",
       "      <td>m</td>\n",
       "      <td>m</td>\n",
       "      <td>m</td>\n",
       "      <td>m</td>\n",
       "      <td>f</td>\n",
       "      <td>m</td>\n",
       "      <td>m</td>\n",
       "      <td>m</td>\n",
       "      <td>m</td>\n",
       "      <td>f</td>\n",
       "    </tr>\n",
       "    <tr>\n",
       "      <th>timp</th>\n",
       "      <td>chol_init</td>\n",
       "      <td>chol_init</td>\n",
       "      <td>chol_init</td>\n",
       "      <td>chol_init</td>\n",
       "      <td>chol_init</td>\n",
       "      <td>chol_init</td>\n",
       "      <td>chol_init</td>\n",
       "      <td>chol_init</td>\n",
       "      <td>chol_init</td>\n",
       "      <td>chol_init</td>\n",
       "      <td>...</td>\n",
       "      <td>chol_final</td>\n",
       "      <td>chol_final</td>\n",
       "      <td>chol_final</td>\n",
       "      <td>chol_final</td>\n",
       "      <td>chol_final</td>\n",
       "      <td>chol_final</td>\n",
       "      <td>chol_final</td>\n",
       "      <td>chol_final</td>\n",
       "      <td>chol_final</td>\n",
       "      <td>chol_final</td>\n",
       "    </tr>\n",
       "    <tr>\n",
       "      <th>colesterol</th>\n",
       "      <td>183.0</td>\n",
       "      <td>185.0</td>\n",
       "      <td>185.0</td>\n",
       "      <td>188.0</td>\n",
       "      <td>188.0</td>\n",
       "      <td>175.0</td>\n",
       "      <td>174.0</td>\n",
       "      <td>178.0</td>\n",
       "      <td>182.0</td>\n",
       "      <td>178.0</td>\n",
       "      <td>...</td>\n",
       "      <td>177.0</td>\n",
       "      <td>167.0</td>\n",
       "      <td>169.0</td>\n",
       "      <td>168.0</td>\n",
       "      <td>168.0</td>\n",
       "      <td>182.0</td>\n",
       "      <td>175.0</td>\n",
       "      <td>178.0</td>\n",
       "      <td>161.0</td>\n",
       "      <td>181.0</td>\n",
       "    </tr>\n",
       "  </tbody>\n",
       "</table>\n",
       "<p>3 rows × 80 columns</p>\n",
       "</div>"
      ],
      "text/plain": [
       "                   0          1          2          3          4          5   \\\n",
       "sex                 f          m          f          f          m          m   \n",
       "timp        chol_init  chol_init  chol_init  chol_init  chol_init  chol_init   \n",
       "colesterol      183.0      185.0      185.0      188.0      188.0      175.0   \n",
       "\n",
       "                   6          7          8          9   ...          70  \\\n",
       "sex                 m          f          m          f  ...           m   \n",
       "timp        chol_init  chol_init  chol_init  chol_init  ...  chol_final   \n",
       "colesterol      174.0      178.0      182.0      178.0  ...       177.0   \n",
       "\n",
       "                    71          72          73          74          75  \\\n",
       "sex                  m           m           m           f           m   \n",
       "timp        chol_final  chol_final  chol_final  chol_final  chol_final   \n",
       "colesterol       167.0       169.0       168.0       168.0       182.0   \n",
       "\n",
       "                    76          77          78          79  \n",
       "sex                  m           m           m           f  \n",
       "timp        chol_final  chol_final  chol_final  chol_final  \n",
       "colesterol       175.0       178.0       161.0       181.0  \n",
       "\n",
       "[3 rows x 80 columns]"
      ]
     },
     "execution_count": 20,
     "metadata": {},
     "output_type": "execute_result"
    }
   ],
   "source": [
    "cholsn.T"
   ]
  },
  {
   "cell_type": "code",
   "execution_count": 21,
   "metadata": {},
   "outputs": [],
   "source": [
    "trigsn = m.loc[:39,['sex','trig_init','trig_final']].melt(id_vars='sex', value_vars=['trig_init','trig_final'], var_name='timp', value_name='trigliceride')"
   ]
  },
  {
   "cell_type": "code",
   "execution_count": 22,
   "metadata": {},
   "outputs": [
    {
     "data": {
      "text/html": [
       "<div>\n",
       "<style scoped>\n",
       "    .dataframe tbody tr th:only-of-type {\n",
       "        vertical-align: middle;\n",
       "    }\n",
       "\n",
       "    .dataframe tbody tr th {\n",
       "        vertical-align: top;\n",
       "    }\n",
       "\n",
       "    .dataframe thead th {\n",
       "        text-align: right;\n",
       "    }\n",
       "</style>\n",
       "<table border=\"1\" class=\"dataframe\">\n",
       "  <thead>\n",
       "    <tr style=\"text-align: right;\">\n",
       "      <th></th>\n",
       "      <th>0</th>\n",
       "      <th>1</th>\n",
       "      <th>2</th>\n",
       "      <th>3</th>\n",
       "      <th>4</th>\n",
       "      <th>5</th>\n",
       "      <th>6</th>\n",
       "      <th>7</th>\n",
       "      <th>8</th>\n",
       "      <th>9</th>\n",
       "      <th>...</th>\n",
       "      <th>70</th>\n",
       "      <th>71</th>\n",
       "      <th>72</th>\n",
       "      <th>73</th>\n",
       "      <th>74</th>\n",
       "      <th>75</th>\n",
       "      <th>76</th>\n",
       "      <th>77</th>\n",
       "      <th>78</th>\n",
       "      <th>79</th>\n",
       "    </tr>\n",
       "  </thead>\n",
       "  <tbody>\n",
       "    <tr>\n",
       "      <th>sex</th>\n",
       "      <td>f</td>\n",
       "      <td>m</td>\n",
       "      <td>f</td>\n",
       "      <td>f</td>\n",
       "      <td>m</td>\n",
       "      <td>m</td>\n",
       "      <td>m</td>\n",
       "      <td>f</td>\n",
       "      <td>m</td>\n",
       "      <td>f</td>\n",
       "      <td>...</td>\n",
       "      <td>m</td>\n",
       "      <td>m</td>\n",
       "      <td>m</td>\n",
       "      <td>m</td>\n",
       "      <td>f</td>\n",
       "      <td>m</td>\n",
       "      <td>m</td>\n",
       "      <td>m</td>\n",
       "      <td>m</td>\n",
       "      <td>f</td>\n",
       "    </tr>\n",
       "    <tr>\n",
       "      <th>timp</th>\n",
       "      <td>trig_init</td>\n",
       "      <td>trig_init</td>\n",
       "      <td>trig_init</td>\n",
       "      <td>trig_init</td>\n",
       "      <td>trig_init</td>\n",
       "      <td>trig_init</td>\n",
       "      <td>trig_init</td>\n",
       "      <td>trig_init</td>\n",
       "      <td>trig_init</td>\n",
       "      <td>trig_init</td>\n",
       "      <td>...</td>\n",
       "      <td>trig_final</td>\n",
       "      <td>trig_final</td>\n",
       "      <td>trig_final</td>\n",
       "      <td>trig_final</td>\n",
       "      <td>trig_final</td>\n",
       "      <td>trig_final</td>\n",
       "      <td>trig_final</td>\n",
       "      <td>trig_final</td>\n",
       "      <td>trig_final</td>\n",
       "      <td>trig_final</td>\n",
       "    </tr>\n",
       "    <tr>\n",
       "      <th>trigliceride</th>\n",
       "      <td>74.0</td>\n",
       "      <td>88.0</td>\n",
       "      <td>85.0</td>\n",
       "      <td>96.0</td>\n",
       "      <td>83.0</td>\n",
       "      <td>86.0</td>\n",
       "      <td>96.0</td>\n",
       "      <td>88.0</td>\n",
       "      <td>91.0</td>\n",
       "      <td>75.0</td>\n",
       "      <td>...</td>\n",
       "      <td>83.0</td>\n",
       "      <td>73.0</td>\n",
       "      <td>73.0</td>\n",
       "      <td>76.0</td>\n",
       "      <td>72.0</td>\n",
       "      <td>77.0</td>\n",
       "      <td>71.0</td>\n",
       "      <td>76.0</td>\n",
       "      <td>97.0</td>\n",
       "      <td>83.0</td>\n",
       "    </tr>\n",
       "  </tbody>\n",
       "</table>\n",
       "<p>3 rows × 80 columns</p>\n",
       "</div>"
      ],
      "text/plain": [
       "                     0          1          2          3          4   \\\n",
       "sex                   f          m          f          f          m   \n",
       "timp          trig_init  trig_init  trig_init  trig_init  trig_init   \n",
       "trigliceride       74.0       88.0       85.0       96.0       83.0   \n",
       "\n",
       "                     5          6          7          8          9   ...  \\\n",
       "sex                   m          m          f          m          f  ...   \n",
       "timp          trig_init  trig_init  trig_init  trig_init  trig_init  ...   \n",
       "trigliceride       86.0       96.0       88.0       91.0       75.0  ...   \n",
       "\n",
       "                      70          71          72          73          74  \\\n",
       "sex                    m           m           m           m           f   \n",
       "timp          trig_final  trig_final  trig_final  trig_final  trig_final   \n",
       "trigliceride        83.0        73.0        73.0        76.0        72.0   \n",
       "\n",
       "                      75          76          77          78          79  \n",
       "sex                    m           m           m           m           f  \n",
       "timp          trig_final  trig_final  trig_final  trig_final  trig_final  \n",
       "trigliceride        77.0        71.0        76.0        97.0        83.0  \n",
       "\n",
       "[3 rows x 80 columns]"
      ]
     },
     "execution_count": 22,
     "metadata": {},
     "output_type": "execute_result"
    }
   ],
   "source": [
    "trigsn.T"
   ]
  },
  {
   "cell_type": "code",
   "execution_count": 23,
   "metadata": {},
   "outputs": [
    {
     "data": {
      "image/png": "[encoded data removed]",
      "text/plain": [
       "<Figure size 640x480 with 1 Axes>"
      ]
     },
     "metadata": {},
     "output_type": "display_data"
    }
   ],
   "source": [
    "sns.violinplot(data=cholsn, x='timp', y='colesterol', hue='sex')\n",
    "plt.savefig('violin-colesterol.pdf')"
   ]
  },
  {
   "cell_type": "code",
   "execution_count": 24,
   "metadata": {},
   "outputs": [
    {
     "data": {
      "image/png": "[encoded data removed]",
      "text/plain": [
       "<Figure size 640x480 with 1 Axes>"
      ]
     },
     "metadata": {},
     "output_type": "display_data"
    }
   ],
   "source": [
    "sns.violinplot(data=trigsn, x='timp', y='trigliceride', hue='sex')\n",
    "plt.savefig('violin-trigliceride.pdf')"
   ]
  },
  {
   "cell_type": "code",
   "execution_count": 25,
   "metadata": {},
   "outputs": [
    {
     "data": {
      "image/png": "[encoded data removed]",
      "text/plain": [
       "<Figure size 640x480 with 1 Axes>"
      ]
     },
     "metadata": {},
     "output_type": "display_data"
    }
   ],
   "source": [
    "sns.kdeplot(\n",
    "   data=cholsn, x=\"colesterol\", hue=\"timp\",\n",
    "   fill=True, common_norm=False, palette=\"RdBu\",\n",
    "   alpha=.8, linewidth=0,\n",
    ")\n",
    "plt.savefig('kde-colesterol.pdf')"
   ]
  },
  {
   "cell_type": "code",
   "execution_count": 26,
   "metadata": {},
   "outputs": [
    {
     "data": {
      "image/png": "[encoded data removed]",
      "text/plain": [
       "<Figure size 640x480 with 1 Axes>"
      ]
     },
     "metadata": {},
     "output_type": "display_data"
    }
   ],
   "source": [
    "sns.kdeplot(\n",
    "   data=trigsn, x=\"trigliceride\", hue=\"timp\",\n",
    "   fill=True, common_norm=False, palette=\"RdBu\",\n",
    "   alpha=.8, linewidth=0,\n",
    ")\n",
    "plt.savefig('kde-trigliceride.pdf')"
   ]
  },
  {
   "cell_type": "code",
   "execution_count": 27,
   "metadata": {},
   "outputs": [
    {
     "data": {
      "text/html": [
       "<div>\n",
       "<style scoped>\n",
       "    .dataframe tbody tr th:only-of-type {\n",
       "        vertical-align: middle;\n",
       "    }\n",
       "\n",
       "    .dataframe tbody tr th {\n",
       "        vertical-align: top;\n",
       "    }\n",
       "\n",
       "    .dataframe thead th {\n",
       "        text-align: right;\n",
       "    }\n",
       "</style>\n",
       "<table border=\"1\" class=\"dataframe\">\n",
       "  <thead>\n",
       "    <tr style=\"text-align: right;\">\n",
       "      <th></th>\n",
       "      <th>chol_init</th>\n",
       "      <th>chol_final</th>\n",
       "      <th>trig_init</th>\n",
       "      <th>trig_final</th>\n",
       "      <th>chol_init_m</th>\n",
       "      <th>chol_init_f</th>\n",
       "      <th>chol_final_m</th>\n",
       "      <th>chol_final_f</th>\n",
       "      <th>trig_init_m</th>\n",
       "      <th>trig_init_f</th>\n",
       "      <th>trig_final_m</th>\n",
       "      <th>trig_final_f</th>\n",
       "    </tr>\n",
       "  </thead>\n",
       "  <tbody>\n",
       "    <tr>\n",
       "      <th>0</th>\n",
       "      <td>183.0</td>\n",
       "      <td>177.0</td>\n",
       "      <td>74.0</td>\n",
       "      <td>68.0</td>\n",
       "      <td>NaN</td>\n",
       "      <td>183.0</td>\n",
       "      <td>NaN</td>\n",
       "      <td>177.0</td>\n",
       "      <td>NaN</td>\n",
       "      <td>74.0</td>\n",
       "      <td>NaN</td>\n",
       "      <td>68.0</td>\n",
       "    </tr>\n",
       "    <tr>\n",
       "      <th>1</th>\n",
       "      <td>185.0</td>\n",
       "      <td>179.0</td>\n",
       "      <td>88.0</td>\n",
       "      <td>81.0</td>\n",
       "      <td>185.0</td>\n",
       "      <td>NaN</td>\n",
       "      <td>179.0</td>\n",
       "      <td>NaN</td>\n",
       "      <td>88.0</td>\n",
       "      <td>NaN</td>\n",
       "      <td>81.0</td>\n",
       "      <td>NaN</td>\n",
       "    </tr>\n",
       "    <tr>\n",
       "      <th>2</th>\n",
       "      <td>185.0</td>\n",
       "      <td>180.0</td>\n",
       "      <td>85.0</td>\n",
       "      <td>74.0</td>\n",
       "      <td>NaN</td>\n",
       "      <td>185.0</td>\n",
       "      <td>NaN</td>\n",
       "      <td>180.0</td>\n",
       "      <td>NaN</td>\n",
       "      <td>85.0</td>\n",
       "      <td>NaN</td>\n",
       "      <td>74.0</td>\n",
       "    </tr>\n",
       "  </tbody>\n",
       "</table>\n",
       "</div>"
      ],
      "text/plain": [
       "   chol_init  chol_final  trig_init  trig_final  chol_init_m  chol_init_f  \\\n",
       "0      183.0       177.0       74.0        68.0          NaN        183.0   \n",
       "1      185.0       179.0       88.0        81.0        185.0          NaN   \n",
       "2      185.0       180.0       85.0        74.0          NaN        185.0   \n",
       "\n",
       "   chol_final_m  chol_final_f  trig_init_m  trig_init_f  trig_final_m  \\\n",
       "0           NaN         177.0          NaN         74.0           NaN   \n",
       "1         179.0           NaN         88.0          NaN          81.0   \n",
       "2           NaN         180.0          NaN         85.0           NaN   \n",
       "\n",
       "   trig_final_f  \n",
       "0          68.0  \n",
       "1           NaN  \n",
       "2          74.0  "
      ]
     },
     "execution_count": 27,
     "metadata": {},
     "output_type": "execute_result"
    }
   ],
   "source": [
    "compare = m.loc[:39, ['chol_init', 'chol_final', 'trig_init', 'trig_final']].copy()\n",
    "compare['chol_init_m']=m.groupby('sex').chol_init.get_group('m')\n",
    "compare['chol_init_f']=m.groupby('sex').chol_init.get_group('f')\n",
    "compare['chol_final_m']=m.groupby('sex').chol_final.get_group('m')\n",
    "compare['chol_final_f']=m.groupby('sex').chol_final.get_group('f')\n",
    "compare['trig_init_m']=m.groupby('sex').trig_init.get_group('m')\n",
    "compare['trig_init_f']=m.groupby('sex').trig_init.get_group('f')\n",
    "compare['trig_final_m']=m.groupby('sex').trig_final.get_group('m')\n",
    "compare['trig_final_f']=m.groupby('sex').trig_final.get_group('f')\n",
    "compare.head(3)"
   ]
  },
  {
   "cell_type": "code",
   "execution_count": 28,
   "metadata": {},
   "outputs": [
    {
     "data": {
      "text/plain": [
       "\"compare.loc[:,['chol_init','chol_init_m','chol_init_f']].plot.kde()\\ncompare.loc[:,['chol_final','chol_final_m','chol_final_f']].plot.kde()\\ncompare.loc[:,['trig_init','trig_init_m','trig_init_f']].plot.kde()\\ncompare.loc[:,['trig_final','trig_final_m','trig_final_f']].plot.kde()\""
      ]
     },
     "execution_count": 28,
     "metadata": {},
     "output_type": "execute_result"
    }
   ],
   "source": [
    "'''compare.loc[:,['chol_init','chol_init_m','chol_init_f']].plot.kde()\n",
    "compare.loc[:,['chol_final','chol_final_m','chol_final_f']].plot.kde()\n",
    "compare.loc[:,['trig_init','trig_init_m','trig_init_f']].plot.kde()\n",
    "compare.loc[:,['trig_final','trig_final_m','trig_final_f']].plot.kde()'''"
   ]
  },
  {
   "cell_type": "code",
   "execution_count": null,
   "metadata": {},
   "outputs": [],
   "source": []
  }
 ],
 "metadata": {
  "kernelspec": {
   "display_name": "venvstats",
   "language": "python",
   "name": "venvstats"
  },
  "language_info": {
   "codemirror_mode": {
    "name": "ipython",
    "version": 3
   },
   "file_extension": ".py",
   "mimetype": "text/x-python",
   "name": "python",
   "nbconvert_exporter": "python",
   "pygments_lexer": "ipython3",
   "version": "3.9.13"
  }
 },
 "nbformat": 4,
 "nbformat_minor": 4
}
